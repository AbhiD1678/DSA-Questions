{
 "cells": [
  {
   "cell_type": "code",
   "execution_count": 1,
   "id": "8dcf509d-8dd3-4f15-bc01-f6ea2ceadd6f",
   "metadata": {},
   "outputs": [],
   "source": [
    "def printKDist(root,k):\n",
    "    if root==None:\n",
    "        return\n",
    "    if k==0:\n",
    "        print(root.key,end='')\n",
    "    else:\n",
    "        printKdist(root.left,k-1)\n",
    "        printKdist(root.right,k-1)"
   ]
  },
  {
   "cell_type": "markdown",
   "id": "b114eacc-abf5-4edd-927f-e6207d641a1b",
   "metadata": {},
   "source": [
    "- Time complexity:O(n) where n is number of nodes in the given binary tree\n",
    "\n",
    "- Space Complexity:O(height of the binary tree)\n",
    "\n",
    "- Note:\n",
    "\n",
    "- If it's true print the node:Always check the K distance==0 at every node\n",
    "\n",
    "- the left or right subtree:Decrement the distance by 1 when you are passing to its subtree"
   ]
  },
  {
   "cell_type": "code",
   "execution_count": null,
   "id": "c87acd18-52c5-4a5d-813a-ee28faa1b235",
   "metadata": {},
   "outputs": [],
   "source": []
  }
 ],
 "metadata": {
  "kernelspec": {
   "display_name": "Python 3 (ipykernel)",
   "language": "python",
   "name": "python3"
  },
  "language_info": {
   "codemirror_mode": {
    "name": "ipython",
    "version": 3
   },
   "file_extension": ".py",
   "mimetype": "text/x-python",
   "name": "python",
   "nbconvert_exporter": "python",
   "pygments_lexer": "ipython3",
   "version": "3.12.0"
  }
 },
 "nbformat": 4,
 "nbformat_minor": 5
}
