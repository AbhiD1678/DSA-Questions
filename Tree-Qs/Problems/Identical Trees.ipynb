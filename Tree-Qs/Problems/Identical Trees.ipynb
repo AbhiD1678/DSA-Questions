{
 "cells": [
  {
   "cell_type": "raw",
   "id": "4eb60113-ccb9-457e-83cb-d439d6b33ced",
   "metadata": {},
   "source": [
    "Given two binary trees, the task is to find if both of them are identical or not.\n",
    "Note: You need to return true or false, the printing is done by the driver code.\n",
    "\n",
    "Example 1:\n",
    "\n",
    "Input:\n",
    "     1          1\n",
    "   /   \\      /   \\\n",
    "  2     3    2     3\n",
    "Output: \n",
    "Yes\n",
    "Explanation: \n",
    "There are two trees both having 3 nodes and 2 edges, both trees are identical having the root as 1, left child of 1 is 2 and right child of 1 is 3.\n",
    "Example 2:\n",
    "\n",
    "Input:\n",
    "    1       1\n",
    "  /  \\     /  \\\n",
    " 2    3   3    2\n",
    "Output: \n",
    "No\n",
    "Explanation: There are two trees both having 3 nodes and 2 edges, but both trees are not identical.\n",
    "Your task:\n",
    "Since this is a functional problem you don't have to worry about input, you just have to complete the function isIdentical() that takes two roots as parameters and returns true or false. The printing is done by the driver code.\n",
    "\n",
    "Expected Time Complexity: O(N).\n",
    "Expected Auxiliary Space: O(Height of the Tree).\n",
    "\n",
    "Constraints:\n",
    "1 <= Number of nodes <= 105\n",
    "1 <=Data of a node <= 109\n",
    "\n"
   ]
  },
  {
   "cell_type": "code",
   "execution_count": 1,
   "id": "f63aa24c-cb15-42dc-ba3b-23d756875bda",
   "metadata": {},
   "outputs": [],
   "source": [
    "'''\n",
    "class Node:\n",
    "    def _init_(self, val):\n",
    "        self.right = None\n",
    "        self.data = val\n",
    "        self.left = None\n",
    "'''\n",
    "\n",
    "class Solution:\n",
    "    #Function to check if two trees are identical.\n",
    "    def isIdentical(self,a,b):\n",
    "        if a is None and b is None:\n",
    "           return 1\n",
    "           \n",
    "           \n",
    "        if a is not None and b is not None :\n",
    "            return ((a.data==b.data) and self.isIdentical(a.left,b.left) and self.isIdentical(a.right,b.right))\n",
    "        \n",
    "        return False"
   ]
  },
  {
   "cell_type": "code",
   "execution_count": null,
   "id": "bccb8411-5f29-4134-a0b6-3788146b7561",
   "metadata": {},
   "outputs": [],
   "source": []
  }
 ],
 "metadata": {
  "kernelspec": {
   "display_name": "Python 3 (ipykernel)",
   "language": "python",
   "name": "python3"
  },
  "language_info": {
   "codemirror_mode": {
    "name": "ipython",
    "version": 3
   },
   "file_extension": ".py",
   "mimetype": "text/x-python",
   "name": "python",
   "nbconvert_exporter": "python",
   "pygments_lexer": "ipython3",
   "version": "3.12.0"
  }
 },
 "nbformat": 4,
 "nbformat_minor": 5
}
