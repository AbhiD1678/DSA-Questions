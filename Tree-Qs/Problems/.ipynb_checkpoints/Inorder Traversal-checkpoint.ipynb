{
 "cells": [
  {
   "cell_type": "code",
   "execution_count": 1,
   "id": "ba3099b2-579e-496c-9dbd-c5d17c928f4d",
   "metadata": {},
   "outputs": [
    {
     "name": "stderr",
     "output_type": "stream",
     "text": [
      "<>:1: SyntaxWarning: invalid escape sequence '\\ '\n",
      "<>:1: SyntaxWarning: invalid escape sequence '\\ '\n",
      "C:\\Users\\Abhishek Dubey\\AppData\\Local\\Temp\\ipykernel_16032\\1274456935.py:1: SyntaxWarning: invalid escape sequence '\\ '\n",
      "  '''\n"
     ]
    },
    {
     "data": {
      "text/plain": [
       "\"\\nGiven a Binary Tree, find the In-Order Traversal of it.\\n\\nExample 1:\\n\\nInput:\\n       1\\n     /      3    2\\nOutput: 3 1 2\\n\\nExample 2:\\n\\nInput:\\n        10\\n     /      \\\\ \\n    20       30 \\n  /    \\\\    /\\n 40    60  50\\nOutput: 40 20 60 10 50 30\\n\\nYour Task:\\nYou don't need to read input or print anything. Your task is to complete the function inOrder() that takes root node of the tree as input and returns a list containing the In-Order Traversal of the given Binary Tree.\\n\\nExpected Time Complexity: O(N).\\nExpected Auxiliary Space: O(N).\\n\\nConstraints:\\n1 <= Number of nodes <= 105\\n0 <= Data of a node <= 105\\n \""
      ]
     },
     "execution_count": 1,
     "metadata": {},
     "output_type": "execute_result"
    }
   ],
   "source": [
    "'''\n",
    "Given a Binary Tree, find the In-Order Traversal of it.\n",
    "\n",
    "Example 1:\n",
    "\n",
    "Input:\n",
    "       1\n",
    "     /  \\\n",
    "    3    2\n",
    "Output: 3 1 2\n",
    "\n",
    "Example 2:\n",
    "\n",
    "Input:\n",
    "        10\n",
    "     /      \\ \n",
    "    20       30 \n",
    "  /    \\    /\n",
    " 40    60  50\n",
    "Output: 40 20 60 10 50 30\n",
    "\n",
    "Your Task:\n",
    "You don't need to read input or print anything. Your task is to complete the function inOrder() that takes root node of the tree as input and returns a list containing the In-Order Traversal of the given Binary Tree.\n",
    "\n",
    "Expected Time Complexity: O(N).\n",
    "Expected Auxiliary Space: O(N).\n",
    "\n",
    "Constraints:\n",
    "1 <= Number of nodes <= 105\n",
    "0 <= Data of a node <= 105\n",
    " '''"
   ]
  },
  {
   "cell_type": "code",
   "execution_count": 2,
   "id": "74d4a8ad-b3f3-4a0f-aaae-74a869f2d0d1",
   "metadata": {},
   "outputs": [],
   "source": [
    "#User function Template for python3\n",
    "\n",
    "\n",
    "'''\n",
    "# Node Class:\n",
    "class Node:\n",
    "    def init(self,val):\n",
    "        self.data = val\n",
    "        self.left = None\n",
    "        self.right = None\n",
    "'''\n",
    "\n",
    "#Function to return a list containing the inorder traversal of the tree. \n",
    "class Solution:\n",
    "    def InOrder(self,root):\n",
    "        # code here\n",
    "        res=[]\n",
    "        def traversal(node):\n",
    "            if node==None:\n",
    "                return \n",
    "            traversal(node.left)\n",
    "            res.append(node.data)\n",
    "            traversal(node.right)\n",
    "        traversal(root)\n",
    "        return res\n"
   ]
  },
  {
   "cell_type": "code",
   "execution_count": null,
   "id": "1fdbcaf8-93a2-4a8f-bee6-d2b472a6698b",
   "metadata": {},
   "outputs": [],
   "source": []
  }
 ],
 "metadata": {
  "kernelspec": {
   "display_name": "Python 3 (ipykernel)",
   "language": "python",
   "name": "python3"
  },
  "language_info": {
   "codemirror_mode": {
    "name": "ipython",
    "version": 3
   },
   "file_extension": ".py",
   "mimetype": "text/x-python",
   "name": "python",
   "nbconvert_exporter": "python",
   "pygments_lexer": "ipython3",
   "version": "3.12.0"
  }
 },
 "nbformat": 4,
 "nbformat_minor": 5
}
