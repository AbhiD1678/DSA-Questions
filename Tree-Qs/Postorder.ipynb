{
 "cells": [
  {
   "cell_type": "markdown",
   "id": "33e320f6-ea7b-474e-b4d3-12489b9bb21e",
   "metadata": {},
   "source": [
    "# Travesal order is Left Right Root"
   ]
  },
  {
   "cell_type": "code",
   "execution_count": 3,
   "id": "87aa8080-550f-4fa0-8309-395ba0c15fdf",
   "metadata": {},
   "outputs": [],
   "source": [
    "def postorder(root):\n",
    "    if root!=None:\n",
    "        postorder(root.left)\n",
    "        postorder(root.right)\n",
    "        print(root.key)\n",
    "\n",
    "# It is not a tail recursive function so it will take a little more time for compliers wrt inorder and preorder."
   ]
  },
  {
   "cell_type": "code",
   "execution_count": null,
   "id": "b0395418-ab93-466e-89f5-02e86362286a",
   "metadata": {},
   "outputs": [],
   "source": []
  }
 ],
 "metadata": {
  "kernelspec": {
   "display_name": "Python 3 (ipykernel)",
   "language": "python",
   "name": "python3"
  },
  "language_info": {
   "codemirror_mode": {
    "name": "ipython",
    "version": 3
   },
   "file_extension": ".py",
   "mimetype": "text/x-python",
   "name": "python",
   "nbconvert_exporter": "python",
   "pygments_lexer": "ipython3",
   "version": "3.12.0"
  }
 },
 "nbformat": 4,
 "nbformat_minor": 5
}
