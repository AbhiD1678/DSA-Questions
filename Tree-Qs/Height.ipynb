{
 "cells": [
  {
   "cell_type": "code",
   "execution_count": 1,
   "id": "46549533-60ee-41c4-bb30-0019605a9146",
   "metadata": {},
   "outputs": [],
   "source": [
    "def Height(root):\n",
    "    if root==None:\n",
    "        return 0\n",
    "    else:\n",
    "        lh=Height(root.left)\n",
    "        rh=Height(root.right)\n",
    "        return max(lh,rh)+1"
   ]
  },
  {
   "cell_type": "raw",
   "id": "b0d932ed-6396-4d6a-9833-da360a6e795f",
   "metadata": {},
   "source": [
    "Time complexity:O(n)\n",
    "Auxiliary Space:O(h)"
   ]
  },
  {
   "cell_type": "code",
   "execution_count": null,
   "id": "1cc450e6-b8d0-41c4-be0f-0e8ec33267f2",
   "metadata": {},
   "outputs": [],
   "source": []
  }
 ],
 "metadata": {
  "kernelspec": {
   "display_name": "Python 3 (ipykernel)",
   "language": "python",
   "name": "python3"
  },
  "language_info": {
   "codemirror_mode": {
    "name": "ipython",
    "version": 3
   },
   "file_extension": ".py",
   "mimetype": "text/x-python",
   "name": "python",
   "nbconvert_exporter": "python",
   "pygments_lexer": "ipython3",
   "version": "3.12.0"
  }
 },
 "nbformat": 4,
 "nbformat_minor": 5
}
