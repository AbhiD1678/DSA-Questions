{
 "cells": [
  {
   "cell_type": "markdown",
   "id": "1e43f4ae-7612-416a-96ec-4f8d976668c4",
   "metadata": {},
   "source": [
    "# Method of travesal\n",
    "## Root Left Right"
   ]
  },
  {
   "cell_type": "code",
   "execution_count": 1,
   "id": "f7b37e88-34a3-46c9-af00-5f33ea3c7191",
   "metadata": {},
   "outputs": [],
   "source": [
    "def preorder(root):\n",
    "    if root!=None:\n",
    "        print(root.key)\n",
    "        preorder(root.left)\n",
    "        preorder(root.right)\n",
    "\n"
   ]
  },
  {
   "cell_type": "code",
   "execution_count": 2,
   "id": "59fc5dfe-dc59-456a-8f48-2773e0921e19",
   "metadata": {},
   "outputs": [
    {
     "name": "stdout",
     "output_type": "stream",
     "text": [
      "20\n",
      "30\n",
      "40\n",
      "10\n",
      "0\n"
     ]
    }
   ],
   "source": [
    "class Node:\n",
    "    def __init__(self,key):\n",
    "        self.left=None\n",
    "        self.right=None\n",
    "        self.key=key\n",
    "\n",
    "root=Node(20)\n",
    "root.left=Node(30)\n",
    "root.right=Node(10)\n",
    "root.right.right=Node(0)\n",
    "root.left.left=Node(40)\n",
    "\n",
    "preorder(root)"
   ]
  },
  {
   "cell_type": "raw",
   "id": "dee7b84a-31f1-4053-954f-67e0f16973df",
   "metadata": {},
   "source": [
    "Time complexity:O(n)\n",
    "Auxiliary Space:O(height)"
   ]
  },
  {
   "cell_type": "code",
   "execution_count": null,
   "id": "63fb3841-9d33-4fbd-b0f0-aa4d0c017e3f",
   "metadata": {},
   "outputs": [],
   "source": []
  }
 ],
 "metadata": {
  "kernelspec": {
   "display_name": "Python 3 (ipykernel)",
   "language": "python",
   "name": "python3"
  },
  "language_info": {
   "codemirror_mode": {
    "name": "ipython",
    "version": 3
   },
   "file_extension": ".py",
   "mimetype": "text/x-python",
   "name": "python",
   "nbconvert_exporter": "python",
   "pygments_lexer": "ipython3",
   "version": "3.12.0"
  }
 },
 "nbformat": 4,
 "nbformat_minor": 5
}
