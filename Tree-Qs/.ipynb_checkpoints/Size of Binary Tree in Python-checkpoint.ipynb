{
 "cells": [
  {
   "cell_type": "code",
   "execution_count": 1,
   "id": "9b481dc7-a5e5-4209-a967-d9cba2ea9c8d",
   "metadata": {},
   "outputs": [],
   "source": [
    "def TreeSize(root):\n",
    "    if root==None:\n",
    "        return 0\n",
    "    else:\n",
    "        ls=TreeSize(root.left)\n",
    "        rs=TreeSize(root.right)\n",
    "        return 1+ls+rs\n",
    "\n"
   ]
  },
  {
   "cell_type": "raw",
   "id": "13a06c23-da7b-4e59-a7e7-42e4c86ea596",
   "metadata": {},
   "source": [
    "Time complexity:O(n)\n",
    "Auxiliary Space:O(h)"
   ]
  },
  {
   "cell_type": "code",
   "execution_count": null,
   "id": "e1d7ba47-a42a-4649-bf77-3a73b599fc08",
   "metadata": {},
   "outputs": [],
   "source": []
  }
 ],
 "metadata": {
  "kernelspec": {
   "display_name": "Python 3 (ipykernel)",
   "language": "python",
   "name": "python3"
  },
  "language_info": {
   "codemirror_mode": {
    "name": "ipython",
    "version": 3
   },
   "file_extension": ".py",
   "mimetype": "text/x-python",
   "name": "python",
   "nbconvert_exporter": "python",
   "pygments_lexer": "ipython3",
   "version": "3.12.0"
  }
 },
 "nbformat": 4,
 "nbformat_minor": 5
}
