{
 "cells": [
  {
   "cell_type": "markdown",
   "id": "1dfae826-dc60-47ae-8c80-75d984567b5e",
   "metadata": {},
   "source": [
    "# Introduction"
   ]
  },
  {
   "cell_type": "raw",
   "id": "3d45558b-8518-4124-ab01-ef99fe1a7066",
   "metadata": {},
   "source": [
    "It is used to represent hierarchy,it is non linear in nature.Recursive in nature,nodes which have degree as zero are known as leaf nodes,nodes which are not leaf are known as internal nodes."
   ]
  },
  {
   "cell_type": "markdown",
   "id": "e3c2668e-e1f2-47db-a5cc-40c2386c5a69",
   "metadata": {},
   "source": [
    "# Applications"
   ]
  },
  {
   "cell_type": "markdown",
   "id": "e5e2b924-545c-45e9-aabb-fb723f1311e6",
   "metadata": {},
   "source": [
    "B+ and B trees in dbms\n",
    "Xml/Html files\n",
    "Root folder for storing other folders in them"
   ]
  },
  {
   "cell_type": "code",
   "execution_count": null,
   "id": "e016048d-1603-43b6-bd81-5301902d5a2e",
   "metadata": {},
   "outputs": [],
   "source": []
  }
 ],
 "metadata": {
  "kernelspec": {
   "display_name": "Python 3 (ipykernel)",
   "language": "python",
   "name": "python3"
  },
  "language_info": {
   "codemirror_mode": {
    "name": "ipython",
    "version": 3
   },
   "file_extension": ".py",
   "mimetype": "text/x-python",
   "name": "python",
   "nbconvert_exporter": "python",
   "pygments_lexer": "ipython3",
   "version": "3.12.0"
  }
 },
 "nbformat": 4,
 "nbformat_minor": 5
}
