{
 "cells": [
  {
   "cell_type": "code",
   "execution_count": 1,
   "id": "8dcf509d-8dd3-4f15-bc01-f6ea2ceadd6f",
   "metadata": {},
   "outputs": [],
   "source": [
    "def printKDist(root,k):\n",
    "    if root==None:\n",
    "        return\n",
    "    if k==0:\n",
    "        print(root.key,end='')\n",
    "    else:\n",
    "        printKdist(root.left,k-1)\n",
    "        printKdist(root.right,k-1)"
   ]
  },
  {
   "cell_type": "code",
   "execution_count": null,
   "id": "d87e0e91-2bcb-4a82-88d0-90cd909d4659",
   "metadata": {},
   "outputs": [],
   "source": []
  }
 ],
 "metadata": {
  "kernelspec": {
   "display_name": "Python 3 (ipykernel)",
   "language": "python",
   "name": "python3"
  },
  "language_info": {
   "codemirror_mode": {
    "name": "ipython",
    "version": 3
   },
   "file_extension": ".py",
   "mimetype": "text/x-python",
   "name": "python",
   "nbconvert_exporter": "python",
   "pygments_lexer": "ipython3",
   "version": "3.12.0"
  }
 },
 "nbformat": 4,
 "nbformat_minor": 5
}
