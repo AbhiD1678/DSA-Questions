{
 "cells": [
  {
   "cell_type": "code",
   "execution_count": 1,
   "id": "8eb3d1bf-932e-4882-92db-ecb248cb4edc",
   "metadata": {},
   "outputs": [],
   "source": [
    "import math\n",
    "\n",
    "def getMax(root):\n",
    "    if root==None:\n",
    "        return -math.inf\n",
    "    else:\n",
    "        ls=getMax(root.left)\n",
    "        rs=getMax(root.right)\n",
    "        return max(root.key,ls,rs)"
   ]
  },
  {
   "cell_type": "raw",
   "id": "d158eb81-144c-4454-b3b9-dac4599515fa",
   "metadata": {},
   "source": [
    "Time complexity=O(n)\n",
    "Auxiliary Space=O(h)"
   ]
  },
  {
   "cell_type": "code",
   "execution_count": null,
   "id": "9b164a62-d6d2-4ea8-9801-682128e4259c",
   "metadata": {},
   "outputs": [],
   "source": []
  }
 ],
 "metadata": {
  "kernelspec": {
   "display_name": "Python 3 (ipykernel)",
   "language": "python",
   "name": "python3"
  },
  "language_info": {
   "codemirror_mode": {
    "name": "ipython",
    "version": 3
   },
   "file_extension": ".py",
   "mimetype": "text/x-python",
   "name": "python",
   "nbconvert_exporter": "python",
   "pygments_lexer": "ipython3",
   "version": "3.12.0"
  }
 },
 "nbformat": 4,
 "nbformat_minor": 5
}
