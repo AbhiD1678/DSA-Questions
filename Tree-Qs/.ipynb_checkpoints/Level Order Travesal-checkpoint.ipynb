{
 "cells": [
  {
   "cell_type": "raw",
   "id": "37d16dc9-756f-41a5-a69b-6a8de22bf367",
   "metadata": {},
   "source": [
    "It is also known as breadth first travesal.It uses iterative approach."
   ]
  },
  {
   "cell_type": "code",
   "execution_count": 1,
   "id": "6c04516e-79a6-47a0-bbbb-9911002edbe5",
   "metadata": {},
   "outputs": [],
   "source": [
    "from collections import deque\n",
    "def levelOrder(root):\n",
    "    if root==None:\n",
    "        return\n",
    "\n",
    "    q=deque()\n",
    "    q.append(root)\n",
    "\n",
    "    while len(q)>0:\n",
    "        node=q.popleft()\n",
    "        print(node.key,end='')\n",
    "        if node.left is not None:\n",
    "            q.append(node.left)\n",
    "        if node.right is not None:\n",
    "            q.append(node.right)\n",
    "    "
   ]
  },
  {
   "cell_type": "markdown",
   "id": "e2735bb3-7f4f-4e02-b256-470c77239069",
   "metadata": {},
   "source": [
    "Time complexity:O(n)\n",
    "Auxiliary Space:O(width)"
   ]
  },
  {
   "cell_type": "code",
   "execution_count": null,
   "id": "db809b5e-39c5-47e3-b63e-2058959162a0",
   "metadata": {},
   "outputs": [],
   "source": []
  }
 ],
 "metadata": {
  "kernelspec": {
   "display_name": "Python 3 (ipykernel)",
   "language": "python",
   "name": "python3"
  },
  "language_info": {
   "codemirror_mode": {
    "name": "ipython",
    "version": 3
   },
   "file_extension": ".py",
   "mimetype": "text/x-python",
   "name": "python",
   "nbconvert_exporter": "python",
   "pygments_lexer": "ipython3",
   "version": "3.12.0"
  }
 },
 "nbformat": 4,
 "nbformat_minor": 5
}
