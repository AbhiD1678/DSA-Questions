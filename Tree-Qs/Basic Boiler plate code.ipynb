{
 "cells": [
  {
   "cell_type": "code",
   "execution_count": 5,
   "id": "2f24a532-c10f-4af4-bdc9-7de0c9b9890e",
   "metadata": {},
   "outputs": [],
   "source": [
    "class Node:\n",
    "    def __init__(self,k):\n",
    "        self.left=None\n",
    "        self.right=None\n",
    "        self.key=k\n",
    "\n",
    "root=Node(10)\n",
    "root.left=Node(20)\n",
    "root.right=Node(30)\n",
    "root.left.left=Node(40)\n",
    "\n"
   ]
  },
  {
   "cell_type": "markdown",
   "id": "bd19d490-0a4a-47fe-855a-318772f80ced",
   "metadata": {},
   "source": [
    "# Depth First"
   ]
  },
  {
   "cell_type": "markdown",
   "id": "43e23f12-8440-46bf-83e6-2c999ce970fc",
   "metadata": {},
   "source": [
    "## Three types:\n",
    "### Inorder - Left Root Right\n",
    "### Preorder-Root Left Right\n",
    "### Postorder -Left Right Root\n"
   ]
  },
  {
   "cell_type": "code",
   "execution_count": null,
   "id": "2b33969f-4755-4cd6-bf24-93a7ac736631",
   "metadata": {},
   "outputs": [],
   "source": []
  }
 ],
 "metadata": {
  "kernelspec": {
   "display_name": "Python 3 (ipykernel)",
   "language": "python",
   "name": "python3"
  },
  "language_info": {
   "codemirror_mode": {
    "name": "ipython",
    "version": 3
   },
   "file_extension": ".py",
   "mimetype": "text/x-python",
   "name": "python",
   "nbconvert_exporter": "python",
   "pygments_lexer": "ipython3",
   "version": "3.12.0"
  }
 },
 "nbformat": 4,
 "nbformat_minor": 5
}
