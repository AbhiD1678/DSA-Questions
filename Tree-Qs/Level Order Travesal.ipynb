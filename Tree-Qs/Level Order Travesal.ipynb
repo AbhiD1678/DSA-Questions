{
 "cells": [
  {
   "cell_type": "raw",
   "id": "37d16dc9-756f-41a5-a69b-6a8de22bf367",
   "metadata": {},
   "source": [
    "It is also known as breadth first travesal.It uses iterative approach."
   ]
  },
  {
   "cell_type": "code",
   "execution_count": 1,
   "id": "6c04516e-79a6-47a0-bbbb-9911002edbe5",
   "metadata": {},
   "outputs": [],
   "source": [
    "from collections import deque\n",
    "def levelOrder(root):\n",
    "    if root==None:\n",
    "        return\n",
    "\n",
    "    q=deque()\n",
    "    q.append(root)\n",
    "\n",
    "    while len(q)>0:\n",
    "        node=q.popleft()\n",
    "        print(node.key,end='')\n",
    "        if node.left is not None:\n",
    "            q.append(node.left)\n",
    "        if node.right is not None:\n",
    "            q.append(node.right)\n",
    "    "
   ]
  },
  {
   "cell_type": "markdown",
   "id": "e2735bb3-7f4f-4e02-b256-470c77239069",
   "metadata": {},
   "source": [
    "Time complexity:O(n)\n",
    "Auxiliary Space:O(width)"
   ]
  },
  {
   "cell_type": "markdown",
   "id": "dcef1453-a100-49a9-b7df-4f7e8d776450",
   "metadata": {},
   "source": [
    "Algorithm:\n",
    "\n",
    "- Create an empty queue q and push root in q.\n",
    "\n",
    "- Run While loop until q is not empty. \n",
    "\n",
    "- Initialize temp_node = q.front() and print temp_node->data.\n",
    "\n",
    "- Push temp_node’s children i.e. temp_node -> left then temp_node -> right to q\n",
    "\n",
    "- Pop front node from q"
   ]
  },
  {
   "cell_type": "code",
   "execution_count": null,
   "id": "2465c875-da7c-47ad-a409-bd9390513810",
   "metadata": {},
   "outputs": [],
   "source": []
  }
 ],
 "metadata": {
  "kernelspec": {
   "display_name": "Python 3 (ipykernel)",
   "language": "python",
   "name": "python3"
  },
  "language_info": {
   "codemirror_mode": {
    "name": "ipython",
    "version": 3
   },
   "file_extension": ".py",
   "mimetype": "text/x-python",
   "name": "python",
   "nbconvert_exporter": "python",
   "pygments_lexer": "ipython3",
   "version": "3.12.0"
  }
 },
 "nbformat": 4,
 "nbformat_minor": 5
}
