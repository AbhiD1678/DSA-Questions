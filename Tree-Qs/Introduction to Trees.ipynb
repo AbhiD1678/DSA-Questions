{
 "cells": [
  {
   "cell_type": "raw",
   "id": "3d45558b-8518-4124-ab01-ef99fe1a7066",
   "metadata": {},
   "source": [
    "It is used to represent hierarchy,it is non linear in nature.Recursive in nature,nodes which have degree as zero are known as leaf nodes,nodes which are not leaf are known as internal nodes."
   ]
  },
  {
   "cell_type": "code",
   "execution_count": null,
   "id": "c6be7551-fb1c-41e5-b48f-c42b6f002a35",
   "metadata": {},
   "outputs": [],
   "source": []
  }
 ],
 "metadata": {
  "kernelspec": {
   "display_name": "Python 3 (ipykernel)",
   "language": "python",
   "name": "python3"
  },
  "language_info": {
   "codemirror_mode": {
    "name": "ipython",
    "version": 3
   },
   "file_extension": ".py",
   "mimetype": "text/x-python",
   "name": "python",
   "nbconvert_exporter": "python",
   "pygments_lexer": "ipython3",
   "version": "3.12.0"
  }
 },
 "nbformat": 4,
 "nbformat_minor": 5
}
