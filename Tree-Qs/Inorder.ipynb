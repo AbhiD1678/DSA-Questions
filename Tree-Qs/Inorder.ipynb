{
 "cells": [
  {
   "cell_type": "code",
   "execution_count": 1,
   "id": "945c4af0-c005-4f8c-aec8-587d31d2ef32",
   "metadata": {},
   "outputs": [
    {
     "name": "stdout",
     "output_type": "stream",
     "text": [
      "40\n",
      "30\n",
      "20\n",
      "10\n",
      "0\n"
     ]
    }
   ],
   "source": [
    "def inorder(root):\n",
    "    if root!=None:\n",
    "        inorder(root.left)\n",
    "        print(root.key)\n",
    "        inorder(root.right)\n",
    "\n",
    "class Node:\n",
    "    def __init__(self,key):\n",
    "        self.left=None\n",
    "        self.right=None\n",
    "        self.key=key\n",
    "\n",
    "root=Node(20)\n",
    "root.left=Node(30)\n",
    "root.right=Node(10)\n",
    "root.right.right=Node(0)\n",
    "root.left.left=Node(40)\n",
    "\n",
    "inorder(root)"
   ]
  },
  {
   "cell_type": "markdown",
   "id": "06b29ede-aa60-4432-8dc6-62830dc41944",
   "metadata": {},
   "source": [
    "Time complexity:O(n)\n",
    "Auxiliary Space:O(height of the tree)"
   ]
  },
  {
   "cell_type": "code",
   "execution_count": null,
   "id": "985358a6-09ca-4eeb-a1e9-2dee118cc75f",
   "metadata": {},
   "outputs": [],
   "source": []
  }
 ],
 "metadata": {
  "kernelspec": {
   "display_name": "Python 3 (ipykernel)",
   "language": "python",
   "name": "python3"
  },
  "language_info": {
   "codemirror_mode": {
    "name": "ipython",
    "version": 3
   },
   "file_extension": ".py",
   "mimetype": "text/x-python",
   "name": "python",
   "nbconvert_exporter": "python",
   "pygments_lexer": "ipython3",
   "version": "3.12.0"
  }
 },
 "nbformat": 4,
 "nbformat_minor": 5
}
