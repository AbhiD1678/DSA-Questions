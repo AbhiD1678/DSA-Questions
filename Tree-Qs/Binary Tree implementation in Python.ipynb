{
 "cells": [
  {
   "cell_type": "code",
   "execution_count": 5,
   "id": "2f24a532-c10f-4af4-bdc9-7de0c9b9890e",
   "metadata": {},
   "outputs": [],
   "source": [
    "class Node:\n",
    "    def __init__(self,k):\n",
    "        self.left=None\n",
    "        self.right=None\n",
    "        self.key=k\n",
    "\n",
    "root=Node(10)\n",
    "root.left=Node(20)\n",
    "root.right=Node(30)\n",
    "root.left.left=Node(40)\n",
    "\n"
   ]
  },
  {
   "cell_type": "markdown",
   "id": "134cda32-1475-42b8-9424-7f5a9882a468",
   "metadata": {},
   "source": [
    "##### Unlike linear data structures which have only one logical way to traverse them,trees can be traversed in different ways."
   ]
  },
  {
   "cell_type": "markdown",
   "id": "bd19d490-0a4a-47fe-855a-318772f80ced",
   "metadata": {},
   "source": [
    "# Depth First"
   ]
  },
  {
   "cell_type": "markdown",
   "id": "43e23f12-8440-46bf-83e6-2c999ce970fc",
   "metadata": {},
   "source": [
    "## Three types:\n",
    "\n",
    "### Inorder - Left Root Right\n",
    "\n",
    "- In the case of binary search trees (BST), Inorder traversal gives nodes in non-decreasing order\n",
    "\n",
    "- To get nodes of BST in non increasing order,a variation of Inorder traversal where Inorder traversal is reversed can be used\n",
    "\n",
    "# A function to do inorder tree traversal\n",
    "def printInorder(root):\n",
    "\n",
    "\tif root:\n",
    "\n",
    "\t\t# First recur on left child\n",
    "\t\tprintInorder(root.left)\n",
    "\n",
    "\t\t# then print the data of node\n",
    "\t\tprint(root.val),\n",
    "\n",
    "\t\t# now recur on right child\n",
    "\t\tprintInorder(root.right)\n",
    "\n",
    "\n",
    "### Preorder-Root Left Right\n",
    "\n",
    "- Pre order traversal is used to create a copy of the tree.\n",
    "- It is also used to get prefix expressions on an expression tree\n",
    "\n",
    "# A function to do preorder tree traversal\n",
    "def printPreorder(root):\n",
    "\n",
    "\tif root:\n",
    "\n",
    "\t\t# First print the data of node\n",
    "\t\tprint(root.val),\n",
    "\n",
    "\t\t# Then recur on left child\n",
    "\t\tprintPreorder(root.left)\n",
    "\n",
    "\t\t# Finally recur on right child\n",
    "\t\tprintPreorder(root.right)\n",
    "\n",
    "        \n",
    "### Postorder -Left Right Root\n",
    "\n",
    "- Postorder traversal is used to delete the tree\n",
    "\n",
    "- Postorder traversal is also useful to get the postfix expression of an expression tree\n",
    "\n",
    "# A function to do postorder tree traversal\n",
    "def printPostorder(root):\n",
    "\n",
    "\tif root:\n",
    "\n",
    "\t\t# First recur on left child\n",
    "\t\tprintPostorder(root.left)\n",
    "\n",
    "\t\t# the recur on right child\n",
    "\t\tprintPostorder(root.right)\n",
    "\n",
    "\t\t# now print the data of node\n",
    "\t\tprint(root.val)\n",
    "\n",
    "\n",
    "Time Complexity:O(N)\n",
    "\n",
    "Auxiliary Space:If we don't consider the size of the stack for function calls then O(1) otherwise O(h) where h is the height of the tree."
   ]
  },
  {
   "cell_type": "code",
   "execution_count": null,
   "id": "2b33969f-4755-4cd6-bf24-93a7ac736631",
   "metadata": {},
   "outputs": [],
   "source": []
  }
 ],
 "metadata": {
  "kernelspec": {
   "display_name": "Python 3 (ipykernel)",
   "language": "python",
   "name": "python3"
  },
  "language_info": {
   "codemirror_mode": {
    "name": "ipython",
    "version": 3
   },
   "file_extension": ".py",
   "mimetype": "text/x-python",
   "name": "python",
   "nbconvert_exporter": "python",
   "pygments_lexer": "ipython3",
   "version": "3.12.0"
  }
 },
 "nbformat": 4,
 "nbformat_minor": 5
}
