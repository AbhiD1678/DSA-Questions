{
 "cells": [
  {
   "cell_type": "code",
   "execution_count": null,
   "id": "bc5188ea",
   "metadata": {},
   "outputs": [
    {
     "name": "stdout",
     "output_type": "stream",
     "text": [
      "loop 2 2\n"
     ]
    }
   ],
   "source": [
    "\n",
    "\n",
    "N=len(arr)\n",
    "low=0\n",
    "high=len(arr)-1\n",
    "def PeakElementBst(arr,N,low,high):\n",
    "    \n",
    "    while(low<=high):\n",
    "        mid=(low+high)//2\n",
    "        print(m)\n",
    "        if arr[mid] > arr[mid-1] and arr[mid]>arr[mid+1]:\n",
    "            print('loop 1')\n",
    "            return mid\n",
    "        elif arr[mid]<arr[mid-1] and mid-1!=0:\n",
    "            print(f'loop 2 {mid}')\n",
    "            high=mid-1\n",
    "        elif arr[mid]<arr[mid+1] and mid+1!=N-1 :\n",
    "            low=mid-1\n",
    "        else:\n",
    "            return -1\n",
    "        \n",
    "'''def Peak_Element(arr,N):\n",
    "    low=0\n",
    "    high=N-1\n",
    "    PeakElementBst(arr,N,low,high)\n",
    "'''\n",
    "    \n",
    "PeakElementBst(arr,N,low,high)\n"
   ]
  },
  {
   "cell_type": "code",
   "execution_count": 19,
   "id": "0ab4257c",
   "metadata": {},
   "outputs": [],
   "source": [
    "def peakElement(arr, n):\n",
    "        # Code here\n",
    "        for i in range(0,n):\n",
    "            if i==0 and arr[i]>arr[i+1]:\n",
    "                return i\n",
    "            \n",
    "            elif i==n-1 and arr[i] >arr[i-1]:\n",
    "                return i\n",
    "            elif  arr[i]>arr[i-1]  and arr[i]>arr[i+1]:\n",
    "                return i\n",
    "        return -1"
   ]
  },
  {
   "cell_type": "code",
   "execution_count": 4,
   "id": "1aaf8951",
   "metadata": {},
   "outputs": [],
   "source": [
    "arr=[1,2,3]\n",
    "n=len(arr)\n"
   ]
  },
  {
   "cell_type": "code",
   "execution_count": 3,
   "id": "472a1d70",
   "metadata": {},
   "outputs": [],
   "source": [
    "#correct method\n",
    "\n",
    "\n",
    "def peakElement( arr, n):\n",
    "    low, high = 0, n - 1\n",
    "\n",
    "    while low <= high:\n",
    "            mid = low + (high - low) // 2\n",
    "\n",
    "            if (mid == 0 or arr[mid - 1] <= arr[mid]) and (mid == n - 1 or arr[mid + 1] <= arr[mid]):\n",
    "                return mid\n",
    "\n",
    "            if mid > 0 and arr[mid - 1] > arr[mid]:\n",
    "                high = mid - 1\n",
    "            else:\n",
    "                low = mid + 1\n",
    "\n",
    "    return -1"
   ]
  },
  {
   "cell_type": "code",
   "execution_count": 5,
   "id": "6a8ac62a",
   "metadata": {},
   "outputs": [
    {
     "data": {
      "text/plain": [
       "2"
      ]
     },
     "execution_count": 5,
     "metadata": {},
     "output_type": "execute_result"
    }
   ],
   "source": [
    "peakElement(arr,n)"
   ]
  },
  {
   "cell_type": "code",
   "execution_count": 6,
   "id": "e4481981",
   "metadata": {},
   "outputs": [
    {
     "data": {
      "text/plain": [
       "1"
      ]
     },
     "execution_count": 6,
     "metadata": {},
     "output_type": "execute_result"
    }
   ],
   "source": [
    "arr = [2,5,3,4,1]\n",
    "n=len(arr)\n",
    "peakElement(arr,n)"
   ]
  },
  {
   "cell_type": "code",
   "execution_count": null,
   "id": "056ac04d",
   "metadata": {},
   "outputs": [],
   "source": []
  }
 ],
 "metadata": {
  "kernelspec": {
   "display_name": "Python 3 (ipykernel)",
   "language": "python",
   "name": "python3"
  },
  "language_info": {
   "codemirror_mode": {
    "name": "ipython",
    "version": 3
   },
   "file_extension": ".py",
   "mimetype": "text/x-python",
   "name": "python",
   "nbconvert_exporter": "python",
   "pygments_lexer": "ipython3",
   "version": "3.11.4"
  }
 },
 "nbformat": 4,
 "nbformat_minor": 5
}
