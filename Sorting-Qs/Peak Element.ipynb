{
 "cells": [
  {
   "cell_type": "code",
   "execution_count": null,
   "id": "bc5188ea",
   "metadata": {},
   "outputs": [
    {
     "name": "stdout",
     "output_type": "stream",
     "text": [
      "loop 2 2\n"
     ]
    }
   ],
   "source": [
    "\n",
    "arr = [2,5,3,4,1]\n",
    "N=len(arr)\n",
    "low=0\n",
    "high=len(arr)-1\n",
    "def PeakElementBst(arr,N,low,high):\n",
    "    \n",
    "    while(low<=high):\n",
    "        mid=(low+high)//2\n",
    "        print(m)\n",
    "        if arr[mid] > arr[mid-1] and arr[mid]>arr[mid+1]:\n",
    "            print('loop 1')\n",
    "            return mid\n",
    "        elif arr[mid]<arr[mid-1] and mid-1!=0:\n",
    "            print(f'loop 2 {mid}')\n",
    "            high=mid-1\n",
    "        elif arr[mid]<arr[mid+1] and mid+1!=N-1 :\n",
    "            low=mid-1\n",
    "        else:\n",
    "            return -1\n",
    "        \n",
    "'''def Peak_Element(arr,N):\n",
    "    low=0\n",
    "    high=N-1\n",
    "    PeakElementBst(arr,N,low,high)\n",
    "'''\n",
    "    \n",
    "PeakElementBst(arr,N,low,high)\n"
   ]
  },
  {
   "cell_type": "code",
   "execution_count": null,
   "id": "0ab4257c",
   "metadata": {},
   "outputs": [],
   "source": []
  },
  {
   "cell_type": "code",
   "execution_count": null,
   "id": "1aaf8951",
   "metadata": {},
   "outputs": [],
   "source": []
  }
 ],
 "metadata": {
  "kernelspec": {
   "display_name": "Python 3 (ipykernel)",
   "language": "python",
   "name": "python3"
  },
  "language_info": {
   "codemirror_mode": {
    "name": "ipython",
    "version": 3
   },
   "file_extension": ".py",
   "mimetype": "text/x-python",
   "name": "python",
   "nbconvert_exporter": "python",
   "pygments_lexer": "ipython3",
   "version": "3.11.4"
  }
 },
 "nbformat": 4,
 "nbformat_minor": 5
}
