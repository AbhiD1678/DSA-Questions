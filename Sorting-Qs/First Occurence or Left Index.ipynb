{
 "cells": [
  {
   "cell_type": "code",
   "execution_count": 1,
   "id": "3c3e420c",
   "metadata": {},
   "outputs": [],
   "source": [
    "#M1 using naive method\n",
    "\n",
    "def FirstOccurence(lst,x):\n",
    "    N=len(lst)\n",
    "    for i in range(0,N):\n",
    "        if(lst[i]==x):\n",
    "            return i\n",
    "    return -1\n"
   ]
  },
  {
   "cell_type": "code",
   "execution_count": 3,
   "id": "6618731c",
   "metadata": {},
   "outputs": [],
   "source": [
    "#M2\n",
    "lst=[]\n",
    "low=0\n",
    "high=len(lst)-1\n",
    "\n",
    "def FirstOccurence2(lst,x,low,high):\n",
    "    if low>high:\n",
    "        return -1\n",
    "    mid=(low+high)//2\n",
    "    \n",
    "    if lst[mid]>x:\n",
    "        return FirstOccurence2(lst,x,low,mid-1)\n",
    "    elif lst[mid]<x:\n",
    "        return FirstOccurence2(lst,x,mid+1,high)\n",
    "    else:\n",
    "        if x==lst[mid] and arr[mid-1]!=arr[mid]:\n",
    "            return mid\n",
    "        else:\n",
    "            return FirstOccurence2(lst,x,low,mid-1)"
   ]
  },
  {
   "cell_type": "code",
   "execution_count": 5,
   "id": "711593a5",
   "metadata": {},
   "outputs": [],
   "source": [
    "#M3 iterative method\n",
    "\n",
    "def FirstOccurence3(lst,x,low,high):\n",
    "    while low<=high:\n",
    "        mid=(low+high)//2\n",
    "        if x>arr[mid]:\n",
    "            low=mid+1\n",
    "        elif x<arr[mid]:\n",
    "            high=mid-1\n",
    "        else:\n",
    "            if x==arr[mid] and arr[mid]!=arr[mid-1]:\n",
    "                return mid\n",
    "                \n",
    "            else:\n",
    "                high=mid-1"
   ]
  },
  {
   "cell_type": "code",
   "execution_count": 6,
   "id": "9fba4571",
   "metadata": {},
   "outputs": [
    {
     "data": {
      "text/plain": [
       "0"
      ]
     },
     "execution_count": 6,
     "metadata": {},
     "output_type": "execute_result"
    }
   ],
   "source": [
    "1//2"
   ]
  },
  {
   "cell_type": "code",
   "execution_count": 13,
   "id": "b606e1cb",
   "metadata": {},
   "outputs": [
    {
     "name": "stdout",
     "output_type": "stream",
     "text": [
      "2\n",
      "4 0\n",
      "before high 4\n",
      "removing 1 from high\n",
      "new high 1\n",
      "0\n",
      "1 0\n",
      "here we are\n",
      "0\n"
     ]
    },
    {
     "data": {
      "text/plain": [
       "0"
      ]
     },
     "execution_count": 13,
     "metadata": {},
     "output_type": "execute_result"
    }
   ],
   "source": [
    "def leftIndex ( N, arr, X):\n",
    "        # code here \n",
    "        low=0\n",
    "        high=N-1\n",
    "        while low<=high:\n",
    "            mid=(low+high)//2\n",
    "            print(mid)\n",
    "            print(high,low)\n",
    "            \n",
    "            if X>arr[mid]:\n",
    "                print('adding 1 to low')\n",
    "                low=mid+1\n",
    "                \n",
    "            elif X<arr[mid]:\n",
    "                \n",
    "                print('before hihg',high)\n",
    "                print('sub 1 from high')\n",
    "                high=mid-1\n",
    "                \n",
    "                print('aftre high',high)\n",
    "            else:\n",
    "                if X==arr[mid] and (arr[mid]!=arr[mid-1] or mid==0):\n",
    "                    print('here we are')\n",
    "                    print(mid)\n",
    "                    return mid\n",
    "                else:\n",
    "                    \n",
    "                    print('before high',high)\n",
    "                    print('removing 1 from high')\n",
    "                    high=mid-1\n",
    "                    print('new high',high)\n",
    "        return -1\n",
    "'''N=10\n",
    "arr=[1, 1, 2, 2, 3, 4, 5, 5, 6, 7]\n",
    "X=1\n",
    "leftIndex(N,arr,X)\n",
    "'''\n",
    "\n",
    "arr1=[3,3,3,3,3]\n",
    "x=3\n",
    "n=5\n",
    "leftIndex(n,arr1,x)"
   ]
  },
  {
   "cell_type": "code",
   "execution_count": null,
   "id": "29a34aae",
   "metadata": {},
   "outputs": [],
   "source": []
  }
 ],
 "metadata": {
  "kernelspec": {
   "display_name": "Python 3 (ipykernel)",
   "language": "python",
   "name": "python3"
  },
  "language_info": {
   "codemirror_mode": {
    "name": "ipython",
    "version": 3
   },
   "file_extension": ".py",
   "mimetype": "text/x-python",
   "name": "python",
   "nbconvert_exporter": "python",
   "pygments_lexer": "ipython3",
   "version": "3.11.4"
  }
 },
 "nbformat": 4,
 "nbformat_minor": 5
}
