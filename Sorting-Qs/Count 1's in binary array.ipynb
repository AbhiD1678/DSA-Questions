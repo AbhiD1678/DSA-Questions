{
 "cells": [
  {
   "cell_type": "code",
   "execution_count": null,
   "id": "eb48b894",
   "metadata": {},
   "outputs": [],
   "source": [
    "def firstOccurence(arr,x,N):\n",
    "            low=0\n",
    "            high=N-1\n",
    "            \n",
    "            while(low<=high):\n",
    "                mid=(low+high)//2\n",
    "                if x>arr[mid]:\n",
    "                    low=mid+1\n",
    "                elif x<arr[mid]:\n",
    "                    high=mid-1\n",
    "                else:\n",
    "                    if arr[mid]==x and mid==0 or arr[mid]!=arr[mid-1]:\n",
    "                        return mid\n",
    "                    else:\n",
    "                        high=mid-1\n",
    "            return -1\n",
    "arr=[1,1,1,1,1,0,0,0]\n",
    "N=len(arr)\n",
    "firstOccurence(arr,1,N)"
   ]
  },
  {
   "cell_type": "code",
   "execution_count": null,
   "id": "d54ae165",
   "metadata": {},
   "outputs": [],
   "source": []
  },
  {
   "cell_type": "code",
   "execution_count": null,
   "id": "524c1e2e",
   "metadata": {},
   "outputs": [],
   "source": []
  }
 ],
 "metadata": {
  "kernelspec": {
   "display_name": "Python 3 (ipykernel)",
   "language": "python",
   "name": "python3"
  },
  "language_info": {
   "codemirror_mode": {
    "name": "ipython",
    "version": 3
   },
   "file_extension": ".py",
   "mimetype": "text/x-python",
   "name": "python",
   "nbconvert_exporter": "python",
   "pygments_lexer": "ipython3",
   "version": "3.11.4"
  }
 },
 "nbformat": 4,
 "nbformat_minor": 5
}
