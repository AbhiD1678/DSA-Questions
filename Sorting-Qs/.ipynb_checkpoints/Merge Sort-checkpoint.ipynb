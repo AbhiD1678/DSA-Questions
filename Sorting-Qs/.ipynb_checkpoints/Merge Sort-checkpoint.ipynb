{
 "cells": [
  {
   "cell_type": "code",
   "execution_count": 11,
   "id": "b31c5ccc",
   "metadata": {},
   "outputs": [],
   "source": [
    "# Time Complexity : O(nlogn)\n",
    "# Stable Algorithm\n",
    "# Divide ,conquer and merge\n",
    "# O(n) auxiliary space\n",
    "# Outperform by quick sort in arrays\n",
    "#Only for sorted arrays"
   ]
  },
  {
   "cell_type": "code",
   "execution_count": 12,
   "id": "4c0f9c52",
   "metadata": {},
   "outputs": [],
   "source": [
    "# Naive Solution\n",
    "\n",
    "def Merge(a,b):\n",
    "    result=a+b\n",
    "    result.sort()\n",
    "    return result"
   ]
  },
  {
   "cell_type": "code",
   "execution_count": 13,
   "id": "3ba7df05",
   "metadata": {},
   "outputs": [],
   "source": [
    "def MergeList(a,b):\n",
    "    res=[]\n",
    "    i,j=0,0\n",
    "    m=len(a)\n",
    "    n=len(b)\n",
    "    while i<m and j<n :\n",
    "        if a[i]<b[j]:\n",
    "            res.append(a[i])\n",
    "            i=i+1\n",
    "        else:\n",
    "            res.append(b[j])\n",
    "            j=j+1\n",
    "    while i<m:\n",
    "        res.append(a[i])\n",
    "        i+=1\n",
    "    while j<n:\n",
    "        res.append(b[j])\n",
    "        j+=1\n",
    "    return res"
   ]
  },
  {
   "cell_type": "code",
   "execution_count": 14,
   "id": "b5f9d967",
   "metadata": {},
   "outputs": [
    {
     "data": {
      "text/plain": [
       "[5, 6, 10, 10, 15, 30, 40]"
      ]
     },
     "execution_count": 14,
     "metadata": {},
     "output_type": "execute_result"
    }
   ],
   "source": [
    "a=[10,15]\n",
    "b=[5,6,10,30,40]\n",
    "MergeList(a,b)"
   ]
  },
  {
   "cell_type": "code",
   "execution_count": null,
   "id": "c030b9b3",
   "metadata": {},
   "outputs": [],
   "source": []
  }
 ],
 "metadata": {
  "kernelspec": {
   "display_name": "Python 3 (ipykernel)",
   "language": "python",
   "name": "python3"
  },
  "language_info": {
   "codemirror_mode": {
    "name": "ipython",
    "version": 3
   },
   "file_extension": ".py",
   "mimetype": "text/x-python",
   "name": "python",
   "nbconvert_exporter": "python",
   "pygments_lexer": "ipython3",
   "version": "3.11.4"
  }
 },
 "nbformat": 4,
 "nbformat_minor": 5
}
