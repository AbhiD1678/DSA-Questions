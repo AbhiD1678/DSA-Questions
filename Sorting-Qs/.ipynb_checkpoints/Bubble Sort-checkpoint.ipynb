{
 "cells": [
  {
   "cell_type": "code",
   "execution_count": 1,
   "id": "68456b70",
   "metadata": {},
   "outputs": [],
   "source": [
    "# Time complexity of O(n^2)"
   ]
  },
  {
   "cell_type": "code",
   "execution_count": 2,
   "id": "aeeba9fb",
   "metadata": {},
   "outputs": [],
   "source": [
    "def BubbleSort(l):\n",
    "    n=len(l)\n",
    "    for i in range(n-1):\n",
    "        for j in range(n-i-1):\n",
    "            if l[j]>l[j+1]:\n",
    "                l[j],l[j+1]=l[j+1],l[j]"
   ]
  },
  {
   "cell_type": "code",
   "execution_count": 3,
   "id": "9660e77f",
   "metadata": {},
   "outputs": [],
   "source": [
    "def BubbleSort(l):\n",
    "    n=len(l)\n",
    "    swapped=False\n",
    "    for i in range(n-1):\n",
    "        for j in range(n-i-1):\n",
    "            if l[j]>l[j+1]:\n",
    "                l[j],l[j+1]=l[j+1],l[j]\n",
    "                swapped=True\n",
    "    if swapped==False:\n",
    "        return "
   ]
  },
  {
   "cell_type": "code",
   "execution_count": null,
   "id": "3fd3fe76",
   "metadata": {},
   "outputs": [],
   "source": []
  }
 ],
 "metadata": {
  "kernelspec": {
   "display_name": "Python 3 (ipykernel)",
   "language": "python",
   "name": "python3"
  },
  "language_info": {
   "codemirror_mode": {
    "name": "ipython",
    "version": 3
   },
   "file_extension": ".py",
   "mimetype": "text/x-python",
   "name": "python",
   "nbconvert_exporter": "python",
   "pygments_lexer": "ipython3",
   "version": "3.11.4"
  }
 },
 "nbformat": 4,
 "nbformat_minor": 5
}
