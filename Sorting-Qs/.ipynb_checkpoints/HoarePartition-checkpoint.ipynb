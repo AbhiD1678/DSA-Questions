{
 "cells": [
  {
   "cell_type": "code",
   "execution_count": 1,
   "id": "870fa289",
   "metadata": {},
   "outputs": [
    {
     "data": {
      "text/plain": [
       "3"
      ]
     },
     "execution_count": 1,
     "metadata": {},
     "output_type": "execute_result"
    }
   ],
   "source": [
    "def HoarePartition(arr,low,high):\n",
    "    pivot=arr[low]\n",
    "    i=low-1\n",
    "    j=high+1\n",
    "    \n",
    "    while True:\n",
    "        i=i+1\n",
    "        while arr[i]<pivot:\n",
    "            i=i+1\n",
    "        \n",
    "        j=j-1\n",
    "        while arr[j]>pivot:\n",
    "            j=j-1\n",
    "            \n",
    "        if i>=j:\n",
    "            return j\n",
    "        \n",
    "        arr[i],arr[j]=arr[j],arr[i]\n",
    "        \n",
    "arr=[5,3,8,4,2,7,1,10]\n",
    "    \n",
    "HoarePartition(arr,0,len(arr)-1)\n",
    "\n",
    "#Time complexity=O(N)"
   ]
  },
  {
   "cell_type": "code",
   "execution_count": 3,
   "id": "6d508672",
   "metadata": {},
   "outputs": [
    {
     "data": {
      "text/plain": [
       "1"
      ]
     },
     "execution_count": 3,
     "metadata": {},
     "output_type": "execute_result"
    }
   ],
   "source": [
    "# Corner Cases\n",
    "\n",
    "arr1=[5,5,5,5]\n",
    "arr2=[12,3,4,5]\n",
    "arr3=[1,4,6,3]\n",
    "\n",
    "HoarePartition(arr1,0,len(arr1)-1)"
   ]
  },
  {
   "cell_type": "code",
   "execution_count": 4,
   "id": "b383face",
   "metadata": {},
   "outputs": [
    {
     "data": {
      "text/plain": [
       "2"
      ]
     },
     "execution_count": 4,
     "metadata": {},
     "output_type": "execute_result"
    }
   ],
   "source": [
    "HoarePartition(arr2,0,len(arr2)-1)"
   ]
  },
  {
   "cell_type": "code",
   "execution_count": 5,
   "id": "7960f653",
   "metadata": {},
   "outputs": [
    {
     "data": {
      "text/plain": [
       "0"
      ]
     },
     "execution_count": 5,
     "metadata": {},
     "output_type": "execute_result"
    }
   ],
   "source": [
    "HoarePartition(arr3,0,len(arr3)-1)"
   ]
  },
  {
   "cell_type": "code",
   "execution_count": null,
   "id": "75386621",
   "metadata": {},
   "outputs": [],
   "source": []
  }
 ],
 "metadata": {
  "kernelspec": {
   "display_name": "Python 3 (ipykernel)",
   "language": "python",
   "name": "python3"
  },
  "language_info": {
   "codemirror_mode": {
    "name": "ipython",
    "version": 3
   },
   "file_extension": ".py",
   "mimetype": "text/x-python",
   "name": "python",
   "nbconvert_exporter": "python",
   "pygments_lexer": "ipython3",
   "version": "3.11.4"
  }
 },
 "nbformat": 4,
 "nbformat_minor": 5
}
