{
 "cells": [
  {
   "cell_type": "code",
   "execution_count": 2,
   "id": "7fefb2db",
   "metadata": {},
   "outputs": [
    {
     "data": {
      "text/plain": [
       "[5, 6, 8, 13, 9, 12, 11]"
      ]
     },
     "execution_count": 2,
     "metadata": {},
     "output_type": "execute_result"
    }
   ],
   "source": [
    "def partition(arr,p):\n",
    "    \n",
    "    n=len(arr)\n",
    "    \n",
    "    arr[p],arr[n-1]=arr[n-1],arr[p]\n",
    "    \n",
    "    temp=[]\n",
    "    \n",
    "    for x in arr:\n",
    "         if x<=arr[n-1]:\n",
    "                temp.append(x)\n",
    "                \n",
    "    for x in arr:\n",
    "        if x>arr[n-1]:\n",
    "            temp.append(x)\n",
    "            \n",
    "    for var in range(n):\n",
    "        arr[var]=temp[var]\n",
    "    return arr\n",
    "        \n",
    "arr=[5,13,6,9,12,8,11]\n",
    "p=5\n",
    "\n",
    "partition(arr,p)"
   ]
  },
  {
   "cell_type": "code",
   "execution_count": null,
   "id": "5683e85a",
   "metadata": {},
   "outputs": [],
   "source": []
  }
 ],
 "metadata": {
  "kernelspec": {
   "display_name": "Python 3 (ipykernel)",
   "language": "python",
   "name": "python3"
  },
  "language_info": {
   "codemirror_mode": {
    "name": "ipython",
    "version": 3
   },
   "file_extension": ".py",
   "mimetype": "text/x-python",
   "name": "python",
   "nbconvert_exporter": "python",
   "pygments_lexer": "ipython3",
   "version": "3.11.4"
  }
 },
 "nbformat": 4,
 "nbformat_minor": 5
}
