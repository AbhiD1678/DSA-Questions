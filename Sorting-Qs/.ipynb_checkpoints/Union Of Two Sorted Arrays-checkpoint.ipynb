{
 "cells": [
  {
   "cell_type": "code",
   "execution_count": 63,
   "id": "af17ddac",
   "metadata": {},
   "outputs": [],
   "source": [
    "#Time complexity of O(m+n)\n",
    "\n",
    "def mergeWithoutDuplicates(a,b):\n",
    "    i,j=0,0\n",
    "    res=[]\n",
    "    m=len(a)\n",
    "    n=len(b)\n",
    "    \n",
    "    while i<m and j<n:\n",
    "        if i>0 and a[i]==a[i-1]:\n",
    "            i+=1\n",
    "        elif j>0 and b[j]==b[j-1]:\n",
    "            j+=1\n",
    "        elif a[i]<b[j] :\n",
    "            res.append(a[i])\n",
    "            i+=1\n",
    "        elif b[j]<a[i] :\n",
    "            res.append(b[j])\n",
    "            j+=1\n",
    "        else:\n",
    "                res.append(a[i])\n",
    "                i+=1\n",
    "                j+=1\n",
    "        \n",
    "    while i<m :\n",
    "        if a[i]!=a[i-1]:\n",
    "            res.append(a[i])\n",
    "        i+=1\n",
    "    while j<n :\n",
    "        if b[j]!=b[j-1]:\n",
    "            res.append(b[j])\n",
    "        j+=1\n",
    "\n",
    "    return res"
   ]
  },
  {
   "cell_type": "code",
   "execution_count": 64,
   "id": "28729781",
   "metadata": {},
   "outputs": [
    {
     "data": {
      "text/plain": [
       "[2, 3, 5, 8, 9, 10, 15]"
      ]
     },
     "execution_count": 64,
     "metadata": {},
     "output_type": "execute_result"
    }
   ],
   "source": [
    "a=[3,5,8]\n",
    "b=[2,8,9,10,15]\n",
    "mergeWithoutDuplicates(a,b)"
   ]
  },
  {
   "cell_type": "code",
   "execution_count": 65,
   "id": "6e91f8d8",
   "metadata": {},
   "outputs": [
    {
     "data": {
      "text/plain": [
       "[2, 3, 4]"
      ]
     },
     "execution_count": 65,
     "metadata": {},
     "output_type": "execute_result"
    }
   ],
   "source": [
    "a=[2,3,3,3,4]\n",
    "b=[3,4,4]\n",
    "mergeWithoutDuplicates(a,b)"
   ]
  },
  {
   "cell_type": "code",
   "execution_count": 68,
   "id": "debb0757",
   "metadata": {},
   "outputs": [],
   "source": [
    "#Naive Solution\n",
    "#Time complexity of O((m+n)*log(m+n))\n",
    "\n",
    "def printUnion(a,b):\n",
    "    \n",
    "    c=a+b\n",
    "    c.sort()\n",
    "    for i in range(0,len(c)):\n",
    "        if i==0 or c[i]!=c[i-1]:\n",
    "            print(c[i],end=' ')"
   ]
  },
  {
   "cell_type": "code",
   "execution_count": 69,
   "id": "de316b86",
   "metadata": {},
   "outputs": [
    {
     "name": "stdout",
     "output_type": "stream",
     "text": [
      "2 3 4 "
     ]
    }
   ],
   "source": [
    "printUnion(a,b)\n"
   ]
  },
  {
   "cell_type": "code",
   "execution_count": null,
   "id": "8caefce4",
   "metadata": {},
   "outputs": [],
   "source": []
  }
 ],
 "metadata": {
  "kernelspec": {
   "display_name": "Python 3 (ipykernel)",
   "language": "python",
   "name": "python3"
  },
  "language_info": {
   "codemirror_mode": {
    "name": "ipython",
    "version": 3
   },
   "file_extension": ".py",
   "mimetype": "text/x-python",
   "name": "python",
   "nbconvert_exporter": "python",
   "pygments_lexer": "ipython3",
   "version": "3.11.4"
  }
 },
 "nbformat": 4,
 "nbformat_minor": 5
}
