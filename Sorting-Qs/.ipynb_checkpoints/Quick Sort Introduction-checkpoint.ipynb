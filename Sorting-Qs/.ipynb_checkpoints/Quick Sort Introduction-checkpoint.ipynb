{
 "cells": [
  {
   "cell_type": "code",
   "execution_count": null,
   "id": "a84aa329",
   "metadata": {},
   "outputs": [],
   "source": [
    "'''\n",
    "Divide and conquer algorithm\n",
    "\n",
    "worst case time:O(n^2)\n",
    "\n",
    "Despite:O(n^2) worst case, it is considered faster because of the following reasons.\n",
    "In-place\n",
    "cache friendly average case is O(nlogn)\n",
    "tail recursive\n",
    "\n",
    "parition is key functioon(Naive,lomuto,Hoare)\n",
    "\n",
    "'''"
   ]
  }
 ],
 "metadata": {
  "kernelspec": {
   "display_name": "Python 3 (ipykernel)",
   "language": "python",
   "name": "python3"
  },
  "language_info": {
   "codemirror_mode": {
    "name": "ipython",
    "version": 3
   },
   "file_extension": ".py",
   "mimetype": "text/x-python",
   "name": "python",
   "nbconvert_exporter": "python",
   "pygments_lexer": "ipython3",
   "version": "3.11.4"
  }
 },
 "nbformat": 4,
 "nbformat_minor": 5
}
