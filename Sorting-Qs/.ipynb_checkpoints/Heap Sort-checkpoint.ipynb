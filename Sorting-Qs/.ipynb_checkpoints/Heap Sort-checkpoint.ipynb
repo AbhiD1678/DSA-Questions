{
 "cells": [
  {
   "cell_type": "markdown",
   "id": "29fd2e9f",
   "metadata": {},
   "source": [
    "Can be seen as an optimization over Selection Sort\n",
    "Build a max heap\n",
    "Repeatedly swap root with the last node ,reduce heap size by 1 and heapify\n",
    "\n",
    "Time complexity:O(nlogn)\n",
    "Auxiliary Space:O(1)\n",
    "Not Stable\n",
    "Used in Hybrid sorting algorithms like introsort"
   ]
  },
  {
   "cell_type": "code",
   "execution_count": 1,
   "id": "f4fb855a",
   "metadata": {},
   "outputs": [],
   "source": [
    "#Step 1 :Build a max heap\n",
    "\n",
    "def buildHeap(arr):\n",
    "    n=len(arr)\n",
    "    for i in range((n-2)//2,-1,-1):\n",
    "        maxHeapify(arr,n,i)\n",
    "        \n",
    "def maxHeapify(arr,n,i):\n",
    "    largest=i\n",
    "    left=2*i+1\n",
    "    right=2*i+2\n",
    "    \n",
    "    if left<n and arr[left]>arr[largest]:\n",
    "        largest=left\n",
    "        \n",
    "    if right<n and arr[right]>arr[largest]:\n",
    "        largest=right\n",
    "        \n",
    "    if largest!=i:\n",
    "        arr[i],arr[largest]=arr[largest],arr[i]\n",
    "        maxHeapify(arr,n,largest)"
   ]
  },
  {
   "cell_type": "code",
   "execution_count": 2,
   "id": "c6fd6166",
   "metadata": {},
   "outputs": [],
   "source": [
    "# Step 2\n",
    "\n",
    "def heapSort(arr):\n",
    "    n=len(arr)\n",
    "    buildHeap(arr)\n",
    "    \n",
    "    for i in range(n-1,0,-1):\n",
    "        arr[i],arr[0]=arr[0],arr[i]\n",
    "        maxHeapify(arr,i,0)\n",
    "        \n",
    "#Time complexity:O(nlogn)"
   ]
  },
  {
   "cell_type": "code",
   "execution_count": null,
   "id": "469e1b06",
   "metadata": {},
   "outputs": [],
   "source": []
  }
 ],
 "metadata": {
  "kernelspec": {
   "display_name": "Python 3 (ipykernel)",
   "language": "python",
   "name": "python3"
  },
  "language_info": {
   "codemirror_mode": {
    "name": "ipython",
    "version": 3
   },
   "file_extension": ".py",
   "mimetype": "text/x-python",
   "name": "python",
   "nbconvert_exporter": "python",
   "pygments_lexer": "ipython3",
   "version": "3.11.4"
  }
 },
 "nbformat": 4,
 "nbformat_minor": 5
}
