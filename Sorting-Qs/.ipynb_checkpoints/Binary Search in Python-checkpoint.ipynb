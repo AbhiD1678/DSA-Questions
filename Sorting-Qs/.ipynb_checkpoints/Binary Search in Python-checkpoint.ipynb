{
 "cells": [
  {
   "cell_type": "code",
   "execution_count": 2,
   "id": "196f455c",
   "metadata": {},
   "outputs": [],
   "source": [
    "def bSearch(lst,x):\n",
    "    low=0\n",
    "    high=len(lst)-1\n",
    "    while low<=high:\n",
    "        mid=(low+high)//2\n",
    "        if x==lst[mid]:\n",
    "            return mid\n",
    "        elif x<lst[mid]:\n",
    "            high=mid-1\n",
    "        elif x>lst[mid]:\n",
    "            low=mid+1\n",
    "    return -1\n"
   ]
  },
  {
   "cell_type": "code",
   "execution_count": 5,
   "id": "f904f85e",
   "metadata": {},
   "outputs": [
    {
     "data": {
      "text/plain": [
       "4"
      ]
     },
     "execution_count": 5,
     "metadata": {},
     "output_type": "execute_result"
    }
   ],
   "source": [
    "lst=[10,20,30,40,50,60]\n",
    "bSearch(lst,50)"
   ]
  },
  {
   "cell_type": "code",
   "execution_count": 7,
   "id": "403db762",
   "metadata": {},
   "outputs": [
    {
     "data": {
      "text/plain": [
       "0"
      ]
     },
     "execution_count": 7,
     "metadata": {},
     "output_type": "execute_result"
    }
   ],
   "source": [
    "lst=[10,10]\n",
    "bSearch(lst,10)"
   ]
  },
  {
   "cell_type": "code",
   "execution_count": null,
   "id": "74b0e49a",
   "metadata": {},
   "outputs": [],
   "source": []
  }
 ],
 "metadata": {
  "kernelspec": {
   "display_name": "Python 3 (ipykernel)",
   "language": "python",
   "name": "python3"
  },
  "language_info": {
   "codemirror_mode": {
    "name": "ipython",
    "version": 3
   },
   "file_extension": ".py",
   "mimetype": "text/x-python",
   "name": "python",
   "nbconvert_exporter": "python",
   "pygments_lexer": "ipython3",
   "version": "3.11.4"
  }
 },
 "nbformat": 4,
 "nbformat_minor": 5
}
