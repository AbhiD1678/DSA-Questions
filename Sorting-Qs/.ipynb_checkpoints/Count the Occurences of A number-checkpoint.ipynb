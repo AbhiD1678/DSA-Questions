{
 "cells": [
  {
   "cell_type": "code",
   "execution_count": 25,
   "id": "3fb1d884",
   "metadata": {},
   "outputs": [],
   "source": [
    "def FirstOccurence(lst,x,low,high):\n",
    "    mid=(low+high)//2\n",
    "    \n",
    "    if low>high:\n",
    "        return -1\n",
    "    if x>lst[mid]:\n",
    "        return FirstOccurence(lst,x,mid+1,high)\n",
    "    elif x<lst[mid]:\n",
    "        return FirstOccurence(lst,x,low,mid-1)\n",
    "    else:\n",
    "        if lst[mid]==x and(lst[mid]!=lst[mid-1] or mid==0):\n",
    "            return mid\n",
    "        else:\n",
    "            return FirstOccurence(lst,x,low,mid-1)\n",
    "        \n",
    "def LastOccurence(lst,x,low,high):\n",
    "    mid=(low+high)//2\n",
    "    N=len(lst)-1\n",
    "    if low>high:\n",
    "        return -1\n",
    "    if x>lst[mid]:\n",
    "        return LastOccurence(lst,x,mid+1,high)\n",
    "    elif x<lst[mid]:\n",
    "        return LastOccurence(lst,x,low,mid-1)\n",
    "    else:\n",
    "        if lst[mid]==x and (lst[mid]!=lst[mid+1] or mid==N-1):\n",
    "            return mid\n",
    "        else:\n",
    "            return LastOccurence(lst,x,mid+1,high)"
   ]
  },
  {
   "cell_type": "code",
   "execution_count": 28,
   "id": "31c04668",
   "metadata": {},
   "outputs": [
    {
     "data": {
      "text/plain": [
       "3"
      ]
     },
     "execution_count": 28,
     "metadata": {},
     "output_type": "execute_result"
    }
   ],
   "source": [
    "lst=[1,1,1,3,3,3,3,4]\n",
    "low=0\n",
    "high=len(lst)-1\n",
    "\n",
    "FirstOccurence(lst,3,low,high)\n"
   ]
  },
  {
   "cell_type": "code",
   "execution_count": 29,
   "id": "47a969ca",
   "metadata": {},
   "outputs": [
    {
     "data": {
      "text/plain": [
       "6"
      ]
     },
     "execution_count": 29,
     "metadata": {},
     "output_type": "execute_result"
    }
   ],
   "source": [
    "LastOccurence(lst,3,low,high)"
   ]
  },
  {
   "cell_type": "code",
   "execution_count": 32,
   "id": "aa24d9cb",
   "metadata": {},
   "outputs": [],
   "source": [
    "def CountOfANumber(lst,x):\n",
    "    if FirstOccurence==-1:\n",
    "        return 0\n",
    "    return LastOccurence(lst,x,low,high)-FirstOccurence(lst,x,low,high)+1"
   ]
  },
  {
   "cell_type": "code",
   "execution_count": 33,
   "id": "a086a02d",
   "metadata": {},
   "outputs": [
    {
     "data": {
      "text/plain": [
       "4"
      ]
     },
     "execution_count": 33,
     "metadata": {},
     "output_type": "execute_result"
    }
   ],
   "source": [
    "CountOfANumber(lst,3)"
   ]
  },
  {
   "cell_type": "code",
   "execution_count": null,
   "id": "19fb8199",
   "metadata": {},
   "outputs": [],
   "source": []
  }
 ],
 "metadata": {
  "kernelspec": {
   "display_name": "Python 3 (ipykernel)",
   "language": "python",
   "name": "python3"
  },
  "language_info": {
   "codemirror_mode": {
    "name": "ipython",
    "version": 3
   },
   "file_extension": ".py",
   "mimetype": "text/x-python",
   "name": "python",
   "nbconvert_exporter": "python",
   "pygments_lexer": "ipython3",
   "version": "3.11.4"
  }
 },
 "nbformat": 4,
 "nbformat_minor": 5
}
