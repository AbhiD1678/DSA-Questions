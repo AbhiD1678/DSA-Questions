{
 "cells": [
  {
   "cell_type": "code",
   "execution_count": 1,
   "id": "5ac160b7",
   "metadata": {},
   "outputs": [],
   "source": [
    "# O(n^2)\n",
    "#Does less memory writes but cycle sort is the best"
   ]
  },
  {
   "cell_type": "code",
   "execution_count": null,
   "id": "ef0483fe",
   "metadata": {},
   "outputs": [],
   "source": [
    "def SelectionSort(l):\n",
    "    n=len(l)\n",
    "    \n",
    "    for i in range(n-1):\n",
    "        min_index=i\n",
    "        for j in range(i+1,n):\n",
    "            if l[j]<l[min_index]:\n",
    "                min_index=j\n",
    "        l[i],l[min_index]=l[min_index],l[i]"
   ]
  }
 ],
 "metadata": {
  "kernelspec": {
   "display_name": "Python 3 (ipykernel)",
   "language": "python",
   "name": "python3"
  },
  "language_info": {
   "codemirror_mode": {
    "name": "ipython",
    "version": 3
   },
   "file_extension": ".py",
   "mimetype": "text/x-python",
   "name": "python",
   "nbconvert_exporter": "python",
   "pygments_lexer": "ipython3",
   "version": "3.11.4"
  }
 },
 "nbformat": 4,
 "nbformat_minor": 5
}
