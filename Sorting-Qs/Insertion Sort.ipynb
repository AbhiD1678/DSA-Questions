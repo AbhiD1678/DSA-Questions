{
 "cells": [
  {
   "cell_type": "code",
   "execution_count": 1,
   "id": "340790ef",
   "metadata": {},
   "outputs": [],
   "source": [
    "# Time complexity:O(n^2)\n",
    "# in place and stable algorithm\n"
   ]
  },
  {
   "cell_type": "code",
   "execution_count": 2,
   "id": "6631aba0",
   "metadata": {},
   "outputs": [],
   "source": [
    "def InsertionSort(l):\n",
    "    for i in range(1,len(l)):\n",
    "        x=l[i]\n",
    "        j=i-1\n",
    "        while j>=0 and x <l[j]:\n",
    "            l[j+1]=l[j]\n",
    "            j=j-1\n",
    "        l[j+1]=x"
   ]
  },
  {
   "cell_type": "code",
   "execution_count": null,
   "id": "4bd5e1ee",
   "metadata": {},
   "outputs": [],
   "source": []
  }
 ],
 "metadata": {
  "kernelspec": {
   "display_name": "Python 3 (ipykernel)",
   "language": "python",
   "name": "python3"
  },
  "language_info": {
   "codemirror_mode": {
    "name": "ipython",
    "version": 3
   },
   "file_extension": ".py",
   "mimetype": "text/x-python",
   "name": "python",
   "nbconvert_exporter": "python",
   "pygments_lexer": "ipython3",
   "version": "3.11.4"
  }
 },
 "nbformat": 4,
 "nbformat_minor": 5
}
