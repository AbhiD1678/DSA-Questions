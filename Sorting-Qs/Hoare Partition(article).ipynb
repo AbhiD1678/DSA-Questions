{
 "cells": [
  {
   "cell_type": "code",
   "execution_count": 2,
   "id": "da8f5097",
   "metadata": {},
   "outputs": [],
   "source": [
    "def hoarePartition(arr,l,h):\n",
    "    pivot=arr[l]\n",
    "    i=l-1\n",
    "    j=h+1\n",
    "    \n",
    "    while True:\n",
    "        i=i+1\n",
    "        while arr[i]<pivot:\n",
    "            i=i+1\n",
    "        \n",
    "        j=j-1\n",
    "        while arr[j]>pivot:\n",
    "            j=j-1\n",
    "            \n",
    "        \n",
    "        if i>=j:\n",
    "            return j\n",
    "        \n",
    "        arr[i],arr[j]=arr[j],arr[i]"
   ]
  },
  {
   "cell_type": "code",
   "execution_count": null,
   "id": "7b32c3ad",
   "metadata": {},
   "outputs": [],
   "source": []
  }
 ],
 "metadata": {
  "kernelspec": {
   "display_name": "Python 3 (ipykernel)",
   "language": "python",
   "name": "python3"
  },
  "language_info": {
   "codemirror_mode": {
    "name": "ipython",
    "version": 3
   },
   "file_extension": ".py",
   "mimetype": "text/x-python",
   "name": "python",
   "nbconvert_exporter": "python",
   "pygments_lexer": "ipython3",
   "version": "3.11.4"
  }
 },
 "nbformat": 4,
 "nbformat_minor": 5
}
