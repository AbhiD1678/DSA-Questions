{
 "cells": [
  {
   "cell_type": "code",
   "execution_count": 2,
   "id": "269d9657",
   "metadata": {},
   "outputs": [
    {
     "name": "stdout",
     "output_type": "stream",
     "text": [
      "[2, 5, 7, 10]\n"
     ]
    }
   ],
   "source": [
    "t=(10,2,5,7)\n",
    "t1=sorted(t)\n",
    "print(t1)"
   ]
  },
  {
   "cell_type": "code",
   "execution_count": 3,
   "id": "bd9f1b30",
   "metadata": {},
   "outputs": [
    {
     "data": {
      "text/plain": [
       "['courses', 'gfg', 'python']"
      ]
     },
     "execution_count": 3,
     "metadata": {},
     "output_type": "execute_result"
    }
   ],
   "source": [
    "s=['gfg','courses','python']\n",
    "sorted(s)"
   ]
  },
  {
   "cell_type": "code",
   "execution_count": 4,
   "id": "15e1c832",
   "metadata": {},
   "outputs": [
    {
     "data": {
      "text/plain": [
       "['f', 'g', 'g']"
      ]
     },
     "execution_count": 4,
     "metadata": {},
     "output_type": "execute_result"
    }
   ],
   "source": [
    "st='gfg'\n",
    "sorted(st)"
   ]
  },
  {
   "cell_type": "code",
   "execution_count": 5,
   "id": "cff9bb63",
   "metadata": {},
   "outputs": [
    {
     "data": {
      "text/plain": [
       "[5, 10, 15]"
      ]
     },
     "execution_count": 5,
     "metadata": {},
     "output_type": "execute_result"
    }
   ],
   "source": [
    "d={10:'gfg',5:'courses',15:'python'}\n",
    "sorted(d)"
   ]
  },
  {
   "cell_type": "code",
   "execution_count": 6,
   "id": "144eb86e",
   "metadata": {},
   "outputs": [
    {
     "data": {
      "text/plain": [
       "[(1, 5), (1, 8), (10, 5)]"
      ]
     },
     "execution_count": 6,
     "metadata": {},
     "output_type": "execute_result"
    }
   ],
   "source": [
    "ts=[(1,8),(10,5),(1,5)]\n",
    "sorted(ts)"
   ]
  },
  {
   "cell_type": "code",
   "execution_count": null,
   "id": "85fe56a0",
   "metadata": {},
   "outputs": [],
   "source": []
  }
 ],
 "metadata": {
  "kernelspec": {
   "display_name": "Python 3 (ipykernel)",
   "language": "python",
   "name": "python3"
  },
  "language_info": {
   "codemirror_mode": {
    "name": "ipython",
    "version": 3
   },
   "file_extension": ".py",
   "mimetype": "text/x-python",
   "name": "python",
   "nbconvert_exporter": "python",
   "pygments_lexer": "ipython3",
   "version": "3.11.4"
  }
 },
 "nbformat": 4,
 "nbformat_minor": 5
}
