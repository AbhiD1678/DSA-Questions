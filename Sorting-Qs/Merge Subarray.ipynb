{
 "cells": [
  {
   "cell_type": "code",
   "execution_count": 9,
   "id": "fe975ec3",
   "metadata": {},
   "outputs": [],
   "source": [
    "#Time complexity is O(m+n)\n",
    "def merge(a,low,mid,high):\n",
    "    left=a[low:mid+1]\n",
    "    right=a[mid+1:high+1]\n",
    "    m=len(left)\n",
    "    n=len(right)\n",
    "    res=[]\n",
    "    i=0\n",
    "    j=0\n",
    "    while i<m and j<n:\n",
    "        if left[i]<right[j]:\n",
    "            res.append(left[i])\n",
    "            i+=1\n",
    "        else:\n",
    "            res.append(right[j])\n",
    "            j+=1\n",
    "    while i<m:\n",
    "        res.append(left[i])\n",
    "        i+=1\n",
    "    while j<n:\n",
    "        res.append(right[j])\n",
    "        j+=1\n",
    "    return res"
   ]
  },
  {
   "cell_type": "code",
   "execution_count": 10,
   "id": "38d15108",
   "metadata": {},
   "outputs": [
    {
     "data": {
      "text/plain": [
       "[8, 10, 11, 15, 20, 40, 55]"
      ]
     },
     "execution_count": 10,
     "metadata": {},
     "output_type": "execute_result"
    }
   ],
   "source": [
    "a=[10,15,20,40,8,11,55]\n",
    "low=0\n",
    "mid=3\n",
    "high=6\n",
    "merge(a,low,mid,high)"
   ]
  },
  {
   "cell_type": "code",
   "execution_count": 11,
   "id": "6c1801f5",
   "metadata": {},
   "outputs": [],
   "source": [
    "#M2 \n",
    "def merge(a,low,mid,high):\n",
    "    left=a[low:mid+1]\n",
    "    right=a[mid+1:high+1]\n",
    "    i=0\n",
    "    j=0\n",
    "    k=low\n",
    "    \n",
    "    while i<len(left) and j<len(right):\n",
    "        if left[i]<=right[j]:\n",
    "            a[k]=left[i]\n",
    "            k=k+1\n",
    "            i=i+1\n",
    "        else:\n",
    "            a[k]=right[j]\n",
    "            j=j+1\n",
    "            k=k+1\n",
    "            \n",
    "    while i<len(left):\n",
    "        a[k]=left[i]\n",
    "        k=k+1\n",
    "        i=i+1\n",
    "    while j<len(right):\n",
    "        a[k]=right[j]\n",
    "        k=k+1\n",
    "        j=j+1\n",
    "    return a"
   ]
  },
  {
   "cell_type": "code",
   "execution_count": 12,
   "id": "e159432c",
   "metadata": {},
   "outputs": [
    {
     "data": {
      "text/plain": [
       "[8, 10, 11, 15, 20, 40, 55]"
      ]
     },
     "execution_count": 12,
     "metadata": {},
     "output_type": "execute_result"
    }
   ],
   "source": [
    "a=[10,15,20,40,8,11,55]\n",
    "low=0\n",
    "mid=3\n",
    "high=6\n",
    "merge(a,low,mid,high)"
   ]
  },
  {
   "cell_type": "code",
   "execution_count": 1,
   "id": "fd5de6f7",
   "metadata": {},
   "outputs": [],
   "source": [
    "#Time complexity of mergesort=O(nlogn)\n",
    "def MergeSort(a,l,r):\n",
    "    if r>l:\n",
    "        mid=(l+r)//2\n",
    "        MergeSort(a,l,mid)\n",
    "        MergeSort(a,mid+1,r)\n",
    "        merge(a,l,mid,r)"
   ]
  },
  {
   "cell_type": "code",
   "execution_count": null,
   "id": "18ea27fc",
   "metadata": {},
   "outputs": [],
   "source": []
  }
 ],
 "metadata": {
  "kernelspec": {
   "display_name": "Python 3 (ipykernel)",
   "language": "python",
   "name": "python3"
  },
  "language_info": {
   "codemirror_mode": {
    "name": "ipython",
    "version": 3
   },
   "file_extension": ".py",
   "mimetype": "text/x-python",
   "name": "python",
   "nbconvert_exporter": "python",
   "pygments_lexer": "ipython3",
   "version": "3.11.4"
  }
 },
 "nbformat": 4,
 "nbformat_minor": 5
}
