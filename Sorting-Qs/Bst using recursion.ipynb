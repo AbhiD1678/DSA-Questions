{
 "cells": [
  {
   "cell_type": "code",
   "execution_count": null,
   "id": "290e52ad",
   "metadata": {},
   "outputs": [],
   "source": [
    "def Bsearch(lst,x,low,high):\n",
    "    if low>high:\n",
    "        return -1\n",
    "    mid=(low+high)//2\n",
    "    if x==lst[mid]:\n",
    "        return mid\n",
    "    elif x>lst[mid]:\n",
    "        return Bsearch(lst,x,mid+1,high)\n",
    "    elif x<lst[mid]:\n",
    "        return Bsearch(lst,x,low,mid-1)"
   ]
  }
 ],
 "metadata": {
  "kernelspec": {
   "display_name": "Python 3 (ipykernel)",
   "language": "python",
   "name": "python3"
  },
  "language_info": {
   "codemirror_mode": {
    "name": "ipython",
    "version": 3
   },
   "file_extension": ".py",
   "mimetype": "text/x-python",
   "name": "python",
   "nbconvert_exporter": "python",
   "pygments_lexer": "ipython3",
   "version": "3.11.4"
  }
 },
 "nbformat": 4,
 "nbformat_minor": 5
}
