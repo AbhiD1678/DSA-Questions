{
 "cells": [
  {
   "cell_type": "code",
   "execution_count": 1,
   "id": "1529ea9a",
   "metadata": {},
   "outputs": [],
   "source": [
    "# Time Complexity : O(nlogn)\n",
    "# Stable Algorithm\n",
    "# Divide ,conquer and merge\n",
    "# O(n) auxiliary space\n",
    "# Outperform by quick sort in arrays"
   ]
  },
  {
   "cell_type": "code",
   "execution_count": 2,
   "id": "66d0a5ac",
   "metadata": {},
   "outputs": [],
   "source": [
    "# Naive Solution\n",
    "\n",
    "def Merge(a,b):\n",
    "    result=a+b\n",
    "    result.sort()\n",
    "    return result"
   ]
  },
  {
   "cell_type": "code",
   "execution_count": 4,
   "id": "5249474d",
   "metadata": {},
   "outputs": [],
   "source": [
    "def MergeList(a,b):\n",
    "    res=[]\n",
    "    i,j=0\n",
    "    m=len(a)\n",
    "    n=len(b)\n",
    "    while i<m and j<n :\n",
    "        if a[i]<b[j]:\n",
    "            res.append(a[i])\n",
    "            i=i+1\n",
    "        else:\n",
    "            res.append(b[j])\n",
    "            j=j+1\n",
    "    while i<m:\n",
    "        res.append(a[i])\n",
    "        i+=1\n",
    "    while j<n:\n",
    "        res.append(b[j])\n",
    "        j+=1\n",
    "    return res"
   ]
  },
  {
   "cell_type": "code",
   "execution_count": null,
   "id": "7113252b",
   "metadata": {},
   "outputs": [],
   "source": []
  }
 ],
 "metadata": {
  "kernelspec": {
   "display_name": "Python 3 (ipykernel)",
   "language": "python",
   "name": "python3"
  },
  "language_info": {
   "codemirror_mode": {
    "name": "ipython",
    "version": 3
   },
   "file_extension": ".py",
   "mimetype": "text/x-python",
   "name": "python",
   "nbconvert_exporter": "python",
   "pygments_lexer": "ipython3",
   "version": "3.11.4"
  }
 },
 "nbformat": 4,
 "nbformat_minor": 5
}
