{
 "cells": [
  {
   "cell_type": "code",
   "execution_count": 5,
   "id": "660bec97",
   "metadata": {},
   "outputs": [],
   "source": [
    "#Time complexity:O(n*n)\n",
    "#Space complexity:O(1)\n",
    "def intersection(a,b):\n",
    "    m=len(a)\n",
    "    n=len(b)\n",
    "    \n",
    "    for i in range(m):\n",
    "        if i>0 and a[i]==a[i-1]:\n",
    "            continue\n",
    "        for j in range(n):\n",
    "            if b[j]==a[i]:\n",
    "                print(a[i])\n",
    "                break\n",
    "            "
   ]
  },
  {
   "cell_type": "code",
   "execution_count": 16,
   "id": "26686af6",
   "metadata": {},
   "outputs": [
    {
     "name": "stdout",
     "output_type": "stream",
     "text": [
      "20\n",
      "80\n",
      "90\n"
     ]
    }
   ],
   "source": [
    "a=[1,20,20,40,60,80,90]\n",
    "b=[2,20,20,20,80,90]\n",
    "intersection(a,b)"
   ]
  },
  {
   "cell_type": "code",
   "execution_count": 15,
   "id": "d8c0a581",
   "metadata": {},
   "outputs": [],
   "source": [
    "def intersection(a,b):\n",
    "    m=len(a)\n",
    "    n=len(b)\n",
    "    \n",
    "    i,j=0,0\n",
    "    \n",
    "    while i<m and j<n:\n",
    "        \n",
    "        if i>0 and a[i]==a[i-1]:\n",
    "            i+=1\n",
    "            continue\n",
    "        if a[i]<b[j]:\n",
    "            i+=1\n",
    "        elif b[j]<a[i]:\n",
    "            j+=1\n",
    "        else:\n",
    "            print(a[i])\n",
    "            i+=1\n",
    "            j+=1\n",
    "        "
   ]
  },
  {
   "cell_type": "code",
   "execution_count": null,
   "id": "d022bd29",
   "metadata": {},
   "outputs": [],
   "source": []
  }
 ],
 "metadata": {
  "kernelspec": {
   "display_name": "Python 3 (ipykernel)",
   "language": "python",
   "name": "python3"
  },
  "language_info": {
   "codemirror_mode": {
    "name": "ipython",
    "version": 3
   },
   "file_extension": ".py",
   "mimetype": "text/x-python",
   "name": "python",
   "nbconvert_exporter": "python",
   "pygments_lexer": "ipython3",
   "version": "3.11.4"
  }
 },
 "nbformat": 4,
 "nbformat_minor": 5
}
