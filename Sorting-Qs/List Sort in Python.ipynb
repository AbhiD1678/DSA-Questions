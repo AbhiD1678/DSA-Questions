{
 "cells": [
  {
   "cell_type": "code",
   "execution_count": 3,
   "id": "2a8ff3bd",
   "metadata": {},
   "outputs": [
    {
     "name": "stdout",
     "output_type": "stream",
     "text": [
      "1 15\n",
      "1 8\n",
      "10 5\n"
     ]
    }
   ],
   "source": [
    "#For user defined class\n",
    "\n",
    "class Point:\n",
    "    def __init__(self,x,y):\n",
    "        self.x=x\n",
    "        self.y=y\n",
    "    def FunS(p):\n",
    "        return p.x\n",
    "    \n",
    "    \n",
    "l=[Point(1,15),Point(10,5),Point(1,8)]\n",
    "\n",
    "l.sort(key=Point.FunS)\n",
    "\n",
    "for i in l:\n",
    "    print(i.x,i.y)\n",
    "    "
   ]
  },
  {
   "cell_type": "code",
   "execution_count": 4,
   "id": "5cd3526f",
   "metadata": {},
   "outputs": [
    {
     "name": "stdout",
     "output_type": "stream",
     "text": [
      "1 15\n",
      "1 8\n",
      "10 5\n"
     ]
    }
   ],
   "source": [
    "#M2\n",
    "\n",
    "class Point:\n",
    "    def __init__(self,x,y):\n",
    "        self.x=x\n",
    "        self.y=y\n",
    "        \n",
    "    def __lt__(self,other):\n",
    "        return self.x<other.x\n",
    "    \n",
    "    \n",
    "l=[Point(1,15),Point(10,5),Point(1,8)]\n",
    "\n",
    "l.sort()\n",
    "\n",
    "for i in l:\n",
    "    print(i.x,i.y)\n",
    "    \n",
    "    \n"
   ]
  },
  {
   "cell_type": "code",
   "execution_count": 5,
   "id": "e38e13b2",
   "metadata": {},
   "outputs": [],
   "source": [
    "# Uses TimSort algorithm which means it uses merge sort and insertion sort both\n",
    "# Stable\n",
    "# Works only for list\n",
    "# Modifies the same list"
   ]
  },
  {
   "cell_type": "code",
   "execution_count": null,
   "id": "d52baf35",
   "metadata": {},
   "outputs": [],
   "source": []
  }
 ],
 "metadata": {
  "kernelspec": {
   "display_name": "Python 3 (ipykernel)",
   "language": "python",
   "name": "python3"
  },
  "language_info": {
   "codemirror_mode": {
    "name": "ipython",
    "version": 3
   },
   "file_extension": ".py",
   "mimetype": "text/x-python",
   "name": "python",
   "nbconvert_exporter": "python",
   "pygments_lexer": "ipython3",
   "version": "3.11.4"
  }
 },
 "nbformat": 4,
 "nbformat_minor": 5
}
