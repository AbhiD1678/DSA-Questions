{
 "cells": [
  {
   "cell_type": "code",
   "execution_count": 1,
   "id": "83a4bc1d",
   "metadata": {},
   "outputs": [],
   "source": [
    "# Inversions means when i<j but arr[i]>arr[j]\n",
    "\n",
    "arr=[40,30,20,10]\n",
    "\n",
    "#So inversions are n-1+n-2+n-3+...+1,so n*(n-1)/2"
   ]
  },
  {
   "cell_type": "code",
   "execution_count": 4,
   "id": "1057d79b",
   "metadata": {},
   "outputs": [
    {
     "data": {
      "text/plain": [
       "3"
      ]
     },
     "execution_count": 4,
     "metadata": {},
     "output_type": "execute_result"
    }
   ],
   "source": [
    "#Naive solution,Time complexity of O(n^2)\n",
    "def invCount(arr):\n",
    "    res=0\n",
    "    n=len(arr)\n",
    "    \n",
    "    for i in range(n-1):\n",
    "        for j in range(i+1,n):\n",
    "            if arr[i]>arr[j]:\n",
    "                res+=1\n",
    "    return res\n",
    "\n",
    "arr=[2,4,1,3,5]\n",
    "invCount(arr)"
   ]
  },
  {
   "cell_type": "code",
   "execution_count": null,
   "id": "5b6874a8",
   "metadata": {},
   "outputs": [],
   "source": []
  }
 ],
 "metadata": {
  "kernelspec": {
   "display_name": "Python 3 (ipykernel)",
   "language": "python",
   "name": "python3"
  },
  "language_info": {
   "codemirror_mode": {
    "name": "ipython",
    "version": 3
   },
   "file_extension": ".py",
   "mimetype": "text/x-python",
   "name": "python",
   "nbconvert_exporter": "python",
   "pygments_lexer": "ipython3",
   "version": "3.11.4"
  }
 },
 "nbformat": 4,
 "nbformat_minor": 5
}
