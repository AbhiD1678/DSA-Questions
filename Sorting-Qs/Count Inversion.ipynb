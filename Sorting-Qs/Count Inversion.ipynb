{
 "cells": [
  {
   "cell_type": "code",
   "execution_count": 1,
   "id": "4d4dd89d",
   "metadata": {},
   "outputs": [],
   "source": [
    "# Inversions means when i<j but arr[i]>arr[j]\n",
    "\n",
    "arr=[40,30,20,10]\n",
    "\n",
    "#So inversions are n-1+n-2+n-3+...+1,so n*(n-1)/2"
   ]
  },
  {
   "cell_type": "code",
   "execution_count": 4,
   "id": "b3332008",
   "metadata": {},
   "outputs": [
    {
     "data": {
      "text/plain": [
       "3"
      ]
     },
     "execution_count": 4,
     "metadata": {},
     "output_type": "execute_result"
    }
   ],
   "source": [
    "#Naive solution,Time complexity of O(n^2)\n",
    "def invCount(arr):\n",
    "    res=0\n",
    "    n=len(arr)\n",
    "    \n",
    "    for i in range(n-1):\n",
    "        for j in range(i+1,n):\n",
    "            if arr[i]>arr[j]:\n",
    "                res+=1\n",
    "    return res\n",
    "\n",
    "arr=[2,4,1,3,5]\n",
    "invCount(arr)"
   ]
  },
  {
   "cell_type": "code",
   "execution_count": 5,
   "id": "882da660",
   "metadata": {},
   "outputs": [],
   "source": [
    "def countInv(arr,l,r):\n",
    "    res=0\n",
    "    \n",
    "    if l<r:\n",
    "        m=(l+r)//2\n",
    "        \n",
    "        res +=countInv(arr,l,m)\n",
    "        res+=countInv(arr,m+1,r)\n",
    "        res+=countMerge(arr,l,m,r)\n",
    "    return res\n",
    "\n",
    "def countMerge(arr,l,m,r):\n",
    "    \n",
    "    left=arr[l:m+1]\n",
    "    right=arr[m+1:r+1]\n",
    "    \n",
    "    res,i,j,k=0,0,0,l\n",
    "    \n",
    "    while i <len(left) and j < len(right):\n",
    "        \n",
    "        if left[i]<=right[j]:\n",
    "            arr[k]=left[i]\n",
    "            i+=1\n",
    "            k+=1\n",
    "        else:\n",
    "            arr[k]=right[j]\n",
    "            j+=1\n",
    "            k+=1\n",
    "            res=len(left)-i\n",
    "            \n",
    "    while i <len(left):\n",
    "        arr[k]=left[i]\n",
    "        k+=1\n",
    "        i+=1\n",
    "    while j < len(right):\n",
    "        \n",
    "        arr[k]=right[j]\n",
    "        k+=1\n",
    "        j+=1\n",
    "    \n",
    "    return res\n",
    "\n",
    "#Time complexity of O(nlogn)"
   ]
  },
  {
   "cell_type": "code",
   "execution_count": null,
   "id": "3e6ece6b",
   "metadata": {},
   "outputs": [],
   "source": []
  }
 ],
 "metadata": {
  "kernelspec": {
   "display_name": "Python 3 (ipykernel)",
   "language": "python",
   "name": "python3"
  },
  "language_info": {
   "codemirror_mode": {
    "name": "ipython",
    "version": 3
   },
   "file_extension": ".py",
   "mimetype": "text/x-python",
   "name": "python",
   "nbconvert_exporter": "python",
   "pygments_lexer": "ipython3",
   "version": "3.11.4"
  }
 },
 "nbformat": 4,
 "nbformat_minor": 5
}
