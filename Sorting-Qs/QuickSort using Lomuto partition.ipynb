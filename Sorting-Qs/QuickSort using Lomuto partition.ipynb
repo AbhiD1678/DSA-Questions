{
 "cells": [
  {
   "cell_type": "code",
   "execution_count": 14,
   "id": "26a526b7",
   "metadata": {},
   "outputs": [
    {
     "name": "stdout",
     "output_type": "stream",
     "text": [
      "[3, 4, 5, 7, 8, 9, 10]\n"
     ]
    }
   ],
   "source": [
    "def QSort(arr,l,h):\n",
    "    \n",
    "    if l<h:\n",
    "        p=lomutopartition(arr,l,h)\n",
    "        QSort(arr,l,p-1)\n",
    "        QSort(arr,p+1,h)\n",
    "\n",
    "def lomutopartition(arr,l,h):\n",
    "    pivot=arr[h]\n",
    "    i=l-1\n",
    "    \n",
    "    \n",
    "    for j in range(l,h):\n",
    "        \n",
    "        \n",
    "        if arr[j]<=pivot:\n",
    "            \n",
    "            i=i+1\n",
    "           \n",
    "            arr[i],arr[j]=arr[j],arr[i]\n",
    "    arr[i+1],arr[h]=arr[h],arr[i+1]\n",
    "    return i+1\n",
    "        \n",
    "arr=[8,4,7,9,3,10,5]\n",
    "QSort(arr,0,6)\n",
    "print(arr)"
   ]
  },
  {
   "cell_type": "code",
   "execution_count": null,
   "id": "7122d15a",
   "metadata": {},
   "outputs": [],
   "source": []
  }
 ],
 "metadata": {
  "kernelspec": {
   "display_name": "Python 3 (ipykernel)",
   "language": "python",
   "name": "python3"
  },
  "language_info": {
   "codemirror_mode": {
    "name": "ipython",
    "version": 3
   },
   "file_extension": ".py",
   "mimetype": "text/x-python",
   "name": "python",
   "nbconvert_exporter": "python",
   "pygments_lexer": "ipython3",
   "version": "3.11.4"
  }
 },
 "nbformat": 4,
 "nbformat_minor": 5
}
