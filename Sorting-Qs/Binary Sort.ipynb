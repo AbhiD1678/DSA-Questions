{
 "cells": [
  {
   "cell_type": "markdown",
   "id": "e1327763",
   "metadata": {},
   "source": [
    "Given a binary array A[] of size N. The task is to arrange the array in increasing order.\n",
    "Note: The binary array contains only 0  and 1.\n",
    " \n",
    "\n",
    "Example 1:\n",
    "\n",
    "Input: \n",
    "5\n",
    "1 0 1 1 0\n",
    "\n",
    "Output: \n",
    "0 0 1 1 1\n",
    "\n",
    "Explanation: \n",
    "After arranging the elements in \n",
    "increasing order, elements will be as \n",
    "0 0 1 1 1.\n",
    "Example 2:\n",
    "\n",
    "Input:\n",
    "10\n",
    "1 0 1 1 1 1 1 0 0 0\n",
    "\n",
    "Output: \n",
    "0 0 0 0 1 1 1 1 1 1\n",
    "\n",
    "Explanation: \n",
    "After arranging the elements in \n",
    "increasing order, elements will be \n",
    "0 0 0 0 1 1 1 1 1 1.\n",
    "\n",
    "Your Task: This is a function problem. You only need to complete the function binSort() that takes the array A[] and it's size N as parameters and sorts the array. The printing is done automatically by the driver code.\n",
    "\n",
    "Expected Time Complexity: O(N)\n",
    "Expected Auxilliary Space: O(1)\n",
    "\n",
    "Constraints:\n",
    "1 <= N <= 106\n",
    "0 <= A[i] <= 1"
   ]
  },
  {
   "cell_type": "code",
   "execution_count": 1,
   "id": "ff31a6eb",
   "metadata": {},
   "outputs": [],
   "source": [
    "#My solution:\n",
    "\n",
    "class Solution:\n",
    "    \n",
    "    #Function to sort the binary array.\n",
    "    def binSort(self, A, N): \n",
    "        #Your code here\n",
    "        return A.sort()"
   ]
  },
  {
   "cell_type": "code",
   "execution_count": 2,
   "id": "e60c496a",
   "metadata": {},
   "outputs": [],
   "source": [
    "class Solution:\n",
    "    \n",
    "    #Function to sort the binary Aay.\n",
    "    def binSort(self, A, N): \n",
    "        left = 0\n",
    "        right = N-1\n",
    "         \n",
    "        #Using segregation method.  \n",
    "        while left < right: \n",
    "            #While element at left index is 0, we increase the left index.\n",
    "            while A[left] == 0 and left < right: \n",
    "                left += 1\n",
    "      \n",
    "            #While element at right index is 1, we decrease the right index. \n",
    "            while A[right] == 1 and left < right: \n",
    "                right -= 1\n",
    "      \n",
    "            #If left is smaller than right then there is a 1 at left \n",
    "            #and a 0 at right. Exchanging A[left] and A[right]. \n",
    "            if left < right: \n",
    "                A[left] = 0\n",
    "                A[right] = 1\n",
    "                #Updating values of left and right index. \n",
    "                left += 1\n",
    "                right -= 1\n",
    "                "
   ]
  },
  {
   "cell_type": "code",
   "execution_count": null,
   "id": "7228149d",
   "metadata": {},
   "outputs": [],
   "source": []
  }
 ],
 "metadata": {
  "kernelspec": {
   "display_name": "Python 3 (ipykernel)",
   "language": "python",
   "name": "python3"
  },
  "language_info": {
   "codemirror_mode": {
    "name": "ipython",
    "version": 3
   },
   "file_extension": ".py",
   "mimetype": "text/x-python",
   "name": "python",
   "nbconvert_exporter": "python",
   "pygments_lexer": "ipython3",
   "version": "3.11.4"
  }
 },
 "nbformat": 4,
 "nbformat_minor": 5
}
