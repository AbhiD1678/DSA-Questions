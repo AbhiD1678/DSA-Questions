{
 "cells": [
  {
   "cell_type": "code",
   "execution_count": 26,
   "id": "29f7510c",
   "metadata": {},
   "outputs": [
    {
     "data": {
      "text/plain": [
       "(20, [2, 3, 4, 5, 6])"
      ]
     },
     "execution_count": 26,
     "metadata": {},
     "output_type": "execute_result"
    }
   ],
   "source": [
    "'''\n",
    "We were given an array = [1 4 5 4 5]\n",
    "We had to change the elements that were repeated to the next minimum\n",
    "element such that the sum of all the elements is minimum and greater\n",
    "than the original sum. We had to return the new sum of the modified\n",
    "array.\n",
    "In the above example the modified array will be [1 4 5 6 7] and the ans will\n",
    "be 23 (1+4+5+6+7) which is the minimum sum and greater than the\n",
    "original sum (19).\n",
    "'''\n",
    "\n",
    "# Approach\n",
    "\n",
    "def minSum(arr,n):\n",
    "    arr1=sorted(arr)\n",
    "    sum1=arr1[0]\n",
    "    \n",
    "    for i in range(1,n):\n",
    "        \n",
    "        if arr1[i]==arr1[i-1]:\n",
    "            \n",
    "            j=i\n",
    "            \n",
    "            while j<n and arr1[j]<=arr1[j-1]:\n",
    "                arr1[j]=arr1[j]+1\n",
    "                j+=1\n",
    "                \n",
    "        sum1=sum1+arr1[i]\n",
    "    return sum1,arr1\n",
    "    \n",
    "arr = [ 2, 2, 3, 5, 6 ]\n",
    "n = len(arr)\n",
    "\n",
    "minSum(arr, n)"
   ]
  },
  {
   "cell_type": "code",
   "execution_count": 27,
   "id": "1fa8f842",
   "metadata": {},
   "outputs": [
    {
     "data": {
      "text/plain": [
       "(23, [1, 4, 5, 6, 7])"
      ]
     },
     "execution_count": 27,
     "metadata": {},
     "output_type": "execute_result"
    }
   ],
   "source": [
    "arr=[1,4,5,4,5]\n",
    "n=len(arr)\n",
    "minSum(arr,n)"
   ]
  },
  {
   "cell_type": "code",
   "execution_count": 24,
   "id": "6a6ce4c2",
   "metadata": {},
   "outputs": [],
   "source": [
    "arr=[1,4,5,4,5]\n",
    "arr1=sorted(arr)"
   ]
  },
  {
   "cell_type": "code",
   "execution_count": 25,
   "id": "ceaeb8fc",
   "metadata": {},
   "outputs": [
    {
     "data": {
      "text/plain": [
       "[1, 4, 4, 5, 5]"
      ]
     },
     "execution_count": 25,
     "metadata": {},
     "output_type": "execute_result"
    }
   ],
   "source": [
    "arr1"
   ]
  },
  {
   "cell_type": "code",
   "execution_count": null,
   "id": "e2b14fad",
   "metadata": {},
   "outputs": [],
   "source": []
  }
 ],
 "metadata": {
  "kernelspec": {
   "display_name": "Python 3 (ipykernel)",
   "language": "python",
   "name": "python3"
  },
  "language_info": {
   "codemirror_mode": {
    "name": "ipython",
    "version": 3
   },
   "file_extension": ".py",
   "mimetype": "text/x-python",
   "name": "python",
   "nbconvert_exporter": "python",
   "pygments_lexer": "ipython3",
   "version": "3.11.4"
  }
 },
 "nbformat": 4,
 "nbformat_minor": 5
}
