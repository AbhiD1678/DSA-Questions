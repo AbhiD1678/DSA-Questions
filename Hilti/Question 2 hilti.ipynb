{
 "cells": [
  {
   "cell_type": "code",
   "execution_count": 2,
   "id": "605a0266",
   "metadata": {},
   "outputs": [
    {
     "data": {
      "text/plain": [
       "[38, 151, 454]"
      ]
     },
     "execution_count": 2,
     "metadata": {},
     "output_type": "execute_result"
    }
   ],
   "source": [
    "'''\n",
    "An input sequence as well as output sequence was given. I had to find the\n",
    "logic behind the generation of o/p seq from i/p sequence.\n",
    "He first gave me example:\n",
    "input->{12,70,7,44,9,1}\n",
    "output->{8,21,114}\n",
    "After 2 mins of thinking I wasn't able to conclude anything, I immediately asked\n",
    "for another example(don’t be shy to ask for a hint, be interactive). He gave me\n",
    "next example:\n",
    "input-> {123,331,23,90,15,61}\n",
    "output-> {38,151,454}\n",
    "'''\n",
    "\n",
    "def sumoftwo(arr):\n",
    "    arr1=[]\n",
    "    arr.sort()\n",
    "    for i in range(0,len(arr),2):\n",
    "        arr1.append(arr[i]+arr[i+1])\n",
    "        \n",
    "    return arr1\n",
    "\n",
    "arr=[123,331,23,90,15,61]\n",
    "sumoftwo(arr)"
   ]
  },
  {
   "cell_type": "code",
   "execution_count": null,
   "id": "f4c78d84",
   "metadata": {},
   "outputs": [],
   "source": []
  }
 ],
 "metadata": {
  "kernelspec": {
   "display_name": "Python 3 (ipykernel)",
   "language": "python",
   "name": "python3"
  },
  "language_info": {
   "codemirror_mode": {
    "name": "ipython",
    "version": 3
   },
   "file_extension": ".py",
   "mimetype": "text/x-python",
   "name": "python",
   "nbconvert_exporter": "python",
   "pygments_lexer": "ipython3",
   "version": "3.11.7"
  }
 },
 "nbformat": 4,
 "nbformat_minor": 5
}
