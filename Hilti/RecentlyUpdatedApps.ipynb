{
 "cells": [
  {
   "cell_type": "code",
   "execution_count": 5,
   "id": "76c65d8f",
   "metadata": {},
   "outputs": [
    {
     "name": "stdout",
     "output_type": "stream",
     "text": [
      "4 3 5 2 1 "
     ]
    }
   ],
   "source": [
    "# Python implementation of the approach\n",
    "\n",
    "# Function to update the array\n",
    "# in most recently used fashion\n",
    "def mostRecentlyUsedApps(arr, N, K):\n",
    "\n",
    "\tapp_index = 0\n",
    "\n",
    "\t# Finding the end index after K presses\n",
    "\tapp_index = (K % N)\n",
    "\n",
    "\n",
    "\t# Shifting elements by 1 towards the found index\n",
    "\t# on which the K press ends\n",
    "\tx = app_index\n",
    "\tapp_id = arr[app_index]\n",
    "\twhile (x > 0):\n",
    "\t\tarr[x] = arr[x - 1]\n",
    "\t\tx -= 1\n",
    "\n",
    "\t# Update the current active app\n",
    "\tarr[0] = app_id\n",
    "\n",
    "# Utility function to print\n",
    "# the contents of the array\n",
    "def printArray(arr, N):\n",
    "\n",
    "\tfor i in range(N):\n",
    "\t\tprint(arr[i], end=\" \")\n",
    "\n",
    "# Driver code\n",
    "K = 3\n",
    "arr = [3, 5, 2, 4, 1]\n",
    "N = len(arr)\n",
    "\n",
    "mostRecentlyUsedApps(arr, N, K)\n",
    "printArray(arr, N)\n",
    "\n",
    "# This code is contributed by Samim Hossain Mondal.\n"
   ]
  },
  {
   "cell_type": "code",
   "execution_count": 6,
   "id": "58474239",
   "metadata": {},
   "outputs": [
    {
     "data": {
      "text/plain": [
       "3"
      ]
     },
     "execution_count": 6,
     "metadata": {},
     "output_type": "execute_result"
    }
   ],
   "source": [
    "3%5\n"
   ]
  },
  {
   "cell_type": "code",
   "execution_count": null,
   "id": "2f9022ea",
   "metadata": {},
   "outputs": [],
   "source": []
  }
 ],
 "metadata": {
  "kernelspec": {
   "display_name": "Python 3 (ipykernel)",
   "language": "python",
   "name": "python3"
  },
  "language_info": {
   "codemirror_mode": {
    "name": "ipython",
    "version": 3
   },
   "file_extension": ".py",
   "mimetype": "text/x-python",
   "name": "python",
   "nbconvert_exporter": "python",
   "pygments_lexer": "ipython3",
   "version": "3.11.4"
  }
 },
 "nbformat": 4,
 "nbformat_minor": 5
}
