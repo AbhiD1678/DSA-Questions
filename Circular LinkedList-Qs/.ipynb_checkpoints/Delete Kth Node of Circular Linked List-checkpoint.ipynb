{
 "cells": [
  {
   "cell_type": "code",
   "execution_count": 1,
   "id": "f01b5998-6ceb-40f0-a1d5-5ace79cc5662",
   "metadata": {},
   "outputs": [],
   "source": [
    "def KNode(head,k):\n",
    "    if head==None:\n",
    "        return head\n",
    "    elif k==1:\n",
    "        return delFirst(head)\n",
    "\n",
    "    else:\n",
    "        curr=head\n",
    "        for i in range(k-2):\n",
    "            curr=curr.next\n",
    "        curr.next=curr.next.next\n",
    "        return head"
   ]
  },
  {
   "cell_type": "code",
   "execution_count": 2,
   "id": "78c84499-5ec7-47ea-b052-f00ddb634f53",
   "metadata": {},
   "outputs": [
    {
     "name": "stdout",
     "output_type": "stream",
     "text": [
      "10 20 15 30 \n",
      "10 20 15 \n"
     ]
    }
   ],
   "source": [
    "class Node:\n",
    "    def __init__(self, data):\n",
    "        self.data = data\n",
    "        self.next = None\n",
    "\n",
    "\n",
    "def delHead(head):\n",
    "    if head == None:\n",
    "        return None\n",
    "    elif head.next == head:\n",
    "        return None\n",
    "    else:\n",
    "        head.data = head.next.data\n",
    "        head.next = head.next.next\n",
    "\n",
    "        return head\n",
    "\n",
    "\n",
    "def delKth(head, k):\n",
    "    if head == None:\n",
    "        return head\n",
    "\n",
    "    elif k == 1:\n",
    "        return delHead(head)\n",
    "\n",
    "    else:\n",
    "        curr = head\n",
    "\n",
    "        for i in range(k - 2):\n",
    "            curr = curr.next\n",
    "\n",
    "        curr.next = curr.next.next\n",
    "        return head\n",
    "\n",
    "\n",
    "def printCircular(head):\n",
    "    if head == None:\n",
    "        return\n",
    "    print(head.data, end=\" \")\n",
    "    curr = head.next\n",
    "    while curr != head:\n",
    "        print(curr.data, end=\" \")\n",
    "        curr = curr.next\n",
    "\n",
    "    print()\n",
    "\n",
    "\n",
    "head = Node(10)\n",
    "head.next = Node(20)\n",
    "head.next.next = Node(15)\n",
    "head.next.next.next = Node(30)\n",
    "head.next.next.next.next = head\n",
    "\n",
    "printCircular(head)\n",
    "\n",
    "head = delKth(head, 4)\n",
    "\n",
    "printCircular(head)\n"
   ]
  },
  {
   "cell_type": "code",
   "execution_count": null,
   "id": "4d7a0b4b-3fc2-4f72-bea8-5c08959b84fe",
   "metadata": {},
   "outputs": [],
   "source": []
  }
 ],
 "metadata": {
  "kernelspec": {
   "display_name": "Python 3 (ipykernel)",
   "language": "python",
   "name": "python3"
  },
  "language_info": {
   "codemirror_mode": {
    "name": "ipython",
    "version": 3
   },
   "file_extension": ".py",
   "mimetype": "text/x-python",
   "name": "python",
   "nbconvert_exporter": "python",
   "pygments_lexer": "ipython3",
   "version": "3.11.7"
  }
 },
 "nbformat": 4,
 "nbformat_minor": 5
}
