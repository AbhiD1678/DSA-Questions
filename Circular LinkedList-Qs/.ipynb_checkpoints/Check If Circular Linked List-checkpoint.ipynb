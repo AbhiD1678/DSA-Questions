{
 "cells": [
  {
   "cell_type": "raw",
   "id": "c3df3d49-1758-48eb-840e-772d5337a1f9",
   "metadata": {},
   "source": [
    "Given head, the head of a singly linked list, find if the linked list is circular or not. A linked list is called circular if it not NULL terminated and all nodes are connected in the form of a cycle. An empty linked list is considered as circular.\n",
    "\n",
    "Note: The linked list does not contains any inner loop.\n",
    "\n",
    "Example 1:\n",
    "\n",
    "Input:\n",
    "LinkedList: 1->2->3->4->5\n",
    "(the first and last node is connected,\n",
    "i.e. 5 --> 1)\n",
    "Output: 1\n",
    "Example 2:\n",
    "\n",
    "Input:\n",
    "LinkedList: 2->4->6->7->5->1\n",
    "Output: 0\n",
    "Your Task:\n",
    "The task is to complete the function isCircular() which checks if the given linked list is circular or not. It should return true or false accordingly. (the driver code prints 1 if the returned values is true, otherwise 0)\n",
    "\n",
    "Expected Time Complexity: O(N).\n",
    "Expected Auxiliary Space: O(1).\n",
    "\n",
    "Constraints:\n",
    "1 <=Number of nodes<= 100\n",
    "\n"
   ]
  },
  {
   "cell_type": "code",
   "execution_count": 2,
   "id": "babb0a43-bd00-40d7-948b-8be283256c13",
   "metadata": {},
   "outputs": [],
   "source": [
    "#class Node:\n",
    "#    def __init__(self, data):\n",
    "#        self.data = data\n",
    "#        self.next = None\n",
    "\n",
    "\n",
    "# your task is to complete this function\n",
    "# function should return true/false or 1/0\n",
    "def isCircular(head):\n",
    "    # Code here\n",
    "    if head==None:\n",
    "        return 0\n",
    "    if head.next==None:\n",
    "        return 0\n",
    "    curr=head.next\n",
    "    while curr.next!=None :\n",
    "        if curr.next==head:\n",
    "            return 1\n",
    "        curr=curr.next\n",
    "    return 0"
   ]
  },
  {
   "cell_type": "raw",
   "id": "6cefa3ce-b13c-4cdd-9eb4-6b1afaca0e91",
   "metadata": {},
   "source": [
    "Expected Approach"
   ]
  },
  {
   "cell_type": "raw",
   "id": "bfeaa45f-cf6b-43f1-bf21-73e77797cd89",
   "metadata": {},
   "source": [
    "Intuition\n",
    "The simple idea behind this code is to traverse the linked list while checking if the head->next pointer ever points back to the initial node (temp). If this condition is met, it indicates that the linked list is circular.\n",
    "\n",
    "Implementation\n",
    "Check if the head pointer is NULL (i.e., the list is empty). If it is, return true (an empty list is considered circular).\n",
    "Initialize a temporary pointer temp with the value of head.\n",
    "Enter a while loop that continues until either the head pointer becomes NULL or the head->next pointer points to the temp node.\n",
    "If the loop terminates because head is NULL, return false (indicating that the linked list is not circular).\n",
    "If the loop terminates because head->next points to temp, it means the linked list is circular, and the loop condition has been satisfied. In this case, return true.\n",
    "After the loop, check if either head or head->next is NULL. If either is NULL, return false (indicating that the linked list is not circular).\n",
    "If none of the above conditions are met, return true (indicating that the linked list is circular).\n",
    "\n",
    "Complexity\n",
    "Time Complexity: The time complexity of this algorithm is O(n), where n is the number of nodes in the linked list. The loop iterates through each node at most once.\n",
    "Space Complexity: The space complexity is O(1) because only a constant amount of extra space is used for storing the temp and head pointers.\n"
   ]
  },
  {
   "cell_type": "code",
   "execution_count": 3,
   "id": "c637ea32-59fc-4040-adab-df35e1e92cb0",
   "metadata": {},
   "outputs": [],
   "source": [
    "def isCircular(head):\n",
    "    # Check if the linked list is circular\n",
    "    temp = head.next; # Get the next node of the head\n",
    "    while(temp!=None and temp!=head): # Loop until the end of the list or until temp becomes equal to head\n",
    "        temp=temp.next; # Move to the next node\n",
    "    return temp==head # Return true if temp is equal to head, indicating that the list is circular\n"
   ]
  },
  {
   "cell_type": "raw",
   "id": "63d3ffa4-74e9-4973-a9f8-a7141ef018a6",
   "metadata": {},
   "source": [
    "Alternate Approach"
   ]
  },
  {
   "cell_type": "raw",
   "id": "6ced7631-c9af-4f38-8b3f-af65b0101e7f",
   "metadata": {},
   "source": [
    "Intuition\n",
    "The idea behind this code is to use two pointers, slow and fast, to traverse the linked list. The slow pointer moves one step at a time, while the fast pointer moves two steps at a time. If there is a loop in the linked list, eventually the two pointers will meet, indicating the presence of a cycle.\n",
    "\n",
    "Implementation\n",
    "Check if the head pointer is null. If it is, return false (an empty list cannot be circular).\n",
    "Initialize two pointers, slow and fast, both pointing to the head node. slow moves one step at a time, and fast moves two steps at a time.\n",
    "Enter a while loop that continues until either fast becomes null or fast.next becomes null. This loop condition ensures that both pointers do not go out of bounds.\n",
    "Inside the loop, check if slow and fast are pointing to the same node. If they are, it indicates a cycle, and the function should return true.\n",
    "Move the slow pointer one step forward (slow = slow.next) and the fast pointer two steps forward (fast = fast.next.next).\n",
    "If the loop exits without finding a cycle, return false (indicating that the linked list is not circular).\n",
    "\n",
    "\n",
    "Complexity\n",
    "Time Complexity: The time complexity of this algorithm is O(n), where n is the number of nodes in the linked list. In the worst case, both the slow and fast pointers traverse the linked list once, and the loop terminates in O(n) time.\n",
    "Space Complexity: The space complexity is O(1) since only a constant amount of extra space is used for the slow and fast pointers"
   ]
  },
  {
   "cell_type": "code",
   "execution_count": 4,
   "id": "48908292-8743-4ae2-a923-2a43346cddb2",
   "metadata": {},
   "outputs": [],
   "source": [
    "#class Node:\n",
    "#    def __init__(self, data):\n",
    "#        self.data = data\n",
    "#        self.next = None\n",
    "\n",
    "\n",
    "# your task is to complete this function\n",
    "# function should return true/false or 1/0\n",
    "def isCircular(head):\n",
    "    # Code here\n",
    "    if head==None:\n",
    "        return 0\n",
    "    slow=head\n",
    "    fast=head.next\n",
    "    while fast!= None and fast.next!=None:\n",
    "        if slow==fast:\n",
    "            return 1\n",
    "        slow=slow.next\n",
    "        fast=fast.next.next\n",
    "    return 0\n",
    "    \n",
    "    "
   ]
  },
  {
   "cell_type": "code",
   "execution_count": null,
   "id": "84a8da58-58a2-4a69-afd8-e8de4cb3b3e3",
   "metadata": {},
   "outputs": [],
   "source": []
  }
 ],
 "metadata": {
  "kernelspec": {
   "display_name": "Python 3 (ipykernel)",
   "language": "python",
   "name": "python3"
  },
  "language_info": {
   "codemirror_mode": {
    "name": "ipython",
    "version": 3
   },
   "file_extension": ".py",
   "mimetype": "text/x-python",
   "name": "python",
   "nbconvert_exporter": "python",
   "pygments_lexer": "ipython3",
   "version": "3.11.7"
  }
 },
 "nbformat": 4,
 "nbformat_minor": 5
}
