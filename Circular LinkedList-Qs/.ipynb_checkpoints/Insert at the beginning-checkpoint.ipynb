{
 "cells": [
  {
   "cell_type": "raw",
   "id": "6fe69728-fb6a-4aea-9790-347fa8e7a7c6",
   "metadata": {},
   "source": [
    "Method 1 Linear Time"
   ]
  },
  {
   "cell_type": "code",
   "execution_count": 1,
   "id": "b9861296-5e00-443f-9b46-558d0ab9ff28",
   "metadata": {},
   "outputs": [],
   "source": [
    "def insertAtbeg(head,X):\n",
    "    temp=Node(X)\n",
    "    if head==None:\n",
    "        temp.next=temp\n",
    "        return temp\n",
    "    curr=head\n",
    "    while curr.next!=head:\n",
    "        curr=curr.next\n",
    "    curr.next=temp\n",
    "    temp.next=head\n",
    "    return temp"
   ]
  },
  {
   "cell_type": "raw",
   "id": "3b8090e2-f3a6-404e-8c86-9ca621f0cc89",
   "metadata": {},
   "source": [
    "Method 2 Constant Time"
   ]
  },
  {
   "cell_type": "code",
   "execution_count": 2,
   "id": "39f24b8a-f0fd-4d0c-805b-48bddd514e4f",
   "metadata": {},
   "outputs": [],
   "source": [
    "def insertAtBeg(head,X):\n",
    "    temp=Node(X)\n",
    "    if head==None:\n",
    "        temp.next=temp\n",
    "        return temp\n",
    "    temp.next=head.next\n",
    "    head.next=temp\n",
    "    temp.data,head.data=head.data,temp.data#Swap\n",
    "    return head"
   ]
  },
  {
   "cell_type": "code",
   "execution_count": null,
   "id": "855d9a5c-9073-4603-8a60-b8926f2d8016",
   "metadata": {},
   "outputs": [],
   "source": []
  }
 ],
 "metadata": {
  "kernelspec": {
   "display_name": "Python 3 (ipykernel)",
   "language": "python",
   "name": "python3"
  },
  "language_info": {
   "codemirror_mode": {
    "name": "ipython",
    "version": 3
   },
   "file_extension": ".py",
   "mimetype": "text/x-python",
   "name": "python",
   "nbconvert_exporter": "python",
   "pygments_lexer": "ipython3",
   "version": "3.11.7"
  }
 },
 "nbformat": 4,
 "nbformat_minor": 5
}
