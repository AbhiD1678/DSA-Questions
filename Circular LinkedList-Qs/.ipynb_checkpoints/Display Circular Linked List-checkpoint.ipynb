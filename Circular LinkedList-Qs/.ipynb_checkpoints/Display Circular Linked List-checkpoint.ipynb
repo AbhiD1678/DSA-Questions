{
 "cells": [
  {
   "cell_type": "raw",
   "id": "41c80a7e-40aa-43d9-8810-73d87a897bd4",
   "metadata": {},
   "source": [
    "Given a circular linked list of size n, you need to display the linked list. The tail of the linked list is connected to head.\n",
    "\n",
    "Example 1:\n",
    "\n",
    "Input:\n",
    "LinkedList: 1->2->3->4\n",
    "(the last and the first node are connected,\n",
    "i.e. 4 -> 1)\n",
    "Output: 1 2 3 4\n",
    "Example 2:\n",
    "\n",
    "Input:\n",
    "LinkedList: 1->2\n",
    "(the last and the first node are connected,\n",
    "i.e. 2 -> 1)\n",
    "Output: 1 2\n",
    "Your Task:\n",
    "The task is to complete the function displayList() which takes head reference as argument and returns the circular linked list as a list.\n",
    "\n",
    "Expected Time Complexity: O(N).\n",
    "Expected Auxiliary Space: O(N).\n",
    "\n",
    "Constraints:\n",
    "1 <= number of nodes <= 1000"
   ]
  },
  {
   "cell_type": "code",
   "execution_count": 1,
   "id": "d9572f72-e3b1-44ea-8f58-1a9ebda3a8ed",
   "metadata": {},
   "outputs": [],
   "source": [
    "'''\n",
    "class Node:\n",
    "    def __init__(self, data):\n",
    "        self.data = data\n",
    "        self.next = None\n",
    "'''\n",
    "\n",
    "def displayList(head):\n",
    "    #code here\n",
    "    if head==None:\n",
    "        return \n",
    "    a=[]\n",
    "    a.append(head.data)\n",
    "    \n",
    "    curr=head.next\n",
    "    while curr!=head:\n",
    "        a.append(curr.data)\n",
    "        curr=curr.next\n",
    "    return a"
   ]
  },
  {
   "cell_type": "code",
   "execution_count": null,
   "id": "3dee2e93-6ad7-42e6-a0d9-994242c761c5",
   "metadata": {},
   "outputs": [],
   "source": []
  }
 ],
 "metadata": {
  "kernelspec": {
   "display_name": "Python 3 (ipykernel)",
   "language": "python",
   "name": "python3"
  },
  "language_info": {
   "codemirror_mode": {
    "name": "ipython",
    "version": 3
   },
   "file_extension": ".py",
   "mimetype": "text/x-python",
   "name": "python",
   "nbconvert_exporter": "python",
   "pygments_lexer": "ipython3",
   "version": "3.11.7"
  }
 },
 "nbformat": 4,
 "nbformat_minor": 5
}
