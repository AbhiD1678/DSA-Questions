{
 "cells": [
  {
   "cell_type": "raw",
   "id": "b917ac9c-aad3-46f6-a633-e5443bbfee9e",
   "metadata": {},
   "source": [
    "Naive Solution\n"
   ]
  },
  {
   "cell_type": "code",
   "execution_count": 3,
   "id": "c4553c7e-59c5-4268-87be-cf7358c2e179",
   "metadata": {},
   "outputs": [],
   "source": [
    "def delHead(head):\n",
    "    if head==None:\n",
    "        return\n",
    "    elif head.next==head:\n",
    "        return\n",
    "\n",
    "    curr=head.next\n",
    "    while curr.next!=head:\n",
    "        curr=curr.next\n",
    "    curr.next=head.next\n",
    "    return curr.next"
   ]
  },
  {
   "cell_type": "code",
   "execution_count": 7,
   "id": "2187fca9-92ee-42a3-be2d-0a0fdd8cc5c8",
   "metadata": {},
   "outputs": [
    {
     "name": "stdout",
     "output_type": "stream",
     "text": [
      "10 20 30 \n",
      "20 30 \n"
     ]
    }
   ],
   "source": [
    "class Node:\n",
    "    def __init__(self, data):\n",
    "        self.data = data\n",
    "        self.next = None\n",
    "\n",
    "\n",
    "def delHead(head):\n",
    "    if head == None:\n",
    "        return None\n",
    "\n",
    "    elif head.next == head:\n",
    "        return None\n",
    "\n",
    "    curr = head\n",
    "    while curr.next != head:\n",
    "        curr = curr.next\n",
    "    curr.next = head.next\n",
    "    return curr.next\n",
    "\n",
    "\n",
    "def printCircular(head):\n",
    "    if head == None:\n",
    "        return\n",
    "    print(head.data, end=\" \")\n",
    "    curr = head.next\n",
    "    while curr != head:\n",
    "        print(curr.data, end=\" \")\n",
    "        curr = curr.next\n",
    "\n",
    "    print()\n",
    "\n",
    "\n",
    "head = Node(10)\n",
    "head.next = Node(20)\n",
    "head.next.next = Node(30)\n",
    "head.next.next.next = head\n",
    "\n",
    "printCircular(head)\n",
    "\n",
    "head = delHead(head)\n",
    "\n",
    "printCircular(head)\n"
   ]
  },
  {
   "cell_type": "raw",
   "id": "89669da4-f561-4e22-8f0a-16c05535d9e0",
   "metadata": {},
   "source": [
    "Constant Time"
   ]
  },
  {
   "cell_type": "code",
   "execution_count": 6,
   "id": "a52d12c5-8774-45af-bd32-792e1920602e",
   "metadata": {},
   "outputs": [],
   "source": [
    "def delHead(head):\n",
    "    if head==None:\n",
    "        return\n",
    "    elif head.next==head:\n",
    "        return \n",
    "    else:\n",
    "        head.data=head.next.data\n",
    "        head.next=head.next.next\n",
    "        return head"
   ]
  },
  {
   "cell_type": "code",
   "execution_count": 8,
   "id": "6e065561-7742-40f1-b109-1bf00a84df76",
   "metadata": {},
   "outputs": [
    {
     "name": "stdout",
     "output_type": "stream",
     "text": [
      "10 20 30 \n",
      "20 30 \n"
     ]
    }
   ],
   "source": [
    "class Node:\n",
    "    def __init__(self, data):\n",
    "        self.data = data\n",
    "        self.next = None\n",
    "\n",
    "\n",
    "def delHead(head):\n",
    "    if head == None:\n",
    "        return None\n",
    "    elif head.next == head:\n",
    "        return None\n",
    "    else:\n",
    "        head.data = head.next.data\n",
    "        head.next = head.next.next\n",
    "\n",
    "        return head\n",
    "\n",
    "\n",
    "def printCircular(head):\n",
    "    if head == None:\n",
    "        return\n",
    "    print(head.data, end=\" \")\n",
    "    curr = head.next\n",
    "    while curr != head:\n",
    "        print(curr.data, end=\" \")\n",
    "        curr = curr.next\n",
    "\n",
    "    print()\n",
    "\n",
    "\n",
    "head = Node(10)\n",
    "head.next = Node(20)\n",
    "head.next.next = Node(30)\n",
    "head.next.next.next = head\n",
    "\n",
    "printCircular(head)\n",
    "\n",
    "head = delHead(head)\n",
    "\n",
    "printCircular(head)\n"
   ]
  },
  {
   "cell_type": "code",
   "execution_count": null,
   "id": "20712cfa-0c06-4254-a539-bbf2513db004",
   "metadata": {},
   "outputs": [],
   "source": []
  }
 ],
 "metadata": {
  "kernelspec": {
   "display_name": "Python 3 (ipykernel)",
   "language": "python",
   "name": "python3"
  },
  "language_info": {
   "codemirror_mode": {
    "name": "ipython",
    "version": 3
   },
   "file_extension": ".py",
   "mimetype": "text/x-python",
   "name": "python",
   "nbconvert_exporter": "python",
   "pygments_lexer": "ipython3",
   "version": "3.11.7"
  }
 },
 "nbformat": 4,
 "nbformat_minor": 5
}
