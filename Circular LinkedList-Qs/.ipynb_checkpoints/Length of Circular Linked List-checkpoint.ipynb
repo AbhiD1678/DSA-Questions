{
 "cells": [
  {
   "cell_type": "raw",
   "id": "0e20d9ea-8174-4be0-864b-91985e863c23",
   "metadata": {},
   "source": [
    "Given a circular linked list of size n, you need to find the length of the list (total number of nodes). The tail of the linked list is connected to head.\n",
    "\n",
    "Example 1:\n",
    "\n",
    "Input:\n",
    "LinkedList: 1->2->3->4->5\n",
    "(the first and the last node is connected,\n",
    "i.e 5 --> 1)\n",
    "Output: 5\n",
    "Example 2:\n",
    "\n",
    "Input:\n",
    "LinkedList: 2->5->7->8->99->100\n",
    "(the first and the last node is connected,\n",
    "i.e 100 --> 2)\n",
    "Output: 6\n",
    "Your Task:\n",
    "The task is to complete the function getLength() which takes head reference as argument and returns the total number of nodes in the list. The printing is done by the driver code.\n",
    "\n",
    "Expected Time Complexity: O(N).\n",
    "Expected Auxiliary Space: O(1).\n",
    "\n",
    "Constraints:\n",
    "1 <= number of nodes <= 1000"
   ]
  },
  {
   "cell_type": "code",
   "execution_count": 1,
   "id": "e035a761-48cb-44f3-9b3b-83e8f5dd5aa0",
   "metadata": {},
   "outputs": [],
   "source": [
    "\n",
    "'''\n",
    "class Node:\n",
    "    def __init__(self, data):\n",
    "        self.data = data\n",
    "        self.next = None\n",
    "'''\n",
    "\n",
    "def getLength(head):\n",
    "    #code here\n",
    "    if head==None:\n",
    "        return 0\n",
    "    count=1\n",
    "    curr=head.next\n",
    "    \n",
    "    while curr!=head:\n",
    "        count+=1\n",
    "        curr=curr.next\n",
    "    return count\n"
   ]
  },
  {
   "cell_type": "code",
   "execution_count": null,
   "id": "af3e8c3a-df78-4d21-8331-1b96dc1e58d1",
   "metadata": {},
   "outputs": [],
   "source": []
  }
 ],
 "metadata": {
  "kernelspec": {
   "display_name": "Python 3 (ipykernel)",
   "language": "python",
   "name": "python3"
  },
  "language_info": {
   "codemirror_mode": {
    "name": "ipython",
    "version": 3
   },
   "file_extension": ".py",
   "mimetype": "text/x-python",
   "name": "python",
   "nbconvert_exporter": "python",
   "pygments_lexer": "ipython3",
   "version": "3.11.7"
  }
 },
 "nbformat": 4,
 "nbformat_minor": 5
}
