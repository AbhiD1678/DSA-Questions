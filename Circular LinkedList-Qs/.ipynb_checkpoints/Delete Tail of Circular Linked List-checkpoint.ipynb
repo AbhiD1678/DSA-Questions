{
 "cells": [
  {
   "cell_type": "raw",
   "id": "b38e1191-0af1-4d19-8136-be2e3b78c217",
   "metadata": {},
   "source": [
    "Given a circular linked list of size n, you have to delete the tail (last element) in the linked list.\n",
    "In a circular linked list, the tail is connect to the head using the next pointer.\n",
    "\n",
    "Example 1:\n",
    "\n",
    "Input:\n",
    "LinkedList: 1->2\n",
    "(the first and last node are connected,\n",
    "i.e. 2 --> 1)\n",
    "Output: 1\n",
    "Example 2:\n",
    "\n",
    "Input:\n",
    "LinkedList: 2->5->7->8->99->100\n",
    "(the first and last node are connected,\n",
    "i.e. 100 --> 2)\n",
    "Output: 2 5 7 8 99\n",
    "Your Task:\n",
    "The task is to complete the function deleteTail() which takes head reference  and returns reference to the head node, which is then used to display the list. The printing is done automatically by the driver code.\n",
    "\n",
    "Expected Time Complexity: O(n).\n",
    "Expected Auxiliary Space: O(1).\n",
    "\n",
    "Constraints:\n",
    "2 <= number of nodes <= 103\n",
    "\n",
    " "
   ]
  },
  {
   "cell_type": "code",
   "execution_count": 1,
   "id": "fd69806c-0d5a-4a29-bd32-dfd6f8e7403d",
   "metadata": {},
   "outputs": [],
   "source": [
    "\n",
    "'''\n",
    "class Node:\n",
    "    def __init__(self, data):\n",
    "        self.data = data\n",
    "        self.next = None\n",
    "'''\n",
    "\n",
    "def deleteTail(head):\n",
    "    #code here\n",
    "    if head==None:\n",
    "        return\n",
    "    if head.next==head:\n",
    "        return \n",
    "    curr=head\n",
    "    while curr.next.next!=head:\n",
    "        curr=curr.next\n",
    "    temp=curr.next\n",
    "    curr.next=head\n",
    "    temp.next=None\n",
    "    return head"
   ]
  },
  {
   "cell_type": "code",
   "execution_count": null,
   "id": "f62bf5dd-ccde-4bfe-ab60-76ac42c70cdf",
   "metadata": {},
   "outputs": [],
   "source": []
  }
 ],
 "metadata": {
  "kernelspec": {
   "display_name": "Python 3 (ipykernel)",
   "language": "python",
   "name": "python3"
  },
  "language_info": {
   "codemirror_mode": {
    "name": "ipython",
    "version": 3
   },
   "file_extension": ".py",
   "mimetype": "text/x-python",
   "name": "python",
   "nbconvert_exporter": "python",
   "pygments_lexer": "ipython3",
   "version": "3.11.7"
  }
 },
 "nbformat": 4,
 "nbformat_minor": 5
}
