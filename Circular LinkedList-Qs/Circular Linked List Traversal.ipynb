{
 "cells": [
  {
   "cell_type": "code",
   "execution_count": 4,
   "id": "f043bdc8-c610-4163-b4b8-3b00e0394db3",
   "metadata": {},
   "outputs": [
    {
     "name": "stdout",
     "output_type": "stream",
     "text": [
      "10 20 30 "
     ]
    }
   ],
   "source": [
    "class Node:\n",
    "    def __init__(self,key):\n",
    "        self.key=key\n",
    "        self.next=None\n",
    "\n",
    "def printCLL(head):\n",
    "    if head==None:\n",
    "        return\n",
    "    print(head.key,end=' ')\n",
    "    curr=head.next\n",
    "    while curr!=head:\n",
    "        print(curr.key,end=' ')\n",
    "        curr=curr.next \n",
    "\n",
    "head=Node(10)\n",
    "head.next=Node(20)\n",
    "head.next.next=Node(30)\n",
    "head.next.next.next=head\n",
    "\n",
    "printCLL(head)"
   ]
  },
  {
   "cell_type": "code",
   "execution_count": null,
   "id": "8cbc3165-8f50-42b4-b7be-27219f7794f0",
   "metadata": {},
   "outputs": [],
   "source": []
  }
 ],
 "metadata": {
  "kernelspec": {
   "display_name": "Python 3 (ipykernel)",
   "language": "python",
   "name": "python3"
  },
  "language_info": {
   "codemirror_mode": {
    "name": "ipython",
    "version": 3
   },
   "file_extension": ".py",
   "mimetype": "text/x-python",
   "name": "python",
   "nbconvert_exporter": "python",
   "pygments_lexer": "ipython3",
   "version": "3.11.7"
  }
 },
 "nbformat": 4,
 "nbformat_minor": 5
}
