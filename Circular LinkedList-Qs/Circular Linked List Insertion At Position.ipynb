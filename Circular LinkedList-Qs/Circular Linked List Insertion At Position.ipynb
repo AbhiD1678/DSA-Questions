{
 "cells": [
  {
   "cell_type": "raw",
   "id": "042d9cda-3cca-46b2-8d3e-d34b40d450a5",
   "metadata": {},
   "source": [
    "You are given a circular linked list of size N. You need to insert an element data just after the given position pos.\n",
    "The position of first element is 1. If the given position is greater than N, then don't insert anything as it is not possible.\n",
    "As the given linked list is circular, it means that the tail is connected to the head of the list.\n",
    "\n",
    "Example 1:\n",
    "\n",
    "Input:\n",
    "LinkedList: 1->2->3->4->5\n",
    "(the first and last node is connected,\n",
    "i.e. 5 --> 1)\n",
    "position = 6, element = 10\n",
    "Output: 1 2 3 4 5 \n",
    "Example 2:\n",
    "\n",
    "Input:\n",
    "LinkedList: 2->4->6->7->5->1->0\n",
    "(the first and last node is connected,\n",
    "i.e. 0 --> 2)\n",
    "position = 7,data = 99\n",
    "Output: 2 4 6 7 5 1 0 99\n",
    "Your Task:\n",
    "You only need to complete the function insertAtPosition that takes head, pos, and data as parameters. The printing is done automatically by the driver code.\n",
    "\n",
    "Expected Time Complexity: O(N).\n",
    "Expected Auxiliary Space: O(1).\n",
    "\n",
    "Constraints:\n",
    "1 <= N, pos <= 103\n",
    "\n"
   ]
  },
  {
   "cell_type": "code",
   "execution_count": 1,
   "id": "8977260f-5b9e-4626-a412-63acc829b95f",
   "metadata": {},
   "outputs": [],
   "source": [
    "#User function Template for python3\n",
    "\n",
    "'''\n",
    "class Node:\n",
    "    def __init__(self, data):\n",
    "        self.data = data\n",
    "        self.next = None\n",
    "'''\n",
    "def insertAtPosition(head,pos,data):\n",
    "    #code here\n",
    "    temp=Node(data)\n",
    "    if head==None:\n",
    "        return temp\n",
    "    curr=head\n",
    "    \n",
    "    for i in range(pos-1):\n",
    "        curr=curr.next\n",
    "        if curr==head:\n",
    "            return head\n",
    "\n",
    "    temp.next=curr.next\n",
    "    curr.next=temp\n",
    "    return head\n"
   ]
  },
  {
   "cell_type": "code",
   "execution_count": null,
   "id": "5e83bbec-6e7c-4136-b05b-9d0ef88ce597",
   "metadata": {},
   "outputs": [],
   "source": []
  }
 ],
 "metadata": {
  "kernelspec": {
   "display_name": "Python 3 (ipykernel)",
   "language": "python",
   "name": "python3"
  },
  "language_info": {
   "codemirror_mode": {
    "name": "ipython",
    "version": 3
   },
   "file_extension": ".py",
   "mimetype": "text/x-python",
   "name": "python",
   "nbconvert_exporter": "python",
   "pygments_lexer": "ipython3",
   "version": "3.11.7"
  }
 },
 "nbformat": 4,
 "nbformat_minor": 5
}
