{
 "cells": [
  {
   "cell_type": "raw",
   "id": "6ab3ead9-ee25-4cad-b579-58fdd81166b0",
   "metadata": {},
   "source": [
    "Method 1 ,Linear Time"
   ]
  },
  {
   "cell_type": "code",
   "execution_count": 2,
   "id": "87a31eda-b242-4f31-bcb8-77a060a68e5c",
   "metadata": {},
   "outputs": [],
   "source": [
    "def AddAtEnd(head,x):\n",
    "    temp=Node(x)\n",
    "    if head==None:\n",
    "        temp.next=temp\n",
    "        return temp\n",
    "    curr=head\n",
    "    while curr.next!=head:\n",
    "        curr=curr.head\n",
    "    curr.next=temp\n",
    "    temp.next=head\n",
    "    return head"
   ]
  },
  {
   "cell_type": "code",
   "execution_count": 5,
   "id": "590731bc-256d-48c8-9c51-fc5d466b4df1",
   "metadata": {},
   "outputs": [
    {
     "name": "stdout",
     "output_type": "stream",
     "text": [
      "10 20 \n",
      "10 20 30 \n"
     ]
    }
   ],
   "source": [
    "class Node:\n",
    "    def __init__(self, data):\n",
    "        self.data = data\n",
    "        self.next = None\n",
    "\n",
    "\n",
    "def insertEnd(head,x):\n",
    "\n",
    "    temp = Node(x)\n",
    "\n",
    "    if head == None:\n",
    "        temp.next = temp\n",
    "        return temp\n",
    "    else:\n",
    "        curr = head\n",
    "        while curr.next != head:\n",
    "            curr = curr.next\n",
    "\n",
    "        curr.next = temp\n",
    "        temp.next = head\n",
    "\n",
    "        return head\n",
    "\n",
    "def printCircular(head):\n",
    "    if head == None:\n",
    "        return\n",
    "    print(head.data, end=\" \")\n",
    "    curr = head.next\n",
    "    while curr != head:\n",
    "        print(curr.data, end=\" \")\n",
    "        curr = curr.next\n",
    "\n",
    "    print()\n",
    "\n",
    "\n",
    "head = Node(10)\n",
    "head.next = Node(20)\n",
    "head.next.next = head\n",
    "printCircular(head)\n",
    "\n",
    "head = insertEnd(head, 30)\n",
    "\n",
    "printCircular(head)\n"
   ]
  },
  {
   "cell_type": "raw",
   "id": "cdbc8edc-b531-49e4-aba6-caa9d63a3955",
   "metadata": {},
   "source": [
    "Method 2,Constant Time"
   ]
  },
  {
   "cell_type": "code",
   "execution_count": 4,
   "id": "9708006e-3cb9-42b6-965e-1110d7c891bb",
   "metadata": {},
   "outputs": [],
   "source": [
    "def AddAtEnd(head,x):\n",
    "    temp=Node(x)\n",
    "    if head==None:\n",
    "        temp.next=temp\n",
    "        return temp\n",
    "    temp.next=head.next\n",
    "    head.next=temp\n",
    "    head.data,temp.data=temp.data,head.data\n",
    "    return temp"
   ]
  },
  {
   "cell_type": "code",
   "execution_count": 6,
   "id": "f5e810ff-c869-4dbf-9927-89c5f00ed295",
   "metadata": {},
   "outputs": [
    {
     "name": "stdout",
     "output_type": "stream",
     "text": [
      "10 20 \n",
      "10 20 30 \n"
     ]
    }
   ],
   "source": [
    "class Node:\n",
    "    def __init__(self, data):\n",
    "        self.data = data\n",
    "        self.next = None\n",
    "\n",
    "\n",
    "def insertEnd(head,x):\n",
    "\n",
    "    temp = Node(x)\n",
    "\n",
    "    if head == None:\n",
    "        temp.next = temp\n",
    "        return temp\n",
    "\n",
    "    else:\n",
    "\n",
    "        temp.next = head.next\n",
    "        head.next = temp\n",
    "\n",
    "        temp.data,head.data = head.data,temp.data   #swapping\n",
    "        return temp\n",
    "        \n",
    "\n",
    "def printCircular(head):\n",
    "    if head == None:\n",
    "        return\n",
    "    print(head.data, end=\" \")\n",
    "    curr = head.next\n",
    "    while curr != head:\n",
    "        print(curr.data, end=\" \")\n",
    "        curr = curr.next\n",
    "\n",
    "    print()\n",
    "\n",
    "\n",
    "head = Node(10)\n",
    "head.next = Node(20)\n",
    "head.next.next = head\n",
    "printCircular(head)\n",
    "\n",
    "head = insertEnd(head, 30)\n",
    "\n",
    "printCircular(head)\n"
   ]
  },
  {
   "cell_type": "code",
   "execution_count": null,
   "id": "2cb12920-b6a5-4411-9667-ff76e2bf708c",
   "metadata": {},
   "outputs": [],
   "source": []
  }
 ],
 "metadata": {
  "kernelspec": {
   "display_name": "Python 3 (ipykernel)",
   "language": "python",
   "name": "python3"
  },
  "language_info": {
   "codemirror_mode": {
    "name": "ipython",
    "version": 3
   },
   "file_extension": ".py",
   "mimetype": "text/x-python",
   "name": "python",
   "nbconvert_exporter": "python",
   "pygments_lexer": "ipython3",
   "version": "3.11.7"
  }
 },
 "nbformat": 4,
 "nbformat_minor": 5
}
