{
 "cells": [
  {
   "cell_type": "raw",
   "id": "121f1852-0f45-496a-a7f8-6008f8f280a1",
   "metadata": {},
   "source": [
    "Given a linked list of size n, you have to delete the node at position pos of the linked list and return the new head. The position of initial node is 1.\n",
    "The tail of the circular linked list is connected to the head using next pointer.\n",
    "\n",
    "Example 1:\n",
    "\n",
    "Input:\n",
    "LinkedList: 1->2->3->4->5\n",
    "(the first and last node are connected,\n",
    "i.e. 5 --> 1)\n",
    "position: 4\n",
    "Output: 1 2 3 5\n",
    "Example 2:\n",
    "\n",
    "Input:\n",
    "LinkedList: 2->5->7->8->99->100\n",
    "(the first and last node are connected,\n",
    "i.e. 5 --> 1)\n",
    "position: 6\n",
    "Output: 2 5 7 8 99\n",
    "Your Task:\n",
    "The task is to complete the function deleteAtPosition() which takes head reference and pos as argument and returns reference to the new head node, which is then used to display the list. The printing is done automatically by the driver code.\n",
    "\n",
    "Expected Time Complexity: O(n).\n",
    "Expected Auxiliary Space: O(1).\n",
    "\n",
    "Constraints:\n",
    "2 <= number of nodes <= 103\n",
    "1 <= pos <= n"
   ]
  },
  {
   "cell_type": "code",
   "execution_count": 1,
   "id": "6aecca9c-b921-44ec-a514-2aeb471df5a0",
   "metadata": {},
   "outputs": [],
   "source": [
    "#User function Template for python3\n",
    "\n",
    "'''\n",
    "class Node:\n",
    "    def __init__(self, data):\n",
    "        self.data = data\n",
    "        self.next = None\n",
    "'''\n",
    "def deleteAtPosition(head,pos):\n",
    "    #code here\n",
    "    if head==None:\n",
    "        return head\n",
    "    if pos==1:\n",
    "        head.data=head.next.data\n",
    "        head.next=head.next.next\n",
    "        return head\n",
    "    \n",
    "    curr=head\n",
    "    \n",
    "    for i in range(pos-2):\n",
    "        curr=curr.next\n",
    "    curr.next=curr.next.next\n",
    "    return head"
   ]
  },
  {
   "cell_type": "code",
   "execution_count": null,
   "id": "155ca11d-3546-4a12-a4e4-67689afc04cd",
   "metadata": {},
   "outputs": [],
   "source": []
  }
 ],
 "metadata": {
  "kernelspec": {
   "display_name": "Python 3 (ipykernel)",
   "language": "python",
   "name": "python3"
  },
  "language_info": {
   "codemirror_mode": {
    "name": "ipython",
    "version": 3
   },
   "file_extension": ".py",
   "mimetype": "text/x-python",
   "name": "python",
   "nbconvert_exporter": "python",
   "pygments_lexer": "ipython3",
   "version": "3.11.7"
  }
 },
 "nbformat": 4,
 "nbformat_minor": 5
}
