{
 "cells": [
  {
   "cell_type": "code",
   "execution_count": 1,
   "id": "3fff96b9-c3e3-44b4-9ccb-e1884f29cc48",
   "metadata": {},
   "outputs": [],
   "source": [
    "def insertBeg(head,x):\n",
    "    temp=Node(x)\n",
    "    if head!=None:\n",
    "        head.prev=temp\n",
    "    temp.next=head\n",
    "    return temp"
   ]
  },
  {
   "cell_type": "code",
   "execution_count": 3,
   "id": "30461c8a-da30-4e69-bd4e-093e7584aea3",
   "metadata": {},
   "outputs": [
    {
     "name": "stdout",
     "output_type": "stream",
     "text": [
      "10 20 30 \n",
      "40 10 20 30 \n"
     ]
    }
   ],
   "source": [
    "class Node:\n",
    "\n",
    "    def __init__(self, data):\n",
    "        self.data = data\n",
    "        self.prev = None\n",
    "        self.next = None\n",
    "\n",
    "\n",
    "def insertBegin(head, x):\n",
    "    temp = Node(x)\n",
    "\n",
    "    if head != None:\n",
    "        head.prev = temp\n",
    "    temp.next=head\n",
    "    temp.prev = None\n",
    "\n",
    "    return temp\n",
    "\n",
    "\n",
    "def printDll(head):\n",
    "    curr = head\n",
    "    while curr != None:\n",
    "        print(curr.data, end=\" \")\n",
    "        curr = curr.next\n",
    "    print()\n",
    "\n",
    "\n",
    "head = Node(10)\n",
    "temp1 = Node(20)\n",
    "temp2 = Node(30)\n",
    "\n",
    "head.next = temp1\n",
    "temp1.prev = head\n",
    "\n",
    "temp1.next = temp2\n",
    "temp2.prev = temp1\n",
    "\n",
    "printDll(head)\n",
    "\n",
    "head = insertBegin(head, 40)\n",
    "\n",
    "printDll(head)\n"
   ]
  },
  {
   "cell_type": "code",
   "execution_count": null,
   "id": "bb8fb86f-5b6f-4046-a703-69bfdf5261fa",
   "metadata": {},
   "outputs": [],
   "source": []
  }
 ],
 "metadata": {
  "kernelspec": {
   "display_name": "Python 3 (ipykernel)",
   "language": "python",
   "name": "python3"
  },
  "language_info": {
   "codemirror_mode": {
    "name": "ipython",
    "version": 3
   },
   "file_extension": ".py",
   "mimetype": "text/x-python",
   "name": "python",
   "nbconvert_exporter": "python",
   "pygments_lexer": "ipython3",
   "version": "3.11.7"
  }
 },
 "nbformat": 4,
 "nbformat_minor": 5
}
