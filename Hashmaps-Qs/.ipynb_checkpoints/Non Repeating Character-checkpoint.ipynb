{
 "cells": [
  {
   "cell_type": "raw",
   "id": "8bfa0307-13c2-489a-a3b2-bb529348b40a",
   "metadata": {},
   "source": [
    "Given a string s consisting of lowercase Latin Letters. Return the first non-repeating character in s. If there is no non-repeating character, return '$'.\n",
    "Note: When you return '$' driver code will output -1.\n",
    "\n",
    "Examples:\n",
    "\n",
    "Input: s = \"geeksforgeeks\"\n",
    "Output: f\n",
    "Explanation: In the given string, 'f' is the first character in the string which does not repeat.\n",
    "Input: s = \"racecar\"\n",
    "Output: e\n",
    "Explanation: In the given string, 'e' is the only character in the string which does not repeat.\n",
    "Input: s = \"aabbccc\"\n",
    "Output: $\n",
    "Explanation: All the characters in the given string are repeating.\n",
    "Constraints:\n",
    "1 <= n <= 105\n",
    "\n"
   ]
  },
  {
   "cell_type": "code",
   "execution_count": 1,
   "id": "00b0f006-c8c1-4098-91fb-8e9761a22ba8",
   "metadata": {},
   "outputs": [],
   "source": [
    "class Solution:\n",
    "    \n",
    "    #Function to find the first non-repeating character in a string.\n",
    "    def nonRepeatingChar(self,s):\n",
    "        #code here\n",
    "        for i in range(len(s)):\n",
    "            if i==0 and s[i] not in s[i+1:]:\n",
    "                return s[i]\n",
    "            if s[i] not in s[i+1:] and s[i] not in s[:i]:\n",
    "                return s[i]\n",
    "        \n",
    "        return '$'\n",
    "                \n",
    "    "
   ]
  },
  {
   "cell_type": "code",
   "execution_count": 6,
   "id": "e0180c3c-179f-453f-b098-b805035ba85a",
   "metadata": {},
   "outputs": [],
   "source": [
    "class Solution:\n",
    "    #Function to find the first non-repeating character in a string.\n",
    "    def nonRepeatingChar(self, s):\n",
    "        #using hash table to store count of each character.\n",
    "        occurences = [0 for i in range(256)]\n",
    "        #iterating over the string.\n",
    "        for char in s:\n",
    "            occurences[ord(char)] += 1\n",
    "        for i in range(len(s)):\n",
    "            #if count of current character is 1, we return it.\n",
    "            if (occurences[ord(s[i])] == 1):\n",
    "                return s[i]\n",
    "        return '$'"
   ]
  },
  {
   "cell_type": "code",
   "execution_count": null,
   "id": "166fc312-cef8-407b-b58b-2a476c9b6676",
   "metadata": {},
   "outputs": [],
   "source": []
  }
 ],
 "metadata": {
  "kernelspec": {
   "display_name": "Python 3 (ipykernel)",
   "language": "python",
   "name": "python3"
  },
  "language_info": {
   "codemirror_mode": {
    "name": "ipython",
    "version": 3
   },
   "file_extension": ".py",
   "mimetype": "text/x-python",
   "name": "python",
   "nbconvert_exporter": "python",
   "pygments_lexer": "ipython3",
   "version": "3.12.0"
  }
 },
 "nbformat": 4,
 "nbformat_minor": 5
}
