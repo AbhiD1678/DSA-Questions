{
 "cells": [
  {
   "cell_type": "raw",
   "id": "54e9b0e0-d924-481d-ab37-d38d7690ad9b",
   "metadata": {},
   "source": [
    "Hashing is very useful to keep track of the frequency of the elements in a list.\n",
    "\n",
    "You are given an array of integers. You need to print the non-repeated elements as they appear in the array.\n",
    "\n",
    "Example 1:\n",
    "\n",
    "Input:\n",
    "n = 10\n",
    "arr[] = {1,1,2,2,3,3,4,5,6,7}\n",
    "Output: 4 5 6 7\n",
    "Explanation: 4, 5, 6 and 7 are the only \n",
    "elements which is having only 1 \n",
    "frequency and hence, Non-repeating.\n",
    "Example 2:\n",
    "\n",
    "Input:\n",
    "n = 5\n",
    "arr[] = {10,20,40,30,10}\n",
    "Output: 20 40 30\n",
    "Explanation: 20, 40, 30 are the only \n",
    "elements which is having only 1 \n",
    "frequency and hence, Non-repeating.\n",
    "Your Task:\n",
    "You don't need to read input or print anything. You only need to complete the function printNonRepeated() that takes arr and n as parameters and return the array which has the distinct elements in same order as they appear in input array. The newline is appended automatically by the driver code.\n",
    "\n",
    "Expected Time Complexity: O(n).\n",
    "Expected Auxiliary Space: O(n).\n",
    "\n",
    "Constraints:\n",
    "1 <= n <= 103\n",
    "0 <= arri <= 107\n",
    "\n",
    " "
   ]
  },
  {
   "cell_type": "code",
   "execution_count": 4,
   "id": "d5217553-b76a-47b4-9625-2584cbe15473",
   "metadata": {},
   "outputs": [],
   "source": [
    "class Solution:\n",
    "    \n",
    "    #Complete this function\n",
    "    #Function to return non-repeated elements in the array.\n",
    "    def printNonRepeated(self,arr,n):\n",
    "        #Your code here\n",
    "        hashmap={}\n",
    "        for i in range(n):\n",
    "            if arr[i] in hashmap:\n",
    "                hashmap[arr[i]]+=1\n",
    "            \n",
    "            else:\n",
    "                hashmap[arr[i]]=1\n",
    "        \n",
    "        arr1=[]\n",
    "        \n",
    "        for key in hashmap.keys():\n",
    "            if hashmap[key]==1:\n",
    "                arr1.append(key)\n",
    "                \n",
    "                \n",
    "        return arr1\n"
   ]
  },
  {
   "cell_type": "code",
   "execution_count": 7,
   "id": "03bcdb5d-0faa-4541-b948-8eaea6d450b4",
   "metadata": {},
   "outputs": [
    {
     "data": {
      "text/plain": [
       "[4, 5, 6, 7]"
      ]
     },
     "execution_count": 7,
     "metadata": {},
     "output_type": "execute_result"
    }
   ],
   "source": [
    "n = 10\n",
    "arr = [1,1,2,2,3,3,4,5,6,7]\n",
    "\n",
    "sol=Solution()\n",
    "sol.printNonRepeated(arr,n)"
   ]
  },
  {
   "cell_type": "code",
   "execution_count": null,
   "id": "9769081b-830f-47b0-a470-da9a7aa55ed3",
   "metadata": {},
   "outputs": [],
   "source": []
  }
 ],
 "metadata": {
  "kernelspec": {
   "display_name": "Python 3 (ipykernel)",
   "language": "python",
   "name": "python3"
  },
  "language_info": {
   "codemirror_mode": {
    "name": "ipython",
    "version": 3
   },
   "file_extension": ".py",
   "mimetype": "text/x-python",
   "name": "python",
   "nbconvert_exporter": "python",
   "pygments_lexer": "ipython3",
   "version": "3.12.0"
  }
 },
 "nbformat": 4,
 "nbformat_minor": 5
}
