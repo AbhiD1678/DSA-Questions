{
 "cells": [
  {
   "cell_type": "raw",
   "id": "61c51a42-056a-454e-bc8d-76a10ff67594",
   "metadata": {},
   "source": [
    "Hashing is very useful to keep track of the frequency of the elements in a list.\n",
    "\n",
    "You are given an array of integers. You need to print the count of non-repeated elements in the array.\n",
    "\n",
    "Example 1:\n",
    "\n",
    "Input:\n",
    "10\n",
    "1 1 2 2 3 3 4 5 6 7\n",
    "\n",
    "Output: \n",
    "4\n",
    "\n",
    "Explanation: \n",
    "4, 5, 6 and 7 are the \n",
    "elements with frequency 1 and rest \n",
    "elements are repeated so the number \n",
    "of non-repeated elements are 4.\n",
    "Example 2:\n",
    "\n",
    "Input:\n",
    "5\n",
    "10 20 30 40 10\n",
    "\n",
    "Output: \n",
    "3\n",
    "\n",
    "Explanation: \n",
    "20, 30, 40 are the \n",
    "elements with the frequency 1 and \n",
    "10 is the repeated element to \n",
    "number of non-repeated elements \n",
    "are 3.\n",
    "Your Task:\n",
    "You don't need to read input or print anything. You only need to complete the function countNonRepeated() that takes array arr[] and its size n as parameters and returns the count of non-repeating elements in the array. \n",
    "\n",
    "Expected Time Complexity: O(n).\n",
    "Expected Auxiliary Space: O(n).\n",
    "\n",
    "Constraints:\n",
    "1 <= n <= 103\n",
    "0 <= arri <= 107"
   ]
  },
  {
   "cell_type": "code",
   "execution_count": 1,
   "id": "0348f885-0295-4033-bb3e-40ec1b220412",
   "metadata": {},
   "outputs": [],
   "source": [
    "class Solution:\n",
    "    \n",
    "    #Complete this code\n",
    "    #Function to return the count of non-repeated elements in the array.\n",
    "    def countNonRepeated(self,arr,n):\n",
    "        #Your code here\n",
    "        hashmap={}\n",
    "        for i in range(n):\n",
    "            if arr[i] in hashmap:\n",
    "                hashmap[arr[i]]+=1\n",
    "            else:\n",
    "                hashmap[arr[i]]=1\n",
    "            \n",
    "            \n",
    "        count=0\n",
    "        for value in hashmap.values():\n",
    "            if value==1:\n",
    "                count +=1\n",
    "            \n",
    "        return count\n",
    "        \n",
    "        "
   ]
  },
  {
   "cell_type": "code",
   "execution_count": 5,
   "id": "0d9806df-4ddc-4b2a-ad27-0167a5e355a6",
   "metadata": {},
   "outputs": [
    {
     "data": {
      "text/plain": [
       "4"
      ]
     },
     "execution_count": 5,
     "metadata": {},
     "output_type": "execute_result"
    }
   ],
   "source": [
    "n=10\n",
    "arr=[1,1,2,2,3,3,4,5,6,7]\n",
    "\n",
    "solution=Solution()\n",
    "\n",
    "solution.countNonRepeated(arr,n)"
   ]
  },
  {
   "cell_type": "code",
   "execution_count": null,
   "id": "2c51688c-f5de-48af-8d32-2da92bdad603",
   "metadata": {},
   "outputs": [],
   "source": []
  }
 ],
 "metadata": {
  "kernelspec": {
   "display_name": "Python 3 (ipykernel)",
   "language": "python",
   "name": "python3"
  },
  "language_info": {
   "codemirror_mode": {
    "name": "ipython",
    "version": 3
   },
   "file_extension": ".py",
   "mimetype": "text/x-python",
   "name": "python",
   "nbconvert_exporter": "python",
   "pygments_lexer": "ipython3",
   "version": "3.12.0"
  }
 },
 "nbformat": 4,
 "nbformat_minor": 5
}
