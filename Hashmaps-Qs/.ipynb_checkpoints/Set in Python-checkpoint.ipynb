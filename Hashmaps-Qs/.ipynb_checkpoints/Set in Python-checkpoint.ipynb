{
 "cells": [
  {
   "cell_type": "markdown",
   "id": "3c3523df-43cd-4e1d-9859-94102f0fa22e",
   "metadata": {},
   "source": [
    "- Distinct Elements\n",
    "- Unordered\n",
    "- No Indexing\n",
    "- Union,Intersection,Set Difference etc are fast\n",
    "- Uses Hashing Internally"
   ]
  },
  {
   "cell_type": "code",
   "execution_count": 2,
   "id": "1fe055bf-e79f-49cd-897d-bb212aad1e52",
   "metadata": {},
   "outputs": [
    {
     "name": "stdout",
     "output_type": "stream",
     "text": [
      "{10, 20, 30}\n",
      "{40, 20, 30}\n",
      "<class 'dict'>\n",
      "<class 'set'>\n",
      "set()\n"
     ]
    }
   ],
   "source": [
    "s1={10,20,30}\n",
    "print(s1)\n",
    "s2=set([20,30,40])\n",
    "print(s2)\n",
    "s3={}\n",
    "#This creates an empty dictionary and not set.\n",
    "print(type(s3))\n",
    "s4=set()\n",
    "print(type(s4))\n",
    "print(s4)"
   ]
  },
  {
   "cell_type": "code",
   "execution_count": 3,
   "id": "b3930167-d05d-4cf7-9d9e-10511d5c0b07",
   "metadata": {},
   "outputs": [
    {
     "name": "stdout",
     "output_type": "stream",
     "text": [
      "{10, 20, 30}\n",
      "{10, 20, 30}\n",
      "{40, 10, 50, 20, 30}\n",
      "{70, 40, 10, 80, 50, 20, 90, 60, 30}\n"
     ]
    }
   ],
   "source": [
    "s={10,20}\n",
    "s.add(30)\n",
    "print(s)\n",
    "s.add(30)\n",
    "print(s)\n",
    "s.update([40,50])\n",
    "print(s)\n",
    "s.update([60,70],[80,90])\n",
    "print(s)"
   ]
  },
  {
   "cell_type": "code",
   "execution_count": 7,
   "id": "edc9fc37-03da-4f71-9549-91178f01138a",
   "metadata": {},
   "outputs": [
    {
     "name": "stdout",
     "output_type": "stream",
     "text": [
      "{40, 10, 20}\n",
      "{40, 10}\n",
      "set()\n"
     ]
    }
   ],
   "source": [
    "s={10,30,20,40}\n",
    "s.discard(30)\n",
    "print(s)\n",
    "s.remove(20) # works like discard,if the item is not present then it will raise error\n",
    "#in sets,searching for an element is known as membership of an element,so check for the membership of an element,before calling remove\n",
    "print(s)\n",
    "s.clear()\n",
    "print(s)\n",
    "s.add(50)\n",
    "del s#whole object will be removed"
   ]
  },
  {
   "cell_type": "code",
   "execution_count": 8,
   "id": "cb6b8a4f-0ff2-4804-9ed3-41c079c2905f",
   "metadata": {},
   "outputs": [
    {
     "name": "stdout",
     "output_type": "stream",
     "text": [
      "4\n",
      "True\n",
      "False\n"
     ]
    }
   ],
   "source": [
    "s={10,20,30,40}\n",
    "print(len(s))\n",
    "print(20 in s)\n",
    "print(50 in s)"
   ]
  },
  {
   "cell_type": "code",
   "execution_count": 14,
   "id": "b0ed26ef-7b5e-42c7-a759-d08f1a9fc0da",
   "metadata": {},
   "outputs": [
    {
     "name": "stdout",
     "output_type": "stream",
     "text": [
      "{2, 3, 4, 6, 8, 9}\n",
      "{2, 3, 4, 6, 8, 9}\n",
      "{6}\n",
      "{6}\n",
      "{8, 2, 4}\n",
      "{8, 2, 4}\n",
      "{2, 3, 4, 8, 9}\n"
     ]
    }
   ],
   "source": [
    "s1={2,4,6,8}\n",
    "s2={3,6,9}\n",
    "print(s1 | s2)\n",
    "print(s1.union(s2))\n",
    "print(s1 & s2)\n",
    "print(s1.intersection(s2))\n",
    "print(s1 - s2)\n",
    "print(s1.difference(s2))\n",
    "print(s1.symmetric_difference(s2))\n",
    "\n"
   ]
  },
  {
   "cell_type": "code",
   "execution_count": 20,
   "id": "cca1fe86-9574-4798-ac0c-45264f2f8abe",
   "metadata": {},
   "outputs": [
    {
     "name": "stdout",
     "output_type": "stream",
     "text": [
      "False\n",
      "False\n",
      "True\n",
      "True\n",
      "True\n",
      "False\n"
     ]
    }
   ],
   "source": [
    "s1={4,8}\n",
    "s2={2,4,6,8}\n",
    "print(s2.isdisjoint(s1))\n",
    "print(s2<=s1) \n",
    "print(s1.issubset(s2))\n",
    "print(s1<s2)\n",
    "print(s2>=s1)# checking for superset and issuperset can also be used for the same.\n",
    "print(s1>s2)"
   ]
  },
  {
   "cell_type": "code",
   "execution_count": null,
   "id": "797609a2-9189-45d9-8c00-4ee0ccb4b9ea",
   "metadata": {},
   "outputs": [],
   "source": []
  }
 ],
 "metadata": {
  "kernelspec": {
   "display_name": "Python 3 (ipykernel)",
   "language": "python",
   "name": "python3"
  },
  "language_info": {
   "codemirror_mode": {
    "name": "ipython",
    "version": 3
   },
   "file_extension": ".py",
   "mimetype": "text/x-python",
   "name": "python",
   "nbconvert_exporter": "python",
   "pygments_lexer": "ipython3",
   "version": "3.12.0"
  }
 },
 "nbformat": 4,
 "nbformat_minor": 5
}
