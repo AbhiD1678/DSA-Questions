{
 "cells": [
  {
   "cell_type": "raw",
   "id": "5cbd72f8-c500-4f3b-81fc-cbf28d33e0ad",
   "metadata": {},
   "source": [
    "Given an array arr[], find the first repeating element. The element should occur more than once and the index of its first occurrence should be the smallest.\n",
    "\n",
    "Note:- The position you return should be according to 1-based indexing. \n",
    "\n",
    "Examples:\n",
    "\n",
    "Input: arr[] = [1, 5, 3, 4, 3, 5, 6]\n",
    "Output: 2\n",
    "Explanation: 5 appears twice and its first appearance is at index 2 which is less than 3 whose first the occurring index is 3.\n",
    "Input: arr[] = [1, 2, 3, 4]\n",
    "Output: -1\n",
    "Explanation: All elements appear only once so answer is -1.\n",
    "Expected Time Complexity: O(n)\n",
    "Expected Auxilliary Space: O(n)\n",
    "\n",
    "Constraints:\n",
    "1 <= arr.size <= 106\n",
    "0 <= arr[i]<= 106"
   ]
  },
  {
   "cell_type": "code",
   "execution_count": 1,
   "id": "3c1504c5-e67f-4ed0-ba03-ba43105216ac",
   "metadata": {},
   "outputs": [],
   "source": [
    "class Solution:\n",
    "    #Function to return the position of the first repeating element.\n",
    "    def firstRepeated(self,arr):\n",
    "        \n",
    "        dict1={}\n",
    "        \n",
    "        for i in range(len(arr)):\n",
    "            if arr[i] not in dict1:\n",
    "                dict1[arr[i]]=1\n",
    "            else:\n",
    "                dict1[arr[i]]+=1\n",
    "        \n",
    "        for i in range(len(arr)):\n",
    "            if dict1[arr[i]]>=2:\n",
    "                return i+1\n",
    "        return -1\n",
    "                "
   ]
  },
  {
   "cell_type": "code",
   "execution_count": null,
   "id": "17fada4f-2d1d-4e30-825c-9b746b95f969",
   "metadata": {},
   "outputs": [],
   "source": []
  }
 ],
 "metadata": {
  "kernelspec": {
   "display_name": "Python 3 (ipykernel)",
   "language": "python",
   "name": "python3"
  },
  "language_info": {
   "codemirror_mode": {
    "name": "ipython",
    "version": 3
   },
   "file_extension": ".py",
   "mimetype": "text/x-python",
   "name": "python",
   "nbconvert_exporter": "python",
   "pygments_lexer": "ipython3",
   "version": "3.12.0"
  }
 },
 "nbformat": 4,
 "nbformat_minor": 5
}
