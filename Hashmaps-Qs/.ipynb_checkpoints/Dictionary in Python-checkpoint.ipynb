{
 "cells": [
  {
   "cell_type": "markdown",
   "id": "1e2edf74-2c00-4b9c-9a3f-61e410fefa76",
   "metadata": {},
   "source": [
    "- Collection of key-value pairs\n",
    "- Unordered\n",
    "- All keys must be distinct\n",
    "- Values may be repeated\n",
    "- Uses Hashing internally\n",
    "- Known as associative arrays as well"
   ]
  },
  {
   "cell_type": "code",
   "execution_count": 1,
   "id": "d63b2799-223c-4455-88c0-6d23eb8b80fb",
   "metadata": {},
   "outputs": [
    {
     "name": "stdout",
     "output_type": "stream",
     "text": [
      "{'laptop': 40000, 'mobile': 15000, 'earphone': 1000}\n",
      "15000\n"
     ]
    }
   ],
   "source": [
    "d={}\n",
    "d[\"laptop\"]=40000\n",
    "d[\"mobile\"]=15000\n",
    "d[\"earphone\"]=1000\n",
    "print(d)\n",
    "print(d['mobile'])\n"
   ]
  },
  {
   "cell_type": "code",
   "execution_count": 2,
   "id": "3c49790e-e7e7-480b-926d-0f04613816d9",
   "metadata": {},
   "outputs": [
    {
     "name": "stdout",
     "output_type": "stream",
     "text": [
      "40000\n"
     ]
    }
   ],
   "source": [
    "print(d.pop('laptop'))"
   ]
  },
  {
   "cell_type": "code",
   "execution_count": null,
   "id": "b4598647-50f1-471e-9820-cfdd2a1c75c9",
   "metadata": {},
   "outputs": [],
   "source": []
  }
 ],
 "metadata": {
  "kernelspec": {
   "display_name": "Python 3 (ipykernel)",
   "language": "python",
   "name": "python3"
  },
  "language_info": {
   "codemirror_mode": {
    "name": "ipython",
    "version": 3
   },
   "file_extension": ".py",
   "mimetype": "text/x-python",
   "name": "python",
   "nbconvert_exporter": "python",
   "pygments_lexer": "ipython3",
   "version": "3.12.0"
  }
 },
 "nbformat": 4,
 "nbformat_minor": 5
}
