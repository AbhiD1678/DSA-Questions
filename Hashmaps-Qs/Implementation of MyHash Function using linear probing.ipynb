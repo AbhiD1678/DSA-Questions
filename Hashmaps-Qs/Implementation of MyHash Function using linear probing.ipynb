{
 "cells": [
  {
   "cell_type": "code",
   "execution_count": 5,
   "id": "7f05bcd1-872d-4ac0-9716-3c1cf182d49a",
   "metadata": {},
   "outputs": [],
   "source": [
    "class MyHash:\n",
    "    def __init__(self,c):\n",
    "        self.cap=c\n",
    "        self.table=[-1]*c\n",
    "        self.size=0\n",
    "    \n",
    "    def hash(self,x):\n",
    "        return x%self.cap\n",
    "    \n",
    "    def insert(self,x):\n",
    "        if self.size==self.cap:\n",
    "            return False\n",
    "        if self.search(x)==True:\n",
    "            return False\n",
    "        i=self.hash(x)\n",
    "        t=self.table\n",
    "        while t[i] is not [-1,-2]:\n",
    "            i=(i+1)%self.cap\n",
    "        t[i]=x\n",
    "        self.size+=1\n",
    "        return True\n",
    "\n",
    "    def search(self,x):\n",
    "        h=self.hash(x)\n",
    "        t=self.table\n",
    "        i=h\n",
    "        while t[i]!=-1:\n",
    "            if t[i]==x:\n",
    "                return True\n",
    "            i=(i+1)%self.cap\n",
    "            if i==h:\n",
    "                return False\n",
    "        return False\n",
    "\n",
    "    def remove(self,x):\n",
    "        h=self.hash(x)\n",
    "        t=self.table\n",
    "        i=h\n",
    "        while t[i]!=-1:\n",
    "            if t[i]==x:\n",
    "                t[i]=-2\n",
    "                return True\n",
    "            i=(i+1)%self.cap\n",
    "            if i==h:\n",
    "                return False\n",
    "        return False"
   ]
  },
  {
   "cell_type": "code",
   "execution_count": null,
   "id": "eae05f9e-695c-4767-af3d-c0052fec878e",
   "metadata": {},
   "outputs": [],
   "source": []
  }
 ],
 "metadata": {
  "kernelspec": {
   "display_name": "Python 3 (ipykernel)",
   "language": "python",
   "name": "python3"
  },
  "language_info": {
   "codemirror_mode": {
    "name": "ipython",
    "version": 3
   },
   "file_extension": ".py",
   "mimetype": "text/x-python",
   "name": "python",
   "nbconvert_exporter": "python",
   "pygments_lexer": "ipython3",
   "version": "3.12.0"
  }
 },
 "nbformat": 4,
 "nbformat_minor": 5
}
