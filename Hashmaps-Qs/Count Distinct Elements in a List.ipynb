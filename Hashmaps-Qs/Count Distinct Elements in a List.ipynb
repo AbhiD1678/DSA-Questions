{
 "cells": [
  {
   "cell_type": "code",
   "execution_count": 3,
   "id": "1aaaf09e-87f0-4c13-aecc-2ba74263c022",
   "metadata": {},
   "outputs": [
    {
     "name": "stdout",
     "output_type": "stream",
     "text": [
      "3\n"
     ]
    }
   ],
   "source": [
    "#M1\n",
    "def cDistince(l):\n",
    "    res=1\n",
    "    for i in range(1,len(l)):\n",
    "        if l[i] not in l[0:i]:\n",
    "            res+=1\n",
    "    return res\n",
    "l=[10,20,10,30,30,20]\n",
    "print(cDistince(l))"
   ]
  },
  {
   "cell_type": "code",
   "execution_count": 5,
   "id": "8a42a02a-47d0-4efb-a1e0-8d99200a9373",
   "metadata": {},
   "outputs": [
    {
     "name": "stdout",
     "output_type": "stream",
     "text": [
      "3\n"
     ]
    }
   ],
   "source": [
    "#M2\n",
    "def cDistinct(l):\n",
    "    s=set(l)\n",
    "    return len(s)\n",
    "l=[10,20,10,30,30,20]\n",
    "print(cDistince(l))"
   ]
  },
  {
   "cell_type": "code",
   "execution_count": null,
   "id": "11fa3bb3-633b-4c95-8afd-0eeb2313f1bd",
   "metadata": {},
   "outputs": [],
   "source": []
  }
 ],
 "metadata": {
  "kernelspec": {
   "display_name": "Python 3 (ipykernel)",
   "language": "python",
   "name": "python3"
  },
  "language_info": {
   "codemirror_mode": {
    "name": "ipython",
    "version": 3
   },
   "file_extension": ".py",
   "mimetype": "text/x-python",
   "name": "python",
   "nbconvert_exporter": "python",
   "pygments_lexer": "ipython3",
   "version": "3.12.0"
  }
 },
 "nbformat": 4,
 "nbformat_minor": 5
}
