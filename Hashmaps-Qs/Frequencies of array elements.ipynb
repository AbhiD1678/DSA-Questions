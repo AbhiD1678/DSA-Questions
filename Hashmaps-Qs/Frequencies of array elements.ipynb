{
 "cells": [
  {
   "cell_type": "code",
   "execution_count": 4,
   "id": "17d39863-6f81-4beb-a608-8720a59bfbbb",
   "metadata": {},
   "outputs": [],
   "source": [
    "#Naive Approach\n",
    "#Time complexity:O(n^2)\n",
    "#Auxiliary Space:O(1)\n",
    "\n",
    "def countFreq(arr,n):\n",
    "    for i in range(n):\n",
    "        flag=False\n",
    "        for j in range(i):\n",
    "            if arr[i]==arr[j]:\n",
    "                flag=True\n",
    "                break\n",
    "        if flag==True:\n",
    "            continue\n",
    "        freq=1\n",
    "        for j in range(i+1,n):\n",
    "            if arr[j]==arr[i]:\n",
    "                freq+=1\n",
    "        print(arr[i],freq)"
   ]
  },
  {
   "cell_type": "code",
   "execution_count": 3,
   "id": "938f42b6-496d-4e0a-b511-229d6a7b86ef",
   "metadata": {},
   "outputs": [
    {
     "name": "stdout",
     "output_type": "stream",
     "text": [
      "10 2\n",
      "20 2\n",
      "30 1\n",
      "40 1\n"
     ]
    }
   ],
   "source": [
    "arr1=[10,10,20,30,40,20]\n",
    "n=len(arr1)\n",
    "countFreq(arr1,n)"
   ]
  },
  {
   "cell_type": "code",
   "execution_count": 7,
   "id": "9cb59efa-3d5a-448a-b9cc-8d9ec7bc1a97",
   "metadata": {},
   "outputs": [],
   "source": [
    "def countFreq(arr,n):\n",
    "    hmp=dict()\n",
    "    for i in range(n):\n",
    "        if arr[i] in hmp.keys():\n",
    "            hmp[arr[i]]+=1\n",
    "        else:\n",
    "            hmp[arr[i]]=1\n",
    "    for x in hmp:\n",
    "        print(x,\":\",hmp[x])\n",
    "#Using hashmaps,Time complexity:O(n) ,Auxiliary Space:O(n)        "
   ]
  },
  {
   "cell_type": "code",
   "execution_count": 8,
   "id": "af050922-ba6f-44d4-8916-f462eaa50f31",
   "metadata": {},
   "outputs": [
    {
     "name": "stdout",
     "output_type": "stream",
     "text": [
      "10 : 2\n",
      "20 : 2\n",
      "30 : 1\n",
      "40 : 1\n"
     ]
    }
   ],
   "source": [
    "arr1=[10,10,20,30,40,20]\n",
    "n=len(arr1)\n",
    "countFreq(arr1,n)"
   ]
  },
  {
   "cell_type": "code",
   "execution_count": null,
   "id": "654445bd-007f-4324-8efd-459490e5b4c3",
   "metadata": {},
   "outputs": [],
   "source": []
  }
 ],
 "metadata": {
  "kernelspec": {
   "display_name": "Python 3 (ipykernel)",
   "language": "python",
   "name": "python3"
  },
  "language_info": {
   "codemirror_mode": {
    "name": "ipython",
    "version": 3
   },
   "file_extension": ".py",
   "mimetype": "text/x-python",
   "name": "python",
   "nbconvert_exporter": "python",
   "pygments_lexer": "ipython3",
   "version": "3.12.0"
  }
 },
 "nbformat": 4,
 "nbformat_minor": 5
}
