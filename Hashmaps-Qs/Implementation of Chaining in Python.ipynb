{
 "cells": [
  {
   "cell_type": "code",
   "execution_count": null,
   "id": "8c1278bf",
   "metadata": {},
   "outputs": [],
   "source": [
    "Implementing hash tables\n",
    "\n",
    "class MyHash:\n",
    "    def __init__(self,b):\n",
    "        self.BUCKET=b\n",
    "        self.table=[[] for x in range(b)]\n",
    "        \n",
    "    def insert(self,x):\n",
    "        i=x%self.BUCKET\n",
    "        self.table[i].append(x)\n",
    "        \n",
    "    def remove(self,x):\n",
    "        i=x%self.BUCKET\n",
    "        if x in table[i]:\n",
    "            self.table[i].remove(x)\n",
    "    def search(self,x):\n",
    "        i=x%self.BUCKET\n",
    "        "
   ]
  }
 ],
 "metadata": {
  "kernelspec": {
   "display_name": "Python 3 (ipykernel)",
   "language": "python",
   "name": "python3"
  },
  "language_info": {
   "codemirror_mode": {
    "name": "ipython",
    "version": 3
   },
   "file_extension": ".py",
   "mimetype": "text/x-python",
   "name": "python",
   "nbconvert_exporter": "python",
   "pygments_lexer": "ipython3",
   "version": "3.11.4"
  }
 },
 "nbformat": 4,
 "nbformat_minor": 5
}
