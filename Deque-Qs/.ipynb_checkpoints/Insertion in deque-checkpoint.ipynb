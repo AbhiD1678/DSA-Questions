{
 "cells": [
  {
   "cell_type": "raw",
   "id": "84263962-30b5-4186-af1f-d3cc173a5753",
   "metadata": {},
   "source": [
    "Given an array arr[] of size N containing non-negative integers. You need to insert all elements of the array to deque and return it.\n",
    "\n",
    "Example 1:\n",
    "\n",
    "Input: \n",
    "5\n",
    "1 2 3 4 5\n",
    "\n",
    "Output: \n",
    "1 2 3 4 5\n",
    "\n",
    "Explanation: \n",
    "After insert in the deque \n",
    "it will look like {1, 2, 3, 4, 5}.\n",
    "Example 2:\n",
    "\n",
    "Input:\n",
    "1\n",
    "1\n",
    "\n",
    "Output: \n",
    "1\n",
    "\n",
    "Explanation: \n",
    "After insert in the deque \n",
    "it will look like {1}.\n",
    "Your Task:\n",
    "You need to complete the function deque_Init() which takes array arr[] and it's size N as input parameters and should return deque that contains array elements. You don't have to worry about input.\n",
    "\n",
    "Expected Time Complexity: O(N)\n",
    "Expected Auxilliary Space: O(1)\n",
    "\n",
    "Constraints:\n",
    "1 ≤ N ≤ 105\n",
    "\n"
   ]
  },
  {
   "cell_type": "code",
   "execution_count": 1,
   "id": "b14caf11-51d7-48e7-aa03-5a179e025883",
   "metadata": {},
   "outputs": [],
   "source": [
    "from collections import deque\n",
    "class Solution:\n",
    "    \n",
    "    #Function to insert all elements of the array in deque.\n",
    "    def deque_Init(self,arr,n):\n",
    "        #code here\n",
    "        de=deque()\n",
    "        for i in range(n):\n",
    "            x=arr[i]\n",
    "            de.append(x)\n",
    "        return de\n"
   ]
  },
  {
   "cell_type": "code",
   "execution_count": 2,
   "id": "7bb4225f-cf98-4e87-a9e9-791877a1e20b",
   "metadata": {},
   "outputs": [],
   "source": [
    "#Back-end complete function Template for Python 3\n",
    "\n",
    "class Solution:\n",
    "    \n",
    "    #Function to insert all elements of the array in deque.\n",
    "    def deque_Init(self,arr,n):\n",
    "        \n",
    "        #creating a deque and inserting the array elements in it.\n",
    "        dq=deque(arr)\n",
    "        return dq\n"
   ]
  },
  {
   "cell_type": "code",
   "execution_count": null,
   "id": "3fdc4c8e-c16e-4527-95d3-0eb803e665aa",
   "metadata": {},
   "outputs": [],
   "source": []
  }
 ],
 "metadata": {
  "kernelspec": {
   "display_name": "Python 3 (ipykernel)",
   "language": "python",
   "name": "python3"
  },
  "language_info": {
   "codemirror_mode": {
    "name": "ipython",
    "version": 3
   },
   "file_extension": ".py",
   "mimetype": "text/x-python",
   "name": "python",
   "nbconvert_exporter": "python",
   "pygments_lexer": "ipython3",
   "version": "3.11.7"
  }
 },
 "nbformat": 4,
 "nbformat_minor": 5
}
