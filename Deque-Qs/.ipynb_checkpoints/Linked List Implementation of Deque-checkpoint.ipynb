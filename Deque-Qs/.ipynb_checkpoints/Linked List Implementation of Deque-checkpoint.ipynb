{
 "cells": [
  {
   "cell_type": "code",
   "execution_count": 3,
   "id": "c86a1397-6bb3-4297-bdd5-fb2bd94a5321",
   "metadata": {},
   "outputs": [],
   "source": [
    "class Node:\n",
    "    def __init__(self,data):\n",
    "        self.data=data\n",
    "        self.next=None\n",
    "        self.prev=None\n",
    "\n",
    "class MyDeque:\n",
    "    def __init__(self):\n",
    "        self.front=None\n",
    "        self.rear=None\n",
    "        self.size=0\n",
    "\n",
    "    def size(self):\n",
    "        return self.size\n",
    "\n",
    "    def isEmpty(self):\n",
    "        return self.size==0\n",
    "\n",
    "    def insertRear(self,x):\n",
    "            temp=Node(x)\n",
    "            if self.rear==None:\n",
    "                self.front=temp\n",
    "            else:\n",
    "                self.rear.next=temp\n",
    "                temp.prev=self.rear\n",
    "            self.rear=temp\n",
    "            self.size+=1\n",
    "\n",
    "    def deleteFront(self):\n",
    "        if self.front==None:\n",
    "            return None\n",
    "\n",
    "        else:\n",
    "            res=self.front.data\n",
    "            self.front=self.front.next\n",
    "            self.front.prev=None\n",
    "            sele.size-=1\n",
    "            return res"
   ]
  },
  {
   "cell_type": "code",
   "execution_count": 15,
   "id": "274fe5b4-ad0c-4a69-bc34-ace0121d2888",
   "metadata": {},
   "outputs": [
    {
     "name": "stdout",
     "output_type": "stream",
     "text": [
      "False\n",
      "--\n"
     ]
    },
    {
     "data": {
      "text/plain": [
       "4"
      ]
     },
     "execution_count": 15,
     "metadata": {},
     "output_type": "execute_result"
    }
   ],
   "source": [
    "Deq=MyDeque()\n",
    "\n",
    "Deq.insertRear(10)\n",
    "Deq.insertRear(20)\n",
    "Deq.insertRear(30)\n",
    "Deq.insertRear(40)\n",
    "print(Deq.isEmpty())\n",
    "print('--')\n",
    "Deq.size"
   ]
  },
  {
   "cell_type": "code",
   "execution_count": 16,
   "id": "ca8aa468-599e-45ea-a348-ab6a61625c6f",
   "metadata": {},
   "outputs": [
    {
     "name": "stdout",
     "output_type": "stream",
     "text": [
      "True\n",
      "10 10\n",
      "10 20\n",
      "10 30\n",
      "20 30\n"
     ]
    }
   ],
   "source": [
    "class Node:\n",
    "    def __init__(self, k):\n",
    "        self.key = k\n",
    "        self.next = None\n",
    "        self.prev = None\n",
    "\n",
    "\n",
    "class MyDeque:\n",
    "    def __init__(self, c):\n",
    "        self.front = None\n",
    "        self.rear = None\n",
    "        self.sz = 0\n",
    "\n",
    "    def size(self):\n",
    "        return self.sz\n",
    "\n",
    "    def isEmpty(self):\n",
    "        return self.sz == 0\n",
    "\n",
    "    def insertRear(self, x):\n",
    "        temp = Node(x)\n",
    "        if self.rear == None:\n",
    "            self.front = temp\n",
    "        else:\n",
    "            self.rear.next = temp\n",
    "            temp.prev = self.rear\n",
    "        self.rear = temp\n",
    "        self.sz = self.sz + 1\n",
    "\n",
    "    def deletfront(self):\n",
    "        if self.front == None:\n",
    "            return None\n",
    "        else:\n",
    "            res = self.front.key\n",
    "            self.front = self.front.next\n",
    "            if self.front == None:\n",
    "                self.rear = None\n",
    "            else:\n",
    "                self.front.prev = None\n",
    "            self.sz = self.sz - 1\n",
    "\n",
    "            return res\n",
    "\n",
    "    def getFront(self):\n",
    "        if self.front:\n",
    "            return self.front.key\n",
    "\n",
    "    def getRear(self):\n",
    "        if self.rear:\n",
    "            return self.rear.key\n",
    "\n",
    "# main\n",
    "\n",
    "dq = MyDeque(3)\n",
    "\n",
    "print(dq.isEmpty())\n",
    "dq.insertRear(10)\n",
    "print(dq.getFront(),dq.getRear())\n",
    "dq.insertRear(20)\n",
    "print(dq.getFront(),dq.getRear())\n",
    "dq.insertRear(30)\n",
    "print(dq.getFront(), dq.getRear())\n",
    "dq.deletfront()\n",
    "print(dq.getFront(), dq.getRear())\n"
   ]
  },
  {
   "cell_type": "code",
   "execution_count": null,
   "id": "88f45dea-24e9-4501-8b0b-3a6795ca5a24",
   "metadata": {},
   "outputs": [],
   "source": []
  }
 ],
 "metadata": {
  "kernelspec": {
   "display_name": "Python 3 (ipykernel)",
   "language": "python",
   "name": "python3"
  },
  "language_info": {
   "codemirror_mode": {
    "name": "ipython",
    "version": 3
   },
   "file_extension": ".py",
   "mimetype": "text/x-python",
   "name": "python",
   "nbconvert_exporter": "python",
   "pygments_lexer": "ipython3",
   "version": "3.11.7"
  }
 },
 "nbformat": 4,
 "nbformat_minor": 5
}
