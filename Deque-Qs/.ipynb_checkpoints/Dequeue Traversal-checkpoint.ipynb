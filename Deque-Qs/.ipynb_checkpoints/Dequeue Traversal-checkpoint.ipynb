{
 "cells": [
  {
   "cell_type": "raw",
   "id": "31a20d9d-0798-4983-ae7e-939d20ea1505",
   "metadata": {},
   "source": [
    "Given a Deque Deq containing N elements, the task is to traverse the Deq and print its elements of it. \n",
    "\n",
    "Example 1:\n",
    "\n",
    "Input: \n",
    "5\n",
    "1 2 3 4 5\n",
    "\n",
    "Output: \n",
    "1 2 3 4 5\n",
    "\n",
    "Explanation: \n",
    "Dqe will look like \n",
    "{1, 2, 3, 4, 5}.\n",
    "Example 2:\n",
    "\n",
    "Input:\n",
    "1\n",
    "1\n",
    "\n",
    "Output: \n",
    "1\n",
    "\n",
    "Explanation: \n",
    "Dqe will look like {1}.\n",
    "Your task: You don't have to worry about the input. You just have to complete the function printDeque() which takes a Deque as an input parameter and prints all its elements of it.\n",
    "Note: The output must be printed on different lines for multiple test cases.\n",
    "\n",
    "Expected Time Complexity: O(N)\n",
    "Expected Auxilliary Space: O(1)\n",
    "\n",
    "Constraints:\n",
    "1 ≤ N ≤ 105"
   ]
  },
  {
   "cell_type": "code",
   "execution_count": 1,
   "id": "7bf77151-7595-4830-9c46-505b8e0bae78",
   "metadata": {},
   "outputs": [],
   "source": [
    "def printDeque(deq):\n",
    "    if not deq:\n",
    "        return\n",
    "    \n",
    "    while deq:\n",
    "        print(deq.popleft(), end=\" \")\n",
    "    \n",
    "    print()\n"
   ]
  },
  {
   "cell_type": "code",
   "execution_count": 2,
   "id": "33674355-fd3b-4ba6-bc20-1787d32b2790",
   "metadata": {},
   "outputs": [],
   "source": [
    "#Function to traverse the Deque and print the elements of it.\n",
    "def printDeque(deq):\n",
    "    \n",
    "    #using an iterator to traverse the deque.\n",
    "    for e in deq:\n",
    "        #printing the elements.\n",
    "        print(e,end=' ')\n",
    "    print()\n"
   ]
  },
  {
   "cell_type": "code",
   "execution_count": null,
   "id": "9ff29dca-4c2d-4286-84f8-27be55f302d5",
   "metadata": {},
   "outputs": [],
   "source": []
  }
 ],
 "metadata": {
  "kernelspec": {
   "display_name": "Python 3 (ipykernel)",
   "language": "python",
   "name": "python3"
  },
  "language_info": {
   "codemirror_mode": {
    "name": "ipython",
    "version": 3
   },
   "file_extension": ".py",
   "mimetype": "text/x-python",
   "name": "python",
   "nbconvert_exporter": "python",
   "pygments_lexer": "ipython3",
   "version": "3.11.7"
  }
 },
 "nbformat": 4,
 "nbformat_minor": 5
}
