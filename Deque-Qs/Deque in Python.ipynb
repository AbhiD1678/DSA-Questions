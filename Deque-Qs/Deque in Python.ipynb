{
 "cells": [
  {
   "cell_type": "code",
   "execution_count": 4,
   "id": "0c4d60d1-e13c-412b-b8d6-57d9149f136f",
   "metadata": {},
   "outputs": [
    {
     "name": "stdout",
     "output_type": "stream",
     "text": [
      "deque([40, 10, 20, 30])\n",
      "deque([40, 10])\n",
      "deque([10])\n"
     ]
    }
   ],
   "source": [
    "from collections import deque\n",
    "\n",
    "d=deque()\n",
    "\n",
    "d.append(10)\n",
    "d.append(20)\n",
    "d.append(30)\n",
    "\n",
    "d.appendleft(40)\n",
    "\n",
    "print(d)\n",
    "\n",
    "d.pop()\n",
    "d.pop()\n",
    "\n",
    "print(d)\n",
    "\n",
    "d.popleft()\n",
    "\n",
    "print(d)"
   ]
  },
  {
   "cell_type": "code",
   "execution_count": 5,
   "id": "fbd0b8b7-ff27-4460-b2e2-481b4c0d8b1c",
   "metadata": {},
   "outputs": [
    {
     "name": "stdout",
     "output_type": "stream",
     "text": [
      "The number 4 first occurs at a position : \n",
      "4\n",
      "The deque after inserting 3 at 5th position is : \n",
      "deque([1, 2, 3, 3, 3, 4, 2, 4])\n",
      "The count of 3 in deque is : \n",
      "3\n",
      "The deque after deleting first occurrence of 3 is : \n",
      "deque([1, 2, 3, 3, 4, 2, 4])\n"
     ]
    }
   ],
   "source": [
    "# Python code to demonstrate working of\n",
    "# insert(), index(), remove(), count()\n",
    "\n",
    "# importing \"collections\" for deque operations\n",
    "import collections\n",
    "\n",
    "# initializing deque\n",
    "de = collections.deque([1, 2, 3, 3, 4, 2, 4])\n",
    "\n",
    "# using index() to print the first occurrence of 4\n",
    "print (\"The number 4 first occurs at a position : \")\n",
    "print (de.index(4,2,5))\n",
    "\n",
    "# using insert() to insert the value 3 at 5th position\n",
    "de.insert(4,3)\n",
    "\n",
    "# printing modified deque\n",
    "print (\"The deque after inserting 3 at 5th position is : \")\n",
    "print (de)\n",
    "\n",
    "# using count() to count the occurrences of 3\n",
    "print (\"The count of 3 in deque is : \")\n",
    "print (de.count(3))\n",
    "\n",
    "# using remove() to remove the first occurrence of 3\n",
    "de.remove(3)\n",
    "\n",
    "# printing modified deque\n",
    "print (\"The deque after deleting first occurrence of 3 is : \")\n",
    "print (de)\n"
   ]
  },
  {
   "cell_type": "code",
   "execution_count": 6,
   "id": "a1d76246-db2c-4d56-aea2-79359ba98a6a",
   "metadata": {},
   "outputs": [
    {
     "name": "stdout",
     "output_type": "stream",
     "text": [
      "The deque after extending deque at end is : \n",
      "deque([1, 2, 3, 4, 5, 6])\n",
      "The deque after extending deque at beginning is : \n",
      "deque([9, 8, 7, 1, 2, 3, 4, 5, 6])\n",
      "The deque after rotating deque is : \n",
      "deque([1, 2, 3, 4, 5, 6, 9, 8, 7])\n",
      "The deque after reversing deque is : \n",
      "deque([7, 8, 9, 6, 5, 4, 3, 2, 1])\n"
     ]
    }
   ],
   "source": [
    "# Python code to demonstrate working of\n",
    "# extend(), extendleft(), rotate(), reverse()\n",
    "\n",
    "# importing \"collections\" for deque operations\n",
    "import collections\n",
    "\n",
    "# initializing deque\n",
    "de = collections.deque([1, 2, 3,])\n",
    "\n",
    "# using extend() to add numbers to right end\n",
    "# adds 4,5,6 to right end\n",
    "de.extend([4,5,6])\n",
    "\n",
    "# printing modified deque\n",
    "print (\"The deque after extending deque at end is : \")\n",
    "print (de)\n",
    "\n",
    "# using extendleft() to add numbers to left end\n",
    "# adds 7,8,9 to left end\n",
    "de.extendleft([7,8,9])\n",
    "\n",
    "# printing modified deque\n",
    "print (\"The deque after extending deque at beginning is : \")\n",
    "print (de)\n",
    "\n",
    "# using rotate() to rotate the deque\n",
    "# rotates by 3 to left\n",
    "de.rotate(-3)\n",
    "\n",
    "# printing modified deque\n",
    "print (\"The deque after rotating deque is : \")\n",
    "print (de)\n",
    "\n",
    "# using reverse() to reverse the deque\n",
    "de.reverse()\n",
    "\n",
    "# printing modified deque\n",
    "print (\"The deque after reversing deque is : \")\n",
    "print (de)\n"
   ]
  },
  {
   "cell_type": "raw",
   "id": "4f37694e-1134-4a3a-b166-4681698f305a",
   "metadata": {},
   "source": [
    "Time complexities\n",
    "\n",
    "Append()\n",
    "Appendleft()\n",
    "Pop()\n",
    "Popleft()\n",
    "\n",
    "all the above are O(1)"
   ]
  },
  {
   "cell_type": "raw",
   "id": "77b12420-f1cf-44c1-b71e-44202f5b6e42",
   "metadata": {},
   "source": [
    "Index()\n",
    "Count()\n",
    "Insert(x,a)\n",
    "\n",
    "These are O(n)\n",
    "\n",
    "Rotate(r)=O(abs(r))\n",
    "\n",
    "Extend([arr]) and Extendleft([arr]) are O(len(arr))"
   ]
  },
  {
   "cell_type": "markdown",
   "id": "d7ccf3e0-1b63-42c3-b766-b26f5eed004e",
   "metadata": {},
   "source": [
    "There are 2 types of deques:\n",
    "- Input restricted deques:where the deletion can be made from both the ends,but the insertion can be done from one end only\n",
    "- Output restricted deques:where the insertion can be made from both the ends,but the deletion can be done from one end only"
   ]
  },
  {
   "cell_type": "code",
   "execution_count": null,
   "id": "643a1ad6-ff0a-4c3c-aa90-d10aca7c027d",
   "metadata": {},
   "outputs": [],
   "source": []
  }
 ],
 "metadata": {
  "kernelspec": {
   "display_name": "Python 3 (ipykernel)",
   "language": "python",
   "name": "python3"
  },
  "language_info": {
   "codemirror_mode": {
    "name": "ipython",
    "version": 3
   },
   "file_extension": ".py",
   "mimetype": "text/x-python",
   "name": "python",
   "nbconvert_exporter": "python",
   "pygments_lexer": "ipython3",
   "version": "3.12.0"
  }
 },
 "nbformat": 4,
 "nbformat_minor": 5
}
