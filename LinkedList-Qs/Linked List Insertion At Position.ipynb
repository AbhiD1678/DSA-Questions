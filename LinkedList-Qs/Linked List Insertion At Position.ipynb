{
 "cells": [
  {
   "cell_type": "markdown",
   "id": "e512595d",
   "metadata": {},
   "source": [
    "You are given a linked list of size n. You need to insert an element data just after the given position pos.\n",
    "The position of first element is 1. If the given position is greater than n, then don't insert anything as it is not possible.\n",
    "\n",
    "Example 1:\n",
    "\n",
    "Input:\n",
    "LinkedList: 1->2->3->4->5\n",
    "position = 6, data = 10\n",
    "Output: 1 2 3 4 5\n",
    "Explanation: The given linked list is\n",
    "1 2 3 4 5. The data 10 is to be inserted\n",
    "after position 6. However, the linked\n",
    "list only contains 5 elements so we\n",
    "cannot insert the data.\n",
    "Example 2:\n",
    "\n",
    "Input:\n",
    "LinkedList: 2->4->6->7->5->1->0\n",
    "position = 7, data = 99\n",
    "Output: 2 4 6 7 5 1 0 99\n",
    "Your Task:\n",
    "This is a function problem. You only need to complete the function insertAtPosition that takes head, pos, and data as parameters.  The printing is done automatically by the driver code.\n",
    "\n",
    "Expected Time Complexity: O(N).\n",
    "Expected Auxiliary Space: O(1).\n",
    "\n",
    "Constraints:\n",
    "1 <= n, pos <= 103"
   ]
  },
  {
   "cell_type": "code",
   "execution_count": 1,
   "id": "ba5f3218",
   "metadata": {},
   "outputs": [],
   "source": [
    "'''\n",
    "class Node:\n",
    "    def __init__(self, data):\n",
    "        self.data = data\n",
    "        self.next = None\n",
    "'''\n",
    "def insertAtPosition(head,pos,data):\n",
    "    #code here\n",
    "    temp=Node(data)\n",
    "    \n",
    "    if pos==0:\n",
    "        temp.next=head\n",
    "        return temp\n",
    "        \n",
    "    curr=head\n",
    "    for i in range(pos-1):\n",
    "        curr=curr.next\n",
    "        if curr==None:\n",
    "            return head\n",
    "    temp.next=curr.next\n",
    "    curr.next=temp\n",
    "    return head"
   ]
  },
  {
   "cell_type": "markdown",
   "id": "b96a6077",
   "metadata": {},
   "source": [
    "# This example is different from the previous one as we have to add a node after a given position and not on the given position"
   ]
  },
  {
   "cell_type": "code",
   "execution_count": null,
   "id": "93b0e8e2",
   "metadata": {},
   "outputs": [],
   "source": []
  }
 ],
 "metadata": {
  "kernelspec": {
   "display_name": "Python 3 (ipykernel)",
   "language": "python",
   "name": "python3"
  },
  "language_info": {
   "codemirror_mode": {
    "name": "ipython",
    "version": 3
   },
   "file_extension": ".py",
   "mimetype": "text/x-python",
   "name": "python",
   "nbconvert_exporter": "python",
   "pygments_lexer": "ipython3",
   "version": "3.11.4"
  }
 },
 "nbformat": 4,
 "nbformat_minor": 5
}
