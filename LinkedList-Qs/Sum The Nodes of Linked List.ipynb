{
 "cells": [
  {
   "cell_type": "raw",
   "id": "12916afb",
   "metadata": {},
   "source": [
    "Given a singly linked list of size N. The task is to sum the elements of the linked list.\n",
    "\n",
    "Example 1:\n",
    "\n",
    "Input:\n",
    "LinkedList: 1->2->3->4->5\n",
    "Output: 15\n",
    "Example 2:\n",
    "\n",
    "Input:\n",
    "LinkedList: 2->4->6->7->5->1->0\n",
    "Output: 25\n",
    " \n",
    "\n",
    "Your Task:\n",
    "Your task is to complete the given function sumOfElements(), which takes head reference as argument and should return the sum of all the nodes in the Linked List. \n",
    "\n",
    "Constraints:\n",
    "1 <= n <= 100\n",
    "1 <= value <= 103\n",
    "\n",
    "Expected Time Complexity: O(N).\n",
    "Expected Auxiliary Space: O(1).\n",
    "\n"
   ]
  },
  {
   "cell_type": "code",
   "execution_count": 1,
   "id": "92e04949",
   "metadata": {},
   "outputs": [],
   "source": [
    "\n",
    "'''\n",
    "class Node:\n",
    "    def __init__(self, data):\n",
    "        self.data = data\n",
    "        self.next = None\n",
    "'''\n",
    "\n",
    "def sumOfElements(head):\n",
    "    #code here\n",
    "    sum1=0\n",
    "    curr=head\n",
    "    while curr:\n",
    "        sum1+=curr.data\n",
    "        curr=curr.next\n",
    "        \n",
    "    return sum1"
   ]
  },
  {
   "cell_type": "code",
   "execution_count": null,
   "id": "61c34854",
   "metadata": {},
   "outputs": [],
   "source": []
  }
 ],
 "metadata": {
  "kernelspec": {
   "display_name": "Python 3 (ipykernel)",
   "language": "python",
   "name": "python3"
  },
  "language_info": {
   "codemirror_mode": {
    "name": "ipython",
    "version": 3
   },
   "file_extension": ".py",
   "mimetype": "text/x-python",
   "name": "python",
   "nbconvert_exporter": "python",
   "pygments_lexer": "ipython3",
   "version": "3.11.4"
  }
 },
 "nbformat": 4,
 "nbformat_minor": 5
}
