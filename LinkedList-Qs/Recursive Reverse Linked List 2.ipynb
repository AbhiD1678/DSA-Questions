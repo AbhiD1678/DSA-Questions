{
 "cells": [
  {
   "cell_type": "code",
   "execution_count": null,
   "id": "1e05bb8f-fb1f-4e40-b354-c68b03ba59ad",
   "metadata": {},
   "outputs": [],
   "source": [
    "def RecursiveLL(head,prev=None):\n",
    "    if curr==None:\n",
    "        return prev\n",
    "    next=curr.next\n",
    "    curr.next=prev\n",
    "    return Recursive(next,curr)\n",
    "    "
   ]
  },
  {
   "cell_type": "code",
   "execution_count": null,
   "id": "52235175-49c8-4a4a-9a7d-ee0cf12da78f",
   "metadata": {},
   "outputs": [],
   "source": [
    "class Node:\n",
    "    def __init__(self, k):\n",
    "        self.key = k\n",
    "        self.next = None\n",
    "\n",
    "\n",
    "def reverseList(curr,prev = None):\n",
    "    if curr == None:\n",
    "        return prev\n",
    "\n",
    "    next = curr.next\n",
    "    curr.next = prev\n",
    "\n",
    "    return reverseList(next,curr)\n",
    "\n",
    "\n",
    "\n",
    "def printList(head):\n",
    "    curr = head\n",
    "    while curr != None:\n",
    "        print(curr.key)\n",
    "        curr = curr.next\n",
    "    print()\n",
    "\n",
    "\n",
    "head = Node(10)\n",
    "head.next = Node(20)\n",
    "head.next.next = Node(30)\n",
    "head.next.next.next = Node(40)\n",
    "\n",
    "printList(head)\n",
    "\n",
    "head = reverseList(head)\n",
    "\n",
    "printList(head)\n"
   ]
  }
 ],
 "metadata": {
  "kernelspec": {
   "display_name": "Python 3 (ipykernel)",
   "language": "python",
   "name": "python3"
  },
  "language_info": {
   "codemirror_mode": {
    "name": "ipython",
    "version": 3
   },
   "file_extension": ".py",
   "mimetype": "text/x-python",
   "name": "python",
   "nbconvert_exporter": "python",
   "pygments_lexer": "ipython3",
   "version": "3.11.7"
  }
 },
 "nbformat": 4,
 "nbformat_minor": 5
}
