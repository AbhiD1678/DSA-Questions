{
 "cells": [
  {
   "cell_type": "code",
   "execution_count": 1,
   "id": "8d99272b",
   "metadata": {},
   "outputs": [],
   "source": [
    "def DeleteLast(head):\n",
    "    if head==None:\n",
    "        return None\n",
    "    if head.next==None:\n",
    "        return None\n",
    "    curr=head\n",
    "    \n",
    "    while curr.next.next!=None:\n",
    "        curr=curr.next\n",
    "    curr.next=None\n",
    "    return head"
   ]
  },
  {
   "cell_type": "code",
   "execution_count": 2,
   "id": "3c54dd79",
   "metadata": {},
   "outputs": [
    {
     "name": "stdout",
     "output_type": "stream",
     "text": [
      "10\n",
      "20\n",
      "30\n",
      "40\n",
      "\n",
      "10\n",
      "20\n",
      "30\n",
      "\n"
     ]
    }
   ],
   "source": [
    "class Node:\n",
    "    def __init__(self, k):\n",
    "        self.key = k\n",
    "        self.next = None\n",
    "\n",
    "def deleteNode(head):\n",
    "    if head == None:\n",
    "        return  None\n",
    "\n",
    "    if head.next == None:\n",
    "        return None\n",
    "\n",
    "    curr = head\n",
    "\n",
    "    while curr.next.next != None:\n",
    "        curr = curr.next\n",
    "\n",
    "    curr.next = None\n",
    "    return head\n",
    "\n",
    "\n",
    "\n",
    "def printList(head):\n",
    "    curr = head\n",
    "    while curr != None:\n",
    "        print(curr.key)\n",
    "        curr = curr.next\n",
    "    print()\n",
    "\n",
    "\n",
    "head = Node(10)\n",
    "head.next = Node(20)\n",
    "head.next.next = Node(30)\n",
    "head.next.next.next = Node(40)\n",
    "\n",
    "printList(head)\n",
    "\n",
    "head = deleteNode(head)\n",
    "\n",
    "printList(head)\n"
   ]
  },
  {
   "cell_type": "raw",
   "id": "31fbf4e2",
   "metadata": {},
   "source": [
    "Expected Time Complexity: O(N).\n",
    "Expected Auxiliary Space: O(1)."
   ]
  },
  {
   "cell_type": "code",
   "execution_count": null,
   "id": "8917e0ca",
   "metadata": {},
   "outputs": [],
   "source": []
  }
 ],
 "metadata": {
  "kernelspec": {
   "display_name": "Python 3 (ipykernel)",
   "language": "python",
   "name": "python3"
  },
  "language_info": {
   "codemirror_mode": {
    "name": "ipython",
    "version": 3
   },
   "file_extension": ".py",
   "mimetype": "text/x-python",
   "name": "python",
   "nbconvert_exporter": "python",
   "pygments_lexer": "ipython3",
   "version": "3.11.7"
  }
 },
 "nbformat": 4,
 "nbformat_minor": 5
}
