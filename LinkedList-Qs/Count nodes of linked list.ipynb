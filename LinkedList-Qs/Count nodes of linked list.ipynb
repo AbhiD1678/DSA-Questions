{
 "cells": [
  {
   "cell_type": "raw",
   "id": "4e802776",
   "metadata": {},
   "source": [
    "Given a singly linked list. The task is to find the length of the linked list, where length is defined as the number of nodes in the linked list.\n",
    "\n",
    "Example 1:\n",
    "\n",
    "Input:\n",
    "LinkedList: 1->2->3->4->5\n",
    "Output: 5\n",
    "Explanation: Count of nodes in the \n",
    "linked list is 5, which is its length.\n",
    "Example 2:\n",
    "\n",
    "Input:\n",
    "LinkedList: 2->4->6->7->5->1->0\n",
    "Output: 7\n",
    "Explanation: Count of nodes in the\n",
    "linked list is 7. Hence, the output\n",
    "is 7.\n",
    "Your Task:\n",
    "Your task is to complete the given function getCount(), which takes a head reference as an argument and should return the length of the linked list.\n",
    "\n",
    "Expected Time Complexity : O(N)\n",
    "Expected Auxilliary Space : O(1)\n",
    "\n",
    "Constraints:\n",
    "1 <= N <= 105\n",
    "1 <= value <= 103\n",
    "\n",
    " "
   ]
  },
  {
   "cell_type": "code",
   "execution_count": 2,
   "id": "4707e8e1",
   "metadata": {},
   "outputs": [],
   "source": [
    "'''\n",
    "#Linked list class\n",
    "class LinkedList:\n",
    "    def __init__(self):\n",
    "        self.head=None\n",
    "        self.tail=None\n",
    "'''\n",
    "class Solution:\n",
    "    \n",
    "    #Function to count nodes of a linked list.\n",
    "    def getCount(self, head_node):\n",
    "        #code here\n",
    "        current=head_node\n",
    "        count=0\n",
    "        while(current!=None):\n",
    "            count+=1\n",
    "            current=current.next\n",
    "        return count\n"
   ]
  },
  {
   "cell_type": "code",
   "execution_count": null,
   "id": "2d4420be",
   "metadata": {},
   "outputs": [],
   "source": []
  }
 ],
 "metadata": {
  "kernelspec": {
   "display_name": "Python 3 (ipykernel)",
   "language": "python",
   "name": "python3"
  },
  "language_info": {
   "codemirror_mode": {
    "name": "ipython",
    "version": 3
   },
   "file_extension": ".py",
   "mimetype": "text/x-python",
   "name": "python",
   "nbconvert_exporter": "python",
   "pygments_lexer": "ipython3",
   "version": "3.11.4"
  }
 },
 "nbformat": 4,
 "nbformat_minor": 5
}
