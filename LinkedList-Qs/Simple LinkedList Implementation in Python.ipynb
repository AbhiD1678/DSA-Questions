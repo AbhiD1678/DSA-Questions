{
 "cells": [
  {
   "cell_type": "code",
   "execution_count": 9,
   "id": "eb6016f3",
   "metadata": {},
   "outputs": [
    {
     "name": "stdout",
     "output_type": "stream",
     "text": [
      "10\n",
      "20\n",
      "30\n"
     ]
    }
   ],
   "source": [
    "class Node:\n",
    "    \n",
    "    def __init__(self,key):\n",
    "        self.key=key\n",
    "        self.next=None\n",
    "        \n",
    "temp1=Node(10)\n",
    "temp2=Node(20)\n",
    "temp3=Node(30)\n",
    "head=temp1\n",
    "\n",
    "temp1.next=temp2\n",
    "temp2.next=temp3\n",
    "\n",
    "while(head):\n",
    "    print(head.key)\n",
    "    head=head.next\n"
   ]
  },
  {
   "cell_type": "markdown",
   "id": "fe2a6fbd",
   "metadata": {},
   "source": [
    "Alternative Approach"
   ]
  },
  {
   "cell_type": "code",
   "execution_count": 13,
   "id": "e6566c31",
   "metadata": {},
   "outputs": [
    {
     "name": "stdout",
     "output_type": "stream",
     "text": [
      "20 30 40 "
     ]
    }
   ],
   "source": [
    "head=Node(20)\n",
    "head.next=Node(30)\n",
    "head.next.next=Node(40)\n",
    "\n",
    "while(head):\n",
    "    print(head.key,end=' ')\n",
    "    head=head.next"
   ]
  },
  {
   "cell_type": "code",
   "execution_count": null,
   "id": "e69159e7",
   "metadata": {},
   "outputs": [],
   "source": []
  }
 ],
 "metadata": {
  "kernelspec": {
   "display_name": "Python 3 (ipykernel)",
   "language": "python",
   "name": "python3"
  },
  "language_info": {
   "codemirror_mode": {
    "name": "ipython",
    "version": 3
   },
   "file_extension": ".py",
   "mimetype": "text/x-python",
   "name": "python",
   "nbconvert_exporter": "python",
   "pygments_lexer": "ipython3",
   "version": "3.11.4"
  }
 },
 "nbformat": 4,
 "nbformat_minor": 5
}
