{
 "cells": [
  {
   "cell_type": "raw",
   "id": "5fd3cbc0",
   "metadata": {},
   "source": [
    "Given a singly linked list of integers. The task is to display the linked list.\n",
    "\n",
    "Example 1:\n",
    "\n",
    "Input:\n",
    "LinkedList: 1->2->3->4->5\n",
    "Output: 1 2 3 4 5\n",
    "Constraints:\n",
    "1 <= Number of nodes <= 100\n",
    "0 <= value of nodes<= 103\n",
    "\n",
    "Your Task:\n",
    "Your task is to complete the given function displayList(), which takes head reference as argument and return the linkedlist as an array.\n",
    "\n",
    "Expected Time Complexity: O(N).\n",
    "Expected Auxiliary Space: O(1)."
   ]
  },
  {
   "cell_type": "code",
   "execution_count": 1,
   "id": "f394bbc9",
   "metadata": {},
   "outputs": [],
   "source": [
    "'''\n",
    "class Node:\n",
    "    def __init__(self,data):\n",
    "        self.data=data\n",
    "        self.next=None\n",
    "'''\n",
    "def displayList(head):\n",
    "    #code here\n",
    "    a=[]\n",
    "    current=head\n",
    "    while(current):\n",
    "        a.append(current.data)\n",
    "        current=current.next\n",
    "    return a"
   ]
  },
  {
   "cell_type": "code",
   "execution_count": 1,
   "id": "4695d2c8",
   "metadata": {},
   "outputs": [],
   "source": [
    "def printList(head):\n",
    "    curr=head\n",
    "    while curr!=None:\n",
    "        print(curr.key)\n",
    "        curr=curr.next"
   ]
  },
  {
   "cell_type": "code",
   "execution_count": null,
   "id": "985b2cb7",
   "metadata": {},
   "outputs": [],
   "source": []
  }
 ],
 "metadata": {
  "kernelspec": {
   "display_name": "Python 3 (ipykernel)",
   "language": "python",
   "name": "python3"
  },
  "language_info": {
   "codemirror_mode": {
    "name": "ipython",
    "version": 3
   },
   "file_extension": ".py",
   "mimetype": "text/x-python",
   "name": "python",
   "nbconvert_exporter": "python",
   "pygments_lexer": "ipython3",
   "version": "3.11.4"
  }
 },
 "nbformat": 4,
 "nbformat_minor": 5
}
