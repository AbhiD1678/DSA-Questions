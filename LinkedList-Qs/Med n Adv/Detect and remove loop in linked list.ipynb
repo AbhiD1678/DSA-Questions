{
 "cells": [
  {
   "cell_type": "code",
   "execution_count": 2,
   "id": "38322cb4-84c5-4af2-b7fc-fe193fa0e017",
   "metadata": {},
   "outputs": [],
   "source": [
    "def RemoveLoop(head):\n",
    "    fast_p=head\n",
    "    slow_p=head\n",
    "    while fast_p!=None and fast_p.next!=None:\n",
    "        slow_p=slow_p.next\n",
    "        fast_p=fast_p.next.next\n",
    "        if slow_p==fast_p:\n",
    "            break\n",
    "    if slow_p!=fast_p:\n",
    "        return\n",
    "    slow_p=head\n",
    "    while slow_p.next!=fast_p.next:\n",
    "        slow_p=slow_p.next\n",
    "        fast_p=fast_p.next\n",
    "    fast_p.next=None\n",
    "# Time complexity:O(n)\n",
    "#Space complexity:O(1)"
   ]
  },
  {
   "cell_type": "code",
   "execution_count": null,
   "id": "e0f1cb20-0a93-41e4-aec6-f0490c143255",
   "metadata": {},
   "outputs": [],
   "source": []
  }
 ],
 "metadata": {
  "kernelspec": {
   "display_name": "Python 3 (ipykernel)",
   "language": "python",
   "name": "python3"
  },
  "language_info": {
   "codemirror_mode": {
    "name": "ipython",
    "version": 3
   },
   "file_extension": ".py",
   "mimetype": "text/x-python",
   "name": "python",
   "nbconvert_exporter": "python",
   "pygments_lexer": "ipython3",
   "version": "3.12.0"
  }
 },
 "nbformat": 4,
 "nbformat_minor": 5
}
