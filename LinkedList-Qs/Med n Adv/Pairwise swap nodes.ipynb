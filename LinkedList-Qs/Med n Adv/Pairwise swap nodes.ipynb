{
 "cells": [
  {
   "cell_type": "markdown",
   "id": "d6442a01-9eae-4fbb-b30c-364720279ecc",
   "metadata": {},
   "source": [
    "Naive Solution,Time complexity:O(n)"
   ]
  },
  {
   "cell_type": "code",
   "execution_count": 1,
   "id": "6e6b7737-52f3-4f2d-aff7-0059296a5c67",
   "metadata": {},
   "outputs": [],
   "source": [
    "def pairwise(head):\n",
    "    curr=head\n",
    "    while curr!=None and curr.next!=None:\n",
    "        curr.data,curr.next.data=curr.next.data,curr.data\n",
    "        curr=curr.next.next\n",
    "    return head"
   ]
  },
  {
   "cell_type": "markdown",
   "id": "ebb0df65-261a-43b9-926d-4646bb20c4bf",
   "metadata": {},
   "source": [
    "Efficient solution"
   ]
  },
  {
   "cell_type": "code",
   "execution_count": 3,
   "id": "68cae6f0-b6ac-4cb4-94ee-63a56e0075a1",
   "metadata": {},
   "outputs": [],
   "source": [
    "def paiwairEff(head):\n",
    "    if head==None or head.next==None:\n",
    "        return head\n",
    "    curr=head.next.next\n",
    "    prev=head\n",
    "    head=head.next\n",
    "    head.next=prev #Swapping till 1st two nodes\n",
    "    while curr!=None and curr.next!=None:\n",
    "        prev.next=curr.next\n",
    "        prev=curr\n",
    "        next=curr.next.next #Getting hold of the 2nd next node\n",
    "        curr.next.next=curr #Changing the next pointer of curr.next to point towards curr\n",
    "        curr=next\n",
    "    prev.next=curr\n",
    "    return head"
   ]
  },
  {
   "cell_type": "code",
   "execution_count": null,
   "id": "15a353f0-bcf4-4e2a-92a3-52d211dc5316",
   "metadata": {},
   "outputs": [],
   "source": []
  }
 ],
 "metadata": {
  "kernelspec": {
   "display_name": "Python 3 (ipykernel)",
   "language": "python",
   "name": "python3"
  },
  "language_info": {
   "codemirror_mode": {
    "name": "ipython",
    "version": 3
   },
   "file_extension": ".py",
   "mimetype": "text/x-python",
   "name": "python",
   "nbconvert_exporter": "python",
   "pygments_lexer": "ipython3",
   "version": "3.12.0"
  }
 },
 "nbformat": 4,
 "nbformat_minor": 5
}
