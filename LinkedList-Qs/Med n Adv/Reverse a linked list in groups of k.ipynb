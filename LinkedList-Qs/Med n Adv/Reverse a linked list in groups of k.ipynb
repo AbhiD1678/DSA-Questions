{
 "cells": [
  {
   "cell_type": "code",
   "execution_count": 3,
   "id": "dd388aa9-afca-4cf6-8d6a-678a99716695",
   "metadata": {},
   "outputs": [],
   "source": [
    "def ReverseK(head,k):\n",
    "    curr=head\n",
    "    prev,nex=None,None\n",
    "    count=1\n",
    "    while curr!=None and count<=k:\n",
    "        nex=curr.next\n",
    "        curr.nex=prev\n",
    "        prev=curr\n",
    "        curr=nex\n",
    "        count+=1\n",
    "    if nex!=None:\n",
    "        rem_head=ReverseK(curr,k)\n",
    "        head.next=rem_head\n",
    "    return prev\n",
    "\n",
    "# Time complexity :O(n)\n",
    "# Space complexity:O(n/k)"
   ]
  },
  {
   "cell_type": "code",
   "execution_count": 6,
   "id": "c4c93544-acc2-4ed8-a4fe-63a84898d166",
   "metadata": {},
   "outputs": [],
   "source": [
    "def iteRevK(head,k):\n",
    "    curr=head\n",
    "    prev_first=None\n",
    "    first_pass=True\n",
    "    while curr!=None:\n",
    "        first,prev=curr,None\n",
    "        count=0\n",
    "        while curr!=None and count<k:\n",
    "            nex=curr.nex\n",
    "            curr.nex=prev\n",
    "            prev=curr\n",
    "            curr=nex\n",
    "            count+=1\n",
    "        if first_pass:\n",
    "            head=prev\n",
    "            first_pass=False\n",
    "        else:\n",
    "            prev_first.nex=prev\n",
    "        prev_first=first\n",
    "    return head\n",
    "\n",
    "# Time complexity:O(n)\n",
    "# Space complexity:O(1)"
   ]
  },
  {
   "cell_type": "code",
   "execution_count": null,
   "id": "8c6de4bf-7f24-4ef5-a9bc-f772097abf1c",
   "metadata": {},
   "outputs": [],
   "source": []
  }
 ],
 "metadata": {
  "kernelspec": {
   "display_name": "Python 3 (ipykernel)",
   "language": "python",
   "name": "python3"
  },
  "language_info": {
   "codemirror_mode": {
    "name": "ipython",
    "version": 3
   },
   "file_extension": ".py",
   "mimetype": "text/x-python",
   "name": "python",
   "nbconvert_exporter": "python",
   "pygments_lexer": "ipython3",
   "version": "3.12.0"
  }
 },
 "nbformat": 4,
 "nbformat_minor": 5
}
