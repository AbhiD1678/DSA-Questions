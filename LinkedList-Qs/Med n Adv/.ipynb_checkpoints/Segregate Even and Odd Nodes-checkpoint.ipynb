{
 "cells": [
  {
   "cell_type": "raw",
   "id": "3b5d2d9d-b010-4800-a7d1-01d210b7ab58",
   "metadata": {},
   "source": [
    "Method 1:Naive Solution"
   ]
  },
  {
   "cell_type": "code",
   "execution_count": 1,
   "id": "eb7007b5-42bd-4b01-a556-b489fbe14eef",
   "metadata": {},
   "outputs": [],
   "source": [
    "def segregate(head):\n",
    "    curr=head\n",
    "    while curr.next!=None:\n",
    "        curr=curr.next\n",
    "    last=curr\n",
    "    new_last=curr\n",
    "    new_curr=head\n",
    "    prev=None\n",
    "    \n",
    "    while new_curr!=new_last:\n",
    "        if new_curr.data%2==0:\n",
    "            prev=new_curr\n",
    "            new_curr=new_curr.next\n",
    "        else:\n",
    "            if prev:\n",
    "                prev.next=new_curr.next\n",
    "            else:\n",
    "                head=new_curr.next\n",
    "            new_last.next=new_curr\n",
    "            new_last=new_curr\n",
    "            new_curr=new_curr.next\n",
    "            new_last.next=None\n",
    "    if last.data%2!=0 and last!=new_last:\n",
    "        if prev:\n",
    "            prev.next=new_curr.next\n",
    "        else:\n",
    "            head=last.next\n",
    "        new_last.next=last\n",
    "        new_last=last\n",
    "        new_last.next=None\n",
    "            \n",
    "    return head\n",
    "\n",
    "# Time complexity:O(2*n)\n",
    "\n",
    "    "
   ]
  },
  {
   "cell_type": "raw",
   "id": "5af7de70-57f3-423b-b2f0-8cc2899f64f1",
   "metadata": {},
   "source": [
    "Method 2: One traversal Only,O(n) method"
   ]
  },
  {
   "cell_type": "code",
   "execution_count": 2,
   "id": "587ee198-7cd5-4866-97b0-f3db8373955d",
   "metadata": {},
   "outputs": [],
   "source": [
    "def segregate(head):\n",
    "    es,ee,os,oe=None\n",
    "\n",
    "    curr=head\n",
    "    while curr!=None:\n",
    "        if curr.data%2==0:\n",
    "            if es==None:\n",
    "                es=curr\n",
    "                ee=es\n",
    "            else:\n",
    "                ee.next=curr\n",
    "                ee=curr\n",
    "        else:\n",
    "            if os==None:\n",
    "                os=curr\n",
    "                oe=os\n",
    "            else:\n",
    "                oe.next=curr\n",
    "                oe=curr\n",
    "        curr=curr.next\n",
    "    if os==None or es==None:\n",
    "        return head\n",
    "    ee.next=os\n",
    "    oe.next=None \n",
    "    return es"
   ]
  },
  {
   "cell_type": "code",
   "execution_count": null,
   "id": "6392deba-6865-4933-be67-a05148d54d4c",
   "metadata": {},
   "outputs": [],
   "source": []
  }
 ],
 "metadata": {
  "kernelspec": {
   "display_name": "Python 3 (ipykernel)",
   "language": "python",
   "name": "python3"
  },
  "language_info": {
   "codemirror_mode": {
    "name": "ipython",
    "version": 3
   },
   "file_extension": ".py",
   "mimetype": "text/x-python",
   "name": "python",
   "nbconvert_exporter": "python",
   "pygments_lexer": "ipython3",
   "version": "3.12.0"
  }
 },
 "nbformat": 4,
 "nbformat_minor": 5
}
