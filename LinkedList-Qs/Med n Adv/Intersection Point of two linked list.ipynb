{
 "cells": [
  {
   "cell_type": "code",
   "execution_count": 1,
   "id": "d256ca22-4ac2-427c-91ef-45de7e606e15",
   "metadata": {},
   "outputs": [],
   "source": [
    "def getIntersection(head1,head2):\n",
    "    s=set\n",
    "    curr=head1\n",
    "    while curr!=None:\n",
    "        s.add(curr)\n",
    "        curr=curr.next\n",
    "    curr=head2\n",
    "    while curr!=None:\n",
    "        if curr in s:\n",
    "            return curr.data\n",
    "        curr=curr.next\n",
    "    return False\n",
    "\n",
    "#Time complexity:O(n+m)\n",
    "#Space complexity:O(n)\n"
   ]
  },
  {
   "cell_type": "code",
   "execution_count": 3,
   "id": "d4feaa09-e62e-4bd1-8e3a-9de7dd7dc0a7",
   "metadata": {},
   "outputs": [],
   "source": [
    "def getIntersection(d,head1,head2):\n",
    "    curr=head1\n",
    "    for i in range(d):\n",
    "        if curr==None:\n",
    "            return -1\n",
    "        curr=curr.next\n",
    "    curr2=head2\n",
    "    while curr!=None and curr2!=None:\n",
    "        if curr==curr2:\n",
    "            return curr.data\n",
    "        curr=curr.next\n",
    "        curr2=curr2.next"
   ]
  },
  {
   "cell_type": "code",
   "execution_count": null,
   "id": "181f09f8-351d-430a-ba2a-d12188855891",
   "metadata": {},
   "outputs": [],
   "source": []
  }
 ],
 "metadata": {
  "kernelspec": {
   "display_name": "Python 3 (ipykernel)",
   "language": "python",
   "name": "python3"
  },
  "language_info": {
   "codemirror_mode": {
    "name": "ipython",
    "version": 3
   },
   "file_extension": ".py",
   "mimetype": "text/x-python",
   "name": "python",
   "nbconvert_exporter": "python",
   "pygments_lexer": "ipython3",
   "version": "3.12.0"
  }
 },
 "nbformat": 4,
 "nbformat_minor": 5
}
