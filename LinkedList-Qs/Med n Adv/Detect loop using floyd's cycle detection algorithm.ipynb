{
 "cells": [
  {
   "cell_type": "code",
   "execution_count": 1,
   "id": "5839ca28-65cf-4586-80f1-315538490c6b",
   "metadata": {},
   "outputs": [],
   "source": [
    "def FloydDet(head):\n",
    "    fast_p=head\n",
    "    slow_p=head\n",
    "    while fast_p!=None and fast_p.next!=None:\n",
    "        slow_p=slow_p.next\n",
    "        fast_p=fast_p.next.next\n",
    "        if slow_p==fast_p:\n",
    "            return True\n",
    "    return False"
   ]
  },
  {
   "cell_type": "code",
   "execution_count": null,
   "id": "51d07686-c82f-414a-9f43-432f18251128",
   "metadata": {},
   "outputs": [],
   "source": []
  }
 ],
 "metadata": {
  "kernelspec": {
   "display_name": "Python 3 (ipykernel)",
   "language": "python",
   "name": "python3"
  },
  "language_info": {
   "codemirror_mode": {
    "name": "ipython",
    "version": 3
   },
   "file_extension": ".py",
   "mimetype": "text/x-python",
   "name": "python",
   "nbconvert_exporter": "python",
   "pygments_lexer": "ipython3",
   "version": "3.12.0"
  }
 },
 "nbformat": 4,
 "nbformat_minor": 5
}
