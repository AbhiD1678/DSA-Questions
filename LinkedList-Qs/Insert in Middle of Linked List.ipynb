{
 "cells": [
  {
   "cell_type": "markdown",
   "id": "bdb0efe5",
   "metadata": {},
   "source": [
    "Given a linked list of size N and a key. The task is to insert the key in the middle of the linked list.\n",
    "\n",
    "Example 1:\n",
    "\n",
    "Input:\n",
    "LinkedList = 1->2->4\n",
    "key = 3\n",
    "Output: 1 2 3 4\n",
    "Explanation: The new element is inserted\n",
    "after the current middle element in the\n",
    "linked list.\n",
    "Example 2:\n",
    "\n",
    "Input:\n",
    "LinkedList = 10->20->40->50\n",
    "key = 30\n",
    "Output: 10 20 30 40 50\n",
    "Explanation: The new element is inserted\n",
    "after the current middle element in the\n",
    "linked list and Hence, the output is\n",
    "10 20 30 40 50.\n",
    " \n",
    "\n",
    "Your Task:\n",
    "The task is to complete the function insertInMiddle() which takes head reference and element to be inserted as the arguments. The printing is done automatically by the driver code.\n",
    "\n",
    "Expected Time Complexity : O(N)\n",
    "Expected Auxilliary Space : O(1)"
   ]
  },
  {
   "cell_type": "code",
   "execution_count": 1,
   "id": "85c4f885",
   "metadata": {},
   "outputs": [],
   "source": [
    "def insertInMid(head,node):\n",
    "    #code here\n",
    "    if head==None:\n",
    "        return node\n",
    "        \n",
    "    count=0\n",
    "    \n",
    "    curr=head\n",
    "    \n",
    "    while curr:\n",
    "        curr=curr.next\n",
    "        count+=1\n",
    "    curr=head   \n",
    "    if count%2==0 :\n",
    "        count=count-1\n",
    "    for i in range(count//2):\n",
    "        curr=curr.next\n",
    "        \n",
    "    node.next=curr.next\n",
    "    curr.next=node\n",
    "\n"
   ]
  },
  {
   "cell_type": "raw",
   "id": "8bd07cc4",
   "metadata": {},
   "source": [
    "Expected Approach:\n",
    "Intuition\n",
    "We will use tortoise and hare / fast and slow algorithm .\n",
    "\n",
    "Implementation\n",
    "Based on the tortoise and hare algorithm which uses two pointers, one known as slow and the other known as fast.\n",
    "\n",
    "Initialize two-pointers fast and slow with head\n",
    "Move fast by two steps i.e fast = fast->next->next till it reaches end\n",
    "And slow = slow->next\n",
    "Now append node x after slow i.e. slow->next = x\n",
    "Example: \n",
    "Let linked list be 10->20->40->50 and we want to insert 30 at middle.\n",
    "\n",
    "Initially, slow point to 10 and fast point to 20.\n",
    "After that, slow point to 20 and fast point to 50.\n",
    "Now fast->next==NULL, so we break.\n",
    "Now we insert 30 after slow pointer.\n",
    "So finally , linked list = 10->20->30->40->50."
   ]
  },
  {
   "cell_type": "code",
   "execution_count": 2,
   "id": "72339679",
   "metadata": {},
   "outputs": [],
   "source": [
    "#Back-end complete function Template for Python 3\n",
    "\n",
    "#Function to insert a node in the middle of the linked list.\n",
    "def insertInMid(head,new_node):\n",
    "    \n",
    "    #we take two pointers one of which moves to next node in each\n",
    "\t#iteration and the other moves two nodes in one iteration.\n",
    "    slow = head\n",
    "    fast = head.next\n",
    "    \n",
    "    #when fast will reach end, slow will be at the middle point.\n",
    "    while fast and fast.next:\n",
    "        slow = slow.next\n",
    "        fast = fast.next.next\n",
    "        \n",
    "    #we store the next node after slow in link part of the new node.\n",
    "    new_node.next = slow.next\n",
    "    #we also store the new node in link part of the slow node.\n",
    "    slow.next = new_node\n"
   ]
  },
  {
   "cell_type": "raw",
   "id": "a4b61a57",
   "metadata": {},
   "source": [
    "Time Complexity : O(N), N is number of nodes in the linked list.\n",
    "Space Complexity : O(1), no extra space is used."
   ]
  },
  {
   "cell_type": "code",
   "execution_count": null,
   "id": "29fcda5c",
   "metadata": {},
   "outputs": [],
   "source": []
  }
 ],
 "metadata": {
  "kernelspec": {
   "display_name": "Python 3 (ipykernel)",
   "language": "python",
   "name": "python3"
  },
  "language_info": {
   "codemirror_mode": {
    "name": "ipython",
    "version": 3
   },
   "file_extension": ".py",
   "mimetype": "text/x-python",
   "name": "python",
   "nbconvert_exporter": "python",
   "pygments_lexer": "ipython3",
   "version": "3.11.4"
  }
 },
 "nbformat": 4,
 "nbformat_minor": 5
}
