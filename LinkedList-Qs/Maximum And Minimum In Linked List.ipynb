{
 "cells": [
  {
   "cell_type": "raw",
   "id": "888dc626-4b69-414b-bb8a-85bde02f4b4d",
   "metadata": {},
   "source": [
    "Given a singly linked list of N elements. The task is to find the maximum and minimum element.\n",
    "\n",
    "Example 1:\n",
    "\n",
    "Input:\n",
    "LinkedList: 1->2->3->4->5\n",
    "Output: 5 1\n",
    "Example 2:\n",
    "\n",
    "Input:\n",
    "LinkedList: 2->4->6->7->5->1->0\n",
    "Output: 7 0\n",
    "Your Task:\n",
    "Your task is to complete the given functions both of which take head reference as argument and return maximum and minimum element as mentioned. The printing is done by driver code.\n",
    "\n",
    "Constraints:\n",
    "1 <= n <= 100\n",
    "1 <= value <= 103\n",
    "\n",
    "Expected Time Complexity: O(N).\n",
    "Expected Auxiliary Space: O(1).\n",
    "\n"
   ]
  },
  {
   "cell_type": "code",
   "execution_count": 1,
   "id": "dc6c33ae-e52e-44f4-850c-41c04f0def83",
   "metadata": {},
   "outputs": [],
   "source": [
    "'''\n",
    "class Node:\n",
    "    def __init__(self, data):\n",
    "        self.data = data\n",
    "        self.next = None\n",
    "'''\n",
    "def maximum(head):\n",
    "    #code here\n",
    "    max=head.data\n",
    "    curr=head\n",
    "    while curr is not None:\n",
    "        if max<curr.data:\n",
    "            max=curr.data\n",
    "        curr=curr.next\n",
    "    return max\n",
    "    \n",
    "    \n",
    "def minimum(head):\n",
    "    #code here\n",
    "    min=head.data\n",
    "    curr=head\n",
    "    while curr is not None:\n",
    "        if min>curr.data:\n",
    "            min=curr.data\n",
    "        curr=curr.next\n",
    "    return min\n"
   ]
  },
  {
   "cell_type": "code",
   "execution_count": null,
   "id": "ff204476-280e-492c-8c14-99322b736c52",
   "metadata": {},
   "outputs": [],
   "source": []
  }
 ],
 "metadata": {
  "kernelspec": {
   "display_name": "Python 3 (ipykernel)",
   "language": "python",
   "name": "python3"
  },
  "language_info": {
   "codemirror_mode": {
    "name": "ipython",
    "version": 3
   },
   "file_extension": ".py",
   "mimetype": "text/x-python",
   "name": "python",
   "nbconvert_exporter": "python",
   "pygments_lexer": "ipython3",
   "version": "3.11.7"
  }
 },
 "nbformat": 4,
 "nbformat_minor": 5
}
