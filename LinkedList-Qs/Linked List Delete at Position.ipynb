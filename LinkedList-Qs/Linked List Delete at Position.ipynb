{
 "cells": [
  {
   "cell_type": "raw",
   "id": "ea7bf9d4",
   "metadata": {},
   "source": [
    "Given a linked list of size n, you have to delete the node at position pos of the linked list and return the new head. The position of initial node is 1.\n",
    "\n",
    "Example 1:\n",
    "\n",
    "Input:\n",
    "LinkedList: 1->2->3->4->5\n",
    "pos = 4\n",
    "Output: 1 2 3 5\n",
    "Example 2:\n",
    "\n",
    "Input:\n",
    "LinkedList: 2->5->7->8->99->100\n",
    "pos = 6\n",
    "Output: 2 5 7 8 99\n",
    "Your Task:\n",
    "The task is to complete the function deleteAtPosition() which takes head reference and pos as argument and returns reference to the new head node, which is then used to display the list. The printing is done automatically by the driver code.\n",
    "\n",
    "Expected Time Complexity: O(pos).\n",
    "Expected Auxiliary Space: O(1).\n",
    "\n",
    "Constraints:\n",
    "2 <= number of nodes <= 103\n",
    "1 <= pos <= n\n",
    "\n"
   ]
  },
  {
   "cell_type": "code",
   "execution_count": 1,
   "id": "407faea3",
   "metadata": {},
   "outputs": [],
   "source": [
    "def deleteAtPosition(head, pos):\n",
    "    #code here\n",
    "    if head==None:\n",
    "        return None\n",
    "    if pos==1:\n",
    "        return head.next\n",
    "        \n",
    "    curr=head\n",
    "    \n",
    "    for i in range(pos-2):\n",
    "        curr=curr.next\n",
    "        \n",
    "    if curr.next.next:\n",
    "        curr.next=curr.next.next\n",
    "        return head\n",
    "    curr.next=None\n",
    "    return head\n"
   ]
  },
  {
   "cell_type": "code",
   "execution_count": null,
   "id": "76a4e0e7",
   "metadata": {},
   "outputs": [],
   "source": []
  }
 ],
 "metadata": {
  "kernelspec": {
   "display_name": "Python 3 (ipykernel)",
   "language": "python",
   "name": "python3"
  },
  "language_info": {
   "codemirror_mode": {
    "name": "ipython",
    "version": 3
   },
   "file_extension": ".py",
   "mimetype": "text/x-python",
   "name": "python",
   "nbconvert_exporter": "python",
   "pygments_lexer": "ipython3",
   "version": "3.11.4"
  }
 },
 "nbformat": 4,
 "nbformat_minor": 5
}
