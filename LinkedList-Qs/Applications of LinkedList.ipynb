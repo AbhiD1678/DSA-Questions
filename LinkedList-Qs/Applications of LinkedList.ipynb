{
 "cells": [
  {
   "cell_type": "markdown",
   "id": "787795f2",
   "metadata": {},
   "source": [
    "### Applications of linked list in computer science: "
   ]
  },
  {
   "cell_type": "raw",
   "id": "7f53504e",
   "metadata": {},
   "source": [
    "Implementation of stacks and queues\n",
    "Implementation of graphs: Adjacency list representation of graphs is the most popular which uses a linked list to \n",
    "store adjacent vertices.\n",
    "Dynamic memory allocation: We use a linked list of free blocks.\n",
    "Maintaining a directory of names\n",
    "Performing arithmetic operations on long integers\n",
    "Manipulation of polynomials by storing constants in the node of the linked list\n",
    "representing sparse matrices"
   ]
  },
  {
   "cell_type": "markdown",
   "id": "dd90d8e6",
   "metadata": {},
   "source": [
    "### Applications of linked list in the real world:"
   ]
  },
  {
   "cell_type": "raw",
   "id": "c16a392f",
   "metadata": {},
   "source": [
    "Image viewer – Previous and next images are linked and can be accessed by the next and previous buttons.\n",
    "Previous and next page in a web browser – We can access the previous and next URL searched in a web browser by pressing the back and next buttons since they are linked as a linked list.\n",
    "Music Player – Songs in the music player are linked to the previous and next songs. So you can play songs either from starting or ending of the list."
   ]
  }
 ],
 "metadata": {
  "kernelspec": {
   "display_name": "Python 3 (ipykernel)",
   "language": "python",
   "name": "python3"
  },
  "language_info": {
   "codemirror_mode": {
    "name": "ipython",
    "version": 3
   },
   "file_extension": ".py",
   "mimetype": "text/x-python",
   "name": "python",
   "nbconvert_exporter": "python",
   "pygments_lexer": "ipython3",
   "version": "3.11.4"
  }
 },
 "nbformat": 4,
 "nbformat_minor": 5
}
