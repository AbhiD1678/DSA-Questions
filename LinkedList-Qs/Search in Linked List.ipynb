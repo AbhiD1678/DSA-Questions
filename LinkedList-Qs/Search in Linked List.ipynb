{
 "cells": [
  {
   "cell_type": "code",
   "execution_count": 1,
   "id": "b26a8cdf",
   "metadata": {},
   "outputs": [],
   "source": [
    "def search(head,x):\n",
    "    curr=head\n",
    "    pos=1\n",
    "    while curr!=None:\n",
    "        if curr.key==x:\n",
    "            return pos\n",
    "        pos+=1\n",
    "        curr=curr.next\n",
    "    return -1"
   ]
  },
  {
   "cell_type": "raw",
   "id": "3e80d265",
   "metadata": {},
   "source": [
    "You are given a singly linked list of N elements, and also an element x. You need to find if x is present in the linked list or not.\n",
    "\n",
    "Example 1:\n",
    "\n",
    "Input:\n",
    "LinkedList: 1->2->3->4->5\n",
    "x = 4\n",
    "Output: 1\n",
    "Example 2:\n",
    "\n",
    "Input:\n",
    "LinkedList: 2->4->6->7->5->1->0\n",
    "x = 10\n",
    "Output: 0\n",
    "Your Task:\n",
    "Your task is to complete the given function searchLinkedList() which takes head reference and x as arguments and returns true if x is present else returns false. (1 is printed by the driver code if the returned value is true, otherwise 0)\n",
    "\n",
    "Constraints:\n",
    "1 <= n <= 100\n",
    "1 <= x, value <= 103\n",
    "\n",
    "Expected Time Complexity: O(N).\n",
    "Expected Auxiliary Space: O(1)."
   ]
  },
  {
   "cell_type": "code",
   "execution_count": 2,
   "id": "59a46740",
   "metadata": {},
   "outputs": [],
   "source": [
    "'''\n",
    "class Node:\n",
    "    def __init__(self, data):\n",
    "        self.data = data\n",
    "        self.next = None\n",
    "'''\n",
    "def searchLinkedList(head,x):\n",
    "    #code here\n",
    "    curr=head\n",
    "    \n",
    "    while curr!=None:\n",
    "        if curr.data==x:\n",
    "            return 1\n",
    "            \n",
    "        curr=curr.next\n",
    "    return 0"
   ]
  },
  {
   "cell_type": "code",
   "execution_count": null,
   "id": "9f2388a3",
   "metadata": {},
   "outputs": [],
   "source": []
  }
 ],
 "metadata": {
  "kernelspec": {
   "display_name": "Python 3 (ipykernel)",
   "language": "python",
   "name": "python3"
  },
  "language_info": {
   "codemirror_mode": {
    "name": "ipython",
    "version": 3
   },
   "file_extension": ".py",
   "mimetype": "text/x-python",
   "name": "python",
   "nbconvert_exporter": "python",
   "pygments_lexer": "ipython3",
   "version": "3.11.4"
  }
 },
 "nbformat": 4,
 "nbformat_minor": 5
}
