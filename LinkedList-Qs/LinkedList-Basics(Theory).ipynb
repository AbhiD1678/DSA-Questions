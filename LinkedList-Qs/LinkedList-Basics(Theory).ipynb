{
 "cells": [
  {
   "cell_type": "raw",
   "id": "d9ed4e98",
   "metadata": {},
   "source": [
    "Problems with arrays:\n",
    "    \n",
    "1)Either the size is fixed and pre allocated or the worst case insertion at the end is O(n)\n",
    "\n",
    "2)Insertion in the middle is costly\n",
    "\n",
    "3)Deletion in the middle is costly\n",
    "\n",
    "4)Implementation of data structures like queue and deque is complex with array"
   ]
  },
  {
   "cell_type": "raw",
   "id": "ed889741",
   "metadata": {},
   "source": [
    "Like arrays, Linked List is a linear data structure. Unlike arrays, linked list elements are not stored at a contiguous location; the elements are linked using pointers. They include a series of connected nodes. \n",
    "Here, each node stores the data and the address of the next node"
   ]
  },
  {
   "cell_type": "markdown",
   "id": "af6f8b42",
   "metadata": {},
   "source": [
    "### Why Linked List? "
   ]
  },
  {
   "cell_type": "raw",
   "id": "e814e136",
   "metadata": {},
   "source": [
    "The size of the arrays is fixed: So we must know the upper limit on the number of elements in advance. Also, generally, the allocated memory is equal to the upper limit irrespective of the usage. \n",
    "Insertion of a new element / Deletion of a existing element in an array of elements is expensive: The room has to be created for the new elements and to create room existing elements have to be shifted but in Linked list if we have the head node then we can traverse to any node through it and insert new node at the required position."
   ]
  },
  {
   "cell_type": "code",
   "execution_count": null,
   "id": "6fab64f7",
   "metadata": {},
   "outputs": [],
   "source": []
  }
 ],
 "metadata": {
  "kernelspec": {
   "display_name": "Python 3 (ipykernel)",
   "language": "python",
   "name": "python3"
  },
  "language_info": {
   "codemirror_mode": {
    "name": "ipython",
    "version": 3
   },
   "file_extension": ".py",
   "mimetype": "text/x-python",
   "name": "python",
   "nbconvert_exporter": "python",
   "pygments_lexer": "ipython3",
   "version": "3.11.4"
  }
 },
 "nbformat": 4,
 "nbformat_minor": 5
}
