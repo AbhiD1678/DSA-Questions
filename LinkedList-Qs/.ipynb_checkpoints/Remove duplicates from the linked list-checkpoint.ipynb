{
 "cells": [
  {
   "cell_type": "code",
   "execution_count": 3,
   "id": "fe212226-0f38-46e7-bd4c-fcee1a453b7c",
   "metadata": {},
   "outputs": [],
   "source": [
    "def RemoveDuplicates(head):\n",
    "    curr=head\n",
    "\n",
    "    while curr!=None and curr.next!=None:\n",
    "        if curr.data==curr.next.data:\n",
    "            curr.next=curr.next.next\n",
    "        else:\n",
    "            curr=curr.next\n",
    "#Time complexity is O(n)\n",
    "#Auxiliary Space is O(1)"
   ]
  },
  {
   "cell_type": "code",
   "execution_count": 4,
   "id": "dbff9448-7a3a-4eee-a487-c776351c3c5f",
   "metadata": {},
   "outputs": [
    {
     "name": "stdout",
     "output_type": "stream",
     "text": [
      "10\n",
      "10\n",
      "20\n",
      "\n",
      "10\n",
      "20\n",
      "\n"
     ]
    }
   ],
   "source": [
    "class Node:\n",
    "    def __init__(self, k):\n",
    "        self.data = k\n",
    "        self.next = None\n",
    "\n",
    "def printList(head):\n",
    "    curr = head\n",
    "    while curr != None:\n",
    "        print(curr.data)\n",
    "        curr = curr.next\n",
    "    print()\n",
    "\n",
    "\n",
    "    \n",
    "def removeDups(head):\n",
    "    curr = head\n",
    "    while curr!= None and curr.next!= None:\n",
    "        if curr.data == curr.next.data :\n",
    "            curr.next = curr.next.next\n",
    "        else:\n",
    "            curr= curr.next\n",
    "            \n",
    "    \n",
    "    \n",
    "    \n",
    "        \n",
    "\n",
    "head = Node(10)\n",
    "head.next = Node(10)\n",
    "head.next.next = Node(20)\n",
    "\n",
    "\n",
    "printList(head)\n",
    "removeDups(head)\n",
    "printList(head)\n"
   ]
  },
  {
   "cell_type": "code",
   "execution_count": null,
   "id": "d9fb01d9-35ed-4b74-aa1e-64c60fcc0428",
   "metadata": {},
   "outputs": [],
   "source": []
  }
 ],
 "metadata": {
  "kernelspec": {
   "display_name": "Python 3 (ipykernel)",
   "language": "python",
   "name": "python3"
  },
  "language_info": {
   "codemirror_mode": {
    "name": "ipython",
    "version": 3
   },
   "file_extension": ".py",
   "mimetype": "text/x-python",
   "name": "python",
   "nbconvert_exporter": "python",
   "pygments_lexer": "ipython3",
   "version": "3.11.7"
  }
 },
 "nbformat": 4,
 "nbformat_minor": 5
}
