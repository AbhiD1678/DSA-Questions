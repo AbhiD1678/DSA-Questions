{
 "cells": [
  {
   "cell_type": "code",
   "execution_count": 1,
   "id": "b5e6b79f-d4eb-4409-87df-84c2f455e014",
   "metadata": {},
   "outputs": [],
   "source": [
    "def printNNode(head,n):\n",
    "    len=0\n",
    "    curr=head\n",
    "\n",
    "    while curr:\n",
    "        curr=curr.next\n",
    "        len+=1\n",
    "\n",
    "    curr=head\n",
    "\n",
    "    for i in range(1,len-n+1):\n",
    "        curr=curr.next\n",
    "    print(curr.data)"
   ]
  },
  {
   "cell_type": "markdown",
   "id": "d9f1772e-b9d5-444e-bf3b-32d030cc7970",
   "metadata": {},
   "source": [
    "Method 2 : Using Two Pointers"
   ]
  },
  {
   "cell_type": "code",
   "execution_count": 3,
   "id": "41d984dd-a0da-460d-a3f2-c6d3364422a6",
   "metadata": {},
   "outputs": [],
   "source": [
    "def NNodeFromEnd(head,n):\n",
    "\n",
    "    if head==None:\n",
    "        return \n",
    "\n",
    "    first=head\n",
    "\n",
    "    for i in range(n):\n",
    "        if first==None:\n",
    "            return \n",
    "        first=first.next\n",
    "\n",
    "\n",
    "    second=head\n",
    "\n",
    "    while first:\n",
    "        second=second.next\n",
    "        first=first.next\n",
    "\n",
    "    print(second.data)"
   ]
  },
  {
   "cell_type": "code",
   "execution_count": 5,
   "id": "a8a03196-ea37-4fa2-b94f-e71767779be3",
   "metadata": {},
   "outputs": [
    {
     "name": "stdout",
     "output_type": "stream",
     "text": [
      "35\n"
     ]
    },
    {
     "data": {
      "text/plain": [
       "'\\nTime complexity: O(M) where M is the size of the linked list\\nAuxiliary Space: O(1)\\n'"
      ]
     },
     "execution_count": 5,
     "metadata": {},
     "output_type": "execute_result"
    }
   ],
   "source": [
    "# Python3 program to find\n",
    "# N'th node from end\n",
    "\n",
    "class Node:\n",
    "\tdef __init__(self, new_data):\n",
    "\t\tself.data = new_data\n",
    "\t\tself.next = None\n",
    "\n",
    "\n",
    "class LinkedList:\n",
    "\tdef __init__(self):\n",
    "\t\tself.head = None\n",
    "\n",
    "\t# CreateNode and make linked list\n",
    "\tdef push(self, new_data):\n",
    "\t\tnew_node = Node(new_data)\n",
    "\t\tnew_node.next = self.head\n",
    "\t\tself.head = new_node\n",
    "\n",
    "\t# Function to get the nth node from\n",
    "\t# the last of a linked list\n",
    "\tdef printNthFromLast(self, n):\n",
    "\t\ttemp = self.head # Used temp variable\n",
    "\n",
    "\t\tlength = 0\n",
    "\t\twhile temp is not None:\n",
    "\t\t\ttemp = temp.next\n",
    "\t\t\tlength += 1\n",
    "\n",
    "\t\t# Print count\n",
    "\t\tif n > length: # If entered location is greater\n",
    "\t\t\t\t\t# than length of linked list\n",
    "\t\t\tprint('Location is greater than the' +\n",
    "\t\t\t\t' length of LinkedList')\n",
    "\t\t\treturn\n",
    "\t\ttemp = self.head\n",
    "\t\tfor i in range(0, length - n):\n",
    "\t\t\ttemp = temp.next\n",
    "\t\tprint(temp.data)\n",
    "\n",
    "\n",
    "# Driver's Code\n",
    "if __name__ == \"__main__\":\n",
    "\tllist = LinkedList()\n",
    "\tllist.push(20)\n",
    "\tllist.push(4)\n",
    "\tllist.push(15)\n",
    "\tllist.push(35)\n",
    "\n",
    "\t# Function call\n",
    "\tllist.printNthFromLast(4)\n",
    "'''\n",
    "Time complexity: O(M) where M is the size of the linked list\n",
    "Auxiliary Space: O(1)\n",
    "'''"
   ]
  },
  {
   "cell_type": "code",
   "execution_count": 6,
   "id": "00168ffa-10bc-43c6-a5d5-53e04acb5c6e",
   "metadata": {},
   "outputs": [
    {
     "name": "stdout",
     "output_type": "stream",
     "text": [
      "Node no.  4 from last is  35 \n"
     ]
    }
   ],
   "source": [
    "# Python3 program to find N'th node from end\n",
    "\n",
    "# Node class\n",
    "\n",
    "\n",
    "class Node:\n",
    "\n",
    "\t# Constructor to initialize the node object\n",
    "\tdef __init__(self, data):\n",
    "\t\tself.data = data\n",
    "\t\tself.next = None\n",
    "\n",
    "\n",
    "class LinkedList:\n",
    "\n",
    "\t# Function to initialize head\n",
    "\tdef __init__(self):\n",
    "\t\tself.head = None\n",
    "\n",
    "\t# Function to insert a new node at the beginning\n",
    "\tdef push(self, new_data):\n",
    "\t\tnew_node = Node(new_data)\n",
    "\t\tnew_node.next = self.head\n",
    "\t\tself.head = new_node\n",
    "\n",
    "\tdef printNthFromLast(self, N):\n",
    "\t\tmain_ptr = self.head\n",
    "\t\tref_ptr = self.head\n",
    "\n",
    "\t\tcount = 0\n",
    "\t\tif(self.head is not None):\n",
    "\t\t\twhile(count < N):\n",
    "\t\t\t\tif(ref_ptr is None):\n",
    "\t\t\t\t\tprint(\"% d is greater than the no. pf nodes in list\" % (N))\n",
    "\t\t\t\t\treturn\n",
    "\t\t\t\tref_ptr = ref_ptr.next\n",
    "\t\t\t\tcount += 1\n",
    "\n",
    "\t\tif(ref_ptr is None):\n",
    "\t\t\tself.head = self.head.next\n",
    "\t\t\tif(self.head is not None):\n",
    "\t\t\t\tprint(\"Node no. % d from last is % d \"\n",
    "\t\t\t\t\t% (N, main_ptr.data))\n",
    "\t\telse:\n",
    "\n",
    "\t\t\twhile(ref_ptr is not None):\n",
    "\t\t\t\tmain_ptr = main_ptr.next\n",
    "\t\t\t\tref_ptr = ref_ptr.next\n",
    "\n",
    "\t\t\tprint(\"Node no. % d from last is % d \"\n",
    "\t\t\t\t% (N, main_ptr.data))\n",
    "\n",
    "\n",
    "# Driver's code\n",
    "if __name__ == '__main__':\n",
    "\tllist = LinkedList()\n",
    "\tllist.push(20)\n",
    "\tllist.push(4)\n",
    "\tllist.push(15)\n",
    "\tllist.push(35)\n",
    "\n",
    "\t# Function call\n",
    "\tllist.printNthFromLast(4)\n"
   ]
  },
  {
   "cell_type": "markdown",
   "id": "1f79ef13-8101-482d-bd0b-8499d86878df",
   "metadata": {},
   "source": [
    "Time Complexity: O(M) where M is the length of the linked list.\n",
    "Auxiliary Space: O(1)"
   ]
  },
  {
   "cell_type": "code",
   "execution_count": null,
   "id": "19e6ee0f-f301-4d80-9bc7-769ea20adb89",
   "metadata": {},
   "outputs": [],
   "source": []
  }
 ],
 "metadata": {
  "kernelspec": {
   "display_name": "Python 3 (ipykernel)",
   "language": "python",
   "name": "python3"
  },
  "language_info": {
   "codemirror_mode": {
    "name": "ipython",
    "version": 3
   },
   "file_extension": ".py",
   "mimetype": "text/x-python",
   "name": "python",
   "nbconvert_exporter": "python",
   "pygments_lexer": "ipython3",
   "version": "3.11.7"
  }
 },
 "nbformat": 4,
 "nbformat_minor": 5
}
