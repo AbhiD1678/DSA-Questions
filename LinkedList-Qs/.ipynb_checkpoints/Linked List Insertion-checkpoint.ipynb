{
 "cells": [
  {
   "cell_type": "raw",
   "id": "3787bc73",
   "metadata": {},
   "source": [
    "Create a link list of size N according to the given input literals. Each integer input is accompanied by an indicator which can either be 0 or 1. If it is 0, insert the integer in the beginning of the link list. If it is 1, insert the integer at the end of the link list. \n",
    "Hint: When inserting at the end, make sure that you handle NULL explicitly.\n",
    "\n",
    "Example 1:\n",
    "\n",
    "Input:\n",
    "LinkedList: 9->0->5->1->6->1->2->0->5->0\n",
    "Output: 5 2 9 5 6\n",
    "Explanation:\n",
    "Length of Link List = N = 5\n",
    "9 0 indicated that 9 should be\n",
    "inserted in the beginning. Modified\n",
    "Link List = 9.\n",
    "5 1 indicated that 5 should be\n",
    "inserted in the end. Modified Link\n",
    "List = 9,5.\n",
    "6 1 indicated that 6 should be\n",
    "inserted in the end. Modified Link\n",
    "List = 9,5,6.\n",
    "2 0 indicated that 2 should be\n",
    "inserted in the beginning. Modified\n",
    "Link List = 2,9,5,6.\n",
    "5 0 indicated that 5 should be\n",
    "inserted in the beginning. Modified\n",
    "Link List = 5,2,9,5,6. \n",
    "Final linked list = 5, 2, 9, 5, 6.\n",
    "\n",
    "Example 2:\n",
    "\n",
    "Input:\n",
    "LinkedList: 5->1->6->1->9->1\n",
    "Output: 5 6 9\n",
    "\n",
    "Your Task:\n",
    "You only need to complete the functions insertAtBeginning() and insertAtEnd() that takes the head of link list and integer value of the data to be inserted as inputs and returns the head of the modified link list. \n",
    "\n",
    "Expected Time Complexity: O(1) for insertAtBeginning() and O(N) for insertAtEnd().\n",
    "Expected Auxiliary Space: O(1) for both.\n",
    "\n",
    "Constraints:\n",
    "1 <= N <= 104"
   ]
  },
  {
   "cell_type": "code",
   "execution_count": 1,
   "id": "addfdbff",
   "metadata": {},
   "outputs": [],
   "source": [
    "class Solution:\n",
    "    #Function to insert a node at the beginning of the linked list.\n",
    "    def insertAtBegining(self,head,x):\n",
    "        # code here \n",
    "        temp=Node(x)\n",
    "        temp.next=head\n",
    "        return temp\n",
    "    \n",
    "    #Function to insert a node at the end of the linked list.\n",
    "    def insertAtEnd(self,head,x):\n",
    "        # code here \n",
    "        if head:\n",
    "            curr=head\n",
    "            while curr.next!=None:\n",
    "                curr=curr.next\n",
    "            temp=Node(x)\n",
    "            curr.next=temp\n",
    "            return head\n",
    "        else:\n",
    "            curr=Node(x)\n",
    "            return curr\n",
    "        "
   ]
  },
  {
   "cell_type": "code",
   "execution_count": null,
   "id": "86f98583",
   "metadata": {},
   "outputs": [],
   "source": []
  }
 ],
 "metadata": {
  "kernelspec": {
   "display_name": "Python 3 (ipykernel)",
   "language": "python",
   "name": "python3"
  },
  "language_info": {
   "codemirror_mode": {
    "name": "ipython",
    "version": 3
   },
   "file_extension": ".py",
   "mimetype": "text/x-python",
   "name": "python",
   "nbconvert_exporter": "python",
   "pygments_lexer": "ipython3",
   "version": "3.11.4"
  }
 },
 "nbformat": 4,
 "nbformat_minor": 5
}
