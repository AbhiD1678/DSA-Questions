{
 "cells": [
  {
   "cell_type": "code",
   "execution_count": 2,
   "id": "cf57a2e5",
   "metadata": {},
   "outputs": [],
   "source": [
    "def MiddleLL(head):\n",
    "    if head==None:\n",
    "        return None\n",
    "    count=0\n",
    "    curr=head\n",
    "    \n",
    "    while curr:\n",
    "        curr=curr.next\n",
    "        count+=1\n",
    "    for i in range(count//2):\n",
    "        curr=curr.next\n",
    "    print(curr.data)\n",
    "        "
   ]
  },
  {
   "cell_type": "code",
   "execution_count": 3,
   "id": "31dec75f",
   "metadata": {},
   "outputs": [
    {
     "name": "stdout",
     "output_type": "stream",
     "text": [
      "10\n",
      "10\n",
      "20\n",
      "\n",
      "10\n"
     ]
    }
   ],
   "source": [
    "class Node:\n",
    "    def __init__(self, k):\n",
    "        self.data = k\n",
    "        self.next = None\n",
    "\n",
    "def printList(head):\n",
    "    curr = head\n",
    "    while curr != None:\n",
    "        print(curr.data)\n",
    "        curr = curr.next\n",
    "    print()\n",
    "\n",
    "\n",
    "    \n",
    "def printMiddle(ptr):\n",
    "    if head == None:\n",
    "        return\n",
    "    count = 0 \n",
    "    curr = head\n",
    "    while curr :\n",
    "        curr = curr.next\n",
    "        count+=1\n",
    "    \n",
    "    curr = head\n",
    "    for i in range (count//2):\n",
    "        curr = curr.next\n",
    "    print(curr.data)\n",
    "    \n",
    "            \n",
    "    \n",
    "    \n",
    "    \n",
    "        \n",
    "\n",
    "head = Node(10)\n",
    "head.next = Node(10)\n",
    "head.next.next = Node(20)\n",
    "\n",
    "\n",
    "printList(head)\n",
    "printMiddle(head)\n"
   ]
  },
  {
   "cell_type": "markdown",
   "id": "e688790d",
   "metadata": {},
   "source": [
    "Time Complexity: O(n) where n is no of nodes in linked list\n",
    "\n",
    "Auxiliary Space: O(1)"
   ]
  },
  {
   "cell_type": "code",
   "execution_count": 4,
   "id": "f8fb208b",
   "metadata": {},
   "outputs": [],
   "source": [
    "def printMiddle(head):\n",
    "    if head==None:\n",
    "        return None\n",
    "    slow=head\n",
    "    fast=head\n",
    "    \n",
    "    while fast!=None and fast.next!=None:\n",
    "        slow=slow.next\n",
    "        fast=fast.next.next\n",
    "        \n",
    "    print(slow.data)"
   ]
  },
  {
   "cell_type": "code",
   "execution_count": 5,
   "id": "cfedbb8c",
   "metadata": {},
   "outputs": [
    {
     "name": "stdout",
     "output_type": "stream",
     "text": [
      "10\n",
      "10\n",
      "20\n",
      "\n",
      "10\n"
     ]
    }
   ],
   "source": [
    "class Node:\n",
    "    def __init__(self, k):\n",
    "        self.data = k\n",
    "        self.next = None\n",
    "\n",
    "def printList(head):\n",
    "    curr = head\n",
    "    while curr != None:\n",
    "        print(curr.data)\n",
    "        curr = curr.next\n",
    "    print()\n",
    "\n",
    "\n",
    "    \n",
    "def printMiddle(ptr):\n",
    "    if head == None:\n",
    "        return\n",
    "    slow = head\n",
    "    fast = head\n",
    "    while fast!= None and fast.next!=None :\n",
    "        slow=slow.next\n",
    "        fast=fast.next.next\n",
    "        \n",
    "    print(slow.data)\n",
    "    \n",
    "            \n",
    "head = Node(10)\n",
    "head.next = Node(10)\n",
    "head.next.next = Node(20)\n",
    "\n",
    "\n",
    "printList(head)\n",
    "printMiddle(head)\n"
   ]
  },
  {
   "cell_type": "raw",
   "id": "3dc6ceeb",
   "metadata": {},
   "source": [
    "Traverse linked list using two-pointers. Move one pointer by one and the other pointers by two. When the fast pointer reaches the end, the slow pointer will reach the middle of the linked list."
   ]
  },
  {
   "cell_type": "code",
   "execution_count": null,
   "id": "aabc44e4",
   "metadata": {},
   "outputs": [],
   "source": []
  }
 ],
 "metadata": {
  "kernelspec": {
   "display_name": "Python 3 (ipykernel)",
   "language": "python",
   "name": "python3"
  },
  "language_info": {
   "codemirror_mode": {
    "name": "ipython",
    "version": 3
   },
   "file_extension": ".py",
   "mimetype": "text/x-python",
   "name": "python",
   "nbconvert_exporter": "python",
   "pygments_lexer": "ipython3",
   "version": "3.11.4"
  }
 },
 "nbformat": 4,
 "nbformat_minor": 5
}
