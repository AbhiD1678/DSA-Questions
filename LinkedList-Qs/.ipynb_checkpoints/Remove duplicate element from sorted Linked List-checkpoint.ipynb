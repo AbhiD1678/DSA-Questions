{
 "cells": [
  {
   "cell_type": "raw",
   "id": "5e6ac725-a0a8-44bd-b3ac-e0fa1232f416",
   "metadata": {},
   "source": [
    "Given a singly linked list consisting of N nodes. The task is to remove duplicates (nodes with duplicate values) from the given list (if exists).\n",
    "Note: Try not to use extra space. The nodes are arranged in a sorted way.\n",
    "\n",
    "Example 1:\n",
    "\n",
    "Input:\n",
    "LinkedList: 2->2->4->5\n",
    "Output: 2 4 5\n",
    "Explanation: In the given linked list \n",
    "2 ->2 -> 4-> 5, only 2 occurs more \n",
    "than 1 time. So we need to remove it once.\n",
    "Example 2:\n",
    "\n",
    "Input:\n",
    "LinkedList: 2->2->2->2->2\n",
    "Output: 2\n",
    "Explanation: In the given linked list \n",
    "2 ->2 ->2 ->2 ->2, 2 is the only element\n",
    "and is repeated 5 times. So we need to remove\n",
    "any four 2.\n",
    "Your Task:\n",
    "The task is to complete the function removeDuplicates() which takes the head of input linked list as input. The function should remove the duplicates from linked list and return the head of the linkedlist.\n",
    "\n",
    "Expected Time Complexity : O(N)\n",
    "Expected Auxilliary Space : O(1)\n",
    "\n",
    "Constraints:\n",
    "1 <= Number of nodes <= 105"
   ]
  },
  {
   "cell_type": "code",
   "execution_count": 1,
   "id": "a0d20c10-b7e1-47e2-ba1f-349fdad8b7a2",
   "metadata": {},
   "outputs": [],
   "source": [
    "#Function to remove duplicates from sorted linked list.\n",
    "def removeDuplicates(head):\n",
    "    #code here\n",
    "    curr=head\n",
    "    \n",
    "    while curr!=None and curr.next!=None:\n",
    "        if curr.data==curr.next.data:\n",
    "            curr.next=curr.next.next\n",
    "            \n",
    "        else:\n",
    "            curr=curr.next\n",
    "    return head\n"
   ]
  },
  {
   "cell_type": "code",
   "execution_count": null,
   "id": "e3cc1390-d7e3-46ba-8344-f6c64c641a48",
   "metadata": {},
   "outputs": [],
   "source": []
  }
 ],
 "metadata": {
  "kernelspec": {
   "display_name": "Python 3 (ipykernel)",
   "language": "python",
   "name": "python3"
  },
  "language_info": {
   "codemirror_mode": {
    "name": "ipython",
    "version": 3
   },
   "file_extension": ".py",
   "mimetype": "text/x-python",
   "name": "python",
   "nbconvert_exporter": "python",
   "pygments_lexer": "ipython3",
   "version": "3.11.7"
  }
 },
 "nbformat": 4,
 "nbformat_minor": 5
}
