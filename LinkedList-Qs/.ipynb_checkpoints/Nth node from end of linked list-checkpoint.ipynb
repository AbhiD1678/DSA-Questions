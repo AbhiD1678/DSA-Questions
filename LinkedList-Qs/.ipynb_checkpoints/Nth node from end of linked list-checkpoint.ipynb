{
 "cells": [
  {
   "cell_type": "markdown",
   "id": "6d5b60a3-9bfc-4263-9637-92fe7d7b4fa2",
   "metadata": {},
   "source": [
    "Given a linked list consisting of L nodes and given a number N. The task is to find the Nth node from the end of the linked list.\n",
    "\n",
    "Example 1:\n",
    "\n",
    "Input:\n",
    "N = 2\n",
    "LinkedList: 1->2->3->4->5->6->7->8->9\n",
    "Output: 8\n",
    "Explanation: In the first example, there\n",
    "are 9 nodes in linked list and we need\n",
    "to find 2nd node from end. 2nd node\n",
    "from end is 8.  \n",
    "Example 2:\n",
    "\n",
    "Input:\n",
    "N = 5\n",
    "LinkedList: 10->5->100->5\n",
    "Output: -1\n",
    "Explanation: In the second example, there\n",
    "are 4 nodes in the linked list and we\n",
    "need to find 5th from the end. Since 'n'\n",
    "is more than the number of nodes in the\n",
    "linked list, the output is -1.\n",
    "Your Task:\n",
    "The task is to complete the function getNthFromLast() which takes two arguments: reference to head and N and you need to return Nth from the end or -1 in case node doesn't exist.\n",
    "\n",
    "Note:\n",
    "Try to solve in a single traversal.\n",
    "\n",
    "Expected Time Complexity: O(N).\n",
    "Expected Auxiliary Space: O(1).\n",
    "\n",
    "Constraints:\n",
    "1 <= L <= 106\n",
    "1 <= N <= 106"
   ]
  },
  {
   "cell_type": "code",
   "execution_count": 1,
   "id": "4c2f8bc0-2ee9-4afc-a35a-d2c9aedad246",
   "metadata": {},
   "outputs": [],
   "source": [
    "def getNthFromLast(head,n):\n",
    "    #code here\n",
    "    if head==None:\n",
    "        return -1\n",
    "        \n",
    "    first=head\n",
    "    \n",
    "    for i in range(n):\n",
    "        if first==None:\n",
    "            return -1\n",
    "        first=first.next\n",
    "    second=head\n",
    "    while first:\n",
    "        second=second.next\n",
    "        first=first.next\n",
    "        \n",
    "    return second.data\n",
    "        "
   ]
  },
  {
   "cell_type": "code",
   "execution_count": null,
   "id": "5099b588-ea59-4911-8d62-24a40aeedb01",
   "metadata": {},
   "outputs": [],
   "source": []
  }
 ],
 "metadata": {
  "kernelspec": {
   "display_name": "Python 3 (ipykernel)",
   "language": "python",
   "name": "python3"
  },
  "language_info": {
   "codemirror_mode": {
    "name": "ipython",
    "version": 3
   },
   "file_extension": ".py",
   "mimetype": "text/x-python",
   "name": "python",
   "nbconvert_exporter": "python",
   "pygments_lexer": "ipython3",
   "version": "3.11.7"
  }
 },
 "nbformat": 4,
 "nbformat_minor": 5
}
