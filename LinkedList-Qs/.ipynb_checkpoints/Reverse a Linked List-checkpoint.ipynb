{
 "cells": [
  {
   "cell_type": "raw",
   "id": "a1937c44-6e52-43d6-8a4a-11139f35af86",
   "metadata": {},
   "source": [
    "Naive Solution"
   ]
  },
  {
   "cell_type": "code",
   "execution_count": 1,
   "id": "c8a83469-6872-4dba-9a7b-f49309999000",
   "metadata": {},
   "outputs": [],
   "source": [
    "def ReverseLL(head):\n",
    "    stack=[]\n",
    "    curr=head\n",
    "    while curr!=None:\n",
    "        stack.append(curr.key)\n",
    "        curr=curr.next\n",
    "    curr=head\n",
    "    while curr is not None:\n",
    "        curr.key=stack.pop()\n",
    "        curr=curr.next\n",
    "    return head"
   ]
  },
  {
   "cell_type": "code",
   "execution_count": 3,
   "id": "807270f5-a355-402c-b8a3-e3a6988fe176",
   "metadata": {},
   "outputs": [
    {
     "name": "stdout",
     "output_type": "stream",
     "text": [
      "10\n",
      "20\n",
      "30\n",
      "40\n",
      "\n",
      "40\n",
      "30\n",
      "20\n",
      "10\n",
      "\n"
     ]
    }
   ],
   "source": [
    "class Node:\n",
    "    def __init__(self, k):\n",
    "        self.key = k\n",
    "        self.next = None\n",
    "\n",
    "\n",
    "def reverseList(head):\n",
    "    stack = []\n",
    "\n",
    "    curr = head\n",
    "\n",
    "    while curr is not None:\n",
    "        stack.append(curr.key)\n",
    "        curr = curr.next\n",
    "\n",
    "    curr = head\n",
    "    while curr is not None:\n",
    "        curr.key = stack.pop()\n",
    "        curr = curr.next\n",
    "\n",
    "    return head\n",
    "\n",
    "\n",
    "def printList(head):\n",
    "    curr = head\n",
    "    while curr != None:\n",
    "        print(curr.key)\n",
    "        curr = curr.next\n",
    "    print()\n",
    "\n",
    "\n",
    "head = Node(10)\n",
    "head.next = Node(20)\n",
    "head.next.next = Node(30)\n",
    "head.next.next.next = Node(40)\n",
    "\n",
    "printList(head)\n",
    "\n",
    "head = reverseList(head)\n",
    "\n",
    "printList(head)\n"
   ]
  },
  {
   "cell_type": "raw",
   "id": "c0d0c408-2490-46f2-a387-e2568191b01d",
   "metadata": {},
   "source": [
    "Efficient Solution"
   ]
  },
  {
   "cell_type": "code",
   "execution_count": 2,
   "id": "c111cf53-d5df-4d94-bef3-55bc453b1484",
   "metadata": {},
   "outputs": [],
   "source": [
    "def ReverseELL(head):\n",
    "    curr=head\n",
    "    prev=None\n",
    "    while curr is not None:\n",
    "        next=curr.next\n",
    "        curr.next=prev\n",
    "        prev=curr\n",
    "        curr=next\n",
    "    return prev"
   ]
  },
  {
   "cell_type": "code",
   "execution_count": 4,
   "id": "b6418d61-2414-4f98-9d5f-cc8756df6303",
   "metadata": {},
   "outputs": [
    {
     "name": "stdout",
     "output_type": "stream",
     "text": [
      "10\n",
      "20\n",
      "30\n",
      "40\n",
      "\n",
      "40\n",
      "30\n",
      "20\n",
      "10\n",
      "\n"
     ]
    }
   ],
   "source": [
    "class Node:\n",
    "    def __init__(self, k):\n",
    "        self.key = k\n",
    "        self.next = None\n",
    "\n",
    "\n",
    "def reverseList(head):\n",
    "    curr = head\n",
    "    prev = None\n",
    "\n",
    "    while curr is not None:\n",
    "        next = curr.next\n",
    "        curr.next = prev\n",
    "        prev = curr\n",
    "        curr = next\n",
    "\n",
    "    return prev\n",
    "\n",
    "\n",
    "def printList(head):\n",
    "    curr = head\n",
    "    while curr != None:\n",
    "        print(curr.key)\n",
    "        curr = curr.next\n",
    "    print()\n",
    "\n",
    "\n",
    "head = Node(10)\n",
    "head.next = Node(20)\n",
    "head.next.next = Node(30)\n",
    "head.next.next.next = Node(40)\n",
    "\n",
    "printList(head)\n",
    "\n",
    "head = reverseList(head)\n",
    "\n",
    "printList(head)\n"
   ]
  },
  {
   "cell_type": "code",
   "execution_count": null,
   "id": "f103a7d2-7a43-4c44-ba29-9c485e2a5186",
   "metadata": {},
   "outputs": [],
   "source": []
  }
 ],
 "metadata": {
  "kernelspec": {
   "display_name": "Python 3 (ipykernel)",
   "language": "python",
   "name": "python3"
  },
  "language_info": {
   "codemirror_mode": {
    "name": "ipython",
    "version": 3
   },
   "file_extension": ".py",
   "mimetype": "text/x-python",
   "name": "python",
   "nbconvert_exporter": "python",
   "pygments_lexer": "ipython3",
   "version": "3.11.7"
  }
 },
 "nbformat": 4,
 "nbformat_minor": 5
}
