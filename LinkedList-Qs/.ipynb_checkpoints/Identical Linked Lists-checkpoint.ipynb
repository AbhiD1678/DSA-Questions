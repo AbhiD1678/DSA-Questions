{
 "cells": [
  {
   "cell_type": "raw",
   "id": "849dd5d9-99fb-4626-a175-cca381830572",
   "metadata": {},
   "source": [
    "Given two Singly Linked List of N and M nodes respectively. The task is to check whether two linked lists are identical or not. \n",
    "Two Linked Lists are identical when they have same data and with same arrangement too.\n",
    "\n",
    "Example 1:\n",
    "\n",
    "Input:\n",
    "LinkedList1: 1->2->3->4->5->6\n",
    "LinkedList2: 99->59->42->20\n",
    "Output: Not identical \n",
    "Example 2:\n",
    "\n",
    "Input:\n",
    "LinkedList1: 1->2->3->4->5\n",
    "LinkedList2: 1->2->3->4->5\n",
    "Output: Identical\n",
    " \n",
    "Your Task:\n",
    "The task is to complete the function areIdentical() which takes the head of both linked lists as arguments and returns True or False.\n",
    "\n",
    "Constraints:\n",
    "1 <= N <= 103\n",
    "\n",
    "Expected Time Complexity : O(N)\n",
    "Expected Auxilliary Space : O(1)"
   ]
  },
  {
   "cell_type": "code",
   "execution_count": 1,
   "id": "18a68876-3185-4730-9093-3b54c365ba9a",
   "metadata": {},
   "outputs": [],
   "source": [
    "def areIdentical(head1, head2):\n",
    "    # Code here\n",
    "    curr1=head1\n",
    "    curr2=head2\n",
    "    \n",
    "    while curr1!=None and curr2!=None:\n",
    "        if curr1.data!=curr2.data:\n",
    "            return False\n",
    "        curr1=curr1.next\n",
    "        curr2=curr2.next\n",
    "\n",
    "    if curr1 is not None or curr2 is not None:\n",
    "        return False\n",
    "        \n",
    "    return True"
   ]
  },
  {
   "cell_type": "code",
   "execution_count": null,
   "id": "31273663-1f4e-4ce0-b466-61496f5ed439",
   "metadata": {},
   "outputs": [],
   "source": []
  }
 ],
 "metadata": {
  "kernelspec": {
   "display_name": "Python 3 (ipykernel)",
   "language": "python",
   "name": "python3"
  },
  "language_info": {
   "codemirror_mode": {
    "name": "ipython",
    "version": 3
   },
   "file_extension": ".py",
   "mimetype": "text/x-python",
   "name": "python",
   "nbconvert_exporter": "python",
   "pygments_lexer": "ipython3",
   "version": "3.11.7"
  }
 },
 "nbformat": 4,
 "nbformat_minor": 5
}
