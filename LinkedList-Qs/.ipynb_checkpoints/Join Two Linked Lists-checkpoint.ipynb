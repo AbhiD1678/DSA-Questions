{
 "cells": [
  {
   "cell_type": "markdown",
   "id": "07ab43fb-5d77-4811-bf78-627e195c5eb6",
   "metadata": {},
   "source": [
    "Given two linked lists of size n1 and n2 respectively, you have to join the head of second list to the tail of first so that we can traverse both the lists using head of 1st list.\n",
    "\n",
    "Example 1:\n",
    "\n",
    "Input:\n",
    "LinkedList1: 5\n",
    "LinkedList2: 1->2\n",
    "Output: 5 1 2\n",
    "Example 2:\n",
    "\n",
    "Input:\n",
    "LinkedList1: 1->2->9->6->5->7\n",
    "LinkedList2: 99->8->4\n",
    "Output: 1 2 9 6 5 7 99 8 4\n",
    "Your Task:\n",
    "The task is to complete the function joinTheLists() which takes head1 and head2 references as arguments. The function returns head of the first list after joining both lists. The printing is done automatically by the driver code.\n",
    "\n",
    "Expected Time Complexity: O(n1).\n",
    "Expected Auxiliary Space: O(1).\n",
    "\n",
    "Constraints:\n",
    "1 <= number of nodes in a linkedlist <= 103"
   ]
  },
  {
   "cell_type": "code",
   "execution_count": 1,
   "id": "24ca8a03-56ac-48b2-9235-adf49a91e270",
   "metadata": {},
   "outputs": [],
   "source": [
    "def joinTheLists(head1, head2):\n",
    "    #code here\n",
    "    curr=head1\n",
    "    while curr.next:\n",
    "        curr=curr.next\n",
    "        \n",
    "    curr.next=head2\n",
    "    curr=head2\n",
    "    \n",
    "    return head1\n",
    "        \n",
    "        "
   ]
  },
  {
   "cell_type": "code",
   "execution_count": null,
   "id": "00e0eaee-cc07-44a1-b092-5ac01f36b870",
   "metadata": {},
   "outputs": [],
   "source": []
  }
 ],
 "metadata": {
  "kernelspec": {
   "display_name": "Python 3 (ipykernel)",
   "language": "python",
   "name": "python3"
  },
  "language_info": {
   "codemirror_mode": {
    "name": "ipython",
    "version": 3
   },
   "file_extension": ".py",
   "mimetype": "text/x-python",
   "name": "python",
   "nbconvert_exporter": "python",
   "pygments_lexer": "ipython3",
   "version": "3.11.7"
  }
 },
 "nbformat": 4,
 "nbformat_minor": 5
}
