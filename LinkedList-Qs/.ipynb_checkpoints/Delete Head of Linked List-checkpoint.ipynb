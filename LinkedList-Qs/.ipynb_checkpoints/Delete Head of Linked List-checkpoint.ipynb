{
 "cells": [
  {
   "cell_type": "code",
   "execution_count": 1,
   "id": "653e030d",
   "metadata": {},
   "outputs": [
    {
     "data": {
      "text/plain": [
       "'\\nGiven a linked list of size n, you have to delete the head of the linked list and return the new head.\\nNote: Please also set the next of the original head to null.\\n\\nExample 1:\\n\\nInput:\\nLinkedList: 1->2\\nOutput: 2\\nExample 2:\\n\\nInput:\\nLinkedList: 2->5->7->8->99->100\\nOutput: 5 7 8 99 100\\nYour Task:\\nThe task is to complete the function deleteHead() which takes head referenceand returns reference to the new head node, which is then used to display the list. The printing is done automatically by the driver code.\\n\\nExpected Time Complexity: O(1).\\nExpected Auxiliary Space: O(1).\\n\\nConstraints:\\n2 <= number of nodes <= 103\\n'"
      ]
     },
     "execution_count": 1,
     "metadata": {},
     "output_type": "execute_result"
    }
   ],
   "source": [
    "'''\n",
    "Given a linked list of size n, you have to delete the head of the linked list and return the new head.\n",
    "Note: Please also set the next of the original head to null.\n",
    "\n",
    "Example 1:\n",
    "\n",
    "Input:\n",
    "LinkedList: 1->2\n",
    "Output: 2\n",
    "Example 2:\n",
    "\n",
    "Input:\n",
    "LinkedList: 2->5->7->8->99->100\n",
    "Output: 5 7 8 99 100\n",
    "Your Task:\n",
    "The task is to complete the function deleteHead() which takes head referenceand returns reference to the new head node, which is then used to display the list. The printing is done automatically by the driver code.\n",
    "\n",
    "Expected Time Complexity: O(1).\n",
    "Expected Auxiliary Space: O(1).\n",
    "\n",
    "Constraints:\n",
    "2 <= number of nodes <= 103\n",
    "'''"
   ]
  },
  {
   "cell_type": "code",
   "execution_count": 2,
   "id": "1a45dc04",
   "metadata": {},
   "outputs": [],
   "source": [
    "'''\n",
    "class Node:\n",
    "    def __init__(self, data):\n",
    "        self.data = data\n",
    "        self.next = None\n",
    "'''\n",
    "\n",
    "def deleteHead(head):\n",
    "    #code here\n",
    "    if head==None:\n",
    "        return None\n",
    "    else:\n",
    "        temp=head\n",
    "        head=head.next\n",
    "        temp.next=None\n",
    "        return head\n"
   ]
  },
  {
   "cell_type": "code",
   "execution_count": null,
   "id": "945ad46e",
   "metadata": {},
   "outputs": [],
   "source": []
  }
 ],
 "metadata": {
  "kernelspec": {
   "display_name": "Python 3 (ipykernel)",
   "language": "python",
   "name": "python3"
  },
  "language_info": {
   "codemirror_mode": {
    "name": "ipython",
    "version": 3
   },
   "file_extension": ".py",
   "mimetype": "text/x-python",
   "name": "python",
   "nbconvert_exporter": "python",
   "pygments_lexer": "ipython3",
   "version": "3.11.4"
  }
 },
 "nbformat": 4,
 "nbformat_minor": 5
}
