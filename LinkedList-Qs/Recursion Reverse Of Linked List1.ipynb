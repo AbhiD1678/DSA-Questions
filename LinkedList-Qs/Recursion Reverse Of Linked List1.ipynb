{
 "cells": [
  {
   "cell_type": "code",
   "execution_count": null,
   "id": "c93ebabb-a75c-4358-a9a6-f988c03f131e",
   "metadata": {},
   "outputs": [],
   "source": [
    "def RecursiveReverseLL(head):\n",
    "    if head==None:\n",
    "        return None\n",
    "    if head.next==None:\n",
    "        return head\n",
    "\n",
    "    new_head=RecursiveReverseLL(head.next)\n",
    "    head_tail=head.next\n",
    "    head_tail.next=head\n",
    "    head.next=None\n",
    "    return new_head"
   ]
  },
  {
   "cell_type": "code",
   "execution_count": 6,
   "id": "375d04e2-b202-4fac-815e-ab8e0c86498c",
   "metadata": {},
   "outputs": [
    {
     "name": "stdout",
     "output_type": "stream",
     "text": [
      "10\n",
      "20\n",
      "30\n",
      "40\n",
      "\n",
      "40\n",
      "30\n",
      "20\n",
      "10\n",
      "\n"
     ]
    }
   ],
   "source": [
    "class Node:\n",
    "    def __init__(self, k):\n",
    "        self.key = k\n",
    "        self.next = None\n",
    "\n",
    "\n",
    "def reverseList(head):\n",
    "    if head == None:\n",
    "        return head\n",
    "\n",
    "    if head.next == None:\n",
    "        return head\n",
    "\n",
    "    rest_head = reverseList(head.next)\n",
    "    \n",
    "    rest_tail = head.next\n",
    "\n",
    "    rest_tail.next = head\n",
    "    head.next = None\n",
    "\n",
    "    return rest_head\n",
    "\n",
    "\n",
    "def printList(head):\n",
    "    curr = head\n",
    "    while curr != None:\n",
    "        print(curr.key)\n",
    "        curr = curr.next\n",
    "    print()\n",
    "\n",
    "\n",
    "head = Node(10)\n",
    "head.next = Node(20)\n",
    "head.next.next = Node(30)\n",
    "head.next.next.next = Node(40)\n",
    "\n",
    "printList(head)\n",
    "\n",
    "head = reverseList(head)\n",
    "\n",
    "printList(head)\n"
   ]
  },
  {
   "cell_type": "code",
   "execution_count": null,
   "id": "bbabf92d-fcdf-47f9-8c86-cd900ea24e6c",
   "metadata": {},
   "outputs": [],
   "source": []
  }
 ],
 "metadata": {
  "kernelspec": {
   "display_name": "Python 3 (ipykernel)",
   "language": "python",
   "name": "python3"
  },
  "language_info": {
   "codemirror_mode": {
    "name": "ipython",
    "version": 3
   },
   "file_extension": ".py",
   "mimetype": "text/x-python",
   "name": "python",
   "nbconvert_exporter": "python",
   "pygments_lexer": "ipython3",
   "version": "3.12.0"
  }
 },
 "nbformat": 4,
 "nbformat_minor": 5
}
