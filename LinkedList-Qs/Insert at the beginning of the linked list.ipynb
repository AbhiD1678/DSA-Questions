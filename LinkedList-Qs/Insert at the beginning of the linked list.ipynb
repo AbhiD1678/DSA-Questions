{
 "cells": [
  {
   "cell_type": "code",
   "execution_count": 4,
   "id": "7b38c697",
   "metadata": {},
   "outputs": [
    {
     "name": "stdout",
     "output_type": "stream",
     "text": [
      "20\n",
      "10\n"
     ]
    }
   ],
   "source": [
    "class Node:\n",
    "    def __init__(self,key):\n",
    "        self.key=key\n",
    "        self.next=None\n",
    "\n",
    "def insert(head,key):\n",
    "        temp=Node(key)\n",
    "        temp.next=head\n",
    "        return temp\n",
    "    \n",
    "head=None\n",
    "head=insert(head,10)\n",
    "head=insert(head,20)\n",
    "\n",
    "while head:\n",
    "    print(head.key)\n",
    "    head=head.next\n",
    "#Time complexity:O(1)\n",
    "#Auxiliary Complexity:O(1)"
   ]
  },
  {
   "cell_type": "code",
   "execution_count": null,
   "id": "3425b8e9",
   "metadata": {},
   "outputs": [],
   "source": []
  }
 ],
 "metadata": {
  "kernelspec": {
   "display_name": "Python 3 (ipykernel)",
   "language": "python",
   "name": "python3"
  },
  "language_info": {
   "codemirror_mode": {
    "name": "ipython",
    "version": 3
   },
   "file_extension": ".py",
   "mimetype": "text/x-python",
   "name": "python",
   "nbconvert_exporter": "python",
   "pygments_lexer": "ipython3",
   "version": "3.11.4"
  }
 },
 "nbformat": 4,
 "nbformat_minor": 5
}
