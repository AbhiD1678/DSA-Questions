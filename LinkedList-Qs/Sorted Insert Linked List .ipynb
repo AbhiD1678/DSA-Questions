{
 "cells": [
  {
   "cell_type": "code",
   "execution_count": 2,
   "id": "9745bff6",
   "metadata": {},
   "outputs": [],
   "source": [
    "def sortedInsert(head,x):\n",
    "    temp=Node(x)\n",
    "    \n",
    "    if head==None:\n",
    "        return temp\n",
    "    \n",
    "    elif x<head.data:\n",
    "        temp.next=head\n",
    "        return head\n",
    "    \n",
    "    else:\n",
    "        curr=head\n",
    "        \n",
    "        while curr.next!=None and curr.next.data<x:\n",
    "            curr=curr.next\n",
    "            \n",
    "        temp.next=curr.next\n",
    "        curr.next=temp\n",
    "        return head"
   ]
  },
  {
   "cell_type": "code",
   "execution_count": 3,
   "id": "0d87a171",
   "metadata": {},
   "outputs": [
    {
     "name": "stdout",
     "output_type": "stream",
     "text": [
      "10\n",
      "20\n",
      "30\n",
      "40\n",
      "\n",
      "10\n",
      "20\n",
      "30\n",
      "35\n",
      "40\n"
     ]
    }
   ],
   "source": [
    "class Node:\n",
    "    def __init__(self, k):\n",
    "        self.key = k\n",
    "        self.next = None\n",
    "\n",
    "\n",
    "def sortedInsert(head, x):\n",
    "    temp = Node(x)\n",
    "\n",
    "    if head == None:\n",
    "        return temp\n",
    "    elif x < head.key:\n",
    "        temp.next = head\n",
    "        return temp\n",
    "    else:\n",
    "        curr = head\n",
    "\n",
    "        while curr.next != None and curr.next.key < x:\n",
    "            curr = curr.next\n",
    "\n",
    "        temp.next = curr.next\n",
    "        curr.next = temp\n",
    "        return head\n",
    "\n",
    "\n",
    "head = Node(10)\n",
    "head.next = Node(20)\n",
    "head.next.next = Node(30)\n",
    "head.next.next.next = Node(40)\n",
    "\n",
    "h = head\n",
    "while h != None:\n",
    "    print(h.key)\n",
    "    h = h.next\n",
    "\n",
    "print()\n",
    "\n",
    "h = sortedInsert(head, 35)\n",
    "\n",
    "h = head\n",
    "while h != None:\n",
    "    print(h.key)\n",
    "    h = h.next\n"
   ]
  },
  {
   "cell_type": "code",
   "execution_count": null,
   "id": "611f045a",
   "metadata": {},
   "outputs": [],
   "source": []
  }
 ],
 "metadata": {
  "kernelspec": {
   "display_name": "Python 3 (ipykernel)",
   "language": "python",
   "name": "python3"
  },
  "language_info": {
   "codemirror_mode": {
    "name": "ipython",
    "version": 3
   },
   "file_extension": ".py",
   "mimetype": "text/x-python",
   "name": "python",
   "nbconvert_exporter": "python",
   "pygments_lexer": "ipython3",
   "version": "3.11.4"
  }
 },
 "nbformat": 4,
 "nbformat_minor": 5
}
