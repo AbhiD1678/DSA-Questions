{
 "cells": [
  {
   "cell_type": "raw",
   "id": "e8c144bd-e555-4555-b612-a4b03c92851c",
   "metadata": {},
   "source": [
    "Given a number N. The task is to check whether it is sparse or not. A number is said to be a sparse number if no two or more consecutive bits are set in the binary representation.\n",
    "\n",
    "Example 1:\n",
    "\n",
    "Input: N = 2\n",
    "Output: 1\n",
    "Explanation: Binary Representation of 2 is 10, \n",
    "which is not having consecutive set bits. \n",
    "So, it is sparse number.\n",
    "Example 2:\n",
    "\n",
    "Input: N = 3\n",
    "Output: 0\n",
    "Explanation: Binary Representation of 3 is 11, \n",
    "which is having consecutive set bits in it. \n",
    "So, it is not a sparse number."
   ]
  },
  {
   "cell_type": "code",
   "execution_count": 1,
   "id": "afe37f00-c303-4418-b90f-c579d15e14ab",
   "metadata": {},
   "outputs": [],
   "source": [
    "def isSparse(self,n):\n",
    "        #Your code here\n",
    "        if n&(n>>1)==0:\n",
    "            return 1\n",
    "        return 0"
   ]
  },
  {
   "cell_type": "raw",
   "id": "331402fc-279a-4b7d-b47a-c3831f6eb1a5",
   "metadata": {},
   "source": [
    "Whenever we have to find consecutive set bits without looping use the idea of shifting as it will give the result in time complexity of O(1)"
   ]
  },
  {
   "cell_type": "code",
   "execution_count": null,
   "id": "ccf60a26-e210-46ce-930d-e1b8d204ecb3",
   "metadata": {},
   "outputs": [],
   "source": []
  }
 ],
 "metadata": {
  "kernelspec": {
   "display_name": "Python 3 (ipykernel)",
   "language": "python",
   "name": "python3"
  },
  "language_info": {
   "codemirror_mode": {
    "name": "ipython",
    "version": 3
   },
   "file_extension": ".py",
   "mimetype": "text/x-python",
   "name": "python",
   "nbconvert_exporter": "python",
   "pygments_lexer": "ipython3",
   "version": "3.12.0"
  }
 },
 "nbformat": 4,
 "nbformat_minor": 5
}
