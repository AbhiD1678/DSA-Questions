{
 "cells": [
  {
   "cell_type": "code",
   "execution_count": 8,
   "id": "7c73ec0e-837e-43cf-a5ff-51c1edd607d2",
   "metadata": {},
   "outputs": [],
   "source": [
    "def PowerSet(s):\n",
    "    n=len(s)\n",
    "    pSize=1<<n # left shifting to get 2^n,to get the number of powersets we can form\n",
    "\n",
    "    for i in range(pSize): # To run the loop 2^n times\n",
    "        for j in range(n):\n",
    "            if(i&(1<<j) !=0): # to check jth bit is set or not\n",
    "                print(s[j],end='')\n",
    "        print()"
   ]
  },
  {
   "cell_type": "code",
   "execution_count": 9,
   "id": "2864158f-2981-43cd-9751-35475b633f46",
   "metadata": {},
   "outputs": [
    {
     "name": "stdout",
     "output_type": "stream",
     "text": [
      "\n",
      "a\n",
      "b\n",
      "ab\n",
      "c\n",
      "ac\n",
      "bc\n",
      "abc\n"
     ]
    }
   ],
   "source": [
    "PowerSet('abc')"
   ]
  },
  {
   "cell_type": "code",
   "execution_count": null,
   "id": "5468bf59-4c86-49aa-b66c-7fb042109057",
   "metadata": {},
   "outputs": [],
   "source": []
  }
 ],
 "metadata": {
  "kernelspec": {
   "display_name": "Python 3 (ipykernel)",
   "language": "python",
   "name": "python3"
  },
  "language_info": {
   "codemirror_mode": {
    "name": "ipython",
    "version": 3
   },
   "file_extension": ".py",
   "mimetype": "text/x-python",
   "name": "python",
   "nbconvert_exporter": "python",
   "pygments_lexer": "ipython3",
   "version": "3.12.0"
  }
 },
 "nbformat": 4,
 "nbformat_minor": 5
}
