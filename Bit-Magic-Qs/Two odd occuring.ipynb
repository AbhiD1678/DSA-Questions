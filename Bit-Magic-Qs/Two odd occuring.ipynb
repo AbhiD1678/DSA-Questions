{
 "cells": [
  {
   "cell_type": "code",
   "execution_count": 13,
   "id": "eddd8bab-ba2d-4acf-bfa0-171dcbc00a3b",
   "metadata": {},
   "outputs": [],
   "source": [
    "def oddAppearing(arr):\n",
    "    printed=set()\n",
    "    for i in arr:\n",
    "        count=0\n",
    "        for j in arr:\n",
    "            if i==j:\n",
    "                count+=1\n",
    "        if count%2!=0 and i not in printed:\n",
    "            print(i,end=' ')\n",
    "            printed.add(i)\n",
    "\n",
    "## Time compplexity:O(n^2)"
   ]
  },
  {
   "cell_type": "code",
   "execution_count": 14,
   "id": "556c55ac-91fb-49c3-ae49-a4bd0854a861",
   "metadata": {},
   "outputs": [
    {
     "name": "stdout",
     "output_type": "stream",
     "text": [
      "4 7 "
     ]
    }
   ],
   "source": [
    "l=[3,3,3,3,4,4,4,5,5,6,6,7]\n",
    "oddAppearing(l)"
   ]
  },
  {
   "cell_type": "code",
   "execution_count": 1,
   "id": "e295b435-ff1d-4e5b-a3ad-cf1a02eebc16",
   "metadata": {},
   "outputs": [],
   "source": [
    "def oddOccuring(l):\n",
    "\n",
    "    xors=0\n",
    "    res1=0\n",
    "    res2=0\n",
    "\n",
    "    for x in l:\n",
    "        xors=xors^x\n",
    "    sn=xors&~(xors-1) #To get the rightmost set bit\n",
    "\n",
    "    for  i in l:\n",
    "        if sn&i !=0:\n",
    "            res1=res1^i\n",
    "        else:\n",
    "            res2=res2^i\n",
    "    print(res1,res2)\n",
    "\n",
    "    "
   ]
  },
  {
   "cell_type": "code",
   "execution_count": 16,
   "id": "76474d75-ca28-4e7c-b759-769a859e8f62",
   "metadata": {},
   "outputs": [
    {
     "name": "stdout",
     "output_type": "stream",
     "text": [
      "7 4\n"
     ]
    }
   ],
   "source": [
    "oddOccuring(l)"
   ]
  },
  {
   "cell_type": "code",
   "execution_count": 1,
   "id": "08d96cd6-32c4-4009-985b-2bd76f7e473b",
   "metadata": {},
   "outputs": [],
   "source": [
    "def oddappearing(arr):\n",
    "    xors = 0  # This will hold the XOR of all elements in the array\n",
    "    res1 = 0  # This will hold one of the results\n",
    "    res2 = 0  # This will hold the other result\n",
    "    \n",
    "    # XOR all elements in the array\n",
    "    for i in arr:\n",
    "        xors = xors ^ i\n",
    "    \n",
    "    # Find the rightmost set bit in xors (which will be different in the two odd occurring numbers)\n",
    "    sn = xors & -(xors - 1)\n",
    "    \n",
    "    # Divide elements in two groups and XOR them separately\n",
    "    for i in arr:\n",
    "        if i & sn != 0:\n",
    "            res1 = res1 ^ i  # XOR of first group\n",
    "        else:\n",
    "            res2 = res2 ^ i  # XOR of second group\n",
    "            \n",
    "    # Print the two odd occurring numbers\n",
    "    print(res1, res2)\n"
   ]
  },
  {
   "cell_type": "code",
   "execution_count": null,
   "id": "44f24d17-3521-4837-ae45-d101caff46ee",
   "metadata": {},
   "outputs": [],
   "source": []
  }
 ],
 "metadata": {
  "kernelspec": {
   "display_name": "Python 3 (ipykernel)",
   "language": "python",
   "name": "python3"
  },
  "language_info": {
   "codemirror_mode": {
    "name": "ipython",
    "version": 3
   },
   "file_extension": ".py",
   "mimetype": "text/x-python",
   "name": "python",
   "nbconvert_exporter": "python",
   "pygments_lexer": "ipython3",
   "version": "3.12.0"
  }
 },
 "nbformat": 4,
 "nbformat_minor": 5
}
