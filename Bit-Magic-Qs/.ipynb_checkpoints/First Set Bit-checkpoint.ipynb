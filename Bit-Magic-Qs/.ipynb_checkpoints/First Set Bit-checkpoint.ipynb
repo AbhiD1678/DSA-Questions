{
 "cells": [
  {
   "cell_type": "markdown",
   "id": "4d927b6b-725f-439e-92d1-c5d06219e832",
   "metadata": {},
   "source": [
    "Given an integer N. The task is to return the position of first set bit found from the right side in the binary representation of the number.\r\n",
    "Note: If there is no set bit in the integer N, then return 0 from the function.  \r\n",
    "\r\n",
    "Example 1:\r\n",
    "\r\n",
    "Input: \r\n",
    "N = 18\r\n",
    "Output: \r\n",
    "2\r\n",
    "Explanation: \r\n",
    "Binary representation of 18 is 010010,the first set bit from the right side is at position 2.\r\n",
    "Example 2:\r\n",
    "\r\n",
    "Input: \r\n",
    "N = 12 \r\n",
    "Output: \r\n",
    "3 \r\n",
    "Explanation: \r\n",
    "Binary representation of  12 is 1100, the first set bit from the right side is at position 3.\r\n",
    "Your Task:\r\n",
    "The task is to complete the function getFirstSetBit() that takes an integer n as a parameter and returns the position of first set bit.\r\n",
    "\r\n",
    "Expected Time Complexity: O(log N).\r\n",
    "Expected Auxiliary Space: O(1).\r\n",
    "\r\n",
    "Constraints:\r\n",
    "0 <= N <= 108\r\n",
    "\r\n"
   ]
  },
  {
   "cell_type": "code",
   "execution_count": 1,
   "id": "0ff48818-30b6-41db-88e9-aa5c4c955828",
   "metadata": {},
   "outputs": [],
   "source": [
    "class Solution:\n",
    "    \n",
    "    #Function to find position of first set bit in the given number.\n",
    "    def getFirstSetBit(self,n):\n",
    "        #Your code here\n",
    "        count=1\n",
    "        \n",
    "        while n>0:\n",
    "            if 1&n:\n",
    "                return count\n",
    "            count+=1\n",
    "            n=n>>1\n",
    "        return 0"
   ]
  },
  {
   "cell_type": "raw",
   "id": "4704e495-ae31-4646-b6e9-3b60e040e28a",
   "metadata": {},
   "source": [
    "Space complexity:O(1)\n",
    "Time complexity:O(log2N)"
   ]
  },
  {
   "cell_type": "code",
   "execution_count": 10,
   "id": "cc3a5107-065c-46aa-9eb8-7aba1b361d26",
   "metadata": {},
   "outputs": [
    {
     "data": {
      "text/plain": [
       "' \\nsolution=Solution()\\nresult=solution.getFirstSetBit(18)\\nprint(result)\\n'"
      ]
     },
     "execution_count": 10,
     "metadata": {},
     "output_type": "execute_result"
    }
   ],
   "source": [
    "import math\n",
    "class Solution:\n",
    "\n",
    "    def getFirstSetBit(self,n):\n",
    "\n",
    "        return math.ceil((math.log2(n&-n))+1)\n",
    "\n",
    "''' \n",
    "solution=Solution()\n",
    "result=solution.getFirstSetBit(18)\n",
    "print(result)\n",
    "'''"
   ]
  },
  {
   "cell_type": "raw",
   "id": "7518f313-da9a-4170-870d-7b55bb1853a3",
   "metadata": {},
   "source": [
    "Time complexity:O(1)\n",
    "Space complexity:O(1)"
   ]
  },
  {
   "cell_type": "code",
   "execution_count": null,
   "id": "b335abaf-5964-484d-a37f-c1c1b07243eb",
   "metadata": {},
   "outputs": [],
   "source": []
  }
 ],
 "metadata": {
  "kernelspec": {
   "display_name": "Python 3 (ipykernel)",
   "language": "python",
   "name": "python3"
  },
  "language_info": {
   "codemirror_mode": {
    "name": "ipython",
    "version": 3
   },
   "file_extension": ".py",
   "mimetype": "text/x-python",
   "name": "python",
   "nbconvert_exporter": "python",
   "pygments_lexer": "ipython3",
   "version": "3.11.7"
  }
 },
 "nbformat": 4,
 "nbformat_minor": 5
}
