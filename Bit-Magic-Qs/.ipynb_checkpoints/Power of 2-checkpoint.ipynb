{
 "cells": [
  {
   "cell_type": "code",
   "execution_count": 1,
   "id": "4e0b0d64-59cb-436a-94e2-648b651353da",
   "metadata": {},
   "outputs": [],
   "source": [
    "def Pow2(n):\n",
    "    if n==0:\n",
    "        return False\n",
    "    while n!=1:\n",
    "        if n%2!=0:\n",
    "            return False\n",
    "        n=n//2\n",
    "    return True"
   ]
  },
  {
   "cell_type": "code",
   "execution_count": 2,
   "id": "dd293ed8-3c37-40c6-acba-624f1efef8a1",
   "metadata": {},
   "outputs": [
    {
     "data": {
      "text/plain": [
       "True"
      ]
     },
     "execution_count": 2,
     "metadata": {},
     "output_type": "execute_result"
    }
   ],
   "source": [
    "Pow2(2)"
   ]
  },
  {
   "cell_type": "code",
   "execution_count": 3,
   "id": "d2df9c86-1383-4356-849d-c23df3e572dc",
   "metadata": {},
   "outputs": [
    {
     "data": {
      "text/plain": [
       "False"
      ]
     },
     "execution_count": 3,
     "metadata": {},
     "output_type": "execute_result"
    }
   ],
   "source": [
    "Pow2(36)"
   ]
  },
  {
   "cell_type": "code",
   "execution_count": 6,
   "id": "5d2570c3-a798-48e2-b991-e0d365e971da",
   "metadata": {},
   "outputs": [],
   "source": [
    "def PowO2(n):\n",
    "    if n==0:\n",
    "        return False\n",
    "    return (n&(n-1))==0"
   ]
  },
  {
   "cell_type": "code",
   "execution_count": 7,
   "id": "6e1dca20-90cd-4303-975c-d00261b7ab31",
   "metadata": {},
   "outputs": [
    {
     "data": {
      "text/plain": [
       "False"
      ]
     },
     "execution_count": 7,
     "metadata": {},
     "output_type": "execute_result"
    }
   ],
   "source": [
    "PowO2(36)"
   ]
  },
  {
   "cell_type": "code",
   "execution_count": 8,
   "id": "fdeeb18d-5465-44bf-8424-be40448b778b",
   "metadata": {},
   "outputs": [
    {
     "data": {
      "text/plain": [
       "True"
      ]
     },
     "execution_count": 8,
     "metadata": {},
     "output_type": "execute_result"
    }
   ],
   "source": [
    "PowO2(32)"
   ]
  },
  {
   "cell_type": "code",
   "execution_count": 1,
   "id": "8d38b503-b0cb-4d66-bf9e-303e0ed20dc9",
   "metadata": {},
   "outputs": [],
   "source": [
    "def isPowerofTwo(n):\n",
    "\n",
    "\tif (n == 0):\n",
    "\t\treturn 0\n",
    "\tif ((n & (~(n - 1))) == n):\n",
    "\t\treturn 1\n",
    "\treturn 0\n",
    "\n",
    "## Another method of finding the value"
   ]
  },
  {
   "cell_type": "code",
   "execution_count": null,
   "id": "c6977c46-2ce4-49ee-a99a-d7c6ac9b62d8",
   "metadata": {},
   "outputs": [],
   "source": []
  }
 ],
 "metadata": {
  "kernelspec": {
   "display_name": "Python 3 (ipykernel)",
   "language": "python",
   "name": "python3"
  },
  "language_info": {
   "codemirror_mode": {
    "name": "ipython",
    "version": 3
   },
   "file_extension": ".py",
   "mimetype": "text/x-python",
   "name": "python",
   "nbconvert_exporter": "python",
   "pygments_lexer": "ipython3",
   "version": "3.12.0"
  }
 },
 "nbformat": 4,
 "nbformat_minor": 5
}
