{
 "cells": [
  {
   "cell_type": "code",
   "execution_count": 17,
   "id": "8b4d7c00-af7b-4c92-951c-0529294b86b5",
   "metadata": {},
   "outputs": [],
   "source": [
    "def countsetbits(n):\n",
    "    res=0\n",
    "    while n:\n",
    "        if n%2==1:\n",
    "            res+=1\n",
    "        n=n//2\n",
    "    return res\n",
    "\n",
    "## Time complexity:O(number of bits)\n",
    "\n",
    "def countsetbits2(n):\n",
    "    res=0\n",
    "    while n:\n",
    "        res=res+(n&1)\n",
    "        n=n//2\n",
    "    return res"
   ]
  },
  {
   "cell_type": "code",
   "execution_count": 18,
   "id": "f65292ad-6bc1-4abf-8829-f1b351512e8b",
   "metadata": {},
   "outputs": [
    {
     "data": {
      "text/plain": [
       "2"
      ]
     },
     "execution_count": 18,
     "metadata": {},
     "output_type": "execute_result"
    }
   ],
   "source": [
    "countsetbits(5)"
   ]
  },
  {
   "cell_type": "code",
   "execution_count": 19,
   "id": "8dca5066-ee9d-4091-a3bf-87c755dd454a",
   "metadata": {},
   "outputs": [
    {
     "data": {
      "text/plain": [
       "2"
      ]
     },
     "execution_count": 19,
     "metadata": {},
     "output_type": "execute_result"
    }
   ],
   "source": [
    "countsetbits2(6)"
   ]
  },
  {
   "cell_type": "code",
   "execution_count": 10,
   "id": "fc507f5e-434c-4571-8a15-4994f54ad1c5",
   "metadata": {},
   "outputs": [
    {
     "data": {
      "text/plain": [
       "2"
      ]
     },
     "execution_count": 10,
     "metadata": {},
     "output_type": "execute_result"
    }
   ],
   "source": [
    "countsetbits(6)"
   ]
  },
  {
   "cell_type": "code",
   "execution_count": 1,
   "id": "867d76be-7c82-41ae-8cf1-b73e4f23f086",
   "metadata": {},
   "outputs": [],
   "source": [
    "## Brian Kernigan's Algorithm\n",
    "\n",
    "def countsetbits(n):\n",
    "    res=0\n",
    "    while n:\n",
    "        n=n&(n-1) #To make the last set bit to 0,we use this line \n",
    "        res+=1\n",
    "    return res\n",
    "\n",
    "# Time complexity:O(number of set bits)"
   ]
  },
  {
   "cell_type": "code",
   "execution_count": 14,
   "id": "54f105f9-03d9-441a-8e4d-7968f29e56fb",
   "metadata": {},
   "outputs": [
    {
     "data": {
      "text/plain": [
       "2"
      ]
     },
     "execution_count": 14,
     "metadata": {},
     "output_type": "execute_result"
    }
   ],
   "source": [
    "countsetbits(6)"
   ]
  },
  {
   "cell_type": "code",
   "execution_count": 20,
   "id": "834c9bdd-7e01-406d-ac0d-a0ae88b9ff72",
   "metadata": {},
   "outputs": [],
   "source": [
    "#Lookup table solution"
   ]
  },
  {
   "cell_type": "code",
   "execution_count": 29,
   "id": "fe0cf3a3-d504-4292-bb9d-33e08ec94118",
   "metadata": {},
   "outputs": [],
   "source": [
    "tbl=[0]*256\n",
    "def initialise():\n",
    "    for i in range(256):\n",
    "        tbl[i]=(i&1)+tbl[i//2]\n",
    "def lookup(n):\n",
    "    initialise()\n",
    "    return tbl[n&0xff]+tbl[(n>>8)&0xff]+tbl[(n>>16)&0xff]+tbl[(n>>24)&0xff]\n",
    "\n",
    "# Time complexity:O(1)"
   ]
  },
  {
   "cell_type": "code",
   "execution_count": 30,
   "id": "a8446a99-1cd2-418e-911d-b81fb9eb1d48",
   "metadata": {},
   "outputs": [
    {
     "data": {
      "text/plain": [
       "2"
      ]
     },
     "execution_count": 30,
     "metadata": {},
     "output_type": "execute_result"
    }
   ],
   "source": [
    "lookup(6)"
   ]
  },
  {
   "cell_type": "code",
   "execution_count": null,
   "id": "ffebf76c-2ee2-43f1-973a-8ab30ca60190",
   "metadata": {},
   "outputs": [],
   "source": []
  }
 ],
 "metadata": {
  "kernelspec": {
   "display_name": "Python 3 (ipykernel)",
   "language": "python",
   "name": "python3"
  },
  "language_info": {
   "codemirror_mode": {
    "name": "ipython",
    "version": 3
   },
   "file_extension": ".py",
   "mimetype": "text/x-python",
   "name": "python",
   "nbconvert_exporter": "python",
   "pygments_lexer": "ipython3",
   "version": "3.12.0"
  }
 },
 "nbformat": 4,
 "nbformat_minor": 5
}
