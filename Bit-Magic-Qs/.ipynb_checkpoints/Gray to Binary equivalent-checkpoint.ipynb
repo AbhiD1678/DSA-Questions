{
 "cells": [
  {
   "cell_type": "raw",
   "id": "44df0689-4607-425b-94b6-a1f364d7d275",
   "metadata": {},
   "source": [
    "The Most Significant Bit (MSB) of the binary code is always equal to the MSB of the given gray code.\n",
    "Other bits of the output binary code can be obtained by checking the gray code bit at that index. If the current gray code bit is 0, then copy the previous binary code bit, else copy the invert of the previous binary code bit."
   ]
  },
  {
   "cell_type": "code",
   "execution_count": 1,
   "id": "b2573430-d738-4915-96ad-4c84a3fbb9ef",
   "metadata": {},
   "outputs": [],
   "source": [
    "def grayToBinary(self,n):\n",
    "        ##Your code here\n",
    "        res=n\n",
    "        while n>0:\n",
    "            n=n>>1\n",
    "            res=res^n\n",
    "        return res\n"
   ]
  },
  {
   "cell_type": "raw",
   "id": "683235d4-8cad-4897-b2d2-67929b3f0c48",
   "metadata": {},
   "source": [
    "Input: \n",
    "n = 4\n",
    "Output: \n",
    "7\n",
    "Explanation:\n",
    "Given 4, its gray code =  110.\n",
    "Binary equivalent of the gray code 110 is 100.\n",
    "Return 7 representing gray code 100."
   ]
  },
  {
   "cell_type": "code",
   "execution_count": null,
   "id": "c0d54456-9ac2-4ce6-a1ff-9cc15920e84f",
   "metadata": {},
   "outputs": [],
   "source": []
  }
 ],
 "metadata": {
  "kernelspec": {
   "display_name": "Python 3 (ipykernel)",
   "language": "python",
   "name": "python3"
  },
  "language_info": {
   "codemirror_mode": {
    "name": "ipython",
    "version": 3
   },
   "file_extension": ".py",
   "mimetype": "text/x-python",
   "name": "python",
   "nbconvert_exporter": "python",
   "pygments_lexer": "ipython3",
   "version": "3.12.0"
  }
 },
 "nbformat": 4,
 "nbformat_minor": 5
}
