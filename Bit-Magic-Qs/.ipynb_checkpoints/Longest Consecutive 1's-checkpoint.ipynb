{
 "cells": [
  {
   "cell_type": "raw",
   "id": "38ec451c-5f04-42c5-9053-a4afd8cd396d",
   "metadata": {},
   "source": [
    "Given a number N. Find the length of the longest consecutive 1s in its binary representation.\n",
    "\n",
    "Example 1:\n",
    "\n",
    "Input: N = 14\n",
    "Output: 3\n",
    "Explanation: \n",
    "Binary representation of 14 is \n",
    "1110, in which 111 is the longest \n",
    "consecutive set bits of length is 3.\n",
    "Example 2:\n",
    "\n",
    "Input: N = 222\n",
    "Output: 4\n",
    "Explanation: \n",
    "Binary representation of 222 is \n",
    "11011110, in which 1111 is the \n",
    "longest consecutive set bits of length 4. \n",
    "\n",
    "Your Task: \n",
    "You don't need to read input or print anything. Your task is to complete the function maxConsecutiveOnes() which returns the length of the longest consecutive 1s in the binary representation of given N.\n",
    "\n",
    "Expected Time Complexity: O(log N).\n",
    "Expected Auxiliary Space: O(1).\n",
    "\n",
    "Constraints:\n",
    "1 <= N <= 106"
   ]
  },
  {
   "cell_type": "code",
   "execution_count": 1,
   "id": "2a32c86a-98ee-4b61-a65c-0cdf333e9599",
   "metadata": {},
   "outputs": [],
   "source": [
    "class Solution:\n",
    "    ##Complete this function\n",
    "    # Function to calculate the longest consecutive ones\n",
    "    def maxConsecutiveOnes(self, N):\n",
    "        ##Your code here\n",
    "        res=0\n",
    "        length=0\n",
    "        while N:\n",
    "            \n",
    "            if (N&1)==1:\n",
    "                length+=1\n",
    "            else:\n",
    "                length=0\n",
    "            res=max(res,length)\n",
    "            N=N//2\n",
    "        return res"
   ]
  },
  {
   "cell_type": "code",
   "execution_count": 2,
   "id": "d20a641f-c6a2-4275-92d0-1178abfb706f",
   "metadata": {},
   "outputs": [],
   "source": [
    "# Time complexity:O(log n)"
   ]
  },
  {
   "cell_type": "raw",
   "id": "26692af1-4f11-447d-adbf-90f8e5b4aae5",
   "metadata": {},
   "source": [
    "Expected approach\n",
    "\n",
    "Intuition\n",
    "The idea is to take bitwise AND of N with left shifted version of itself, by doing this we're effectively removing the trailing 1 from every sequence of consecutive 1s in binary representation of N.\n",
    "\n",
    "Implementation\n",
    "Initialize a variable count as 0.\n",
    "Run a loop while N>0 or it is not zero.\n",
    "Take bitwise AND of N with left shifted version of itself(N<<1), store the result in N.\n",
    "Increase count by 1.\n",
    "Return count as answer.\n"
   ]
  },
  {
   "cell_type": "code",
   "execution_count": 5,
   "id": "5f382d39-8ff6-449e-9684-647d9c49d216",
   "metadata": {},
   "outputs": [],
   "source": [
    "#Back-end complete function Template for Python 3\n",
    "\n",
    "class Solution:\n",
    "    # Function to calculate the longest consecutive ones\n",
    "    def maxConsecutiveOnes(self, N):\n",
    "        count=0\n",
    "        #We use a loop to perform AND operation on N and N<<1 and everytime\n",
    "        #the trailing 1 from every sequence of consecutive 1s is removed.\n",
    "        #Loop continues till N is reduced to 0.\n",
    "        while N!=0:\n",
    "            #Assigning result of AND operation to N\n",
    "            N=(N&(N<<1))\n",
    "            #increment of counter variable.\n",
    "            count+=1\n",
    "            \n",
    "         #returning the answer.   \n",
    "        return count\n",
    "    \n"
   ]
  },
  {
   "cell_type": "code",
   "execution_count": null,
   "id": "dcf45bd1-14b6-4eb4-b111-a4f2f0bc7c75",
   "metadata": {},
   "outputs": [],
   "source": []
  }
 ],
 "metadata": {
  "kernelspec": {
   "display_name": "Python 3 (ipykernel)",
   "language": "python",
   "name": "python3"
  },
  "language_info": {
   "codemirror_mode": {
    "name": "ipython",
    "version": 3
   },
   "file_extension": ".py",
   "mimetype": "text/x-python",
   "name": "python",
   "nbconvert_exporter": "python",
   "pygments_lexer": "ipython3",
   "version": "3.12.0"
  }
 },
 "nbformat": 4,
 "nbformat_minor": 5
}
