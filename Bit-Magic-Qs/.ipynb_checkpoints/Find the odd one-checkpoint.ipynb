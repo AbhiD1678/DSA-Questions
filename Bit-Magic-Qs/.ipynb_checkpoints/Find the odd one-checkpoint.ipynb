{
 "cells": [
  {
   "cell_type": "markdown",
   "id": "355240b1-2e3c-4865-b38f-3fd983043f2d",
   "metadata": {},
   "source": [
    "## Method 1 "
   ]
  },
  {
   "cell_type": "code",
   "execution_count": 5,
   "id": "07d711cb-57a4-403f-88d4-66b5b5750d23",
   "metadata": {},
   "outputs": [],
   "source": [
    "def oddone(l):\n",
    "    res=0\n",
    "    for x in l:\n",
    "        a=l.count(x)\n",
    "        if a%2!=0:\n",
    "            res=x\n",
    "            break\n",
    "    return res"
   ]
  },
  {
   "cell_type": "code",
   "execution_count": 6,
   "id": "9bf359ba-cb27-49f4-81e4-a0caeb2b6477",
   "metadata": {},
   "outputs": [
    {
     "data": {
      "text/plain": [
       "30"
      ]
     },
     "execution_count": 6,
     "metadata": {},
     "output_type": "execute_result"
    }
   ],
   "source": [
    "l=[10,10,20,20,30]\n",
    "oddone(l)"
   ]
  },
  {
   "cell_type": "code",
   "execution_count": 7,
   "id": "eddfb599-47d8-4c73-9213-e3126bd9e891",
   "metadata": {},
   "outputs": [],
   "source": [
    "def findone(l):\n",
    "    res=0\n",
    "    for x in l:\n",
    "        res=res^x\n",
    "    return res"
   ]
  },
  {
   "cell_type": "code",
   "execution_count": 8,
   "id": "1b2b5568-0d6b-45be-ad94-cb6966ca1cf0",
   "metadata": {},
   "outputs": [
    {
     "data": {
      "text/plain": [
       "30"
      ]
     },
     "execution_count": 8,
     "metadata": {},
     "output_type": "execute_result"
    }
   ],
   "source": [
    "findone(l)"
   ]
  },
  {
   "cell_type": "code",
   "execution_count": null,
   "id": "1ca0776e-d464-4dee-b2cf-a72c8157b4e7",
   "metadata": {},
   "outputs": [],
   "source": []
  }
 ],
 "metadata": {
  "kernelspec": {
   "display_name": "Python 3 (ipykernel)",
   "language": "python",
   "name": "python3"
  },
  "language_info": {
   "codemirror_mode": {
    "name": "ipython",
    "version": 3
   },
   "file_extension": ".py",
   "mimetype": "text/x-python",
   "name": "python",
   "nbconvert_exporter": "python",
   "pygments_lexer": "ipython3",
   "version": "3.12.0"
  }
 },
 "nbformat": 4,
 "nbformat_minor": 5
}
