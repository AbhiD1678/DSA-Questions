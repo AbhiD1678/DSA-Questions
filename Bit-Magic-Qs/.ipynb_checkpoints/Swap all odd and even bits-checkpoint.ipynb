{
 "cells": [
  {
   "cell_type": "raw",
   "id": "150513a1-0edb-48fd-81b3-f57d31372e60",
   "metadata": {},
   "source": [
    "Given an unsigned integer N. The task is to swap all odd bits with even bits. For example, if the given number is 23 (00010111), it should be converted to 43(00101011). Here, every even position bit is swapped with an adjacent bit on the right side(even position bits are highlighted in the binary representation of 23), and every odd position bit is swapped with an adjacent on the left side.\n",
    "\n",
    "Example 1:\n",
    "\n",
    "Input: N = 23\n",
    "Output: 43\n",
    "Explanation: \n",
    "Binary representation of the given number \n",
    "is 00010111 after swapping \n",
    "00101011 = 43 in decimal.\n",
    "Example 2:\n",
    "\n",
    "Input: N = 2\n",
    "Output: 1\n",
    "Explanation: \n",
    "Binary representation of the given number \n",
    "is 10 after swapping 01 = 1 in decimal.\n",
    "\n",
    "Your Task: Your task is to complete the function swapBits() which takes an integer and returns an integer with all the odd and even bits swapped.\n",
    "\n",
    "\n",
    "Expected Time Complexity: O(1).\n",
    "Expected Auxiliary Space: O(1).\n"
   ]
  },
  {
   "cell_type": "code",
   "execution_count": 1,
   "id": "f28e1d6a-3b4e-48df-ae6b-29e695d51633",
   "metadata": {},
   "outputs": [],
   "source": [
    "def swapBits(self,n):\n",
    "        #Your code here\n",
    "        even_bit=n&0xAAAAAAAA\n",
    "        odd_bit=n&0x55555555\n",
    "        \n",
    "        even_bit >>=1\n",
    "        \n",
    "        odd_bit <<=1\n",
    "        \n",
    "        return (even_bit | odd_bit )"
   ]
  },
  {
   "cell_type": "raw",
   "id": "a5080d09-f273-4690-8060-1aa724fb4cec",
   "metadata": {},
   "source": [
    "Here I got to know how to separate even and odd bit of a number,and operate on the odd bits and even bits separately."
   ]
  },
  {
   "cell_type": "code",
   "execution_count": null,
   "id": "992a5dd5-0f56-468b-9332-1afbb9e4d4ef",
   "metadata": {},
   "outputs": [],
   "source": []
  }
 ],
 "metadata": {
  "kernelspec": {
   "display_name": "Python 3 (ipykernel)",
   "language": "python",
   "name": "python3"
  },
  "language_info": {
   "codemirror_mode": {
    "name": "ipython",
    "version": 3
   },
   "file_extension": ".py",
   "mimetype": "text/x-python",
   "name": "python",
   "nbconvert_exporter": "python",
   "pygments_lexer": "ipython3",
   "version": "3.12.0"
  }
 },
 "nbformat": 4,
 "nbformat_minor": 5
}
