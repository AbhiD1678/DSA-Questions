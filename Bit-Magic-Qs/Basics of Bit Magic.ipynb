{
 "cells": [
  {
   "cell_type": "code",
   "execution_count": 3,
   "id": "c1c32a9c-fe2e-4c3f-b47d-dc031d657c34",
   "metadata": {},
   "outputs": [
    {
     "name": "stdout",
     "output_type": "stream",
     "text": [
      "0b10010\n"
     ]
    }
   ],
   "source": [
    "a=bin(18)\n",
    "print(a)"
   ]
  },
  {
   "cell_type": "code",
   "execution_count": 4,
   "id": "3a73766b-3ab1-4082-817f-c1d7052680a0",
   "metadata": {},
   "outputs": [
    {
     "name": "stdout",
     "output_type": "stream",
     "text": [
      "18\n"
     ]
    }
   ],
   "source": [
    "print(int(a,2))"
   ]
  },
  {
   "cell_type": "markdown",
   "id": "9463e406-5a7c-4f3b-b636-b37a23a61289",
   "metadata": {},
   "source": [
    "#### Bitwise Operator"
   ]
  },
  {
   "cell_type": "code",
   "execution_count": 6,
   "id": "01201be5-3b5c-4d64-a1e0-d17e3d290a2f",
   "metadata": {},
   "outputs": [],
   "source": [
    "# And:&"
   ]
  },
  {
   "cell_type": "code",
   "execution_count": 9,
   "id": "73ba08f0-fe70-4458-8533-1f4fee2bdca5",
   "metadata": {},
   "outputs": [
    {
     "name": "stdout",
     "output_type": "stream",
     "text": [
      "0\n"
     ]
    }
   ],
   "source": [
    "x=3\n",
    "y=4\n",
    "print(x&y)"
   ]
  },
  {
   "cell_type": "code",
   "execution_count": 20,
   "id": "756c3e9a-13c0-4bcb-a6ef-0952853dc816",
   "metadata": {},
   "outputs": [
    {
     "name": "stdout",
     "output_type": "stream",
     "text": [
      "0b11\n",
      "3\n"
     ]
    }
   ],
   "source": [
    "x=3\n",
    "print(bin(x))\n",
    "y=7\n",
    "print(x&y)"
   ]
  },
  {
   "cell_type": "code",
   "execution_count": 14,
   "id": "621fc158-8e61-4fcd-bf4b-9e36c1dd3941",
   "metadata": {},
   "outputs": [],
   "source": [
    "# Or:|"
   ]
  },
  {
   "cell_type": "code",
   "execution_count": 15,
   "id": "8c3af374-1d95-47d3-8cb6-b2090c0dc3d0",
   "metadata": {},
   "outputs": [
    {
     "name": "stdout",
     "output_type": "stream",
     "text": [
      "7\n"
     ]
    }
   ],
   "source": [
    "print(x|y)"
   ]
  },
  {
   "cell_type": "code",
   "execution_count": 16,
   "id": "ac99555a-cae2-49d8-b8d5-9e5f0fa26708",
   "metadata": {},
   "outputs": [],
   "source": [
    "# XOR:^"
   ]
  },
  {
   "cell_type": "code",
   "execution_count": 17,
   "id": "5269fadc-9194-486d-b242-221c91b890d5",
   "metadata": {},
   "outputs": [
    {
     "name": "stdout",
     "output_type": "stream",
     "text": [
      "4\n"
     ]
    }
   ],
   "source": [
    "print(x^y)"
   ]
  },
  {
   "cell_type": "code",
   "execution_count": 31,
   "id": "525dcb5b-80d0-4d55-8ce9-449ac4b71d7f",
   "metadata": {},
   "outputs": [],
   "source": [
    "# Leftshift operator <,multiply with the power of 2"
   ]
  },
  {
   "cell_type": "code",
   "execution_count": 23,
   "id": "626ee615-90ca-46f4-be99-5858611a6df3",
   "metadata": {},
   "outputs": [
    {
     "name": "stdout",
     "output_type": "stream",
     "text": [
      "12\n"
     ]
    }
   ],
   "source": [
    "#x*4\n",
    "print(x<<2)"
   ]
  },
  {
   "cell_type": "code",
   "execution_count": 24,
   "id": "abae9e63-954f-4183-81cc-e7ef68a7b3d0",
   "metadata": {},
   "outputs": [
    {
     "name": "stdout",
     "output_type": "stream",
     "text": [
      "6\n"
     ]
    }
   ],
   "source": [
    "print(x<<1)"
   ]
  },
  {
   "cell_type": "code",
   "execution_count": 2,
   "id": "fa30045b-b623-4ed2-a865-16314e021a70",
   "metadata": {},
   "outputs": [
    {
     "name": "stdout",
     "output_type": "stream",
     "text": [
      "32\n"
     ]
    }
   ],
   "source": [
    "print(1<<5)"
   ]
  },
  {
   "cell_type": "code",
   "execution_count": 25,
   "id": "f6540e4a-bbf7-466d-af6b-de4fd36cd818",
   "metadata": {},
   "outputs": [
    {
     "name": "stdout",
     "output_type": "stream",
     "text": [
      "96\n"
     ]
    }
   ],
   "source": [
    "print(x<<5)"
   ]
  },
  {
   "cell_type": "code",
   "execution_count": 26,
   "id": "c1b02320-6bfb-4856-9001-a07bc443faee",
   "metadata": {},
   "outputs": [],
   "source": [
    "# Right shift operator"
   ]
  },
  {
   "cell_type": "code",
   "execution_count": 27,
   "id": "01af13be-6c52-476f-89ec-f070d70f035b",
   "metadata": {},
   "outputs": [
    {
     "name": "stdout",
     "output_type": "stream",
     "text": [
      "1\n"
     ]
    }
   ],
   "source": [
    "print(x>>1)"
   ]
  },
  {
   "cell_type": "code",
   "execution_count": 28,
   "id": "790f4b47-7983-4e8e-9d30-b10ee09533b3",
   "metadata": {},
   "outputs": [
    {
     "name": "stdout",
     "output_type": "stream",
     "text": [
      "0\n"
     ]
    }
   ],
   "source": [
    "print(x>>2)"
   ]
  },
  {
   "cell_type": "code",
   "execution_count": 29,
   "id": "8c15b7fd-12f0-40ba-a849-84ccf77f0722",
   "metadata": {},
   "outputs": [],
   "source": [
    "# Bitwise Not:~"
   ]
  },
  {
   "cell_type": "code",
   "execution_count": 30,
   "id": "64d5ba45-9221-45eb-a207-ab7015d5ade3",
   "metadata": {},
   "outputs": [
    {
     "name": "stdout",
     "output_type": "stream",
     "text": [
      "-4\n"
     ]
    }
   ],
   "source": [
    "print(~x)"
   ]
  },
  {
   "cell_type": "code",
   "execution_count": null,
   "id": "cedaa1b2-4f39-4bd8-a9cc-e3f58918b982",
   "metadata": {},
   "outputs": [],
   "source": []
  }
 ],
 "metadata": {
  "kernelspec": {
   "display_name": "Python 3 (ipykernel)",
   "language": "python",
   "name": "python3"
  },
  "language_info": {
   "codemirror_mode": {
    "name": "ipython",
    "version": 3
   },
   "file_extension": ".py",
   "mimetype": "text/x-python",
   "name": "python",
   "nbconvert_exporter": "python",
   "pygments_lexer": "ipython3",
   "version": "3.12.0"
  }
 },
 "nbformat": 4,
 "nbformat_minor": 5
}
