{
 "cells": [
  {
   "cell_type": "code",
   "execution_count": 1,
   "id": "d810f04c-95ea-4903-acb8-4b8249b3b57b",
   "metadata": {},
   "outputs": [
    {
     "name": "stdout",
     "output_type": "stream",
     "text": [
      "Set\n"
     ]
    }
   ],
   "source": [
    "def KbitSet(n,k):\n",
    "\n",
    "    if n&(1<<(k-1)):\n",
    "        print(\"Set\")\n",
    "    else:\n",
    "        print(\"Not Set\")\n",
    "\n",
    "n=5\n",
    "k=3\n",
    "KbitSet(n,k)"
   ]
  },
  {
   "cell_type": "code",
   "execution_count": 2,
   "id": "114a7126-490c-420b-baa7-617334c0a03a",
   "metadata": {},
   "outputs": [
    {
     "name": "stdout",
     "output_type": "stream",
     "text": [
      "Not Set\n"
     ]
    }
   ],
   "source": [
    "k=4\n",
    "KbitSet(n,k)"
   ]
  },
  {
   "cell_type": "code",
   "execution_count": 6,
   "id": "d4394618-3f87-4a9b-8365-5083e1d1d8ae",
   "metadata": {},
   "outputs": [
    {
     "name": "stdout",
     "output_type": "stream",
     "text": [
      "Not Set\n"
     ]
    }
   ],
   "source": [
    "def KbitSet1(n,k):\n",
    "\n",
    "    if 1&(n>>k-1):\n",
    "        print(\"Set\")\n",
    "    else:\n",
    "        print(\"Not Set\")\n",
    "\n",
    "KbitSet1(n,k)"
   ]
  },
  {
   "cell_type": "code",
   "execution_count": 7,
   "id": "dc2e62ea-7a8a-4c9c-94ff-84e56143ffb6",
   "metadata": {},
   "outputs": [
    {
     "name": "stdout",
     "output_type": "stream",
     "text": [
      "Set\n"
     ]
    }
   ],
   "source": [
    "n=5\n",
    "k=3\n",
    "KbitSet1(n,k)"
   ]
  },
  {
   "cell_type": "code",
   "execution_count": null,
   "id": "c27c01fa-00db-4b5d-a50c-0e0dccc5ce97",
   "metadata": {},
   "outputs": [],
   "source": []
  }
 ],
 "metadata": {
  "kernelspec": {
   "display_name": "Python 3 (ipykernel)",
   "language": "python",
   "name": "python3"
  },
  "language_info": {
   "codemirror_mode": {
    "name": "ipython",
    "version": 3
   },
   "file_extension": ".py",
   "mimetype": "text/x-python",
   "name": "python",
   "nbconvert_exporter": "python",
   "pygments_lexer": "ipython3",
   "version": "3.11.7"
  }
 },
 "nbformat": 4,
 "nbformat_minor": 5
}
