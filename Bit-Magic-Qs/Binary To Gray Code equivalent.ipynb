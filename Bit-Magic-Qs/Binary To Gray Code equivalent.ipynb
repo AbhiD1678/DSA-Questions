{
 "cells": [
  {
   "cell_type": "raw",
   "id": "ac002f7f-e026-4669-a555-cc56bd1b9f6e",
   "metadata": {},
   "source": [
    "You are given a decimal number N. You need to find the gray code of the number N and convert it into decimal.\n",
    "\n",
    "Input: N = 7\n",
    "Output: 4\n",
    "Explanation: 7 is represented as 111 in \n",
    "binary form. The gray code of 111 is 100, \n",
    "in the binary form whose decimal equivalent \n",
    "is 4."
   ]
  },
  {
   "cell_type": "code",
   "execution_count": 1,
   "id": "e6432e88-3b3f-4415-a8e4-3508d3c57bae",
   "metadata": {},
   "outputs": [],
   "source": [
    "def greyConverter(self,n):\n",
    "        ##Your code here\n",
    "        n=n^(n>>1)\n",
    "        return n\n"
   ]
  },
  {
   "cell_type": "code",
   "execution_count": null,
   "id": "d73cc364-246a-4fde-9a95-14e926c6addd",
   "metadata": {},
   "outputs": [],
   "source": []
  }
 ],
 "metadata": {
  "kernelspec": {
   "display_name": "Python 3 (ipykernel)",
   "language": "python",
   "name": "python3"
  },
  "language_info": {
   "codemirror_mode": {
    "name": "ipython",
    "version": 3
   },
   "file_extension": ".py",
   "mimetype": "text/x-python",
   "name": "python",
   "nbconvert_exporter": "python",
   "pygments_lexer": "ipython3",
   "version": "3.12.0"
  }
 },
 "nbformat": 4,
 "nbformat_minor": 5
}
