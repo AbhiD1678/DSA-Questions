{
 "cells": [
  {
   "cell_type": "raw",
   "id": "fc218021",
   "metadata": {},
   "source": [
    "Given a circular doubly linked list of odd size n, the task is to print the middle element.\n",
    "The tail of a circular doubly linked list is connected to head via its next pointer, and the previous pointer of head is connected to the tail.\n",
    "\n",
    "Example 1:\n",
    "\n",
    "Input:\n",
    "LinkedList: 1<-->2<-->3\n",
    "(The first and the last node is connected,\n",
    "i.e 3 <--> 1)\n",
    "Output: 2\n",
    "Your Task:\n",
    "The task is to complete the function findMiddle() which takes head reference as an argument. The function should return the middle element of CDLL. \n",
    "\n",
    "Expected Time Complexity: O(N).\n",
    "Expected Auxiliary Space: O(1).\n",
    "\n",
    "Constraints:\n",
    "1 <= Number of nodes <= 103"
   ]
  },
  {
   "cell_type": "code",
   "execution_count": 1,
   "id": "13d0da95",
   "metadata": {},
   "outputs": [],
   "source": [
    "class Solution:\n",
    "    def findMiddle(self, head):\n",
    "        #code here\n",
    "        count=1\n",
    "        curr=head.next\n",
    "        while curr!=head:\n",
    "            count+=1\n",
    "            curr=curr.next\n",
    "        for i in range(count//2):\n",
    "            curr=curr.next\n",
    "        return curr.data\n",
    "        \n"
   ]
  },
  {
   "cell_type": "code",
   "execution_count": null,
   "id": "caec209c",
   "metadata": {},
   "outputs": [],
   "source": []
  }
 ],
 "metadata": {
  "kernelspec": {
   "display_name": "Python 3 (ipykernel)",
   "language": "python",
   "name": "python3"
  },
  "language_info": {
   "codemirror_mode": {
    "name": "ipython",
    "version": 3
   },
   "file_extension": ".py",
   "mimetype": "text/x-python",
   "name": "python",
   "nbconvert_exporter": "python",
   "pygments_lexer": "ipython3",
   "version": "3.11.7"
  }
 },
 "nbformat": 4,
 "nbformat_minor": 5
}
