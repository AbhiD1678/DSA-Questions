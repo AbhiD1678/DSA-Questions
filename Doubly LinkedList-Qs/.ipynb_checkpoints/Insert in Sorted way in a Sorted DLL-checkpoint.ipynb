{
 "cells": [
  {
   "cell_type": "raw",
   "id": "ed0222bd-e19e-4a3b-b4bc-20d4d0455351",
   "metadata": {},
   "source": [
    "Given a sorted doubly linked list and an element X, your need to insert the element X into correct position in the sorted DLL.\n",
    "\n",
    "Note: The DLL is sorted in ascending order\n",
    "\n",
    "Example:\n",
    "\n",
    "Input:\n",
    "LinkedList:\n",
    "\n",
    "X = 9\n",
    "Output:\n",
    "\n",
    "Your Task:\n",
    "You only need to complete the function sortedInsert() that takes head reference and x as arguments and returns the head of the modified list.The resulting DLL should be in ascending order. The printing and checking tasks are done by the driver code.\n",
    "\n",
    "Expected Time Complexity: O(n).\n",
    "Expected Auxiliary Space: O(1).\n",
    "\n",
    "Constraints:\n",
    "1 <= Number of nodes <= 103"
   ]
  },
  {
   "cell_type": "code",
   "execution_count": 1,
   "id": "bcb7275d-b618-4fea-b00e-a0f2b3f73859",
   "metadata": {},
   "outputs": [],
   "source": [
    "\n",
    "'''\n",
    "class Node:\n",
    "    def __init__(self, data):\n",
    "        self.data = data\n",
    "        self.next = None\n",
    "        self.prev = None\n",
    "'''\n",
    "\n",
    "def sortedInsert(head, x):\n",
    "    #code here\n",
    "    curr=head\n",
    "    temp=Node(x)\n",
    "    if curr.next==None:\n",
    "        curr.next=temp\n",
    "        temp.prev=curr\n",
    "        return head\n",
    "    if x<curr.data:\n",
    "        temp.next=head\n",
    "        head.prev=temp\n",
    "        return temp\n",
    "    while curr.next!=None and curr.next.data<x :\n",
    "        curr=curr.next\n",
    "    temp.next=curr.next\n",
    "    curr.next=temp\n",
    "    temp.prev=curr\n",
    "    if curr.next.next!=None:\n",
    "     curr=curr.next.next\n",
    "     curr.prev=temp\n",
    "    return head\n"
   ]
  },
  {
   "cell_type": "code",
   "execution_count": null,
   "id": "ef09cc8b-87b1-43cd-a9b6-a016bc9b81f9",
   "metadata": {},
   "outputs": [],
   "source": []
  }
 ],
 "metadata": {
  "kernelspec": {
   "display_name": "Python 3 (ipykernel)",
   "language": "python",
   "name": "python3"
  },
  "language_info": {
   "codemirror_mode": {
    "name": "ipython",
    "version": 3
   },
   "file_extension": ".py",
   "mimetype": "text/x-python",
   "name": "python",
   "nbconvert_exporter": "python",
   "pygments_lexer": "ipython3",
   "version": "3.11.7"
  }
 },
 "nbformat": 4,
 "nbformat_minor": 5
}
