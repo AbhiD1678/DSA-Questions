{
 "cells": [
  {
   "cell_type": "code",
   "execution_count": 1,
   "id": "04232c0a",
   "metadata": {},
   "outputs": [],
   "source": [
    "def DeleteHead(head):\n",
    "    if head==None:\n",
    "        return head\n",
    "    if head.next==None:\n",
    "        return None\n",
    "    head=head.next\n",
    "    head.prev=None\n",
    "    return head"
   ]
  },
  {
   "cell_type": "code",
   "execution_count": null,
   "id": "beb10274",
   "metadata": {},
   "outputs": [],
   "source": [
    "class Node:\n",
    "\n",
    "    def __init__(self, data):\n",
    "        self.data = data\n",
    "        self.prev = None\n",
    "        self.next = None\n",
    "\n",
    "\n",
    "def delHead(head):\n",
    "\n",
    "    if head == None:\n",
    "        return None\n",
    "\n",
    "    if head.next == None:\n",
    "        return None\n",
    "    else:\n",
    "        head = head.next\n",
    "        head.prev = None\n",
    "\n",
    "        return head\n",
    "\n",
    "\n",
    "\n",
    "def printDll(head):\n",
    "    curr = head\n",
    "    while curr != None:\n",
    "        print(curr.data, end=\" \")\n",
    "        curr = curr.next\n",
    "    print()\n",
    "\n",
    "\n",
    "head = Node(2)\n",
    "temp1 = Node(45)\n",
    "temp2 = Node(3)\n",
    "temp2 = Node(1)\n",
    "\n",
    "head.next = temp1\n",
    "temp1.prev = head\n",
    "\n",
    "temp1.next = temp2\n",
    "temp2.prev = temp1\n",
    "\n",
    "temp2.next = temp3\n",
    "temp3.prev = temp2\n",
    "\n",
    "printDll(head)\n",
    "\n",
    "head = delHead(head)\n",
    "\n",
    "printDll(head)\n"
   ]
  },
  {
   "cell_type": "code",
   "execution_count": null,
   "id": "426d33f5",
   "metadata": {},
   "outputs": [],
   "source": []
  }
 ],
 "metadata": {
  "kernelspec": {
   "display_name": "Python 3 (ipykernel)",
   "language": "python",
   "name": "python3"
  },
  "language_info": {
   "codemirror_mode": {
    "name": "ipython",
    "version": 3
   },
   "file_extension": ".py",
   "mimetype": "text/x-python",
   "name": "python",
   "nbconvert_exporter": "python",
   "pygments_lexer": "ipython3",
   "version": "3.11.7"
  }
 },
 "nbformat": 4,
 "nbformat_minor": 5
}
