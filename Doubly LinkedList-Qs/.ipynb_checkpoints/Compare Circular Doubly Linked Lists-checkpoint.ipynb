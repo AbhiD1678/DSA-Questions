{
 "cells": [
  {
   "cell_type": "raw",
   "id": "6c6c7d10-c9f9-45f8-ae42-1ffa10cf83f5",
   "metadata": {},
   "source": [
    "Given two circular doubly linked lists of sizes n1 and n2 respectively, the task is check if the corresponding elements of the lists are same or not.\n",
    "The tail of a circular doubly linked list is connected to head via its next pointer, and the previous pointer of head is connected to the tail.\n",
    "\n",
    "Example 1:\n",
    "\n",
    "Input:\n",
    "LinkedList1: 1\n",
    "LinkedList2: 1\n",
    "Output: 1\n",
    "Example 2:\n",
    "\n",
    "Input:\n",
    "LinkedList1: 2<->5<->7<->8<->99<->100\n",
    "LinkedList2: 7<->8<->9<->73<->2\n",
    "Output: 0\n",
    "Your Task:\n",
    "The task is to complete the function compareCLL() which takes head1 and head2 references as an arguments. The function should return true if all the corresponding elements of the lists are same, else it should return false. (The driver's code print 1 if the returned value is true, otherwise false.)\n",
    "\n",
    "Expected Time Complexity: O(n1 + n2).\n",
    "Expected Auxiliary Space: O(1).\n",
    "\n",
    "Constraints:\n",
    "1 <= number of nodes <= 105"
   ]
  },
  {
   "cell_type": "code",
   "execution_count": 1,
   "id": "b8875de0-287b-4ee3-b744-32ca89d44497",
   "metadata": {},
   "outputs": [],
   "source": [
    "class Solution:\n",
    "    def compareCLL(self,head1,head2):\n",
    "        #code here\n",
    "        if head1.data!=head2.data:\n",
    "            return 0\n",
    "        curr1=head1.next\n",
    "        curr2=head2.next\n",
    "        n1=1\n",
    "        n2=1\n",
    "        while curr1!=head1:\n",
    "            n1+=1\n",
    "            curr1=curr1.next\n",
    "        while curr2!=head2:\n",
    "            n2+=1\n",
    "            curr2=curr2.next\n",
    "        if n1!=n2:\n",
    "            return 0\n",
    "        while curr1.data==curr2.data and curr1!=head1 and curr2!=head2:\n",
    "            curr1=curr1.next\n",
    "            curr2=curr2.next\n",
    "        \n",
    "        if curr1.next.data!=curr2.next.data:\n",
    "            return 0\n",
    "        return 1\n"
   ]
  },
  {
   "cell_type": "code",
   "execution_count": null,
   "id": "e16323ac-15b2-4494-9e19-53f077465b41",
   "metadata": {},
   "outputs": [],
   "source": []
  }
 ],
 "metadata": {
  "kernelspec": {
   "display_name": "Python 3 (ipykernel)",
   "language": "python",
   "name": "python3"
  },
  "language_info": {
   "codemirror_mode": {
    "name": "ipython",
    "version": 3
   },
   "file_extension": ".py",
   "mimetype": "text/x-python",
   "name": "python",
   "nbconvert_exporter": "python",
   "pygments_lexer": "ipython3",
   "version": "3.11.7"
  }
 },
 "nbformat": 4,
 "nbformat_minor": 5
}
