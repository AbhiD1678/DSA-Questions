{
 "cells": [
  {
   "cell_type": "raw",
   "id": "4d6e912b-ec5f-41e9-860f-921051130dfe",
   "metadata": {},
   "source": [
    "Given a doubly linked list, the task is to check if it is circular or not.\n",
    "\n",
    "Example 1:\n",
    "\n",
    "Input:\n",
    "LinkedList: 2<->3<->4<->5<->6\n",
    "Output: 0\n",
    "Example 2:\n",
    "\n",
    "Input:\n",
    "LinkedList: 4<-->6\n",
    "(the last and the first node is connected,\n",
    "i.e. 6 <--> 4\n",
    "Output: 1\n",
    "User Task:\n",
    "The task is to complete the function isCircular() which takes head reference as an argument. The function should return true if the doubly LL is circular and false if it is not. (if the returned value if true, the driver code prints 1, otherwise 0)\n",
    "\n",
    "Expected Time Complexity: O(n).\n",
    "Expected Auxiliary Space: O(1).\n",
    "\n",
    "Constraints:\n",
    "1 <= Number of nodes <= 106\n",
    "\n",
    " "
   ]
  },
  {
   "cell_type": "code",
   "execution_count": 2,
   "id": "f8f9325d-0c96-4271-914c-e77bfb8171ad",
   "metadata": {},
   "outputs": [],
   "source": [
    "\n",
    "class Solution: \n",
    "    def isCircular(self, head):\n",
    "        #code here\n",
    "        curr=head.next\n",
    "        \n",
    "        while curr!=None and curr!=head:\n",
    "            curr=curr.next\n",
    "        if curr==head:\n",
    "            return 1\n",
    "        else:\n",
    "            return 0"
   ]
  },
  {
   "cell_type": "code",
   "execution_count": null,
   "id": "4e491dfb-62f1-4848-8046-83c2f1b3cd4d",
   "metadata": {},
   "outputs": [],
   "source": []
  }
 ],
 "metadata": {
  "kernelspec": {
   "display_name": "Python 3 (ipykernel)",
   "language": "python",
   "name": "python3"
  },
  "language_info": {
   "codemirror_mode": {
    "name": "ipython",
    "version": 3
   },
   "file_extension": ".py",
   "mimetype": "text/x-python",
   "name": "python",
   "nbconvert_exporter": "python",
   "pygments_lexer": "ipython3",
   "version": "3.11.7"
  }
 },
 "nbformat": 4,
 "nbformat_minor": 5
}
