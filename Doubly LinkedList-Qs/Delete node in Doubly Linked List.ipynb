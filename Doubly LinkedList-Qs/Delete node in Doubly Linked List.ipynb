{
 "cells": [
  {
   "cell_type": "raw",
   "id": "e7997683-a7ef-481d-8262-199d0412ca0c",
   "metadata": {},
   "source": [
    "Given a doubly linked list and a position. The task is to delete a node from given position (position starts from 1) in a doubly linked list.\n",
    "\n",
    "Example 1:\n",
    "\n",
    "Input:\n",
    "LinkedList = 1 <--> 3 <--> 4 \n",
    "x = 3\n",
    "Output: 1 3  \n",
    "Explanation: After deleting the node at\n",
    "position 3 (position starts from 1),\n",
    "the linked list will be now as 1->3.\n",
    "Example 2:\n",
    "\n",
    "Input:\n",
    "LinkedList = 1 <--> 5 <--> 2 <--> 9  \n",
    "x = 1\n",
    "Output: 5 2 9\n",
    "Your Task:\n",
    "The task is to complete the function deleteNode() which should delete the node at given position and return the head of the linkedlist.\n",
    "\n",
    "Expected Time Complexity : O(n)\n",
    "Expected Auxilliary Space : O(1)\n",
    "\n",
    "Constraints:\n",
    "2 <= size of the linked list(n) <= 105\n",
    "1 <= x <= n\n",
    "1 <= node.data <= 109\n",
    "\n",
    " "
   ]
  },
  {
   "cell_type": "code",
   "execution_count": 3,
   "id": "0c3f5ebb-4b5d-48fd-a6b8-c208b0f68f92",
   "metadata": {},
   "outputs": [],
   "source": [
    "#User function Template for python3\n",
    "\n",
    "'''class Node:\n",
    "    def __init__(self, data):\n",
    "        self.data = data\n",
    "        self.next = None\n",
    "        self.prev = None\n",
    "'''\n",
    "class Solution:\n",
    "    def deleteNode(self,head, x):\n",
    "        # Code here\n",
    "        if x==1:\n",
    "            head=head.next\n",
    "            head.prev=None\n",
    "            return head\n",
    "        curr=head\n",
    "        for i in range(x-2):\n",
    "            curr=curr.next\n",
    "        curr.next=curr.next.next\n",
    "        return head\n",
    "\n"
   ]
  },
  {
   "cell_type": "code",
   "execution_count": null,
   "id": "13989da0-17a9-401e-8bf1-ceb052ce544a",
   "metadata": {},
   "outputs": [],
   "source": []
  }
 ],
 "metadata": {
  "kernelspec": {
   "display_name": "Python 3 (ipykernel)",
   "language": "python",
   "name": "python3"
  },
  "language_info": {
   "codemirror_mode": {
    "name": "ipython",
    "version": 3
   },
   "file_extension": ".py",
   "mimetype": "text/x-python",
   "name": "python",
   "nbconvert_exporter": "python",
   "pygments_lexer": "ipython3",
   "version": "3.11.7"
  }
 },
 "nbformat": 4,
 "nbformat_minor": 5
}
