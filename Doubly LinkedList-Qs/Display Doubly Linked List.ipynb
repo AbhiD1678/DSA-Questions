{
 "cells": [
  {
   "cell_type": "raw",
   "id": "21d42d81-f9cb-42c4-9276-35988cd7ad14",
   "metadata": {},
   "source": [
    "Given a doubly linked list of n elements. The task is to display the linked list.\n",
    "\n",
    "Example 1:\n",
    "\n",
    "Input:\n",
    "LinkedList: 1<->2<->3<->4<->5\n",
    "Output:\n",
    "1 2 3 4 5\n",
    "5 4 3 2 1\n",
    "Your Task:\n",
    "Your task is to complete the given function displayList(), which takes head reference as argument and returns the doubly linked list as an array ( vector in cpp, ArrayList in java, list in python)\n",
    "The driver's code print the list forward and backward.\n",
    "\n",
    "Expected Time Complexity: O(n).\n",
    "Expected Auxiliary Space: O(1).\n",
    "\n",
    "Constraints:\n",
    "1 <= number of nodes <= 103\n",
    "0 <= value of nodes <= 103"
   ]
  },
  {
   "cell_type": "code",
   "execution_count": 1,
   "id": "0ca95fde-236c-4f0f-a959-b441115ad576",
   "metadata": {},
   "outputs": [],
   "source": [
    "def displayList(head):\n",
    "    #code here\n",
    "    curr=head\n",
    "    a=[]\n",
    "    while curr:\n",
    "        a.append(curr.data)\n",
    "        curr=curr.next\n",
    "    return a"
   ]
  },
  {
   "cell_type": "code",
   "execution_count": null,
   "id": "072be1af-d727-42c9-8002-c33e72309630",
   "metadata": {},
   "outputs": [],
   "source": []
  }
 ],
 "metadata": {
  "kernelspec": {
   "display_name": "Python 3 (ipykernel)",
   "language": "python",
   "name": "python3"
  },
  "language_info": {
   "codemirror_mode": {
    "name": "ipython",
    "version": 3
   },
   "file_extension": ".py",
   "mimetype": "text/x-python",
   "name": "python",
   "nbconvert_exporter": "python",
   "pygments_lexer": "ipython3",
   "version": "3.11.7"
  }
 },
 "nbformat": 4,
 "nbformat_minor": 5
}
