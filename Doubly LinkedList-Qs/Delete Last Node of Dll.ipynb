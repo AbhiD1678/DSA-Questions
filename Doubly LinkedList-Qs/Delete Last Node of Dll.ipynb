{
 "cells": [
  {
   "cell_type": "code",
   "execution_count": 2,
   "id": "5ae22968-b79a-45f1-b4d5-138533aa7ff7",
   "metadata": {},
   "outputs": [],
   "source": [
    "def deletelast(head):\n",
    "    if head==None:\n",
    "        return head\n",
    "    if head.next==None:\n",
    "        return None\n",
    "    curr=head\n",
    "    while curr.next.next!=None:\n",
    "        curr=curr.next\n",
    "    curr.next=None\n",
    "    return head"
   ]
  },
  {
   "cell_type": "code",
   "execution_count": 3,
   "id": "81e432f8-9abf-40cd-8003-72466534ad1b",
   "metadata": {},
   "outputs": [
    {
     "name": "stdout",
     "output_type": "stream",
     "text": [
      "2 45 3 1 \n",
      "2 45 3 \n"
     ]
    }
   ],
   "source": [
    "class Node:\n",
    "\n",
    "    def __init__(self, data):\n",
    "        self.data = data\n",
    "        self.prev = None\n",
    "        self.next = None\n",
    "\n",
    "\n",
    "def delLast(head):\n",
    "    if head == None:\n",
    "        return None\n",
    "    if head.next == None:\n",
    "        return None\n",
    "\n",
    "    curr = head\n",
    "    while curr.next.next != None:\n",
    "        curr = curr.next\n",
    "\n",
    "    curr.next = None\n",
    "\n",
    "    return head\n",
    "\n",
    "\n",
    "def printDll(head):\n",
    "    curr = head\n",
    "    while curr != None:\n",
    "        print(curr.data, end=\" \")\n",
    "        curr = curr.next\n",
    "    print()\n",
    "\n",
    "\n",
    "head = Node(2)\n",
    "temp1 = Node(45)\n",
    "temp2 = Node(3)\n",
    "temp3 = Node(1)\n",
    "\n",
    "\n",
    "head.next = temp1\n",
    "temp1.prev = head\n",
    "\n",
    "temp1.next = temp2\n",
    "temp2.prev = temp1\n",
    "\n",
    "temp2.next = temp3\n",
    "temp3.prev = temp2\n",
    "\n",
    "printDll(head)\n",
    "\n",
    "head = delLast(head)\n",
    "\n",
    "printDll(head)\n"
   ]
  },
  {
   "cell_type": "code",
   "execution_count": null,
   "id": "e67289d6-5618-4c91-b0b4-b90452dfaab1",
   "metadata": {},
   "outputs": [],
   "source": []
  }
 ],
 "metadata": {
  "kernelspec": {
   "display_name": "Python 3 (ipykernel)",
   "language": "python",
   "name": "python3"
  },
  "language_info": {
   "codemirror_mode": {
    "name": "ipython",
    "version": 3
   },
   "file_extension": ".py",
   "mimetype": "text/x-python",
   "name": "python",
   "nbconvert_exporter": "python",
   "pygments_lexer": "ipython3",
   "version": "3.11.7"
  }
 },
 "nbformat": 4,
 "nbformat_minor": 5
}
