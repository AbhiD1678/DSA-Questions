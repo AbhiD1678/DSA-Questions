{
 "cells": [
  {
   "cell_type": "raw",
   "id": "8a6a5d1e-499a-41e2-a77a-9542a68c8d1f",
   "metadata": {},
   "source": [
    "Given a doubly linked list of n elements. Your task is to reverse the doubly linked list in-place.\n",
    "\n",
    "Example 1:\n",
    "\n",
    "Input:\n",
    "LinkedList: 3 <--> 4 <--> 5\n",
    "Output: 5 4 3\n",
    "Example 2:\n",
    "\n",
    "Input:\n",
    "LinkedList: 75 <--> 122 <--> 59 <--> 196\n",
    "Output: 196 59 122 75\n",
    "Your Task:\n",
    "Your task is to complete the given function reverseDLL(), which takes head reference as argument and this function should reverse the elements such that the tail becomes the new head and all pointers are pointing in the right order. You need to return the new head of the reversed list. The printing and verification is done by the driver code.\n",
    "\n",
    "Expected Time Complexity: O(n).\n",
    "Expected Auxiliary Space: O(1).\n",
    "\n",
    "Constraints:\n",
    "1 <= number of nodes <= 104\n",
    "0 <= value of nodes <= 104"
   ]
  },
  {
   "cell_type": "code",
   "execution_count": 1,
   "id": "ebc22637-9b1a-4aa5-9a03-fd13a1d1a842",
   "metadata": {},
   "outputs": [],
   "source": [
    "'''\n",
    "class Node: \n",
    "    def __init__(self, data): \n",
    "        self.data = data  \n",
    "        self.next = None\n",
    "        self.prev = None\n",
    "'''\n",
    "\n",
    "class Solution:\n",
    "    def reverseDLL(self, head):\n",
    "        #return head after reversing\n",
    "        if head==None or head.next==None:\n",
    "            return head\n",
    "        curr=head\n",
    "        prev=None\n",
    "        while curr!=None:\n",
    "            prev=curr\n",
    "            curr.next,curr.prev=curr.prev,curr.next\n",
    "            curr=curr.prev\n",
    "        return prev"
   ]
  },
  {
   "cell_type": "code",
   "execution_count": null,
   "id": "06f80d9c-9859-49f1-bad1-044fcd4a81a6",
   "metadata": {},
   "outputs": [],
   "source": []
  }
 ],
 "metadata": {
  "kernelspec": {
   "display_name": "Python 3 (ipykernel)",
   "language": "python",
   "name": "python3"
  },
  "language_info": {
   "codemirror_mode": {
    "name": "ipython",
    "version": 3
   },
   "file_extension": ".py",
   "mimetype": "text/x-python",
   "name": "python",
   "nbconvert_exporter": "python",
   "pygments_lexer": "ipython3",
   "version": "3.11.7"
  }
 },
 "nbformat": 4,
 "nbformat_minor": 5
}
