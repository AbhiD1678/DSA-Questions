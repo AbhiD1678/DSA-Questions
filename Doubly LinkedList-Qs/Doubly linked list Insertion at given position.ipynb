{
 "cells": [
  {
   "cell_type": "raw",
   "id": "06159c87",
   "metadata": {},
   "source": [
    "Given a doubly-linked list, a position p, and an integer x. The task is to add a new node with value x at the position just after pth node in the doubly linked list.\n",
    "\n",
    "Example 1:\n",
    "\n",
    "Input:\n",
    "LinkedList: 2<->4<->5\n",
    "p = 2, x = 6 \n",
    "Output: 2 4 5 6\n",
    "Explanation: p = 2, and x = 6. So, 6 is\n",
    "inserted after p, i.e, at position 3\n",
    "(0-based indexing).\n",
    "Example 2:\n",
    "\n",
    "Input:\n",
    "LinkedList: 1<->2<->3<->4\n",
    "p = 0, x = 44\n",
    "Output: 1 44 2 3 4\n",
    "Explanation: p = 0, and x = 44 . So, 44\n",
    "is inserted after p, i.e, at position 1\n",
    "(0-based indexing).\n",
    "Your Task:\n",
    "The task is to complete the function addNode() which head reference, position and data to be inserted as the arguments, with no return type.\n",
    "\n",
    "Expected Time Complexity : O(N)\n",
    "Expected Auxilliary Space : O(1)\n",
    "\n",
    "Constraints:\n",
    "1 <= N <= 104\n",
    "0 <= p < N\n",
    "\n",
    " "
   ]
  },
  {
   "cell_type": "code",
   "execution_count": 1,
   "id": "27738468",
   "metadata": {},
   "outputs": [],
   "source": [
    "\n",
    "'''\n",
    "class Node:\n",
    "\tdef __init__(self, data):\n",
    "\t\tself.data = data\n",
    "\t\tself.next = None\n",
    "\t\tself.prev = None\n",
    "\n",
    "'''\n",
    "#Function to insert a new node at given position in doubly linked list.\n",
    "def addNode(head, p, data):\n",
    "    # Code here\n",
    "    curr=head\n",
    "    temp=Node(data)\n",
    "    for i in range(p):\n",
    "        curr=curr.next\n",
    "    temp.next=curr.next\n",
    "    curr.next=temp\n",
    "    temp.prev=curr\n",
    "    "
   ]
  },
  {
   "cell_type": "code",
   "execution_count": null,
   "id": "26ea9afd",
   "metadata": {},
   "outputs": [],
   "source": []
  }
 ],
 "metadata": {
  "kernelspec": {
   "display_name": "Python 3 (ipykernel)",
   "language": "python",
   "name": "python3"
  },
  "language_info": {
   "codemirror_mode": {
    "name": "ipython",
    "version": 3
   },
   "file_extension": ".py",
   "mimetype": "text/x-python",
   "name": "python",
   "nbconvert_exporter": "python",
   "pygments_lexer": "ipython3",
   "version": "3.11.7"
  }
 },
 "nbformat": 4,
 "nbformat_minor": 5
}
