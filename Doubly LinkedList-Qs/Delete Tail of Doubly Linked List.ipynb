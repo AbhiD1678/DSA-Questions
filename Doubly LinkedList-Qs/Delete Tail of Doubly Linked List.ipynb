{
 "cells": [
  {
   "cell_type": "raw",
   "id": "2885ba5a-3a80-4a63-bde1-7ba773db9466",
   "metadata": {},
   "source": [
    "Given a doubly linked list of size n, you have to delete the tail (last element) in the linked list.\n",
    "\n",
    "Example 1:\n",
    "\n",
    "Input:\n",
    "LinkedList: 1<-->2\n",
    "Output:\n",
    "1\n",
    "1\n",
    "Example 2:\n",
    "\n",
    "Input:\n",
    "LinkedList: 2<-->5<-->7<-->8<-->99<-->100\n",
    "Output:\n",
    "2 5 7 8 99\n",
    "99 8 7 5 2\n",
    "Your Task:\n",
    "\n",
    "The task is to complete the function deleteTail() which takes head reference and returns reference to the head node of the modifies list, which is then used to display the list. (The driver's code print the modified list twice, once forward and once backward)\n",
    "\n",
    "Expected Time Complexity: O(n).\n",
    "Expected Auxiliary Space: O(1).\n",
    "\n",
    "Constraints:\n",
    "2 <= number of nodes <= 103"
   ]
  },
  {
   "cell_type": "code",
   "execution_count": 2,
   "id": "15c33468-2389-4e6b-a54e-5df75664803f",
   "metadata": {},
   "outputs": [],
   "source": [
    "def deleteTail(head):\n",
    "    #code here\n",
    "    if head==None:\n",
    "        return head\n",
    "    if head.next==None:\n",
    "        return head.next\n",
    "    curr=head\n",
    "    while curr.next.next!=None:\n",
    "        curr=curr.next\n",
    "    curr.next=None\n",
    "    return head"
   ]
  },
  {
   "cell_type": "code",
   "execution_count": null,
   "id": "0d61a082-938c-4ac1-b00f-c8bb8d379854",
   "metadata": {},
   "outputs": [],
   "source": []
  }
 ],
 "metadata": {
  "kernelspec": {
   "display_name": "Python 3 (ipykernel)",
   "language": "python",
   "name": "python3"
  },
  "language_info": {
   "codemirror_mode": {
    "name": "ipython",
    "version": 3
   },
   "file_extension": ".py",
   "mimetype": "text/x-python",
   "name": "python",
   "nbconvert_exporter": "python",
   "pygments_lexer": "ipython3",
   "version": "3.11.7"
  }
 },
 "nbformat": 4,
 "nbformat_minor": 5
}
