{
 "cells": [
  {
   "cell_type": "code",
   "execution_count": 1,
   "id": "9a0f7a61",
   "metadata": {},
   "outputs": [],
   "source": [
    "def InsertEnd(head,x):\n",
    "    temp=Node(x)\n",
    "    if head==None:\n",
    "        return temp\n",
    "    curr=head\n",
    "    while curr.next!=None:\n",
    "        curr=curr.next\n",
    "    curr.next=temp\n",
    "    temp.prev=curr\n",
    "    return head"
   ]
  },
  {
   "cell_type": "code",
   "execution_count": 2,
   "id": "9ac232f4",
   "metadata": {},
   "outputs": [
    {
     "name": "stdout",
     "output_type": "stream",
     "text": [
      "10 20 30 \n",
      "10 20 30 40 \n"
     ]
    }
   ],
   "source": [
    "class Node:\n",
    "\n",
    "    def __init__(self, data):\n",
    "        self.data = data\n",
    "        self.prev = None\n",
    "        self.next = None\n",
    "\n",
    "\n",
    "def insertEnd(head,x):\n",
    "\n",
    "    temp = Node(x)\n",
    "\n",
    "    if head == None:\n",
    "        return temp\n",
    "\n",
    "    else:\n",
    "\n",
    "        curr = head\n",
    "        while curr.next != None:\n",
    "            curr = curr.next\n",
    "\n",
    "        curr.next = temp\n",
    "        temp.prev = curr\n",
    "\n",
    "        return head\n",
    "\n",
    "\n",
    "def printDll(head):\n",
    "    curr = head\n",
    "    while curr != None:\n",
    "        print(curr.data, end=\" \")\n",
    "        curr = curr.next\n",
    "    print()\n",
    "\n",
    "\n",
    "head = Node(10)\n",
    "temp1 = Node(20)\n",
    "temp2 = Node(30)\n",
    "\n",
    "head.next = temp1\n",
    "temp1.prev = head\n",
    "\n",
    "temp1.next = temp2\n",
    "temp2.prev = temp1\n",
    "\n",
    "printDll(head)\n",
    "\n",
    "head = insertEnd(head, 40)\n",
    "\n",
    "printDll(head)\n"
   ]
  },
  {
   "cell_type": "code",
   "execution_count": null,
   "id": "47d18d5b",
   "metadata": {},
   "outputs": [],
   "source": []
  }
 ],
 "metadata": {
  "kernelspec": {
   "display_name": "Python 3 (ipykernel)",
   "language": "python",
   "name": "python3"
  },
  "language_info": {
   "codemirror_mode": {
    "name": "ipython",
    "version": 3
   },
   "file_extension": ".py",
   "mimetype": "text/x-python",
   "name": "python",
   "nbconvert_exporter": "python",
   "pygments_lexer": "ipython3",
   "version": "3.11.7"
  }
 },
 "nbformat": 4,
 "nbformat_minor": 5
}
