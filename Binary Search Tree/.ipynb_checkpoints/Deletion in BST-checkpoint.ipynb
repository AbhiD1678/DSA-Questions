{
 "cells": [
  {
   "cell_type": "code",
   "execution_count": 2,
   "id": "aeaf7cfd-9f39-48d3-add0-922a91adaadf",
   "metadata": {},
   "outputs": [],
   "source": [
    "def DeleteBST(root,key):\n",
    "    if root==None:\n",
    "        return\n",
    "    if root.key>key:\n",
    "        root.left=DeleteBST(root.left,key)\n",
    "    elif root.key<key:\n",
    "        root.right=DeleteBST(root.right,key)\n",
    "    else:# when key==the value in tree\n",
    "        if root.left is None:\n",
    "            return root.right\n",
    "        elif root.right is None:\n",
    "            return root.left\n",
    "        else:\n",
    "            succ=GetSuccessor(root.right,key)\n",
    "            root.key=succ\n",
    "            root.right=DeleteBST(root.right,key)\n",
    "\n",
    "    return root\n",
    "\n",
    "\n",
    "def GetSuccessor(curr,key):\n",
    "    while curr.left!=None:\n",
    "        curr=curr.left\n",
    "    return curr.key\n",
    "\n",
    "\n",
    "# Time complexity:O(h)\n",
    "#Auxiliary Space:O(h)\n",
    "\n",
    "# Recursive solution"
   ]
  },
  {
   "cell_type": "code",
   "execution_count": null,
   "id": "d04eea5f-8d90-4971-b6d2-7490e12288b6",
   "metadata": {},
   "outputs": [],
   "source": []
  }
 ],
 "metadata": {
  "kernelspec": {
   "display_name": "Python 3 (ipykernel)",
   "language": "python",
   "name": "python3"
  },
  "language_info": {
   "codemirror_mode": {
    "name": "ipython",
    "version": 3
   },
   "file_extension": ".py",
   "mimetype": "text/x-python",
   "name": "python",
   "nbconvert_exporter": "python",
   "pygments_lexer": "ipython3",
   "version": "3.12.0"
  }
 },
 "nbformat": 4,
 "nbformat_minor": 5
}
