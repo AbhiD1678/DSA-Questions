{
 "cells": [
  {
   "cell_type": "code",
   "execution_count": 3,
   "id": "8b3868be-1cf8-4954-96cb-df2e53ac9eae",
   "metadata": {},
   "outputs": [],
   "source": [
    "class Node:\n",
    "    def __init__(self,key):\n",
    "        self.key=key\n",
    "        self.left=None\n",
    "        self.right=None\n",
    "\n",
    "def InsertBST(root,key):\n",
    "    if root is None:\n",
    "        return Node(key)\n",
    "    if root.key==key:\n",
    "        return root\n",
    "    elif root.key>key:\n",
    "        root.left=InsertBST(root.left,key)\n",
    "    elif root.key<key:\n",
    "        root.right=InsertBST(root.right,key)\n",
    "    return root\n",
    "\n",
    "# Time complexity:O(h)\n",
    "#Auxiliary Space:O(h)"
   ]
  },
  {
   "cell_type": "code",
   "execution_count": 8,
   "id": "19a52a5e-c4bc-4ed7-b3d8-76dab53fcd2c",
   "metadata": {},
   "outputs": [
    {
     "name": "stdout",
     "output_type": "stream",
     "text": [
      "10\n",
      "5\n"
     ]
    }
   ],
   "source": [
    "# Driver code\n",
    "\n",
    "root=None\n",
    "root=InsertBST(root,10)\n",
    "root=InsertBST(root,20)\n",
    "root=InsertBST(root,50)\n",
    "root=InsertBST(root,30)\n",
    "root=InsertBST(root,5)\n",
    "print(root.key)\n",
    "print(root.left.key)"
   ]
  },
  {
   "cell_type": "code",
   "execution_count": null,
   "id": "36809c77-a84f-40bc-b67b-1193b90c212c",
   "metadata": {},
   "outputs": [],
   "source": []
  }
 ],
 "metadata": {
  "kernelspec": {
   "display_name": "Python 3 (ipykernel)",
   "language": "python",
   "name": "python3"
  },
  "language_info": {
   "codemirror_mode": {
    "name": "ipython",
    "version": 3
   },
   "file_extension": ".py",
   "mimetype": "text/x-python",
   "name": "python",
   "nbconvert_exporter": "python",
   "pygments_lexer": "ipython3",
   "version": "3.12.0"
  }
 },
 "nbformat": 4,
 "nbformat_minor": 5
}
