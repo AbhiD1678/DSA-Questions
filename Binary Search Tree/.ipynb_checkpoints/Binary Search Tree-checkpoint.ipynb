{
 "cells": [
  {
   "cell_type": "markdown",
   "id": "33e4b86a-6b11-4cc3-8566-ff28abaf0394",
   "metadata": {},
   "source": [
    " For every node,keys in left side are smaller and keys in right side are greater"
   ]
  },
  {
   "cell_type": "markdown",
   "id": "e3c05ca0-ac6e-4cf0-98ae-3d0513233ae0",
   "metadata": {},
   "source": [
    "All Keys are typically considered as distinct"
   ]
  },
  {
   "cell_type": "markdown",
   "id": "bbf1ea6c-b146-4f95-9193-2afd614b7808",
   "metadata": {},
   "source": [
    "Like Linked list,it is a linked data structure but then like linked list it is not cache friendly as the values are stored in different location"
   ]
  },
  {
   "cell_type": "code",
   "execution_count": null,
   "id": "7480780f-2944-4779-b870-7a1029b2a4c5",
   "metadata": {},
   "outputs": [],
   "source": []
  }
 ],
 "metadata": {
  "kernelspec": {
   "display_name": "Python 3 (ipykernel)",
   "language": "python",
   "name": "python3"
  },
  "language_info": {
   "codemirror_mode": {
    "name": "ipython",
    "version": 3
   },
   "file_extension": ".py",
   "mimetype": "text/x-python",
   "name": "python",
   "nbconvert_exporter": "python",
   "pygments_lexer": "ipython3",
   "version": "3.12.0"
  }
 },
 "nbformat": 4,
 "nbformat_minor": 5
}
