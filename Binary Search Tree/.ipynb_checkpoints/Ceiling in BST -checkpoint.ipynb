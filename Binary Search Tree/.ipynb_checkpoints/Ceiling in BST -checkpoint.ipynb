{
 "cells": [
  {
   "cell_type": "code",
   "execution_count": 1,
   "id": "8c0d6669-0d71-404a-9ec1-4c4b23e9d1d2",
   "metadata": {},
   "outputs": [],
   "source": [
    "# Ceiling is a value that is equal to or closest greater value to the key value"
   ]
  },
  {
   "cell_type": "code",
   "execution_count": 3,
   "id": "bd87c47b-4dc9-461a-b2a5-d25d1125a330",
   "metadata": {},
   "outputs": [],
   "source": [
    "def CeilingBST(root,key):\n",
    "    res=None\n",
    "    while root!=None:\n",
    "        if root.key==key:\n",
    "            return root\n",
    "        elif root.key>key:\n",
    "            res=root.key\n",
    "            root=root.left\n",
    "        elif root.key<key:\n",
    "            root=root.right\n",
    "    return res\n",
    "\n",
    "# Time complexity:O(h)\n",
    "# Auxiliary Space:O(1)"
   ]
  },
  {
   "cell_type": "code",
   "execution_count": null,
   "id": "348adfaa-653b-4c4e-a919-dd22e9feeb72",
   "metadata": {},
   "outputs": [],
   "source": []
  }
 ],
 "metadata": {
  "kernelspec": {
   "display_name": "Python 3 (ipykernel)",
   "language": "python",
   "name": "python3"
  },
  "language_info": {
   "codemirror_mode": {
    "name": "ipython",
    "version": 3
   },
   "file_extension": ".py",
   "mimetype": "text/x-python",
   "name": "python",
   "nbconvert_exporter": "python",
   "pygments_lexer": "ipython3",
   "version": "3.12.0"
  }
 },
 "nbformat": 4,
 "nbformat_minor": 5
}
