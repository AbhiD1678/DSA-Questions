{
 "cells": [
  {
   "cell_type": "code",
   "execution_count": 1,
   "id": "9bf8b6ff-4b8a-4c01-8e61-2418b126e01d",
   "metadata": {},
   "outputs": [],
   "source": [
    "# Floor means finding an equal of smaller value of the given key"
   ]
  },
  {
   "cell_type": "code",
   "execution_count": 4,
   "id": "f9fa3bb4-a528-43ad-b311-87f514642b21",
   "metadata": {},
   "outputs": [],
   "source": [
    "def FloorBST(root,key):\n",
    "    floor=None\n",
    "    while root!=None:\n",
    "        if root.key==key:\n",
    "            return root\n",
    "        elif root.key>key:\n",
    "            root=root.left\n",
    "        else:\n",
    "            floor=root.key\n",
    "            root=root.right\n",
    "\n",
    "    return floor\n",
    "\n",
    "#Time complexity is O(h)\n",
    "#Auxiliary Space is O(1)"
   ]
  },
  {
   "cell_type": "code",
   "execution_count": null,
   "id": "3e3a90fb-89ea-405d-88e0-4005778b3b32",
   "metadata": {},
   "outputs": [],
   "source": []
  }
 ],
 "metadata": {
  "kernelspec": {
   "display_name": "Python 3 (ipykernel)",
   "language": "python",
   "name": "python3"
  },
  "language_info": {
   "codemirror_mode": {
    "name": "ipython",
    "version": 3
   },
   "file_extension": ".py",
   "mimetype": "text/x-python",
   "name": "python",
   "nbconvert_exporter": "python",
   "pygments_lexer": "ipython3",
   "version": "3.12.0"
  }
 },
 "nbformat": 4,
 "nbformat_minor": 5
}
