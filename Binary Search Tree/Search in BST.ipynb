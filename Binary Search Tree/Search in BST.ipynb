{
 "cells": [
  {
   "cell_type": "code",
   "execution_count": 4,
   "id": "f9e8dd12-fd12-4211-9834-3f53963769ba",
   "metadata": {},
   "outputs": [],
   "source": [
    "def SeachInBST(root,key):\n",
    "    if root is None:\n",
    "        return False\n",
    "    elif root.key==key:\n",
    "        return True\n",
    "    elif root.key>key:\n",
    "        return SearchInBST(root.left,key)\n",
    "    elif root.key<key:\n",
    "        return SearchInBST(root.right,key)\n",
    "\n",
    "# Recursive Solution\n",
    "# Time complexity:O(h)\n",
    "# Auxiliary Space:O(h)"
   ]
  },
  {
   "cell_type": "code",
   "execution_count": 5,
   "id": "34e97d45-d668-4141-a32b-250623bca8ad",
   "metadata": {},
   "outputs": [],
   "source": [
    "def SearchBST(root,key):\n",
    "    while root!=None:\n",
    "        if root.key==key:\n",
    "            return True\n",
    "        elif root.key>key:\n",
    "            root=root.left\n",
    "        else:\n",
    "            root=root.right\n",
    "    return False\n",
    "\n",
    "# Iterative Approach\n",
    "# Time complexity:O(h)\n",
    "# Auxiliary Space:O(1) as no recursive calls are made"
   ]
  },
  {
   "cell_type": "code",
   "execution_count": null,
   "id": "f8844e89-9393-492c-963d-0b306965b491",
   "metadata": {},
   "outputs": [],
   "source": []
  }
 ],
 "metadata": {
  "kernelspec": {
   "display_name": "Python 3 (ipykernel)",
   "language": "python",
   "name": "python3"
  },
  "language_info": {
   "codemirror_mode": {
    "name": "ipython",
    "version": 3
   },
   "file_extension": ".py",
   "mimetype": "text/x-python",
   "name": "python",
   "nbconvert_exporter": "python",
   "pygments_lexer": "ipython3",
   "version": "3.12.0"
  }
 },
 "nbformat": 4,
 "nbformat_minor": 5
}
