{
 "cells": [
  {
   "cell_type": "code",
   "execution_count": 1,
   "id": "95f0c55a",
   "metadata": {},
   "outputs": [],
   "source": [
    "from math import lcm\n",
    "\n",
    "def Lcm(a,b):\n",
    "    return lcm(a,b)"
   ]
  },
  {
   "cell_type": "code",
   "execution_count": 2,
   "id": "30d3bf5e",
   "metadata": {},
   "outputs": [
    {
     "data": {
      "text/plain": [
       "6"
      ]
     },
     "execution_count": 2,
     "metadata": {},
     "output_type": "execute_result"
    }
   ],
   "source": [
    "Lcm(2,3)"
   ]
  },
  {
   "cell_type": "code",
   "execution_count": 3,
   "id": "c51b30a8",
   "metadata": {},
   "outputs": [],
   "source": [
    "def lcm(a,b):\n",
    "    res=max(a,b)\n",
    "    \n",
    "    while True:\n",
    "        if res%a==0 and res%b==0:\n",
    "            return res\n",
    "        res+=1\n",
    "        \n",
    "    "
   ]
  },
  {
   "cell_type": "code",
   "execution_count": 5,
   "id": "81269dff",
   "metadata": {},
   "outputs": [
    {
     "data": {
      "text/plain": [
       "8"
      ]
     },
     "execution_count": 5,
     "metadata": {},
     "output_type": "execute_result"
    }
   ],
   "source": [
    "lcm(4,8)"
   ]
  },
  {
   "cell_type": "markdown",
   "id": "c8794776",
   "metadata": {},
   "source": [
    "a*b=gcd(a,b)*lcm(a,b)"
   ]
  },
  {
   "cell_type": "code",
   "execution_count": 6,
   "id": "b0ca1f63",
   "metadata": {},
   "outputs": [],
   "source": [
    "def gcd(a,b):\n",
    "    if b==0:\n",
    "        return a\n",
    "    else:\n",
    "        return gcd(b,a%b)\n",
    "def lcm(a,b):\n",
    "    res=max(a,b)\n",
    "    \n",
    "    while True:\n",
    "        if res%a==0 and res%b==0:\n",
    "            return res\n",
    "        \n",
    "        res+=1\n",
    "\n",
    "def lcm1(a,b):\n",
    "    return a*b/(gcd(a,b))"
   ]
  },
  {
   "cell_type": "code",
   "execution_count": 7,
   "id": "82ab8b6d",
   "metadata": {},
   "outputs": [
    {
     "data": {
      "text/plain": [
       "8.0"
      ]
     },
     "execution_count": 7,
     "metadata": {},
     "output_type": "execute_result"
    }
   ],
   "source": [
    "lcm1(4,8)"
   ]
  },
  {
   "cell_type": "code",
   "execution_count": 8,
   "id": "e8045996",
   "metadata": {},
   "outputs": [
    {
     "data": {
      "text/plain": [
       "60.0"
      ]
     },
     "execution_count": 8,
     "metadata": {},
     "output_type": "execute_result"
    }
   ],
   "source": [
    "lcm1(12,15)"
   ]
  },
  {
   "cell_type": "code",
   "execution_count": null,
   "id": "3d09d93f",
   "metadata": {},
   "outputs": [],
   "source": []
  }
 ],
 "metadata": {
  "kernelspec": {
   "display_name": "Python 3 (ipykernel)",
   "language": "python",
   "name": "python3"
  },
  "language_info": {
   "codemirror_mode": {
    "name": "ipython",
    "version": 3
   },
   "file_extension": ".py",
   "mimetype": "text/x-python",
   "name": "python",
   "nbconvert_exporter": "python",
   "pygments_lexer": "ipython3",
   "version": "3.11.4"
  }
 },
 "nbformat": 4,
 "nbformat_minor": 5
}
