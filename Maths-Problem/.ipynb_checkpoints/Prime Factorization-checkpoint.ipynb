{
 "cells": [
  {
   "cell_type": "code",
   "execution_count": 5,
   "id": "c1bf8c8d",
   "metadata": {},
   "outputs": [
    {
     "name": "stdout",
     "output_type": "stream",
     "text": [
      "2\n",
      "2\n",
      "5\n",
      "5\n"
     ]
    }
   ],
   "source": [
    "def isPrime(x):\n",
    "    for i in range(2,x):\n",
    "        if x%i==0:\n",
    "            return False\n",
    "    return True\n",
    "    \n",
    "def CountPFactors(n):\n",
    "    for i in range(2,n):\n",
    "        if isPrime(i):\n",
    "            a=i\n",
    "            while n%a==0:\n",
    "                print(i)\n",
    "                a=a*i\n",
    "CountPFactors(100)"
   ]
  },
  {
   "cell_type": "code",
   "execution_count": 6,
   "id": "67561382",
   "metadata": {},
   "outputs": [
    {
     "data": {
      "text/plain": [
       "True"
      ]
     },
     "execution_count": 6,
     "metadata": {},
     "output_type": "execute_result"
    }
   ],
   "source": [
    "isPrime(2)"
   ]
  },
  {
   "cell_type": "code",
   "execution_count": 7,
   "id": "64ed1997",
   "metadata": {},
   "outputs": [
    {
     "name": "stdout",
     "output_type": "stream",
     "text": [
      "2\n",
      "5\n",
      "5\n",
      "401\n"
     ]
    }
   ],
   "source": [
    "CountPFactors(20050)"
   ]
  },
  {
   "cell_type": "code",
   "execution_count": 8,
   "id": "9028d8a9",
   "metadata": {},
   "outputs": [
    {
     "data": {
      "text/plain": [
       "True"
      ]
     },
     "execution_count": 8,
     "metadata": {},
     "output_type": "execute_result"
    }
   ],
   "source": [
    "isPrime(401)"
   ]
  },
  {
   "cell_type": "code",
   "execution_count": null,
   "id": "9f62af2a",
   "metadata": {},
   "outputs": [],
   "source": []
  }
 ],
 "metadata": {
  "kernelspec": {
   "display_name": "Python 3 (ipykernel)",
   "language": "python",
   "name": "python3"
  },
  "language_info": {
   "codemirror_mode": {
    "name": "ipython",
    "version": 3
   },
   "file_extension": ".py",
   "mimetype": "text/x-python",
   "name": "python",
   "nbconvert_exporter": "python",
   "pygments_lexer": "ipython3",
   "version": "3.11.4"
  }
 },
 "nbformat": 4,
 "nbformat_minor": 5
}
