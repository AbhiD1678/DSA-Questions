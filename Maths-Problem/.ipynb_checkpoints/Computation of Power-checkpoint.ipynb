{
 "cells": [
  {
   "cell_type": "code",
   "execution_count": 7,
   "id": "3401e608",
   "metadata": {},
   "outputs": [],
   "source": [
    "#Naive Solution\n",
    "\n",
    "def Cop(x,n):\n",
    "    res=1\n",
    "    for i in range(n):\n",
    "        res=res*x\n",
    "    return res\n"
   ]
  },
  {
   "cell_type": "code",
   "execution_count": 8,
   "id": "c0e71a2e",
   "metadata": {},
   "outputs": [
    {
     "data": {
      "text/plain": [
       "8"
      ]
     },
     "execution_count": 8,
     "metadata": {},
     "output_type": "execute_result"
    }
   ],
   "source": [
    "Cop(2,3)"
   ]
  },
  {
   "cell_type": "markdown",
   "id": "8fc96b24",
   "metadata": {},
   "source": [
    "If n is even:\n",
    "temp*temp\n",
    "where temp=power(x,n/2)\n",
    "\n",
    "If n is odd:\n",
    "power(x,n-1)*x\n",
    "\n",
    "Time complexity:O(logn)\n",
    "Space complexity:O(logn)"
   ]
  },
  {
   "cell_type": "code",
   "execution_count": 7,
   "id": "ae1e1a69",
   "metadata": {},
   "outputs": [
    {
     "data": {
      "text/plain": [
       "8"
      ]
     },
     "execution_count": 7,
     "metadata": {},
     "output_type": "execute_result"
    }
   ],
   "source": [
    "def power(x,n):\n",
    "    if n==0:\n",
    "        return 1\n",
    "    temp=power(x,n//2)\n",
    "    temp=temp*temp\n",
    "    \n",
    "    if n%2==0:\n",
    "        return temp\n",
    "    else:\n",
    "        return temp*x\n",
    "\n",
    "power(2,3)"
   ]
  },
  {
   "cell_type": "markdown",
   "id": "cb8e08bb",
   "metadata": {},
   "source": [
    "Using recursion\n",
    "Time complexity:O(n)\n",
    "Space Complexity:O(1)"
   ]
  },
  {
   "cell_type": "code",
   "execution_count": 9,
   "id": "42743d48",
   "metadata": {},
   "outputs": [],
   "source": [
    "def power(x,n):\n",
    "    if n==0:\n",
    "        return 1\n",
    "    if x==0:\n",
    "        return 0\n",
    "    return x*power(x,n-1)"
   ]
  },
  {
   "cell_type": "code",
   "execution_count": 10,
   "id": "fcc9efae",
   "metadata": {},
   "outputs": [
    {
     "data": {
      "text/plain": [
       "8"
      ]
     },
     "execution_count": 10,
     "metadata": {},
     "output_type": "execute_result"
    }
   ],
   "source": [
    "power(2,3)"
   ]
  },
  {
   "cell_type": "code",
   "execution_count": null,
   "id": "c75d0632",
   "metadata": {},
   "outputs": [],
   "source": []
  }
 ],
 "metadata": {
  "kernelspec": {
   "display_name": "Python 3 (ipykernel)",
   "language": "python",
   "name": "python3"
  },
  "language_info": {
   "codemirror_mode": {
    "name": "ipython",
    "version": 3
   },
   "file_extension": ".py",
   "mimetype": "text/x-python",
   "name": "python",
   "nbconvert_exporter": "python",
   "pygments_lexer": "ipython3",
   "version": "3.11.4"
  }
 },
 "nbformat": 4,
 "nbformat_minor": 5
}
