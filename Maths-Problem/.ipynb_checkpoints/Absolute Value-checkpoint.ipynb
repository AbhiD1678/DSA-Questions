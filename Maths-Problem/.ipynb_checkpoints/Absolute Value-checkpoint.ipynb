{
 "cells": [
  {
   "cell_type": "code",
   "execution_count": 1,
   "id": "2b801af9",
   "metadata": {},
   "outputs": [
    {
     "data": {
      "text/plain": [
       "\"\\nYou are given an interger I, find the absolute value of the interger I.\\n\\n \\n\\nExample 1:\\n\\nInput:\\nI = -32\\nOutput: 32\\nExplanation: \\nThe absolute value of -32 is 32.\\n \\n\\nExample 2:\\n\\nInput:\\nI = 45\\nOutput: 45\\nExplanation: \\nThe absolute value of 45 is 45 itself.\\n \\n\\nYour Task:\\nYou don't need to read input or print anything. Your task is to complete the function absolute() which takes an integer I as input parameter and return the absolute value of I.\\n\\n \\n\\nExpected Time Complexity: O(1)\\nExpected Auxiliary Space : O(1)\\n\""
      ]
     },
     "execution_count": 1,
     "metadata": {},
     "output_type": "execute_result"
    }
   ],
   "source": [
    "'''\n",
    "You are given an interger I, find the absolute value of the interger I.\n",
    "\n",
    " \n",
    "\n",
    "Example 1:\n",
    "\n",
    "Input:\n",
    "I = -32\n",
    "Output: 32\n",
    "Explanation: \n",
    "The absolute value of -32 is 32.\n",
    " \n",
    "\n",
    "Example 2:\n",
    "\n",
    "Input:\n",
    "I = 45\n",
    "Output: 45\n",
    "Explanation: \n",
    "The absolute value of 45 is 45 itself.\n",
    " \n",
    "\n",
    "Your Task:\n",
    "You don't need to read input or print anything. Your task is to complete the function absolute() which takes an integer I as input parameter and return the absolute value of I.\n",
    "\n",
    " \n",
    "\n",
    "Expected Time Complexity: O(1)\n",
    "Expected Auxiliary Space : O(1)\n",
    "'''"
   ]
  },
  {
   "cell_type": "code",
   "execution_count": 2,
   "id": "cc12bcc7",
   "metadata": {},
   "outputs": [],
   "source": [
    "class Solution:\n",
    "    def absolute(self,I):\n",
    "        # code here\n",
    "        return abs(I)\n"
   ]
  },
  {
   "cell_type": "code",
   "execution_count": null,
   "id": "eca02814",
   "metadata": {},
   "outputs": [],
   "source": []
  }
 ],
 "metadata": {
  "kernelspec": {
   "display_name": "Python 3 (ipykernel)",
   "language": "python",
   "name": "python3"
  },
  "language_info": {
   "codemirror_mode": {
    "name": "ipython",
    "version": 3
   },
   "file_extension": ".py",
   "mimetype": "text/x-python",
   "name": "python",
   "nbconvert_exporter": "python",
   "pygments_lexer": "ipython3",
   "version": "3.11.4"
  }
 },
 "nbformat": 4,
 "nbformat_minor": 5
}
