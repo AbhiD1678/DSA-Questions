{
 "cells": [
  {
   "cell_type": "markdown",
   "id": "a63c08b0",
   "metadata": {},
   "source": [
    "Using Recursion"
   ]
  },
  {
   "cell_type": "code",
   "execution_count": 2,
   "id": "06ce2983",
   "metadata": {},
   "outputs": [
    {
     "data": {
      "text/plain": [
       "6"
      ]
     },
     "execution_count": 2,
     "metadata": {},
     "output_type": "execute_result"
    }
   ],
   "source": [
    "def Factorial(n):\n",
    "    return 1 if n==1 or n==0 else Factorial(n-1)*n\n",
    "Factorial(3)"
   ]
  },
  {
   "cell_type": "markdown",
   "id": "9584a14e",
   "metadata": {},
   "source": [
    "Time Complexity: O(n)\n",
    "Auxiliary Space: O(n)"
   ]
  },
  {
   "cell_type": "markdown",
   "id": "502dd012",
   "metadata": {},
   "source": [
    "Using iteration"
   ]
  },
  {
   "cell_type": "code",
   "execution_count": 4,
   "id": "9f39fe34",
   "metadata": {},
   "outputs": [],
   "source": [
    "def Factorial2(n):\n",
    "    if n<0:\n",
    "        return 0\n",
    "    elif n==1 or n==0:\n",
    "        return 1\n",
    "    else:\n",
    "        fact=1\n",
    "        while n>1:\n",
    "            fact=fact*n\n",
    "            n=n-1\n",
    "    return fact"
   ]
  },
  {
   "cell_type": "markdown",
   "id": "63c8ea0a",
   "metadata": {},
   "source": [
    "Time Complexity: O(n)\n",
    "Auxiliary Space: O(1)"
   ]
  },
  {
   "cell_type": "code",
   "execution_count": 5,
   "id": "c141c846",
   "metadata": {},
   "outputs": [
    {
     "data": {
      "text/plain": [
       "24"
      ]
     },
     "execution_count": 5,
     "metadata": {},
     "output_type": "execute_result"
    }
   ],
   "source": [
    "Factorial2(4)"
   ]
  },
  {
   "cell_type": "code",
   "execution_count": null,
   "id": "22c42289",
   "metadata": {},
   "outputs": [],
   "source": []
  }
 ],
 "metadata": {
  "kernelspec": {
   "display_name": "Python 3 (ipykernel)",
   "language": "python",
   "name": "python3"
  },
  "language_info": {
   "codemirror_mode": {
    "name": "ipython",
    "version": 3
   },
   "file_extension": ".py",
   "mimetype": "text/x-python",
   "name": "python",
   "nbconvert_exporter": "python",
   "pygments_lexer": "ipython3",
   "version": "3.11.4"
  }
 },
 "nbformat": 4,
 "nbformat_minor": 5
}
