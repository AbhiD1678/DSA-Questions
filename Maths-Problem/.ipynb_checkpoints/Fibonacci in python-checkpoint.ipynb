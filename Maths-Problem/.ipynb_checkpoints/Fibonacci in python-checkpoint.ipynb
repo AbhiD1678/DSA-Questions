{
 "cells": [
  {
   "cell_type": "code",
   "execution_count": 7,
   "id": "c210ccd5",
   "metadata": {},
   "outputs": [
    {
     "name": "stdout",
     "output_type": "stream",
     "text": [
      "Enter the number of sequence:8\n",
      "The palindrome sequence is: \n",
      "0\n",
      "1\n",
      "1\n",
      "2\n",
      "3\n",
      "5\n",
      "8\n",
      "13\n"
     ]
    }
   ],
   "source": [
    "# Palindrome try\n",
    "\n",
    "arr1=[0,1]\n",
    "\n",
    "n=int(input('Enter the number of sequence:'))\n",
    "\n",
    "for i in range(n-2):\n",
    "    num=arr1[i]+arr1[i+1]\n",
    "    arr1.append(num)\n",
    "\n",
    "print('The fibonacci sequence is: ')\n",
    "for num in arr1:\n",
    "    print(num)"
   ]
  },
  {
   "cell_type": "code",
   "execution_count": null,
   "id": "e694abf1",
   "metadata": {},
   "outputs": [],
   "source": []
  },
  {
   "cell_type": "code",
   "execution_count": null,
   "id": "ccb6a910",
   "metadata": {},
   "outputs": [],
   "source": []
  }
 ],
 "metadata": {
  "kernelspec": {
   "display_name": "Python 3 (ipykernel)",
   "language": "python",
   "name": "python3"
  },
  "language_info": {
   "codemirror_mode": {
    "name": "ipython",
    "version": 3
   },
   "file_extension": ".py",
   "mimetype": "text/x-python",
   "name": "python",
   "nbconvert_exporter": "python",
   "pygments_lexer": "ipython3",
   "version": "3.11.4"
  }
 },
 "nbformat": 4,
 "nbformat_minor": 5
}
