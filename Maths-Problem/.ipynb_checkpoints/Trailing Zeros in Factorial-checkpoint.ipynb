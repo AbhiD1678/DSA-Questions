{
 "cells": [
  {
   "cell_type": "code",
   "execution_count": 1,
   "id": "115f23ab",
   "metadata": {},
   "outputs": [],
   "source": [
    "def TrailingZero(n):\n",
    "    count=0\n",
    "    i=5\n",
    "    while(n/i >=1):\n",
    "        count+=int(n/i)\n",
    "        i*=5\n",
    "    return count"
   ]
  },
  {
   "cell_type": "code",
   "execution_count": 2,
   "id": "79aba2c0",
   "metadata": {},
   "outputs": [
    {
     "data": {
      "text/plain": [
       "1"
      ]
     },
     "execution_count": 2,
     "metadata": {},
     "output_type": "execute_result"
    }
   ],
   "source": [
    "TrailingZero(5)"
   ]
  },
  {
   "cell_type": "code",
   "execution_count": 4,
   "id": "8ed2b30b",
   "metadata": {},
   "outputs": [
    {
     "data": {
      "text/plain": [
       "24"
      ]
     },
     "execution_count": 4,
     "metadata": {},
     "output_type": "execute_result"
    }
   ],
   "source": [
    "TrailingZero(100)"
   ]
  },
  {
   "cell_type": "markdown",
   "id": "18f4fdc4",
   "metadata": {},
   "source": [
    "Given an integer n, write a function that returns count of trailing zeroes in n!.  \n",
    "\n",
    "Examples :\n",
    "\n",
    "Input: n = 5\n",
    "Output: 1 \n",
    "Factorial of 5 is 120 which has one trailing 0.\n",
    "\n",
    "Input: n = 20\n",
    "Output: 4\n",
    "Factorial of 20 is 2432902008176640000 which has\n",
    "4 trailing zeroes.\n",
    "\n",
    "Input: n = 100\n",
    "Output: 24\n",
    "Trailing 0s in n! = Count of 5s in prime factors of n!\n",
    "                  = floor(n/5) + floor(n/25) + floor(n/125) + ...."
   ]
  },
  {
   "cell_type": "code",
   "execution_count": null,
   "id": "9a7c6fa0",
   "metadata": {},
   "outputs": [],
   "source": []
  }
 ],
 "metadata": {
  "kernelspec": {
   "display_name": "Python 3 (ipykernel)",
   "language": "python",
   "name": "python3"
  },
  "language_info": {
   "codemirror_mode": {
    "name": "ipython",
    "version": 3
   },
   "file_extension": ".py",
   "mimetype": "text/x-python",
   "name": "python",
   "nbconvert_exporter": "python",
   "pygments_lexer": "ipython3",
   "version": "3.11.4"
  }
 },
 "nbformat": 4,
 "nbformat_minor": 5
}
