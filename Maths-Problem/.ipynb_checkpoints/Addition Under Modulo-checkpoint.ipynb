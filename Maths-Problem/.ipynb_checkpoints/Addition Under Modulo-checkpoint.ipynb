{
 "cells": [
  {
   "cell_type": "markdown",
   "id": "724c7c83",
   "metadata": {},
   "source": [
    "Given two numbers a and b, find the sum of a and b. Since the sum can be very large, find the sum modulo 109+7.\n",
    "\n",
    " \n",
    "\n",
    "Example 1:\n",
    "\n",
    "Input:\n",
    "a = 9223372036854775807\n",
    "b = 9223372036854775807\n",
    "Output: 582344006\n",
    "Explanation: \n",
    "9223372036854775807 + 9223372036854775807 \n",
    "= 18446744073709551614.\n",
    "18446744073709551614 mod (109+7)\n",
    "= 582344006\n",
    " \n",
    "\n",
    "Example 2:\n",
    "\n",
    "Input:\n",
    "a = 1000000007\n",
    "b = 1000000007\n",
    "Output: 0\n",
    "Explanation: 1000000007 + 1000000007 =\n",
    "(2000000014) mod (109+7) = 0\n",
    " \n",
    "\n",
    "Your Task:\n",
    "You don't need to read input or print anything. Your task is to complete the function sumUnderModulo() that takes a and b as input parameters and returns sum of a and b under modulo 109+7.\n",
    "\n",
    " \n",
    "\n",
    "Expected Time Complexity : O(1)\n",
    "Expected Auxilliary Space :  O(1)\n",
    "\n",
    " "
   ]
  },
  {
   "cell_type": "code",
   "execution_count": 1,
   "id": "0c0b6372",
   "metadata": {},
   "outputs": [],
   "source": [
    "class Solution:\n",
    "    def sumUnderModulo(self,a,b):\n",
    "        # code here\n",
    "        return(a+b)%((10**9)+7)"
   ]
  },
  {
   "cell_type": "code",
   "execution_count": null,
   "id": "29a357d3",
   "metadata": {},
   "outputs": [],
   "source": []
  }
 ],
 "metadata": {
  "kernelspec": {
   "display_name": "Python 3 (ipykernel)",
   "language": "python",
   "name": "python3"
  },
  "language_info": {
   "codemirror_mode": {
    "name": "ipython",
    "version": 3
   },
   "file_extension": ".py",
   "mimetype": "text/x-python",
   "name": "python",
   "nbconvert_exporter": "python",
   "pygments_lexer": "ipython3",
   "version": "3.11.4"
  }
 },
 "nbformat": 4,
 "nbformat_minor": 5
}
