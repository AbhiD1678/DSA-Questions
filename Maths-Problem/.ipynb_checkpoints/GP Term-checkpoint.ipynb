{
 "cells": [
  {
   "cell_type": "markdown",
   "id": "2bea8fa7",
   "metadata": {},
   "source": [
    "Given the first 2 terms A and B of a Geometric Series. The task is to find the Nth term of the series.\n",
    "\n",
    "Example 1:\n",
    "\n",
    "Input:\n",
    "A = 2 \n",
    "B = 3\n",
    "N = 1\n",
    "Output: 2\n",
    "Explanation: The first term is already\n",
    "given in the input as 2\n",
    "Example 2:\n",
    "\n",
    "Input:\n",
    "A = 1\n",
    "B = 2\n",
    "N = 5\n",
    "Output: 16\n",
    "Explanation: Common ratio = 2,\n",
    "Hence Fifth term is 1*(2)(5-1) = 24 = 16 .\n",
    "Your Task:\n",
    "You don't need to read input or print anything. Your task is to complete the function termOfGP() that takes A, B and N as parameter and returns Nth term of GP. The return value should be double that would be automatically converted to floor by the driver code.\n",
    "\n",
    "Expected Time Complexity : O(logN)\n",
    "Expected Auxilliary Space : O(1)\n",
    "\n",
    "Constraints:\n",
    "-100 <= A <= 100\n",
    "-100 <= B <= 100\n",
    "1 <= N <= 5\n",
    "\n"
   ]
  },
  {
   "cell_type": "code",
   "execution_count": 1,
   "id": "9a3f1677",
   "metadata": {},
   "outputs": [],
   "source": [
    "class Solution:    \n",
    "    #Compelte his function\n",
    "    def termOfGP(self,A,B,N):\n",
    "        #Your code here\n",
    "        if N==1:\n",
    "            return A\n",
    "        if N==2:\n",
    "            return B\n",
    "        return A*(B/A)**(N-1)"
   ]
  },
  {
   "cell_type": "code",
   "execution_count": 2,
   "id": "6ee012c9",
   "metadata": {},
   "outputs": [],
   "source": [
    "class Solution:\n",
    "    def termOfGP(self,A,B,N):\n",
    "        # common ratio is given by r=b/a\n",
    "        r=B/A \n",
    "        # Nth term is given by a(r^(N-1))\n",
    "        return A*pow(r,N-1) "
   ]
  },
  {
   "cell_type": "code",
   "execution_count": null,
   "id": "a94308b5",
   "metadata": {},
   "outputs": [],
   "source": []
  }
 ],
 "metadata": {
  "kernelspec": {
   "display_name": "Python 3 (ipykernel)",
   "language": "python",
   "name": "python3"
  },
  "language_info": {
   "codemirror_mode": {
    "name": "ipython",
    "version": 3
   },
   "file_extension": ".py",
   "mimetype": "text/x-python",
   "name": "python",
   "nbconvert_exporter": "python",
   "pygments_lexer": "ipython3",
   "version": "3.11.4"
  }
 },
 "nbformat": 4,
 "nbformat_minor": 5
}
