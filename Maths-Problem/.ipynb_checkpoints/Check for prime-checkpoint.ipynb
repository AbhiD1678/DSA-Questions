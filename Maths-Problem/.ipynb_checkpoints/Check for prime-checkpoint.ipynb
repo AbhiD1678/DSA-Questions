{
 "cells": [
  {
   "cell_type": "code",
   "execution_count": 5,
   "id": "816efde9",
   "metadata": {},
   "outputs": [],
   "source": [
    "def Prime(a):\n",
    "    if a ==1 :\n",
    "        return False\n",
    "    for i in range(a-1,2,-1):\n",
    "        if a%i==0:\n",
    "            return False\n",
    "    return True"
   ]
  },
  {
   "cell_type": "code",
   "execution_count": 6,
   "id": "9eea2450",
   "metadata": {},
   "outputs": [
    {
     "data": {
      "text/plain": [
       "False"
      ]
     },
     "execution_count": 6,
     "metadata": {},
     "output_type": "execute_result"
    }
   ],
   "source": [
    "Prime(15)"
   ]
  },
  {
   "cell_type": "code",
   "execution_count": 7,
   "id": "5bee194d",
   "metadata": {},
   "outputs": [
    {
     "data": {
      "text/plain": [
       "True"
      ]
     },
     "execution_count": 7,
     "metadata": {},
     "output_type": "execute_result"
    }
   ],
   "source": [
    "Prime(17)"
   ]
  },
  {
   "cell_type": "code",
   "execution_count": 8,
   "id": "17b39bbb",
   "metadata": {},
   "outputs": [
    {
     "data": {
      "text/plain": [
       "False"
      ]
     },
     "execution_count": 8,
     "metadata": {},
     "output_type": "execute_result"
    }
   ],
   "source": [
    "Prime(17777723)"
   ]
  },
  {
   "cell_type": "markdown",
   "id": "f6a10283",
   "metadata": {},
   "source": [
    "Divisors always appear in a pair \n",
    "if (x,y) is in pair\n",
    "and x<=y,then\n",
    "x**2<=n\n",
    "x<=n**0.5"
   ]
  },
  {
   "cell_type": "code",
   "execution_count": 9,
   "id": "80ad4857",
   "metadata": {},
   "outputs": [],
   "source": [
    "def Prime(n):\n",
    "    if n==1:\n",
    "        return False\n",
    "    i=2\n",
    "    while(i**2<=n):\n",
    "        if n%i==0:\n",
    "            return False\n",
    "        \n",
    "        i+=1\n",
    "    return True\n",
    "\n",
    "# Time complexity of O(n**0.5)"
   ]
  },
  {
   "cell_type": "code",
   "execution_count": 10,
   "id": "96e544c0",
   "metadata": {},
   "outputs": [
    {
     "data": {
      "text/plain": [
       "False"
      ]
     },
     "execution_count": 10,
     "metadata": {},
     "output_type": "execute_result"
    }
   ],
   "source": [
    "Prime(88)"
   ]
  },
  {
   "cell_type": "code",
   "execution_count": 11,
   "id": "0533c75e",
   "metadata": {},
   "outputs": [
    {
     "data": {
      "text/plain": [
       "True"
      ]
     },
     "execution_count": 11,
     "metadata": {},
     "output_type": "execute_result"
    }
   ],
   "source": [
    "Prime(19)"
   ]
  },
  {
   "cell_type": "code",
   "execution_count": 16,
   "id": "9d942153",
   "metadata": {},
   "outputs": [],
   "source": [
    "def isPrime(n):\n",
    "    if n==1:\n",
    "        return False\n",
    "    if n==2 or n==3:\n",
    "        return True\n",
    "    if n%2==0 or n%3==0:\n",
    "        return False\n",
    "    \n",
    "    i=5\n",
    "    while i**2<=n:\n",
    "        if n%i==0 or n%(i+2)==0:\n",
    "            return False\n",
    "        \n",
    "        i+=6\n",
    "        \n",
    "    return True\n",
    "#Three times faster than the above approach"
   ]
  },
  {
   "cell_type": "code",
   "execution_count": 17,
   "id": "076f52d8",
   "metadata": {},
   "outputs": [
    {
     "data": {
      "text/plain": [
       "False"
      ]
     },
     "execution_count": 17,
     "metadata": {},
     "output_type": "execute_result"
    }
   ],
   "source": [
    "isPrime(10500)"
   ]
  },
  {
   "cell_type": "code",
   "execution_count": 18,
   "id": "825d71e3",
   "metadata": {},
   "outputs": [
    {
     "data": {
      "text/plain": [
       "False"
      ]
     },
     "execution_count": 18,
     "metadata": {},
     "output_type": "execute_result"
    }
   ],
   "source": [
    "isPrime(10307917)"
   ]
  },
  {
   "cell_type": "code",
   "execution_count": 15,
   "id": "65f5a317",
   "metadata": {},
   "outputs": [
    {
     "data": {
      "text/plain": [
       "True"
      ]
     },
     "execution_count": 15,
     "metadata": {},
     "output_type": "execute_result"
    }
   ],
   "source": [
    "isPrime(1031)"
   ]
  },
  {
   "cell_type": "code",
   "execution_count": 19,
   "id": "091c3ddc",
   "metadata": {},
   "outputs": [
    {
     "data": {
      "text/plain": [
       "False"
      ]
     },
     "execution_count": 19,
     "metadata": {},
     "output_type": "execute_result"
    }
   ],
   "source": [
    "isPrime(361)"
   ]
  },
  {
   "cell_type": "code",
   "execution_count": null,
   "id": "331e87c6",
   "metadata": {},
   "outputs": [],
   "source": []
  }
 ],
 "metadata": {
  "kernelspec": {
   "display_name": "Python 3 (ipykernel)",
   "language": "python",
   "name": "python3"
  },
  "language_info": {
   "codemirror_mode": {
    "name": "ipython",
    "version": 3
   },
   "file_extension": ".py",
   "mimetype": "text/x-python",
   "name": "python",
   "nbconvert_exporter": "python",
   "pygments_lexer": "ipython3",
   "version": "3.11.4"
  }
 },
 "nbformat": 4,
 "nbformat_minor": 5
}
