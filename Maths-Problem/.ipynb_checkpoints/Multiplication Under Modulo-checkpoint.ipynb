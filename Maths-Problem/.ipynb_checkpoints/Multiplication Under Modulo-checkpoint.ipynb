{
 "cells": [
  {
   "cell_type": "markdown",
   "id": "956d4a91",
   "metadata": {},
   "source": [
    "You are given two numbers a and b. You need to find the multiplication of a and b under modulo M (M as 109+7).\n",
    "\n",
    "Example 1:\n",
    "\n",
    "Input:\n",
    "a = 92233720368547758\n",
    "b = 92233720368547758\n",
    "Output: 484266119\n",
    "Explanation: Multiplication of a and b \n",
    "under modulo M will be 484266119.\n",
    "Example 2:\n",
    "\n",
    "Input:\n",
    "a = 1000000007\n",
    "b = 1000000007\n",
    "Output: 0\n",
    "Explanation: Multiplication of a and b\n",
    "under modulo M is 0.\n",
    "Your Task:\n",
    "You don't need to read input or print anything. Your task is to complete the function multiplicationUnderModulo() that takes a and b as parameters and returns multiplication of a and b under modulo M.\n",
    "\n",
    "Expected Time Complexity : O(1)\n",
    "Expected Auxilliary Space :  O(1)"
   ]
  },
  {
   "cell_type": "code",
   "execution_count": 1,
   "id": "23f9186b",
   "metadata": {},
   "outputs": [],
   "source": [
    "class Solution:\n",
    "    def multiplicationUnderModulo(self,a,b):\n",
    "        '''\n",
    "        :param a: given value of a\n",
    "        :param b: given value of b\n",
    "        :return: Integer , sum under modulo\n",
    "        '''   \n",
    "        # code here\n",
    "        return (a*b)%((10**9)+7)"
   ]
  },
  {
   "cell_type": "code",
   "execution_count": null,
   "id": "ce4b1090",
   "metadata": {},
   "outputs": [],
   "source": []
  }
 ],
 "metadata": {
  "kernelspec": {
   "display_name": "Python 3 (ipykernel)",
   "language": "python",
   "name": "python3"
  },
  "language_info": {
   "codemirror_mode": {
    "name": "ipython",
    "version": 3
   },
   "file_extension": ".py",
   "mimetype": "text/x-python",
   "name": "python",
   "nbconvert_exporter": "python",
   "pygments_lexer": "ipython3",
   "version": "3.11.4"
  }
 },
 "nbformat": 4,
 "nbformat_minor": 5
}
