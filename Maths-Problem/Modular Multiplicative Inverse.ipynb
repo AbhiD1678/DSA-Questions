{
 "cells": [
  {
   "cell_type": "markdown",
   "id": "aebad8e4",
   "metadata": {},
   "source": [
    "Given two integers ‘a’ and ‘m’. The task is to find the smallest modular multiplicative inverse of ‘a’ under modulo ‘m’. if it does not exist then return -1.\n",
    "\n",
    " \n",
    "\n",
    "Example 1:\n",
    "\n",
    "Input:\n",
    "a = 3\n",
    "m = 11\n",
    "Output: 4\n",
    "Explanation: Since (4*3) mod 11 = 1, 4 \n",
    "is modulo inverse of 3. One might think,\n",
    "15 also as a valid output as \"(15*3)\n",
    "mod 11\"  is also 1, but 15 is not in \n",
    "ring {0, 1, 2, ... 10}, so not valid.\n",
    " \n",
    "\n",
    "Example 2:\n",
    "\n",
    "Input:\n",
    "a = 10\n",
    "m = 17\n",
    "Output: 12\n",
    "Explanation: Since (12*10) mod 17 = 1,\n",
    "12 is the modulo inverse of 10.\n",
    " \n",
    "\n",
    "Your Task:\n",
    "You don't need to read input or print anything. Your task is to complete the function function modInverse() that takes a and m as input parameters and returns modular multiplicative inverse of ‘a’ under modulo ‘m’. If the modular multiplicative inverse doesn't exist return -1.\n",
    "\n",
    " \n",
    "\n",
    "Expected Time Complexity : O(m)\n",
    "Expected Auxilliary Space : O(1)"
   ]
  },
  {
   "cell_type": "code",
   "execution_count": 2,
   "id": "707e3931",
   "metadata": {},
   "outputs": [],
   "source": [
    "class Solution:    \n",
    "    ##Complete this function\n",
    "    def modInverse(self,a,m):\n",
    "        ##Your code here\n",
    "        for i in range(m):\n",
    "            if (a*i)%m==1:\n",
    "                return i\n",
    "        \n",
    "        return -1"
   ]
  },
  {
   "cell_type": "code",
   "execution_count": null,
   "id": "52950681",
   "metadata": {},
   "outputs": [],
   "source": []
  }
 ],
 "metadata": {
  "kernelspec": {
   "display_name": "Python 3 (ipykernel)",
   "language": "python",
   "name": "python3"
  },
  "language_info": {
   "codemirror_mode": {
    "name": "ipython",
    "version": 3
   },
   "file_extension": ".py",
   "mimetype": "text/x-python",
   "name": "python",
   "nbconvert_exporter": "python",
   "pygments_lexer": "ipython3",
   "version": "3.11.4"
  }
 },
 "nbformat": 4,
 "nbformat_minor": 5
}
