{
 "cells": [
  {
   "cell_type": "code",
   "execution_count": 1,
   "id": "10dac85d",
   "metadata": {},
   "outputs": [],
   "source": [
    "def Gcd(a,b):\n",
    "    for i in range(min(a,b),0,-1):\n",
    "        if a%i==0 and b%i==0 :\n",
    "            return i"
   ]
  },
  {
   "cell_type": "code",
   "execution_count": 2,
   "id": "982f16e9",
   "metadata": {},
   "outputs": [
    {
     "data": {
      "text/plain": [
       "3"
      ]
     },
     "execution_count": 2,
     "metadata": {},
     "output_type": "execute_result"
    }
   ],
   "source": [
    "Gcd(12,15)"
   ]
  },
  {
   "cell_type": "code",
   "execution_count": 3,
   "id": "749c71ad",
   "metadata": {},
   "outputs": [
    {
     "data": {
      "text/plain": [
       "1"
      ]
     },
     "execution_count": 3,
     "metadata": {},
     "output_type": "execute_result"
    }
   ],
   "source": [
    "Gcd(7,13)"
   ]
  },
  {
   "cell_type": "code",
   "execution_count": 4,
   "id": "b06a35cd",
   "metadata": {},
   "outputs": [],
   "source": [
    "def Hcf(a,b):\n",
    "    while a!=b:\n",
    "        \n",
    "        if a>b:\n",
    "            a=a-b\n",
    "        else:\n",
    "            b=b-a\n",
    "    return a\n"
   ]
  },
  {
   "cell_type": "code",
   "execution_count": 5,
   "id": "652e0b58",
   "metadata": {},
   "outputs": [
    {
     "data": {
      "text/plain": [
       "1"
      ]
     },
     "execution_count": 5,
     "metadata": {},
     "output_type": "execute_result"
    }
   ],
   "source": [
    "Hcf(12,17)"
   ]
  },
  {
   "cell_type": "code",
   "execution_count": 6,
   "id": "44df5399",
   "metadata": {},
   "outputs": [
    {
     "data": {
      "text/plain": [
       "4"
      ]
     },
     "execution_count": 6,
     "metadata": {},
     "output_type": "execute_result"
    }
   ],
   "source": [
    "Hcf(12,16)"
   ]
  },
  {
   "cell_type": "code",
   "execution_count": 11,
   "id": "0dd3184d",
   "metadata": {},
   "outputs": [],
   "source": [
    "def Hcf2(a,b):\n",
    "    \n",
    "    if b==0:\n",
    "        return a\n",
    "    else:\n",
    "        return Hcf2(b,a%b)"
   ]
  },
  {
   "cell_type": "code",
   "execution_count": 12,
   "id": "26265fe8",
   "metadata": {},
   "outputs": [
    {
     "data": {
      "text/plain": [
       "4"
      ]
     },
     "execution_count": 12,
     "metadata": {},
     "output_type": "execute_result"
    }
   ],
   "source": [
    "Hcf2(12,16)"
   ]
  },
  {
   "cell_type": "code",
   "execution_count": 13,
   "id": "8eb5a430",
   "metadata": {},
   "outputs": [
    {
     "data": {
      "text/plain": [
       "4"
      ]
     },
     "execution_count": 13,
     "metadata": {},
     "output_type": "execute_result"
    }
   ],
   "source": [
    "Hcf2(16,12)"
   ]
  },
  {
   "cell_type": "code",
   "execution_count": 14,
   "id": "255348ef",
   "metadata": {},
   "outputs": [
    {
     "data": {
      "text/plain": [
       "1"
      ]
     },
     "execution_count": 14,
     "metadata": {},
     "output_type": "execute_result"
    }
   ],
   "source": [
    "Hcf2(13,17)"
   ]
  },
  {
   "cell_type": "code",
   "execution_count": null,
   "id": "88ec3457",
   "metadata": {},
   "outputs": [],
   "source": []
  }
 ],
 "metadata": {
  "kernelspec": {
   "display_name": "Python 3 (ipykernel)",
   "language": "python",
   "name": "python3"
  },
  "language_info": {
   "codemirror_mode": {
    "name": "ipython",
    "version": 3
   },
   "file_extension": ".py",
   "mimetype": "text/x-python",
   "name": "python",
   "nbconvert_exporter": "python",
   "pygments_lexer": "ipython3",
   "version": "3.11.4"
  }
 },
 "nbformat": 4,
 "nbformat_minor": 5
}
