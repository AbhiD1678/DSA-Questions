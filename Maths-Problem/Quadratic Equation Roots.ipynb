{
 "cells": [
  {
   "cell_type": "markdown",
   "id": "6b96e696",
   "metadata": {},
   "source": [
    "Given a quadratic equation in the form ax2 + bx + c. Find its roots.\n",
    "\n",
    "Note: Return the maximum root followed by the minimum root.\n",
    "\n",
    "Example 1:\n",
    "\n",
    "Input:\n",
    "a = 1\n",
    "b = -2\n",
    "c = 1\n",
    "Output: 1 1\n",
    "Explanation:\n",
    "Roots of equation x2-2x+1 are 1 and 1.\n",
    "\n",
    "Example 2:\n",
    "\n",
    "Input:\n",
    "a = 1\n",
    "b = -7\n",
    "c = 12\n",
    "Output: 4 3\n",
    "Explanation: Roots of equation \n",
    "x2 - 7x + 12 are 4 and 3.\n",
    " \n",
    "\n",
    "Your Task:\n",
    "You don't need to read input or print anything. Your task is to complete the function quadraticRoots() which takes a, b, c as input parameters and returns a list of two integers containing the floor value of its roots in decreasing order. If roots are imaginary, the returning list should contain only 1 integer ie -1. Always return the greatest integer smaller than or equal to the result.\n",
    "Note: If roots are imaginary, the generated output will display \"Imaginary\".\n",
    "\n",
    " \n",
    "\n",
    "Expected Time Complexity: O(1)\n",
    "Expected Auxiliary Space : O(1)"
   ]
  },
  {
   "cell_type": "code",
   "execution_count": 1,
   "id": "5a5b4494",
   "metadata": {},
   "outputs": [],
   "source": [
    "\n",
    "import math\n",
    "\n",
    "class Solution:\n",
    "\n",
    "        # code here\n",
    "        \n",
    "\n",
    "    def quadraticRoots(self, a, b, c):\n",
    "        discriminant = b**2 - 4*a*c\n",
    "        \n",
    "        if discriminant < 0:\n",
    "            return [-1]  # Roots are imaginary, return -1\n",
    "        \n",
    "        root1 = (-b + discriminant**0.5) / (2*a)\n",
    "        root2 = (-b - discriminant**0.5) / (2*a)\n",
    "        \n",
    "        return [math.floor(max(root1, root2)), math.floor(min(root1, root2))]\n",
    "\n"
   ]
  },
  {
   "cell_type": "code",
   "execution_count": null,
   "id": "41a21325",
   "metadata": {},
   "outputs": [],
   "source": []
  }
 ],
 "metadata": {
  "kernelspec": {
   "display_name": "Python 3 (ipykernel)",
   "language": "python",
   "name": "python3"
  },
  "language_info": {
   "codemirror_mode": {
    "name": "ipython",
    "version": 3
   },
   "file_extension": ".py",
   "mimetype": "text/x-python",
   "name": "python",
   "nbconvert_exporter": "python",
   "pygments_lexer": "ipython3",
   "version": "3.11.4"
  }
 },
 "nbformat": 4,
 "nbformat_minor": 5
}
