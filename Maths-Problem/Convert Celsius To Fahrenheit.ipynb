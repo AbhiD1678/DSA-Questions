{
 "cells": [
  {
   "cell_type": "markdown",
   "id": "63db437e",
   "metadata": {},
   "source": [
    "Given a temperature in celsius C. You need to convert the given temperature to Fahrenheit.\n",
    "\n",
    "Example 1:\n",
    "\n",
    "Input:\n",
    "C = 32\n",
    "Output: 89.6\n",
    "Explanation: Using the conversion \n",
    "formula of celsius to farhenheit , it\n",
    "can be calculated that, for 32 degree\n",
    "C, the temperature in Fahrenheit = 89.6\n",
    "Example 2:\n",
    "\n",
    "Input:\n",
    "50\n",
    "Output: 122\n",
    "Explanation: Using the conversion \n",
    "formulaof celsius to farhenheit, it\n",
    "can be calculated that, for 50 degree\n",
    "C, the temperature in Fahrenheit = 122.\n",
    "Your Task:\n",
    "You don't need to read input or print anything. Your task is to complete the function CtoF() that takes C as parameter and returns temperature in fahrenheit( in double). The flooring and printing is automatically done by the driver code.\n",
    "\n",
    "Expected Time Complexity: O(1)\n",
    "Expected Auxiliary Space : O(1)\n",
    "\n",
    "Constraints:\n",
    "1 <= C <= 104\n",
    "\n"
   ]
  },
  {
   "cell_type": "code",
   "execution_count": 1,
   "id": "966c48b8",
   "metadata": {},
   "outputs": [],
   "source": [
    "class Solution:\n",
    "    ##Complete this function\n",
    "    def cToF(self,C):\n",
    "        #Your code here\n",
    "        return (C*9/5)+32\n"
   ]
  },
  {
   "cell_type": "code",
   "execution_count": null,
   "id": "1a88f140",
   "metadata": {},
   "outputs": [],
   "source": []
  }
 ],
 "metadata": {
  "kernelspec": {
   "display_name": "Python 3 (ipykernel)",
   "language": "python",
   "name": "python3"
  },
  "language_info": {
   "codemirror_mode": {
    "name": "ipython",
    "version": 3
   },
   "file_extension": ".py",
   "mimetype": "text/x-python",
   "name": "python",
   "nbconvert_exporter": "python",
   "pygments_lexer": "ipython3",
   "version": "3.11.4"
  }
 },
 "nbformat": 4,
 "nbformat_minor": 5
}
