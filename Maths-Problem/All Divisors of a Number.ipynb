{
 "cells": [
  {
   "cell_type": "markdown",
   "id": "c7936ef9",
   "metadata": {},
   "source": [
    "Naive Solution"
   ]
  },
  {
   "cell_type": "markdown",
   "id": "98a88069",
   "metadata": {},
   "source": [
    "Time Complexity:O(n)\n",
    "Space Complexity:O(1)"
   ]
  },
  {
   "cell_type": "code",
   "execution_count": 4,
   "id": "88e76a1c",
   "metadata": {},
   "outputs": [],
   "source": [
    "def printDivisors(n):\n",
    "    for i in range(1,n+1):\n",
    "        if n%i==0:\n",
    "            print(i)"
   ]
  },
  {
   "cell_type": "code",
   "execution_count": 5,
   "id": "e6a47158",
   "metadata": {},
   "outputs": [
    {
     "name": "stdout",
     "output_type": "stream",
     "text": [
      "1\n",
      "2\n",
      "4\n",
      "5\n",
      "10\n",
      "20\n",
      "25\n",
      "50\n",
      "100\n"
     ]
    }
   ],
   "source": [
    "printDivisors(100)"
   ]
  },
  {
   "cell_type": "code",
   "execution_count": 13,
   "id": "a35f67a7",
   "metadata": {},
   "outputs": [
    {
     "name": "stdout",
     "output_type": "stream",
     "text": [
      "1\n",
      "99\n",
      "3\n",
      "33\n",
      "9\n",
      "11\n"
     ]
    }
   ],
   "source": [
    "def printDivisors(n):\n",
    "    i=1\n",
    "    while i*i<=n:\n",
    "        if n%i==0:\n",
    "            print(i)\n",
    "            if(i!=n/i):\n",
    "                print(n//i)\n",
    "        i+=1\n",
    "                \n",
    "printDivisors(99)\n",
    "#Time complexity:O(n**0.5)"
   ]
  },
  {
   "cell_type": "code",
   "execution_count": 14,
   "id": "8f1f8ef3",
   "metadata": {},
   "outputs": [
    {
     "name": "stdout",
     "output_type": "stream",
     "text": [
      "1\n",
      "36\n",
      "2\n",
      "18\n",
      "3\n",
      "12\n",
      "4\n",
      "9\n",
      "6\n"
     ]
    }
   ],
   "source": [
    "printDivisors(36)"
   ]
  },
  {
   "cell_type": "code",
   "execution_count": 17,
   "id": "df8b95e8",
   "metadata": {},
   "outputs": [],
   "source": [
    "def printDivisors(n):\n",
    "    i=1\n",
    "    while i*i<n:\n",
    "        if n%i==0:\n",
    "            print(i)\n",
    "        i+=1\n",
    "    while i>=1:\n",
    "        if n%i==0:\n",
    "            print(n//i)\n",
    "        i-=1"
   ]
  },
  {
   "cell_type": "code",
   "execution_count": 18,
   "id": "0acbb92e",
   "metadata": {},
   "outputs": [
    {
     "name": "stdout",
     "output_type": "stream",
     "text": [
      "1\n",
      "2\n",
      "3\n",
      "4\n",
      "6\n",
      "9\n",
      "12\n",
      "18\n",
      "36\n"
     ]
    }
   ],
   "source": [
    "printDivisors(36)"
   ]
  },
  {
   "cell_type": "code",
   "execution_count": 19,
   "id": "7b461f83",
   "metadata": {},
   "outputs": [
    {
     "name": "stdout",
     "output_type": "stream",
     "text": [
      "1\n",
      "2\n",
      "4\n",
      "5\n",
      "10\n",
      "20\n",
      "25\n",
      "50\n",
      "100\n"
     ]
    }
   ],
   "source": [
    "printDivisors(100)"
   ]
  },
  {
   "cell_type": "code",
   "execution_count": null,
   "id": "9b2b36ed",
   "metadata": {},
   "outputs": [],
   "source": []
  }
 ],
 "metadata": {
  "kernelspec": {
   "display_name": "Python 3 (ipykernel)",
   "language": "python",
   "name": "python3"
  },
  "language_info": {
   "codemirror_mode": {
    "name": "ipython",
    "version": 3
   },
   "file_extension": ".py",
   "mimetype": "text/x-python",
   "name": "python",
   "nbconvert_exporter": "python",
   "pygments_lexer": "ipython3",
   "version": "3.11.4"
  }
 },
 "nbformat": 4,
 "nbformat_minor": 5
}
