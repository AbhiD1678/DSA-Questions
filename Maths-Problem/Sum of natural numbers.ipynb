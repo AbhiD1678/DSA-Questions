{
 "cells": [
  {
   "cell_type": "markdown",
   "id": "ff18a160",
   "metadata": {},
   "source": [
    "### Given a number n,find the sum of the first natural numbers"
   ]
  },
  {
   "cell_type": "markdown",
   "id": "53906c87",
   "metadata": {},
   "source": [
    "#### Approach 1"
   ]
  },
  {
   "cell_type": "code",
   "execution_count": 1,
   "id": "04857f06",
   "metadata": {},
   "outputs": [
    {
     "data": {
      "text/plain": [
       "21"
      ]
     },
     "execution_count": 1,
     "metadata": {},
     "output_type": "execute_result"
    }
   ],
   "source": [
    "def findSum(n):\n",
    "    sum_total=0\n",
    "    x=1\n",
    "    while x<=n:\n",
    "        sum_total+=x\n",
    "        x+=1\n",
    "    return sum_total\n",
    "'''\n",
    "Time Complexity: O(n)\n",
    "\n",
    "Auxiliary Space: O(1)\n",
    "\n",
    "An efficient solution is to use the below formula.\n",
    "'''\n",
    "findSum(6)"
   ]
  },
  {
   "cell_type": "markdown",
   "id": "3aa5e40c",
   "metadata": {},
   "source": [
    "#### Approach 2"
   ]
  },
  {
   "cell_type": "code",
   "execution_count": 2,
   "id": "8d0f83ce",
   "metadata": {},
   "outputs": [
    {
     "data": {
      "text/plain": [
       "'This can cause overflow so use a bit of alternative method.\\nTime Complexity: O(1)\\n\\nAuxiliary Space: O(1)\\n\\nThe above program causes overflow, even if the result is not beyond the integer limit. We can avoid overflow up to some extent by dividing first.\\n'"
      ]
     },
     "execution_count": 2,
     "metadata": {},
     "output_type": "execute_result"
    }
   ],
   "source": [
    "def FindSum(n):\n",
    "    return n*(n+1)/2\n",
    "FindSum(5)\n",
    "\n",
    "'''This can cause overflow so use a bit of alternative method.\n",
    "Time Complexity: O(1)\n",
    "\n",
    "Auxiliary Space: O(1)\n",
    "\n",
    "The above program causes overflow, even if the result is not beyond the integer limit. We can avoid overflow up to some extent by dividing first.\n",
    "'''"
   ]
  },
  {
   "cell_type": "markdown",
   "id": "5d3f0bb2",
   "metadata": {},
   "source": [
    "#### Approach 3 "
   ]
  },
  {
   "cell_type": "code",
   "execution_count": 4,
   "id": "6fbb00fa",
   "metadata": {},
   "outputs": [
    {
     "data": {
      "text/plain": [
       "21.0"
      ]
     },
     "execution_count": 4,
     "metadata": {},
     "output_type": "execute_result"
    }
   ],
   "source": [
    "def FindSumOfAll(n):\n",
    "    if (n%2==0):\n",
    "        return(n/2)*(n+1)\n",
    "    else:\n",
    "        return((n+1)/2)*n\n",
    "'''\n",
    "Time Complexity: O(1)\n",
    "\n",
    "Auxiliary Space: O(1)\n",
    "'''\n",
    "    \n",
    "\n",
    "FindSumOfAll(6)"
   ]
  },
  {
   "cell_type": "code",
   "execution_count": null,
   "id": "65ef55ce",
   "metadata": {},
   "outputs": [],
   "source": []
  }
 ],
 "metadata": {
  "kernelspec": {
   "display_name": "Python 3 (ipykernel)",
   "language": "python",
   "name": "python3"
  },
  "language_info": {
   "codemirror_mode": {
    "name": "ipython",
    "version": 3
   },
   "file_extension": ".py",
   "mimetype": "text/x-python",
   "name": "python",
   "nbconvert_exporter": "python",
   "pygments_lexer": "ipython3",
   "version": "3.11.4"
  }
 },
 "nbformat": 4,
 "nbformat_minor": 5
}
