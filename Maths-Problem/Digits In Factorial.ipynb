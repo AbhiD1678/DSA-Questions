{
 "cells": [
  {
   "cell_type": "code",
   "execution_count": 1,
   "id": "fe68b87a",
   "metadata": {},
   "outputs": [
    {
     "data": {
      "text/plain": [
       "\"\\nGiven an integer N. Find the number of digits that appear in its factorial. \\nFactorial is defined as, factorial(n) = 1*2*3*4……..*N and factorial(0) = 1.\\n \\n\\nExample 1:\\n\\nInput: N = 5\\nOutput: 3\\nExplanation: Factorial of 5 is 120.\\nNumber of digits in 120 is 3 (1, 2, and 0)\\n \\n\\nExample 2:\\n\\nInput: N = 120\\nOutput: 199\\nExplanation: The number of digits in\\n120! is 199\\n\\nYour Task:\\nYou don't need to read input or print anything. Your task is to complete the function digitsInFactorial() that takes N as input parameter and returns number of digits in factorial of N.\\n\\n\\nExpected Time Complexity : O(N)\\nExpected Auxilliary Space : O(1)\\n\\n\\nConstraints:\\n1 ≤ N ≤ 105\\n\""
      ]
     },
     "execution_count": 1,
     "metadata": {},
     "output_type": "execute_result"
    }
   ],
   "source": [
    "'''\n",
    "Given an integer N. Find the number of digits that appear in its factorial. \n",
    "Factorial is defined as, factorial(n) = 1*2*3*4……..*N and factorial(0) = 1.\n",
    " \n",
    "\n",
    "Example 1:\n",
    "\n",
    "Input: N = 5\n",
    "Output: 3\n",
    "Explanation: Factorial of 5 is 120.\n",
    "Number of digits in 120 is 3 (1, 2, and 0)\n",
    " \n",
    "\n",
    "Example 2:\n",
    "\n",
    "Input: N = 120\n",
    "Output: 199\n",
    "Explanation: The number of digits in\n",
    "120! is 199\n",
    "\n",
    "Your Task:\n",
    "You don't need to read input or print anything. Your task is to complete the function digitsInFactorial() that takes N as input parameter and returns number of digits in factorial of N.\n",
    "\n",
    "\n",
    "Expected Time Complexity : O(N)\n",
    "Expected Auxilliary Space : O(1)\n",
    "\n",
    "\n",
    "Constraints:\n",
    "1 ≤ N ≤ 105\n",
    "'''"
   ]
  },
  {
   "cell_type": "code",
   "execution_count": 2,
   "id": "fea98845",
   "metadata": {},
   "outputs": [],
   "source": [
    "from math import floor,log10\n",
    "\n",
    "class Solution:\n",
    "    def digitsInFactorial(self, N):\n",
    "        if N <= 1:\n",
    "            return 1\n",
    "        digit_count = 0\n",
    "        for i in range(2, N + 1):\n",
    "            digit_count += log10(i)\n",
    "        return floor(digit_count) + 1\n",
    "\n",
    "\n"
   ]
  },
  {
   "cell_type": "code",
   "execution_count": 3,
   "id": "c231514f",
   "metadata": {},
   "outputs": [],
   "source": [
    "from math import floor,log10\n",
    "\n",
    "class Solution:\n",
    "    def digitsInFactorial(self, N):\n",
    "        if N <= 1:\n",
    "            return 1\n",
    "        digit_count = 0\n",
    "        for i in range(2, N + 1):\n",
    "            digit_count += log10(i)\n",
    "        return int(digit_count) + 1\n",
    "\n"
   ]
  },
  {
   "cell_type": "code",
   "execution_count": null,
   "id": "b73f4b99",
   "metadata": {},
   "outputs": [],
   "source": []
  }
 ],
 "metadata": {
  "kernelspec": {
   "display_name": "Python 3 (ipykernel)",
   "language": "python",
   "name": "python3"
  },
  "language_info": {
   "codemirror_mode": {
    "name": "ipython",
    "version": 3
   },
   "file_extension": ".py",
   "mimetype": "text/x-python",
   "name": "python",
   "nbconvert_exporter": "python",
   "pygments_lexer": "ipython3",
   "version": "3.11.4"
  }
 },
 "nbformat": 4,
 "nbformat_minor": 5
}
