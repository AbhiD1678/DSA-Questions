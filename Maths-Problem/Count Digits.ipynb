{
 "cells": [
  {
   "cell_type": "code",
   "execution_count": 22,
   "id": "21ada5df",
   "metadata": {},
   "outputs": [],
   "source": [
    "def CountDigits(n):\n",
    "    digits=0\n",
    "    while(n>0):\n",
    "        digits+=1\n",
    "        n=n//10\n",
    "    return digits\n",
    "    "
   ]
  },
  {
   "cell_type": "code",
   "execution_count": 23,
   "id": "2e916da3",
   "metadata": {},
   "outputs": [
    {
     "data": {
      "text/plain": [
       "4"
      ]
     },
     "execution_count": 23,
     "metadata": {},
     "output_type": "execute_result"
    }
   ],
   "source": [
    "CountDigits(1020)"
   ]
  },
  {
   "cell_type": "code",
   "execution_count": 26,
   "id": "aea51623",
   "metadata": {},
   "outputs": [],
   "source": [
    "from math import floor,log10\n",
    "\n",
    "def countDigits(n):\n",
    "    k=floor(log10(n)+1)\n",
    "    return k"
   ]
  },
  {
   "cell_type": "code",
   "execution_count": 27,
   "id": "f2c12343",
   "metadata": {},
   "outputs": [
    {
     "data": {
      "text/plain": [
       "1"
      ]
     },
     "execution_count": 27,
     "metadata": {},
     "output_type": "execute_result"
    }
   ],
   "source": [
    "countDigits(5)"
   ]
  },
  {
   "cell_type": "code",
   "execution_count": null,
   "id": "867e66ee",
   "metadata": {},
   "outputs": [],
   "source": []
  }
 ],
 "metadata": {
  "kernelspec": {
   "display_name": "Python 3 (ipykernel)",
   "language": "python",
   "name": "python3"
  },
  "language_info": {
   "codemirror_mode": {
    "name": "ipython",
    "version": 3
   },
   "file_extension": ".py",
   "mimetype": "text/x-python",
   "name": "python",
   "nbconvert_exporter": "python",
   "pygments_lexer": "ipython3",
   "version": "3.11.4"
  }
 },
 "nbformat": 4,
 "nbformat_minor": 5
}
