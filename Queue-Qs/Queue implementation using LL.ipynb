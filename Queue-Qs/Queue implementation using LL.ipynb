{
 "cells": [
  {
   "cell_type": "code",
   "execution_count": 8,
   "id": "a82e8548-27b2-470c-91e3-35deaf8fded7",
   "metadata": {},
   "outputs": [],
   "source": [
    "class Node:\n",
    "    def __init__(self,data):\n",
    "        self.data=data\n",
    "        self.next=None\n",
    "class MyQueue:\n",
    "    def __init__(self):\n",
    "        self.front=None\n",
    "        self.rear=None\n",
    "        self.sz=0\n",
    "\n",
    "    def size(self):\n",
    "        return self.sz\n",
    "\n",
    "    def isEmpty(self):\n",
    "        return self.sz==0\n",
    "    def getFront(self):\n",
    "        return self.front.data\n",
    "    def getRear(self):\n",
    "        return self.rear.data\n",
    "\n",
    "    def Enqueue(self,data):\n",
    "        temp=Node(data)\n",
    "        if self.rear==None:\n",
    "            self.front=temp\n",
    "        else:\n",
    "            self.rear.next=temp\n",
    "        self.rear=temp\n",
    "        self.sz=self.sz+1\n",
    "\n",
    "    def Dequeue(self):\n",
    "        if self.front==None:\n",
    "            return -1\n",
    "        res=self.front.data\n",
    "        self.front=self.front.next\n",
    "        if self.front==None:\n",
    "            self.rear=None\n",
    "        self.sz=self.sz-1\n",
    "        return res\n"
   ]
  },
  {
   "cell_type": "code",
   "execution_count": 9,
   "id": "24c60b01-b11f-464e-bde0-604850983b9e",
   "metadata": {},
   "outputs": [],
   "source": [
    "q=MyQueue()"
   ]
  },
  {
   "cell_type": "code",
   "execution_count": 10,
   "id": "6d1e11a4-665b-4699-8dee-01385e5563ee",
   "metadata": {},
   "outputs": [
    {
     "data": {
      "text/plain": [
       "10"
      ]
     },
     "execution_count": 10,
     "metadata": {},
     "output_type": "execute_result"
    }
   ],
   "source": [
    "q.Enqueue(10)\n",
    "q.Enqueue(90)\n",
    "q.Dequeue()"
   ]
  },
  {
   "cell_type": "code",
   "execution_count": 11,
   "id": "9228bd7f-bf48-4ebc-b681-203e1abe7820",
   "metadata": {},
   "outputs": [
    {
     "data": {
      "text/plain": [
       "90"
      ]
     },
     "execution_count": 11,
     "metadata": {},
     "output_type": "execute_result"
    }
   ],
   "source": [
    "q.getFront()"
   ]
  },
  {
   "cell_type": "code",
   "execution_count": null,
   "id": "c9de0eb2-295d-41ff-bc5e-a50770a66465",
   "metadata": {},
   "outputs": [],
   "source": []
  }
 ],
 "metadata": {
  "kernelspec": {
   "display_name": "Python 3 (ipykernel)",
   "language": "python",
   "name": "python3"
  },
  "language_info": {
   "codemirror_mode": {
    "name": "ipython",
    "version": 3
   },
   "file_extension": ".py",
   "mimetype": "text/x-python",
   "name": "python",
   "nbconvert_exporter": "python",
   "pygments_lexer": "ipython3",
   "version": "3.11.7"
  }
 },
 "nbformat": 4,
 "nbformat_minor": 5
}
