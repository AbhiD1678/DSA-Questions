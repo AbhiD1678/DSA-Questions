{
 "cells": [
  {
   "cell_type": "raw",
   "id": "5f5739a3-e463-4643-8129-bc7f101c9acf",
   "metadata": {},
   "source": [
    "Queue can implemented using:\n",
    "List\n",
    "Deque\n",
    "Queue.queue \n",
    "on our own implementation"
   ]
  },
  {
   "cell_type": "code",
   "execution_count": 2,
   "id": "93cfe767-52de-4029-b39e-26121b770cce",
   "metadata": {},
   "outputs": [
    {
     "name": "stdout",
     "output_type": "stream",
     "text": [
      "[10, 20, 30]\n",
      "10\n",
      "20\n",
      "[30]\n"
     ]
    }
   ],
   "source": [
    "#List Implementation\n",
    "q=[]\n",
    "q.append(10)\n",
    "q.append(20)\n",
    "q.append(30)\n",
    "print(q)\n",
    "print(q.pop(0))\n",
    "print(q.pop(0))\n",
    "print(q)"
   ]
  },
  {
   "cell_type": "code",
   "execution_count": 3,
   "id": "854576e5-e164-4fdb-8e84-a9985ecbb68a",
   "metadata": {},
   "outputs": [
    {
     "name": "stdout",
     "output_type": "stream",
     "text": [
      "deque([10, 20, 40])\n",
      "deque([40])\n"
     ]
    }
   ],
   "source": [
    "#Deque implementation\n",
    "\n",
    "from collections import deque\n",
    "q=deque()\n",
    "q.append(10)\n",
    "q.append(20)\n",
    "q.append(40)\n",
    "print(q)\n",
    "q.popleft()\n",
    "q.popleft()\n",
    "print(q)"
   ]
  },
  {
   "cell_type": "code",
   "execution_count": 4,
   "id": "03466265-4a67-42f2-b2d3-1486a8fe8bbc",
   "metadata": {},
   "outputs": [
    {
     "name": "stdout",
     "output_type": "stream",
     "text": [
      "\n",
      "Queue is Empty\n",
      "20 <--30 <--40 <--50 <--\n",
      "Queue is full\n",
      "20 <--30 <--40 <--50 <--\n",
      "\n",
      "after two node deletion\n",
      "\n",
      "40 <--50 <--\n",
      "Front Element is: 40\n"
     ]
    }
   ],
   "source": [
    "# Python3 program to implement\n",
    "# a queue using an array\n",
    "\n",
    "\n",
    "class Queue:\n",
    "\n",
    "    # To initialize the object.\n",
    "    def __init__(self, c):\n",
    "\n",
    "        self.queue = []\n",
    "        self.front = self.rear = 0\n",
    "        self.capacity = c\n",
    "\n",
    "    # Function to insert an element\n",
    "    # at the rear of the queue\n",
    "    def queueEnqueue(self, data):\n",
    "\n",
    "        # Check queue is full or not\n",
    "        if(self.capacity == self.rear):\n",
    "            print(\"\\nQueue is full\")\n",
    "\n",
    "        # Insert element at the rear\n",
    "        else:\n",
    "            self.queue.append(data)\n",
    "            self.rear += 1\n",
    "\n",
    "    # Function to delete an element\n",
    "    # from the front of the queue\n",
    "    def queueDequeue(self):\n",
    "\n",
    "        # If queue is empty\n",
    "        if(self.front == self.rear):\n",
    "            print(\"Queue is empty\")\n",
    "\n",
    "        # Pop the front element from list\n",
    "        else:\n",
    "            x = self.queue.pop(0)\n",
    "            self.rear -= 1\n",
    "\n",
    "    # Function to print queue elements\n",
    "    def queueDisplay(self):\n",
    "\n",
    "        if(self.front == self.rear):\n",
    "            print(\"\\nQueue is Empty\")\n",
    "\n",
    "        # Traverse front to rear to\n",
    "        # print elements\n",
    "        for i in self.queue:\n",
    "            print(i, \"<--\", end='')\n",
    "\n",
    "    # Print front of queue\n",
    "    def queueFront(self):\n",
    "\n",
    "        if(self.front == self.rear):\n",
    "            print(\"\\nQueue is Empty\")\n",
    "\n",
    "        print(\"\\nFront Element is:\",\n",
    "              self.queue[self.front])\n",
    "\n",
    "\n",
    "# Driver code\n",
    "if __name__ == '__main__':\n",
    "\n",
    "    # Create a new queue of\n",
    "    # capacity 4\n",
    "    q = Queue(4)\n",
    "\n",
    "    # Print queue elements\n",
    "    q.queueDisplay()\n",
    "\n",
    "    # Inserting elements in the queue\n",
    "    q.queueEnqueue(20)\n",
    "    q.queueEnqueue(30)\n",
    "    q.queueEnqueue(40)\n",
    "    q.queueEnqueue(50)\n",
    "\n",
    "    # Print queue elements\n",
    "    q.queueDisplay()\n",
    "\n",
    "    # Insert element in queue\n",
    "    q.queueEnqueue(60)\n",
    "\n",
    "    # Print queue elements\n",
    "    q.queueDisplay()\n",
    "\n",
    "    q.queueDequeue()\n",
    "    q.queueDequeue()\n",
    "    print(\"\\n\\nafter two node deletion\\n\")\n",
    "\n",
    "    # Print queue elements\n",
    "    q.queueDisplay()\n",
    "\n",
    "    # Print front of queue\n",
    "    q.queueFront()\n"
   ]
  },
  {
   "cell_type": "raw",
   "id": "41a9da89-6ba8-4d69-9b1b-b8a600da3f25",
   "metadata": {},
   "source": [
    "Time complexity:O(n)\n",
    "Auxiliary Space complexity:O(n)"
   ]
  },
  {
   "cell_type": "code",
   "execution_count": null,
   "id": "2e4e82a9-d1b9-4d96-8475-6055fd9503ee",
   "metadata": {},
   "outputs": [],
   "source": []
  }
 ],
 "metadata": {
  "kernelspec": {
   "display_name": "Python 3 (ipykernel)",
   "language": "python",
   "name": "python3"
  },
  "language_info": {
   "codemirror_mode": {
    "name": "ipython",
    "version": 3
   },
   "file_extension": ".py",
   "mimetype": "text/x-python",
   "name": "python",
   "nbconvert_exporter": "python",
   "pygments_lexer": "ipython3",
   "version": "3.11.7"
  }
 },
 "nbformat": 4,
 "nbformat_minor": 5
}
