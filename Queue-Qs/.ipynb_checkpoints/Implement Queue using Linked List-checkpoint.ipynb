{
 "cells": [
  {
   "cell_type": "code",
   "execution_count": 1,
   "id": "501cb253-06da-4c04-a94e-4048f2fa8b07",
   "metadata": {},
   "outputs": [
    {
     "data": {
      "text/plain": [
       "\"\\nImplement a Queue using Linked List. \\nA Query Q is of 2 Types\\n(i) 1 x   (a query of this type means  pushing 'x' into the queue)\\n(ii) 2     (a query of this type means to pop an element from the queue and print the poped element)\\n\\nExample 1:\\n\\nInput:\\nQ = 5\\nQueries = 1 2 1 3 2 1 4 2\\nOutput: 2 3\\nExplanation: n the first testcase\\n1 2 the queue will be {2}\\n1 3 the queue will be {2 3}\\n2   poped element will be 2 the\\n    queue will be {3}\\n1 4 the queue will be {3 4}\\n2   poped element will be 3.\\n\\nExample 2:\\n\\nInput:\\nQ = 4\\nQueries = 1 2 2 2 1 3 \\nOutput: 2 -1\\nExplanation: In the second testcase \\n1 2 the queue will be {2}\\n2   poped element will be {2} then\\n    the queue will be empty. \\n2   the queue is empty and hence -1\\n1 3 the queue will be {3}.\\nYour Task:\\nComplete the function push() which takes an integer as input parameter and pop() which will remove and return an element(-1 if queue is empty).\\n\\nExpected Time Complexity: O(1).\\nExpected Auxiliary Space: O(1).\\n\\nConstraints:\\n1 <= Q <= 100\\n1 <= x <= 100\\n\""
      ]
     },
     "execution_count": 1,
     "metadata": {},
     "output_type": "execute_result"
    }
   ],
   "source": [
    "'''\n",
    "Implement a Queue using Linked List. \n",
    "A Query Q is of 2 Types\n",
    "(i) 1 x   (a query of this type means  pushing 'x' into the queue)\n",
    "(ii) 2     (a query of this type means to pop an element from the queue and print the poped element)\n",
    "\n",
    "Example 1:\n",
    "\n",
    "Input:\n",
    "Q = 5\n",
    "Queries = 1 2 1 3 2 1 4 2\n",
    "Output: 2 3\n",
    "Explanation: n the first testcase\n",
    "1 2 the queue will be {2}\n",
    "1 3 the queue will be {2 3}\n",
    "2   poped element will be 2 the\n",
    "    queue will be {3}\n",
    "1 4 the queue will be {3 4}\n",
    "2   poped element will be 3.\n",
    "\n",
    "Example 2:\n",
    "\n",
    "Input:\n",
    "Q = 4\n",
    "Queries = 1 2 2 2 1 3 \n",
    "Output: 2 -1\n",
    "Explanation: In the second testcase \n",
    "1 2 the queue will be {2}\n",
    "2   poped element will be {2} then\n",
    "    the queue will be empty. \n",
    "2   the queue is empty and hence -1\n",
    "1 3 the queue will be {3}.\n",
    "Your Task:\n",
    "Complete the function push() which takes an integer as input parameter and pop() which will remove and return an element(-1 if queue is empty).\n",
    "\n",
    "Expected Time Complexity: O(1).\n",
    "Expected Auxiliary Space: O(1).\n",
    "\n",
    "Constraints:\n",
    "1 <= Q <= 100\n",
    "1 <= x <= 100\n",
    "'''"
   ]
  },
  {
   "cell_type": "code",
   "execution_count": 2,
   "id": "2021afca-60fd-44c9-ba0e-5e4fa669c43a",
   "metadata": {},
   "outputs": [],
   "source": [
    "# A linked list (LL) node \n",
    "# to store a queue entry \n",
    "class Node: \n",
    "      \n",
    "    def __init__(self, data): \n",
    "        self.data = data \n",
    "        self.next = None\n",
    "        \n",
    "class MyQueue:\n",
    "    \n",
    "    def __init__(self):\n",
    "        self.head=None\n",
    "    \n",
    "    #Function to push an element into the queue.\n",
    "    def push(self, item):\n",
    "        temp=Node(item)\n",
    "        if self.head!=None:\n",
    "            curr=self.head\n",
    "            while curr.next!=None:\n",
    "                curr=curr.next\n",
    "            curr.next=temp\n",
    "        else:\n",
    "            self.head=temp\n",
    "\n",
    "        \n",
    "         \n",
    "         #Add code here\n",
    "    \n",
    "    #Function to pop front element from the queue.\n",
    "    def pop(self):\n",
    "            if self.head==None:\n",
    "                return -1\n",
    "            if self.head.next==None:\n",
    "                temp=self.head.data\n",
    "                self.head=None\n",
    "                return temp\n",
    "            temp=self.head\n",
    "            self.head=self.head.next\n",
    "            return temp.data\n",
    "        "
   ]
  },
  {
   "cell_type": "code",
   "execution_count": null,
   "id": "768f00d5-1814-4b8f-a38a-be8aa8f49583",
   "metadata": {},
   "outputs": [],
   "source": []
  }
 ],
 "metadata": {
  "kernelspec": {
   "display_name": "Python 3 (ipykernel)",
   "language": "python",
   "name": "python3"
  },
  "language_info": {
   "codemirror_mode": {
    "name": "ipython",
    "version": 3
   },
   "file_extension": ".py",
   "mimetype": "text/x-python",
   "name": "python",
   "nbconvert_exporter": "python",
   "pygments_lexer": "ipython3",
   "version": "3.11.7"
  }
 },
 "nbformat": 4,
 "nbformat_minor": 5
}
