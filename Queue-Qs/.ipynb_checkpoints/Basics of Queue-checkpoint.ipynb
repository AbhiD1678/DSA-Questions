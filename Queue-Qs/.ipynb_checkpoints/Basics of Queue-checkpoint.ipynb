{
 "cells": [
  {
   "cell_type": "raw",
   "id": "fc947106-c93b-4c1c-9379-838ec9e587bc",
   "metadata": {},
   "source": [
    "Queue is a linear data structure.\n",
    "Open at both the ends,which follows the principle of fifo,first in first out.\n",
    "\n",
    "Queue can be defined as a list where the addition of items can be done on one end and deletion is done at the other end.\n",
    "Also the element that is pushed first in the order,the operation are first performed on it."
   ]
  },
  {
   "cell_type": "raw",
   "id": "89cd38e5-607b-421d-b3b7-1e546ac5010b",
   "metadata": {},
   "source": [
    "Characteristics of Queue:\n",
    "They are fast and flexible\n",
    "We can access data from both the end\n",
    "Queue can handle multiple data\n",
    "\n",
    "Queues can represented either by arrays or linked list"
   ]
  },
  {
   "cell_type": "raw",
   "id": "96644e03-41ad-4036-abab-c6a477dd4255",
   "metadata": {},
   "source": [
    "Types of Queues\n",
    "\n",
    "Input Restricted Queue-Here input can be taken from one end and deletion can be done from any ends.\n",
    "\n",
    "Output Restricted Queue-Here input can be taken from any end but deletion can be done from one end only\n",
    "\n",
    "Circular Queue-Special type of queue where the last position is connected back to the first position.\n",
    "\n",
    "Double Ended Queue-Here addition and deletion can be done from both ends.\n",
    "\n",
    "Priority Queue-Special queue where the elements can be accessed according to the priority assigned to them."
   ]
  },
  {
   "cell_type": "raw",
   "id": "c5112d59-fefa-4c69-a1e1-0772e8d334e3",
   "metadata": {},
   "source": [
    "Applications of Queues\n",
    "\n",
    "When there is a single resource among multiple consumers.\n",
    "When data is transferred asynchronously between two processes\n",
    "\n",
    "Applications of Queue in Operating systems:\n",
    "Semaphores\n",
    "FCFS ( first come first serve) scheduling, example: FIFO queue\n",
    "Spooling in printers\n",
    "Buffer for devices like keyboard\n",
    "\n",
    "Applications of Queue in Networks:\n",
    "Queues in routers/ switches \n",
    "Mail Queues\n",
    "Variations: ( Deque, Priority Queue, Doubly Ended Priority Queue )\n",
    "\n",
    "Some other applications of Queue:\n",
    "Applied as waiting lists for a single shared resource like CPU, Disk, and Printer.\n",
    "Applied as buffers on MP3 players and portable CD players.\n",
    "Applied on Operating system to handle the interruption.\n",
    "Applied to add song at the end or to play from the front.\n",
    "Applied on WhatsApp when we send messages to our friends and they don’t have an internet connection then these messages are queued on the server of WhatsApp.\n"
   ]
  },
  {
   "cell_type": "code",
   "execution_count": null,
   "id": "e542c1bf-0a16-4535-9df6-fec0c9c8dff8",
   "metadata": {},
   "outputs": [],
   "source": []
  },
  {
   "cell_type": "code",
   "execution_count": null,
   "id": "06b58481-7e5c-4a95-a68e-190b362bfa04",
   "metadata": {},
   "outputs": [],
   "source": []
  }
 ],
 "metadata": {
  "kernelspec": {
   "display_name": "Python 3 (ipykernel)",
   "language": "python",
   "name": "python3"
  },
  "language_info": {
   "codemirror_mode": {
    "name": "ipython",
    "version": 3
   },
   "file_extension": ".py",
   "mimetype": "text/x-python",
   "name": "python",
   "nbconvert_exporter": "python",
   "pygments_lexer": "ipython3",
   "version": "3.11.7"
  }
 },
 "nbformat": 4,
 "nbformat_minor": 5
}
