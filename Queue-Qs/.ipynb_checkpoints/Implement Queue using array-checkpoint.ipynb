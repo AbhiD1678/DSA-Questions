{
 "cells": [
  {
   "cell_type": "code",
   "execution_count": 1,
   "id": "b0d4ed64-1324-49bd-83b9-b45917b71ce9",
   "metadata": {},
   "outputs": [
    {
     "data": {
      "text/plain": [
       "\"\\nImplement a Queue using an Array. Queries in the Queue are of the following type:\\n(i) 1 x   (a query of this type means  pushing 'x' into the queue)\\n(ii) 2     (a query of this type means to pop element from queue and print the poped element)\\n\\nExample 1:\\n\\nInput:\\nQ = 5\\nQueries = 1 2 1 3 2 1 4 2\\nOutput: 2 3\\nExplanation:\\nIn the first test case for query \\n1 2 the queue will be {2}\\n1 3 the queue will be {2 3}\\n2   poped element will be 2 the \\n    queue will be {3}\\n1 4 the queue will be {3 4}\\n2   poped element will be 3 \\nExample 2:\\n\\nInput:\\nQ = 4\\nQueries = 1 3 2 2 1 4   \\nOutput: 3 -1\\nExplanation:\\nIn the second testcase for query \\n1 3 the queue will be {3}\\n2   poped element will be 3 the\\n    queue will be empty\\n2   there is no element in the\\n    queue and hence -1\\n1 4 the queue will be {4}. \\nYour Task :\\nYou are required to complete the two methods push() which take one argument an integer 'x' to be pushed into the queue and pop() which returns a integer poped out from othe queue. If the queue is empty, it should return -1 on a pop operation. \\n\\nExpected Time Complexity: O(1) for both push() and pop().\\nExpected Auxiliary Space: O(1) for both push() and pop().\\n\\nConstraints:\\n1 ≤ Q ≤ 105\\n0 ≤ x ≤ 105\\n\\n\\n\""
      ]
     },
     "execution_count": 1,
     "metadata": {},
     "output_type": "execute_result"
    }
   ],
   "source": [
    "'''\n",
    "Implement a Queue using an Array. Queries in the Queue are of the following type:\n",
    "(i) 1 x   (a query of this type means  pushing 'x' into the queue)\n",
    "(ii) 2     (a query of this type means to pop element from queue and print the poped element)\n",
    "\n",
    "Example 1:\n",
    "\n",
    "Input:\n",
    "Q = 5\n",
    "Queries = 1 2 1 3 2 1 4 2\n",
    "Output: 2 3\n",
    "Explanation:\n",
    "In the first test case for query \n",
    "1 2 the queue will be {2}\n",
    "1 3 the queue will be {2 3}\n",
    "2   poped element will be 2 the \n",
    "    queue will be {3}\n",
    "1 4 the queue will be {3 4}\n",
    "2   poped element will be 3 \n",
    "Example 2:\n",
    "\n",
    "Input:\n",
    "Q = 4\n",
    "Queries = 1 3 2 2 1 4   \n",
    "Output: 3 -1\n",
    "Explanation:\n",
    "In the second testcase for query \n",
    "1 3 the queue will be {3}\n",
    "2   poped element will be 3 the\n",
    "    queue will be empty\n",
    "2   there is no element in the\n",
    "    queue and hence -1\n",
    "1 4 the queue will be {4}. \n",
    "Your Task :\n",
    "You are required to complete the two methods push() which take one argument an integer 'x' to be pushed into the queue and pop() which returns a integer poped out from othe queue. If the queue is empty, it should return -1 on a pop operation. \n",
    "\n",
    "Expected Time Complexity: O(1) for both push() and pop().\n",
    "Expected Auxiliary Space: O(1) for both push() and pop().\n",
    "\n",
    "Constraints:\n",
    "1 ≤ Q ≤ 105\n",
    "0 ≤ x ≤ 105\n",
    "\n",
    "\n",
    "'''"
   ]
  },
  {
   "cell_type": "code",
   "execution_count": 2,
   "id": "48a06cc6-d98a-4cb0-bcbe-c580614fffa6",
   "metadata": {},
   "outputs": [],
   "source": [
    "#User function Template for python3\n",
    "\n",
    "class MyQueue:\n",
    "    \n",
    "    def __init__(self):\n",
    "        self.queue=[]\n",
    "        self.front=0\n",
    "        self.rear=0\n",
    "    \n",
    "    #Function to push an element x in a queue.\n",
    "    def push(self, x):\n",
    "        self.queue.append(x) \n",
    "         #add code here\n",
    "     \n",
    "    #Function to pop an element from queue and return that element.\n",
    "    def pop(self): \n",
    "        if self.queue==[]:\n",
    "            return -1\n",
    "        else:\n",
    "            return self.queue.pop(0)"
   ]
  },
  {
   "cell_type": "code",
   "execution_count": null,
   "id": "0e01dcc5-b349-414f-8474-68c8b6695ca3",
   "metadata": {},
   "outputs": [],
   "source": []
  }
 ],
 "metadata": {
  "kernelspec": {
   "display_name": "Python 3 (ipykernel)",
   "language": "python",
   "name": "python3"
  },
  "language_info": {
   "codemirror_mode": {
    "name": "ipython",
    "version": 3
   },
   "file_extension": ".py",
   "mimetype": "text/x-python",
   "name": "python",
   "nbconvert_exporter": "python",
   "pygments_lexer": "ipython3",
   "version": "3.11.7"
  }
 },
 "nbformat": 4,
 "nbformat_minor": 5
}
