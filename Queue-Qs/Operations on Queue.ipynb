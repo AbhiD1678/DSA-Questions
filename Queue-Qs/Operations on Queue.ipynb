{
 "cells": [
  {
   "cell_type": "code",
   "execution_count": 1,
   "id": "0fba54b0-209a-4868-b7df-1b1ad5b0076c",
   "metadata": {},
   "outputs": [
    {
     "data": {
      "text/plain": [
       "'\\nGiven a queue of integers and Q queries. The task is to perform operations on queue according to the query. \\n\\nQueries are as:\\n\\ni x : (adds element x in the queue from rear).\\n\\nr : (Removes the front element of queue).\\n\\nh : (Returns the front element).\\n\\nf y : (check if the element y is present or not in the queue). Return \"Yes\" if present, else \"No\".\\n\\nExample 1:\\n\\nInput:\\nQ = 6\\nQueries = i 2 i 4 i 3 i 5 h f 8\\nOutput:\\n2\\nNo\\nExplanation: Inserting 2, 4, 3, and 5\\nonto the queue: 2 4 3 5. h means front\\nSo front is 2. f is find. 8 is not in\\nqueue so No.\\nExample 2:\\n\\nInput:\\nQ = 4\\nQueries = i 3 i 4 r f 3\\nOutput: No\\nExplanation: Inserting 3 and 4 . When\\nwe return and remove 3 and then when\\nwe find 3 , it will return NO as\\noutput as 3 is not present in the\\nqueue.\\nYour Task:\\nYour task is to complete functions enqueue(), dequeue(), front() and find() which performs the operations described above in the problem description.\\n\\nExpected Time Complexity: O(1) for enqueue(), dequeue() and front(); O(N) for find().\\nExpected Auxiliary Space: O(1) for all the 4 functions. \\n\\nConstraints:\\n1 <= Q <= 103\\n'"
      ]
     },
     "execution_count": 1,
     "metadata": {},
     "output_type": "execute_result"
    }
   ],
   "source": [
    "'''\n",
    "Given a queue of integers and Q queries. The task is to perform operations on queue according to the query. \n",
    "\n",
    "Queries are as:\n",
    "\n",
    "i x : (adds element x in the queue from rear).\n",
    "\n",
    "r : (Removes the front element of queue).\n",
    "\n",
    "h : (Returns the front element).\n",
    "\n",
    "f y : (check if the element y is present or not in the queue). Return \"Yes\" if present, else \"No\".\n",
    "\n",
    "Example 1:\n",
    "\n",
    "Input:\n",
    "Q = 6\n",
    "Queries = i 2 i 4 i 3 i 5 h f 8\n",
    "Output:\n",
    "2\n",
    "No\n",
    "Explanation: Inserting 2, 4, 3, and 5\n",
    "onto the queue: 2 4 3 5. h means front\n",
    "So front is 2. f is find. 8 is not in\n",
    "queue so No.\n",
    "Example 2:\n",
    "\n",
    "Input:\n",
    "Q = 4\n",
    "Queries = i 3 i 4 r f 3\n",
    "Output: No\n",
    "Explanation: Inserting 3 and 4 . When\n",
    "we return and remove 3 and then when\n",
    "we find 3 , it will return NO as\n",
    "output as 3 is not present in the\n",
    "queue.\n",
    "Your Task:\n",
    "Your task is to complete functions enqueue(), dequeue(), front() and find() which performs the operations described above in the problem description.\n",
    "\n",
    "Expected Time Complexity: O(1) for enqueue(), dequeue() and front(); O(N) for find().\n",
    "Expected Auxiliary Space: O(1) for all the 4 functions. \n",
    "\n",
    "Constraints:\n",
    "1 <= Q <= 103\n",
    "'''\n"
   ]
  },
  {
   "cell_type": "code",
   "execution_count": 2,
   "id": "fd9319a4-7a60-4911-9978-9a50feaa2369",
   "metadata": {},
   "outputs": [],
   "source": [
    "class Solution:\n",
    "    '''\n",
    "    Function Arguments :\n",
    "    \t\t@param  : q (given list on which queue is implemented)\n",
    "    \t\t@param  : x (value to be used accordingly)\n",
    "    \t\t@return : None\n",
    "    '''\n",
    "  \n",
    "    \n",
    "    #Function to push an element in queue.\n",
    "    def enqueue(self,q, x):\n",
    "        q.append(x)\n",
    "        # code here\n",
    "    \n",
    "    #Function to remove front element from queue.\n",
    "    def dequeue(self,q):\n",
    "        return q.pop(0)\n",
    "        # code here\n",
    "    \n",
    "    #Function to find the front element of queue.\n",
    "    def front(self,q):\n",
    "        if q==[]:\n",
    "            return None\n",
    "        else:\n",
    "            return q[0]\n",
    "        # code here\n",
    "    \n",
    "    #Function to find an element in the queue.\n",
    "    def find(self,q, x):\n",
    "        if x not in q:\n",
    "            return 0\n",
    "        else:\n",
    "            return 1\n",
    "        # code here\n"
   ]
  },
  {
   "cell_type": "code",
   "execution_count": null,
   "id": "0ba8faaf-bdf9-44fd-9f38-0706e01e1278",
   "metadata": {},
   "outputs": [],
   "source": []
  }
 ],
 "metadata": {
  "kernelspec": {
   "display_name": "Python 3 (ipykernel)",
   "language": "python",
   "name": "python3"
  },
  "language_info": {
   "codemirror_mode": {
    "name": "ipython",
    "version": 3
   },
   "file_extension": ".py",
   "mimetype": "text/x-python",
   "name": "python",
   "nbconvert_exporter": "python",
   "pygments_lexer": "ipython3",
   "version": "3.11.7"
  }
 },
 "nbformat": 4,
 "nbformat_minor": 5
}
