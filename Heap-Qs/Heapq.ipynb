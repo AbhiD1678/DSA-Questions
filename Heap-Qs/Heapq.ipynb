{
 "cells": [
  {
   "cell_type": "code",
   "execution_count": 15,
   "id": "0ee954a8-b91f-442e-b4a1-22797451ac66",
   "metadata": {},
   "outputs": [
    {
     "name": "stdout",
     "output_type": "stream",
     "text": [
      "[1, 4, 5, 30, 20]\n",
      "[1, 4, 3, 30, 20, 5]\n",
      "1\n",
      "[3, 4, 5, 30, 20]\n",
      "[30, 20]\n",
      "[3, 4, 5, 20]\n",
      "2\n",
      "3\n",
      "[4, 20, 5, 30, 22]\n",
      "4\n"
     ]
    }
   ],
   "source": [
    "import heapq\n",
    "\n",
    "pq=[5,20,1,30,4]\n",
    "\n",
    "heapq.heapify(pq)\n",
    "print(pq)\n",
    "\n",
    "heapq.heappush(pq,3)\n",
    "print(pq)\n",
    "\n",
    "print(heapq.heappop(pq))\n",
    "print(pq)\n",
    "print(heapq.nlargest(2,pq))\n",
    "\n",
    "print(heapq.nsmallest(4,pq))\n",
    "\n",
    "print(heapq.heappushpop(pq,2))\n",
    "print(heapq.heappushpop(pq,22))\n",
    "print(pq)\n",
    "print(heapq.heapreplace(pq,-1))# acts as pop push method"
   ]
  },
  {
   "cell_type": "code",
   "execution_count": null,
   "id": "fc82c97c-19ff-47a7-ae50-44f8ebd2c8d7",
   "metadata": {},
   "outputs": [],
   "source": []
  }
 ],
 "metadata": {
  "kernelspec": {
   "display_name": "Python 3 (ipykernel)",
   "language": "python",
   "name": "python3"
  },
  "language_info": {
   "codemirror_mode": {
    "name": "ipython",
    "version": 3
   },
   "file_extension": ".py",
   "mimetype": "text/x-python",
   "name": "python",
   "nbconvert_exporter": "python",
   "pygments_lexer": "ipython3",
   "version": "3.12.0"
  }
 },
 "nbformat": 4,
 "nbformat_minor": 5
}
