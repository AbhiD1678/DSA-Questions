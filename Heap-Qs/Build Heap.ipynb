{
 "cells": [
  {
   "cell_type": "markdown",
   "id": "76392b0b-8d9c-40b4-bf09-42a8ae7a1d5e",
   "metadata": {},
   "source": [
    "Naive approach by Sorting\n",
    "Time complexity will be O(nlogn)\n",
    "\n",
    "Efficient is to Traverse from Bottom\n",
    "Time complexity is O(n)"
   ]
  },
  {
   "cell_type": "code",
   "execution_count": null,
   "id": "db7b7f38-f442-48d7-b883-00ef663cbb06",
   "metadata": {},
   "outputs": [],
   "source": [
    "class MyMinHeap:\n",
    "    def __init__(self,l=[]):\n",
    "        self.arr=l\n",
    "        i=(len(l)-2)//2\n",
    "        while i>=0:\n",
    "            self.minHeapify(i)\n",
    "            i=i-1"
   ]
  }
 ],
 "metadata": {
  "kernelspec": {
   "display_name": "Python 3 (ipykernel)",
   "language": "python",
   "name": "python3"
  },
  "language_info": {
   "codemirror_mode": {
    "name": "ipython",
    "version": 3
   },
   "file_extension": ".py",
   "mimetype": "text/x-python",
   "name": "python",
   "nbconvert_exporter": "python",
   "pygments_lexer": "ipython3",
   "version": "3.12.0"
  }
 },
 "nbformat": 4,
 "nbformat_minor": 5
}
