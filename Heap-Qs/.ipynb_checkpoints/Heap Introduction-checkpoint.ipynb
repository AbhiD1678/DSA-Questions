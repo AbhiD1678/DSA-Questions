{
 "cells": [
  {
   "cell_type": "markdown",
   "id": "87c92b4f-5337-495a-a3d9-686048449157",
   "metadata": {},
   "source": [
    "There are 2 types of heap\n",
    "Min Heap-Where the lowest number represents the highest priority\n",
    "Max Heap-Where the highest number represents the highest priority\n",
    "Heap is stored in arrays,so we need complete binary tree filled from left to right"
   ]
  },
  {
   "cell_type": "raw",
   "id": "fffe83ae-61a8-45ec-b4a9-79dda7c991ac",
   "metadata": {},
   "source": [
    "Min Heap:\n",
    "Complete Binary Tree\n",
    "Every node has value smaller than its descendent"
   ]
  },
  {
   "cell_type": "code",
   "execution_count": null,
   "id": "8e80d404-6f26-4cf1-80d0-00704a835d1a",
   "metadata": {},
   "outputs": [],
   "source": []
  }
 ],
 "metadata": {
  "kernelspec": {
   "display_name": "Python 3 (ipykernel)",
   "language": "python",
   "name": "python3"
  },
  "language_info": {
   "codemirror_mode": {
    "name": "ipython",
    "version": 3
   },
   "file_extension": ".py",
   "mimetype": "text/x-python",
   "name": "python",
   "nbconvert_exporter": "python",
   "pygments_lexer": "ipython3",
   "version": "3.12.0"
  }
 },
 "nbformat": 4,
 "nbformat_minor": 5
}
