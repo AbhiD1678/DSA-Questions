{
 "cells": [
  {
   "cell_type": "code",
   "execution_count": 5,
   "id": "137a448b-3222-4a7f-8c36-2ddca19b1297",
   "metadata": {},
   "outputs": [],
   "source": [
    "class MinHeap:\n",
    "    def __init__(self):\n",
    "        self.arr=[]\n",
    "    def parent(self,i):\n",
    "        return (i-1)//2\n",
    "    def leftChild(self,i):\n",
    "        return (2*i+1)\n",
    "    def rightChild(self,i):\n",
    "        return (2*i+2)\n",
    "\n",
    "    #Insert Method\n",
    "    def insert(self,x):\n",
    "        arr=self.arr\n",
    "        arr.append(x)\n",
    "        i=len(arr)-1\n",
    "        while i>0 and arr[self.parent(i)]>arr[i]:\n",
    "            p=self.parent(i)\n",
    "            arr[i],arr[p]=arr[p],arr[i]\n",
    "            i=p\n",
    "        # Time complexity:O(logn) as we traverse through the height of the tree\n",
    "            \n",
    "    #Min Heapify Function,wwe are using a recursive solution for this so Time complexity:O(logn),Auxiliary Space:O(n)\n",
    "    def MinHeapify(self,i):\n",
    "        arr=self.arr\n",
    "        lt=self.leftChild(i)\n",
    "        rt=self.rightChild(i)\n",
    "        smallest=i\n",
    "\n",
    "        if lt<n and arr[lt]<arr[smallest]:\n",
    "            smallest=lt\n",
    "        if rt<n and arr[rt]<arr[smallest]:\n",
    "            smallest=rt\n",
    "\n",
    "        if smallest!=i:\n",
    "            arr[smallest],arr[i]=arr[i],arr[smallest]\n",
    "            self.MinHeapify(smallest)\n",
    "        "
   ]
  },
  {
   "cell_type": "code",
   "execution_count": null,
   "id": "acf6049d-178a-4f91-91d1-f5d25cf89635",
   "metadata": {},
   "outputs": [],
   "source": []
  }
 ],
 "metadata": {
  "kernelspec": {
   "display_name": "Python 3 (ipykernel)",
   "language": "python",
   "name": "python3"
  },
  "language_info": {
   "codemirror_mode": {
    "name": "ipython",
    "version": 3
   },
   "file_extension": ".py",
   "mimetype": "text/x-python",
   "name": "python",
   "nbconvert_exporter": "python",
   "pygments_lexer": "ipython3",
   "version": "3.12.0"
  }
 },
 "nbformat": 4,
 "nbformat_minor": 5
}
