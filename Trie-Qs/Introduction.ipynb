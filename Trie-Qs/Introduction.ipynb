{
 "cells": [
  {
   "cell_type": "markdown",
   "id": "24b02f39-bd42-4d00-a7b1-54942140bb9f",
   "metadata": {},
   "source": [
    "Trie is efficient in dictories for the following operations\n",
    "- Search\n",
    "- Insert\n",
    "- Delete\n",
    "- Prefix search\n",
    "- Lexographically sorting"
   ]
  },
  {
   "cell_type": "code",
   "execution_count": null,
   "id": "77de644e-cafe-472c-b4b4-099d6d3e1c67",
   "metadata": {},
   "outputs": [],
   "source": []
  }
 ],
 "metadata": {
  "kernelspec": {
   "display_name": "Python 3 (ipykernel)",
   "language": "python",
   "name": "python3"
  },
  "language_info": {
   "codemirror_mode": {
    "name": "ipython",
    "version": 3
   },
   "file_extension": ".py",
   "mimetype": "text/x-python",
   "name": "python",
   "nbconvert_exporter": "python",
   "pygments_lexer": "ipython3",
   "version": "3.12.0"
  }
 },
 "nbformat": 4,
 "nbformat_minor": 5
}
