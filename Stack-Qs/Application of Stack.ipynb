{
 "cells": [
  {
   "cell_type": "raw",
   "id": "c3882dca-6fab-42fa-889b-604f9aeda6d3",
   "metadata": {},
   "source": [
    "Application of Stack Data Structure:\n",
    "\n",
    "Stack is used for evaluating expression with operands and operations.\n",
    "Matching tags in HTML and XML\n",
    "Undo function in any text editor.\n",
    "Infix to Postfix conversion.\n",
    "Stacks are used for backtracking and parenthesis matching.\n",
    "Stacks are used for conversion of one arithmetic notation to another arithmetic notation.\n",
    "Stacks are useful for function calls, storing the activation records and deleting them after returning from the function. It is very useful in processing the function calls.\n",
    "Stacks help in reversing any set of data or strings.\n",
    "Application of Stack in real life:\n",
    "\n",
    "CD/DVD stand.\n",
    "Stack of books in a book shop.\n",
    "Undo and Redo mechanism in text editors.\n",
    "The history of a web browser is stored in the form of a stack.\n",
    "Call logs, E-mails, and Google photos in any gallery are also stored in form of a stack.\n",
    "YouTube downloads and Notifications are also shown in LIFO format(the latest appears first ).\n",
    "Advantages of Stack:\n",
    "\n",
    "Stack helps in managing data that follows the LIFO technique.\n",
    "Stacks are be used for systematic Memory Management.\n",
    "It is used in many virtual machines like JVM.\n",
    "When a function is called, the local variables and other function parameters are stored in the stack and automatically destroyed once returned from the function. Hence, efficient function management.\n",
    "Stacks are more secure and reliable as they do not get corrupted easily.\n",
    "Stack allows control over memory allocation and deallocation.\n",
    "Stack cleans up the objects automatically.\n",
    "Disadvantages of Stack: \n",
    "\n",
    "Stack memory is of limited size.\n",
    "The total of size of the stack must be defined before.\n",
    "If too many objects are created then it can lead to stack overflow.\n",
    "Random accessing is not possible in stack.\n",
    "If the stack falls outside the memory it can lead to abnormal termination.\n"
   ]
  },
  {
   "cell_type": "code",
   "execution_count": null,
   "id": "109263ad-bf5d-4b6a-84e8-4d369c9dd87d",
   "metadata": {},
   "outputs": [],
   "source": []
  }
 ],
 "metadata": {
  "kernelspec": {
   "display_name": "Python 3 (ipykernel)",
   "language": "python",
   "name": "python3"
  },
  "language_info": {
   "codemirror_mode": {
    "name": "ipython",
    "version": 3
   },
   "file_extension": ".py",
   "mimetype": "text/x-python",
   "name": "python",
   "nbconvert_exporter": "python",
   "pygments_lexer": "ipython3",
   "version": "3.11.7"
  }
 },
 "nbformat": 4,
 "nbformat_minor": 5
}
