{
 "cells": [
  {
   "cell_type": "raw",
   "id": "5ce06104-7095-4289-b8a9-a77e081b47d0",
   "metadata": {},
   "source": [
    "You are given string str. You need to remove the pair of duplicates.\n",
    "Note: The pair should be of adjacent elements and after removing a pair the remaining string is joined together. \n",
    "\n",
    "Example 1:\n",
    "\n",
    "Input:\n",
    "aaabbaaccd\n",
    "\n",
    "Output: \n",
    "ad\n",
    "\n",
    "Explanation: \n",
    "Remove (aa)abbaaccd =>abbaaccd\n",
    "Remove a(bb)aaccd => aaaccd\n",
    "Remove (aa)accd => accd\n",
    "Remove a(cc)d => ad\n",
    "Example 2:\n",
    "\n",
    "Input: \n",
    "aaaa\n",
    "\n",
    "Output: \n",
    "Empty String\n",
    "\n",
    "Explanation: \n",
    "Remove (aa)aa => aa\n",
    "Again removing pair of duplicates then (aa) \n",
    "will be removed and we will get 'Empty String'.\n",
    "\n",
    "Your Task:\n",
    "This is a function problem. You only need to complete the function removePair() that takes a string as a parameter and returns the modified string. Return an empty string if the whole string is deleted.\n",
    "\n",
    "Expected Time Complexity: O(N).\n",
    "Expected Auxiliary Space: O(N).\n",
    "N = length of the string.\n",
    "\n",
    "Constraints:\n",
    "1 <= |str| <= 103\n",
    "\n"
   ]
  },
  {
   "cell_type": "code",
   "execution_count": 1,
   "id": "89a51568-b86a-4bcf-b431-180a5932000d",
   "metadata": {},
   "outputs": [],
   "source": [
    "class Solution:\n",
    "    \n",
    "    #Function to remove pair of duplicates from given string using Stack.\n",
    "    def removePair(self, s):\n",
    "        stack = []\n",
    "        for char in s:\n",
    "            if stack and stack[-1] == char:\n",
    "                stack.pop()\n",
    "            else:\n",
    "                stack.append(char)\n",
    "        \n",
    "        if stack!=[]:\n",
    "            return ''.join(stack)\n",
    "        else:\n",
    "            return 'Empty String'\n",
    "\n",
    "            "
   ]
  },
  {
   "cell_type": "code",
   "execution_count": null,
   "id": "a1307ae0-6b67-4271-9436-6e06d1fc1d44",
   "metadata": {},
   "outputs": [],
   "source": []
  }
 ],
 "metadata": {
  "kernelspec": {
   "display_name": "Python 3 (ipykernel)",
   "language": "python",
   "name": "python3"
  },
  "language_info": {
   "codemirror_mode": {
    "name": "ipython",
    "version": 3
   },
   "file_extension": ".py",
   "mimetype": "text/x-python",
   "name": "python",
   "nbconvert_exporter": "python",
   "pygments_lexer": "ipython3",
   "version": "3.11.7"
  }
 },
 "nbformat": 4,
 "nbformat_minor": 5
}
