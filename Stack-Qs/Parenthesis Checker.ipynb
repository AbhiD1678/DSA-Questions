{
 "cells": [
  {
   "cell_type": "raw",
   "id": "8459f14f-9919-4dd4-9dc9-4402645890df",
   "metadata": {},
   "source": [
    "Given an expression string x. Examine whether the pairs and the orders of {,},(,),[,] are correct in exp.\n",
    "For example, the function should return 'true' for exp = [()]{}{[()()]()} and 'false' for exp = [(]).\n",
    "\n",
    "Note: The drive code prints \"balanced\" if function return true, otherwise it prints \"not balanced\".\n",
    "\n",
    "Example 1:\n",
    "\n",
    "Input:\n",
    "{([])}\n",
    "Output: \n",
    "true\n",
    "Explanation: \n",
    "{ ( [ ] ) }. Same colored brackets can form \n",
    "balanced pairs, with 0 number of \n",
    "unbalanced bracket.\n",
    "Example 2:\n",
    "\n",
    "Input: \n",
    "()\n",
    "Output: \n",
    "true\n",
    "Explanation: \n",
    "(). Same bracket can form balanced pairs, \n",
    "and here only 1 type of bracket is \n",
    "present and in balanced way.\n",
    "Example 3:\n",
    "\n",
    "Input: \n",
    "([]\n",
    "Output: \n",
    "false\n",
    "Explanation: \n",
    "([]. Here square bracket is balanced but \n",
    "the small bracket is not balanced and \n",
    "Hence , the output will be unbalanced.\n",
    "Your Task:\n",
    "This is a function problem. You only need to complete the function ispar() that takes a string as a parameter and returns a boolean value true if brackets are balanced else returns false. The printing is done automatically by the driver code.\n",
    "\n",
    "Expected Time Complexity: O(|x|)\n",
    "Expected Auixilliary Space: O(|x|)"
   ]
  },
  {
   "cell_type": "code",
   "execution_count": 1,
   "id": "3996a7f7-812c-4e45-b958-947ec1a70543",
   "metadata": {},
   "outputs": [],
   "source": [
    "class Solution:\n",
    "    def isMatching(self,a,b):\n",
    "        if a=='(' and b==')':\n",
    "            return True\n",
    "        if a=='[' and b==']' :\n",
    "            return True\n",
    "        if a=='{' and b=='}':\n",
    "            return True\n",
    "        else:\n",
    "            return False\n",
    "    \n",
    "    #Function to check if brackets are balanced or not.\n",
    "    def ispar(self,x):\n",
    "        # code here\n",
    "        stack=[]\n",
    "        \n",
    "        for x1 in x:\n",
    "            if x1 in ['(','[','{']:\n",
    "                stack.append(x1)\n",
    "                \n",
    "            else:\n",
    "                if not stack:\n",
    "                    return False\n",
    "                elif self.isMatching(stack[-1],x1)==False:\n",
    "                    return False\n",
    "                else:\n",
    "                    stack.pop()\n",
    "            \n",
    "        if stack:\n",
    "            return False\n",
    "        else:\n",
    "            return True\n",
    "        \n",
    "    "
   ]
  },
  {
   "cell_type": "markdown",
   "id": "b3c070a8-4285-44e8-a910-c354cef26528",
   "metadata": {},
   "source": [
    "Approach #1 : Using stack One approach to check balanced parentheses is to use stack. Each time, when an open parentheses is encountered push it in the stack, and when closed parenthesis is encountered, match it with the top of stack and pop it. If stack is empty at the end, return Balanced otherwise, Unbalanced. \n"
   ]
  },
  {
   "cell_type": "code",
   "execution_count": 2,
   "id": "2538eaee-2c3c-44c8-af31-0911616ad8ca",
   "metadata": {},
   "outputs": [
    {
     "name": "stdout",
     "output_type": "stream",
     "text": [
      "{[]{()}} - Balanced\n",
      "[{}{})(] - Unbalanced\n",
      "((() - Unbalanced\n"
     ]
    }
   ],
   "source": [
    "# Python3 code to Check for\n",
    "# balanced parentheses in an expression\n",
    "open_list = [\"[\",\"{\",\"(\"]\n",
    "close_list = [\"]\",\"}\",\")\"]\n",
    "\n",
    "# Function to check parentheses\n",
    "def check(myStr):\n",
    "\tstack = []\n",
    "\tfor i in myStr:\n",
    "\t\tif i in open_list:\n",
    "\t\t\tstack.append(i)\n",
    "\t\telif i in close_list:\n",
    "\t\t\tpos = close_list.index(i)\n",
    "\t\t\tif ((len(stack) > 0) and\n",
    "\t\t\t\t(open_list[pos] == stack[len(stack)-1])):\n",
    "\t\t\t\tstack.pop()\n",
    "\t\t\telse:\n",
    "\t\t\t\treturn \"Unbalanced\"\n",
    "\tif len(stack) == 0:\n",
    "\t\treturn \"Balanced\"\n",
    "\telse:\n",
    "\t\treturn \"Unbalanced\"\n",
    "\n",
    "\n",
    "# Driver code\n",
    "string = \"{[]{()}}\"\n",
    "print(string,\"-\", check(string))\n",
    "\n",
    "string = \"[{}{})(]\"\n",
    "print(string,\"-\", check(string))\n",
    "\n",
    "string = \"((()\"\n",
    "print(string,\"-\",check(string))\n",
    "\n",
    "\n"
   ]
  },
  {
   "cell_type": "markdown",
   "id": "494d6217-0b21-459e-90f6-ad430147433b",
   "metadata": {},
   "source": [
    "Approach #2 : Using queue First Map opening parentheses to respective closing parentheses. Iterate through the given expression using 'i', if 'i' is an open parentheses, append in queue, if 'i' is close parentheses, Check whether queue is empty or 'i' is the top element of queue, if yes, return \"Unbalanced\", otherwise \"Balanced\". "
   ]
  },
  {
   "cell_type": "code",
   "execution_count": 3,
   "id": "3e12f7e5-2af8-48b7-9d4e-514f8ebb0fed",
   "metadata": {},
   "outputs": [
    {
     "name": "stdout",
     "output_type": "stream",
     "text": [
      "{[]{()}} - Balanced\n",
      "((() - Unbalanced\n"
     ]
    }
   ],
   "source": [
    "# Python3 code to Check for\n",
    "# balanced parentheses in an expression\n",
    "def check(expression):\n",
    "\t\n",
    "\topen_tup = tuple('({[')\n",
    "\tclose_tup = tuple(')}]')\n",
    "\tmap = dict(zip(open_tup, close_tup))\n",
    "\tqueue = []\n",
    "\n",
    "\tfor i in expression:\n",
    "\t\tif i in open_tup:\n",
    "\t\t\tqueue.append(map[i])\n",
    "\t\telif i in close_tup:\n",
    "\t\t\tif not queue or i != queue.pop():\n",
    "\t\t\t\treturn \"Unbalanced\"\n",
    "\tif not queue:\n",
    "\t\treturn \"Balanced\"\n",
    "\telse:\n",
    "\t\treturn \"Unbalanced\"\n",
    "\n",
    "# Driver code\n",
    "string = \"{[]{()}}\"\n",
    "print(string, \"-\", check(string))\n",
    "\n",
    "string = \"((()\"\n",
    "print(string,\"-\",check(string))\n"
   ]
  },
  {
   "cell_type": "markdown",
   "id": "555eda06-fac8-4137-9737-a84a706fe57b",
   "metadata": {},
   "source": [
    "Approach#3 : Elimination based In every iteration, the innermost brackets get eliminated (replaced with empty string). If we end up with an empty string, our initial one was balanced; otherwise, not. "
   ]
  },
  {
   "cell_type": "code",
   "execution_count": 4,
   "id": "d8418615-6ae9-4b49-b743-f3bc90e2e118",
   "metadata": {},
   "outputs": [
    {
     "name": "stdout",
     "output_type": "stream",
     "text": [
      "{[]{()}} - Balanced\n"
     ]
    }
   ],
   "source": [
    "# Python3 code to Check for \n",
    "# balanced parentheses in an expression\n",
    "def check(my_string):\n",
    "    brackets = ['()', '{}', '[]']\n",
    "    while any(x in my_string for x in brackets):\n",
    "        for br in brackets:\n",
    "            my_string = my_string.replace(br, '')\n",
    "    return not my_string\n",
    " \n",
    "# Driver code\n",
    "string = \"{[]{()}}\";\n",
    "print(string, \"-\", \"Balanced\" \n",
    "      if check(string) else \"Unbalanced\")\n"
   ]
  },
  {
   "cell_type": "code",
   "execution_count": null,
   "id": "3bae25fe-06a7-4b94-9362-9cf174b75c7c",
   "metadata": {},
   "outputs": [],
   "source": []
  }
 ],
 "metadata": {
  "kernelspec": {
   "display_name": "Python 3 (ipykernel)",
   "language": "python",
   "name": "python3"
  },
  "language_info": {
   "codemirror_mode": {
    "name": "ipython",
    "version": 3
   },
   "file_extension": ".py",
   "mimetype": "text/x-python",
   "name": "python",
   "nbconvert_exporter": "python",
   "pygments_lexer": "ipython3",
   "version": "3.12.0"
  }
 },
 "nbformat": 4,
 "nbformat_minor": 5
}
