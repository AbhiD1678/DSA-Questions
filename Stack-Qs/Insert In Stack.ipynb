{
 "cells": [
  {
   "cell_type": "raw",
   "id": "9f5b8bd8-135f-4b0a-96ce-7e65d026b2c3",
   "metadata": {},
   "source": [
    "You are given an array arr[] of size N, the task is to insert the elements of the array into a stack from left to right\n",
    "\n",
    "Example 1:\n",
    "\n",
    "Input: N = 5, arr[] = {1, 2, 3, 4, 5}\n",
    "Output: 5 4 3 2 1\n",
    "Explanation: After insert in the stack \n",
    "it will look like {5, 4, 3, 2, 1}.\n",
    "Example 2:\n",
    "\n",
    "Input: N = 1, arr[] = {1}\n",
    "Output: 1\n",
    "Explanation: After insert in the stack \n",
    "it will look like {1}.\n",
    "Your Task: You don't need to read any input or print anything. Complete the function insertIntoStack() which takes an array size N and array arr[] as parameters and returns a stack.\n",
    "\n",
    "Expected Time Complexity: O(N)\n",
    "Expected Auxilliary Space: O(N)\n",
    "\n",
    "Constraints:\n",
    "1 ≤ N ≤ 105"
   ]
  },
  {
   "cell_type": "code",
   "execution_count": 1,
   "id": "550532dd-4b0f-43d0-87a8-2fa0e806e2c8",
   "metadata": {},
   "outputs": [],
   "source": [
    "class Solution:\n",
    "    def InsertInStack(self,n,arr):\n",
    "        #code here\n",
    "        stack=[]\n",
    "        for num in arr:\n",
    "            stack.append(num)\n",
    "        return stack"
   ]
  },
  {
   "cell_type": "code",
   "execution_count": null,
   "id": "448c279a-58e5-4cfa-a2cb-bd8fb54cbab2",
   "metadata": {},
   "outputs": [],
   "source": []
  }
 ],
 "metadata": {
  "kernelspec": {
   "display_name": "Python 3 (ipykernel)",
   "language": "python",
   "name": "python3"
  },
  "language_info": {
   "codemirror_mode": {
    "name": "ipython",
    "version": 3
   },
   "file_extension": ".py",
   "mimetype": "text/x-python",
   "name": "python",
   "nbconvert_exporter": "python",
   "pygments_lexer": "ipython3",
   "version": "3.11.7"
  }
 },
 "nbformat": 4,
 "nbformat_minor": 5
}
