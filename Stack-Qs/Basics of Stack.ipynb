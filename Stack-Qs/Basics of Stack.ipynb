{
 "cells": [
  {
   "cell_type": "raw",
   "id": "a042dd9b-6024-42cc-83ad-dab40d30df71",
   "metadata": {},
   "source": [
    "It is a linear data structure that follows a particular order in which the operations are performed.\n",
    "\n",
    "LIFO( Last In First Out )\n",
    "\n",
    "Basic Operations on Stack\n",
    "push() to insert an element into the stack\n",
    "pop() to remove an element from the stack\n",
    "top() Returns the top element of the stack.\n",
    "isEmpty() returns true is stack is empty else false.\n",
    "size() returns the size of stack."
   ]
  },
  {
   "cell_type": "raw",
   "id": "6c910acc-8539-4763-af24-947c8dd55149",
   "metadata": {},
   "source": [
    "Complexity Analysis:\n",
    "Time Complexity\n",
    "Operations  \tComplexity\n",
    "push() \tO(1)\n",
    "pop()   \tO(1)\n",
    "isEmpty() \tO(1)\n",
    "size()\tO(1)\n"
   ]
  },
  {
   "cell_type": "raw",
   "id": "72db7477-63ff-47cb-8c79-b5461136f55c",
   "metadata": {},
   "source": [
    "Types of Stacks:\n",
    "Register Stack: This type of stack is also a memory element present in the memory unit and can handle a small amount of data only. The height of the register stack is always limited as the size of the register stack is very small compared to the memory.\n",
    "Memory Stack: This type of stack can handle a large amount of memory data. The height of the memory stack is flexible as it occupies a large amount of memory data. "
   ]
  },
  {
   "cell_type": "code",
   "execution_count": null,
   "id": "651a95cb-5cea-48c5-a07f-cac418a01c6b",
   "metadata": {},
   "outputs": [],
   "source": []
  }
 ],
 "metadata": {
  "kernelspec": {
   "display_name": "Python 3 (ipykernel)",
   "language": "python",
   "name": "python3"
  },
  "language_info": {
   "codemirror_mode": {
    "name": "ipython",
    "version": 3
   },
   "file_extension": ".py",
   "mimetype": "text/x-python",
   "name": "python",
   "nbconvert_exporter": "python",
   "pygments_lexer": "ipython3",
   "version": "3.11.7"
  }
 },
 "nbformat": 4,
 "nbformat_minor": 5
}
