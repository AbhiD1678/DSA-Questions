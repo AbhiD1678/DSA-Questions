{
 "cells": [
  {
   "cell_type": "raw",
   "id": "8f6b1448-8db0-4566-a2f4-04e4c6e17ad7",
   "metadata": {},
   "source": [
    "Implement stack using array\n",
    "\n",
    "You are given q queries. The queries can be of 3 types:\n",
    "Query Type:               Operation\n",
    "               1 x:               Push x\n",
    "                  2:               Pop the top element\n",
    "                  3:               display stack from bottom to top in a single line.\n",
    "\n",
    "The stack here is implemented by an array stack[], and maxSize of the stack is 100000. If a push operation is performed beyond this size, you must print \"Stack Full\"(without quotes). Similarly, an unsuccessful pop operation should print \"Stack Empty\"(without quotes).  If a display operation is performed on an empty stack print -1.\n",
    "\n",
    "Example 1:\n",
    "\n",
    "Input: q[] = {(1, 4), 3, 2, 2, 3}\n",
    "Output: 4\n",
    "        Stack Empty\n",
    "        -1\n",
    "Explanation: push() --> 4\n",
    "display() --> 4 gets printed\n",
    "pop() --> Pop 4\n",
    "pop() --> stack is empty so print Stack \n",
    "          Empty\n",
    "display() --> stack is empty so print -1\n",
    "Example 2:\n",
    "\n",
    "Input: q[] = {(1, 3), 3}\n",
    "Output: 3\n",
    "Explanation: push() --> 3\n",
    "display() --> 3 gets printed\n",
    "Your Task:\n",
    "This is a function problem. The input task is performed by the driver code. You need to complete the provided functions. Complete function push() which takes an element as input parameter and pop(), display() functions.\n",
    "\n",
    "Expected Time Complexity: push: O(1), pop: O(1), display: O(N)\n",
    "Expected Auxilliary Space: O(N)"
   ]
  },
  {
   "cell_type": "code",
   "execution_count": 2,
   "id": "ce4f05c1-e426-4cbc-9a31-226abc1c8aa9",
   "metadata": {},
   "outputs": [],
   "source": [
    "#User function Template for python3\n",
    "\n",
    "##Complete these functions\n",
    "stackMax = 100000\n",
    "stack = [-1] * stackMax\n",
    "top = -1\n",
    "\n",
    "def push(data):\n",
    "    global top\n",
    "    if top == stackMax - 1:\n",
    "        print(\"Stack Full\")\n",
    "        return\n",
    "    top += 1\n",
    "    stack[top] = data\n",
    "\n",
    "def pop():\n",
    "    global top\n",
    "    if top == -1:\n",
    "        print(\"Stack Empty\")\n",
    "        return\n",
    "    top -= 1\n",
    "\n",
    "def display():\n",
    "    if top == -1:\n",
    "        print(-1)\n",
    "        return\n",
    "    for i in range(0,top+1,1):\n",
    "        print(stack[i], end=\" \")\n",
    "    print()\n"
   ]
  },
  {
   "cell_type": "code",
   "execution_count": null,
   "id": "63cd9732-9e5f-4ba6-9fbc-5df14e3dff7e",
   "metadata": {},
   "outputs": [],
   "source": []
  }
 ],
 "metadata": {
  "kernelspec": {
   "display_name": "Python 3 (ipykernel)",
   "language": "python",
   "name": "python3"
  },
  "language_info": {
   "codemirror_mode": {
    "name": "ipython",
    "version": 3
   },
   "file_extension": ".py",
   "mimetype": "text/x-python",
   "name": "python",
   "nbconvert_exporter": "python",
   "pygments_lexer": "ipython3",
   "version": "3.11.7"
  }
 },
 "nbformat": 4,
 "nbformat_minor": 5
}
