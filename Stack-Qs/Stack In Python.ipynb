{
 "cells": [
  {
   "cell_type": "raw",
   "id": "874b6698-8cc3-49a7-a995-380001ebb395",
   "metadata": {},
   "source": [
    "Using Lists\n",
    "Using collections.deque\n",
    "Using queue.LIFOqueue\n",
    "Using our own implementation"
   ]
  },
  {
   "cell_type": "code",
   "execution_count": 2,
   "id": "93bec009-36a9-4782-8e48-ea488d49e314",
   "metadata": {},
   "outputs": [
    {
     "name": "stdout",
     "output_type": "stream",
     "text": [
      "30\n",
      "20\n",
      "2\n"
     ]
    }
   ],
   "source": [
    "#Method 1 (using list)\n",
    "stack=[]\n",
    "stack.append(10)\n",
    "stack.append(20)\n",
    "stack.append(30)\n",
    "print(stack.pop())\n",
    "top=stack[-1]\n",
    "print(top)\n",
    "size=len(stack)\n",
    "print(size)"
   ]
  },
  {
   "cell_type": "code",
   "execution_count": 3,
   "id": "f79d6828-ba96-481c-9d7a-6ba82747be68",
   "metadata": {},
   "outputs": [
    {
     "name": "stdout",
     "output_type": "stream",
     "text": [
      "30\n",
      "20\n",
      "2\n"
     ]
    }
   ],
   "source": [
    "#Method 2 Using deque\n",
    "from collections import deque\n",
    "stack=deque()\n",
    "stack.append(10)\n",
    "stack.append(20)\n",
    "stack.append(30)\n",
    "print(stack.pop())\n",
    "top=stack[-1]\n",
    "print(top)\n",
    "size=len(stack)\n",
    "print(size)"
   ]
  },
  {
   "cell_type": "code",
   "execution_count": null,
   "id": "f5aae976-a80f-4bbc-9f2d-b604f2dc3997",
   "metadata": {},
   "outputs": [],
   "source": []
  }
 ],
 "metadata": {
  "kernelspec": {
   "display_name": "Python 3 (ipykernel)",
   "language": "python",
   "name": "python3"
  },
  "language_info": {
   "codemirror_mode": {
    "name": "ipython",
    "version": 3
   },
   "file_extension": ".py",
   "mimetype": "text/x-python",
   "name": "python",
   "nbconvert_exporter": "python",
   "pygments_lexer": "ipython3",
   "version": "3.11.7"
  }
 },
 "nbformat": 4,
 "nbformat_minor": 5
}
