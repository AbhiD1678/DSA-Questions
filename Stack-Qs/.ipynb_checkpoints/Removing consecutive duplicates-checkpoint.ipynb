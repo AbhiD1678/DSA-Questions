{
 "cells": [
  {
   "cell_type": "raw",
   "id": "75a1f214-36f3-448c-925f-e45512c81e95",
   "metadata": {},
   "source": [
    "You are given string str. You need to remove the consecutive duplicates from the given string using a Stack.\n",
    " \n",
    "\n",
    "Example 1:\n",
    "\n",
    "Input: \n",
    "aaaaaabaabccccccc\n",
    "\n",
    "Output: \n",
    "ababc\n",
    "\n",
    "Explanation: \n",
    "The order is in the following way 6->a, 1->b, 2->a, 1->b, 7->c. \n",
    "So, only one element from each group will remain and rest all are removed.\n",
    "Therefore, final string will be:- ababc.\n",
    "\n",
    "Example 2:\n",
    "\n",
    "Input: \n",
    "abbccbcd\n",
    "\n",
    "Output: \n",
    "abcbcd\n",
    "\n",
    "Explanation: \n",
    "The order is in the following way 1->a, 2->b, 2->c, 1->b, 1->c, 1->d.\n",
    "So, only one element from each group will remain and rest all are removed.\n",
    "Therefore, final string will be:- abcbcd. \n",
    "Your Task:\n",
    "This is a function problem. You need to complete the function removeConsecutiveDuplicates() that takes a string as a parameter and returns the modified string. The printing is done automatically by the driver code.\n",
    "\n",
    "Expected Time Complexity: O(N).\n",
    "Expected Auxiliary Space: O(N).\n",
    "\n",
    "Constraints:\n",
    "1 <= |str| <= 103"
   ]
  },
  {
   "cell_type": "code",
   "execution_count": 1,
   "id": "1fd77aeb-2974-4cd4-aac0-b38b19a3149d",
   "metadata": {},
   "outputs": [],
   "source": [
    "class Solution:\n",
    "    \n",
    "    #Function to remove consecutive duplicates from given string using Stack.\n",
    "    def removeConsecutiveDuplicates(self,s):\n",
    "        # code here\n",
    "        stack=[]\n",
    "        for i in range(len(s)):\n",
    "            if i==0:\n",
    "                stack.append(s[i])\n",
    "            else:\n",
    "                if s[i-1]==s[i]:\n",
    "                    continue\n",
    "                else:\n",
    "                    stack.append(s[i])\n",
    "        \n",
    "        return ''.join(stack)\n"
   ]
  },
  {
   "cell_type": "raw",
   "id": "b92d42fb-5568-400f-9877-59a72edba5d0",
   "metadata": {},
   "source": [
    "Expected Approach\n",
    "Intuition\n",
    "We can use the LIFO property of stack to solve this problem . We will use a stack of characters . \n",
    "The idea is to traverse the string from left to right and check if the stack is empty or the top character of the stack is not equal to the current character of the input string , then we will push the current character into the stack.\n",
    "\n",
    "Implementation\n",
    "Take an empty string ans\n",
    "Take a stack of character\n",
    "Traverse the input string from left to right and check for the below conditions\n",
    "If stack is empty then push the current character to the stack and also push the character at the end of the ans string \n",
    "If stack is not empty and the top character of the stack is not equal to the current character of the input string, then push the character to the stack and also push the character at the end of ans string\n",
    "finally return the ans string \n",
    "Complexity\n",
    "Time complexity: O(N), As we are traversing the string only once , so the time complexity is O(N), where the length of the string is N.\n",
    "Space complexity: O(N), We are using a stack, so at worst case the stack's size can grow to the size of the string . The space complexity will be O(N),"
   ]
  },
  {
   "cell_type": "code",
   "execution_count": 2,
   "id": "d592f531-85fe-4da4-b9f8-f024562df2d8",
   "metadata": {},
   "outputs": [],
   "source": [
    "#Back-end complete function Template for Python 3\n",
    "\n",
    "class Solution:\n",
    "    \n",
    "    #Function to remove consecutive duplicates from given string using Stack.\n",
    "    def removeConsecutiveDuplicates(self,s):\n",
    "        stack = [] \n",
    "    \n",
    "        #pushing the first character of the string into the stack.\n",
    "        stack.append(s[0]) \n",
    "    \n",
    "        curr_index = 1 \n",
    "    \n",
    "        #iterating over the string.\n",
    "        while curr_index < len(s):\n",
    "            \n",
    "            #if current character of string is equal to the character at top \n",
    "            #of stack, we continue iterating in the loop.\n",
    "            if s[curr_index] == stack[-1]: \n",
    "                pass\n",
    "            #else we push the current character into the stack.\n",
    "            else:                          \n",
    "                stack.append(s[curr_index])\n",
    "            curr_index += 1\n",
    "    \n",
    "        ans = \"\" \n",
    "    \n",
    "        #adding all characters in the stack to the answer and returning it.\n",
    "        for char in stack:\n",
    "            ans+=char \n",
    "        return ans\n",
    "        \n",
    "        \n"
   ]
  },
  {
   "cell_type": "code",
   "execution_count": null,
   "id": "9401203a-42f6-482c-b387-4fb234f1b701",
   "metadata": {},
   "outputs": [],
   "source": [
    "d"
   ]
  }
 ],
 "metadata": {
  "kernelspec": {
   "display_name": "Python 3 (ipykernel)",
   "language": "python",
   "name": "python3"
  },
  "language_info": {
   "codemirror_mode": {
    "name": "ipython",
    "version": 3
   },
   "file_extension": ".py",
   "mimetype": "text/x-python",
   "name": "python",
   "nbconvert_exporter": "python",
   "pygments_lexer": "ipython3",
   "version": "3.11.7"
  }
 },
 "nbformat": 4,
 "nbformat_minor": 5
}
