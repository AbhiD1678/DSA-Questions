{
 "cells": [
  {
   "cell_type": "code",
   "execution_count": 1,
   "id": "3d8436e6",
   "metadata": {},
   "outputs": [
    {
     "data": {
      "text/plain": [
       "'\\nGiven a sorted array arr[] of size N without duplicates, and given a value x. Floor of x is defined as the largest element K in arr[] such that K is smaller than or equal to x. Find the index of K(0-based indexing).\\n\\nExample 1:\\n\\nInput:\\nN = 7, x = 0 \\narr[] = {1,2,8,10,11,12,19}\\nOutput: -1\\nExplanation: No element less \\nthan 0 is found. So output \\nis \"-1\".\\nExample 2:\\n\\nInput:\\nN = 7, x = 5 \\narr[] = {1,2,8,10,11,12,19}\\nOutput: 1\\nExplanation: Largest Number less than 5 is\\n2 (i.e K = 2), whose index is 1(0-based \\nindexing).\\nYour Task:\\nThe task is to complete the function findFloor() which returns an integer denoting the index value of K or return -1 if there isn\\'t any such number.\\n\\nExpected Time Complexity: O(log N).\\nExpected Auxiliary Space: O(1).\\n\\nConstraints:\\n1 ≤ N ≤ 107\\n1 ≤ arr[i] ≤ 1018\\n0 ≤ X ≤ arr[n-1]\\n\\n\\n\\n'"
      ]
     },
     "execution_count": 1,
     "metadata": {},
     "output_type": "execute_result"
    }
   ],
   "source": [
    "'''\n",
    "Given a sorted array arr[] of size N without duplicates, and given a value x. Floor of x is defined as the largest element K in arr[] such that K is smaller than or equal to x. Find the index of K(0-based indexing).\n",
    "\n",
    "Example 1:\n",
    "\n",
    "Input:\n",
    "N = 7, x = 0 \n",
    "arr[] = {1,2,8,10,11,12,19}\n",
    "Output: -1\n",
    "Explanation: No element less \n",
    "than 0 is found. So output \n",
    "is \"-1\".\n",
    "Example 2:\n",
    "\n",
    "Input:\n",
    "N = 7, x = 5 \n",
    "arr[] = {1,2,8,10,11,12,19}\n",
    "Output: 1\n",
    "Explanation: Largest Number less than 5 is\n",
    "2 (i.e K = 2), whose index is 1(0-based \n",
    "indexing).\n",
    "Your Task:\n",
    "The task is to complete the function findFloor() which returns an integer denoting the index value of K or return -1 if there isn't any such number.\n",
    "\n",
    "Expected Time Complexity: O(log N).\n",
    "Expected Auxiliary Space: O(1).\n",
    "\n",
    "Constraints:\n",
    "1 ≤ N ≤ 107\n",
    "1 ≤ arr[i] ≤ 1018\n",
    "0 ≤ X ≤ arr[n-1]\n",
    "\n",
    "\n",
    "\n",
    "'''"
   ]
  },
  {
   "cell_type": "code",
   "execution_count": 2,
   "id": "5dd1948f",
   "metadata": {},
   "outputs": [],
   "source": [
    "def findFloor(A,N,X):\n",
    "        #Your code here\n",
    "        low=0\n",
    "        high=N-1\n",
    "        ans=-1\n",
    "        while low<=high:\n",
    "            mid=(low+high)//2\n",
    "            \n",
    "            if A[mid]==X:\n",
    "                return mid\n",
    "                \n",
    "            elif A[mid]>X:\n",
    "                high=mid-1\n",
    "                \n",
    "            elif X>A[mid]:\n",
    "                ans=mid\n",
    "                low=mid+1\n",
    "        return ans\n",
    "\n"
   ]
  },
  {
   "cell_type": "code",
   "execution_count": 4,
   "id": "86edd33f",
   "metadata": {},
   "outputs": [
    {
     "data": {
      "text/plain": [
       "-1"
      ]
     },
     "execution_count": 4,
     "metadata": {},
     "output_type": "execute_result"
    }
   ],
   "source": [
    "N=7\n",
    "x=0\n",
    "arr=[1,2,8,10,11,12,19]\n",
    "\n",
    "findFloor(arr,N,x)"
   ]
  },
  {
   "cell_type": "code",
   "execution_count": 5,
   "id": "bcc25030",
   "metadata": {},
   "outputs": [
    {
     "data": {
      "text/plain": [
       "1"
      ]
     },
     "execution_count": 5,
     "metadata": {},
     "output_type": "execute_result"
    }
   ],
   "source": [
    "N=7\n",
    "x=5\n",
    "arr=[1,2,8,10,11,12,19]\n",
    "\n",
    "findFloor(arr,N,x)"
   ]
  },
  {
   "cell_type": "code",
   "execution_count": null,
   "id": "fd23f68c",
   "metadata": {},
   "outputs": [],
   "source": []
  }
 ],
 "metadata": {
  "kernelspec": {
   "display_name": "Python 3 (ipykernel)",
   "language": "python",
   "name": "python3"
  },
  "language_info": {
   "codemirror_mode": {
    "name": "ipython",
    "version": 3
   },
   "file_extension": ".py",
   "mimetype": "text/x-python",
   "name": "python",
   "nbconvert_exporter": "python",
   "pygments_lexer": "ipython3",
   "version": "3.11.4"
  }
 },
 "nbformat": 4,
 "nbformat_minor": 5
}
