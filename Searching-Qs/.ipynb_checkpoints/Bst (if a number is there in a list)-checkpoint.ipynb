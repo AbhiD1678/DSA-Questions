{
 "cells": [
  {
   "cell_type": "code",
   "execution_count": null,
   "id": "84c6726b",
   "metadata": {},
   "outputs": [],
   "source": [
    "'''\n",
    "Given an array arr[] sorted in ascending order of size N and an integer K. Check if K is present in the array or not.\n",
    "\n",
    "\n",
    "Example 1:\n",
    "\n",
    "Input:\n",
    "N = 5, K = 6\n",
    "arr[] = {1,2,3,4,6}\n",
    "Output: 1\n",
    "Exlpanation: Since, 6 is present in \n",
    "the array at index 4 (0-based indexing),\n",
    "output is 1.\n",
    " \n",
    "\n",
    "Example 2:\n",
    "\n",
    "Input:\n",
    "N = 5, K = 2\n",
    "arr[] = {1,3,4,5,6}\n",
    "Output: -1\n",
    "Exlpanation: Since, 2 is not present \n",
    "in the array, output is -1.\n",
    " \n",
    "\n",
    "Your Task:\n",
    "You don't need to read input or print anything. Complete the function searchInSorted() which takes the sorted array arr[], its size N and the element K as input parameters and returns 1 if K is present in the array, else it returns -1. \n",
    "\n",
    "\n",
    "Expected Time Complexity: O(Log N)\n",
    "Expected Auxiliary Space: O(1)\n",
    "\n",
    " \n",
    "'''\n",
    "\n",
    "class Solution:\n",
    "    ##Complete this function\n",
    "    def searchInSorted(self,arr, N, K):\n",
    "        #Your code here\n",
    "        low=0\n",
    "        high=N-1\n",
    "        while low<=high:\n",
    "            mid=(low+high)//2\n",
    "            if K==arr[mid]:\n",
    "                return 1\n",
    "            elif K>arr[mid]:\n",
    "                low=mid+1\n",
    "            elif K<arr[mid]:\n",
    "                high=mid-1\n",
    "        return -1\n"
   ]
  }
 ],
 "metadata": {
  "kernelspec": {
   "display_name": "Python 3 (ipykernel)",
   "language": "python",
   "name": "python3"
  },
  "language_info": {
   "codemirror_mode": {
    "name": "ipython",
    "version": 3
   },
   "file_extension": ".py",
   "mimetype": "text/x-python",
   "name": "python",
   "nbconvert_exporter": "python",
   "pygments_lexer": "ipython3",
   "version": "3.11.4"
  }
 },
 "nbformat": 4,
 "nbformat_minor": 5
}
