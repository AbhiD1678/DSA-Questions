{
 "cells": [
  {
   "cell_type": "code",
   "execution_count": 1,
   "id": "1a1642f9",
   "metadata": {},
   "outputs": [],
   "source": [
    "def SquareRoot(x):\n",
    "    return round(x**0.5)"
   ]
  },
  {
   "cell_type": "code",
   "execution_count": 2,
   "id": "528d2658",
   "metadata": {},
   "outputs": [
    {
     "data": {
      "text/plain": [
       "3"
      ]
     },
     "execution_count": 2,
     "metadata": {},
     "output_type": "execute_result"
    }
   ],
   "source": [
    "SquareRoot(12)"
   ]
  },
  {
   "cell_type": "code",
   "execution_count": 3,
   "id": "95e1a156",
   "metadata": {},
   "outputs": [],
   "source": [
    "def squarefloor(x):\n",
    "    i=1\n",
    "    while i*i<=x:\n",
    "        i=i+1\n",
    "    return i-1"
   ]
  },
  {
   "cell_type": "code",
   "execution_count": 4,
   "id": "90596622",
   "metadata": {},
   "outputs": [
    {
     "data": {
      "text/plain": [
       "3"
      ]
     },
     "execution_count": 4,
     "metadata": {},
     "output_type": "execute_result"
    }
   ],
   "source": [
    "squarefloor(12)"
   ]
  },
  {
   "cell_type": "code",
   "execution_count": 5,
   "id": "a6f23b89",
   "metadata": {},
   "outputs": [],
   "source": [
    "def squarefloor1(x):\n",
    "    low=1\n",
    "    high=x\n",
    "    ans=-1\n",
    "    while low<=high:\n",
    "        \n",
    "        mid=(low+high)//2\n",
    "        mSq=mid*mid\n",
    "        \n",
    "        if mSq==x:\n",
    "            return mid\n",
    "        elif mSq>x:\n",
    "            high=mid-1\n",
    "        else:\n",
    "            ans=low\n",
    "            low=mid+1\n",
    "    return ans"
   ]
  },
  {
   "cell_type": "code",
   "execution_count": 6,
   "id": "095c9ed9",
   "metadata": {},
   "outputs": [
    {
     "data": {
      "text/plain": [
       "5"
      ]
     },
     "execution_count": 6,
     "metadata": {},
     "output_type": "execute_result"
    }
   ],
   "source": [
    "squarefloor1(26)"
   ]
  },
  {
   "cell_type": "code",
   "execution_count": null,
   "id": "0a12f5ad",
   "metadata": {},
   "outputs": [],
   "source": []
  }
 ],
 "metadata": {
  "kernelspec": {
   "display_name": "Python 3 (ipykernel)",
   "language": "python",
   "name": "python3"
  },
  "language_info": {
   "codemirror_mode": {
    "name": "ipython",
    "version": 3
   },
   "file_extension": ".py",
   "mimetype": "text/x-python",
   "name": "python",
   "nbconvert_exporter": "python",
   "pygments_lexer": "ipython3",
   "version": "3.11.4"
  }
 },
 "nbformat": 4,
 "nbformat_minor": 5
}
