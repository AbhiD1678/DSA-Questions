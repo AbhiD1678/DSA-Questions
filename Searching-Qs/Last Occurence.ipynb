{
 "cells": [
  {
   "cell_type": "code",
   "execution_count": 5,
   "id": "8b5ea6d6",
   "metadata": {},
   "outputs": [],
   "source": [
    "\"To find the last occurence of a number in a given list\"\n",
    "\n",
    "def LastOccurence(lst,x,low,high):\n",
    "    mid=(low+high)//2\n",
    "    n=len(lst)\n",
    "    if low>high:\n",
    "        return -1\n",
    "    if lst[mid]>x:\n",
    "        return LastOccurence(lst,x,low,mid-1)\n",
    "    elif lst[mid]<x:\n",
    "        return LastOccurence(lst,x,mid+1,high)\n",
    "    else:\n",
    "        if lst[mid]==x and(lst[mid]!=lst[mid+1] or mid==n-1):\n",
    "            return mid\n",
    "        else:\n",
    "            return LastOccurence(lst,x,mid+1,high)"
   ]
  },
  {
   "cell_type": "code",
   "execution_count": 9,
   "id": "40bf3fe4",
   "metadata": {},
   "outputs": [
    {
     "data": {
      "text/plain": [
       "0"
      ]
     },
     "execution_count": 9,
     "metadata": {},
     "output_type": "execute_result"
    }
   ],
   "source": [
    "lst=[10,20,20,20,30,40,50]\n",
    "low=0\n",
    "high=len(lst)-1\n",
    "\n",
    "LastOccurence(lst,10,low,high)"
   ]
  },
  {
   "cell_type": "code",
   "execution_count": null,
   "id": "cebf7887",
   "metadata": {},
   "outputs": [],
   "source": []
  }
 ],
 "metadata": {
  "kernelspec": {
   "display_name": "Python 3 (ipykernel)",
   "language": "python",
   "name": "python3"
  },
  "language_info": {
   "codemirror_mode": {
    "name": "ipython",
    "version": 3
   },
   "file_extension": ".py",
   "mimetype": "text/x-python",
   "name": "python",
   "nbconvert_exporter": "python",
   "pygments_lexer": "ipython3",
   "version": "3.11.4"
  }
 },
 "nbformat": 4,
 "nbformat_minor": 5
}
