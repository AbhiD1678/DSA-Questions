{
 "cells": [
  {
   "cell_type": "raw",
   "id": "0cbd62b3-e240-4305-8770-e0fa4c6e176e",
   "metadata": {},
   "source": [
    "Given an array nums of n positive integers. Find the minimum number of operations required to modify the array such that array elements are in strictly increasing order (nums[i] < nums[i+1]).\n",
    "Changing a number to greater or lesser than original number is counted as one operation.\n",
    "\n",
    "Note: Array elements can become negative after applying operation.\n",
    "\n",
    "Example 1:\n",
    "\n",
    "Input:\n",
    "n = 6\n",
    "nums = [1, 2, 3, 6, 5, 4]\n",
    "Output: \n",
    "2\n",
    "Explanation: \n",
    "By decreasing 6 by 2 and increasing 4 by 2, nums will be like [1, 2, 3, 4, 5, 6] which is stricly increasing.\n",
    "Example 2:\n",
    "\n",
    "Input: \n",
    "n = 4\n",
    "nums = [1, 1, 1, 1]\n",
    "Output: \n",
    "3\n",
    "Explanation: \n",
    "One such array after operation can be [-2, -1, 0, 1]. We require atleast 3 operations for this example.\n",
    "Your Task:\n",
    "You don't need to read or print anything. Your task is to complete the function min_opeartions() which takes the array nums as input parameter and returns the minimum number of opeartion needed to make the array strictly increasing.\n",
    "\n",
    "Expected Time Complexity: O(n2)\n",
    "Expected Space Complexity: O(n)"
   ]
  },
  {
   "cell_type": "code",
   "execution_count": null,
   "id": "1b8396ba-fe06-413d-b259-3fdf66f710af",
   "metadata": {},
   "outputs": [],
   "source": [
    "class Solution:\n",
    "\tdef min_operations(self,nums):\n",
    "\t\t# Code here\n",
    "        n = len(nums)\n",
    "        LIS = [1] * n  # Initialize LIS array with 1 for all indices\n",
    "    \n",
    "        for i in range(1, n):\n",
    "            for j in range(i):\n",
    "                if nums[i] > nums[j] and (i - j) <= (nums[i] - nums[j]):\n",
    "                    LIS[i] = max(LIS[i], LIS[j] + 1)\n",
    "    \n",
    "        # Length of the LIS gives the minimum number of changes needed\n",
    "        return n - max(LIS)\n"
   ]
  }
 ],
 "metadata": {
  "kernelspec": {
   "display_name": "Python 3 (ipykernel)",
   "language": "python",
   "name": "python3"
  },
  "language_info": {
   "codemirror_mode": {
    "name": "ipython",
    "version": 3
   },
   "file_extension": ".py",
   "mimetype": "text/x-python",
   "name": "python",
   "nbconvert_exporter": "python",
   "pygments_lexer": "ipython3",
   "version": "3.11.7"
  }
 },
 "nbformat": 4,
 "nbformat_minor": 5
}
