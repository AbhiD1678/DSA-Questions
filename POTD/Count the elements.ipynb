{
 "cells": [
  {
   "cell_type": "raw",
   "id": "b14b6b65-08aa-469b-8cac-fef0ed99616c",
   "metadata": {},
   "source": [
    "Given two arrays a and b both of size n. Given q queries in an array query each having a positive integer x denoting an index of the array a. For each query, your task is to find all the elements less than or equal to a[x] in the array b.\n",
    "\n",
    "Example 1:\n",
    "\n",
    "Input:\n",
    "n = 3\n",
    "a[] = {4,1,2}\n",
    "b[] = {1,7,3}\n",
    "q = 2\n",
    "query[] = {0,1}\n",
    "Output : \n",
    "2\n",
    "1\n",
    "Explanation: \n",
    "For 1st query, the given index is 0, a[0] = 4. There are 2 elements(1 and 3) which are less than or equal to 4.\n",
    "For 2nd query, the given index is 1, a[1] = 1. There exists only 1 element(1) which is less than or equal to 1.\n",
    "Example 2:\n",
    "\n",
    "Input:\n",
    "n = 4\n",
    "a[] = {1,1,5,5}\n",
    "b[] = {0,1,2,3}\n",
    "q = 4\n",
    "query[] = {0,1,2,3}\n",
    "Output : \n",
    "2\n",
    "2\n",
    "4\n",
    "4\n",
    "Explanation: \n",
    "For 1st query and 2nd query, the given index is 0 and 1 respectively, a[0] = a[1] = 1. There are 2 elements(0 and 1) which are less than or equal to 1. \n",
    "For 3rd query and 4th query, the given index is 2 and 3 respectively, a[2] = a[3] = 5. All the 4 elements are less than or equal to 5.   \n",
    "Your Task:\n",
    "You don't need to take any input, as it is already accomplished by the driver code. You just need to complete the function countElements() that takes array a and b of size n, and array query of size q as parameters and returns an array that contains the answer to the corresponding queries. \n",
    "\n",
    "Expected Time Complexity: O(n+q+maximum of a and b).\n",
    "\n",
    "Expected Auxiliary Space: O(maximum of a and b).\n",
    "\n",
    "Constraints:\n",
    "1 ≤ q ≤ n ≤ 105\n",
    "1 ≤ a[i], b[i] ≤ 105\n",
    "0 ≤ query[i] < n"
   ]
  },
  {
   "cell_type": "code",
   "execution_count": 1,
   "id": "b32361e3-bf7b-4771-ba81-7edb141a8fa9",
   "metadata": {},
   "outputs": [],
   "source": [
    "class Solution:\n",
    "    def countElements(self, a, b, n, query, q):\n",
    "        # code here\n",
    "        b.sort()\n",
    "        \n",
    "        result = []\n",
    "        \n",
    "        for i in query:\n",
    "            left , right = 0 ,n-1\n",
    "            while left<=right:\n",
    "                mid = (left+right)//2\n",
    "                if b[mid]<= a[i]:\n",
    "                    left = mid + 1\n",
    "                else:\n",
    "                    right = mid-1\n",
    "            \n",
    "            result.append(left)\n",
    "            \n",
    "        return result \n",
    "        \n"
   ]
  },
  {
   "cell_type": "code",
   "execution_count": null,
   "id": "e9594685-a628-4d61-9590-9212d1c1153c",
   "metadata": {},
   "outputs": [],
   "source": []
  }
 ],
 "metadata": {
  "kernelspec": {
   "display_name": "Python 3 (ipykernel)",
   "language": "python",
   "name": "python3"
  },
  "language_info": {
   "codemirror_mode": {
    "name": "ipython",
    "version": 3
   },
   "file_extension": ".py",
   "mimetype": "text/x-python",
   "name": "python",
   "nbconvert_exporter": "python",
   "pygments_lexer": "ipython3",
   "version": "3.11.7"
  }
 },
 "nbformat": 4,
 "nbformat_minor": 5
}
