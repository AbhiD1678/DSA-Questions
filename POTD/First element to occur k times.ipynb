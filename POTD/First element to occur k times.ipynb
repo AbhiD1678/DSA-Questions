{
 "cells": [
  {
   "cell_type": "code",
   "execution_count": 1,
   "id": "3b1fc221",
   "metadata": {},
   "outputs": [
    {
     "data": {
      "text/plain": [
       "\"\\nGiven an array of n integers. Find the first element that occurs atleast k number of times.\\n\\nExample 1:\\n\\nInput :\\nn = 7, k = 2\\na[] = {1, 7, 4, 3, 4, 8, 7}\\nOutput :\\n4\\nExplanation :\\nBoth 7 and 4 occur 2 times. But 4 is first that occurs twice.\\nAs at index = 4, 4 has occurred twice whereas 7 appeared twice\\nat index 6.\\n\\nExample 2:\\n\\nInput :\\nn = 10, k = 3\\na[] = {3, 1, 3, 4, 5, 1, 3, 3, 5, 4}\\nOutput :\\n3\\nExplanation :\\nHere, 3 is the only number that appeared atleast 3 times in the array.\\n\\nYour Task:  \\nYou don't need to read input or print anything. Your task is to complete the function firstElementKTime() which takes the array a[], its size n, and an integer k as input arguments and returns the required answer. If the answer is not present in the array, return -1.\\n\\nExpected Time Complexity: O(n).\\nExpected Auxiliary Space: O(n).\\n\\nConstraints:\\n1 <= n <= 104\\n1 <= k <= 100\\n0<= a[i] <= 200\\n\\n\\n\""
      ]
     },
     "execution_count": 1,
     "metadata": {},
     "output_type": "execute_result"
    }
   ],
   "source": [
    "\"\"\"\n",
    "Given an array of n integers. Find the first element that occurs atleast k number of times.\n",
    "\n",
    "Example 1:\n",
    "\n",
    "Input :\n",
    "n = 7, k = 2\n",
    "a[] = {1, 7, 4, 3, 4, 8, 7}\n",
    "Output :\n",
    "4\n",
    "Explanation :\n",
    "Both 7 and 4 occur 2 times. But 4 is first that occurs twice.\n",
    "As at index = 4, 4 has occurred twice whereas 7 appeared twice\n",
    "at index 6.\n",
    "\n",
    "Example 2:\n",
    "\n",
    "Input :\n",
    "n = 10, k = 3\n",
    "a[] = {3, 1, 3, 4, 5, 1, 3, 3, 5, 4}\n",
    "Output :\n",
    "3\n",
    "Explanation :\n",
    "Here, 3 is the only number that appeared atleast 3 times in the array.\n",
    "\n",
    "Your Task:  \n",
    "You don't need to read input or print anything. Your task is to complete the function firstElementKTime() which takes the array a[], its size n, and an integer k as input arguments and returns the required answer. If the answer is not present in the array, return -1.\n",
    "\n",
    "Expected Time Complexity: O(n).\n",
    "Expected Auxiliary Space: O(n).\n",
    "\n",
    "Constraints:\n",
    "1 <= n <= 104\n",
    "1 <= k <= 100\n",
    "0<= a[i] <= 200\n",
    "\n",
    "\n",
    "\"\"\""
   ]
  },
  {
   "cell_type": "code",
   "execution_count": 2,
   "id": "d674bff1",
   "metadata": {},
   "outputs": [],
   "source": [
    "class Solution:\n",
    "    def firstElementKTime(self, n, k, a):\n",
    "        # code here\n",
    "        dict1={}\n",
    "        for i in range(n):\n",
    "            if a[i] in dict1:\n",
    "                dict1[a[i]]+=1\n",
    "                if dict1[a[i]]==k:\n",
    "                    return a[i]\n",
    "            else:\n",
    "                dict1[a[i]]=1\n",
    "            \n",
    "        if k not in dict1.values():\n",
    "            return -1\n",
    "    "
   ]
  },
  {
   "cell_type": "code",
   "execution_count": null,
   "id": "1a8cce07",
   "metadata": {},
   "outputs": [],
   "source": []
  }
 ],
 "metadata": {
  "kernelspec": {
   "display_name": "Python 3 (ipykernel)",
   "language": "python",
   "name": "python3"
  },
  "language_info": {
   "codemirror_mode": {
    "name": "ipython",
    "version": 3
   },
   "file_extension": ".py",
   "mimetype": "text/x-python",
   "name": "python",
   "nbconvert_exporter": "python",
   "pygments_lexer": "ipython3",
   "version": "3.11.4"
  }
 },
 "nbformat": 4,
 "nbformat_minor": 5
}
