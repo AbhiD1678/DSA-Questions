{
 "cells": [
  {
   "cell_type": "code",
   "execution_count": 1,
   "id": "1f1bd8bd-aac3-4561-9193-acf51d31df47",
   "metadata": {},
   "outputs": [
    {
     "data": {
      "text/plain": [
       "'\\nYou are given a perimeter & the area. Your task is to return the maximum volume that can be made in the form of a cuboid from the given perimeter and surface area.\\nNote: Round off to 2 decimal places and for the given parameters, it is guaranteed that an answer always exists.\\n\\nExamples\\n\\nInput: perimeter = 22, area = 15\\nOutput: 3.02\\nExplanation: The maximum attainable volume of the cuboid is 3.02\\nInput: perimeter = 20, area = 5\\nOutput: 0.33\\nExplanation: The maximum attainable volume of the cuboid is 0.33\\nExpected Time Complexity: O(1)\\nExpected Auxiliary Space: O(1)\\nConstraints :\\n1 ≤ perimeter ≤ 109\\n1 ≤ area ≤ 109\\n'"
      ]
     },
     "execution_count": 1,
     "metadata": {},
     "output_type": "execute_result"
    }
   ],
   "source": [
    "'''\n",
    "You are given a perimeter & the area. Your task is to return the maximum volume that can be made in the form of a cuboid from the given perimeter and surface area.\n",
    "Note: Round off to 2 decimal places and for the given parameters, it is guaranteed that an answer always exists.\n",
    "\n",
    "Examples\n",
    "\n",
    "Input: perimeter = 22, area = 15\n",
    "Output: 3.02\n",
    "Explanation: The maximum attainable volume of the cuboid is 3.02\n",
    "Input: perimeter = 20, area = 5\n",
    "Output: 0.33\n",
    "Explanation: The maximum attainable volume of the cuboid is 0.33\n",
    "Expected Time Complexity: O(1)\n",
    "Expected Auxiliary Space: O(1)\n",
    "Constraints :\n",
    "1 ≤ perimeter ≤ 109\n",
    "1 ≤ area ≤ 109\n",
    "'''"
   ]
  },
  {
   "cell_type": "code",
   "execution_count": 2,
   "id": "dc6b6216-aefe-471b-93ca-05922beba354",
   "metadata": {},
   "outputs": [],
   "source": [
    "class Solution:\n",
    "    def maxVolume(self, perimeter, area):\n",
    "        #code here\n",
    "        part1 = perimeter - math.sqrt(perimeter**2 - (24 * area))\n",
    "\n",
    "        term = (part1 / 12)**2\n",
    "\n",
    "        height = (perimeter / 4) - (2 * (part1 / 12))\n",
    "\n",
    "        ans = term * height\n",
    "\n",
    " \n",
    "\n",
    "        # Returning the maximum volume\n",
    "\n",
    "        return ans\n"
   ]
  },
  {
   "cell_type": "code",
   "execution_count": null,
   "id": "02e45ec6-9b51-4182-a47e-3a2f2c18021d",
   "metadata": {},
   "outputs": [],
   "source": []
  }
 ],
 "metadata": {
  "kernelspec": {
   "display_name": "Python 3 (ipykernel)",
   "language": "python",
   "name": "python3"
  },
  "language_info": {
   "codemirror_mode": {
    "name": "ipython",
    "version": 3
   },
   "file_extension": ".py",
   "mimetype": "text/x-python",
   "name": "python",
   "nbconvert_exporter": "python",
   "pygments_lexer": "ipython3",
   "version": "3.12.0"
  }
 },
 "nbformat": 4,
 "nbformat_minor": 5
}
