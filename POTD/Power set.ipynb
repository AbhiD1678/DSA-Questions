{
 "cells": [
  {
   "cell_type": "code",
   "execution_count": 2,
   "id": "32c41cec",
   "metadata": {},
   "outputs": [
    {
     "data": {
      "text/plain": [
       "'\\nGiven a string s of length n, find all the possible subsequences of the string s in lexicographically-sorted order.\\n\\nExample 1:\\n\\nInput : \\ns = \"abc\"\\nOutput: \\na ab abc ac b bc c\\nExplanation : \\nThere are a total 7 number of subsequences possible \\nfor the given string, and they are mentioned above \\nin lexicographically sorted order.\\nExample 2:\\n\\nInput: \\ns = \"aa\"\\nOutput: \\na a aa\\nExplanation : \\nThere are a total 3 number of subsequences possible \\nfor the given string, and they are mentioned above \\nin lexicographically sorted order.\\nYour Task:\\nYou don\\'t need to read input or print anything. Your task is to complete the function AllPossibleStrings() which takes a string s as the input parameter and returns a list of all possible subsequences (non-empty) that can be formed from s in lexicographically-sorted order.\\n\\nExpected Time Complexity: O( n*2n  )\\nExpected Space Complexity: O( n * 2n )\\n\\nConstraints: \\n1 <= n <= 16\\ns will constitute of lower case english alphabets\\n'"
      ]
     },
     "execution_count": 2,
     "metadata": {},
     "output_type": "execute_result"
    }
   ],
   "source": [
    "'''\n",
    "Given a string s of length n, find all the possible subsequences of the string s in lexicographically-sorted order.\n",
    "\n",
    "Example 1:\n",
    "\n",
    "Input : \n",
    "s = \"abc\"\n",
    "Output: \n",
    "a ab abc ac b bc c\n",
    "Explanation : \n",
    "There are a total 7 number of subsequences possible \n",
    "for the given string, and they are mentioned above \n",
    "in lexicographically sorted order.\n",
    "Example 2:\n",
    "\n",
    "Input: \n",
    "s = \"aa\"\n",
    "Output: \n",
    "a a aa\n",
    "Explanation : \n",
    "There are a total 3 number of subsequences possible \n",
    "for the given string, and they are mentioned above \n",
    "in lexicographically sorted order.\n",
    "Your Task:\n",
    "You don't need to read input or print anything. Your task is to complete the function AllPossibleStrings() which takes a string s as the input parameter and returns a list of all possible subsequences (non-empty) that can be formed from s in lexicographically-sorted order.\n",
    "\n",
    "Expected Time Complexity: O( n*2n  )\n",
    "Expected Space Complexity: O( n * 2n )\n",
    "\n",
    "Constraints: \n",
    "1 <= n <= 16\n",
    "s will constitute of lower case english alphabets\n",
    "'''"
   ]
  },
  {
   "cell_type": "code",
   "execution_count": 3,
   "id": "7a61084b",
   "metadata": {},
   "outputs": [
    {
     "data": {
      "text/plain": [
       "'\\nBrute Force Approach[Accepted]\\nIntuition\\nThe idea employed here is to generate all possible subsequences of a given string in lexicographically sorted order using a bitmasking approach. Each bit in the bitmask represents whether the corresponding character in the string should be included or excluded in the current subsequence. The algorithm systematically explores all possible combinations of characters by iterating through all possible bitmasks. This approach ensures a sorted and comprehensive list of subsequences is generated.\\n\\nImplementation\\nHelper Function k:\\nk function takes a vector v, string s, the index n, and a bitmask num as parameters.\\nIt generates a string st by including characters from s based on the set bits in the binary representation of num.\\nAdds the generated string st to the vector v.\\nHelper Function p:\\np function recursively generates all possible subsequences by calling k for each bitmask from num to 1.\\nSorts the vector v after generating all subsequences.\\nMain Function AllPossibleStrings:\\nInitializes an empty vector v to store the subsequences.\\nCalculates the initial value of num as (1 << s.size()) - 1 to represent all possible subsequences.\\nCalls the recursive function p to generate subsequences.\\nReturns the sorted vector v.\\n'"
      ]
     },
     "execution_count": 3,
     "metadata": {},
     "output_type": "execute_result"
    }
   ],
   "source": [
    "'''\n",
    "Brute Force Approach[Accepted]\n",
    "Intuition\n",
    "The idea employed here is to generate all possible subsequences of a given string in lexicographically sorted order using a bitmasking approach. Each bit in the bitmask represents whether the corresponding character in the string should be included or excluded in the current subsequence. The algorithm systematically explores all possible combinations of characters by iterating through all possible bitmasks. This approach ensures a sorted and comprehensive list of subsequences is generated.\n",
    "\n",
    "Implementation\n",
    "Helper Function k:\n",
    "k function takes a vector v, string s, the index n, and a bitmask num as parameters.\n",
    "It generates a string st by including characters from s based on the set bits in the binary representation of num.\n",
    "Adds the generated string st to the vector v.\n",
    "Helper Function p:\n",
    "p function recursively generates all possible subsequences by calling k for each bitmask from num to 1.\n",
    "Sorts the vector v after generating all subsequences.\n",
    "Main Function AllPossibleStrings:\n",
    "Initializes an empty vector v to store the subsequences.\n",
    "Calculates the initial value of num as (1 << s.size()) - 1 to represent all possible subsequences.\n",
    "Calls the recursive function p to generate subsequences.\n",
    "Returns the sorted vector v.\n",
    "'''"
   ]
  },
  {
   "cell_type": "code",
   "execution_count": 6,
   "id": "c7618bac",
   "metadata": {},
   "outputs": [
    {
     "data": {
      "text/plain": [
       "'\\nComplexity\\nTime Complexity: O(2^n * n), where n is the length of the input string s.\\nSpace Complexity: O(2^n * n), where n is the length of the input string s. The space is used to store all possible subsequences.\\n'"
      ]
     },
     "execution_count": 6,
     "metadata": {},
     "output_type": "execute_result"
    }
   ],
   "source": [
    "class Solution:\n",
    "    def k(self, v, s, n, num):\n",
    "        st = \"\"\n",
    "        for i in range(n + 1):\n",
    "            if num & (1 << i):\n",
    "                st += s[i]\n",
    "        v.append(st)\n",
    "\n",
    "    def p(self, v, s, n, num):\n",
    "        if num == 0:\n",
    "            return\n",
    "        self.k(v, s, n, num)\n",
    "        self.p(v, s, n, num - 1)\n",
    "\n",
    "    def AllPossibleStrings(self, s):\n",
    "        v = []\n",
    "        n = len(s) - 1\n",
    "        num = (1 << len(s)) - 1\n",
    "        self.p(v, s, n, num)\n",
    "        v.sort()\n",
    "        return v\n",
    "'''\n",
    "Complexity\n",
    "Time Complexity: O(2^n * n), where n is the length of the input string s.\n",
    "Space Complexity: O(2^n * n), where n is the length of the input string s. The space is used to store all possible subsequences.\n",
    "'''"
   ]
  },
  {
   "cell_type": "code",
   "execution_count": 7,
   "id": "581cc846",
   "metadata": {},
   "outputs": [
    {
     "data": {
      "text/plain": [
       "'\\nExpected Approach\\nIntuition\\nThe approach utilizes bitmasking to represent inclusion/exclusion of characters in subsequences. By iterating through all possible subsets, the algorithm constructs subsequences using set bits in the bitmask. This ensures systematic generation of subsequences. Sorting the result guarantees lexicographically-sorted order, fulfilling the required output condition.\\n\\nImplementation\\nInitialize Result Vector: Create an empty vector res to store the result.\\nCalculate String Size: Calculate the size n of the input string s.\\nGenerate Subsets using Bitmasking: Iterate over all possible subsets of characters in the string using a bitmasking approach. For each subset, create a temporary string temp to store the characters of the subset.\\nCheck Bitmask and Build Subset: For each character in the string, check if the corresponding bit is set in the bitmask. If set, add the character to the temporary string temp.\\nCheck Empty Subset: Check if the temporary string temp is not empty to avoid adding empty strings to the result.\\nSort Result Vector: Sort the result vector res in lexicographical order.\\nReturn Result: Return the sorted result vector.\\n\\n'"
      ]
     },
     "execution_count": 7,
     "metadata": {},
     "output_type": "execute_result"
    }
   ],
   "source": [
    "'''\n",
    "Expected Approach\n",
    "Intuition\n",
    "The approach utilizes bitmasking to represent inclusion/exclusion of characters in subsequences. By iterating through all possible subsets, the algorithm constructs subsequences using set bits in the bitmask. This ensures systematic generation of subsequences. Sorting the result guarantees lexicographically-sorted order, fulfilling the required output condition.\n",
    "\n",
    "Implementation\n",
    "Initialize Result Vector: Create an empty vector res to store the result.\n",
    "Calculate String Size: Calculate the size n of the input string s.\n",
    "Generate Subsets using Bitmasking: Iterate over all possible subsets of characters in the string using a bitmasking approach. For each subset, create a temporary string temp to store the characters of the subset.\n",
    "Check Bitmask and Build Subset: For each character in the string, check if the corresponding bit is set in the bitmask. If set, add the character to the temporary string temp.\n",
    "Check Empty Subset: Check if the temporary string temp is not empty to avoid adding empty strings to the result.\n",
    "Sort Result Vector: Sort the result vector res in lexicographical order.\n",
    "Return Result: Return the sorted result vector.\n",
    "\n",
    "'''"
   ]
  },
  {
   "cell_type": "code",
   "execution_count": 8,
   "id": "479daec8",
   "metadata": {},
   "outputs": [
    {
     "data": {
      "text/plain": [
       "'\\nComplexity\\nTime Complexity: O(n * 2^n), because, for each character in the string, there are 2 possibilities (include or exclude) in each subset, leading to a total of 2^n subsets.\\nSpace Complexity: O(n * 2^n), as each subset and the result vector contribute to the space complexity.\\n'"
      ]
     },
     "execution_count": 8,
     "metadata": {},
     "output_type": "execute_result"
    }
   ],
   "source": [
    "\n",
    "class Solution:\n",
    "    # Function to generate all possible strings from a given string.\n",
    "    def AllPossibleStrings(self, s):\n",
    "        # Creating a list to store the result.\n",
    "        res = []\n",
    "        # Calculating the size of the string.\n",
    "        n = len(s)\n",
    "        # Iterating over all possible subsets of characters in the string.\n",
    "        # Using a bitmasking approach.\n",
    "        for i in range(1 << n):\n",
    "            # Creating a temporary string to store each subset.\n",
    "            temp = \"\"\n",
    "            # Iterating over each character in the string.\n",
    "            for j in range(n):\n",
    "                # Checking if the jth character should be included in the subset or not\n",
    "                # by checking if the jth bit is set in the bitmask i.\n",
    "                if i & (1 << j):\n",
    "                    # If yes, adding the character to the temporary string.\n",
    "                    temp += s[j]\n",
    "            # Checking if the temporary string is not empty\n",
    "            # to avoid adding empty strings to the result.\n",
    "            if temp:\n",
    "                # Adding the temporary string to the result list.\n",
    "                res.append(temp)\n",
    "        \n",
    "        # Sorting the result list in lexicographical order.\n",
    "        res.sort()\n",
    "        # Returning the result list.\n",
    "        return res\n",
    "    \n",
    "'''\n",
    "Complexity\n",
    "Time Complexity: O(n * 2^n), because, for each character in the string, there are 2 possibilities (include or exclude) in each subset, leading to a total of 2^n subsets.\n",
    "Space Complexity: O(n * 2^n), as each subset and the result vector contribute to the space complexity.\n",
    "'''"
   ]
  },
  {
   "cell_type": "code",
   "execution_count": null,
   "id": "a73095a2",
   "metadata": {},
   "outputs": [],
   "source": []
  }
 ],
 "metadata": {
  "kernelspec": {
   "display_name": "Python 3 (ipykernel)",
   "language": "python",
   "name": "python3"
  },
  "language_info": {
   "codemirror_mode": {
    "name": "ipython",
    "version": 3
   },
   "file_extension": ".py",
   "mimetype": "text/x-python",
   "name": "python",
   "nbconvert_exporter": "python",
   "pygments_lexer": "ipython3",
   "version": "3.11.4"
  }
 },
 "nbformat": 4,
 "nbformat_minor": 5
}
