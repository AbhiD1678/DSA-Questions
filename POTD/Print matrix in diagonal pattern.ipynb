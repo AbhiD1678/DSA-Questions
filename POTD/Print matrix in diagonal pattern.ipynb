{
 "cells": [
  {
   "cell_type": "code",
   "execution_count": 1,
   "id": "927168ad",
   "metadata": {},
   "outputs": [
    {
     "data": {
      "text/plain": [
       "'\\nGiven a square matrix mat[][] of n*n size, the task is to determine the diagonal pattern which is a linear arrangement of the elements of the matrix as depicted in the following example:\\n\\n\\n\\nExample 1:\\n\\nInput:\\nn = 3\\nmat[][] = {{1, 2, 3},\\n           {4, 5, 6},\\n           {7, 8, 9}}\\nOutput: {1, 2, 4, 7, 5, 3, 6, 8, 9}\\nExplaination:\\nStarting from (0, 0): 1,\\nMove to the right to (0, 1): 2,\\nMove diagonally down to (1, 0): 4,\\nMove diagonally down to (2, 0): 7,\\nMove diagonally up to (1, 1): 5,\\nMove diagonally up to (0, 2): 3,\\nMove to the right to (1, 2): 6,\\nMove diagonally up to (2, 1): 8,\\nMove diagonally up to (2, 2): 9\\nThere for the output is {1, 2, 4, 7, 5, 3, 6, 8, 9}.\\nExample 2:\\n\\nInput:\\nn = 2\\nmat[][] = {{1, 2},\\n           {3, 4}}\\nOutput: {1, 2, 3, 4}\\nExplaination:\\nStarting from (0, 0): 1,\\nMove to the right to (0, 1): 2,\\nMove diagonally down to (1, 0): 3,\\nMove to the right to (1, 1): 4\\nThere for the output is {1, 2, 3, 4}.\\nYour Task:\\nYou only need to implement the given function matrixDiagonally() which takes a matrix mat[][] of size n*n as an input and returns a list of integers containing the matrix diagonally. Do not read input, instead use the arguments given in the function.\\n\\nExpected Time Complexity: O(n*n).\\nExpected Auxiliary Space: O(1).\\nConstraints:\\n1 <= n <= 100\\n-100 <= elements of matrix <= 100\\n'"
      ]
     },
     "execution_count": 1,
     "metadata": {},
     "output_type": "execute_result"
    }
   ],
   "source": [
    "'''\n",
    "Given a square matrix mat[][] of n*n size, the task is to determine the diagonal pattern which is a linear arrangement of the elements of the matrix as depicted in the following example:\n",
    "\n",
    "\n",
    "\n",
    "Example 1:\n",
    "\n",
    "Input:\n",
    "n = 3\n",
    "mat[][] = {{1, 2, 3},\n",
    "           {4, 5, 6},\n",
    "           {7, 8, 9}}\n",
    "Output: {1, 2, 4, 7, 5, 3, 6, 8, 9}\n",
    "Explaination:\n",
    "Starting from (0, 0): 1,\n",
    "Move to the right to (0, 1): 2,\n",
    "Move diagonally down to (1, 0): 4,\n",
    "Move diagonally down to (2, 0): 7,\n",
    "Move diagonally up to (1, 1): 5,\n",
    "Move diagonally up to (0, 2): 3,\n",
    "Move to the right to (1, 2): 6,\n",
    "Move diagonally up to (2, 1): 8,\n",
    "Move diagonally up to (2, 2): 9\n",
    "There for the output is {1, 2, 4, 7, 5, 3, 6, 8, 9}.\n",
    "Example 2:\n",
    "\n",
    "Input:\n",
    "n = 2\n",
    "mat[][] = {{1, 2},\n",
    "           {3, 4}}\n",
    "Output: {1, 2, 3, 4}\n",
    "Explaination:\n",
    "Starting from (0, 0): 1,\n",
    "Move to the right to (0, 1): 2,\n",
    "Move diagonally down to (1, 0): 3,\n",
    "Move to the right to (1, 1): 4\n",
    "There for the output is {1, 2, 3, 4}.\n",
    "Your Task:\n",
    "You only need to implement the given function matrixDiagonally() which takes a matrix mat[][] of size n*n as an input and returns a list of integers containing the matrix diagonally. Do not read input, instead use the arguments given in the function.\n",
    "\n",
    "Expected Time Complexity: O(n*n).\n",
    "Expected Auxiliary Space: O(1).\n",
    "Constraints:\n",
    "1 <= n <= 100\n",
    "-100 <= elements of matrix <= 100\n",
    "'''"
   ]
  },
  {
   "cell_type": "code",
   "execution_count": 2,
   "id": "df7f59fa",
   "metadata": {},
   "outputs": [],
   "source": [
    "class Solution:\n",
    "    def matrixDiagonally(self,mat):\n",
    "        # code here\n",
    "        i,j=0,0\n",
    "        res=[mat[i][j]]\n",
    "        r=len(mat)\n",
    "        c=len(mat[0])\n",
    "        while i<r-1 or j<c-1:\n",
    "            if j+1 <c:\n",
    "                j+=1\n",
    "                res.append(mat[i][j])\n",
    "            else:\n",
    "                i+=1\n",
    "                res.append(mat[i][j])\n",
    "            while i+1<r and j-1 >=0:\n",
    "                i+=1\n",
    "                j-=1\n",
    "                res.append(mat[i][j])\n",
    "            if i+1<r:\n",
    "                i+=1\n",
    "                res.append(mat[i][j])\n",
    "            else:\n",
    "                j+=1\n",
    "                res.append(mat[i][j])\n",
    "            while i-1>=0 and j+1<c:\n",
    "                i-=1\n",
    "                j+=1\n",
    "                res.append(mat[i][j])\n",
    "        return res\n"
   ]
  },
  {
   "cell_type": "code",
   "execution_count": 3,
   "id": "d98cb978",
   "metadata": {},
   "outputs": [
    {
     "data": {
      "text/plain": [
       "'\\nComplexity\\nTime Complexity: O(n^2), where n is the size of the input square matrix. This complexity arises because we visit each element of the matrix exactly once while traversing it diagonally.\\n\\nSpace Complexity: O(1), as the space usage remains constant regardless of the input size. We only use a few extra variables to keep track of the traversal direction and the current position, and we do not utilize any additional data structures that grow with the input size.\\n'"
      ]
     },
     "execution_count": 3,
     "metadata": {},
     "output_type": "execute_result"
    }
   ],
   "source": [
    "'''\n",
    "Expected Approach\n",
    "Intuition\n",
    "The key idea is to traverse the matrix diagonally, starting from the top-left corner, and collect elements in a specific order. We maintain a direction variable to alternate between upward and downward diagonals. At each position, we append the current element to the result list and adjust the traversal direction when necessary to ensure we cover all elements in the matrix diagonally. This approach efficiently organizes matrix elements in the desired diagonal pattern without using additional space\n",
    "\n",
    "Implementation\n",
    "Input Validation: First, we check if the input matrix mat is empty. If either the matrix or its first row is empty, we return an empty list.\n",
    "Matrix Dimensions: We determine the dimensions of the matrix mat using N and M.\n",
    "Initialization: Initialize variables row and column to 0, representing the starting position in the matrix. Initialize direction to 1, indicating the upward diagonal traversal.\n",
    "Traversal and Diagonal Processing: We traverse the matrix diagonally, starting from the top-left corner. At each position (row, column), we append the current element to the result list.\n",
    "Next Element in Diagonal: We determine the next position in the diagonal based on the current direction (direction). If the next position falls outside the matrix boundaries, we adjust the position to ensure we continue along the diagonal.\n",
    "Direction Change: If the next position is out of bounds, we change the direction of traversal (direction) to alternate between upward and downward diagonals.\n",
    "Continuation: We continue this process until we have processed all elements in the matrix diagonally.\n",
    "Return Result: Finally, we return the result list containing elements traversed diagonally.\n",
    "'''\n",
    "class Solution:\n",
    "    def matrixDiagonally(self, mat):\n",
    "        if not mat or not mat[0]:\n",
    "            return []\n",
    "\n",
    "        N, M = len(mat), len(mat[0])\n",
    "        row, column = 0, 0\n",
    "        direction = 1\n",
    "        result = []\n",
    "\n",
    "        while row < N and column < M:\n",
    "            result.append(mat[row][column])\n",
    "            new_row = row + (-1 if direction == 1 else 1)\n",
    "            new_column = column + (1 if direction == 1 else -1)\n",
    "\n",
    "            if new_row < 0 or new_row == N or new_column < 0 or new_column == M:\n",
    "                if direction:\n",
    "                    row += (column == M - 1)\n",
    "                    column += (column < M - 1)\n",
    "                else:\n",
    "                    column += (row == N - 1)\n",
    "                    row += (row < N - 1)\n",
    "                direction = 1 - direction\n",
    "            else:\n",
    "                row = new_row\n",
    "                column = new_column\n",
    "\n",
    "        return result\n",
    "'''\n",
    "Complexity\n",
    "Time Complexity: O(n^2), where n is the size of the input square matrix. This complexity arises because we visit each element of the matrix exactly once while traversing it diagonally.\n",
    "\n",
    "Space Complexity: O(1), as the space usage remains constant regardless of the input size. We only use a few extra variables to keep track of the traversal direction and the current position, and we do not utilize any additional data structures that grow with the input size.\n",
    "'''\n",
    "\n"
   ]
  },
  {
   "cell_type": "code",
   "execution_count": 4,
   "id": "197cd9d0",
   "metadata": {},
   "outputs": [
    {
     "data": {
      "text/plain": [
       "'\\nComplexity\\nTime complexity: O(n^2), where n is the size of the input square matrix. This is because we iterate through each element of the matrix once to insert it into the map and construct the result vector.\\n\\nSpace complexity: O(n^2) because the map m may contain all elements of the matrix, and the result vector v contains all elements of the matrix diagonally.\\n'"
      ]
     },
     "execution_count": 4,
     "metadata": {},
     "output_type": "execute_result"
    }
   ],
   "source": [
    "'''\n",
    "Alternate Approach\n",
    "Intuition\n",
    "The approach uses a map to store the elements of the matrix based on their diagonal position. Then, it constructs the result vector by traversing the map and handling the elements based on the direction of the diagonal\n",
    "\n",
    "Implementation\n",
    "Create a map m to store elements based on their diagonal position.\n",
    "Traverse the matrix arr, and for each element arr[i][j], insert it into the map at position i+j.\n",
    "Initialize an empty vector v to store the result.\n",
    "Iterate through the map, handling the elements based on the direction of the diagonal:\n",
    "If the current diagonal index k is even and greater than 0, reverse the order of elements in the diagonal.\n",
    "Append the elements of the diagonal to the result vector v.\n",
    "Return the result vector v.\n",
    "'''\n",
    "\n",
    "from typing import List\n",
    "\n",
    "class Solution:\n",
    "    def matrixDiagonally(self, arr: List[List[int]]) -> List[int]:\n",
    "        m = {} # Store elements in the map based on diagonal index\n",
    "        for i in range(len(arr)):\n",
    "            for j in range(len(arr)):\n",
    "                diagonal_index = i + j\n",
    "                if diagonal_index not in m:\n",
    "                    m[diagonal_index] = []\n",
    "                m[diagonal_index].append(arr[i][j])\n",
    "        \n",
    "        result = []\n",
    "        k = 0 # Traverse the map and append elements to result list\n",
    "        for key, value in m.items():\n",
    "            if k % 2 == 0 and k > 0:\n",
    "                value.reverse()\n",
    "            result.extend(value)\n",
    "            k += 1\n",
    "        \n",
    "        return result\n",
    "'''\n",
    "Complexity\n",
    "Time complexity: O(n^2), where n is the size of the input square matrix. This is because we iterate through each element of the matrix once to insert it into the map and construct the result vector.\n",
    "\n",
    "Space complexity: O(n^2) because the map m may contain all elements of the matrix, and the result vector v contains all elements of the matrix diagonally.\n",
    "'''"
   ]
  },
  {
   "cell_type": "code",
   "execution_count": null,
   "id": "45f0ed7e",
   "metadata": {},
   "outputs": [],
   "source": []
  }
 ],
 "metadata": {
  "kernelspec": {
   "display_name": "Python 3 (ipykernel)",
   "language": "python",
   "name": "python3"
  },
  "language_info": {
   "codemirror_mode": {
    "name": "ipython",
    "version": 3
   },
   "file_extension": ".py",
   "mimetype": "text/x-python",
   "name": "python",
   "nbconvert_exporter": "python",
   "pygments_lexer": "ipython3",
   "version": "3.11.4"
  }
 },
 "nbformat": 4,
 "nbformat_minor": 5
}
