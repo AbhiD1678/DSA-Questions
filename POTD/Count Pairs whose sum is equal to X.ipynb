{
 "cells": [
  {
   "cell_type": "code",
   "execution_count": 1,
   "id": "fb90c792",
   "metadata": {},
   "outputs": [
    {
     "data": {
      "text/plain": [
       "'\\nGiven two linked list head1 and head2 with distinct elements, determine the count of all distinct pairs from both lists whose sum is equal to the given value x.\\n\\nNote: A valid pair would be in the form (x, y) where x is from first linked list and y is from second linked list.\\n\\nExample 1:\\n\\nInput:\\nhead1 = 1->2->3->4->5->6\\nhead2 = 11->12->13\\nx = 15\\nOutput: 3\\nExplanation: There are total 3 pairs whose sum is 15 : (4,11) , (3,12) and (2,13)\\nExample 2:\\n\\nInput:\\nhead1 = 7->5->1->3\\nhead2 = 3->5->2->8\\nx = 10\\nOutput: 2\\nExplanation: There are total 2 pairs whose sum is 10 : (7,3) and (5,5)\\nYour Task:\\nYou only need to implement the given function countPairs() that take two linked list head1 and head2 and return the count of distinct pairs whose sum is equal to x.\\n\\nExpected Time Complexity: O(length(head1)+lenght(head2)).\\nExpected Auxiliary Space: O(length(head1)) or O(length(head2)).\\n\\nConstraints:\\n1<=length(head1), lenght(head2)<=105\\n1 <= Value of elements of  linked lists <= 109\\n1<= x <= 109\\nNote : All elements in each linked list are unique.\\n\\n\\n'"
      ]
     },
     "execution_count": 1,
     "metadata": {},
     "output_type": "execute_result"
    }
   ],
   "source": [
    "'''\n",
    "Given two linked list head1 and head2 with distinct elements, determine the count of all distinct pairs from both lists whose sum is equal to the given value x.\n",
    "\n",
    "Note: A valid pair would be in the form (x, y) where x is from first linked list and y is from second linked list.\n",
    "\n",
    "Example 1:\n",
    "\n",
    "Input:\n",
    "head1 = 1->2->3->4->5->6\n",
    "head2 = 11->12->13\n",
    "x = 15\n",
    "Output: 3\n",
    "Explanation: There are total 3 pairs whose sum is 15 : (4,11) , (3,12) and (2,13)\n",
    "Example 2:\n",
    "\n",
    "Input:\n",
    "head1 = 7->5->1->3\n",
    "head2 = 3->5->2->8\n",
    "x = 10\n",
    "Output: 2\n",
    "Explanation: There are total 2 pairs whose sum is 10 : (7,3) and (5,5)\n",
    "Your Task:\n",
    "You only need to implement the given function countPairs() that take two linked list head1 and head2 and return the count of distinct pairs whose sum is equal to x.\n",
    "\n",
    "Expected Time Complexity: O(length(head1)+lenght(head2)).\n",
    "Expected Auxiliary Space: O(length(head1)) or O(length(head2)).\n",
    "\n",
    "Constraints:\n",
    "1<=length(head1), lenght(head2)<=105\n",
    "1 <= Value of elements of  linked lists <= 109\n",
    "1<= x <= 109\n",
    "Note : All elements in each linked list are unique.\n",
    "\n",
    "\n",
    "'''"
   ]
  },
  {
   "cell_type": "code",
   "execution_count": 2,
   "id": "70b864bb",
   "metadata": {},
   "outputs": [],
   "source": [
    "class Solution:\n",
    "    def countPair(self, head1, head2, n1, n2, x):\n",
    "        count, set_values = 0, set()\n",
    "\n",
    "        # Add values from the second linked list to a set\n",
    "        while head2:\n",
    "            set_values.add(head2.data)\n",
    "            head2 = head2.next\n",
    "\n",
    "        # Check for pairs in the first linked list that sum up to x\n",
    "        while head1:\n",
    "            count += int(x - head1.data in set_values)\n",
    "            head1 = head1.next\n",
    "\n",
    "        return count"
   ]
  },
  {
   "cell_type": "code",
   "execution_count": 3,
   "id": "03153f17",
   "metadata": {},
   "outputs": [
    {
     "data": {
      "text/plain": [
       "'\\nComplexity\\nTime Complexity : The time complexity is O(n1 * n2), where n1 and n2 are the sizes of the two linked lists, as it involves nested traversal of both lists.\\nSpace Complexity : The space complexity is constant, O(1).\\n'"
      ]
     },
     "execution_count": 3,
     "metadata": {},
     "output_type": "execute_result"
    }
   ],
   "source": [
    "'''\n",
    "Brute Force Approach\n",
    "Intuition\n",
    "A simple solution is to use nested loops, one for the traversal of each element in the first linkedList and the other for checking if there’s a number in the second linked list that can be added to it to give sum =  K.\n",
    "\n",
    "Implementation\n",
    "Set count to 0 to track the number of pairs.\n",
    "Iterate over elements of the first list (h1).\n",
    "For each element in the first list, iterate over elements of the second list (h2).\n",
    "If the sum of current elements equals x, increment count.\n",
    "Move to the next element in the first list after traversing the second list for each element.\n",
    "Once all pairs are counted, return the final value of count.\n",
    "'''\n",
    "class Solution:\n",
    "    def countPair(self, h1, h2, n1, n2, x):\n",
    "        count = 0\n",
    "\n",
    "        # Traverse the first list\n",
    "        current1 = h1\n",
    "        while current1 is not None:\n",
    "            # Traverse the second list for each element in the first list\n",
    "            current2 = h2\n",
    "            while current2 is not None:\n",
    "                # Check if the sum of current elements is equal to x\n",
    "                if current1.data + current2.data == x:\n",
    "                    count += 1\n",
    "                current2 = current2.next\n",
    "\n",
    "            current1 = current1.next\n",
    "\n",
    "        return count\n",
    "'''\n",
    "Complexity\n",
    "Time Complexity : The time complexity is O(n1 * n2), where n1 and n2 are the sizes of the two linked lists, as it involves nested traversal of both lists.\n",
    "Space Complexity : The space complexity is constant, O(1).\n",
    "'''"
   ]
  },
  {
   "cell_type": "code",
   "execution_count": 4,
   "id": "99ed2285",
   "metadata": {},
   "outputs": [
    {
     "data": {
      "text/plain": [
       "'\\nComplexity\\nTime Complexity: O(n1\\u200b+n2\\u200b), where n1\\u200b and n2\\u200b are the sizes of the two linked lists, because we iterate over each list once, and the operations inside the loop (adding to HashSet, checking HashSet) are O(1) on average.\\nSpace Complexity: O(n1\\u200b) - The space complexity is dominated by the HashSet, which stores elements from the first linked list. The worst-case scenario is if all elements from the first list are distinct, requiring space proportional to the size of the list.\\n'"
      ]
     },
     "execution_count": 4,
     "metadata": {},
     "output_type": "execute_result"
    }
   ],
   "source": [
    "'''\n",
    "Expected Approach\n",
    "Intuition\n",
    "Store elements of one list in a set. Then look for ( sum - list2[i] ) in the set, where sum is required sum of pairs and list2[i] is ith element of list2.\n",
    "Implementation\n",
    "Initialize a variable count to track the count of pairs. Create a HashSet h to store elements from the first linked list.\n",
    "Traverse the first linked list (head1) using an iterator and add all elements to the HashSet h.\n",
    "Traverse the second linked list (head2) using an iterator. For each element in head2, check if the HashSet contains x−current element. If it does, increment the count.\n",
    "After traversing both lists, return the count, which represents the total count of pairs whose sum equals x.\n",
    "'''\n",
    "class Solution:\n",
    "    # Back-end complete function Template for Python 3\n",
    "\n",
    "    def countPair(self, head1, head2, n1, n2, x):\n",
    "        # Set to store elements\n",
    "        s = set()\n",
    "        # Counter for pairs\n",
    "        count = 0\n",
    "        \n",
    "        if n1 > n2:\n",
    "            # If list1 is longer, iterate through list2\n",
    "            while head2:\n",
    "                # Adding elements from list2 to set\n",
    "                s.add(head2.data)\n",
    "                head2 = head2.next\n",
    "            \n",
    "            # Iterate through list1\n",
    "            while head1:\n",
    "                # Checking whether there is an element\n",
    "                # in list2 that can form a pair\n",
    "                if x - head1.data in s:\n",
    "                    count += 1\n",
    "                head1 = head1.next\n",
    "        else:\n",
    "            # If list2 is longer, iterate through list1\n",
    "            while head1:\n",
    "                # Adding elements from list1 to set\n",
    "                s.add(head1.data)\n",
    "                head1 = head1.next\n",
    "            \n",
    "            # Iterate through list2\n",
    "            while head2:\n",
    "                # Checking whether there is an element\n",
    "                # in list1 that can form a pair\n",
    "                if x - head2.data in s:\n",
    "                    count += 1\n",
    "                head2 = head2.next\n",
    "        \n",
    "        return count\n",
    "'''\n",
    "Complexity\n",
    "Time Complexity: O(n1​+n2​), where n1​ and n2​ are the sizes of the two linked lists, because we iterate over each list once, and the operations inside the loop (adding to HashSet, checking HashSet) are O(1) on average.\n",
    "Space Complexity: O(n1​) - The space complexity is dominated by the HashSet, which stores elements from the first linked list. The worst-case scenario is if all elements from the first list are distinct, requiring space proportional to the size of the list.\n",
    "'''"
   ]
  },
  {
   "cell_type": "code",
   "execution_count": null,
   "id": "a153105b",
   "metadata": {},
   "outputs": [],
   "source": []
  }
 ],
 "metadata": {
  "kernelspec": {
   "display_name": "Python 3 (ipykernel)",
   "language": "python",
   "name": "python3"
  },
  "language_info": {
   "codemirror_mode": {
    "name": "ipython",
    "version": 3
   },
   "file_extension": ".py",
   "mimetype": "text/x-python",
   "name": "python",
   "nbconvert_exporter": "python",
   "pygments_lexer": "ipython3",
   "version": "3.11.4"
  }
 },
 "nbformat": 4,
 "nbformat_minor": 5
}
