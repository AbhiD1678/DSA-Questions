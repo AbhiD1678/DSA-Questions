{
 "cells": [
  {
   "cell_type": "raw",
   "id": "6fd88919-f139-4e55-b8dc-d8bd7e0c0148",
   "metadata": {},
   "source": [
    "There are n stairs, and a person standing at the bottom wants to reach the top. The person can climb either 1 stair or 2 stairs at a time. Count the number of ways, the person can reach the top (order does not matter).\n",
    "\n",
    "Example 1:\n",
    "\n",
    "Input:\n",
    "n = 4\n",
    "Output: \n",
    "3\n",
    "Explanation: \n",
    "You can reach 4th stair in 3 ways.\n",
    "3 possible ways are:\n",
    "1, 1, 1, 1\n",
    "1, 1, 2\n",
    "2, 2\n",
    "Here, note that {1, 1, 2}, {1, 2, 1} and {2, 1, 1} are considered same as their order does not matter. \n",
    "Example 2:\n",
    "\n",
    "Input:\n",
    "n = 5\n",
    "Output: \n",
    "3\n",
    "Explanation:\n",
    "You may reach the 5th stair in 3 ways.\n",
    "The 3 possible ways are:\n",
    "1, 1, 1, 1, 1\n",
    "1, 1, 1, 2\n",
    "1, 2, 2\n",
    "Your Task:\n",
    "Your task is to complete the function countWays() which takes a single argument n and returns the answer.\n",
    "\n",
    "Expected Time Complexity: O(n)\n",
    "Expected Auxiliary Space: O(n)\n",
    "\n",
    "Constraints:\n",
    "1 <= N <= 106\n",
    "\n"
   ]
  },
  {
   "cell_type": "code",
   "execution_count": 1,
   "id": "d2f35bbf-f6d7-43d8-85e8-4f7642b98cb1",
   "metadata": {},
   "outputs": [],
   "source": [
    "class Solution:\n",
    "\n",
    "    #Function to count number of ways to reach the nth stair\n",
    "    #when order does not matter.\n",
    "    def countWays(self, n):\n",
    "\n",
    "        mod = 1000000007\n",
    "        # code here\n",
    "        return int((n/2)+1)\n"
   ]
  },
  {
   "cell_type": "raw",
   "id": "68521622-980c-408c-9b06-1c9341ad63af",
   "metadata": {},
   "source": [
    "Intuition:\n",
    "We can use dynamic programming to solve the problem. The number of ways to reach ith step from (i-2)th step is just 1 extra. That is the dp state will be: res[i-2]+1.\n",
    "\n",
    "Implementation:\n",
    "Base condition: res[0]=1 and res[1]=1\n",
    "Iterate from 2 to m\n",
    "In each step, res[i]=res[i-2]+1\n",
    "Finally, return res[m]\n",
    "Example:\n",
    "\n",
    "M=4\n",
    "\n",
    "1) res[0]=res[1]=1\n",
    "\n",
    "2) res[2]=res[0]+1=2\n",
    "\n",
    "3) res[3]=res[1]+1=2\n",
    "\n",
    "4) res[4]=res[2]+1=3\n",
    "\n",
    "\n",
    "Complexity:\n",
    "Time Complexity: O(N) as we are running a loop.\n",
    "Space Complexity: O(N) as we are creating an array of size m."
   ]
  },
  {
   "cell_type": "code",
   "execution_count": 4,
   "id": "2d591ab1-5eec-4edc-ae2f-39ccea36be8b",
   "metadata": {},
   "outputs": [],
   "source": [
    "#Back-end complete function Template for Python 3\n",
    "\n",
    "\n",
    "class Solution:\n",
    "\n",
    "    #Function to count number of ways to reach the nth stair\n",
    "    #when order does not matter.\n",
    "    def countWays(self, n):\n",
    "\n",
    "        dp = [0 for i in range(n + 1)]\n",
    "\n",
    "        #base cases\n",
    "        dp[0] = 1\n",
    "        dp[1] = 1\n",
    "\n",
    "        #storing number of ways to reach the ith index as\n",
    "        #number of ways to reach (i-2)th index +1.\n",
    "        for i in range(2, n + 1):\n",
    "            dp[i] = dp[i - 2] + 1\n",
    "\n",
    "        #returning the result.\n",
    "        return dp[n]\n"
   ]
  },
  {
   "cell_type": "code",
   "execution_count": null,
   "id": "ac4d5129-177c-4e9c-92dd-6a8e9c9025e2",
   "metadata": {},
   "outputs": [],
   "source": []
  }
 ],
 "metadata": {
  "kernelspec": {
   "display_name": "Python 3 (ipykernel)",
   "language": "python",
   "name": "python3"
  },
  "language_info": {
   "codemirror_mode": {
    "name": "ipython",
    "version": 3
   },
   "file_extension": ".py",
   "mimetype": "text/x-python",
   "name": "python",
   "nbconvert_exporter": "python",
   "pygments_lexer": "ipython3",
   "version": "3.11.7"
  }
 },
 "nbformat": 4,
 "nbformat_minor": 5
}
