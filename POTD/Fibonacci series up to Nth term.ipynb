{
 "cells": [
  {
   "cell_type": "markdown",
   "id": "6ffef71c",
   "metadata": {},
   "source": [
    "You are given an integer n, return the fibonacci series till the nth(0-based indexing) term. Since the terms can become very large return the terms modulo 109+7.\n",
    "\n",
    "Example 1:\n",
    "\n",
    "Input:\n",
    "n = 5\n",
    "Output:\n",
    "0 1 1 2 3 5\n",
    "Explanation:\n",
    "0 1 1 2 3 5 is the Fibonacci series up to the 5th term.\n",
    "Example 2:\n",
    "\n",
    "Input:\n",
    "n = 10\n",
    "Output:\n",
    "0 1 1 2 3 5 8 13 21 34 55\n",
    "Explanation:\n",
    "0 1 1 2 3 5 8 13 21 34 55 is the Fibonacci series up to the 10th term.\n",
    "Your Task:\n",
    "You don't need to read input or print anything. Your task is to complete the function Series() which takes an Integer n as input and returns a Fibonacci series up to the nth term.\n",
    "\n",
    "Expected Time Complexity: O(n)\n",
    "Expected Space Complexity: O(n)"
   ]
  },
  {
   "cell_type": "code",
   "execution_count": 1,
   "id": "bdadb757",
   "metadata": {},
   "outputs": [],
   "source": [
    "class Solution:\n",
    "    def series(self, n):\n",
    "        # Code here\n",
    "        arr0=[0,1]\n",
    "        for i in range(2,n+1):\n",
    "            if i==0:\n",
    "                return arr0[0]\n",
    "            elif i==1:\n",
    "                return arr0[1]\n",
    "            \n",
    "            else:\n",
    "                x=arr0[i-1]+arr0[i-2]\n",
    "                arr0.append(x%((10**9)+7))\n",
    "        \n",
    "        return arr0\n"
   ]
  },
  {
   "cell_type": "markdown",
   "id": "efe5eafa",
   "metadata": {},
   "source": [
    "Brute force Approach\n",
    "Intuition\n",
    "The key idea behind this implementation is to use recursion to generate each Fibonacci number individually. The fib function recursively computes the nth Fibonacci number by summing the (n-1)th and (n-2)th Fibonacci numbers.\n",
    "\n",
    "Example\n",
    "\n",
    "\n",
    "Untitled-presentation-(17)\n",
    "Implementation\n",
    "Fibonacci Function (fib):\n",
    "This function calculates the nth Fibonacci number recursively using the following logic:\n",
    "If n is less than or equal to 1, return n (base cases).\n",
    "Otherwise, return the sum of the (n-1)th and (n-2)th Fibonacci numbers.\n",
    "This function serves as a helper function to generate individual Fibonacci numbers.\n",
    "Series Function (Series):\n",
    "This function generates the Fibonacci series up to the nth term.\n",
    "It initializes an empty vector ans to store the Fibonacci series.\n",
    "It iterates from 0 to n (inclusive) using a for loop:\n",
    "For each index i, it calls the fib function to compute the ith Fibonacci number and appends it to the ans vector.\n",
    "After the loop, it returns the ans vector containing the Fibonacci series"
   ]
  },
  {
   "cell_type": "code",
   "execution_count": 2,
   "id": "51ea234d",
   "metadata": {},
   "outputs": [],
   "source": [
    "class Solution:\n",
    "    def fib(self, n: int) -> int:\n",
    "        if n <= 1:\n",
    "            return n\n",
    "        return self.fib(n - 1) + self.fib(n - 2)\n",
    "    \n",
    "    def series(self, n):\n",
    "        ans = []\n",
    "        for i in range(n + 1):\n",
    "            ans.append(self.fib(i))\n",
    "        return ans\n"
   ]
  },
  {
   "cell_type": "markdown",
   "id": "cdaab0e0",
   "metadata": {},
   "source": [
    "Complexity\n",
    "Time Complexity: The time complexity is approximately O(2^n) due to the exponential growth in the number of recursive calls.\n",
    "\n",
    "Space Complexity: O(n) due to the recursion depth and the space required for the output list"
   ]
  },
  {
   "cell_type": "markdown",
   "id": "8fd28750",
   "metadata": {},
   "source": [
    "Expected Approach\n",
    "Intuition\n",
    "By initializing the first two terms as 0 and 1, subsequent Fibonacci numbers are calculated iteratively using the previous two terms, ensuring the series follows the Fibonacci sequence. Since the terms can become large, we take the modulo at each step to prevent overflow and maintain the result within the specified bounds.\n",
    "\n",
    "Implementation\n",
    "Base Cases:\n",
    "If n equals 0, return [0] since the Fibonacci series starts with 0.\n",
    "If n equals 1, return [0, 1] as the series up to the first term.\n",
    "Initialize Variables:\n",
    "Initialize a variable mod to store the modulo value 10^9 + 7.\n",
    "Initialize a list fib of size n + 1 to store the Fibonacci series.\n",
    "Calculate Fibonacci Series:\n",
    "Initialize the first two elements of the Fibonacci series as 0 and 1 (fib[0] = 0, fib[1] = 1).\n",
    "Iterate from the 2nd index to the nth index (inclusive):\n",
    "Calculate the current Fibonacci number (fib[i]) as the sum of the previous two Fibonacci numbers (fib[i - 1] and fib[i - 2]), modulo mod.\n",
    "Store the calculated Fibonacci number in the fib list.\n",
    "Return Fibonacci Series:\n",
    "Return the fib list containing the Fibonacci series up to the nth term.\n",
    "Example\n",
    "Let's illustrate this with an example: For n = 5,\n",
    "\n",
    "Initialize fib list: [0, 1, 0, 0, 0, 0]\n",
    "Calculate fib[2] = (fib[1] + fib[0]) % mod = (1 + 0) % (10^9 + 7) = 1\n",
    "Calculate fib[3] = (fib[2] + fib[1]) % mod = (1 + 1) % (10^9 + 7) = 2\n",
    "Calculate fib[4] = (fib[3] + fib[2]) % mod = (2 + 1) % (10^9 + 7) = 3\n",
    "Calculate fib[5] = (fib[4] + fib[3]) % mod = (3 + 2) % (10^9 + 7) = 5\n",
    "Return [0, 1, 1, 2, 3, 5]"
   ]
  },
  {
   "cell_type": "code",
   "execution_count": 3,
   "id": "662ec1b0",
   "metadata": {},
   "outputs": [],
   "source": [
    "class Solution:\n",
    "    def series(self, n):\n",
    "        if n == 0:\n",
    "            return [0]\n",
    "        if n == 1:\n",
    "            return [0, 1]\n",
    "        mod = 10**9 + 7\n",
    "        fib = [0] * (n + 1)\n",
    "        fib[0] = 0\n",
    "        fib[1] = 1\n",
    "        for i in range(2, n + 1):\n",
    "            fib[i] = (fib[i - 1] + fib[i - 2]) % mod\n",
    "        return fib\n"
   ]
  },
  {
   "cell_type": "markdown",
   "id": "70ec8c1d",
   "metadata": {},
   "source": [
    "Complexity\n",
    "time complexity :O(n) as each term in the Fibonacci series up to the nth term is computed once. space complexity : O(n) since we store the entire Fibonacci series up to the nth term."
   ]
  },
  {
   "cell_type": "code",
   "execution_count": null,
   "id": "c53ce9c6",
   "metadata": {},
   "outputs": [],
   "source": []
  }
 ],
 "metadata": {
  "kernelspec": {
   "display_name": "Python 3 (ipykernel)",
   "language": "python",
   "name": "python3"
  },
  "language_info": {
   "codemirror_mode": {
    "name": "ipython",
    "version": 3
   },
   "file_extension": ".py",
   "mimetype": "text/x-python",
   "name": "python",
   "nbconvert_exporter": "python",
   "pygments_lexer": "ipython3",
   "version": "3.11.4"
  }
 },
 "nbformat": 4,
 "nbformat_minor": 5
}
