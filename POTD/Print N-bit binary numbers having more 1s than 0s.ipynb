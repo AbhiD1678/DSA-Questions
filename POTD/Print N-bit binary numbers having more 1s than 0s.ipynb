{
 "cells": [
  {
   "cell_type": "code",
   "execution_count": 1,
   "id": "d223abd3",
   "metadata": {},
   "outputs": [
    {
     "data": {
      "text/plain": [
       "'\\nGiven a positive integer n. Your task is to generate a string list of all n-bit binary numbers where, for any prefix of the number, there are more or an equal number of 1\\'s than 0\\'s. The numbers should be sorted in decreasing order of magnitude.\\n\\nExample 1:\\n\\nInput:  \\nn = 2\\nOutput: \\n\"11, 10\"\\nExplanation: Valid numbers are those where each prefix has more 1s than 0s:\\n11: all its prefixes (1 and 11) have more 1s than 0s.\\n10: all its prefixes (1 and 10) have more 1s than 0s.\\nSo, the output is \"11, 10\".\\nExample 2:\\n\\nInput:  \\nn = 3\\nOutput: \\n\"111, 110, 101\"\\nExplanation: Valid numbers are those where each prefix has more 1s than 0s.\\n111: all its prefixes (1, 11, and 111) have more 1s than 0s.\\n110: all its prefixes (1, 11, and 110) have more 1s than 0s.\\n101: all its prefixes (1, 10, and 101) have more 1s than 0s.\\nSo, the output is \"111, 110, 101\".\\nUser Task:\\nYour task is to complete the function NBitBinary() which takes a single number as input n and returns the list of strings in decreasing order. You need not take any input or print anything.\\n\\nExpected Time Complexity: O(|2n|)\\nExpected Auxiliary Space: O(2n)\\n\\nConstraints:\\n1 <= n <= 15\\n'"
      ]
     },
     "execution_count": 1,
     "metadata": {},
     "output_type": "execute_result"
    }
   ],
   "source": [
    "'''\n",
    "Given a positive integer n. Your task is to generate a string list of all n-bit binary numbers where, for any prefix of the number, there are more or an equal number of 1's than 0's. The numbers should be sorted in decreasing order of magnitude.\n",
    "\n",
    "Example 1:\n",
    "\n",
    "Input:  \n",
    "n = 2\n",
    "Output: \n",
    "\"11, 10\"\n",
    "Explanation: Valid numbers are those where each prefix has more 1s than 0s:\n",
    "11: all its prefixes (1 and 11) have more 1s than 0s.\n",
    "10: all its prefixes (1 and 10) have more 1s than 0s.\n",
    "So, the output is \"11, 10\".\n",
    "Example 2:\n",
    "\n",
    "Input:  \n",
    "n = 3\n",
    "Output: \n",
    "\"111, 110, 101\"\n",
    "Explanation: Valid numbers are those where each prefix has more 1s than 0s.\n",
    "111: all its prefixes (1, 11, and 111) have more 1s than 0s.\n",
    "110: all its prefixes (1, 11, and 110) have more 1s than 0s.\n",
    "101: all its prefixes (1, 10, and 101) have more 1s than 0s.\n",
    "So, the output is \"111, 110, 101\".\n",
    "User Task:\n",
    "Your task is to complete the function NBitBinary() which takes a single number as input n and returns the list of strings in decreasing order. You need not take any input or print anything.\n",
    "\n",
    "Expected Time Complexity: O(|2n|)\n",
    "Expected Auxiliary Space: O(2n)\n",
    "\n",
    "Constraints:\n",
    "1 <= n <= 15\n",
    "'''"
   ]
  },
  {
   "cell_type": "code",
   "execution_count": 2,
   "id": "8d8b2861",
   "metadata": {},
   "outputs": [],
   "source": [
    "class Solution:\n",
    "    def find(self,n,ans,temp,zero,one):\n",
    "        if len(temp)==n:\n",
    "            ans.append(temp)\n",
    "            return\n",
    "        self.find(n,ans,temp+'1',zero,one+1)\n",
    "        if zero<one:\n",
    "            self.find(n,ans,temp+'0',zero+1,one)\n",
    "        \n",
    "    def NBitBinary(self, n):\n",
    "        ans=[]\n",
    "        temp=''\n",
    "        self.find(n,ans,temp,0,0)\n",
    "        return ans"
   ]
  },
  {
   "cell_type": "markdown",
   "id": "a3c94581",
   "metadata": {},
   "source": [
    "BruteForce Approach:\n",
    "Intuition:\n",
    "The first approach is to generate all possible n-bit binary strings while ensuring that the number of '0's is less than or equal to the number of '1's. This is achieved through a recursive backtracking algorithm.\n",
    "\n",
    "Implementation:\n",
    "Initialize:\n",
    "Start with an empty result container (e.g., list or vector) to store the generated binary strings.\n",
    "Initialize an empty temporary string to build the current binary string.\n",
    "Set counters for '0's (z) and '1's (o) to 0.\n",
    "Define a Recursive Helper Function:\n",
    "Create a recursive function that generates binary strings and explores different combinations.\n",
    "The function should have parameters for the result container, the temporary string, the desired length (n), and counters for '0's and '1's (z, o).\n",
    "Termination Condition:\n",
    "Check if the length of the temporary string is equal to the desired length (n).\n",
    "If true, add the current string to the result container if it is not already present, and return.\n",
    "Explore with '1':\n",
    "Append '1' to the temporary string.\n",
    "Recursively call the function with the updated temporary string and increased count of '1's (o).\n",
    "Backtrack by removing the last character from the temporary string.\n",
    "Explore with '0' (if allowed):\n",
    "Check if the count of '0's (z) is less than the count of '1's (o).\n",
    "If true, append '0' to the temporary string.\n",
    "Recursively call the function with the updated temporary string and increased count of '0's (z).\n",
    "Backtrack by removing the last character from the temporary string.\n",
    "Backtracking:\n",
    "In both cases (exploring with '1' and, if allowed, exploring with '0'), use backtracking by removing the last character from the temporary string.\n",
    "Avoid Duplicates:\n",
    "Before adding the current string to the result container, check if it is already present to avoid duplicates.\n",
    "Return:\n",
    "Once all valid combinations are explored, the recursion will naturally return to the previous levels."
   ]
  },
  {
   "cell_type": "code",
   "execution_count": 3,
   "id": "ba9fad2f",
   "metadata": {},
   "outputs": [],
   "source": [
    "class Solution:\n",
    "    # Recursive backtracking function to generate n-bit binary strings\n",
    "    # with the condition that the number of '0's is less than or equal to '1's\n",
    "    def ss(self, ans, temp, n, z, o):\n",
    "        # Termination condition: When the length of the temporary string is equal to n\n",
    "        if len(temp) == n:\n",
    "            # Check for duplicates before adding to the result\n",
    "            if temp not in ans:\n",
    "                ans.append(temp)  # Add the current string to the result\n",
    "            return\n",
    "\n",
    "        # Explore with '1': Append '1' to the temporary string\n",
    "        temp += '1'\n",
    "        # Recursively call the function with the updated temporary string and increased count of '1's (o)\n",
    "        self.ss(ans, temp, n, z, o + 1)\n",
    "        temp = temp[:-1]  # Backtrack by removing the last character\n",
    "\n",
    "        # Explore with '0' (if allowed): Check if the count of '0's (z) is less than '1's (o)\n",
    "        if z < o:\n",
    "            # Append '0' to the temporary string\n",
    "            temp += '0'\n",
    "            # Recursively call the function with the updated temporary string and increased count of '0's (z)\n",
    "            self.ss(ans, temp, n, z + 1, o)\n",
    "            temp = temp[:-1]  # Backtrack by removing the last character\n",
    "\n",
    "    # Function to generate n-bit binary strings\n",
    "    def NBitBinary(self, n):\n",
    "        ans = []\n",
    "        temp = \"\"\n",
    "        o, z = 0, 0\n",
    "        # Start the recursive backtracking algorithm\n",
    "        self.ss(ans, temp, n, z, o)\n",
    "        return ans  # Return the result\n"
   ]
  },
  {
   "cell_type": "markdown",
   "id": "a0a0075f",
   "metadata": {},
   "source": [
    "Complexity:\n",
    "Time Complexity: O(2^n) - In the worst case, the algorithm explores all possible combinations of '0's and '1's.\n",
    "\n",
    "Space Complexity: O(n), mainly due to the recursion depth (maximum stack size for function calls)."
   ]
  },
  {
   "cell_type": "markdown",
   "id": "073c9bc4",
   "metadata": {},
   "source": [
    "Expected Approach:\n",
    "Intuition:\n",
    "The core idea behind this solution lies in directly building binary strings that satisfy the constraint of more or equal 1's than 0's in prefixes. Since we are building the string directly, we will have choices at each step of choosing numbers so we will use the help of Recursion, Here's how we will achieve this:\n",
    "\n",
    "The approach keeps track of 'extraOnes'. An 'extra one' indicates an available 1 that we can use without violating the constraint.\n",
    "At each position in the binary string, we have two choices:\n",
    "Add '1': We can always add a '1', as it increases the difference between 1's and 0's, making it a valid choice. This increments the extraOnes count.\n",
    "Add '0': We can only add a '0' if we have an 'extra one' to compensate (i.e., extraOnes > 0). Using an 'extra one' ensures the prefix constraint is maintained. This decreases the extraOnes count.\n",
    "Implementation:\n",
    "The code uses a recursive helper function NBitBinaryUtil to perform the generation of binary strings:\n",
    "\n",
    "number: Current binary string being built.\n",
    "extraOnes: Count of 'extra' 1's available.\n",
    "remainingPlaces: Number of positions left to fill in the binary string.\n",
    "ans: Vector to store the valid binary numbers.\n",
    "Base Case:\n",
    "\n",
    "If remainingPlaces == 0, we've built a complete n-bit binary number. Add it to the ans vector.\n",
    "Recursive Cases:\n",
    "\n",
    "Add '1': Append '1' to the current string, increment extraOnes, and recurse with remainingPlaces reduced by 1.\n",
    "Add '0' (Conditional): Check if there is at least one extraOne. If so, append '0', decrement extraOnes, and recurse."
   ]
  },
  {
   "cell_type": "code",
   "execution_count": 4,
   "id": "6926c435",
   "metadata": {},
   "outputs": [],
   "source": [
    "class Solution:\n",
    "    def NBitBinaryUtil(self, number, extraOnes, remainingPlaces, ans):\n",
    "        # Base case: If all places have been filled, add the number to the answer list and return\n",
    "        if remainingPlaces == 0:\n",
    "            ans.append(number)\n",
    "            return\n",
    "        \n",
    "        # Recursive call to add a '1' to the current number and update the count of extra ones and remaining places\n",
    "        self.NBitBinaryUtil(number + \"1\", extraOnes + 1, remainingPlaces - 1, ans)\n",
    "        \n",
    "        # Check if there are any extra ones that can be used to add a '0'\n",
    "        if extraOnes > 0:\n",
    "            self.NBitBinaryUtil(number + \"0\", extraOnes - 1, remainingPlaces - 1, ans)\n",
    "    \n",
    "    def NBitBinary(self, n):\n",
    "        ans = []\n",
    "        s = \"\"\n",
    "        \n",
    "        # Call the utility function to recursively generate the N-bit binary numbers\n",
    "        self.NBitBinaryUtil(s, 0, n, ans)\n",
    "        # return ans\n",
    "        return ans\n"
   ]
  },
  {
   "cell_type": "markdown",
   "id": "9544f838",
   "metadata": {},
   "source": [
    "Complexity:\n",
    "Time Complexity: The code has a time complexity of O(2^n). In the worst case, it explores all possible combinations of n-bit binary numbers.\n",
    "\n",
    "Space Complexity: O(n), mainly due to the recursion depth (maximum stack size for function calls).\n",
    "\n"
   ]
  },
  {
   "cell_type": "code",
   "execution_count": null,
   "id": "9419b55e",
   "metadata": {},
   "outputs": [],
   "source": []
  }
 ],
 "metadata": {
  "kernelspec": {
   "display_name": "Python 3 (ipykernel)",
   "language": "python",
   "name": "python3"
  },
  "language_info": {
   "codemirror_mode": {
    "name": "ipython",
    "version": 3
   },
   "file_extension": ".py",
   "mimetype": "text/x-python",
   "name": "python",
   "nbconvert_exporter": "python",
   "pygments_lexer": "ipython3",
   "version": "3.11.4"
  }
 },
 "nbformat": 4,
 "nbformat_minor": 5
}
