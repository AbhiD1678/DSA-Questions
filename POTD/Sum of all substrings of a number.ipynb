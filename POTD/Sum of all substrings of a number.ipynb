{
 "cells": [
  {
   "cell_type": "raw",
   "id": "9baff0a4-fa8a-43b3-8306-dd3a9e884464",
   "metadata": {},
   "source": [
    "Given an integer s represented as a string, the task is to get the sum of all possible sub-strings of this string.\n",
    "As the answer will be large, return answer modulo 109+7. \n",
    "\n",
    "Note: The number may have leading zeros.\n",
    "\n",
    "Example 1:\n",
    "\n",
    "Input:\n",
    "s = \"1234\"\n",
    "Output: \n",
    "1670\n",
    "Explanation: \n",
    "Sum = 1 + 2 + 3 + 4 + 12 + 23 + 34 + 123 + 234 + 1234 = 1670\n",
    "Example 2:\n",
    "\n",
    "Input:\n",
    "s = \"421\"\n",
    "Output: \n",
    "491\n",
    "Explanation: \n",
    "Sum = 4 + 2 + 1 + 42 + 21 + 421 = 491\n",
    "Your Task:\n",
    "You only need to complete the function sumSubstrings that takes s as an argument and returns the answer modulo 109+7.\n",
    "\n",
    "Expected Time Complexity: O(|s|).\n",
    "Expected Auxiliary Space: O(|s|).\n",
    "\n",
    "Constraints:\n",
    "1 <= |s| <= 105\n",
    "\n"
   ]
  },
  {
   "cell_type": "code",
   "execution_count": 1,
   "id": "251e181b-2591-482f-a162-6dee1d7241c9",
   "metadata": {},
   "outputs": [],
   "source": [
    "class Solution:\n",
    "    #Function to find sum of all possible substrings of the given string.\n",
    "    def sumSubstrings(self,s):\n",
    "        n = len(s)\n",
    "        M = 10**9+7\n",
    "        # dp[i] means the sum of substring that end at i position\n",
    "        dp = [0]*(n+1)\n",
    "        for i in range(n):\n",
    "            dp[i+1] = (dp[i]*10+(i+1)*(ord(s[i])-ord('0')))%M\n",
    "        return sum(dp)%M\n",
    "        # code here\n",
    "\n"
   ]
  },
  {
   "cell_type": "code",
   "execution_count": null,
   "id": "bbaef741-6e17-45b2-9f99-45e045413682",
   "metadata": {},
   "outputs": [],
   "source": [
    "#Back-end complete function Template for Python 3\n",
    "\n",
    "class Solution:\n",
    "    #Function to find sum of all possible substrings of the given string.\n",
    "    def sumSubstrings(self,s):\n",
    "        \n",
    "        n = len(s) \n",
    "        digits = []  \n",
    "        \n",
    "        #converting string into list of digits.\n",
    "        for char in s:\n",
    "            digits.append(int(char))\n",
    "    \n",
    "        #dp[] array to store sum till ith index.\n",
    "        dp = [0 for i in range(n)] \n",
    "    \n",
    "        dp[0] = digits[0] \n",
    "        res = dp[0] \n",
    "        \n",
    "        #iterating over all the digits.\n",
    "        for i in range(1,n):\n",
    "            \n",
    "            #storing [current digit*(i+1)+dp[i-1]*10] at dp[i].\n",
    "            dp[i] = ((i+1)*digits[i]+(dp[i-1]*10))%1000000007 \n",
    "            \n",
    "            #res stores the sum of all values in dp[].\n",
    "            res+=dp[i] \n",
    "            res%=1000000007;\n",
    "    \n",
    "        #returning the result.\n",
    "        return res\n",
    "    \n"
   ]
  }
 ],
 "metadata": {
  "kernelspec": {
   "display_name": "Python 3 (ipykernel)",
   "language": "python",
   "name": "python3"
  },
  "language_info": {
   "codemirror_mode": {
    "name": "ipython",
    "version": 3
   },
   "file_extension": ".py",
   "mimetype": "text/x-python",
   "name": "python",
   "nbconvert_exporter": "python",
   "pygments_lexer": "ipython3",
   "version": "3.11.7"
  }
 },
 "nbformat": 4,
 "nbformat_minor": 5
}
