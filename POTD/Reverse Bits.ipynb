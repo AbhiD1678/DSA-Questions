{
 "cells": [
  {
   "cell_type": "raw",
   "id": "68f07f98-bca9-4af2-a35a-b19ce9b4db29",
   "metadata": {},
   "source": [
    "Given a number x, reverse its binary form and return the answer in decimal.\n",
    "\n",
    "Example 1:\n",
    "\n",
    "Input:\n",
    "x = 1\n",
    "Output:\n",
    "2147483648 \n",
    "Explanation:\n",
    "Binary of 1 in 32 bits representation-\n",
    "00000000000000000000000000000001\n",
    "Reversing the binary form we get, \n",
    "10000000000000000000000000000000,\n",
    "whose decimal value is 2147483648.\n",
    "Example 2:\n",
    "\n",
    "Input:\n",
    "x = 5\n",
    "Output:\n",
    "2684354560 \n",
    "Explanation:\n",
    "Binary of 5 in 32 bits representation-\n",
    "00000000000000000000000000000101\n",
    "Reversing the binary form we get, \n",
    "10100000000000000000000000000000,\n",
    "whose decimal value is 2684354560.\n",
    "Your Task:\n",
    "You don't need to read input or print anything. Your task is to complete the function reversedBits() which takes an Integer x as input and returns the reverse binary form of x in decimal form.\n",
    "\n",
    "Expected Time Complexity: O(log (x))\n",
    "Expected Auxiliary Space: O(1)"
   ]
  },
  {
   "cell_type": "code",
   "execution_count": 1,
   "id": "0e89a5fb-46d1-4b62-9f34-37a5ae0a6e59",
   "metadata": {},
   "outputs": [],
   "source": [
    "class Solution:\n",
    "    def reversedBits(self, x):\n",
    "        # code here \n",
    "        s = bin(x)[2:]\n",
    "        s = s[::-1]\n",
    "        \n",
    "        while len(s) < 32:\n",
    "            s += '0'\n",
    "        \n",
    "        return int(s, 2)    \n",
    "\n",
    "\n"
   ]
  },
  {
   "cell_type": "code",
   "execution_count": null,
   "id": "a6dc70d3-a6b5-4af1-bb4c-39d976256ec1",
   "metadata": {},
   "outputs": [],
   "source": []
  }
 ],
 "metadata": {
  "kernelspec": {
   "display_name": "Python 3 (ipykernel)",
   "language": "python",
   "name": "python3"
  },
  "language_info": {
   "codemirror_mode": {
    "name": "ipython",
    "version": 3
   },
   "file_extension": ".py",
   "mimetype": "text/x-python",
   "name": "python",
   "nbconvert_exporter": "python",
   "pygments_lexer": "ipython3",
   "version": "3.11.7"
  }
 },
 "nbformat": 4,
 "nbformat_minor": 5
}
