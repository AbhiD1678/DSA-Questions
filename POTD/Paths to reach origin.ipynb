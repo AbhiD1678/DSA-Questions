{
 "cells": [
  {
   "cell_type": "raw",
   "id": "c593fc89-a86d-45f7-ab59-d7d41f888087",
   "metadata": {},
   "source": [
    "You are standing on a point (x, y) and you want to go to the origin (0, 0) by taking steps either left or down i.e. from each point you are allowed to move either in (x-1, y) or (x, y-1). Find the number of paths from point to origin.\n",
    "\n",
    "Example 1:\n",
    "\n",
    "Input:\n",
    "x = 3, y = 0 \n",
    "Output: \n",
    "1\n",
    "Explanation: Path used was -  (3,0)  --> ( 2,0) --> (1,0) --> (0,0).We can see that there is no other path than this, so we return 1.\n",
    "Example 2:\n",
    "\n",
    "Input:\n",
    "x = 3, y = 6\n",
    "Output: \n",
    "84 \n",
    "Explanation:\n",
    "There are total 84 possible paths.\n",
    "Your Task:\n",
    "Since this is a function problem. You don't need to take any input, as it is already accomplished by the driver code. You just need to complete the function ways() that takes integer x and y as parameters and returns the total number of paths from point(x,y) to the origin(0,0) % 1000000007.\n",
    "\n",
    "Expected Time Complexity: O(x*y).\n",
    "Expected Auxiliary Space: O(x*y).\n",
    "\n",
    "Constraints:\n",
    "0 ≤ x, y ≤ 500"
   ]
  },
  {
   "cell_type": "code",
   "execution_count": 1,
   "id": "0a176047-b52f-4d13-90b1-4a2eda517852",
   "metadata": {},
   "outputs": [],
   "source": [
    "\n",
    "class Solution:\n",
    "    mod=10**9+7\n",
    "    def ways(self, n,m):\n",
    "        #write you code here\n",
    "        dp=[[None]*(m+1) for _ in range(n+1)]\n",
    "        for x in range(n+1):\n",
    "            for y in range(m+1):\n",
    "                if x==0 or y==0:\n",
    "                    dp[x][y]=1\n",
    "                else:\n",
    "                    dp[x][y]=(dp[x-1][y]+dp[x][y-1])%self.mod\n",
    "        return dp[n][m]\n"
   ]
  },
  {
   "cell_type": "code",
   "execution_count": null,
   "id": "62741d6c-9049-4786-a4b4-fee77724cd84",
   "metadata": {},
   "outputs": [],
   "source": []
  }
 ],
 "metadata": {
  "kernelspec": {
   "display_name": "Python 3 (ipykernel)",
   "language": "python",
   "name": "python3"
  },
  "language_info": {
   "codemirror_mode": {
    "name": "ipython",
    "version": 3
   },
   "file_extension": ".py",
   "mimetype": "text/x-python",
   "name": "python",
   "nbconvert_exporter": "python",
   "pygments_lexer": "ipython3",
   "version": "3.11.7"
  }
 },
 "nbformat": 4,
 "nbformat_minor": 5
}
