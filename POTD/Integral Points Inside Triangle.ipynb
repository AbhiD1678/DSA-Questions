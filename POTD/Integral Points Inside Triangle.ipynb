{
 "cells": [
  {
   "cell_type": "code",
   "execution_count": 1,
   "id": "7ca067a4-95fa-4cef-af32-e6bd17247fca",
   "metadata": {},
   "outputs": [
    {
     "data": {
      "text/plain": [
       "'\\nGiven three non-collinear points whose co-ordinates are p(p1, p2), q(q1, q2) and r(r1, r2) in the X-Y plane. Return the number of integral / lattice points strictly inside the triangle formed by these points.\\nNote: - A point in the X-Y plane is said to be an integral / lattice point if both its coordinates are integral.\\n\\nExamples\\n\\nInput: p = (0,0), q = (0,5), r = (5,0)\\nOutput: 6\\nExplanation: \\n\\nAs shown in figure, points (1,1) (1,2) (1,3) (2,1) (2,2) and (3,1) are the integral points inside the triangle. So total 6 are there.\\nInput: p = (62,-3), q = (5,-45), r = (-19,-23)\\nOutput: 1129\\nExplanation: There are 1129 integral points in the triangle formed by p, q and r.\\nExpected Time Complexity: O(Log2109)\\nExpected Auxillary Space: O(1)\\n\\nConstraints:\\n-109 ≤ x-coordinate, y-coordinate ≤ 109\\n'"
      ]
     },
     "execution_count": 1,
     "metadata": {},
     "output_type": "execute_result"
    }
   ],
   "source": [
    "'''\n",
    "Given three non-collinear points whose co-ordinates are p(p1, p2), q(q1, q2) and r(r1, r2) in the X-Y plane. Return the number of integral / lattice points strictly inside the triangle formed by these points.\n",
    "Note: - A point in the X-Y plane is said to be an integral / lattice point if both its coordinates are integral.\n",
    "\n",
    "Examples\n",
    "\n",
    "Input: p = (0,0), q = (0,5), r = (5,0)\n",
    "Output: 6\n",
    "Explanation: \n",
    "\n",
    "As shown in figure, points (1,1) (1,2) (1,3) (2,1) (2,2) and (3,1) are the integral points inside the triangle. So total 6 are there.\n",
    "Input: p = (62,-3), q = (5,-45), r = (-19,-23)\n",
    "Output: 1129\n",
    "Explanation: There are 1129 integral points in the triangle formed by p, q and r.\n",
    "Expected Time Complexity: O(Log2109)\n",
    "Expected Auxillary Space: O(1)\n",
    "\n",
    "Constraints:\n",
    "-109 ≤ x-coordinate, y-coordinate ≤ 109\n",
    "'''"
   ]
  },
  {
   "cell_type": "code",
   "execution_count": 2,
   "id": "790d6b40-49f2-4aa6-b8e7-bc4f01311a9a",
   "metadata": {},
   "outputs": [],
   "source": [
    "from math import gcd\n",
    "\n",
    "class Solution:\n",
    "    def gcd(self, a, b):\n",
    "        if b==0:\n",
    "            return a\n",
    "        else:\n",
    "            return self.gcd(b, a%b)\n",
    "            \n",
    "    def linePoint(self, x1, y1, x2, y2):\n",
    "        if x1==x2:\n",
    "            return abs(y2-y1) -1\n",
    "        if y1==y2:\n",
    "            return abs(x2-x1)-1\n",
    "        return self.gcd(abs(x1-x2), abs(y1-y2)) - 1\n",
    "        \n",
    "        \n",
    "    def InternalCount(self, p, q, r):\n",
    "        #code here\n",
    "        x1, y1 = p\n",
    "        x2, y2 = q\n",
    "        x3, y3 = r\n",
    "\n",
    "        points = self.linePoint(x1, y1, x2, y2) + self.linePoint(x2, y2, x3, y3) + self.linePoint(x3, y3, x1, y1) + 3\n",
    "        area = abs(x1 * (y2 - y3) + x2 * (y3 - y1) + x3 * (y1 - y2))\n",
    "        \n",
    "        return (area - points + 2) // 2\n"
   ]
  },
  {
   "cell_type": "code",
   "execution_count": null,
   "id": "c0149fd0-9012-4468-998b-64576dd6598d",
   "metadata": {},
   "outputs": [],
   "source": []
  }
 ],
 "metadata": {
  "kernelspec": {
   "display_name": "Python 3 (ipykernel)",
   "language": "python",
   "name": "python3"
  },
  "language_info": {
   "codemirror_mode": {
    "name": "ipython",
    "version": 3
   },
   "file_extension": ".py",
   "mimetype": "text/x-python",
   "name": "python",
   "nbconvert_exporter": "python",
   "pygments_lexer": "ipython3",
   "version": "3.12.0"
  }
 },
 "nbformat": 4,
 "nbformat_minor": 5
}
