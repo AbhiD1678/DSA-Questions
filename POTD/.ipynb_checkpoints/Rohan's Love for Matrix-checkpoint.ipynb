{
 "cells": [
  {
   "cell_type": "raw",
   "id": "32e3c6ec-a1a2-44f9-a4c0-2fc57082046a",
   "metadata": {},
   "source": [
    "Rohan has a special love for the matrices especially for the first element of the matrix. Being good at Mathematics, he also loves to solve the different problem on the matrices. So one day he started to multiply the matrix with the original matrix.  The elements of the original matrix a are given by [a00=1 , a01=1, a10=1, a11=0].\n",
    "Given the power of the matrix, n calculate the an and return the a10 element mod 1000000007.\n",
    "\n",
    "Example 1:\n",
    "\n",
    "Input: \n",
    "n = 3\n",
    "Output: \n",
    "2 \n",
    "Explanation: Take the cube of the original matrix \n",
    "i.e a3 and the (a10)th element is 2.\n",
    "Example 2:\n",
    "\n",
    "Input: \n",
    "n = 4\n",
    "Output: \n",
    "3\n",
    "Explanation: Take the cube of the original matrix \n",
    "i.e a4 and the (a10)th element is 3.\n",
    "Your Task:  \n",
    "You dont need to read input or print anything. Complete the function firstElement() which takes n as input parameter and returns the a10 element mod 1000000007 of an.\n",
    "\n",
    "Expected Time Complexity: O(n)\n",
    "Expected Auxiliary Space: O(1)\n",
    "\n",
    "Constraints:\n",
    "1<= n <=106"
   ]
  },
  {
   "cell_type": "code",
   "execution_count": 1,
   "id": "aa10d553-03b9-488b-b47a-7ae443ece67b",
   "metadata": {},
   "outputs": [],
   "source": [
    "#User function Template for python3\n",
    "import numpy as np\n",
    "class Solution:\n",
    "    def firstElement (self, n):\n",
    "        # code here \n",
    "\n",
    "        a,b=1,0\n",
    "        while n:\n",
    "            b,a=a,(a+b)%1000000007\n",
    "            n-=1\n",
    "        return b\n",
    "\n"
   ]
  },
  {
   "cell_type": "code",
   "execution_count": null,
   "id": "4566038c-f8d3-4f21-8a97-6eb0a8121473",
   "metadata": {},
   "outputs": [],
   "source": []
  }
 ],
 "metadata": {
  "kernelspec": {
   "display_name": "Python 3 (ipykernel)",
   "language": "python",
   "name": "python3"
  },
  "language_info": {
   "codemirror_mode": {
    "name": "ipython",
    "version": 3
   },
   "file_extension": ".py",
   "mimetype": "text/x-python",
   "name": "python",
   "nbconvert_exporter": "python",
   "pygments_lexer": "ipython3",
   "version": "3.11.7"
  }
 },
 "nbformat": 4,
 "nbformat_minor": 5
}
