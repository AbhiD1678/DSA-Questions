{
 "cells": [
  {
   "cell_type": "raw",
   "id": "c3d4c275-60df-4c77-995f-c9bb4f486fec",
   "metadata": {},
   "source": [
    "Given a 2D binary matrix(1-based indexed) a of dimensions nxm , determine the row that contains the minimum number of 1's.\n",
    "Note: The matrix contains only 1's and 0's. Also, if two or more rows contain the minimum number of 1's, the answer is the lowest of those indices.\n",
    "\n",
    "Example 1:\n",
    "\n",
    "Input:\n",
    "n = 4,m = 4\n",
    "a = [[1, 1, 1, 1],\n",
    "     [1, 1, 0, 0], \n",
    "     [0, 0, 1, 1],\n",
    "     [1, 1, 1, 1]]\n",
    "Output:\n",
    "2\n",
    "Explanation:\n",
    "Rows 2 and 3 contain the minimum number \n",
    "of 1's(2 each).Since,row 2 is less than row 3.\n",
    "Thus, the answer is 2.\n",
    "Example 2:\n",
    "\n",
    "Input:\n",
    "n = 3,m = 3\n",
    "a = [[0, 0, 0],\n",
    "     [0, 0, 0],\n",
    "     [0, 0, 0]]\n",
    "Output:\n",
    "1\n",
    "Explanation:\n",
    "All the rows contain the same number \n",
    "of 1's(0 each).Among them, index 1 \n",
    "is the smallest, so the answer is 1.\n",
    "Your Task:\n",
    "You don't need to read input or print anything. Your task is to complete the function minRow() which takes the two integers n, m as well as the 2D binary matrix a as input parameters and returns the minimum index of the row which contains the least number of 1's.\n",
    "\n",
    "Expected Time Complexity:O(n*m)\n",
    "Expected Auxillary Space:O(1)\n",
    "\n",
    "Constraints:\n",
    "1 <= n,m <= 1000\n",
    "\n",
    "0 <= a[i][j] <= 1\n",
    "\n"
   ]
  },
  {
   "cell_type": "code",
   "execution_count": 1,
   "id": "12ceb951-67d4-4e30-a756-d04c99de8b9a",
   "metadata": {},
   "outputs": [],
   "source": [
    "class Solution:\n",
    "    def minRow(self,n,m,a):\n",
    "        #code here\n",
    "        count = [0] * n\n",
    "        for i in range(n):\n",
    "            for j in range(m):\n",
    "                if a[i][j]==1:\n",
    "                    count[i]+=1\n",
    "        return(count.index(min(count)))+1\n",
    "\n"
   ]
  },
  {
   "cell_type": "code",
   "execution_count": 2,
   "id": "ff7a42bb-3268-4e97-95d7-b1afcc9387fc",
   "metadata": {},
   "outputs": [],
   "source": [
    "#Back-end complete function Template for Python 3\n",
    "\n",
    "class Solution:\n",
    "    #Function to find the row with minimum number of 1s.\n",
    "    def minRow(self,n,m,a):\n",
    "        mn,mni=1000000,-1\n",
    "        \n",
    "        #iterating over all the rows.\n",
    "        for i in range(n):\n",
    "            c=0\n",
    "            \n",
    "            #counting number of 1s in the current row.\n",
    "            for j in range(m):\n",
    "                if a[i][j]==1:\n",
    "                    c+=1\n",
    "            \n",
    "            #checking if the current row has minimum number of 1s.\n",
    "            if mn>c:\n",
    "                mn=c\n",
    "                mni=i+1\n",
    "        \n",
    "        #returning the row index with minimum number of 1s.\n",
    "        return mni\n"
   ]
  },
  {
   "cell_type": "code",
   "execution_count": null,
   "id": "c61644cf-1445-46ee-90b2-0c6bcc49d304",
   "metadata": {},
   "outputs": [],
   "source": []
  }
 ],
 "metadata": {
  "kernelspec": {
   "display_name": "Python 3 (ipykernel)",
   "language": "python",
   "name": "python3"
  },
  "language_info": {
   "codemirror_mode": {
    "name": "ipython",
    "version": 3
   },
   "file_extension": ".py",
   "mimetype": "text/x-python",
   "name": "python",
   "nbconvert_exporter": "python",
   "pygments_lexer": "ipython3",
   "version": "3.11.7"
  }
 },
 "nbformat": 4,
 "nbformat_minor": 5
}
