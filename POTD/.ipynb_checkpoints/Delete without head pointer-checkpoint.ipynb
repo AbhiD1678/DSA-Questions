{
 "cells": [
  {
   "cell_type": "code",
   "execution_count": 1,
   "id": "3e5e2441",
   "metadata": {},
   "outputs": [
    {
     "data": {
      "text/plain": [
       "\"\\nYou are given a node del_node of a Singly Linked List where you have to delete a value of the given node from the linked list but you are not given the head of the list.\\n\\nBy deleting the node value, we do not mean removing it from memory. We mean:\\n\\nThe value of the given node should not exist in the linked list.\\nThe number of nodes in the linked list should decrease by one.\\nAll the values before & after the del_node node should be in the same order.\\nNote:\\n\\nMultiple nodes can have the same values as the del_node, but you must only remove the node whose pointer del_node is given to you.\\nIt is guaranteed that there exists a node with a value equal to the del_node value and it will not be the last node of the linked list.\\nExample 1:\\n\\nInput:\\nLinked List = 1 -> 2\\ndel_node = 1\\nOutput: \\n2\\nExplanation: \\nAfter deleting 1 from the linked list, \\nwe have remaining nodes as 2.\\nExample 2:\\n\\nInput:\\nLinked List = 10 -> 20 -> 4 -> 30\\ndel_node = 20\\nOutput: \\n10 4 30\\nExplanation: \\nAfter deleting 20 from the linked list, \\nwe have remaining nodes as 10, 4, 30.\\nYour Task:\\nYou don't need to read or print anything. You only need to complete the function deleteNode() which takes a reference of the deleting node value & your task is to delete the given node value.\\n\\nExpected Time Complexity: O(1).\\nExpected Auxilliary Space: O(1).\\n\\nConstraints:\\n2 <= n <= 103  \\n1 <= elements of the linked list <= 109\\n\""
      ]
     },
     "execution_count": 1,
     "metadata": {},
     "output_type": "execute_result"
    }
   ],
   "source": [
    "'''\n",
    "You are given a node del_node of a Singly Linked List where you have to delete a value of the given node from the linked list but you are not given the head of the list.\n",
    "\n",
    "By deleting the node value, we do not mean removing it from memory. We mean:\n",
    "\n",
    "The value of the given node should not exist in the linked list.\n",
    "The number of nodes in the linked list should decrease by one.\n",
    "All the values before & after the del_node node should be in the same order.\n",
    "Note:\n",
    "\n",
    "Multiple nodes can have the same values as the del_node, but you must only remove the node whose pointer del_node is given to you.\n",
    "It is guaranteed that there exists a node with a value equal to the del_node value and it will not be the last node of the linked list.\n",
    "Example 1:\n",
    "\n",
    "Input:\n",
    "Linked List = 1 -> 2\n",
    "del_node = 1\n",
    "Output: \n",
    "2\n",
    "Explanation: \n",
    "After deleting 1 from the linked list, \n",
    "we have remaining nodes as 2.\n",
    "Example 2:\n",
    "\n",
    "Input:\n",
    "Linked List = 10 -> 20 -> 4 -> 30\n",
    "del_node = 20\n",
    "Output: \n",
    "10 4 30\n",
    "Explanation: \n",
    "After deleting 20 from the linked list, \n",
    "we have remaining nodes as 10, 4, 30.\n",
    "Your Task:\n",
    "You don't need to read or print anything. You only need to complete the function deleteNode() which takes a reference of the deleting node value & your task is to delete the given node value.\n",
    "\n",
    "Expected Time Complexity: O(1).\n",
    "Expected Auxilliary Space: O(1).\n",
    "\n",
    "Constraints:\n",
    "2 <= n <= 103  \n",
    "1 <= elements of the linked list <= 109\n",
    "'''"
   ]
  },
  {
   "cell_type": "code",
   "execution_count": 2,
   "id": "55d435e4",
   "metadata": {},
   "outputs": [],
   "source": [
    "class Node:\n",
    "    def __init__(self, data): \n",
    "        self.data = data\n",
    "        self.next = None\n",
    " \n",
    "class Solution:\n",
    "    def deleteNode(self,del_node):\n",
    "        if del_node.next==None:\n",
    "            return \n",
    "        \n",
    "        else:\n",
    "            prev=del_node\n",
    "            curr=del_node.next\n",
    "            n=del_node.next.next\n",
    "            prev.data=curr.data\n",
    "            prev.next=n\n",
    "            del curr"
   ]
  },
  {
   "cell_type": "code",
   "execution_count": 3,
   "id": "ff13318f",
   "metadata": {},
   "outputs": [
    {
     "data": {
      "text/plain": [
       "'\\nComplexity\\nTime Complexity: O(1), as no traversal is required.\\nSpace Complexity: O(1), no extra space is used.\\n'"
      ]
     },
     "execution_count": 3,
     "metadata": {},
     "output_type": "execute_result"
    }
   ],
   "source": [
    "'''\n",
    "Expected Approach\n",
    "Intuition\n",
    "The main idea is that since we can't access the previous node so we can't modify its next to point to next of the node that is to be deleted, so what we try to do is to copy the data of the next node i.e. del->next to the node that is to be deleted and also change its next pointer to point to its next's next i.e. del->next = del->next->next.\n",
    "\n",
    "Implementation\n",
    "Create a node temp to facilitate the deletion.\n",
    "Storing the node next to given node in a pointer 'temp' i.e. temp = del->next. \n",
    "Copying the data of pointer in the given current node i.e. del->data = temp->data.\n",
    "Then we can move one step forward. \n",
    "Storing the next node to pointer in link part of current node i.e. del->next = temp->next\n",
    "Now we can easily delete the current node by conventional deletion methods. \n",
    "'''\n",
    "#Back-end complete function Template for Python 3\n",
    "'''\n",
    "\t\t# Node Class\n",
    "\t\tclass Node:\n",
    "\t\t    def __init__(self, data):   # data -> value stored in node\n",
    "\t\t        self.data = data\n",
    "\t\t        self.next = None\n",
    "\t\n",
    "\n",
    "'''\n",
    "class Solution:\n",
    "    #Function to delete a node without any reference to head pointer.\n",
    "    def deleteNode(self,del_node):\n",
    "        \n",
    "        #storing the node next to given node in a pointer.\n",
    "        temp=del_node.next\n",
    "        \n",
    "        #copying the data of pointer in the given current node.\n",
    "        del_node.data=temp.data\n",
    "        \n",
    "        #storing the next node to pointer in link part of current node.\n",
    "        del_node.next=temp.next\n",
    "        \n",
    "        #freeing memory.\n",
    "        del temp\n",
    "        \n",
    "        \n",
    "'''\n",
    "Complexity\n",
    "Time Complexity: O(1), as no traversal is required.\n",
    "Space Complexity: O(1), no extra space is used.\n",
    "'''"
   ]
  },
  {
   "cell_type": "code",
   "execution_count": null,
   "id": "d5f9efe3",
   "metadata": {},
   "outputs": [],
   "source": []
  }
 ],
 "metadata": {
  "kernelspec": {
   "display_name": "Python 3 (ipykernel)",
   "language": "python",
   "name": "python3"
  },
  "language_info": {
   "codemirror_mode": {
    "name": "ipython",
    "version": 3
   },
   "file_extension": ".py",
   "mimetype": "text/x-python",
   "name": "python",
   "nbconvert_exporter": "python",
   "pygments_lexer": "ipython3",
   "version": "3.11.4"
  }
 },
 "nbformat": 4,
 "nbformat_minor": 5
}
