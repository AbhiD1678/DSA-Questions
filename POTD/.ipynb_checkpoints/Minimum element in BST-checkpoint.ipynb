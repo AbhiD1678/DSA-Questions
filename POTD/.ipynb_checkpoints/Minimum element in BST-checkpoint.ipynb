{
 "cells": [
  {
   "cell_type": "raw",
   "id": "c6ffdc07-6359-40d7-95f1-9f26deb5f057",
   "metadata": {},
   "source": [
    "Given the root of a Binary Search Tree. The task is to find the minimum valued element in this given BST.\n",
    "\n",
    "Example 1:\n",
    "\n",
    "Input:\n",
    "           5\n",
    "         /    \\\n",
    "        4      6\n",
    "       /        \\\n",
    "      3          7\n",
    "     /\n",
    "    1\n",
    "Output: 1\n",
    "Example 2:\n",
    "\n",
    "Input:\n",
    "             9\n",
    "              \\\n",
    "               10\n",
    "                \\\n",
    "                 11\n",
    "Output: 9\n",
    "Your Task:\n",
    "The task is to complete the function minValue() which takes root as the argument and returns the minimum element of BST. If the tree is empty, there is no minimum element, so return -1 in that case.\n",
    "\n",
    "Expected Time Complexity: O(Height of the BST)\n",
    "Expected Auxiliary Space: O(1).\n",
    "\n",
    "Constraints:\n",
    "0 <= n <= 104\n",
    "\n"
   ]
  },
  {
   "cell_type": "code",
   "execution_count": 1,
   "id": "574d0b1c-239f-4d92-be44-abeb9283283b",
   "metadata": {},
   "outputs": [],
   "source": [
    "class Solution:\n",
    "    #Function to find the minimum element in the given BST.\n",
    "    def minValue(self, root):\n",
    "        while(root.left):\n",
    "            root = root.left\n",
    "        return root.data\n",
    "        ##Your code here"
   ]
  },
  {
   "cell_type": "code",
   "execution_count": null,
   "id": "92cd46ba-386e-4e59-a210-aa37f7167d4c",
   "metadata": {},
   "outputs": [],
   "source": []
  }
 ],
 "metadata": {
  "kernelspec": {
   "display_name": "Python 3 (ipykernel)",
   "language": "python",
   "name": "python3"
  },
  "language_info": {
   "codemirror_mode": {
    "name": "ipython",
    "version": 3
   },
   "file_extension": ".py",
   "mimetype": "text/x-python",
   "name": "python",
   "nbconvert_exporter": "python",
   "pygments_lexer": "ipython3",
   "version": "3.11.7"
  }
 },
 "nbformat": 4,
 "nbformat_minor": 5
}
