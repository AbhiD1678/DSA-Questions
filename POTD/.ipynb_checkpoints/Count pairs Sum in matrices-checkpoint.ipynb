{
 "cells": [
  {
   "cell_type": "code",
   "execution_count": 1,
   "id": "5143bfdd",
   "metadata": {
    "scrolled": true
   },
   "outputs": [
    {
     "data": {
      "text/plain": [
       "\"\\nGiven two sorted matrices mat1 and mat2 of size n x n of elements. Each matrix contains numbers arranged in strictly ascending order, with each row sorted from left to right, and the last element of a row being smaller than the first element of the next row. You're given a target value, x, your task is to find and count all pairs {a, b} such that a is from mat1 and b is from mat2 where sum of a and b is equal to x.\\n\\nExample 1:\\n\\nInput: \\nn = 3, x = 21\\nmat1 = {{1, 5, 6},\\n        {8, 10, 11},\\n        {15, 16, 18}}\\nmat2 = {{2, 4, 7},\\n        {9, 10, 12},\\n        {13, 16, 20}}\\nOUTPUT: 4\\nExplanation: The pairs whose sum is found to be 21 are (1, 20), (5, 16), (8, 13), (11, 10).\\nExample 2:\\n\\nInput:\\nn = 2, x = 10\\nmat1 = {{1, 2},\\n        {3, 4}}\\nmat2 = {{4, 5},\\n        {6, 7}}\\nOutput: 2\\nExplanation: The pairs whose sum found to be 10 are (4, 6), (3, 7).\\nUser Task:\\nYour task is to complete the function countPairs() which takes 4 arguments mat1, mat2, n, x, and returns the count of pairs whose sum equals to x. You don't need to take any input or print anything.\\n\\nExpected Time Complexity: O(n2).\\nExpected Auxiliary Space: O(1).\\n\\nConstraints:\\n1 ≤ mat1[i][j] , mat2[i][j] ≤ 105\\n1 ≤ n ≤ 100\\n1 ≤ x ≤ 105\\n\\n\\n\""
      ]
     },
     "execution_count": 1,
     "metadata": {},
     "output_type": "execute_result"
    }
   ],
   "source": [
    "'''\n",
    "Given two sorted matrices mat1 and mat2 of size n x n of elements. Each matrix contains numbers arranged in strictly ascending order, with each row sorted from left to right, and the last element of a row being smaller than the first element of the next row. You're given a target value, x, your task is to find and count all pairs {a, b} such that a is from mat1 and b is from mat2 where sum of a and b is equal to x.\n",
    "\n",
    "Example 1:\n",
    "\n",
    "Input: \n",
    "n = 3, x = 21\n",
    "mat1 = {{1, 5, 6},\n",
    "        {8, 10, 11},\n",
    "        {15, 16, 18}}\n",
    "mat2 = {{2, 4, 7},\n",
    "        {9, 10, 12},\n",
    "        {13, 16, 20}}\n",
    "OUTPUT: 4\n",
    "Explanation: The pairs whose sum is found to be 21 are (1, 20), (5, 16), (8, 13), (11, 10).\n",
    "Example 2:\n",
    "\n",
    "Input:\n",
    "n = 2, x = 10\n",
    "mat1 = {{1, 2},\n",
    "        {3, 4}}\n",
    "mat2 = {{4, 5},\n",
    "        {6, 7}}\n",
    "Output: 2\n",
    "Explanation: The pairs whose sum found to be 10 are (4, 6), (3, 7).\n",
    "User Task:\n",
    "Your task is to complete the function countPairs() which takes 4 arguments mat1, mat2, n, x, and returns the count of pairs whose sum equals to x. You don't need to take any input or print anything.\n",
    "\n",
    "Expected Time Complexity: O(n2).\n",
    "Expected Auxiliary Space: O(1).\n",
    "\n",
    "Constraints:\n",
    "1 ≤ mat1[i][j] , mat2[i][j] ≤ 105\n",
    "1 ≤ n ≤ 100\n",
    "1 ≤ x ≤ 105\n",
    "\n",
    "\n",
    "'''"
   ]
  },
  {
   "cell_type": "code",
   "execution_count": 8,
   "id": "b969f9e1",
   "metadata": {},
   "outputs": [
    {
     "ename": "TabError",
     "evalue": "inconsistent use of tabs and spaces in indentation (2490614694.py, line 4)",
     "output_type": "error",
     "traceback": [
      "\u001b[1;36m  Cell \u001b[1;32mIn[8], line 4\u001b[1;36m\u001b[0m\n\u001b[1;33m    c=0\u001b[0m\n\u001b[1;37m    ^\u001b[0m\n\u001b[1;31mTabError\u001b[0m\u001b[1;31m:\u001b[0m inconsistent use of tabs and spaces in indentation\n"
     ]
    }
   ],
   "source": [
    "class Solution:\n",
    "\tdef countPairs(self, mat1, mat2, n, x):\n",
    "\t\t# code here\n",
    "        c=0\n",
    "        i=0\n",
    "        j=0\n",
    "        p=n-1\n",
    "        q=n-1\n",
    "\t    while i<=n-1 and p>=0:\n",
    "\t        if mat1[i][j]+mat2[p][q]==x:\n",
    "\t            c+=1\n",
    "\t            j+=1\n",
    "\t            if j>n-1:\n",
    "\t                i+=1\n",
    "\t                j=0\n",
    "\t            q-=1\n",
    "\t            if q<0:\n",
    "\t                p-=1\n",
    "\t                q=n-1\n",
    "\t        elif mat1[i][j]+mat2[p][q]<x:\n",
    "\t            j+=1\n",
    "\t            if j>n-1:\n",
    "\t                i+=1\n",
    "\t                j=0\n",
    "\t        elif mat1[i][j]+mat2[p][q]>x:\n",
    "\t            q-=1\n",
    "\t            if q<0:\n",
    "\t                p-=1\n",
    "\t                q=n-1\n",
    "        return c\n"
   ]
  },
  {
   "cell_type": "code",
   "execution_count": 9,
   "id": "73776646",
   "metadata": {},
   "outputs": [
    {
     "data": {
      "text/plain": [
       "'\\nBrute Force Approach\\nIntuition\\nThe key idea behind the solution is to utilize a set to efficiently store all elements of mat2. Then, iterate through each element of mat1, calculate the difference x - mat1[i][j], and check if this difference exists in the set. If found, increment the count of pairs.\\n\\nImplementation\\nInitialize a set st to store all elements of mat2.\\nIterate through each element of mat2 and insert it into the set st.\\nInitialize a variable count to store the count of pairs whose sum equals x.\\nIterate through each element of mat1.\\nFor each element mat1[i][j], calculate the difference d = x - mat1[i][j].\\nCheck if d exists in the set st using the find function. If found, increment the count.\\nRepeat steps 4-6 for all elements of mat1.\\nReturn the final value of count which represents the count of pairs whose sum equals x.\\n'"
      ]
     },
     "execution_count": 9,
     "metadata": {},
     "output_type": "execute_result"
    }
   ],
   "source": [
    "'''\n",
    "Brute Force Approach\n",
    "Intuition\n",
    "The key idea behind the solution is to utilize a set to efficiently store all elements of mat2. Then, iterate through each element of mat1, calculate the difference x - mat1[i][j], and check if this difference exists in the set. If found, increment the count of pairs.\n",
    "\n",
    "Implementation\n",
    "Initialize a set st to store all elements of mat2.\n",
    "Iterate through each element of mat2 and insert it into the set st.\n",
    "Initialize a variable count to store the count of pairs whose sum equals x.\n",
    "Iterate through each element of mat1.\n",
    "For each element mat1[i][j], calculate the difference d = x - mat1[i][j].\n",
    "Check if d exists in the set st using the find function. If found, increment the count.\n",
    "Repeat steps 4-6 for all elements of mat1.\n",
    "Return the final value of count which represents the count of pairs whose sum equals x.\n",
    "'''\n",
    "class Solution: def countPairs(self, mat1, mat2, n, x): # Create a set to store elements of mat2 st = set() # Insert all elements of mat2 into the set for i in range(n): for j in range(n): st.add(mat2[i][j]) # Initialize count variable count = 0 # Iterate through mat1 and check for pairs for i in range(n): for j in range(n): # Calculate the difference d = x - mat1[i][j] # If the difference exists in the set, increment count if d in st: count += 1 return count\n",
    "\n",
    "'''Complexity\n",
    "Time complexity:\n",
    "\n",
    "O(n^2), where n is the size of the matrices. This is because there are two nested loops iterating over all elements of both matrices, resulting in a quadratic time complexity.\n",
    "Space complexity:\n",
    "\n",
    "O(n^2), due to the usage of a set to store all elements of mat2. In the worst case, all elements of mat2 are stored in the set, which requires O(n^2) space\n",
    "'''"
   ]
  },
  {
   "cell_type": "code",
   "execution_count": 10,
   "id": "20ce0056",
   "metadata": {},
   "outputs": [
    {
     "data": {
      "text/plain": [
       "'Complexity\\nTime Complexity: O(n), where n is the size of the matrices. The algorithm traverses both matrices linearly once, performing constant-time operations at each step.\\n\\nSpace Complexity: O(1). The algorithm uses a constant amount of extra space for variables regardless of the size of the input matrices.\\n'"
      ]
     },
     "execution_count": 10,
     "metadata": {},
     "output_type": "execute_result"
    }
   ],
   "source": [
    "'''\n",
    "Expected Approach\n",
    "Intuition\n",
    "The algorithm utilizes a two-pointer approach to efficiently search for pairs in sorted matrices. By starting from opposite corners of the matrices, it compares the sum of the current elements to the target value. Based on this comparison, it adjusts the pointers to explore elements that might contribute to pairs with the target sum. This approach optimizes the search process, exploiting the sorted order of the matrices to find pairs with the desired sum in linear time\n",
    "\n",
    "Implementation\n",
    "Initialize pointers r1, c1, r2, and c2 to track the current elements in both matrices:\n",
    "r1, c1 point to the top-left corner of mat1.\n",
    "r2, c2 point to the bottom-right corner of mat2.\n",
    "Initialize count to store the count of pairs whose sum equals x.\n",
    "Start a while loop which continues until either r1 reaches the end of mat1 or r2 reaches the beginning of mat2.\n",
    "Calculate the sum of the current elements pointed by r1, c1 in mat1 and r2, c2 in mat2.\n",
    "If the sum equals x, increment the count and move c1 to the right and c2 to the left.\n",
    "If the sum is less than x, increment c1 to move towards larger elements in mat1.\n",
    "If the sum is greater than x, decrement c2 to move towards smaller elements in mat2.\n",
    "If c1 crosses the right boundary of mat1, reset c1 to 0 and increment r1 to move to the next row in mat1.\n",
    "If c2 crosses the left boundary of mat2, reset c2 to n - 1 and decrement r2 to move to the previous row in mat2.\n",
    "Return the count, which represents the number of pairs whose sum equals x.\n",
    "Example\n",
    "Untitled-presentation-(1).pngUntitled-presentation-(1).png\n",
    "Untitled-presentation-(2).pngUntitled-presentation-(2).png\n",
    "\n",
    "'''\n",
    "\n",
    "class Solution:\n",
    "    def countPairs(self, mat1, mat2, n, x):\n",
    "        # Initialize pointers for matrices\n",
    "        r1, c1 = 0, 0\n",
    "        r2, c2 = n - 1, n - 1\n",
    "        \n",
    "        # Initialize count of pairs\n",
    "        count = 0\n",
    "        \n",
    "        # Iterate while there are more elements in both matrices\n",
    "        while r1 < n and r2 >= 0:\n",
    "            val = mat1[r1][c1] + mat2[r2][c2]\n",
    "            \n",
    "            # If the sum of the current pair equals x\n",
    "            if val == x:\n",
    "                # Increment count\n",
    "                count += 1\n",
    "                \n",
    "                # Move to the next columns in mat1 and mat2\n",
    "                c1 += 1\n",
    "                c2 -= 1\n",
    "            \n",
    "            # If the sum of the current pair is less than x\n",
    "            elif val < x:\n",
    "                # Move to the next column in mat1\n",
    "                c1 += 1\n",
    "            \n",
    "            # If the sum of the current pair is greater than x\n",
    "            else:\n",
    "                # Move to the next column in mat2\n",
    "                c2 -= 1\n",
    "            \n",
    "            # If the column pointer c1 crosses the right boundary\n",
    "            if c1 == n:\n",
    "                # Reset c1 to 0 and move to the next row in mat1\n",
    "                c1 = 0\n",
    "                r1 += 1\n",
    "            \n",
    "            # If the column pointer c2 crosses the left boundary\n",
    "            if c2 == -1:\n",
    "                # Reset c2 to n - 1 and move to the previous row in mat2\n",
    "                c2 = n - 1\n",
    "                r2 -= 1\n",
    "        \n",
    "        # Return the count of pairs\n",
    "        return count\n",
    "\n",
    "    \n",
    "'''Complexity\n",
    "Time Complexity: O(n), where n is the size of the matrices. The algorithm traverses both matrices linearly once, performing constant-time operations at each step.\n",
    "\n",
    "Space Complexity: O(1). The algorithm uses a constant amount of extra space for variables regardless of the size of the input matrices.\n",
    "'''\n"
   ]
  },
  {
   "cell_type": "code",
   "execution_count": null,
   "id": "f469db35",
   "metadata": {},
   "outputs": [],
   "source": []
  }
 ],
 "metadata": {
  "kernelspec": {
   "display_name": "Python 3 (ipykernel)",
   "language": "python",
   "name": "python3"
  },
  "language_info": {
   "codemirror_mode": {
    "name": "ipython",
    "version": 3
   },
   "file_extension": ".py",
   "mimetype": "text/x-python",
   "name": "python",
   "nbconvert_exporter": "python",
   "pygments_lexer": "ipython3",
   "version": "3.11.4"
  }
 },
 "nbformat": 4,
 "nbformat_minor": 5
}
