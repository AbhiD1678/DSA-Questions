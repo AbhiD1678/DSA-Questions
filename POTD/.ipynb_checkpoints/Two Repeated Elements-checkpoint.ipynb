{
 "cells": [
  {
   "cell_type": "raw",
   "id": "eecba153-2db7-4b33-9f38-764bb6cf6ac6",
   "metadata": {},
   "source": [
    "You are given an integer n and an integer array arr of size n+2. All elements of the array are in the range from 1 to n. Also, all elements occur once except two numbers which occur twice. Find the two repeating numbers.\n",
    "Note: Return the numbers in their order of appearing twice. So, if X and Y are the repeating numbers, and X's second appearance comes before second appearance of Y, then the order should be (X, Y).\n",
    "\n",
    "Example 1:\n",
    "\n",
    "Input:\n",
    "n = 4\n",
    "arr[] = {1,2,1,3,4,3}\n",
    "Output: \n",
    "1 3\n",
    "Explanation: \n",
    "In the given array, 1 and 3 are repeated two times and as 1's second appearance occurs before 2's second appearance, so the output should be 1 3.\n",
    "Example 2:\n",
    "\n",
    "Input:\n",
    "n = 2\n",
    "arr[] = {1,2,2,1}\n",
    "Output: \n",
    "2 1\n",
    "Explanation: \n",
    "In the given array, 1 and 2 are repeated two times and second occurence of 2 comes before 1. So the output is 2 1.\n",
    "Your Task:\n",
    "The task is to complete the function repeatedElements() which takes an integer array arr[] and an integer n as inputs (the size of the array is n + 2 and elements are in the range [1, n]) and finds the two repeated elements in the array and return them in an array.\n",
    "\n",
    "Expected Time Complexity: O(n).\n",
    "Expected Auxiliary Space: O(1). \n",
    "\n",
    "Constraints:\n",
    "2 ≤ n ≤ 105\n",
    "1 ≤ arr[i] ≤ n"
   ]
  },
  {
   "cell_type": "code",
   "execution_count": 1,
   "id": "c4a23496-69b1-47c9-b1a9-7323203e9897",
   "metadata": {},
   "outputs": [],
   "source": [
    "class Solution:\n",
    "    \n",
    "    #Function to find two repeated elements.\n",
    "    def twoRepeated(self, arr , n):\n",
    "        #Your code here\n",
    "        nums = set();\n",
    "        ans = []\n",
    "        \n",
    "        for i in arr:\n",
    "            if (i in nums):\n",
    "                ans.append(i);\n",
    "            else:\n",
    "                nums.add(i);\n",
    "        return ans;"
   ]
  },
  {
   "cell_type": "code",
   "execution_count": 2,
   "id": "dafef59c-0e0d-4fc5-b310-390e07886f5a",
   "metadata": {},
   "outputs": [],
   "source": [
    "class Solution:\n",
    "    # Function to find two repeated elements.\n",
    "    def twoRepeated(self, arr, n):\n",
    "        freq = [0] * (n + 1)\n",
    "        res = []\n",
    "        for i in range(n + 2):\n",
    "            freq[arr[i]] += 1\n",
    "            if freq[arr[i]] >= 2:\n",
    "                res.append(arr[i])\n",
    "        return res\n"
   ]
  },
  {
   "cell_type": "code",
   "execution_count": 3,
   "id": "99899d24-4af5-4d27-93dc-4fd82f5a511b",
   "metadata": {},
   "outputs": [],
   "source": [
    "#Back-end complete function Template for Python 3\n",
    "\n",
    "class Solution:\n",
    "    \n",
    "    #Function to find two repeated elements.\n",
    "    def twoRepeated(self, arr, n):\n",
    "        \n",
    "        res = []\n",
    "        first = False\n",
    "        \n",
    "        #iterating over the array elements.\n",
    "        for i in range(0,n+2):\n",
    "            \n",
    "            #making the visited elements negative.\n",
    "            if arr[abs(arr[i])]>0:\n",
    "                arr[abs(arr[i])]=-arr[abs(arr[i])]\n",
    "            \n",
    "            #if the number is negative, it was visited previously\n",
    "            #so this would be the repeated element.\n",
    "            else:\n",
    "                \n",
    "                #storing first and second repeated element accordingly.\n",
    "                if(first == False):\n",
    "                    res.append(abs(arr[i]))\n",
    "                    first = True\n",
    "                else:\n",
    "                    res.append(abs(arr[i]))\n",
    "                    \n",
    "        #returning the result.\n",
    "        return res\n",
    "        \n",
    "        \n",
    "        \n",
    "        \n"
   ]
  },
  {
   "cell_type": "code",
   "execution_count": null,
   "id": "96439c7a-c5dc-4887-a13a-8a35d788aa16",
   "metadata": {},
   "outputs": [],
   "source": []
  }
 ],
 "metadata": {
  "kernelspec": {
   "display_name": "Python 3 (ipykernel)",
   "language": "python",
   "name": "python3"
  },
  "language_info": {
   "codemirror_mode": {
    "name": "ipython",
    "version": 3
   },
   "file_extension": ".py",
   "mimetype": "text/x-python",
   "name": "python",
   "nbconvert_exporter": "python",
   "pygments_lexer": "ipython3",
   "version": "3.11.7"
  }
 },
 "nbformat": 4,
 "nbformat_minor": 5
}
