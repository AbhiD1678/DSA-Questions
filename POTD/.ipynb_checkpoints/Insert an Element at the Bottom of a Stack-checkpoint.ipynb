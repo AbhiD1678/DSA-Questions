{
 "cells": [
  {
   "cell_type": "markdown",
   "id": "8eb998a7",
   "metadata": {},
   "source": [
    "You are given a stack st of n integers and an element x. You have to insert x at the bottom of the given stack. \n",
    "\n",
    "Note: Everywhere in this problem, the bottommost element of the stack is shown first while priniting the stack.\n",
    "\n",
    "Example 1:\n",
    "\n",
    "Input:\n",
    "n = 5\n",
    "x = 2\n",
    "st = {4,3,2,1,8}\n",
    "Output:\n",
    "{2,4,3,2,1,8}\n",
    "Explanation:\n",
    "After insertion of 2, the final stack will be {2,4,3,2,1,8}.\n",
    "Example 2:\n",
    "\n",
    "Input:\n",
    "n = 3\n",
    "x = 4\n",
    "st = {5,3,1}\n",
    "Output:\n",
    "{4,5,3,1}\n",
    "Explanation:\n",
    "After insertion of 4, the final stack will be {4,5,3,1}.\n",
    "Your Task:\n",
    "\n",
    "You don't need to read input or print anything. Your task is to complete the function insertAtBottom() which takes a stack st and an integer x as inputs and returns the modified stack after insertion.\n",
    "\n",
    "Expected Time Complexity: O(n)\n",
    "Expected Auxiliary Space: O(n)"
   ]
  },
  {
   "cell_type": "code",
   "execution_count": 1,
   "id": "ce52b875",
   "metadata": {},
   "outputs": [],
   "source": [
    "class Solution:\n",
    "    def insertAtBottom(self,st,x):\n",
    "        # code here\n",
    "        stack=[]\n",
    "        while st:\n",
    "            stack.append(st.pop())\n",
    "        stack.append(x)\n",
    "        ans=[]\n",
    "        while stack:\n",
    "            ans.append(stack.pop())\n",
    "        return ans"
   ]
  },
  {
   "cell_type": "markdown",
   "id": "1bdbff47",
   "metadata": {},
   "source": [
    "Expected Approach\n",
    "Intuition\n",
    "The intuition behind this code is that Instead of using a temporary stack, the implicit stack can be used through recursion.\n",
    "\n",
    "Implementation\n",
    "2.jpg2.jpg\n",
    "\n",
    "\n",
    "insertAtBottom Method:\n",
    "Calls the recurring method with the stack St and the integer X.\n",
    "Return the modified stack St.\n",
    "recur Method:\n",
    "The base case of the recursion is checked first: if the stack st is empty, it means we have reached the bottom of the stack. In this case, it pushes the integer x onto the stack and returns.\n",
    "If the stack is not empty, it proceeds with the recursive logic.\n",
    "It pops the top element p from the stack st.\n",
    "Then, it makes a recursive call to recur with the same stack st and the integer x. This call continues until the stack is empty.\n",
    "Once the recursive calls return (when the stack is empty), it pushes the element p back onto the stack. This step effectively inserts x at the bottom of the stack."
   ]
  },
  {
   "cell_type": "code",
   "execution_count": 2,
   "id": "b1f47540",
   "metadata": {},
   "outputs": [],
   "source": [
    "#Back-end complete function Template for Python 3\n",
    "class Solution:\n",
    "    def insertAtBottom(self,St,X):\n",
    "        new_stack = []\n",
    "        while St:\n",
    "            new_stack.append(St.pop())\n",
    "            \n",
    "        St.append(X)\n",
    "        while new_stack:\n",
    "            St.append(new_stack.pop())\n",
    "        return St    \n",
    "        \n"
   ]
  },
  {
   "cell_type": "markdown",
   "id": "fb7461f8",
   "metadata": {},
   "source": [
    "Complexity\n",
    "Time Complexity: O(N), As we are traversing over all the element using recursion, where N is the total number of elements in the stack.\n",
    "Auxiliary Space: O(N), Space used by recursive stack."
   ]
  },
  {
   "cell_type": "markdown",
   "id": "e2246fe2",
   "metadata": {},
   "source": [
    "Alternate Approach\n",
    "Intuition\n",
    "The simplest approach would be to create another stack.\n",
    "\n",
    "Implementation\n",
    "Initialize a stack, say temp.\n",
    "Keep popping from the given stack S and pushing the popped elements into temp, until the stack S becomes empty.\n",
    "Push N into the stack S.\n",
    "Now, keep popping from the stacktemp and push the popped elements into the stack S, until the stack temp becomes empty."
   ]
  },
  {
   "cell_type": "code",
   "execution_count": 4,
   "id": "e706dbe4",
   "metadata": {},
   "outputs": [],
   "source": [
    "class Solution:\n",
    "    def insertAtBottom(self,S,N):\n",
    "        temp = []\n",
    "\n",
    "    # Iterate until S becomes empty\n",
    "        while S:\n",
    "            # Push the top element of S into the stack temp\n",
    "            temp.append(S.pop())\n",
    "    \n",
    "        # Push N into the stack S\n",
    "        S.append(N)\n",
    "    \n",
    "        # Iterate until temp becomes empty\n",
    "        while temp:\n",
    "            # Push the top element of temp into the stack S\n",
    "            S.append(temp.pop())\n",
    "    \n",
    "        # Return the stack S\n",
    "        return S\n"
   ]
  },
  {
   "cell_type": "markdown",
   "id": "81e0b9ea",
   "metadata": {},
   "source": [
    "Complexity\n",
    "Time Complexity: Copying all elements from S to temp and then from temp back to S requires iterating through all elements once. Therefore, the time complexity is O(N), where N is the number of elements in the stack.\n",
    "Space Complexity: The code uses an additional stack (temp) to temporarily store elements. The space required by temp is also O(N) since it can hold all the elements from S. Hence, the space complexity is O(N)."
   ]
  },
  {
   "cell_type": "code",
   "execution_count": null,
   "id": "1194c943",
   "metadata": {},
   "outputs": [],
   "source": []
  }
 ],
 "metadata": {
  "kernelspec": {
   "display_name": "Python 3 (ipykernel)",
   "language": "python",
   "name": "python3"
  },
  "language_info": {
   "codemirror_mode": {
    "name": "ipython",
    "version": 3
   },
   "file_extension": ".py",
   "mimetype": "text/x-python",
   "name": "python",
   "nbconvert_exporter": "python",
   "pygments_lexer": "ipython3",
   "version": "3.11.4"
  }
 },
 "nbformat": 4,
 "nbformat_minor": 5
}
