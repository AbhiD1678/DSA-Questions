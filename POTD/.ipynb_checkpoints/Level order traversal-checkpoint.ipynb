{
 "cells": [
  {
   "cell_type": "code",
   "execution_count": 1,
   "id": "7d5ca965",
   "metadata": {},
   "outputs": [
    {
     "data": {
      "text/plain": [
       "\"\\nGiven a root of a binary tree with n nodes, find its level order traversal.\\nLevel order traversal of a tree is breadth-first traversal for the tree.\\n\\nExample 1:\\n\\nInput:\\n    1\\n  /   \\\\ \\n 3     2\\nOutput:\\n1 3 2\\nExample 2:\\n\\nInput:\\n        10\\n     /          20       30\\n  /    40   60\\nOutput:\\n10 20 30 40 60\\nYour Task:\\nYou don't have to take any input. Complete the function levelOrder() that takes the root node as input parameter and returns a list of integers containing the level order traversal of the given Binary Tree.\\n\\nExpected Time Complexity: O(n)\\nExpected Auxiliary Space: O(n)\\n\\nConstraints:\\n1 ≤ n ≤ 105\\n0 ≤ Data of a node ≤ 109\\n\\n\\n\""
      ]
     },
     "execution_count": 1,
     "metadata": {},
     "output_type": "execute_result"
    }
   ],
   "source": [
    "'''\n",
    "Given a root of a binary tree with n nodes, find its level order traversal.\n",
    "Level order traversal of a tree is breadth-first traversal for the tree.\n",
    "\n",
    "Example 1:\n",
    "\n",
    "Input:\n",
    "    1\n",
    "  /   \\ \n",
    " 3     2\n",
    "Output:\n",
    "1 3 2\n",
    "Example 2:\n",
    "\n",
    "Input:\n",
    "        10\n",
    "     /      \\\n",
    "    20       30\n",
    "  /   \\\n",
    " 40   60\n",
    "Output:\n",
    "10 20 30 40 60\n",
    "Your Task:\n",
    "You don't have to take any input. Complete the function levelOrder() that takes the root node as input parameter and returns a list of integers containing the level order traversal of the given Binary Tree.\n",
    "\n",
    "Expected Time Complexity: O(n)\n",
    "Expected Auxiliary Space: O(n)\n",
    "\n",
    "Constraints:\n",
    "1 ≤ n ≤ 105\n",
    "0 ≤ Data of a node ≤ 109\n",
    "\n",
    "\n",
    "'''"
   ]
  },
  {
   "cell_type": "code",
   "execution_count": 2,
   "id": "39a14bc5",
   "metadata": {},
   "outputs": [],
   "source": [
    "class Solution:\n",
    "    #Function to return the level order traversal of a tree.\n",
    "    def levelOrder(self,root):\n",
    "        # Code here\n",
    "        queue = [root]\n",
    "        res = []\n",
    "        \n",
    "        while queue:\n",
    "            current = queue[0]\n",
    "            queue = queue[1:]\n",
    "            \n",
    "            if current.left:\n",
    "                queue.append(current.left)\n",
    "                \n",
    "            if current.right:\n",
    "                queue.append(current.right)\n",
    "            res.append(current.data)\n",
    "        return res"
   ]
  },
  {
   "cell_type": "code",
   "execution_count": 3,
   "id": "7fd9cf6b",
   "metadata": {},
   "outputs": [],
   "source": [
    "#Back-end complete function Template for Python 3\n",
    "\n",
    "\n",
    "\"\"\"\n",
    "class Node:\n",
    "    def __init__(self, value):\n",
    "        self.left = None\n",
    "        self.data = value\n",
    "        self.right = None\n",
    "\"\"\"\n",
    "\n",
    "class Solution:\n",
    "    \n",
    "    #Function to return the level order traversal of a tree.\n",
    "    def levelOrder(self,root):\n",
    "        \n",
    "        res = []\n",
    "        \n",
    "        #if node is null, we return the list.\n",
    "        if root is None:\n",
    "            return res\n",
    "            \n",
    "        #creating an empty queue for level order traversal.\n",
    "        que = []\n",
    "        que.append(root)\n",
    "        \n",
    "        while 1:\n",
    "            n = len(que)\n",
    "            if n==0:\n",
    "                break\n",
    "            while(n>0):\n",
    "                #storing front element of queue in list and \n",
    "                #removing it from queue.\n",
    "                node = que.pop(0)\n",
    "                res.append (node.data)\n",
    "                \n",
    "                #storing the left child of the parent node in queue.\n",
    "                if node.left != None:\n",
    "                    que.append(node.left)\n",
    "                    \n",
    "                #storing the right child of the parent node in queue.\n",
    "                if node.right != None:\n",
    "                    que.append(node.right)\n",
    "                n-=1\n",
    "                \n",
    "        #returning the list.\n",
    "        return res\n"
   ]
  },
  {
   "cell_type": "code",
   "execution_count": null,
   "id": "59dbc9ba",
   "metadata": {},
   "outputs": [],
   "source": []
  }
 ],
 "metadata": {
  "kernelspec": {
   "display_name": "Python 3 (ipykernel)",
   "language": "python",
   "name": "python3"
  },
  "language_info": {
   "codemirror_mode": {
    "name": "ipython",
    "version": 3
   },
   "file_extension": ".py",
   "mimetype": "text/x-python",
   "name": "python",
   "nbconvert_exporter": "python",
   "pygments_lexer": "ipython3",
   "version": "3.11.4"
  }
 },
 "nbformat": 4,
 "nbformat_minor": 5
}
