{
 "cells": [
  {
   "cell_type": "code",
   "execution_count": 1,
   "id": "bffec4ec",
   "metadata": {},
   "outputs": [
    {
     "data": {
      "text/plain": [
       "'\\nGiven an array arr of n positive integers. The task is to swap every ith element of the array with (i+2)th element.\\n\\nExample 1:\\n\\nInput:\\nn = 3\\narr[] = 1 2 3\\nOutput:\\n3 2 1\\nExplanation:\\nSwapping 1 and 3, makes the array 3 2 1. There is only one swap possible in this array.\\nExample 2:\\n\\nInput:\\nn = 5\\narr[] = 1 2 3 4 5\\nOutput:\\n3 4 5 2 1\\nExplanation:\\nSwapping 1 and 3, makes the array 3 2 1 4 5.\\nNow, swapping 2 and 4, makes the array 3 4 1 2 5. \\nAgain,swapping 1 and 5, makes the array 3 4 5 2 1.\\nYour Task:\\nYour task is to complete the function swapElements(), which should swap each ith element with (i+2)th element.\\n\\nExpected Time Complexity: O(n)\\nExpected Auxilary Space: O(1)\\n\\nConstraints:\\n1 <= n <= 106\\n0 <= arri <= 109\\n'"
      ]
     },
     "execution_count": 1,
     "metadata": {},
     "output_type": "execute_result"
    }
   ],
   "source": [
    "'''\n",
    "Given an array arr of n positive integers. The task is to swap every ith element of the array with (i+2)th element.\n",
    "\n",
    "Example 1:\n",
    "\n",
    "Input:\n",
    "n = 3\n",
    "arr[] = 1 2 3\n",
    "Output:\n",
    "3 2 1\n",
    "Explanation:\n",
    "Swapping 1 and 3, makes the array 3 2 1. There is only one swap possible in this array.\n",
    "Example 2:\n",
    "\n",
    "Input:\n",
    "n = 5\n",
    "arr[] = 1 2 3 4 5\n",
    "Output:\n",
    "3 4 5 2 1\n",
    "Explanation:\n",
    "Swapping 1 and 3, makes the array 3 2 1 4 5.\n",
    "Now, swapping 2 and 4, makes the array 3 4 1 2 5. \n",
    "Again,swapping 1 and 5, makes the array 3 4 5 2 1.\n",
    "Your Task:\n",
    "Your task is to complete the function swapElements(), which should swap each ith element with (i+2)th element.\n",
    "\n",
    "Expected Time Complexity: O(n)\n",
    "Expected Auxilary Space: O(1)\n",
    "\n",
    "Constraints:\n",
    "1 <= n <= 106\n",
    "0 <= arri <= 109\n",
    "'''"
   ]
  },
  {
   "cell_type": "code",
   "execution_count": 10,
   "id": "f436f923",
   "metadata": {},
   "outputs": [
    {
     "name": "stdout",
     "output_type": "stream",
     "text": [
      "[3, 2, 1]\n"
     ]
    }
   ],
   "source": [
    "class Solution:\n",
    "    def swapElements(self, arr, n):\n",
    "        #Code here\n",
    "        for i in range(n-2):\n",
    "            arr[i],arr[i+2]=arr[i+2],arr[i]\n",
    "        return arr\n",
    "            \n",
    "arr=[1,2,3]\n",
    "n=3\n",
    "solution=Solution()\n",
    "result=solution.swapElements(arr,n)\n",
    "print(result)"
   ]
  },
  {
   "cell_type": "code",
   "execution_count": 8,
   "id": "103223da",
   "metadata": {},
   "outputs": [],
   "source": [
    "class Solution:\n",
    "    # Function to swap elements of the array\n",
    "    def swapElements(self, arr, n):\n",
    "        n = len(arr)\n",
    "        for i in range(0, n-2):\n",
    "            temp = arr[i]\n",
    "            arr[i] = arr[i+2]\n",
    "            arr[i+2] = temp"
   ]
  },
  {
   "cell_type": "code",
   "execution_count": null,
   "id": "6a5c5279",
   "metadata": {},
   "outputs": [],
   "source": []
  }
 ],
 "metadata": {
  "kernelspec": {
   "display_name": "Python 3 (ipykernel)",
   "language": "python",
   "name": "python3"
  },
  "language_info": {
   "codemirror_mode": {
    "name": "ipython",
    "version": 3
   },
   "file_extension": ".py",
   "mimetype": "text/x-python",
   "name": "python",
   "nbconvert_exporter": "python",
   "pygments_lexer": "ipython3",
   "version": "3.11.4"
  }
 },
 "nbformat": 4,
 "nbformat_minor": 5
}
