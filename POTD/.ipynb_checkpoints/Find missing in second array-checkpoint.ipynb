{
 "cells": [
  {
   "cell_type": "raw",
   "id": "9bc8ac48-41b4-451d-aaa5-ec09c8297b35",
   "metadata": {},
   "source": [
    "Given two integer arrays a of size n and b of size m, the task is to find the numbers which are present in the first array a, but not present in the second array b.\n",
    "\n",
    "Example 1:\n",
    "\n",
    "Input: \n",
    "n = 6, m = 5\n",
    "a[] = {1, 2, 3, 4, 5, 10}\n",
    "b[] = {2, 3, 1, 0, 5}\n",
    "Output: \n",
    "4 10\n",
    "Explanation: \n",
    "4 and 10 are present in first array, but not in second array.\n",
    "Example 2:\n",
    "\n",
    "Input: \n",
    "n = 5, m = 5\n",
    "a[] = {4, 3, 5, 9, 11}\n",
    "b[] = {4, 9, 3, 11, 10}\n",
    "Output: \n",
    "5  \n",
    "Explanation: \n",
    "Second array does not contain element 5.\n",
    "Your Task:\n",
    "You don't need to take any input, as it is already accomplished by the driver code. You just need to complete the function findMissing() that takes an integer array a, an integer array b, an integer n, and an integer m as input parameters and returns an array that contains the missing elements and the order of the elements should be the same as they are in array a.\n",
    "\n",
    "Expected Time Complexity: O(n+m).\n",
    "Expected Auxiliary Space: O(m).\n",
    "\n",
    "Constraints:\n",
    "1 ≤ n, m ≤ 105\n",
    "-109 ≤ A[i], B[i] ≤ 109"
   ]
  },
  {
   "cell_type": "code",
   "execution_count": 1,
   "id": "58b6756d-41e6-4fab-9a58-33877b8628db",
   "metadata": {},
   "outputs": [],
   "source": [
    "class Solution:\n",
    "    def findMissing(self,a,b,n,m):\n",
    "    # code here\n",
    "        k,ans=set(b),[]\n",
    "        for i in a:\n",
    "            if i not in k:\n",
    "                ans.append(i)\n",
    "        return ans\n",
    "\n"
   ]
  },
  {
   "cell_type": "code",
   "execution_count": null,
   "id": "d9e41694-c4f2-4fdf-903b-1ac76f796902",
   "metadata": {},
   "outputs": [],
   "source": []
  }
 ],
 "metadata": {
  "kernelspec": {
   "display_name": "Python 3 (ipykernel)",
   "language": "python",
   "name": "python3"
  },
  "language_info": {
   "codemirror_mode": {
    "name": "ipython",
    "version": 3
   },
   "file_extension": ".py",
   "mimetype": "text/x-python",
   "name": "python",
   "nbconvert_exporter": "python",
   "pygments_lexer": "ipython3",
   "version": "3.11.7"
  }
 },
 "nbformat": 4,
 "nbformat_minor": 5
}
