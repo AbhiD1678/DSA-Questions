{
 "cells": [
  {
   "cell_type": "code",
   "execution_count": 1,
   "id": "3b834555-2fbb-467f-8db2-10e493dc9e90",
   "metadata": {},
   "outputs": [
    {
     "data": {
      "text/plain": [
       "'\\nGiven the coordinates of the endpoints(p1,q1, and p2,q2) of the two line segments. Check if they intersect or not. If the Line intersects return true otherwise return false.\\n\\nExamples\\n\\nInput: p1=(1,1), q1=(10,1), p2=(1,2), q2=(10,2)\\nOutput: false\\nExplanation:The two line segments formed by p1-q1 and p2-q2 do not intersect.\\nInput: p1=(10,0), q1=(0,10), p2=(0,0), q2=(10,10)\\nOutput: true\\nExplanation: The two line segments formed by p1-q1 and p2-q2 intersect.\\nExpected Time Complexity: O(1)\\nExpected Auxillary Space: O(1)\\n\\nConstraints:\\n-106<=X,Y(for all points)<=106\\n'"
      ]
     },
     "execution_count": 1,
     "metadata": {},
     "output_type": "execute_result"
    }
   ],
   "source": [
    "'''\n",
    "Given the coordinates of the endpoints(p1,q1, and p2,q2) of the two line segments. Check if they intersect or not. If the Line intersects return true otherwise return false.\n",
    "\n",
    "Examples\n",
    "\n",
    "Input: p1=(1,1), q1=(10,1), p2=(1,2), q2=(10,2)\n",
    "Output: false\n",
    "Explanation:The two line segments formed by p1-q1 and p2-q2 do not intersect.\n",
    "Input: p1=(10,0), q1=(0,10), p2=(0,0), q2=(10,10)\n",
    "Output: true\n",
    "Explanation: The two line segments formed by p1-q1 and p2-q2 intersect.\n",
    "Expected Time Complexity: O(1)\n",
    "Expected Auxillary Space: O(1)\n",
    "\n",
    "Constraints:\n",
    "-106<=X,Y(for all points)<=106\n",
    "'''"
   ]
  },
  {
   "cell_type": "code",
   "execution_count": 2,
   "id": "56738e81-c2e1-4d57-be7a-e3567e8d94ef",
   "metadata": {},
   "outputs": [],
   "source": [
    "\n",
    "class Solution:\n",
    "    def doIntersect(self, p1, q1, p2, q2):\n",
    "        #code here\n",
    "        def onSegment(p, q, r):\n",
    "            \"\"\" Check if point r lies on segment pq \"\"\"\n",
    "            if min(p[0], q[0]) <= r[0] <= max(p[0], q[0]) and min(p[1], q[1]) <= r[1] <= max(p[1], q[1]):\n",
    "                return True\n",
    "            return False\n",
    "\n",
    "        def orientation(p, q, r):\n",
    "            \"\"\" Find the orientation of the ordered triplet (p, q, r) \"\"\"\n",
    "            val = (q[1] - p[1]) * (r[0] - q[0]) - (q[0] - p[0]) * (r[1] - q[1])\n",
    "            if val == 0:\n",
    "                return 0  # collinear\n",
    "            elif val > 0:\n",
    "                return 1  # clockwise\n",
    "            else:\n",
    "                return 2  # counterclockwise\n",
    "\n",
    "        o1 = orientation(p1, q1, p2)\n",
    "        o2 = orientation(p1, q1, q2)\n",
    "        o3 = orientation(p2, q2, p1)\n",
    "        o4 = orientation(p2, q2, q1)\n",
    "\n",
    "        # General case\n",
    "        if o1 != o2 and o3 != o4:\n",
    "            return 'true'\n",
    "\n",
    "        # Special cases\n",
    "        # p1, q1, p2 are collinear and p2 lies on segment p1q1\n",
    "        if o1 == 0 and onSegment(p1, q1, p2):\n",
    "            return 'true'\n",
    "\n",
    "        # p1, q1, q2 are collinear and q2 lies on segment p1q1\n",
    "        if o2 == 0 and onSegment(p1, q1, q2):\n",
    "            return 'true'\n",
    "\n",
    "        # p2, q2, p1 are collinear and p1 lies on segment p2q2\n",
    "        if o3 == 0 and onSegment(p2, q2, p1):\n",
    "            return 'true'\n",
    "\n",
    "        # p2, q2, q1 are collinear and q1 lies on segment p2q2\n",
    "        if o4 == 0 and onSegment(p2, q2, q1):\n",
    "            return 'true'\n",
    "\n",
    "        return 'false'"
   ]
  },
  {
   "cell_type": "code",
   "execution_count": null,
   "id": "9ee213ab-80fa-4f4c-add1-836cf6c5bab8",
   "metadata": {},
   "outputs": [],
   "source": []
  }
 ],
 "metadata": {
  "kernelspec": {
   "display_name": "Python 3 (ipykernel)",
   "language": "python",
   "name": "python3"
  },
  "language_info": {
   "codemirror_mode": {
    "name": "ipython",
    "version": 3
   },
   "file_extension": ".py",
   "mimetype": "text/x-python",
   "name": "python",
   "nbconvert_exporter": "python",
   "pygments_lexer": "ipython3",
   "version": "3.12.0"
  }
 },
 "nbformat": 4,
 "nbformat_minor": 5
}
