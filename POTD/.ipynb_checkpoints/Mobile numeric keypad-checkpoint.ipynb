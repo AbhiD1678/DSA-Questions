{
 "cells": [
  {
   "cell_type": "code",
   "execution_count": 1,
   "id": "5adf4e4a-a256-4277-a1a5-c6502a7fe188",
   "metadata": {},
   "outputs": [
    {
     "data": {
      "text/plain": [
       "'\\nThere is a standard numeric keypad on a mobile phone. You can only press the current button or buttons that are directly up, left, right, or down from it (for ex if you press 5, then pressing 2, 4, 6 & 8 are allowed). Diagonal movements and pressing the bottom row corner buttons (* and #) are prohibited.\\n\\n\\n\\nGiven a number n, find the number of possible unique sequences of length n that you can create by pressing buttons. You can start from any digit.\\n\\nExamples\\n\\nInput: n = 1\\nOutput: 10\\nExplanation: Number of possible numbers are 10 (0, 1, 2, 3, 4, 5, 6, 7, 8, 9)  \\nInput: n = 2\\nOutput: 36\\nExplanation: Possible numbers: 00, 08, 11, 12, 14, 22, 21, 23, 25 and so on. If we start with 0, valid numbers will be 00, 08 (count: 2). If we start with 1, valid numbers will be 11, 12, 14 (count: 3). If we start with 2, valid numbers  will be 22, 21, 23,25 (count: 4). If we start with 3, valid numbers will be 33, 32, 36 (count: 3). If we start with 4, valid numbers will be 44,41,45,47 (count: 4). If we start with 5, valid numbers will be 55,54,52,56,58 (count: 5) and so on.\\nExpected Time Complexity: O(n)\\nExpected Auxiliary Space: O(n)\\n\\nConstraints:\\n1 ≤ n ≤ 25'"
      ]
     },
     "execution_count": 1,
     "metadata": {},
     "output_type": "execute_result"
    }
   ],
   "source": [
    "'''\n",
    "There is a standard numeric keypad on a mobile phone. You can only press the current button or buttons that are directly up, left, right, or down from it (for ex if you press 5, then pressing 2, 4, 6 & 8 are allowed). Diagonal movements and pressing the bottom row corner buttons (* and #) are prohibited.\n",
    "\n",
    "\n",
    "\n",
    "Given a number n, find the number of possible unique sequences of length n that you can create by pressing buttons. You can start from any digit.\n",
    "\n",
    "Examples\n",
    "\n",
    "Input: n = 1\n",
    "Output: 10\n",
    "Explanation: Number of possible numbers are 10 (0, 1, 2, 3, 4, 5, 6, 7, 8, 9)  \n",
    "Input: n = 2\n",
    "Output: 36\n",
    "Explanation: Possible numbers: 00, 08, 11, 12, 14, 22, 21, 23, 25 and so on. If we start with 0, valid numbers will be 00, 08 (count: 2). If we start with 1, valid numbers will be 11, 12, 14 (count: 3). If we start with 2, valid numbers  will be 22, 21, 23,25 (count: 4). If we start with 3, valid numbers will be 33, 32, 36 (count: 3). If we start with 4, valid numbers will be 44,41,45,47 (count: 4). If we start with 5, valid numbers will be 55,54,52,56,58 (count: 5) and so on.\n",
    "Expected Time Complexity: O(n)\n",
    "Expected Auxiliary Space: O(n)\n",
    "\n",
    "Constraints:\n",
    "1 ≤ n ≤ 25'''"
   ]
  },
  {
   "cell_type": "code",
   "execution_count": 2,
   "id": "87518e6e-277b-446b-891d-a613eb4924be",
   "metadata": {},
   "outputs": [],
   "source": [
    "class Solution:\n",
    "    def getCount(self, n):\n",
    "        # Define the keypad layout\n",
    "        keypad = [\n",
    "            ['1', '2', '3'],\n",
    "            ['4', '5', '6'],\n",
    "            ['7', '8', '9'],\n",
    "            ['-1', '0', '-1']\n",
    "        ]\n",
    "        \n",
    "        def dfs(i, j, steps):\n",
    "            if steps == 1:\n",
    "                return 1\n",
    "            \n",
    "            if dp[int(keypad[i][j])][steps] != -1:\n",
    "                return dp[int(keypad[i][j])][steps]\n",
    "            \n",
    "            # Count the same key press\n",
    "            count = dfs(i, j, steps - 1)\n",
    "            \n",
    "            # Check up\n",
    "            if i - 1 >= 0 and keypad[i - 1][j] != '-1':\n",
    "                count += dfs(i - 1, j, steps - 1)\n",
    "            # Check down\n",
    "            if i + 1 <= 3 and keypad[i + 1][j] != '-1':\n",
    "                count += dfs(i + 1, j, steps - 1)\n",
    "            # Check left\n",
    "            if j - 1 >= 0 and keypad[i][j - 1] != '-1':\n",
    "                count += dfs(i, j - 1, steps - 1)\n",
    "            # Check right\n",
    "            if j + 1 <= 2 and keypad[i][j + 1] != '-1':\n",
    "                count += dfs(i, j + 1, steps - 1)\n",
    "            \n",
    "            dp[int(keypad[i][j])][steps] = count\n",
    "            return count\n",
    "        \n",
    "        # Initialize DP table\n",
    "        dp = [[-1] * (n + 1) for _ in range(10)]\n",
    "        result = 0\n",
    "        \n",
    "        for i in range(4):\n",
    "            for j in range(3):\n",
    "                if keypad[i][j] != '-1':\n",
    "                    result += dfs(i, j, n)\n",
    "        \n",
    "        return result\n"
   ]
  },
  {
   "cell_type": "code",
   "execution_count": null,
   "id": "a54640fa-cab4-43ab-b678-84277088a969",
   "metadata": {},
   "outputs": [],
   "source": []
  }
 ],
 "metadata": {
  "kernelspec": {
   "display_name": "Python 3 (ipykernel)",
   "language": "python",
   "name": "python3"
  },
  "language_info": {
   "codemirror_mode": {
    "name": "ipython",
    "version": 3
   },
   "file_extension": ".py",
   "mimetype": "text/x-python",
   "name": "python",
   "nbconvert_exporter": "python",
   "pygments_lexer": "ipython3",
   "version": "3.12.0"
  }
 },
 "nbformat": 4,
 "nbformat_minor": 5
}
