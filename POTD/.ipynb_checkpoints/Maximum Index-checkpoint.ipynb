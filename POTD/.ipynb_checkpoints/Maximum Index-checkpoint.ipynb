{
 "cells": [
  {
   "cell_type": "code",
   "execution_count": 1,
   "id": "37dcf986",
   "metadata": {},
   "outputs": [
    {
     "data": {
      "text/plain": [
       "'\\nGiven an array a of n positive integers. The task is to find the maximum of j - i subjected to the constraint of a[i] < a[j] and i < j.\\n\\nExample 1:\\n\\nInput:\\nn = 2\\na[] = {1, 10}\\nOutput:\\n1\\nExplanation:\\na[0] < a[1] so (j-i) is 1-0 = 1.\\nExample 2:\\n\\nInput:\\nn = 9\\na[] = {34, 8, 10, 3, 2, 80, 30, 33, 1}\\nOutput:\\n6\\nExplanation:\\nIn the given array a[1] < a[7] satisfying the required condition(a[i] < a[j]) thus giving the maximum difference of j - i which is 6(7-1).\\nYour Task:\\nThe task is to complete the function maxIndexDiff() which finds and returns maximum index difference. Printing the output will be handled by driver code. \\n\\nExpected Time Complexity: O(N)\\nExpected Auxiliary Space: O(N)\\n\\nConstraints:\\n1 ≤ n ≤ 106\\n0 ≤ a[i] ≤ 109\\n\\n'"
      ]
     },
     "execution_count": 1,
     "metadata": {},
     "output_type": "execute_result"
    }
   ],
   "source": [
    "'''\n",
    "Given an array a of n positive integers. The task is to find the maximum of j - i subjected to the constraint of a[i] < a[j] and i < j.\n",
    "\n",
    "Example 1:\n",
    "\n",
    "Input:\n",
    "n = 2\n",
    "a[] = {1, 10}\n",
    "Output:\n",
    "1\n",
    "Explanation:\n",
    "a[0] < a[1] so (j-i) is 1-0 = 1.\n",
    "Example 2:\n",
    "\n",
    "Input:\n",
    "n = 9\n",
    "a[] = {34, 8, 10, 3, 2, 80, 30, 33, 1}\n",
    "Output:\n",
    "6\n",
    "Explanation:\n",
    "In the given array a[1] < a[7] satisfying the required condition(a[i] < a[j]) thus giving the maximum difference of j - i which is 6(7-1).\n",
    "Your Task:\n",
    "The task is to complete the function maxIndexDiff() which finds and returns maximum index difference. Printing the output will be handled by driver code. \n",
    "\n",
    "Expected Time Complexity: O(N)\n",
    "Expected Auxiliary Space: O(N)\n",
    "\n",
    "Constraints:\n",
    "1 ≤ n ≤ 106\n",
    "0 ≤ a[i] ≤ 109\n",
    "\n",
    "'''"
   ]
  },
  {
   "cell_type": "code",
   "execution_count": 2,
   "id": "47285082",
   "metadata": {},
   "outputs": [],
   "source": [
    "class Solution:\n",
    "    #Complete this function\n",
    "    # Function to find the maximum index difference.\n",
    "    def maxIndexDiff(self,a, n): \n",
    "        ##Your code here\n",
    "        t = 0 \n",
    "        for i in range(n):\n",
    "            j = n-1 \n",
    "            while(i < j  and a[i] > a[j]):\n",
    "                j-=1    \n",
    "            t = max(t, j-i)\n",
    "        return t\n"
   ]
  },
  {
   "cell_type": "code",
   "execution_count": null,
   "id": "a3b6ef6b",
   "metadata": {},
   "outputs": [],
   "source": [
    "class Solution:\n",
    "    #Complete this function\n",
    "    # Function to find the maximum index difference.\n",
    "    def maxIndexDiff(self,a, n): \n",
    "        ##Your code here\n",
    "        i=0\n",
    "        res=0\n",
    "        while i <n :\n",
    "            j=n-1\n",
    "            while i<j and a[i]>a[j]:\n",
    "                j-=1\n",
    "            res=max(res,j-i)\n",
    "            i+=1\n",
    "        \n",
    "        return res\n"
   ]
  }
 ],
 "metadata": {
  "kernelspec": {
   "display_name": "Python 3 (ipykernel)",
   "language": "python",
   "name": "python3"
  },
  "language_info": {
   "codemirror_mode": {
    "name": "ipython",
    "version": 3
   },
   "file_extension": ".py",
   "mimetype": "text/x-python",
   "name": "python",
   "nbconvert_exporter": "python",
   "pygments_lexer": "ipython3",
   "version": "3.11.4"
  }
 },
 "nbformat": 4,
 "nbformat_minor": 5
}
