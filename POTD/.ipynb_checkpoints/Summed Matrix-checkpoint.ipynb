{
 "cells": [
  {
   "cell_type": "code",
   "execution_count": 1,
   "id": "129b1be2-0060-467b-87b9-0480749002a3",
   "metadata": {},
   "outputs": [
    {
     "data": {
      "text/plain": [
       "\"\\nA matrix is constructed of size n*n and given an integer ‘q’. The value at every cell of the matrix is given as, M(i,j) = i+j, where ‘M(i,j)' is the value of a cell, ‘i’ is the row number, and ‘j’ is the column number. Return the number of cells having value ‘q’.\\n\\nNote: Assume, the array is in 1-based indexing.\\n\\nExamples:\\n\\nInput: n = 4, q = 7\\nOutput: 2\\nExplanation: Matrix becomes\\n2 3 4 5 \\n3 4 5 6 \\n4 5 6 7\\n5 6 7 8\\nThe count of 7 is 2.\\nInput: n = 5, q = 4\\nOutput: 3\\nExplanation: Matrix becomes\\n2 3 4 5 6 \\n3 4 5 6 7 \\n4 5 6 7 8 \\n5 6 7 8 9 \\n6 7 8 9 10 \\nThe count of 4 is 3.\\nExpected Time Complexity: O(1)\\nExpected Auxiliary Space: O(1)\\n\\nConstraints:\\n1 ≤ n,q ≤ 1018\\n\""
      ]
     },
     "execution_count": 1,
     "metadata": {},
     "output_type": "execute_result"
    }
   ],
   "source": [
    "'''\n",
    "A matrix is constructed of size n*n and given an integer ‘q’. The value at every cell of the matrix is given as, M(i,j) = i+j, where ‘M(i,j)' is the value of a cell, ‘i’ is the row number, and ‘j’ is the column number. Return the number of cells having value ‘q’.\n",
    "\n",
    "Note: Assume, the array is in 1-based indexing.\n",
    "\n",
    "Examples:\n",
    "\n",
    "Input: n = 4, q = 7\n",
    "Output: 2\n",
    "Explanation: Matrix becomes\n",
    "2 3 4 5 \n",
    "3 4 5 6 \n",
    "4 5 6 7\n",
    "5 6 7 8\n",
    "The count of 7 is 2.\n",
    "Input: n = 5, q = 4\n",
    "Output: 3\n",
    "Explanation: Matrix becomes\n",
    "2 3 4 5 6 \n",
    "3 4 5 6 7 \n",
    "4 5 6 7 8 \n",
    "5 6 7 8 9 \n",
    "6 7 8 9 10 \n",
    "The count of 4 is 3.\n",
    "Expected Time Complexity: O(1)\n",
    "Expected Auxiliary Space: O(1)\n",
    "\n",
    "Constraints:\n",
    "1 ≤ n,q ≤ 1018\n",
    "'''"
   ]
  },
  {
   "cell_type": "code",
   "execution_count": 2,
   "id": "f53028b0-da98-4c50-b17a-21f61480fa67",
   "metadata": {},
   "outputs": [],
   "source": [
    "\n",
    "class Solution:\n",
    "    def sumMatrix(self, n, q):\n",
    "        # code here \n",
    "        if q > n*2:\n",
    "            return 0\n",
    "        count = 0\n",
    "        k = 2 + (n-1)\n",
    "        if k<q:\n",
    "            ans = q - k\n",
    "            i = ans + 2\n",
    "        else:\n",
    "            i =2\n",
    "        aj = n+1\n",
    "        if aj > q:\n",
    "            ans1 = q\n",
    "        else:\n",
    "            ans1 = aj\n",
    "\n",
    "        \n",
    "        return(ans1 - i) +1\n"
   ]
  },
  {
   "cell_type": "code",
   "execution_count": null,
   "id": "568a8dd1-7e15-4fc6-9a48-5a02892c99ab",
   "metadata": {},
   "outputs": [],
   "source": []
  }
 ],
 "metadata": {
  "kernelspec": {
   "display_name": "Python 3 (ipykernel)",
   "language": "python",
   "name": "python3"
  },
  "language_info": {
   "codemirror_mode": {
    "name": "ipython",
    "version": 3
   },
   "file_extension": ".py",
   "mimetype": "text/x-python",
   "name": "python",
   "nbconvert_exporter": "python",
   "pygments_lexer": "ipython3",
   "version": "3.12.0"
  }
 },
 "nbformat": 4,
 "nbformat_minor": 5
}
