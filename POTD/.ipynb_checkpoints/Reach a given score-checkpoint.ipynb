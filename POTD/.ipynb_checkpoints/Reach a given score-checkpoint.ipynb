{
 "cells": [
  {
   "cell_type": "code",
   "execution_count": 1,
   "id": "527b4345",
   "metadata": {},
   "outputs": [
    {
     "data": {
      "text/plain": [
       "\"\\n\\nConsider a game where a player can score 3 or 5 or 10 points in a move. Given a total score n, find number of distinct combinations to reach the given score.\\n\\nExample 1:\\n\\nInput\\nn = 10\\nOutput\\n2\\nExplanation\\nThere are two ways {5,5} and {10}.\\nExample 2:\\n\\nInput\\nn = 20\\nOutput\\n4\\nExplanation\\nThere are four possible ways. {5,5,5,5}, {3,3,3,3,3,5}, {10,10}, {5,5,10}.\\nYour Task:  \\nYou don't need to read input or print anything. Your task is to complete the function count( ) which takes n as input parameter and returns the answer to the problem.\\n\\nExpected Time Complexity: O(n)\\nExpected Auxiliary Space: O(n)\\n\""
      ]
     },
     "execution_count": 1,
     "metadata": {},
     "output_type": "execute_result"
    }
   ],
   "source": [
    "'''\n",
    "\n",
    "Consider a game where a player can score 3 or 5 or 10 points in a move. Given a total score n, find number of distinct combinations to reach the given score.\n",
    "\n",
    "Example 1:\n",
    "\n",
    "Input\n",
    "n = 10\n",
    "Output\n",
    "2\n",
    "Explanation\n",
    "There are two ways {5,5} and {10}.\n",
    "Example 2:\n",
    "\n",
    "Input\n",
    "n = 20\n",
    "Output\n",
    "4\n",
    "Explanation\n",
    "There are four possible ways. {5,5,5,5}, {3,3,3,3,3,5}, {10,10}, {5,5,10}.\n",
    "Your Task:  \n",
    "You don't need to read input or print anything. Your task is to complete the function count( ) which takes n as input parameter and returns the answer to the problem.\n",
    "\n",
    "Expected Time Complexity: O(n)\n",
    "Expected Auxiliary Space: O(n)\n",
    "'''"
   ]
  },
  {
   "cell_type": "markdown",
   "id": "0e60a84a",
   "metadata": {},
   "source": [
    "## Brute Force Approach"
   ]
  },
  {
   "cell_type": "code",
   "execution_count": 5,
   "id": "7e424d2c",
   "metadata": {},
   "outputs": [
    {
     "data": {
      "text/plain": [
       "'\\nComplexity:\\nTime Complexity: O(2^N), As we are using recursion and try all the possible combinations.\\nSpace Complexity: O(N), As the size of the recursive call stack would be N.\\n'"
      ]
     },
     "execution_count": 5,
     "metadata": {},
     "output_type": "execute_result"
    }
   ],
   "source": [
    "'''\n",
    "Intuition:\n",
    "The idea is to use recursion and find out all the possible distinct combinations to reach the given score.\n",
    "Implementation:\n",
    "Initialize a vector v equal to {3,5,10}.\n",
    "Call the solve function and return it as the answer, lets see what solve function does,\n",
    "If n is equal to 0 then return 1.\n",
    "If i is greater than or equal to 3 or n is less than 0 then return 0.\n",
    "Initialize a variable take in which we take the value at the current index in the vector v, so we call the recursive function for (n-v[i], i) and store this value in the variable take.\n",
    "Initialize a variable take in which we don't take the value at the current index in the vector v, so we call the recursive function for (n, i+1) and store this value in the variable notTake.\n",
    "Return (take+notTake).\n",
    "'''\n",
    "def solve(n, i, v):\n",
    "    if n == 0:\n",
    "        return 1\n",
    "\n",
    "    if i >= 3 or n < 0:\n",
    "        return 0\n",
    "\n",
    "    take = solve(n - v[i], i, v)\n",
    "    not_take = solve(n, i + 1, v)\n",
    "\n",
    "    return take + not_take\n",
    "\n",
    "\n",
    "def count(n):\n",
    "    v = [3, 5, 10]\n",
    "    return solve(n, 0, v)\n",
    "'''\n",
    "Complexity:\n",
    "Time Complexity: O(2^N), As we are using recursion and try all the possible combinations.\n",
    "Space Complexity: O(N), As the size of the recursive call stack would be N.\n",
    "'''"
   ]
  },
  {
   "cell_type": "markdown",
   "id": "68f851bc",
   "metadata": {},
   "source": [
    "## Brute Optimized Approach:"
   ]
  },
  {
   "cell_type": "code",
   "execution_count": 6,
   "id": "2d5485d0",
   "metadata": {},
   "outputs": [
    {
     "data": {
      "text/plain": [
       "'Time Complexity: The time complexity of the given solution is O(n^2), as it uses two nested for loops that each iterate through all possible values of n.\\nSpace Complexity: The space complexity of the solution is O(1), as it only uses a constant amount of space regardless of the input size. This is because the solution only uses a single integer variable ans to store the result, and does not create any additional data structures such as arrays or lists.'"
      ]
     },
     "execution_count": 6,
     "metadata": {},
     "output_type": "execute_result"
    }
   ],
   "source": [
    "\"\"\"\n",
    "Intuition:\n",
    "We can iterate on the number of steps of length 3 and the number of steps of length 5. Then if the remaining number of steps is a factor of 10 then it's a possible combination of steps.\n",
    "Implementation:\n",
    "Initialize a variable ans to 0. This variable will be used to keep track of the number of valid combinations.\n",
    "Use a nested for loop to iterate through all possible combinations of 3s and 5s. The outer loop should iterate through values of i from 0 to n, and the inner loop should iterate through values of j from 0 to n.\n",
    "In the body of the inner loop, calculate the remaining score x as n - 3 * i - 5 * j.\n",
    "If x is non-negative and divisible by 10, increment ans by 1. This indicates that the current combination of 3s and 5s can be completed using 10s to reach the target score n.\n",
    "After the inner loop has been completed, return ans as the result of the count() function.\n",
    "\"\"\"\n",
    "\n",
    "def count(n):\n",
    "    ans = 0\n",
    "    for i in range(n + 1):\n",
    "        for j in range(n + 1):\n",
    "            x = n - 3 * i - 5 * j\n",
    "            if x >= 0 and x % 10 == 0:\n",
    "                ans += 1\n",
    "    return ans\n",
    "\n",
    "\"\"\"Time Complexity: The time complexity of the given solution is O(n^2), as it uses two nested for loops that each iterate through all possible values of n.\n",
    "Space Complexity: The space complexity of the solution is O(1), as it only uses a constant amount of space regardless of the input size. This is because the solution only uses a single integer variable ans to store the result, and does not create any additional data structures such as arrays or lists.\"\"\""
   ]
  },
  {
   "cell_type": "markdown",
   "id": "f6d407a0",
   "metadata": {},
   "source": [
    "Expected Approach"
   ]
  },
  {
   "cell_type": "code",
   "execution_count": 8,
   "id": "95cbfa76",
   "metadata": {},
   "outputs": [
    {
     "data": {
      "text/plain": [
       "'\\nComplexity:\\nTime Complexity: O(n), as the solution involves a single loop through the values of n, and the number of iterations is directly proportional to the size of the input.\\nSpace Complexity: O(n), as it involves the allocation of an array of size n+1 to store the number of solutions for each value.\\n'"
      ]
     },
     "execution_count": 8,
     "metadata": {},
     "output_type": "execute_result"
    }
   ],
   "source": [
    "\"\"\"\n",
    "Expected Approach:\n",
    "Intuition:\n",
    "The solution uses dynamic programming to store the results of intermediate calculations in a table and avoid recomputing them.\n",
    "The solution iterates through all possible values of 3s, 5s, and 10s and updates the table by adding the number of solutions for the previous value.\n",
    "This ensures that the table contains the correct number of solutions for all values up to n, and the final result can be returned as table[n].\n",
    "Implementation:\n",
    "Declare an array table of size n+1 to store the number of solutions for each value.\n",
    "Initialize all values in the table array to 0, except for the base case of table[0] which should be set to 1.\n",
    "Iterate through all possible values of 3s, 5s, and 10s using separate for loops. The loop variables should be initialized to 3, 5, and 10 respectively, and should iterate up to n.\n",
    "In the body of each loop, update the value of table[i] by adding table[i-3], table[i-5], or table[i-10] respectively.\n",
    "Return table[n] as the result of the count() function.\n",
    "Example\n",
    "Input: N=5\n",
    "\n",
    "Initialize table[0] to 1.\n",
    "Final value of table[0]: 1\n",
    "Initialize table[1] and table[2] to 0.\n",
    "Final value of table[1]: 0\n",
    "Final value of table[2]: 0\n",
    "Initialize table[3] to 1.\n",
    "Final value of table[3]: 1\n",
    "Set table[4] to table[4-3], which is equal to table[1].\n",
    "Final value of table[4]: 0\n",
    "Set table[5] to table[5-5] + table[5-3], which is equal to table[0] + table[2].\n",
    "Final value of table[5]: 1\n",
    "final table : [1, 0, 0, 1, 0, 1]\n",
    "\"\"\"\n",
    "\n",
    "class Solution:\n",
    "    def count(self, n: int) -> int:\n",
    "        table = [0] * (n + 1)\n",
    "        table[0] = 1  # If 0 sum is required, the number of ways is 1.\n",
    "        \n",
    "        for i in range(3, n + 1):\n",
    "            table[i] += table[i - 3]  # For every point (3, 5, 10), add the number of ways to reach that sum before adding these points.\n",
    "        for i in range(5, n + 1):\n",
    "            table[i] += table[i - 5]\n",
    "        for i in range(10, n + 1):\n",
    "            table[i] += table[i - 10]\n",
    "        \n",
    "        return table[n]\n",
    "\"\"\"\n",
    "Complexity:\n",
    "Time Complexity: O(n), as the solution involves a single loop through the values of n, and the number of iterations is directly proportional to the size of the input.\n",
    "Space Complexity: O(n), as it involves the allocation of an array of size n+1 to store the number of solutions for each value.\n",
    "\"\"\"\n",
    "\n"
   ]
  },
  {
   "cell_type": "code",
   "execution_count": null,
   "id": "a44df0ac",
   "metadata": {},
   "outputs": [],
   "source": []
  }
 ],
 "metadata": {
  "kernelspec": {
   "display_name": "Python 3 (ipykernel)",
   "language": "python",
   "name": "python3"
  },
  "language_info": {
   "codemirror_mode": {
    "name": "ipython",
    "version": 3
   },
   "file_extension": ".py",
   "mimetype": "text/x-python",
   "name": "python",
   "nbconvert_exporter": "python",
   "pygments_lexer": "ipython3",
   "version": "3.11.4"
  }
 },
 "nbformat": 4,
 "nbformat_minor": 5
}
