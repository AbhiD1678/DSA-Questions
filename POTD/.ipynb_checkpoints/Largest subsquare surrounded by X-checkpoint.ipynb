{
 "cells": [
  {
   "cell_type": "code",
   "execution_count": 2,
   "id": "293759df",
   "metadata": {},
   "outputs": [
    {
     "data": {
      "text/plain": [
       "\"\\nGiven a square matrix a of size n x n, where each cell can be either 'X' or 'O', you need to find the size of the largest square subgrid that is completely surrounded by 'X'. More formally you need to find the largest square within the grid where all its border cells are 'X'.\\n\\nExample 1:\\n\\nInput:\\nn = 2\\na = [[X,X],\\n     [X,X]]\\nOutput:\\n2\\nExplanation:\\nThe largest square submatrix \\nsurrounded by X is the whole \\ninput matrix.\\nExample 2:\\n\\nInput:\\nn = 4\\na = [[X,X,X,O],\\n     [X,O,X,X],\\n     [X,X,X,O],\\n     [X,O,X,X]]\\nOutput:\\n3\\nExplanation:\\nHere,the input represents following \\nmatrix of size 4 x 4\\nX X X O\\nX O X X\\nX X X O\\nX O X X\\nThe square submatrix starting at \\n(0,0) and ending at (2,2) is the \\nlargest submatrix surrounded by X.\\nTherefore, size of that matrix would be 3.\\nYour Task:\\nYou don't need to read input or print anything. Your task is to complete the function largestSubsquare() which takes the integer n and the matrix a as input parameters and returns the size of the largest subsquare surrounded by 'X'.\\n\\nExpected Time Complexity: O(n2)\\nExpected Auxillary Space: O(n2)\\n\\nConstraints:\\n1 <= n <= 1000\\na[i][j] belongs to {'X','O'} \\n\\n\\n\""
      ]
     },
     "execution_count": 2,
     "metadata": {},
     "output_type": "execute_result"
    }
   ],
   "source": [
    "'''\n",
    "Given a square matrix a of size n x n, where each cell can be either 'X' or 'O', you need to find the size of the largest square subgrid that is completely surrounded by 'X'. More formally you need to find the largest square within the grid where all its border cells are 'X'.\n",
    "\n",
    "Example 1:\n",
    "\n",
    "Input:\n",
    "n = 2\n",
    "a = [[X,X],\n",
    "     [X,X]]\n",
    "Output:\n",
    "2\n",
    "Explanation:\n",
    "The largest square submatrix \n",
    "surrounded by X is the whole \n",
    "input matrix.\n",
    "Example 2:\n",
    "\n",
    "Input:\n",
    "n = 4\n",
    "a = [[X,X,X,O],\n",
    "     [X,O,X,X],\n",
    "     [X,X,X,O],\n",
    "     [X,O,X,X]]\n",
    "Output:\n",
    "3\n",
    "Explanation:\n",
    "Here,the input represents following \n",
    "matrix of size 4 x 4\n",
    "X X X O\n",
    "X O X X\n",
    "X X X O\n",
    "X O X X\n",
    "The square submatrix starting at \n",
    "(0,0) and ending at (2,2) is the \n",
    "largest submatrix surrounded by X.\n",
    "Therefore, size of that matrix would be 3.\n",
    "Your Task:\n",
    "You don't need to read input or print anything. Your task is to complete the function largestSubsquare() which takes the integer n and the matrix a as input parameters and returns the size of the largest subsquare surrounded by 'X'.\n",
    "\n",
    "Expected Time Complexity: O(n2)\n",
    "Expected Auxillary Space: O(n2)\n",
    "\n",
    "Constraints:\n",
    "1 <= n <= 1000\n",
    "a[i][j] belongs to {'X','O'} \n",
    "\n",
    "\n",
    "'''"
   ]
  },
  {
   "cell_type": "code",
   "execution_count": 4,
   "id": "cdc7bebd",
   "metadata": {},
   "outputs": [
    {
     "data": {
      "text/plain": [
       "'\\nTime complexity of this solution is O(N^2), where N is the size of the input matrix.\\n\\nSpace Complexity: The space complexity is also O(N^2) due to the dynamic programming array dp\\n'"
      ]
     },
     "execution_count": 4,
     "metadata": {},
     "output_type": "execute_result"
    }
   ],
   "source": [
    "'''\n",
    "Brute Force Approach\n",
    "Intuition\n",
    "The key idea of the provided solution is to iteratively compute the lengths of consecutive 'X's horizontally and vertically for each cell in the input matrix using dynamic programming. By maintaining these lengths in the dp array, we can efficiently determine the size of the largest subsquare surrounded by 'X's. Then, we traverse the matrix to find the maximum subsquare size, considering each cell as the bottom right corner. We decrement the subsquare size from the minimum of horizontal and vertical lengths until we find the largest subsquare with 'X's on all sides, updating the maximum subsquare size accordingly. Finally, we return the maximum subsquare size found.\n",
    "\n",
    "Implementation\n",
    "Initialization: Initialize a 3D array dp to store two pieces of information for each cell: the length of consecutive 'X's horizontally, denoted as dp[i][j][0], and the length of consecutive 'X's vertically, denoted as dp[i][j][1].\n",
    "Dynamic Programming: Traverse the input matrix A to fill the dp array. For each cell (i, j) containing 'X', update dp[i+1][j+1][0] to represent the length of consecutive 'X's horizontally up to this cell and dp[i+1][j+1][1] to represent the length of consecutive 'X's vertically up to this cell.\n",
    "Find Maximum Subsquare: Traverse the dp array from bottom right to top left. For each cell (i, j), find the minimum of dp[i][j][0] and dp[i][j][1], denoted as curMin. Then, starting from curMin, iteratively decrement curMin until it's greater than the current maximum subsquare size maxi. While decrementing curMin, check if a subsquare of size curMin can be formed with 'X's on both the horizontal and vertical sides. If so, update maxi accordingly.\n",
    "Return Maximum Subsquare Size: After completing the traversal, return the maximum subsquare size maxi.\n",
    "'''\n",
    "class Solution:\n",
    "    def largestSubsquare(self,N,A):\n",
    "        #code here\n",
    "        ROWS,COLS = len(A),len(A[0])\n",
    "        dp = [[[0,0] for i in range(ROWS+1)] for j in range(COLS+1)]\n",
    "        \n",
    "        for i in range(ROWS):\n",
    "            for j in range(COLS):\n",
    "                if A[i][j] == 'X':\n",
    "                    dp[i+1][j+1][0] = dp[i][j+1][0] + 1\n",
    "                    dp[i+1][j+1][1] = dp[i+1][j][1] + 1\n",
    "                    \n",
    "                    \n",
    "        maxi = 0\n",
    "        \n",
    "        for i in range(ROWS,0,-1):\n",
    "            for j in range(COLS,0,-1):\n",
    "                curMin = min(dp[i][j][0],dp[i][j][1])\n",
    "                while curMin > maxi:\n",
    "                    if dp[i-curMin+1][j][1] >= curMin and dp[i][j-curMin+1][0] >= curMin:\n",
    "                        maxi = curMin\n",
    "                        \n",
    "                    else:\n",
    "                        curMin -= 1\n",
    "                        \n",
    "        return maxi\n",
    "    \n",
    "'''\n",
    "Time complexity of this solution is O(N^2), where N is the size of the input matrix.\n",
    "\n",
    "Space Complexity: The space complexity is also O(N^2) due to the dynamic programming array dp\n",
    "'''"
   ]
  },
  {
   "cell_type": "code",
   "execution_count": 5,
   "id": "6a1e46dc",
   "metadata": {},
   "outputs": [
    {
     "data": {
      "text/plain": [
       "'\\nTime complexity of this approach is O(n^2), where n is the size of the matrix, as we iterate over the matrix twice.\\n\\nSpace complexity is also O(n^2) to store the auxiliary matrices.\\n'"
      ]
     },
     "execution_count": 5,
     "metadata": {},
     "output_type": "execute_result"
    }
   ],
   "source": [
    "'''\n",
    "Expected Approach\n",
    "Intuition\n",
    "The key idea behind this approach is to maintain two auxiliary matrices (by_rows and by_cols) to store the counts of consecutive 'X' cells horizontally and vertically, respectively. Then, we iterate over each cell from bottom-right to top-left and calculate the maximum size of the subsquare surrounded by 'X' for each cell by taking the minimum of counts from both by_rows and by_cols. We update the result with the maximum size found\n",
    "\n",
    "Implementation\n",
    "Create two auxiliary matrices by_rows and by_cols, each of size n x n, initialized with zeros.\n",
    "Iterate over the grid horizontally to fill the by_rows matrix. For each cell (i, j), if the cell contains 'X', increment the count of consecutive 'X' horizontally by one. Otherwise, reset the count to zero.\n",
    "Repeat step 2 vertically to fill the by_cols matrix.\n",
    "Initialize a variable res to store the maximum subsquare size, initially set to zero.\n",
    "Iterate over each cell from bottom-right to top-left. For each cell (i, j), calculate the maximum possible subsquare size with cell (i, j) as its bottom-right corner. Take the minimum of the counts from by_rows and by_cols at cell (i, j) as the side length of the subsquare. Update res with the maximum side length found.\n",
    "Return the value of res as the size of the largest subsquare surrounded by 'X'\n",
    "'''\n",
    "class Solution:\n",
    "    def largestSubsquare(self, n, a):\n",
    "        by_rows = [[0] * n for _ in range(n)]\n",
    "        by_cols = [[0] * n for _ in range(n)]\n",
    "\n",
    "        # Calculate the number of 'X' horizontally for each row\n",
    "        for i in range(n):\n",
    "            by_rows[i][0] = 1 if a[i][0] == 'X' else 0\n",
    "            for j in range(1, n):\n",
    "                if a[i][j] == 'X':\n",
    "                    by_rows[i][j] = by_rows[i][j - 1] + 1\n",
    "                else:\n",
    "                    by_rows[i][j] = 0\n",
    "\n",
    "        # Calculate the number of 'X' vertically for each column\n",
    "        for j in range(n):\n",
    "            by_cols[0][j] = 1 if a[0][j] == 'X' else 0\n",
    "            for i in range(1, n):\n",
    "                if a[i][j] == 'X':\n",
    "                    by_cols[i][j] = by_cols[i - 1][j] + 1\n",
    "                else:\n",
    "                    by_cols[i][j] = 0\n",
    "\n",
    "        res = 0\n",
    "\n",
    "        # Iterate over each cell from bottom right to top left\n",
    "        for i in range(n - 1, res - 1, -1):\n",
    "            for j in range(n - 1, res - 1, -1):\n",
    "                side = min(by_rows[i][j], by_cols[i][j])\n",
    "                while side > res:\n",
    "                    # Check if a subsquare of size 'side' can be formed\n",
    "                    if by_rows[i - side + 1][j] >= side and by_cols[i][j - side + 1] >= side:\n",
    "                        res = side\n",
    "                    else:\n",
    "                        side -= 1\n",
    "        return res\n",
    "    \n",
    "'''\n",
    "Time complexity of this approach is O(n^2), where n is the size of the matrix, as we iterate over the matrix twice.\n",
    "\n",
    "Space complexity is also O(n^2) to store the auxiliary matrices.\n",
    "'''"
   ]
  },
  {
   "cell_type": "code",
   "execution_count": null,
   "id": "60050134",
   "metadata": {},
   "outputs": [],
   "source": []
  }
 ],
 "metadata": {
  "kernelspec": {
   "display_name": "Python 3 (ipykernel)",
   "language": "python",
   "name": "python3"
  },
  "language_info": {
   "codemirror_mode": {
    "name": "ipython",
    "version": 3
   },
   "file_extension": ".py",
   "mimetype": "text/x-python",
   "name": "python",
   "nbconvert_exporter": "python",
   "pygments_lexer": "ipython3",
   "version": "3.11.4"
  }
 },
 "nbformat": 4,
 "nbformat_minor": 5
}
