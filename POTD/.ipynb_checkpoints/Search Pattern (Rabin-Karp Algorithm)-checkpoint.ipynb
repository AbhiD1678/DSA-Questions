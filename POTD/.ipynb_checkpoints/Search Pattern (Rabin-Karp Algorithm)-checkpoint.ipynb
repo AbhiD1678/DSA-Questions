{
 "cells": [
  {
   "cell_type": "code",
   "execution_count": 2,
   "id": "abf91361",
   "metadata": {},
   "outputs": [
    {
     "data": {
      "text/plain": [
       "'\\nGiven two strings, one is a text string and other is a pattern string. The task is to print the indexes of all the occurences of pattern string in the text string. For printing, Starting Index of a string should be taken as 1. The strings will only contain lowercase English alphabets (\\'a\\' to \\'z\\').\\n\\nExample 1:\\n\\nInput: \\ntext = \"birthdayboy\"\\npattern = \"birth\"\\nOutput: \\n[1]\\nExplanation: \\nThe string \"birth\" occurs at index 1 in text.\\nExample 2:\\n\\nInput:\\ntext = \"geeksforgeeks\"\\npattern = \"geek\"\\nOutput: \\n[1, 9]\\nExplanation: \\nThe string \"geek\" occurs twice in text, one starts are index 1 and the other at index 9.\\nYour Task:\\nYou don\\'t need to read input or print anything. Your task is to complete the function search() which takes the string text and the string pattern as input and returns an array denoting the start indices (1-based) of substring pattern in the string text. \\n\\nExpected Time Complexity: O(|text| + |pattern|).\\nExpected Auxiliary Space: O(1).\\n\\nConstraints:\\n1<=|text|<=5*105\\n1<=|pattern|<=|text|\\n'"
      ]
     },
     "execution_count": 2,
     "metadata": {},
     "output_type": "execute_result"
    }
   ],
   "source": [
    "\"\"\"\n",
    "Given two strings, one is a text string and other is a pattern string. The task is to print the indexes of all the occurences of pattern string in the text string. For printing, Starting Index of a string should be taken as 1. The strings will only contain lowercase English alphabets ('a' to 'z').\n",
    "\n",
    "Example 1:\n",
    "\n",
    "Input: \n",
    "text = \"birthdayboy\"\n",
    "pattern = \"birth\"\n",
    "Output: \n",
    "[1]\n",
    "Explanation: \n",
    "The string \"birth\" occurs at index 1 in text.\n",
    "Example 2:\n",
    "\n",
    "Input:\n",
    "text = \"geeksforgeeks\"\n",
    "pattern = \"geek\"\n",
    "Output: \n",
    "[1, 9]\n",
    "Explanation: \n",
    "The string \"geek\" occurs twice in text, one starts are index 1 and the other at index 9.\n",
    "Your Task:\n",
    "You don't need to read input or print anything. Your task is to complete the function search() which takes the string text and the string pattern as input and returns an array denoting the start indices (1-based) of substring pattern in the string text. \n",
    "\n",
    "Expected Time Complexity: O(|text| + |pattern|).\n",
    "Expected Auxiliary Space: O(1).\n",
    "\n",
    "Constraints:\n",
    "1<=|text|<=5*105\n",
    "1<=|pattern|<=|text|\n",
    "\"\"\""
   ]
  },
  {
   "cell_type": "code",
   "execution_count": 3,
   "id": "cd9c1fbd",
   "metadata": {},
   "outputs": [],
   "source": [
    "class Solution:\n",
    "    def search(self, pattern, text):\n",
    "        n,m=len(text),len(pattern)\n",
    "        if n<m:\n",
    "            return -1\n",
    "        else:\n",
    "            a=[]\n",
    "            for i in range(0,n):\n",
    "                if text[i:i+m]==pattern:\n",
    "                    a+=[1+i]\n",
    "            return a"
   ]
  },
  {
   "cell_type": "code",
   "execution_count": null,
   "id": "5956f9da",
   "metadata": {},
   "outputs": [],
   "source": []
  }
 ],
 "metadata": {
  "kernelspec": {
   "display_name": "Python 3 (ipykernel)",
   "language": "python",
   "name": "python3"
  },
  "language_info": {
   "codemirror_mode": {
    "name": "ipython",
    "version": 3
   },
   "file_extension": ".py",
   "mimetype": "text/x-python",
   "name": "python",
   "nbconvert_exporter": "python",
   "pygments_lexer": "ipython3",
   "version": "3.11.4"
  }
 },
 "nbformat": 4,
 "nbformat_minor": 5
}
