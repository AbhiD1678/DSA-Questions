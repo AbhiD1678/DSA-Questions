{
 "cells": [
  {
   "cell_type": "raw",
   "id": "9b44e681-6fc8-46bf-a6c9-cab4994ec7d1",
   "metadata": {},
   "source": [
    "Given a BST with n (n>=2) nodes, find the kth common ancestor of nodes x and y in the given tree. Return -1 if kth ancestor does not exist.\n",
    "\n",
    "Nodes x and y will always be present in the input of a BST, and x != y.\n",
    "\n",
    "Example 1:\n",
    "\n",
    "Input: \n",
    "Input tree\n",
    "\n",
    "k = 2, x = 40, y = 60 \n",
    "Output:\n",
    "30\n",
    "Explanation:\n",
    "Their 2nd common ancestor is 30.\n",
    "Example 2:\n",
    "\n",
    "Input: \n",
    "Input tree\n",
    "\n",
    "k = 2, x = 40, y = 60\n",
    "Output:\n",
    "-1\n",
    "Explanation:\n",
    "LCA of 40 and 60 is 50, which is root itself. There does not exists 2nd common ancestor in this case.\n",
    "Your task :\n",
    "You don't have to read input or print anything. Your task is to complete the function kthCommonAncestor() that takes the root of the tree, k, x and y as input and returns the kth common ancestor of x and y.\n",
    " \n",
    "Expected Time Complexity: O(Height of the Tree)\n",
    "Expected Space Complexity: O(Height of the Tree)\n",
    " \n",
    "Your Task :\n",
    "1 <= n, k <= 105\n",
    "1 <= node->data, x, y <= 109\n"
   ]
  },
  {
   "cell_type": "code",
   "execution_count": null,
   "id": "3d0be150-795c-4f75-bcfa-1a891e63ca2a",
   "metadata": {},
   "outputs": [],
   "source": [
    "#User function Template for python3\n",
    "\n",
    "'''\n",
    "class Node:\n",
    "    def __init__(self, data):\n",
    "        self.data = data\n",
    "        self.left = None\n",
    "        self.right = None\n",
    "'''\n",
    "\n",
    "class Solution:\n",
    "    def kthCommonAncestor(self, root, k, x, y):\n",
    "        # Code here\n",
    "        l=[]\n",
    "        while True:\n",
    "            l.append(root.data)\n",
    "            if root.data< x and root.data <y:\n",
    "                root=root.right\n",
    "            elif root.data >x and root.data>y:\n",
    "                root=root.left\n",
    "            else:\n",
    "                break\n",
    "        return -1 if len(l)<k else l[-k]\n",
    "\n",
    "\n"
   ]
  }
 ],
 "metadata": {
  "kernelspec": {
   "display_name": "Python 3 (ipykernel)",
   "language": "python",
   "name": "python3"
  },
  "language_info": {
   "codemirror_mode": {
    "name": "ipython",
    "version": 3
   },
   "file_extension": ".py",
   "mimetype": "text/x-python",
   "name": "python",
   "nbconvert_exporter": "python",
   "pygments_lexer": "ipython3",
   "version": "3.11.7"
  }
 },
 "nbformat": 4,
 "nbformat_minor": 5
}
