{
 "cells": [
  {
   "cell_type": "raw",
   "id": "8136e769",
   "metadata": {},
   "source": [
    "Given a matrix mat[][] with r rows and c columns, where some cells are landmines (marked as 0) and others are safe to traverse. Your task is to find the shortest safe route from any cell in the leftmost column to any cell in the rightmost column of the mat. You cannot move diagonally, and you must avoid both the landmines and their adjacent cells (up, down, left, right), as they are also unsafe.\n",
    "\n",
    "Example 1:\n",
    "\n",
    "Input:\n",
    "mat = [1, 0, 1, 1, 1],\n",
    "      [1, 1, 1, 1, 1],\n",
    "      [1, 1, 1, 1, 1],\n",
    "      [1, 1, 1, 0, 1],\n",
    "      [1, 1, 1, 1, 0]\n",
    "Output: \n",
    "6\n",
    "Explanation: \n",
    "We can see that length of shortest\n",
    "safe route is 6\n",
    "[1 0 1 1 1]\n",
    "[1 1 1 1 1] \n",
    "[1 1 1 1 1]\n",
    "[1 1 1 0 1] \n",
    "[1 1 1 1 0]\n",
    "Example 2:\n",
    "\n",
    "Input:\n",
    "mat = [1, 1, 1, 1, 1],\n",
    "      [1, 1, 0, 1, 1],\n",
    "      [1, 1, 1, 1, 1]\n",
    "Output: \n",
    "-1\n",
    "Explanation: There is no possible path from\n",
    "first column to last column.\n",
    "Your Task:\n",
    "You don't need to read input or print anything. Your task is to complete the function findShortestPath() which takes matrix as input parameter and return an integer denoting the shortest safe path form any cell in leftmost column to any cell in rightmost column of mat. If there is no possible path, return -1. \n",
    "\n",
    "Expected Time Complexity: O(r * c)\n",
    "Expected Auxiliary Space: O(r * c)\n",
    "\n",
    "Constraints:\n",
    "1 <= r, c <= 103\n",
    "0 <= mat[][] <= 1"
   ]
  },
  {
   "cell_type": "code",
   "execution_count": 1,
   "id": "4fae993f",
   "metadata": {},
   "outputs": [],
   "source": [
    "from typing import List\n",
    "from collections import deque\n",
    "\n",
    "class Solution:\n",
    "    def findShortestPath(self, mat: List[List[int]]) -> int:\n",
    "        if not mat or not mat[0]:\n",
    "            return -1\n",
    "        \n",
    "        n, m = len(mat), len(mat[0])\n",
    "        directions = [(-1, 0), (0, 1), (1, 0), (0, -1)]  \n",
    "        def is_blocked(x, y):\n",
    "            if mat[x][y] == 0:\n",
    "                return True\n",
    "            for dx, dy in directions:\n",
    "                nx, ny = x + dx, y + dy\n",
    "                if 0 <= nx < n and 0 <= ny < m and mat[nx][ny] == 0:\n",
    "                    return True\n",
    "            return False\n",
    "        \n",
    "        queue = deque([(i, 0, 1) for i in range(n) if not is_blocked(i, 0)])\n",
    "        vis = [[False for _ in range(m)] for _ in range(n)]  # Visited matrix\n",
    "        \n",
    "        while queue:\n",
    "            x, y, dist = queue.popleft()\n",
    "            if y == m - 1:\n",
    "                return dist\n",
    "            for dx, dy in directions:\n",
    "                nx, ny = x + dx, y + dy\n",
    "                if 0 <= nx < n and 0 <= ny < m and not vis[nx][ny] and not is_blocked(nx, ny):\n",
    "                    vis[nx][ny] = True  \n",
    "                    queue.append((nx, ny, dist + 1))\n",
    "        \n",
    "        return -1  "
   ]
  },
  {
   "cell_type": "raw",
   "id": "52cfe5d8",
   "metadata": {},
   "source": [
    "Intuition\n",
    "We can use BFS to explore the grid, considering the restrictions related to landmines, and calculate the shortest path from the first column to the last column.\n",
    "\n",
    "Implementation\n",
    "Deifne two integer arrays, rowNum and colNum, to represent the four possible directions: up, left, right, and down. These arrays are used to navigate the grid.\n",
    "Initialize a queue q for BFS.\n",
    "Initialize a 2D array d of dimensions n x m, where n is the number of rows and m is the number of columns in the input matrix mat. This array will store the minimum distance from each cell to the leftmost column. Initially, all cells are set to a very large value (1e9) to represent an unvisited state.\n",
    "Define two lambda functions for convenience:\n",
    "isValid(i, j): This function checks if the cell at coordinates (i, j) is within the bounds of the grid (i.e., not out of bounds).\n",
    "check(i, j): This function checks if the cell at coordinates (i, j) is valid for starting a path. It verifies that the cell is within bounds and that all adjacent cells do not contain obstacles.\n",
    "Populate the queue q by checking all cells in the rightmost column (column m-1) using the check function. If a cell is valid for starting a path (i.e., it's not an obstacle and has valid neighbors), it's added to the queue with its coordinates (i, j) and an initial distance of 1. This distance represents moving from the rightmost column to the current cell.\n",
    "Begin a while loop that continues until the queue q is empty.\n",
    "Inside the loop, it dequeues a cell's coordinates (x, y) and its distance dis.\n",
    "If the stored distance in d[x][y] is greater than the current distance dis, the code updates d[x][y] with the current distance.\n",
    "It then explores the four possible directions (up, left, right, down) using the rowNum and colNum arrays. For each valid neighbor cell (i, j), it checks if this cell is also valid for starting a path (using the check function) and adds it to the queue with an increased distance (dis + 1).\n",
    "After the BFS traversal is complete, the code finds the minimum distance in the leftmost column (column 0) by iterating through all rows. This distance represents the minimum number of steps needed to reach the leftmost column while avoiding obstacles.\n",
    "If a valid path exists, the code returns the minimum distance found. If no valid path exists, it returns -1.\n"
   ]
  },
  {
   "cell_type": "raw",
   "id": "e099bf6f",
   "metadata": {},
   "source": [
    "Complexity\n",
    "Time Complexity :O(n*m) , as we are doing BFS search using a queue. In the worst case, each cell of the grid may be visited and processed, which results in a time complexity of O(n * m).\n",
    "Space Complexity :O(n*m) , As we are using 2d array of size n*m and also queue is used for BFS traversal."
   ]
  },
  {
   "cell_type": "code",
   "execution_count": null,
   "id": "154759ef",
   "metadata": {},
   "outputs": [],
   "source": []
  }
 ],
 "metadata": {
  "kernelspec": {
   "display_name": "Python 3 (ipykernel)",
   "language": "python",
   "name": "python3"
  },
  "language_info": {
   "codemirror_mode": {
    "name": "ipython",
    "version": 3
   },
   "file_extension": ".py",
   "mimetype": "text/x-python",
   "name": "python",
   "nbconvert_exporter": "python",
   "pygments_lexer": "ipython3",
   "version": "3.11.4"
  }
 },
 "nbformat": 4,
 "nbformat_minor": 5
}
