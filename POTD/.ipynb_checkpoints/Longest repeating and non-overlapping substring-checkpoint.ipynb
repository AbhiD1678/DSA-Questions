{
 "cells": [
  {
   "cell_type": "code",
   "execution_count": 1,
   "id": "220f4aea",
   "metadata": {},
   "outputs": [
    {
     "data": {
      "text/plain": [
       "'\\nGiven a string s of length n, find the longest repeating non-overlapping substring in it. In other words find 2 identical substrings of maximum length which do not overlap. Return the longest non-overlapping substring. Return \"-1\" if no such string exists.\\n\\nNote: Multiple Answers are possible but you have to return the substring whose first occurrence is earlier.\\n\\nFor Example: \"abhihiab\", here both \"ab\" and \"hi\" are possible answers. But you will have to return \"ab\" because it\\'s first occurrence appears before the first occurrence of \"hi\".\\n\\nExample 1:\\n\\nInput:\\nn = 9\\ns = \"acdcdacdc\"\\nOutput:\\n\"acdc\"\\nExplanation:\\nThe string \"acdc\" is the longest Substring of s which is repeating but not overlapping.\\nExample 2:\\n\\nInput:\\nn = 7\\ns = \"heheheh\"\\nOutput:\\n\"heh\"\\nExplanation:\\nThe string \"heh\" is the longest Substring of s which is repeating but not overlapping.\\nYour Task:\\nYou don\\'t need to read input or print anything. Your task is to complete the function longestSubstring() which takes an Integer n and a string s as input and returns the answer.\\n\\nExpected Time Complexity: O(n2)\\nExpected Auxiliary Space: O(n2)\\n'"
      ]
     },
     "execution_count": 1,
     "metadata": {},
     "output_type": "execute_result"
    }
   ],
   "source": [
    "'''\n",
    "Given a string s of length n, find the longest repeating non-overlapping substring in it. In other words find 2 identical substrings of maximum length which do not overlap. Return the longest non-overlapping substring. Return \"-1\" if no such string exists.\n",
    "\n",
    "Note: Multiple Answers are possible but you have to return the substring whose first occurrence is earlier.\n",
    "\n",
    "For Example: \"abhihiab\", here both \"ab\" and \"hi\" are possible answers. But you will have to return \"ab\" because it's first occurrence appears before the first occurrence of \"hi\".\n",
    "\n",
    "Example 1:\n",
    "\n",
    "Input:\n",
    "n = 9\n",
    "s = \"acdcdacdc\"\n",
    "Output:\n",
    "\"acdc\"\n",
    "Explanation:\n",
    "The string \"acdc\" is the longest Substring of s which is repeating but not overlapping.\n",
    "Example 2:\n",
    "\n",
    "Input:\n",
    "n = 7\n",
    "s = \"heheheh\"\n",
    "Output:\n",
    "\"heh\"\n",
    "Explanation:\n",
    "The string \"heh\" is the longest Substring of s which is repeating but not overlapping.\n",
    "Your Task:\n",
    "You don't need to read input or print anything. Your task is to complete the function longestSubstring() which takes an Integer n and a string s as input and returns the answer.\n",
    "\n",
    "Expected Time Complexity: O(n2)\n",
    "Expected Auxiliary Space: O(n2)\n",
    "'''"
   ]
  },
  {
   "cell_type": "code",
   "execution_count": 2,
   "id": "09dab93b",
   "metadata": {},
   "outputs": [],
   "source": [
    "class Solution:\n",
    "    def longestSubstring(self, s , n):\n",
    "        # code here \n",
    "\n",
    "        res,maxi = \"\",-1\n",
    "        d = {}\n",
    "        for i in range(n):\n",
    "            x = \"\"\n",
    "            for j in range(i,n):\n",
    "                x += s[j]\n",
    "                if x in s[j+1:]:\n",
    "                    if maxi<len(x):\n",
    "                        maxi = len(x)\n",
    "                        res = x\n",
    "                else:\n",
    "                    break\n",
    "        return res if res !=\"\" else \"-1\""
   ]
  },
  {
   "cell_type": "code",
   "execution_count": 3,
   "id": "6ba476f8",
   "metadata": {},
   "outputs": [],
   "source": [
    "'''\n",
    "Expected Approach:\n",
    "Intuition:\n",
    "The task is to find the longest non-overlapping repeating substring in a given string. The optimized approach employs dynamic programming to efficiently determine the length and ending positions of the repeating substrings\n",
    "\n",
    "Implementation:\n",
    "Initialize LCSRe table:\n",
    "Initialize a 2D array LCSRe of size (N+1) x (N+1) to store lengths of common substrings.\n",
    "Initialize result variables: res for the final substring, res_length for its length, and index for the ending position.\n",
    "Build the LCSRe table:\n",
    "Iterate through the string using two nested loops:\n",
    "The outer loop represents the ending position of the first substring (i).\n",
    "The inner loop represents the ending position of the second substring (j)\n",
    "Check if characters at positions (i-1) and (j-1) are equal.\n",
    "If yes, and the length of the previous common substring is less than (j - i), update the LCSRe table.\n",
    "Update result variables if a longer repeating substring is found.\n",
    "Build the final result:\n",
    "If res_length is greater than 0, iterate from (index - res_length + 1) to index in the input string and append each character to the result string `res`.\n",
    "If the result string is still empty, set it to \"-1\".\n",
    "Return the final result string res.\n",
    "'''\n",
    "\n",
    "class Solution:\n",
    "\n",
    "    # Function to find the longest substring with at most N distinct characters.\n",
    "    def longestSubstring(self, S , N):\n",
    "        # Creating a 2D array dp to store the longest substring length\n",
    "        dp=[[0]*(N+1) for i in range(N+1)]\n",
    "        # Initializing variables maxi and start to track the maximum length and starting index of the substring\n",
    "        maxi=0\n",
    "        start=0\n",
    "        # Looping through the string to fill the dp array\n",
    "        for i in range(0,N):\n",
    "            for j in range(i+1,N):\n",
    "                # Checking if the current characters are equal and the distance between them is greater than the current longest substring length\n",
    "                if S[i]==S[j] and j-i>dp[i][j]:\n",
    "                    # Increasing the length of the substring by 1 and updating the dp array\n",
    "                    dp[i+1][j+1]=1+dp[i][j]\n",
    "                    # Updating the maximum length and starting index if the current length is larger\n",
    "                    if dp[i+1][j+1]>maxi:\n",
    "                        start=j\n",
    "                        maxi=dp[i+1][j+1]\n",
    "       \n",
    "        # Checking if the resulting substring is empty and returning -1 if true\n",
    "        if S[start-maxi+1:start+1]==\"\":\n",
    "            return -1\n",
    "        # Returning the longest substring\n",
    "        return S[start-maxi+1:start+1]"
   ]
  },
  {
   "cell_type": "code",
   "execution_count": null,
   "id": "907380ea",
   "metadata": {},
   "outputs": [],
   "source": []
  }
 ],
 "metadata": {
  "kernelspec": {
   "display_name": "Python 3 (ipykernel)",
   "language": "python",
   "name": "python3"
  },
  "language_info": {
   "codemirror_mode": {
    "name": "ipython",
    "version": 3
   },
   "file_extension": ".py",
   "mimetype": "text/x-python",
   "name": "python",
   "nbconvert_exporter": "python",
   "pygments_lexer": "ipython3",
   "version": "3.11.4"
  }
 },
 "nbformat": 4,
 "nbformat_minor": 5
}
