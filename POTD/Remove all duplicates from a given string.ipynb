{
 "cells": [
  {
   "cell_type": "code",
   "execution_count": 1,
   "id": "0c1cdc53",
   "metadata": {},
   "outputs": [
    {
     "data": {
      "text/plain": [
       "'\\nGiven a string str which may contains lowercase and uppercase characters. The task is to remove all duplicate characters from the string and find the resultant string. The order of remaining characters in the output should be same as in the original string.\\n\\nExample 1:\\n\\nInput:\\nstr = \"geEksforGEeks\"\\nOutput: \\n\"geEksforG\"\\nExplanation: \\nAfter removing duplicate characters such as E, e, k, s, we have string as \"geEksforG\".\\nExample 2:\\n\\nInput:\\nstr = \"HaPpyNewYear\"\\nOutput: \\n\"HaPpyNewYr\"\\nExplanation: \\nAfter removing duplicate characters such as e, a, we have string as \"HaPpyNewYr\".\\nYour Task:\\nComplete the function removeDuplicates() which takes a string str, as input parameters and returns a string denoting the answer. You don\\'t have to print answer or take inputs.\\n\\nExpected Time Complexity: O(N)\\nExpected Auxiliary Space: O(N)\\n\\nConstraints:\\n1 ≤ N ≤ 105\\nString contains uppercase and lowercase english letters.\\n'"
      ]
     },
     "execution_count": 1,
     "metadata": {},
     "output_type": "execute_result"
    }
   ],
   "source": [
    "'''\n",
    "Given a string str which may contains lowercase and uppercase characters. The task is to remove all duplicate characters from the string and find the resultant string. The order of remaining characters in the output should be same as in the original string.\n",
    "\n",
    "Example 1:\n",
    "\n",
    "Input:\n",
    "str = \"geEksforGEeks\"\n",
    "Output: \n",
    "\"geEksforG\"\n",
    "Explanation: \n",
    "After removing duplicate characters such as E, e, k, s, we have string as \"geEksforG\".\n",
    "Example 2:\n",
    "\n",
    "Input:\n",
    "str = \"HaPpyNewYear\"\n",
    "Output: \n",
    "\"HaPpyNewYr\"\n",
    "Explanation: \n",
    "After removing duplicate characters such as e, a, we have string as \"HaPpyNewYr\".\n",
    "Your Task:\n",
    "Complete the function removeDuplicates() which takes a string str, as input parameters and returns a string denoting the answer. You don't have to print answer or take inputs.\n",
    "\n",
    "Expected Time Complexity: O(N)\n",
    "Expected Auxiliary Space: O(N)\n",
    "\n",
    "Constraints:\n",
    "1 ≤ N ≤ 105\n",
    "String contains uppercase and lowercase english letters.\n",
    "'''"
   ]
  },
  {
   "cell_type": "code",
   "execution_count": 6,
   "id": "f78584e8",
   "metadata": {},
   "outputs": [
    {
     "data": {
      "text/plain": [
       "'\\nIntuition\\nUse a set to keep track of characters encountered so far. Traverse the string and keep appending non-duplicate characters to the output string.\\n\\nImplementation\\nInitialize an empty set.\\nTraverse the string\\nIf the character is not in the set, append it to the output string and add it to the set.\\nReturn the output string.\\n\\n    '"
      ]
     },
     "execution_count": 6,
     "metadata": {},
     "output_type": "execute_result"
    }
   ],
   "source": [
    "class Solution:\n",
    "\n",
    "\t\n",
    "\tdef removeDuplicates(self,str):\n",
    "\t    # code here\n",
    "\t    sol = \"\"\n",
    "\t    for s in str:\n",
    "\t        if s not in sol:\n",
    "\t            sol += s\n",
    "\t    return sol\n",
    "    \n",
    "'''\n",
    "Intuition\n",
    "Use a set to keep track of characters encountered so far. Traverse the string and keep appending non-duplicate characters to the output string.\n",
    "\n",
    "Implementation\n",
    "Initialize an empty set.\n",
    "Traverse the string\n",
    "If the character is not in the set, append it to the output string and add it to the set.\n",
    "Return the output string.\n",
    "\n",
    "    '''"
   ]
  },
  {
   "cell_type": "code",
   "execution_count": 13,
   "id": "c692796a",
   "metadata": {},
   "outputs": [
    {
     "data": {
      "text/plain": [
       "'Complexity\\nTime Complexity: O(N^2), where N is the length of the input string due to erasing elements which causes shifting of subsequent characters.\\nSpace Complexity: O(1) for manipulating the string in-place.'"
      ]
     },
     "execution_count": 13,
     "metadata": {},
     "output_type": "execute_result"
    }
   ],
   "source": [
    "'''\n",
    "Brute Force Approach\n",
    "Intuition\n",
    "Iterate through the string and remove duplicate characters by manipulating the string directly.\n",
    "\n",
    "Implementation\n",
    "For each character at index i (current), the inner loop (for j) checks subsequent characters starting from index i + 1.\n",
    "If a character at index j is the same as the current character, it indicates a duplicate.\n",
    "The function str.erase(j, 1) removes the duplicate character at index j from the string.\n",
    "After removal, the inner loop decrements j by one (--j) to adjust the index due to the removal of a character. This ensures that the loop continues from the correct position in the string.\n",
    "After completing the removal process, the function returns the modified string with duplicates removed.\n",
    "'''\n",
    "class Solution:\n",
    "    def removeDuplicates(self,s):\n",
    "        s_list = list(s)\n",
    "        i = 0\n",
    "        while i < len(s_list):\n",
    "            current = s_list[i]\n",
    "            j = i + 1\n",
    "            while j < len(s_list):\n",
    "                if s_list[j] == current:\n",
    "                    del s_list[j]\n",
    "                else:\n",
    "                    j += 1\n",
    "            i += 1\n",
    "        return ''.join(s_list)\n",
    "\n",
    "'''Complexity\n",
    "Time Complexity: O(N^2), where N is the length of the input string due to erasing elements which causes shifting of subsequent characters.\n",
    "Space Complexity: O(1) for manipulating the string in-place.'''"
   ]
  },
  {
   "cell_type": "code",
   "execution_count": 14,
   "id": "6e24e204",
   "metadata": {},
   "outputs": [
    {
     "data": {
      "text/plain": [
       "'    \\nComplexity\\nTime Complexity: O(N), where N is the length of the input string.\\nSpace Complexity: O(N) used to store the result.'"
      ]
     },
     "execution_count": 14,
     "metadata": {},
     "output_type": "execute_result"
    }
   ],
   "source": [
    "'''\n",
    "Expected Approach\n",
    "Intuition\n",
    "Utilize an array of boolean values indexed by the characters' ASCII values to track if a character has been encountered. Traverse the string and append non-duplicate characters to the output string.\n",
    "\n",
    "Implementation\n",
    "Initialize an array of size 256 (assuming ASCII characters) and set all elements to false.\n",
    "Traverse the string, if the character is not encountered yet, append it to the output string and mark its index in the array as true.\n",
    "Return the output string.\n",
    "Code\n",
    "'''\n",
    "class Solution:\n",
    "    # Function to remove duplicates from a string.\n",
    "    def removeDuplicates(self, string):\n",
    "        # Creating a dictionary to store frequency of characters.\n",
    "        hash_table = {}\n",
    "        # Declaring a string to store the final answer.\n",
    "        ans = \"\"\n",
    "        # Iterating over every character in the string.\n",
    "        for c in string:\n",
    "            # If the character is encountered for the first time,\n",
    "            # adding it to the answer string and updating its frequency.\n",
    "            if c not in hash_table:\n",
    "                ans += c\n",
    "                hash_table[c] = 1\n",
    "        # Returning the answer string without duplicates.\n",
    "        return ans\n",
    "'''    \n",
    "Complexity\n",
    "Time Complexity: O(N), where N is the length of the input string.\n",
    "Space Complexity: O(N) used to store the result.'''"
   ]
  },
  {
   "cell_type": "code",
   "execution_count": null,
   "id": "671f252c",
   "metadata": {},
   "outputs": [],
   "source": []
  }
 ],
 "metadata": {
  "kernelspec": {
   "display_name": "Python 3 (ipykernel)",
   "language": "python",
   "name": "python3"
  },
  "language_info": {
   "codemirror_mode": {
    "name": "ipython",
    "version": 3
   },
   "file_extension": ".py",
   "mimetype": "text/x-python",
   "name": "python",
   "nbconvert_exporter": "python",
   "pygments_lexer": "ipython3",
   "version": "3.11.4"
  }
 },
 "nbformat": 4,
 "nbformat_minor": 5
}
