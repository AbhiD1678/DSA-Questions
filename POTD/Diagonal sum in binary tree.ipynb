{
 "cells": [
  {
   "cell_type": "code",
   "execution_count": 1,
   "id": "822b328a",
   "metadata": {},
   "outputs": [
    {
     "data": {
      "text/plain": [
       "\"\\nConsider Red lines of slope -1 passing between nodes (in following diagram). The diagonal sum in a binary tree is the sum of all node datas lying between these lines. Given a Binary Tree of size n, print all diagonal sums.\\n\\nFor the following input tree, output should be 9, 19, 42.\\n9 is sum of 1, 3 and 5.\\n19 is sum of 2, 6, 4 and 7.\\n42 is sum of 9, 10, 11 and 12.\\n\\nDiagonalSum\\n\\nExample 1:\\n\\nInput:\\n         4\\n       /         1     3\\n           /\\n          3\\nOutput: \\n7 4 \\nExample 2:\\n\\nInput:\\n           10\\n         /            8      2\\n       / \\\\    /\\n      3   5  2\\nOutput: \\n12 15 3 \\nYour Task:\\nYou don't need to take input. Just complete the function diagonalSum() that takes root node of the tree as parameter and returns an array containing the diagonal sums for every diagonal present in the tree with slope -1.\\n\\nExpected Time Complexity: O(nlogn).\\nExpected Auxiliary Space: O(n).\\n\\nConstraints:\\n1 <= n <= 105\\n0 <= data of each node <= 104\\n\""
      ]
     },
     "execution_count": 1,
     "metadata": {},
     "output_type": "execute_result"
    }
   ],
   "source": [
    "'''\n",
    "Consider Red lines of slope -1 passing between nodes (in following diagram). The diagonal sum in a binary tree is the sum of all node datas lying between these lines. Given a Binary Tree of size n, print all diagonal sums.\n",
    "\n",
    "For the following input tree, output should be 9, 19, 42.\n",
    "9 is sum of 1, 3 and 5.\n",
    "19 is sum of 2, 6, 4 and 7.\n",
    "42 is sum of 9, 10, 11 and 12.\n",
    "\n",
    "DiagonalSum\n",
    "\n",
    "Example 1:\n",
    "\n",
    "Input:\n",
    "         4\n",
    "       /   \\\n",
    "      1     3\n",
    "           /\n",
    "          3\n",
    "Output: \n",
    "7 4 \n",
    "Example 2:\n",
    "\n",
    "Input:\n",
    "           10\n",
    "         /    \\\n",
    "        8      2\n",
    "       / \\    /\n",
    "      3   5  2\n",
    "Output: \n",
    "12 15 3 \n",
    "Your Task:\n",
    "You don't need to take input. Just complete the function diagonalSum() that takes root node of the tree as parameter and returns an array containing the diagonal sums for every diagonal present in the tree with slope -1.\n",
    "\n",
    "Expected Time Complexity: O(nlogn).\n",
    "Expected Auxiliary Space: O(n).\n",
    "\n",
    "Constraints:\n",
    "1 <= n <= 105\n",
    "0 <= data of each node <= 104\n",
    "'''"
   ]
  },
  {
   "cell_type": "code",
   "execution_count": 2,
   "id": "6e3df76a",
   "metadata": {},
   "outputs": [],
   "source": [
    "'''\n",
    "# Node Class:\n",
    "class Node:\n",
    "    def __init__(self,val):\n",
    "        self.data = val\n",
    "        self.left = None\n",
    "        self.right = None\n",
    "'''\n",
    "\n",
    "class Solution:\n",
    "    #Complete the function below\n",
    "    def diagonalSum(self, root):\n",
    "        #:param root: root of the given tree.\n",
    "        r = []\n",
    "        q = deque()\n",
    "        q.append(root)\n",
    "        while q:\n",
    "            l = len(q)\n",
    "            a = []\n",
    "            for _ in range(l):\n",
    "                t = q.popleft()\n",
    "                while t:\n",
    "                    if t.left: q.append(t.left)\n",
    "                    a.append(t.data)\n",
    "                    t=t.right\n",
    "            r.append(sum(a))\n",
    "        return r\n",
    "        #code here\n",
    "    "
   ]
  },
  {
   "cell_type": "code",
   "execution_count": 3,
   "id": "21288296",
   "metadata": {},
   "outputs": [
    {
     "data": {
      "text/plain": [
       "'\\nComplexity\\nTime Complexity: O(n * logn), where n is the number of nodes and log n is the height of the binary tree .\\nSpace Complexity: O(n), space occupied by stack due to the recursive function calls.\\n'"
      ]
     },
     "execution_count": 3,
     "metadata": {},
     "output_type": "execute_result"
    }
   ],
   "source": [
    "'''\n",
    "Expected Approach\n",
    "Intuition\n",
    "The code recursively traverses the binary tree, updating a dictionary to store the diagonal sums based on the vertical distance from the root. At each level of recursion, the vertical distance (vd) increases by 1 for the left child while remaining the same for the right child. The diagonal sums are then collected from the dictionary and returned as the result. This approach ensures that nodes on the same diagonal are processed together, achieving diagonal sum calculation efficiently.\n",
    "\n",
    "Implementation\n",
    "Define the diagonalSumUtil method:\n",
    "This method takes three parameters: root (the current node), vd (vertical distance from the root), and diagonalSum (a dictionary to store the diagonal sums).\n",
    "If root is None, return.\n",
    "If the current vertical distance vd is not already present in diagonalSum, initialize it with 0.\n",
    "Increment the diagonal sum at index vd by the data of the current node.\n",
    "Recursively call diagonalSumUtil for the left child of the current node with vd + 1 and for the right child of the current node with the same vd.\n",
    "Define the diagonalSum method:\n",
    "This method takes root as the parameter.\n",
    "Initialize an empty dictionary diagonalSum.\n",
    "Call diagonalSumUtil with root, 0, and diagonalSum.\n",
    "Initialize an empty list res.\n",
    "Iterate through the keys of diagonalSum and append the corresponding diagonal sum to res.\n",
    "Return res, which contains all the diagonal sums.\n",
    "'''\n",
    "class Solution:\n",
    "    # Function to compute height and  \n",
    "    # root - root of the binary tree  \n",
    "    # vd - vertical distance diagonally  \n",
    "    # diagonalSum - map to store Diagonal  \n",
    "    # Sum(Passed by Reference)  \n",
    "    def diagonalSumUtil(self, root, vd, diagonalSum) : \n",
    "      \n",
    "        if(not root):  \n",
    "            return\n",
    "              \n",
    "        if vd not in diagonalSum: \n",
    "            diagonalSum[vd] = 0\n",
    "        diagonalSum[vd] += root.data  \n",
    "      \n",
    "        # increase the vertical distance \n",
    "        # if left child  \n",
    "        self.diagonalSumUtil(root.left, vd + 1,  \n",
    "                              diagonalSum)  \n",
    "      \n",
    "        # vertical distance remains same  \n",
    "        # for right child  \n",
    "        self.diagonalSumUtil(root.right, vd, \n",
    "                           diagonalSum)  \n",
    "      \n",
    "    # Function to calculate diagonal  \n",
    "    # sum of given binary tree  \n",
    "    def diagonalSum(self, root) : \n",
    "      \n",
    "        # create a map to store Diagonal Sum  \n",
    "        diagonalSum = dict()  \n",
    "          \n",
    "        self.diagonalSumUtil(root, 0, diagonalSum)  \n",
    "     \n",
    "        res = []  \n",
    "        for it in diagonalSum: \n",
    "            res.append(diagonalSum[it])\n",
    "        return res\n",
    "    \n",
    "      \n",
    "'''\n",
    "Complexity\n",
    "Time Complexity: O(n * logn), where n is the number of nodes and log n is the height of the binary tree .\n",
    "Space Complexity: O(n), space occupied by stack due to the recursive function calls.\n",
    "'''"
   ]
  },
  {
   "cell_type": "code",
   "execution_count": null,
   "id": "21b00d01",
   "metadata": {},
   "outputs": [],
   "source": []
  }
 ],
 "metadata": {
  "kernelspec": {
   "display_name": "Python 3 (ipykernel)",
   "language": "python",
   "name": "python3"
  },
  "language_info": {
   "codemirror_mode": {
    "name": "ipython",
    "version": 3
   },
   "file_extension": ".py",
   "mimetype": "text/x-python",
   "name": "python",
   "nbconvert_exporter": "python",
   "pygments_lexer": "ipython3",
   "version": "3.11.4"
  }
 },
 "nbformat": 4,
 "nbformat_minor": 5
}
