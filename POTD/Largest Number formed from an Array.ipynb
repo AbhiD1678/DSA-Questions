{
 "cells": [
  {
   "cell_type": "code",
   "execution_count": 1,
   "id": "e59f617e",
   "metadata": {},
   "outputs": [
    {
     "data": {
      "text/plain": [
       "'\\nGiven an array of strings arr[] of length n representing non-negative integers, arrange them in a manner, such that, after concatanating them in order, it results in the largest possible number. Since the result may be very large, return it as a string.\\n\\nExample 1:\\n\\nInput: \\nn = 5\\narr[] =  {\"3\", \"30\", \"34\", \"5\", \"9\"}\\nOutput: \"9534330\"\\nExplanation: \\nGiven numbers are  {\"3\", \"30\", \"34\", \"5\", \"9\"}, \\nthe arrangement \"9534330\" gives the largest value.\\nExample 2:\\n\\nInput: \\nn = 4\\narr[] =  {\"54\", \"546\", \"548\", \"60\"}\\nOutput: \"6054854654\"\\nExplanation: \\nGiven numbers are {\"54\", \"546\", \"548\", \"60\"}, the \\narrangement \"6054854654\" gives the largest value.\\nYour Task:  \\nYou don\\'t need to read input or print anything. Your task is to complete the function printLargest() which takes the array of strings arr[] as a parameter and returns a string denoting the answer.\\n\\nExpected Time Complexity: O(n*log(n) ).\\nExpected Auxiliary Space: O(n).\\n\\nConstraints:\\n1 ≤ n ≤ 105\\n0 ≤ arr[i] ≤ 1018\\nSum of all the elements of the array is greater than 0.\\n\\n'"
      ]
     },
     "execution_count": 1,
     "metadata": {},
     "output_type": "execute_result"
    }
   ],
   "source": [
    "\"\"\"\n",
    "Given an array of strings arr[] of length n representing non-negative integers, arrange them in a manner, such that, after concatanating them in order, it results in the largest possible number. Since the result may be very large, return it as a string.\n",
    "\n",
    "Example 1:\n",
    "\n",
    "Input: \n",
    "n = 5\n",
    "arr[] =  {\"3\", \"30\", \"34\", \"5\", \"9\"}\n",
    "Output: \"9534330\"\n",
    "Explanation: \n",
    "Given numbers are  {\"3\", \"30\", \"34\", \"5\", \"9\"}, \n",
    "the arrangement \"9534330\" gives the largest value.\n",
    "Example 2:\n",
    "\n",
    "Input: \n",
    "n = 4\n",
    "arr[] =  {\"54\", \"546\", \"548\", \"60\"}\n",
    "Output: \"6054854654\"\n",
    "Explanation: \n",
    "Given numbers are {\"54\", \"546\", \"548\", \"60\"}, the \n",
    "arrangement \"6054854654\" gives the largest value.\n",
    "Your Task:  \n",
    "You don't need to read input or print anything. Your task is to complete the function printLargest() which takes the array of strings arr[] as a parameter and returns a string denoting the answer.\n",
    "\n",
    "Expected Time Complexity: O(n*log(n) ).\n",
    "Expected Auxiliary Space: O(n).\n",
    "\n",
    "Constraints:\n",
    "1 ≤ n ≤ 105\n",
    "0 ≤ arr[i] ≤ 1018\n",
    "Sum of all the elements of the array is greater than 0.\n",
    "\n",
    "\"\"\""
   ]
  },
  {
   "cell_type": "code",
   "execution_count": 2,
   "id": "a22b776d",
   "metadata": {},
   "outputs": [
    {
     "data": {
      "text/plain": [
       "'\\nIntuition:\\nThe is to sort the vector using compare function, for sorting we are given two numbers X and Y, \\ndecide which number to put first – we compare two numbers XY (Y appended at the end of X) and YX (X appended at the end of Y).\\nIf XY is larger, then X should come before Y in output, else Y should come before. For example, let X and Y be 542 and 60.\\nTo compare X and Y, we compare 54260 and 60542. Since 60542 is greater than 54260, we put Y first.\\n\\nSort the vector arr, based on the myCompare function.\\nIn the myCompare comparator function, We will have the string X and Y.\\nInitialize a string XY equal to X.append(Y)(i.e. Y appended at the end of X).\\nand YX equal to Y.append(X)(i.e. X appended at the end of Y).\\nWe return 1 if XY is greater than YX else we return 0.\\nInitialize a string ans.\\nRun a loop i from 0 to arr.size().\\nadd arr[i] to the ans.\\nReturn ans.\\n\\n'"
      ]
     },
     "execution_count": 2,
     "metadata": {},
     "output_type": "execute_result"
    }
   ],
   "source": [
    "'''\n",
    "Intuition:\n",
    "The is to sort the vector using compare function, for sorting we are given two numbers X and Y, \n",
    "decide which number to put first – we compare two numbers XY (Y appended at the end of X) and YX (X appended at the end of Y).\n",
    "If XY is larger, then X should come before Y in output, else Y should come before. For example, let X and Y be 542 and 60.\n",
    "To compare X and Y, we compare 54260 and 60542. Since 60542 is greater than 54260, we put Y first.\n",
    "\n",
    "Sort the vector arr, based on the myCompare function.\n",
    "In the myCompare comparator function, We will have the string X and Y.\n",
    "Initialize a string XY equal to X.append(Y)(i.e. Y appended at the end of X).\n",
    "and YX equal to Y.append(X)(i.e. X appended at the end of Y).\n",
    "We return 1 if XY is greater than YX else we return 0.\n",
    "Initialize a string ans.\n",
    "Run a loop i from 0 to arr.size().\n",
    "add arr[i] to the ans.\n",
    "Return ans.\n",
    "\n",
    "'''"
   ]
  },
  {
   "cell_type": "code",
   "execution_count": 13,
   "id": "0b0211ac",
   "metadata": {},
   "outputs": [
    {
     "name": "stdout",
     "output_type": "stream",
     "text": [
      "9534330\n"
     ]
    }
   ],
   "source": [
    "#Backend Complete function Template for python3\n",
    "import functools\n",
    "\n",
    "class Solution:\n",
    "\n",
    "    #Function to compare two strings based on the largest combination possible.\n",
    "    def printLargest(self, n, arr):\n",
    "        \n",
    "        #Function to define sorting key for comparing two strings.\n",
    "        def myKey(a,b):\n",
    "            if (a+b)>(b+a):\n",
    "                return -1\n",
    "            elif (a+b)<(b+a):\n",
    "                return 1\n",
    "            else:\n",
    "                return 0\n",
    "        \n",
    "        ans = \"\"\n",
    "        #Sorting the array of strings based on the custom key function.\n",
    "        l = sorted(arr,key=functools.cmp_to_key(myKey))\n",
    "\n",
    "        #Concatenating the sorted strings into a single string.\n",
    "        for i in l:\n",
    "            ans += i\n",
    "        return ans\n",
    "    \n",
    "'''    \n",
    "Complexity:\n",
    "Time Complexity: O(NlogN), As we are sorting the vector and complexity for sorting is O(NlogN).\n",
    "Space Complexity: O(N), As we are using a string ans.\n",
    "'''\n",
    "solution=Solution()\n",
    "n = 5\n",
    "arr =  [\"3\", \"30\", \"34\", \"5\", \"9\"]\n",
    "result=solution.printLargest(n,arr)\n",
    "print(result)\n"
   ]
  },
  {
   "cell_type": "code",
   "execution_count": null,
   "id": "e632bb11",
   "metadata": {},
   "outputs": [],
   "source": []
  }
 ],
 "metadata": {
  "kernelspec": {
   "display_name": "Python 3 (ipykernel)",
   "language": "python",
   "name": "python3"
  },
  "language_info": {
   "codemirror_mode": {
    "name": "ipython",
    "version": 3
   },
   "file_extension": ".py",
   "mimetype": "text/x-python",
   "name": "python",
   "nbconvert_exporter": "python",
   "pygments_lexer": "ipython3",
   "version": "3.11.4"
  }
 },
 "nbformat": 4,
 "nbformat_minor": 5
}
