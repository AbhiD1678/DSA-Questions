{
 "cells": [
  {
   "cell_type": "raw",
   "id": "5d57c6f2-1bdb-419c-a4db-5f2f64f53d56",
   "metadata": {},
   "source": [
    "You are given an array arr[] of size n. You need to do the following:\n",
    "\n",
    "You need to calculate the bitwise XOR of each element in the array with its corresponding index (indices start from 0).\n",
    "After step1, print the array.\n",
    "Now, set all the elements of arr[] to zero.\n",
    "Now, print arr[].\n",
    "Example 1:\n",
    "\n",
    "Input:\n",
    "n = 10\n",
    "arr[] = {1, 2, 3, 4, 5, 6, 7, 8, 9, 10}\n",
    "Output:\n",
    "1 3 1 7 1 3 1 15 1 3\n",
    "0 0 0 0 0 0 0 0 0 0\n",
    "Explanation:\n",
    "First we take xor of every element with\n",
    "their indices, like (1xor0), (2xor1), (3xor2), (4xor3) and so on.\n",
    "Now print the resultant array\n",
    "Now set all the elements of array to zero\n",
    "Now print the resultant array\n",
    "Example 2:\n",
    "\n",
    "Input:\n",
    "n = 4\n",
    "arr[] = {10, 20, 30, 40}\n",
    "Output:\n",
    "10 21 28 43\n",
    "0 0 0 0\n",
    "Explanation:\n",
    "First we take xor of every element with\n",
    "their indices, like (1xor0), (2xor1), (3xor2).\n",
    "Now print the resultant array\n",
    "Now set all the elements of array to zero\n",
    "Now print the resultant array\n",
    "Your Task:\n",
    "Since this is a function problem, you don't need to take any input. Just complete the provided functions. In a new line, print the output.\n",
    "\n",
    "Expected Time Complexity: O(n)\n",
    "Expected Auxiliary Space: O(1)\n",
    "\n",
    "Constraints:\n",
    "1 <= n <= 1000\n",
    "1 <= arr[i] <= 1000"
   ]
  },
  {
   "cell_type": "code",
   "execution_count": 1,
   "id": "7ebe0c4a-b7a4-4ec1-a107-8faefa0529d2",
   "metadata": {},
   "outputs": [],
   "source": [
    "\n",
    "class Solution:\n",
    "    def printArr(self, n, arr):\n",
    "        # printing array elements with spaces\n",
    "        for i in range(n):\n",
    "            print(arr[i],end=\" \")\n",
    "        print()\n",
    "        \n",
    "\n",
    "    def setToZero(self, n, arr):\n",
    "        # setting all elements to zero\n",
    "        for i in range(n):\n",
    "            arr[i]=0\n",
    "        \n",
    "\n",
    "    def xor1ToN(self, n, arr):\n",
    "        # doing xor with indices\n",
    "        for i in range(n):\n",
    "            arr[i]=i^arr[i]\n",
    "        "
   ]
  },
  {
   "cell_type": "code",
   "execution_count": null,
   "id": "a40a43e2-f3b7-49de-8231-af2af4b51c95",
   "metadata": {},
   "outputs": [],
   "source": []
  }
 ],
 "metadata": {
  "kernelspec": {
   "display_name": "Python 3 (ipykernel)",
   "language": "python",
   "name": "python3"
  },
  "language_info": {
   "codemirror_mode": {
    "name": "ipython",
    "version": 3
   },
   "file_extension": ".py",
   "mimetype": "text/x-python",
   "name": "python",
   "nbconvert_exporter": "python",
   "pygments_lexer": "ipython3",
   "version": "3.11.7"
  }
 },
 "nbformat": 4,
 "nbformat_minor": 5
}
