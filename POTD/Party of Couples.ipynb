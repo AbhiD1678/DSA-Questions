{
 "cells": [
  {
   "cell_type": "raw",
   "id": "b4221c95-73cc-4346-b67c-11c640c4f1f1",
   "metadata": {},
   "source": [
    "You are given an integer array arr[] of size n, representing n number of people in a party, each person is denoted by an integer. Couples are represented by the same number ie: two people have the same integer value, it means they are a couple. Find out the only single person in the party of couples.\n",
    "\n",
    "NOTE: It is guarantee that there exist only one single person in the party.\n",
    "\n",
    "Example 1:\n",
    "\n",
    "Input: \n",
    "n = 5\n",
    "arr = {1, 2, 3, 2, 1}\n",
    "Output: \n",
    "3\n",
    "Explaination: Only the number 3 is single.\n",
    "Example 2:\n",
    "\n",
    "Input: \n",
    "n = 11 \n",
    "arr = {1, 2, 3, 5, 3, 2, 1, 4, 5, 6, 6} \n",
    "Output: \n",
    "4 \n",
    "Explaination: 4 is the only single.\n",
    "Your Task:\n",
    "You do not need to read input or print anything. Your task is to complete the function findSingle() which takes the size of the array n and the array arr[] as input parameters and returns the only single person.\n",
    "\n",
    "Expected Time Complexity: O(n)\n",
    "Expected Auxiliary Space: O(1)\n",
    "\n",
    "Constraints:\n",
    "1 ≤ n ≤ 104\n",
    "1 ≤ arr[i] ≤ 106"
   ]
  },
  {
   "cell_type": "code",
   "execution_count": 1,
   "id": "319af949-a94d-49d1-9b8b-4ca4a39bfa43",
   "metadata": {},
   "outputs": [],
   "source": [
    "class Solution:\n",
    "    def findSingle(self, n, arr):\n",
    "        # code here\n",
    "        ans=0\n",
    "        for item in arr:\n",
    "            ans^=item\n",
    "        return ans"
   ]
  },
  {
   "cell_type": "raw",
   "id": "9871efb0-8bc1-4ca7-8af1-b069fe9f0246",
   "metadata": {},
   "source": [
    "Expected Approach\n",
    "Intuition\n",
    "The key idea behind this approach is to use the bitwise XOR operation to find the single element in the array. When we perform XOR operation between two same numbers, the result is 0. So, if we perform XOR operation on all elements in the array, the result will be the single element that appears only once\n",
    "\n",
    "Implementation\n",
    "Initialize a variable ans to 0.\n",
    "Iterate over the array and perform bitwise XOR operation between ans and each element of the array.\n",
    "The final value of ans will be the single element that appears only once.\n",
    "Return the value of ans as the result.\n",
    "Example\n",
    "Input: N = 5, arr = {1, 2, 3, 2, 1}\n",
    "\n",
    "Initialize ans to 0: ans = 0.\n",
    "Perform XOR operation between ans and each element of the array:\n",
    "ans = 0 ^ 1 = 1\n",
    "ans = 1 ^ 2 = 3\n",
    "ans = 3 ^ 3 = 0\n",
    "ans = 0 ^ 2 = 2\n",
    "ans = 2 ^ 1 = 3\n",
    "The final value of ans is 3, which is the only single element in the array.\n",
    "Return ans as the result\n",
    "\n",
    "Complexity\n",
    "Time Complexity: The time complexity of this approach is O(N), where N is the size of the array. We need to iterate through the entire array once to find the single element.\n",
    "\n",
    "Space Complexity: The space complexity is O(1) because we are using only a constant amount of extra space regardless of the size of the input array. We are not using any additional data structures that grow with the input size."
   ]
  },
  {
   "cell_type": "code",
   "execution_count": 2,
   "id": "ec908de5-700a-497d-804c-5041fddb6ab0",
   "metadata": {},
   "outputs": [],
   "source": [
    "#Back-end complete function Template for Python 3\n",
    "\n",
    "class Solution:\n",
    "    #Function to find the element that occurs only once in an array.\n",
    "    def findSingle(self, n, arr):\n",
    "        ans = 0\n",
    "        #iterating over the array\n",
    "        for i in range(0, n):\n",
    "            #Performing bitwise XOR operation between ans and arr[i]\n",
    "            ans = ans ^ arr[i]\n",
    "        #returning the result after XOR operation\n",
    "        return ans\n"
   ]
  },
  {
   "cell_type": "raw",
   "id": "052cc628-dbab-4c77-9201-6d21eb7c57d5",
   "metadata": {},
   "source": [
    "Alternate Approach\n",
    "Intuition\n",
    "This approach utilizes a set to keep track of the numbers encountered. As we iterate through the array, if a number is already in the set, it means it's not unique, so we remove it from the set. If it's not in the set, we add it. In the end, the set will contain only the single person, which we return.\n",
    "\n",
    "Implementation\n",
    "Iterate through the array and use a set to keep track of encountered numbers.\n",
    "If a number is encountered for the first time, add it to the set. If encountered again, remove it from the set.\n",
    "At the end, the set will contain the single person.\n",
    "\n",
    "Complexity\n",
    "Time Complexity: O(N) We iterate through the array once, which takes linear time.\n",
    "\n",
    "Space Complexity: O(N)The set may contain all unique elements of the array, so the space complexity is linear with respect to the size of the array"
   ]
  },
  {
   "cell_type": "code",
   "execution_count": 3,
   "id": "823dca4e-dbac-4f89-ac1b-39bb128188de",
   "metadata": {},
   "outputs": [],
   "source": [
    "#User function Template for python3\n",
    "\n",
    "class Solution:\n",
    "    def findSingle(self, N, arr):\n",
    "        # code here\n",
    "        single = set()\n",
    "        for i in range(N):\n",
    "            if arr[i] not in single:\n",
    "                single.add(arr[i])\n",
    "            else:\n",
    "                single.remove(arr[i])\n",
    "        # ans = single.pop()\n",
    "        return single.pop()\n"
   ]
  },
  {
   "cell_type": "code",
   "execution_count": null,
   "id": "6bd93dfd-71a8-49bc-94c3-1fb83fa8015c",
   "metadata": {},
   "outputs": [],
   "source": []
  }
 ],
 "metadata": {
  "kernelspec": {
   "display_name": "Python 3 (ipykernel)",
   "language": "python",
   "name": "python3"
  },
  "language_info": {
   "codemirror_mode": {
    "name": "ipython",
    "version": 3
   },
   "file_extension": ".py",
   "mimetype": "text/x-python",
   "name": "python",
   "nbconvert_exporter": "python",
   "pygments_lexer": "ipython3",
   "version": "3.11.7"
  }
 },
 "nbformat": 4,
 "nbformat_minor": 5
}
