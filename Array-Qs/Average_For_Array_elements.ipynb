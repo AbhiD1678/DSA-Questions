{
 "cells": [
  {
   "cell_type": "code",
   "execution_count": 2,
   "id": "af9a9ea3",
   "metadata": {},
   "outputs": [
    {
     "data": {
      "text/plain": [
       "25.0"
      ]
     },
     "execution_count": 2,
     "metadata": {},
     "output_type": "execute_result"
    }
   ],
   "source": [
    "def averagefinder(list1):\n",
    "    return sum(list1)/len(list1)\n",
    "\n",
    "list1=[10,20,30,40]\n",
    "averagefinder(list1)"
   ]
  },
  {
   "cell_type": "code",
   "execution_count": 3,
   "id": "f864cb76",
   "metadata": {},
   "outputs": [
    {
     "data": {
      "text/plain": [
       "25.0"
      ]
     },
     "execution_count": 3,
     "metadata": {},
     "output_type": "execute_result"
    }
   ],
   "source": [
    "#M1 normal method\n",
    "def averag(l):\n",
    "    sum1=0\n",
    "    for x in l:\n",
    "        sum1=sum1+x\n",
    "    n=len(l)\n",
    "    return sum1/n\n",
    "\n",
    "list1=[10,20,30,40]\n",
    "averag(list1)"
   ]
  },
  {
   "cell_type": "code",
   "execution_count": null,
   "id": "d78172de",
   "metadata": {},
   "outputs": [],
   "source": []
  },
  {
   "cell_type": "code",
   "execution_count": null,
   "id": "12e6c3d8",
   "metadata": {},
   "outputs": [],
   "source": []
  }
 ],
 "metadata": {
  "kernelspec": {
   "display_name": "Python 3 (ipykernel)",
   "language": "python",
   "name": "python3"
  },
  "language_info": {
   "codemirror_mode": {
    "name": "ipython",
    "version": 3
   },
   "file_extension": ".py",
   "mimetype": "text/x-python",
   "name": "python",
   "nbconvert_exporter": "python",
   "pygments_lexer": "ipython3",
   "version": "3.11.4"
  }
 },
 "nbformat": 4,
 "nbformat_minor": 5
}
