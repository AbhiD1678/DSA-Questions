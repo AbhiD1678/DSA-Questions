{
 "cells": [
  {
   "cell_type": "code",
   "execution_count": 1,
   "id": "e2a447bf",
   "metadata": {},
   "outputs": [
    {
     "name": "stdout",
     "output_type": "stream",
     "text": [
      "[20, 30, 40, 50, 10]\n"
     ]
    }
   ],
   "source": [
    "l=[10,20,30,40,50]\n",
    "l=l[1:]+l[0:1]\n",
    "print(l)"
   ]
  },
  {
   "cell_type": "code",
   "execution_count": 3,
   "id": "1d49b2ff",
   "metadata": {},
   "outputs": [
    {
     "name": "stdout",
     "output_type": "stream",
     "text": [
      "[20, 30, 40, 50, 10]\n"
     ]
    }
   ],
   "source": [
    "l=[10,20,30,40,50]\n",
    "l.append(l.pop(0))\n",
    "print(l)"
   ]
  },
  {
   "cell_type": "code",
   "execution_count": 4,
   "id": "d52f0750",
   "metadata": {},
   "outputs": [
    {
     "data": {
      "text/plain": [
       "[3, 4, 5, 1, 2]"
      ]
     },
     "execution_count": 4,
     "metadata": {},
     "output_type": "execute_result"
    }
   ],
   "source": [
    "def rotateArr(arr,d,n):\n",
    "    arr=arr[d:]+arr[0:d]\n",
    "    return arr\n",
    "arr=[1,2,3,4,5]\n",
    "rotateArr(arr,2,5)"
   ]
  },
  {
   "cell_type": "code",
   "execution_count": 5,
   "id": "68de4adf",
   "metadata": {},
   "outputs": [
    {
     "data": {
      "text/plain": [
       "[8, 10, 12, 14, 16, 18, 20, 2, 4, 6]"
      ]
     },
     "execution_count": 5,
     "metadata": {},
     "output_type": "execute_result"
    }
   ],
   "source": [
    "def rotateArr(arr,d,n):\n",
    "    for i in range(0,d):\n",
    "        arr.append(arr.pop(0))\n",
    "    return arr\n",
    "arr=[2,4,6,8,10,12,14,16,18,20]\n",
    "rotateArr(arr,3,10)"
   ]
  },
  {
   "cell_type": "code",
   "execution_count": null,
   "id": "31c6bb16",
   "metadata": {},
   "outputs": [],
   "source": [
    "def RotateList(arr):\n",
    "    n=len(arr)\n",
    "    x=arr[0]\n",
    "    for i in range(1,n):\n",
    "        arr[i-1]=arr[i]\n",
    "    arr[n-1]=x"
   ]
  }
 ],
 "metadata": {
  "kernelspec": {
   "display_name": "Python 3 (ipykernel)",
   "language": "python",
   "name": "python3"
  },
  "language_info": {
   "codemirror_mode": {
    "name": "ipython",
    "version": 3
   },
   "file_extension": ".py",
   "mimetype": "text/x-python",
   "name": "python",
   "nbconvert_exporter": "python",
   "pygments_lexer": "ipython3",
   "version": "3.11.4"
  }
 },
 "nbformat": 4,
 "nbformat_minor": 5
}
