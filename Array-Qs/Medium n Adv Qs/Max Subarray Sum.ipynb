{
 "cells": [
  {
   "cell_type": "markdown",
   "metadata": {},
   "source": [
    "#### To get the maximum subarray sum"
   ]
  },
  {
   "cell_type": "markdown",
   "metadata": {},
   "source": [
    "#### Method 1:Using Naive approach"
   ]
  },
  {
   "cell_type": "code",
   "execution_count": 1,
   "metadata": {},
   "outputs": [
    {
     "name": "stdout",
     "output_type": "stream",
     "text": [
      "4\n"
     ]
    }
   ],
   "source": [
    "def MaxSum1(arr,n):\n",
    "    \n",
    "    res=arr[0]\n",
    "\n",
    "    for i in range(0,n):\n",
    "        curr=0\n",
    "        for j in range(i,n):\n",
    "            curr=curr+arr[j]\n",
    "            res=max(res,curr)\n",
    "\n",
    "    return res\n",
    "\n",
    "arr=[1,-2,3,-1,2]\n",
    "n=len(arr)\n",
    "print(MaxSum1(arr,n))"
   ]
  },
  {
   "cell_type": "markdown",
   "metadata": {},
   "source": [
    "#### Time complexity :O(N*k),Space Complexity:O(1)"
   ]
  },
  {
   "cell_type": "markdown",
   "metadata": {},
   "source": [
    "### Method 2:Using Max Ending of previous solution"
   ]
  },
  {
   "cell_type": "code",
   "execution_count": 3,
   "metadata": {},
   "outputs": [
    {
     "name": "stdout",
     "output_type": "stream",
     "text": [
      "4\n"
     ]
    }
   ],
   "source": [
    "def MaxSum(arr,n):\n",
    "    res=arr[0]\n",
    "    MaxEnding=arr[0]\n",
    "\n",
    "    for i in range(1,n):\n",
    "        MaxEnding=max(MaxEnding+arr[i],arr[i])\n",
    "        res=max(MaxEnding,res)\n",
    "\n",
    "    return res\n",
    "arr=[1,-2,3,-1,2]\n",
    "n=len(arr)\n",
    "print(MaxSum(arr,n))"
   ]
  },
  {
   "cell_type": "markdown",
   "metadata": {},
   "source": [
    "Time complexity:O(N)"
   ]
  },
  {
   "cell_type": "markdown",
   "metadata": {},
   "source": [
    "It is also known as Kadane Algorithm"
   ]
  },
  {
   "cell_type": "code",
   "execution_count": null,
   "metadata": {},
   "outputs": [],
   "source": []
  }
 ],
 "metadata": {
  "kernelspec": {
   "display_name": "Python 3",
   "language": "python",
   "name": "python3"
  },
  "language_info": {
   "codemirror_mode": {
    "name": "ipython",
    "version": 3
   },
   "file_extension": ".py",
   "mimetype": "text/x-python",
   "name": "python",
   "nbconvert_exporter": "python",
   "pygments_lexer": "ipython3",
   "version": "3.12.0"
  }
 },
 "nbformat": 4,
 "nbformat_minor": 2
}
