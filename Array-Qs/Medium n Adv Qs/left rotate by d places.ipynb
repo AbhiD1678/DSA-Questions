{
 "cells": [
  {
   "cell_type": "markdown",
   "metadata": {},
   "source": [
    "### Using Direct Method"
   ]
  },
  {
   "cell_type": "markdown",
   "metadata": {},
   "source": [
    "#### First Method is Slicing"
   ]
  },
  {
   "cell_type": "code",
   "execution_count": 4,
   "metadata": {},
   "outputs": [
    {
     "name": "stdout",
     "output_type": "stream",
     "text": [
      "[30, 40, 50, 10, 20]\n"
     ]
    }
   ],
   "source": [
    "l=[10,20,30,40,50]\n",
    "\n",
    "# To left rotate it by 2\n",
    "\n",
    "d=2\n",
    "\n",
    "l=l[d:]+l[:d]\n",
    "\n",
    "print(l)"
   ]
  },
  {
   "cell_type": "markdown",
   "metadata": {},
   "source": [
    "#### Second Method is using rotate function of deque"
   ]
  },
  {
   "cell_type": "code",
   "execution_count": 5,
   "metadata": {},
   "outputs": [
    {
     "name": "stdout",
     "output_type": "stream",
     "text": [
      "[30, 40, 50, 10, 20]\n"
     ]
    }
   ],
   "source": [
    "from collections import deque\n",
    "\n",
    "l=[10,20,30,40,50]\n",
    "\n",
    "de=deque(l)\n",
    "\n",
    "d=2\n",
    "\n",
    "de.rotate(-d)\n",
    "\n",
    "de=list(de)\n",
    "\n",
    "print(de)\n",
    "\n"
   ]
  },
  {
   "cell_type": "markdown",
   "metadata": {},
   "source": [
    "#### Method 3 simple loop"
   ]
  },
  {
   "cell_type": "code",
   "execution_count": 7,
   "metadata": {},
   "outputs": [
    {
     "name": "stdout",
     "output_type": "stream",
     "text": [
      "[30, 40, 50, 10, 20]\n"
     ]
    }
   ],
   "source": [
    "def leftRotate(l,d):\n",
    "    for i in range(0,d):\n",
    "        l.append(l.pop(0))\n",
    "\n",
    "## Time complexity will be O(nd) as loop will run d times and pop(0) is a O(n) times operation\n",
    "\n",
    "d=2\n",
    "l=[10,20,30,40,50]\n",
    "leftRotate(l,d)\n",
    "print(l)"
   ]
  },
  {
   "cell_type": "markdown",
   "metadata": {},
   "source": [
    "#### Method 4 using reverse function of list"
   ]
  },
  {
   "cell_type": "code",
   "execution_count": 11,
   "metadata": {},
   "outputs": [
    {
     "name": "stdout",
     "output_type": "stream",
     "text": [
      "[30, 40, 50, 10, 20]\n"
     ]
    }
   ],
   "source": [
    "def leftRotate1(l,d):\n",
    "    n=len(l)\n",
    "\n",
    "    reverse(l,0,d-1) #for reversing the elements till d-1\n",
    "\n",
    "\n",
    "    reverse(l,d,n-1) # now reversing the whole list except for the elements till d-1,so start with d and not d-1\n",
    "    \n",
    "    reverse(l,0,n-1)# now reversing the result of both for getting desired output\n",
    "\n",
    "\n",
    "def reverse(l,b,e):\n",
    "    while b<e:\n",
    "        l[b],l[e]=l[e],l[b]\n",
    "        b=b+1\n",
    "        e=e-1\n",
    "\n",
    "l=[10,20,30,40,50]\n",
    "d=2\n",
    "leftRotate1(l,d)\n",
    "print(l)"
   ]
  },
  {
   "cell_type": "code",
   "execution_count": null,
   "metadata": {},
   "outputs": [],
   "source": []
  }
 ],
 "metadata": {
  "kernelspec": {
   "display_name": "Python 3",
   "language": "python",
   "name": "python3"
  },
  "language_info": {
   "codemirror_mode": {
    "name": "ipython",
    "version": 3
   },
   "file_extension": ".py",
   "mimetype": "text/x-python",
   "name": "python",
   "nbconvert_exporter": "python",
   "pygments_lexer": "ipython3",
   "version": "3.12.0"
  }
 },
 "nbformat": 4,
 "nbformat_minor": 2
}
