{
 "cells": [
  {
   "cell_type": "markdown",
   "metadata": {},
   "source": [
    "#### Maximum difference between arr[j]-arr[i]  such that j>i\n",
    "This question says that the value of element at jth index should be higher than the value at ith index ,to get the maximum difference"
   ]
  },
  {
   "cell_type": "code",
   "execution_count": 4,
   "metadata": {},
   "outputs": [
    {
     "data": {
      "text/plain": [
       "8"
      ]
     },
     "execution_count": 4,
     "metadata": {},
     "output_type": "execute_result"
    }
   ],
   "source": [
    "def MaxDif(arr,n):\n",
    "    res=arr[1]-arr[0]\n",
    "\n",
    "    for i in range(0,n-1):\n",
    "        for j in range(i+1,n):\n",
    "            res=max(res,arr[j]-arr[i])\n",
    "    return res\n",
    "### Time complexity is O(n^2)\n",
    "\n",
    "arr=[2,3,10,8,6,1]\n",
    "n=len(arr)\n",
    "MaxDif(arr,n)\n"
   ]
  },
  {
   "cell_type": "markdown",
   "metadata": {},
   "source": [
    "#### Method 2 more efficient way"
   ]
  },
  {
   "cell_type": "code",
   "execution_count": 2,
   "metadata": {},
   "outputs": [
    {
     "data": {
      "text/plain": [
       "[8, 1]"
      ]
     },
     "execution_count": 2,
     "metadata": {},
     "output_type": "execute_result"
    }
   ],
   "source": [
    "def MaxDiffE(arr,n):\n",
    "    res=arr[1]-arr[0]\n",
    "    minval=arr[0]\n",
    "\n",
    "    for j in range(1,n):\n",
    "        res=max(res,arr[j]-minval)\n",
    "        minval=min(minval,arr[j])\n",
    "\n",
    "    return [res,minval]\n",
    "\n",
    "arr=[2,3,9,10,8,6,1]\n",
    "n=len(arr)\n",
    "MaxDiffE(arr,n)\n",
    "\n",
    "### Time complexity:O(n)"
   ]
  },
  {
   "cell_type": "code",
   "execution_count": null,
   "metadata": {},
   "outputs": [],
   "source": []
  }
 ],
 "metadata": {
  "kernelspec": {
   "display_name": "Python 3",
   "language": "python",
   "name": "python3"
  },
  "language_info": {
   "codemirror_mode": {
    "name": "ipython",
    "version": 3
   },
   "file_extension": ".py",
   "mimetype": "text/x-python",
   "name": "python",
   "nbconvert_exporter": "python",
   "pygments_lexer": "ipython3",
   "version": "3.12.0"
  }
 },
 "nbformat": 4,
 "nbformat_minor": 2
}
