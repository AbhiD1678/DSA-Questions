{
 "cells": [
  {
   "cell_type": "markdown",
   "metadata": {},
   "source": [
    "### Trapping Rain water in between blocks"
   ]
  },
  {
   "cell_type": "markdown",
   "metadata": {},
   "source": [
    "Method 1:Using brute force method"
   ]
  },
  {
   "cell_type": "code",
   "execution_count": 4,
   "metadata": {},
   "outputs": [
    {
     "data": {
      "text/plain": [
       "7"
      ]
     },
     "execution_count": 4,
     "metadata": {},
     "output_type": "execute_result"
    }
   ],
   "source": [
    "def RainWater(arr,n):\n",
    "    res=0\n",
    "    for i in range(1,n-1): # as the water will be stored between two blocks only\n",
    "        lmax=arr[0]\n",
    "        for j in range(0,i):\n",
    "            lmax=max(lmax,arr[j])\n",
    "        rmax=arr[i]\n",
    "        for j in range(i+1,n):\n",
    "            rmax=max(rmax,arr[j])\n",
    "        \n",
    "        res=res+min(lmax,rmax)-arr[i]\n",
    "    return res\n",
    "\n",
    "arr=[3,0,2,0,4]\n",
    "n=len(arr)\n",
    "RainWater(arr,n)"
   ]
  },
  {
   "cell_type": "markdown",
   "metadata": {},
   "source": [
    "#### Time complexity : O(N2)\n",
    "#### Space complexity:O(1)"
   ]
  },
  {
   "cell_type": "markdown",
   "metadata": {},
   "source": [
    "#### Method 2:Using an array for storing values of lmax and rmax"
   ]
  },
  {
   "cell_type": "code",
   "execution_count": 12,
   "metadata": {},
   "outputs": [
    {
     "data": {
      "text/plain": [
       "7"
      ]
     },
     "execution_count": 12,
     "metadata": {},
     "output_type": "execute_result"
    }
   ],
   "source": [
    "def RainWaterO(arr,n):\n",
    "    lmax=[0]*n\n",
    "    rmax=[0]*n\n",
    "\n",
    "    water=0\n",
    "\n",
    "    lmax[0]=arr[0]\n",
    "    for i in range(1,n):\n",
    "        lmax[i]=max(lmax[i-1],arr[i])\n",
    "\n",
    "    rmax[n-1]=arr[n-1]\n",
    "    for i in range(n-2,-1,-1):\n",
    "        rmax[i]=max(rmax[i+1],arr[i])\n",
    "\n",
    "    for i in range(0,n):\n",
    "        water=water+min(lmax[i],rmax[i])-arr[i]\n",
    "\n",
    "    return water\n",
    "arr=[3,0,2,0,4]\n",
    "n=len(arr)\n",
    "RainWaterO(arr,n)"
   ]
  },
  {
   "cell_type": "markdown",
   "metadata": {},
   "source": [
    "#### Time Complexity:O(n),Space Complexity:O(n)"
   ]
  },
  {
   "cell_type": "code",
   "execution_count": null,
   "metadata": {},
   "outputs": [],
   "source": []
  }
 ],
 "metadata": {
  "kernelspec": {
   "display_name": "Python 3",
   "language": "python",
   "name": "python3"
  },
  "language_info": {
   "codemirror_mode": {
    "name": "ipython",
    "version": 3
   },
   "file_extension": ".py",
   "mimetype": "text/x-python",
   "name": "python",
   "nbconvert_exporter": "python",
   "pygments_lexer": "ipython3",
   "version": "3.12.0"
  }
 },
 "nbformat": 4,
 "nbformat_minor": 2
}
