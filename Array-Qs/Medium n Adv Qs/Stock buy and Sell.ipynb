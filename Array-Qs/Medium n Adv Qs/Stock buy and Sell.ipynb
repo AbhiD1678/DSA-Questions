{
 "cells": [
  {
   "cell_type": "markdown",
   "metadata": {},
   "source": [
    "## Here we need to buy and sell stocks such that we are able to get maximum profit out of this"
   ]
  },
  {
   "cell_type": "markdown",
   "metadata": {},
   "source": [
    "#### Method 1:Naive solution using recursion which way more inefficient"
   ]
  },
  {
   "cell_type": "code",
   "execution_count": 18,
   "metadata": {},
   "outputs": [
    {
     "name": "stdout",
     "output_type": "stream",
     "text": [
      "current value is :5 and the result before comparing is 0\n",
      "result value is: 5\n",
      "current value is :9 and the result before comparing is 5\n",
      "result value is: 9\n",
      "current value is :4 and the result before comparing is 9\n",
      "result value is: 9\n",
      "current value is :13 and the result before comparing is 0\n",
      "result value is: 13\n",
      "current value is :4 and the result before comparing is 0\n",
      "result value is: 4\n",
      "current value is :6 and the result before comparing is 13\n",
      "result value is: 13\n",
      "current value is :7 and the result before comparing is 13\n",
      "result value is: 13\n",
      "current value is :11 and the result before comparing is 13\n",
      "result value is: 13\n",
      "current value is :3 and the result before comparing is 13\n",
      "result value is: 13\n",
      "current value is :7 and the result before comparing is 13\n",
      "result value is: 13\n",
      "current value is :4 and the result before comparing is 0\n",
      "result value is: 4\n",
      "current value is :9 and the result before comparing is 13\n",
      "result value is: 13\n",
      "current value is :4 and the result before comparing is 0\n",
      "result value is: 4\n",
      "current value is :13 and the result before comparing is 13\n",
      "result value is: 13\n",
      "current value is :4 and the result before comparing is 0\n",
      "result value is: 4\n",
      "current value is :2 and the result before comparing is 4\n",
      "result value is: 4\n",
      "current value is :8 and the result before comparing is 13\n",
      "result value is: 13\n"
     ]
    },
    {
     "data": {
      "text/plain": [
       "13"
      ]
     },
     "execution_count": 18,
     "metadata": {},
     "output_type": "execute_result"
    }
   ],
   "source": [
    "def MaxPro(arr,b,e):\n",
    "    if e<=b:\n",
    "        return 0\n",
    "    res=0\n",
    "    \n",
    "    for i in range(b,e):\n",
    "        for j in range(i+1,e+1):\n",
    "            if arr[j]>arr[i]:\n",
    "                curr=arr[j]-arr[i]+ \\\n",
    "                MaxPro(arr,b,i-1)+  \\\n",
    "                MaxPro(arr,j+1,e)\n",
    "\n",
    "                print(f'current value is :{curr} and the result before comparing is {res}')\n",
    "            \n",
    "                \n",
    "                res=max(res,curr)\n",
    "                print('result value is:',res)\n",
    "                \n",
    "            \n",
    "\n",
    "    return res\n",
    "arr=[1,5,3,8,12]\n",
    "b=0\n",
    "e=len(arr)-1\n",
    "\n",
    "MaxPro(arr,b,e)\n",
    "\n",
    "# Made the mistake of initialising the recursive call from 0,rather than b which gave wrong results"
   ]
  },
  {
   "cell_type": "markdown",
   "metadata": {},
   "source": [
    "#### Method 2:with a simple loop"
   ]
  },
  {
   "cell_type": "code",
   "execution_count": 25,
   "metadata": {},
   "outputs": [
    {
     "data": {
      "text/plain": [
       "13"
      ]
     },
     "execution_count": 25,
     "metadata": {},
     "output_type": "execute_result"
    }
   ],
   "source": [
    "def MaxProfit(arr):\n",
    "    n=len(arr)\n",
    "    profit=0\n",
    "\n",
    "    for i in range(1,n):\n",
    "        if arr[i]>arr[i-1]:\n",
    "            profit=profit+arr[i]-arr[i-1]\n",
    "\n",
    "    return profit\n",
    "MaxProfit(arr)"
   ]
  },
  {
   "cell_type": "code",
   "execution_count": null,
   "metadata": {},
   "outputs": [],
   "source": []
  }
 ],
 "metadata": {
  "kernelspec": {
   "display_name": "Python 3",
   "language": "python",
   "name": "python3"
  },
  "language_info": {
   "codemirror_mode": {
    "name": "ipython",
    "version": 3
   },
   "file_extension": ".py",
   "mimetype": "text/x-python",
   "name": "python",
   "nbconvert_exporter": "python",
   "pygments_lexer": "ipython3",
   "version": "3.12.0"
  }
 },
 "nbformat": 4,
 "nbformat_minor": 2
}
