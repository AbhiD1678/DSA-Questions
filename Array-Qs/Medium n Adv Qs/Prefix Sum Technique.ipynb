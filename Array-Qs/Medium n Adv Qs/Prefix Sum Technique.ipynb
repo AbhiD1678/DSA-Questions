{
 "cells": [
  {
   "cell_type": "code",
   "execution_count": 9,
   "id": "2bc0dab4-d62c-4613-aead-4495853fea39",
   "metadata": {},
   "outputs": [],
   "source": [
    "def GetSum(arr,l,r):\n",
    "    res=0\n",
    "    for i in range(l,r+1):\n",
    "        res+=arr[i]\n",
    "    return res\n",
    "\n",
    "#Time complexity:O(n)"
   ]
  },
  {
   "cell_type": "code",
   "execution_count": 10,
   "id": "093262ae-15c6-4a50-aac6-6400bbcee730",
   "metadata": {},
   "outputs": [
    {
     "name": "stdout",
     "output_type": "stream",
     "text": [
      "13\n",
      "20\n",
      "27\n"
     ]
    }
   ],
   "source": [
    "arr=[2, 8, 3, 9, 6, 5, 4]    \n",
    "print(GetSum(arr, 0, 2))\n",
    "print(GetSum(arr, 1, 3))\n",
    "print(GetSum(arr, 2, 6))"
   ]
  },
  {
   "cell_type": "code",
   "execution_count": 11,
   "id": "570314b0-f8cb-4b79-b85f-dd13d91e46d1",
   "metadata": {},
   "outputs": [],
   "source": [
    "# The efficient solution includes preprocessing the sum of the array at all the indexes and then finding the sum according to the question\n",
    "\n",
    "def Preprocessing(arr,r):\n",
    "    n=len(arr)\n",
    "    pSum=[0]*n\n",
    "    pSum[0]=arr[0]\n",
    "    for i in range(1,n):\n",
    "        pSum[i]=pSum[i-1]+arr[i]\n",
    "    return pSum[r]\n",
    "\n",
    "def GetSum(arr,l,r):\n",
    "    if l==0:\n",
    "        return Preprocessing(arr,r)\n",
    "    else:\n",
    "        return Preprocessing(arr,r)-Preprocessing(arr,l-1)\n",
    "        "
   ]
  },
  {
   "cell_type": "code",
   "execution_count": 12,
   "id": "c04247ee-61ba-4252-80ec-235076687f03",
   "metadata": {},
   "outputs": [
    {
     "name": "stdout",
     "output_type": "stream",
     "text": [
      "13\n",
      "20\n",
      "27\n"
     ]
    }
   ],
   "source": [
    "arr=[2, 8, 3, 9, 6, 5, 4]    \n",
    "print(GetSum(arr, 0, 2))\n",
    "print(GetSum(arr, 1, 3))\n",
    "print(GetSum(arr, 2, 6))"
   ]
  },
  {
   "cell_type": "code",
   "execution_count": null,
   "id": "9818cb9f-06b7-4969-abe1-d0aedf4fa62c",
   "metadata": {},
   "outputs": [],
   "source": []
  }
 ],
 "metadata": {
  "kernelspec": {
   "display_name": "Python 3 (ipykernel)",
   "language": "python",
   "name": "python3"
  },
  "language_info": {
   "codemirror_mode": {
    "name": "ipython",
    "version": 3
   },
   "file_extension": ".py",
   "mimetype": "text/x-python",
   "name": "python",
   "nbconvert_exporter": "python",
   "pygments_lexer": "ipython3",
   "version": "3.12.0"
  }
 },
 "nbformat": 4,
 "nbformat_minor": 5
}
