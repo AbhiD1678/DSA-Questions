{
 "cells": [
  {
   "cell_type": "raw",
   "id": "d3d45c5d-062a-4879-bc3b-3b42dd5f6766",
   "metadata": {},
   "source": [
    "An element is said to be a majority element when it appears more than n/2 times in the array\n"
   ]
  },
  {
   "cell_type": "code",
   "execution_count": 2,
   "id": "9663b4c2-c418-44b9-b8e2-12b3f7d59e42",
   "metadata": {},
   "outputs": [],
   "source": [
    "def MajorityElement(arr,n):\n",
    "    for i in range(n):\n",
    "        count=1\n",
    "        for j in range(i+1,n):\n",
    "            if arr[i]==arr[j]:\n",
    "                count+=1\n",
    "        if count>n/2:\n",
    "            return i\n",
    "    return -1\n",
    "\n",
    "# Time complexity:O(n^2)\n"
   ]
  },
  {
   "cell_type": "code",
   "execution_count": 13,
   "id": "a6f0307c-37be-48f1-9cdb-03945b12dd95",
   "metadata": {},
   "outputs": [],
   "source": [
    "### Moore's algorithm\n",
    "\n",
    "def MajorityElem(arr,n):\n",
    "    res=0\n",
    "    count=1\n",
    "    for i in range(1,n):\n",
    "        if arr[res]==arr[i]:\n",
    "            count+=1\n",
    "        else:\n",
    "            count-=1\n",
    "        if count==0:\n",
    "            res=i\n",
    "            count=1\n",
    "    count=0\n",
    "    for i in range(n):\n",
    "        if arr[res]==arr[i]:\n",
    "            count+=1\n",
    "    if count<=n/2:\n",
    "        res=-1\n",
    "    return res"
   ]
  },
  {
   "cell_type": "code",
   "execution_count": 14,
   "id": "3b8e9ce3-5f0a-443f-8217-e19e1cef6050",
   "metadata": {},
   "outputs": [
    {
     "data": {
      "text/plain": [
       "9"
      ]
     },
     "execution_count": 14,
     "metadata": {},
     "output_type": "execute_result"
    }
   ],
   "source": [
    "arr=[1,1,1,2,2,2,3,3,1,1,1,1]\n",
    "MajorityElem(arr,len(arr))"
   ]
  },
  {
   "cell_type": "code",
   "execution_count": 12,
   "id": "3134feac-01ef-48e6-82e0-5874632c2c47",
   "metadata": {},
   "outputs": [
    {
     "data": {
      "text/plain": [
       "0"
      ]
     },
     "execution_count": 12,
     "metadata": {},
     "output_type": "execute_result"
    }
   ],
   "source": [
    "MajorityElement(arr,len(arr))"
   ]
  },
  {
   "cell_type": "code",
   "execution_count": 15,
   "id": "1f57cdf4-4915-4d77-b05a-f7bda107fe3f",
   "metadata": {},
   "outputs": [
    {
     "data": {
      "text/plain": [
       "6"
      ]
     },
     "execution_count": 15,
     "metadata": {},
     "output_type": "execute_result"
    }
   ],
   "source": [
    "arr1=[1,2,1,2,1,2,1]\n",
    "MajorityElem(arr1,len(arr1))"
   ]
  },
  {
   "cell_type": "code",
   "execution_count": null,
   "id": "7f33ccf9-c41b-4cd0-99ab-cd73ff8f474d",
   "metadata": {},
   "outputs": [],
   "source": []
  }
 ],
 "metadata": {
  "kernelspec": {
   "display_name": "Python 3 (ipykernel)",
   "language": "python",
   "name": "python3"
  },
  "language_info": {
   "codemirror_mode": {
    "name": "ipython",
    "version": 3
   },
   "file_extension": ".py",
   "mimetype": "text/x-python",
   "name": "python",
   "nbconvert_exporter": "python",
   "pygments_lexer": "ipython3",
   "version": "3.12.0"
  }
 },
 "nbformat": 4,
 "nbformat_minor": 5
}
