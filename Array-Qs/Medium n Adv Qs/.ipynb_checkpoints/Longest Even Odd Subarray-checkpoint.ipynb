{
 "cells": [
  {
   "cell_type": "code",
   "execution_count": 11,
   "id": "b56752d5-d0f2-4ba8-86d1-0de0d7f404ca",
   "metadata": {},
   "outputs": [],
   "source": [
    "def longestsubarray(arr,n):\n",
    "    result=1\n",
    "    for i in range(0,n):\n",
    "        curr=1\n",
    "        for j in range(i+1,n):\n",
    "            if(arr[j]%2==0 and arr[j-1]%2!=0) or (arr[j]%2!=0 and arr[j-1]%2==0):\n",
    "                curr+=1\n",
    "            else:\n",
    "                break\n",
    "        result=max(curr,result)\n",
    "    return result\n",
    "\n",
    "#Time complexity:O(n^2)"
   ]
  },
  {
   "cell_type": "code",
   "execution_count": 20,
   "id": "23a9f044-bf71-4bb4-8738-649bac68ddd2",
   "metadata": {},
   "outputs": [
    {
     "data": {
      "text/plain": [
       "5"
      ]
     },
     "execution_count": 20,
     "metadata": {},
     "output_type": "execute_result"
    }
   ],
   "source": [
    "arr=[1,2,3,4,5]\n",
    "longestsubarray(arr,len(arr))"
   ]
  },
  {
   "cell_type": "code",
   "execution_count": 35,
   "id": "40f5a73c-901c-40af-97d8-bf78bcfa89ac",
   "metadata": {},
   "outputs": [],
   "source": [
    "def maxevenodd(arr,n):\n",
    "    result=1\n",
    "    curr=1\n",
    "    for i in range(1,n):\n",
    "        if(arr[i]%2==0 and arr[i-1]%2!=0) or (arr[i]%2!=0 and arr[i-1]%2==0):\n",
    "            curr+=1\n",
    "            result=max(result,curr)\n",
    "        else:\n",
    "            curr=1\n",
    "        \n",
    "    return result\n",
    "\n",
    "#Time complexity:O(n)"
   ]
  },
  {
   "cell_type": "code",
   "execution_count": 36,
   "id": "fe6f366f-fa1e-4aa4-a134-5ab5c03924ba",
   "metadata": {},
   "outputs": [
    {
     "data": {
      "text/plain": [
       "5"
      ]
     },
     "execution_count": 36,
     "metadata": {},
     "output_type": "execute_result"
    }
   ],
   "source": [
    "maxevenodd(arr,len(arr))"
   ]
  },
  {
   "cell_type": "code",
   "execution_count": null,
   "id": "664b563d-69c2-49a3-bb25-51652f5bd255",
   "metadata": {},
   "outputs": [],
   "source": []
  }
 ],
 "metadata": {
  "kernelspec": {
   "display_name": "Python 3 (ipykernel)",
   "language": "python",
   "name": "python3"
  },
  "language_info": {
   "codemirror_mode": {
    "name": "ipython",
    "version": 3
   },
   "file_extension": ".py",
   "mimetype": "text/x-python",
   "name": "python",
   "nbconvert_exporter": "python",
   "pygments_lexer": "ipython3",
   "version": "3.12.0"
  }
 },
 "nbformat": 4,
 "nbformat_minor": 5
}
