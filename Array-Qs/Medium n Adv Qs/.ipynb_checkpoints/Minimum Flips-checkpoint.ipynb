{
 "cells": [
  {
   "cell_type": "raw",
   "id": "24f71180-ee1e-46e5-8ea4-49556d9d2024",
   "metadata": {},
   "source": [
    "We can flip consecutive elements in one go but we can either flip 1 r 0 ,not both.\n",
    "The logic is that,Either the counts of both groups are same or the difference between counts is at most 1."
   ]
  },
  {
   "cell_type": "code",
   "execution_count": 17,
   "id": "daa2a268-c2b0-45bc-ba0b-0b9e83fb1e4c",
   "metadata": {},
   "outputs": [],
   "source": [
    "def MinimumFlips(arr):\n",
    "    n=len(arr)\n",
    "    for i in range(1,n):\n",
    "        if arr[i]!=arr[i-1]:\n",
    "            if arr[i]!=arr[0]:\n",
    "                print(f'From {i} to ',end='')\n",
    "            else:\n",
    "                print(i-1)\n",
    "    if arr[n-1]!=arr[0]:\n",
    "        print(n-1)"
   ]
  },
  {
   "cell_type": "code",
   "execution_count": 18,
   "id": "515dfb8f-690f-49ca-82c4-3ea5eb65ed33",
   "metadata": {},
   "outputs": [
    {
     "name": "stdout",
     "output_type": "stream",
     "text": [
      "From 1 to 4\n",
      "From 6 to 6\n"
     ]
    }
   ],
   "source": [
    "arr=[1,0,0,0,0,1,0]\n",
    "MinimumFlips(arr)"
   ]
  },
  {
   "cell_type": "code",
   "execution_count": 19,
   "id": "07440394-bb40-4638-91c5-998b5dc07092",
   "metadata": {},
   "outputs": [
    {
     "name": "stdout",
     "output_type": "stream",
     "text": [
      "From 1 to 4\n",
      "From 6 to 6\n"
     ]
    }
   ],
   "source": [
    "arr1=[1,0,0,0,0,1,0,1]\n",
    "MinimumFlips(arr1)"
   ]
  },
  {
   "cell_type": "code",
   "execution_count": null,
   "id": "9290fb72-0b5b-49ba-95cd-7e487d9c7ebc",
   "metadata": {},
   "outputs": [],
   "source": []
  },
  {
   "cell_type": "code",
   "execution_count": null,
   "id": "347c33e4-26ca-4160-905f-c775cb8109ab",
   "metadata": {},
   "outputs": [],
   "source": []
  }
 ],
 "metadata": {
  "kernelspec": {
   "display_name": "Python 3 (ipykernel)",
   "language": "python",
   "name": "python3"
  },
  "language_info": {
   "codemirror_mode": {
    "name": "ipython",
    "version": 3
   },
   "file_extension": ".py",
   "mimetype": "text/x-python",
   "name": "python",
   "nbconvert_exporter": "python",
   "pygments_lexer": "ipython3",
   "version": "3.12.0"
  }
 },
 "nbformat": 4,
 "nbformat_minor": 5
}
