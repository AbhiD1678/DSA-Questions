{
 "cells": [
  {
   "cell_type": "code",
   "execution_count": 3,
   "id": "d4ff4329-fd5f-4694-ad14-cbd7efd3875e",
   "metadata": {},
   "outputs": [],
   "source": [
    "def MaxApp(left,right):\n",
    "    freq=[0]*100\n",
    "    for i in range(len(left)):\n",
    "        for j in range(left[i],right[i]+1):\n",
    "            freq[j]+=1\n",
    "    return freq.index(max(freq))\n",
    "\n",
    "#Time complexity:O(N*max),where max here is 100"
   ]
  },
  {
   "cell_type": "code",
   "execution_count": 4,
   "id": "bc89eaa2-5339-401a-a2f9-efa280c94f81",
   "metadata": {},
   "outputs": [
    {
     "data": {
      "text/plain": [
       "4"
      ]
     },
     "execution_count": 4,
     "metadata": {},
     "output_type": "execute_result"
    }
   ],
   "source": [
    "left=[1,2,4]\n",
    "right=[4,5,7]\n",
    "MaxApp(left,right)"
   ]
  },
  {
   "cell_type": "raw",
   "id": "a3b9038f-a41a-4660-bb8d-e5c6bf1afd22",
   "metadata": {},
   "source": [
    "For the efficient solution,we will make use of the concept of markers,at the beginning of the range,we will put a marker there and at the element just after the end we will again put a marker there to signify that the range has ended"
   ]
  },
  {
   "cell_type": "code",
   "execution_count": 8,
   "id": "9b69c7a5-1231-4305-baa1-97f07b1a5e91",
   "metadata": {},
   "outputs": [],
   "source": [
    "def MaxApp(left,right):\n",
    "    freq=[0]*101\n",
    "    for i in range(len(left)):\n",
    "        freq[left[i]]+=1\n",
    "        freq[right[i]+1]-=1\n",
    "    for i in range(1,100):\n",
    "        freq[i]=freq[i]+freq[i-1]\n",
    "    return freq.index(max(freq))"
   ]
  },
  {
   "cell_type": "code",
   "execution_count": 9,
   "id": "b284bf93-315d-4b32-8c8b-649fc200bfd7",
   "metadata": {},
   "outputs": [
    {
     "data": {
      "text/plain": [
       "4"
      ]
     },
     "execution_count": 9,
     "metadata": {},
     "output_type": "execute_result"
    }
   ],
   "source": [
    "left=[1,2,4]\n",
    "right=[4,5,7]\n",
    "MaxApp(left,right)"
   ]
  },
  {
   "cell_type": "code",
   "execution_count": 13,
   "id": "ae2c8e50-320c-49bb-96ba-db7421aa274c",
   "metadata": {},
   "outputs": [
    {
     "name": "stdout",
     "output_type": "stream",
     "text": [
      "[]\n"
     ]
    }
   ],
   "source": [
    "list=['a','b','c']* -3\n",
    "print(list)"
   ]
  },
  {
   "cell_type": "code",
   "execution_count": 14,
   "id": "3e35e7b5-9a28-4f1a-b1bc-ffe6e8e42162",
   "metadata": {},
   "outputs": [
    {
     "name": "stdout",
     "output_type": "stream",
     "text": [
      "[[[2, 3, 9]], [[2, 3, 9]], [[2, 3, 9]]]\n"
     ]
    }
   ],
   "source": [
    "data = [2, 3, 9]\n",
    "temp = [[x for x in[data]] for x in range(3)]\n",
    "print (temp)"
   ]
  },
  {
   "cell_type": "code",
   "execution_count": 16,
   "id": "333b7e10-da99-4c95-ba9d-14c7d31060c4",
   "metadata": {},
   "outputs": [
    {
     "name": "stdout",
     "output_type": "stream",
     "text": [
      "[0, 2, 4]\n"
     ]
    }
   ],
   "source": [
    "data = [x for x in range(5)]\n",
    "temp = [x for x in range(7) if x in data and x%2==0]\n",
    "print(temp)"
   ]
  },
  {
   "cell_type": "code",
   "execution_count": 18,
   "id": "74cdaf05-e9f1-4588-aead-54b97554aab9",
   "metadata": {},
   "outputs": [
    {
     "name": "stdout",
     "output_type": "stream",
     "text": [
      "['G', 'F', 'G']\n"
     ]
    }
   ],
   "source": [
    "temp = ['Geeks', 'for', 'Geeks']\n",
    "arr =[i[0].upper() for i in temp]\n",
    "print(arr)"
   ]
  },
  {
   "cell_type": "code",
   "execution_count": 20,
   "id": "b9ab7dd6-c623-4c1a-9d3a-0918109e6a9b",
   "metadata": {},
   "outputs": [
    {
     "name": "stdout",
     "output_type": "stream",
     "text": [
      "[2, 2, 6, 4, 4]\n"
     ]
    }
   ],
   "source": [
    "temp = 'Geeks 22536 for 445 Geeks'\n",
    "data = [x for x in (int(x) for x in temp if x.isdigit()) if x%2==0]\n",
    "print(data)"
   ]
  },
  {
   "cell_type": "code",
   "execution_count": 22,
   "id": "c07f38bc-e29e-4383-94c6-833a27f9205e",
   "metadata": {},
   "outputs": [
    {
     "name": "stdout",
     "output_type": "stream",
     "text": [
      "[]\n"
     ]
    }
   ],
   "source": [
    "data = [x for x in (x for x in 'Geeks 22966 for Geeks' if x.isdigit()) if(x in ([x for x in range(20)]))]\n",
    "print(data)"
   ]
  },
  {
   "cell_type": "code",
   "execution_count": 3,
   "id": "dfde173e-a79e-4cd6-be33-d4931c324544",
   "metadata": {},
   "outputs": [
    {
     "name": "stdout",
     "output_type": "stream",
     "text": [
      "[[1, [2, 3], 4], 7, 8, 9]\n"
     ]
    }
   ],
   "source": [
    "L1=[]\n",
    "L1.append([1, [2, 3], 4])\n",
    "L1.extend([7, 8, 9])\n",
    "print(L1)"
   ]
  },
  {
   "cell_type": "code",
   "execution_count": null,
   "id": "603afbcf-4249-41dd-a416-9fbe39040469",
   "metadata": {},
   "outputs": [],
   "source": []
  }
 ],
 "metadata": {
  "kernelspec": {
   "display_name": "Python 3 (ipykernel)",
   "language": "python",
   "name": "python3"
  },
  "language_info": {
   "codemirror_mode": {
    "name": "ipython",
    "version": 3
   },
   "file_extension": ".py",
   "mimetype": "text/x-python",
   "name": "python",
   "nbconvert_exporter": "python",
   "pygments_lexer": "ipython3",
   "version": "3.12.0"
  }
 },
 "nbformat": 4,
 "nbformat_minor": 5
}
