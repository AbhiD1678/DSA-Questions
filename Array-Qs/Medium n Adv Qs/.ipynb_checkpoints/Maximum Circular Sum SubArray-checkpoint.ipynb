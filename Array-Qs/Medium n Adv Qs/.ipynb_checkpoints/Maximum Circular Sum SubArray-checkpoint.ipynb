{
 "cells": [
  {
   "cell_type": "code",
   "execution_count": 7,
   "id": "6c0db561-8edf-4d7d-8c63-b8663affa3d7",
   "metadata": {},
   "outputs": [],
   "source": [
    "def maxCircularSum(arr,n):\n",
    "    res=1\n",
    "    for i in range(0,n):\n",
    "        curr_max=arr[i]\n",
    "        curr_sum=arr[i]\n",
    "        for j in range(1,n):\n",
    "            index=(i+j)%n\n",
    "            curr_sum+=arr[index]\n",
    "            curr_max=max(curr_sum,curr_max)\n",
    "        res=max(curr_max,res)\n",
    "    return res\n",
    "\n",
    "# Time complexity:O(n^2)"
   ]
  },
  {
   "cell_type": "code",
   "execution_count": 8,
   "id": "5cc5dee1-96a2-4d11-bb8e-9bc3540f92ce",
   "metadata": {},
   "outputs": [
    {
     "data": {
      "text/plain": [
       "5"
      ]
     },
     "execution_count": 8,
     "metadata": {},
     "output_type": "execute_result"
    }
   ],
   "source": [
    "arr1=[1,2,3,4]\n",
    "maxCircularSum(arr1,len(arr1))\n",
    "arr2=[1,-2,-3,4]\n",
    "maxCircularSum(arr2,len(arr2))"
   ]
  },
  {
   "cell_type": "code",
   "execution_count": 13,
   "id": "3a6d671c-70c1-4705-923b-87cb051c7ef7",
   "metadata": {},
   "outputs": [],
   "source": [
    "def normalMaxSum(arr,n):\n",
    "    res=arr[0]\n",
    "    maxSum=arr[0]\n",
    "    for i in range(1,n):\n",
    "        maxSum=max(maxSum+arr[i],arr[i])\n",
    "        res=max(maxSum,res)\n",
    "    return res\n",
    "\n",
    "def maxCircularSum(arr,n):\n",
    "    normal_max_sum=normalMaxSum(arr,n)\n",
    "\n",
    "    if normal_max_sum<0:\n",
    "        return normal_max_sum\n",
    "\n",
    "#Now we will find the minimum sum in the array\n",
    "    sum1=0\n",
    "    for i in range(0,n):\n",
    "        sum1+=arr[i]\n",
    "        arr[i]=-arr[i]# Here inverting the elements so that we can get the max sum of these inverted elements,which also means if we invert them again it will be the minimum sum subarray\n",
    "    circular_sum=sum1+normalMaxSum(arr,n)#total sum - minimum sum\n",
    "    return max(circular_sum,normal_max_sum)\n",
    "\n",
    "# Time complexity:O(n)"
   ]
  },
  {
   "cell_type": "code",
   "execution_count": 14,
   "id": "4216c4fc-183c-4777-a15b-2014c7f1500c",
   "metadata": {},
   "outputs": [
    {
     "data": {
      "text/plain": [
       "5"
      ]
     },
     "execution_count": 14,
     "metadata": {},
     "output_type": "execute_result"
    }
   ],
   "source": [
    "maxCircularSum(arr2,len(arr2))"
   ]
  },
  {
   "cell_type": "code",
   "execution_count": null,
   "id": "4be01050-9fc3-4a20-a674-a0352425e1ed",
   "metadata": {},
   "outputs": [],
   "source": []
  }
 ],
 "metadata": {
  "kernelspec": {
   "display_name": "Python 3 (ipykernel)",
   "language": "python",
   "name": "python3"
  },
  "language_info": {
   "codemirror_mode": {
    "name": "ipython",
    "version": 3
   },
   "file_extension": ".py",
   "mimetype": "text/x-python",
   "name": "python",
   "nbconvert_exporter": "python",
   "pygments_lexer": "ipython3",
   "version": "3.12.0"
  }
 },
 "nbformat": 4,
 "nbformat_minor": 5
}
