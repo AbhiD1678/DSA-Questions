{
 "cells": [
  {
   "cell_type": "code",
   "execution_count": 3,
   "id": "d4ff4329-fd5f-4694-ad14-cbd7efd3875e",
   "metadata": {},
   "outputs": [],
   "source": [
    "def MaxApp(left,right):\n",
    "    freq=[0]*100\n",
    "    for i in range(len(left)):\n",
    "        for j in range(left[i],right[i]+1):\n",
    "            freq[j]+=1\n",
    "    return freq.index(max(freq))\n",
    "\n",
    "#Time complexity:O(N*max),where max here is 100"
   ]
  },
  {
   "cell_type": "code",
   "execution_count": 4,
   "id": "bc89eaa2-5339-401a-a2f9-efa280c94f81",
   "metadata": {},
   "outputs": [
    {
     "data": {
      "text/plain": [
       "4"
      ]
     },
     "execution_count": 4,
     "metadata": {},
     "output_type": "execute_result"
    }
   ],
   "source": [
    "left=[1,2,4]\n",
    "right=[4,5,7]\n",
    "MaxApp(left,right)"
   ]
  },
  {
   "cell_type": "raw",
   "id": "a3b9038f-a41a-4660-bb8d-e5c6bf1afd22",
   "metadata": {},
   "source": [
    "For the efficient solution,we will make use of the concept of markers,at the beginning of the range,we will put a marker there and at the element just after the end we will again put a marker there to signify that the range has ended"
   ]
  },
  {
   "cell_type": "code",
   "execution_count": 8,
   "id": "9b69c7a5-1231-4305-baa1-97f07b1a5e91",
   "metadata": {},
   "outputs": [],
   "source": [
    "def MaxApp(left,right):\n",
    "    freq=[0]*101\n",
    "    for i in range(len(left)):\n",
    "        freq[left[i]]+=1\n",
    "        freq[right[i]+1]-=1\n",
    "    for i in range(1,100):\n",
    "        freq[i]=freq[i]+freq[i-1]\n",
    "    return freq.index(max(freq))"
   ]
  },
  {
   "cell_type": "code",
   "execution_count": 9,
   "id": "b284bf93-315d-4b32-8c8b-649fc200bfd7",
   "metadata": {},
   "outputs": [
    {
     "data": {
      "text/plain": [
       "4"
      ]
     },
     "execution_count": 9,
     "metadata": {},
     "output_type": "execute_result"
    }
   ],
   "source": [
    "left=[1,2,4]\n",
    "right=[4,5,7]\n",
    "MaxApp(left,right)"
   ]
  },
  {
   "cell_type": "code",
   "execution_count": null,
   "id": "ae2c8e50-320c-49bb-96ba-db7421aa274c",
   "metadata": {},
   "outputs": [],
   "source": []
  }
 ],
 "metadata": {
  "kernelspec": {
   "display_name": "Python 3 (ipykernel)",
   "language": "python",
   "name": "python3"
  },
  "language_info": {
   "codemirror_mode": {
    "name": "ipython",
    "version": 3
   },
   "file_extension": ".py",
   "mimetype": "text/x-python",
   "name": "python",
   "nbconvert_exporter": "python",
   "pygments_lexer": "ipython3",
   "version": "3.12.0"
  }
 },
 "nbformat": 4,
 "nbformat_minor": 5
}
