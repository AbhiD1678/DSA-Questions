{
 "cells": [
  {
   "cell_type": "raw",
   "id": "60476ad3-d706-4c4f-b21a-951f946d1d59",
   "metadata": {},
   "source": [
    "A point is said to be an equilibrium point when the left side sum is equal to the right side sum,corner points can also be considered as the equilibrium points as One side sum will be considered as 0."
   ]
  },
  {
   "cell_type": "code",
   "execution_count": 4,
   "id": "e1d9371a-a947-4f41-ab7b-fc7166867e92",
   "metadata": {},
   "outputs": [],
   "source": [
    "def ePnt(arr):\n",
    "    n=len(arr)\n",
    "    for i in range(n):\n",
    "        lsum,rsum=0,0\n",
    "        for j in range(i):\n",
    "            lsum+=arr[j]\n",
    "        for j in range(i+1,n):\n",
    "            rsum+=arr[j]\n",
    "        if lsum==rsum:\n",
    "            return True\n",
    "    return False\n",
    "\n",
    "#Time complexity:O(n)"
   ]
  },
  {
   "cell_type": "code",
   "execution_count": 5,
   "id": "a0e58c49-1883-452c-a2b5-84ef1935e333",
   "metadata": {},
   "outputs": [
    {
     "data": {
      "text/plain": [
       "True"
      ]
     },
     "execution_count": 5,
     "metadata": {},
     "output_type": "execute_result"
    }
   ],
   "source": [
    "arr=[4,2,-2]\n",
    "ePnt(arr)"
   ]
  },
  {
   "cell_type": "code",
   "execution_count": 8,
   "id": "94ebe488-6756-4eef-a728-0e237da97694",
   "metadata": {},
   "outputs": [],
   "source": [
    "def ePoint(arr):\n",
    "    rsum=sum(arr)\n",
    "    lsum=0\n",
    "    for i in range(len(arr)):\n",
    "        rsum-=arr[i]\n",
    "        if rsum==lsum:\n",
    "            return True\n",
    "        lsum+=arr[i]\n",
    "    return False"
   ]
  },
  {
   "cell_type": "code",
   "execution_count": 9,
   "id": "23dcc289-b9aa-4bd1-8473-a1a4eb2abc1c",
   "metadata": {},
   "outputs": [
    {
     "data": {
      "text/plain": [
       "True"
      ]
     },
     "execution_count": 9,
     "metadata": {},
     "output_type": "execute_result"
    }
   ],
   "source": [
    "arr=[4,2,-2]\n",
    "ePoint(arr)"
   ]
  },
  {
   "cell_type": "code",
   "execution_count": null,
   "id": "7d7f24dd-a0a9-4339-aa5e-65cbe24e50f7",
   "metadata": {},
   "outputs": [],
   "source": []
  }
 ],
 "metadata": {
  "kernelspec": {
   "display_name": "Python 3 (ipykernel)",
   "language": "python",
   "name": "python3"
  },
  "language_info": {
   "codemirror_mode": {
    "name": "ipython",
    "version": 3
   },
   "file_extension": ".py",
   "mimetype": "text/x-python",
   "name": "python",
   "nbconvert_exporter": "python",
   "pygments_lexer": "ipython3",
   "version": "3.12.0"
  }
 },
 "nbformat": 4,
 "nbformat_minor": 5
}
