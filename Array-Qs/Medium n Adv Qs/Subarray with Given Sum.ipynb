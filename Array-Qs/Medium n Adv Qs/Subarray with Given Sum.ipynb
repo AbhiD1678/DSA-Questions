{
 "cells": [
  {
   "cell_type": "code",
   "execution_count": 6,
   "id": "27cdcf38-38a6-4dd9-9bdf-1603814fca87",
   "metadata": {},
   "outputs": [],
   "source": [
    "def GivenSum(arr,s):\n",
    "\n",
    "    for i in range(len(arr)):\n",
    "        subSum=0\n",
    "        for j in range(i,len(arr)):\n",
    "            subSum+=arr[j]\n",
    "            if subSum==s:\n",
    "                return True\n",
    "    return False\n",
    "\n",
    "# Time complexity:O(n^2)"
   ]
  },
  {
   "cell_type": "code",
   "execution_count": 7,
   "id": "73d1c81e-c27f-43ca-8716-21c691b4fa49",
   "metadata": {},
   "outputs": [
    {
     "data": {
      "text/plain": [
       "True"
      ]
     },
     "execution_count": 7,
     "metadata": {},
     "output_type": "execute_result"
    }
   ],
   "source": [
    "arr=[1,2,3,4,5]\n",
    "s=7\n",
    "GivenSum(arr,s)"
   ]
  },
  {
   "cell_type": "code",
   "execution_count": 9,
   "id": "108dc252-e48e-4d2d-bcc8-e5848b845638",
   "metadata": {},
   "outputs": [],
   "source": [
    "def SubarraySum(arr,sum):\n",
    "    s,curr=0,0\n",
    "    for e in range(len(arr)):\n",
    "        curr+=arr[e]\n",
    "        while curr>sum:\n",
    "            curr-=arr[s]\n",
    "            s+=1\n",
    "        if curr==sum:\n",
    "            return True\n",
    "    return False\n",
    "\n",
    "# Time complexity will be O(n) as for every element,it will go in the while loop for atmost once,so it will be O(1) operation,hence the overall time complexity will be O(n)"
   ]
  },
  {
   "cell_type": "code",
   "execution_count": 10,
   "id": "b211f5f6-90dd-433e-860f-df7b757355fd",
   "metadata": {},
   "outputs": [
    {
     "data": {
      "text/plain": [
       "True"
      ]
     },
     "execution_count": 10,
     "metadata": {},
     "output_type": "execute_result"
    }
   ],
   "source": [
    "arr=[1,2,3,4,5]\n",
    "s=7\n",
    "SubarraySum(arr,s)"
   ]
  },
  {
   "cell_type": "code",
   "execution_count": null,
   "id": "4231fd29-7853-467e-8981-5e321457d2cf",
   "metadata": {},
   "outputs": [],
   "source": []
  }
 ],
 "metadata": {
  "kernelspec": {
   "display_name": "Python 3 (ipykernel)",
   "language": "python",
   "name": "python3"
  },
  "language_info": {
   "codemirror_mode": {
    "name": "ipython",
    "version": 3
   },
   "file_extension": ".py",
   "mimetype": "text/x-python",
   "name": "python",
   "nbconvert_exporter": "python",
   "pygments_lexer": "ipython3",
   "version": "3.12.0"
  }
 },
 "nbformat": 4,
 "nbformat_minor": 5
}
