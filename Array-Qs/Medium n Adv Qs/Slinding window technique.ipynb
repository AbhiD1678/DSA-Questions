{
 "cells": [
  {
   "cell_type": "code",
   "execution_count": 10,
   "id": "dd036210-7e9a-49ae-b8de-2cc63300b5d9",
   "metadata": {},
   "outputs": [],
   "source": [
    "def KMax(arr,k):\n",
    "    n=len(arr)\n",
    "\n",
    "    res=float('-inf')\n",
    "    i=0\n",
    "    while(i+k-1<n):\n",
    "        curr=0\n",
    "        for j in range(k):\n",
    "            curr+=arr[i+j]\n",
    "        res=max(res,curr)\n",
    "        i+=1\n",
    "    return res"
   ]
  },
  {
   "cell_type": "code",
   "execution_count": 12,
   "id": "196ccf47-0e42-49e3-a5f1-b95221b510ba",
   "metadata": {},
   "outputs": [
    {
     "data": {
      "text/plain": [
       "23"
      ]
     },
     "execution_count": 12,
     "metadata": {},
     "output_type": "execute_result"
    }
   ],
   "source": [
    "arr=[10,5,-2,20,1]\n",
    "KMax(arr,3)"
   ]
  },
  {
   "cell_type": "code",
   "execution_count": 16,
   "id": "d33bd26e-8e15-4227-b1fd-f4e578bb089f",
   "metadata": {},
   "outputs": [],
   "source": [
    "def KMaxE(arr,k):\n",
    "    n=len(arr)\n",
    "    res=float('-inf')\n",
    "    curr=0\n",
    "    for i in range(k):\n",
    "        curr+=arr[i]\n",
    "    for i in range(k,n):\n",
    "        curr=curr+arr[i]-arr[i-k]\n",
    "        res=max(res,curr)\n",
    "    return res"
   ]
  },
  {
   "cell_type": "code",
   "execution_count": 17,
   "id": "02d097d7-f811-45bf-8e73-e9d11cb2a868",
   "metadata": {},
   "outputs": [
    {
     "data": {
      "text/plain": [
       "23"
      ]
     },
     "execution_count": 17,
     "metadata": {},
     "output_type": "execute_result"
    }
   ],
   "source": [
    "KMaxE(arr,3)"
   ]
  },
  {
   "cell_type": "code",
   "execution_count": null,
   "id": "0de23e27-9c78-4d75-8856-2a86c90dc558",
   "metadata": {},
   "outputs": [],
   "source": []
  }
 ],
 "metadata": {
  "kernelspec": {
   "display_name": "Python 3 (ipykernel)",
   "language": "python",
   "name": "python3"
  },
  "language_info": {
   "codemirror_mode": {
    "name": "ipython",
    "version": 3
   },
   "file_extension": ".py",
   "mimetype": "text/x-python",
   "name": "python",
   "nbconvert_exporter": "python",
   "pygments_lexer": "ipython3",
   "version": "3.12.0"
  }
 },
 "nbformat": 4,
 "nbformat_minor": 5
}
