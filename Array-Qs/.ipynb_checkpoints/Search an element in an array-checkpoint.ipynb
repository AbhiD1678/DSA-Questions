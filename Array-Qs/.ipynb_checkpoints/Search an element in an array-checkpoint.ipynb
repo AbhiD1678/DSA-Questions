{
 "cells": [
  {
   "cell_type": "code",
   "execution_count": 1,
   "id": "94b59a40",
   "metadata": {},
   "outputs": [],
   "source": [
    "'''\n",
    "Given an integer array and another integer element. The task is to find if the given element is present in array or not.\n",
    "\n",
    "Example 1:\n",
    "\n",
    "Input:\n",
    "n = 4\n",
    "arr[] = {1,2,3,4}\n",
    "x = 3\n",
    "Output: 2\n",
    "Explanation: There is one test case \n",
    "with array as {1, 2, 3 4} and element \n",
    "to be searched as 3.  Since 3 is \n",
    "present at index 2, output is 2.\n",
    "Example 2:\n",
    "\n",
    "Input:\n",
    "n = 5\n",
    "arr[] = {1,2,3,4,5}\n",
    "x = 5\n",
    "Output: 4\n",
    "Explanation: For array elements \n",
    "{1,2,3,4,5} element to be searched \n",
    "is 5 and it is at index 4. So, the \n",
    "output is 4.\n",
    "Your Task:\n",
    "The task is to complete the function search() which takes the array arr[], its size N and the element X as inputs and returns the index of first occurrence of X in the given array. If the element X does not exist in the array, the function should return -1.\n",
    "\n",
    "Expected Time Complexity: O(n).\n",
    "Expected Auxiliary Space: O(1). \n",
    "\n",
    "Constraints:\n",
    "1 <= n <= 106\n",
    "0 <= arr[i] <= 106\n",
    "0 <= x <= 105\n",
    "\n",
    "\n",
    "'''\n",
    "\n",
    "\n",
    "def search(arr, N, X):\n",
    "        #Your code here\n",
    "\n",
    "        if X in arr:\n",
    "            return arr.index(X)\n",
    "        else:\n",
    "            return -1"
   ]
  },
  {
   "cell_type": "code",
   "execution_count": null,
   "id": "49dfde9e",
   "metadata": {},
   "outputs": [],
   "source": []
  }
 ],
 "metadata": {
  "kernelspec": {
   "display_name": "Python 3 (ipykernel)",
   "language": "python",
   "name": "python3"
  },
  "language_info": {
   "codemirror_mode": {
    "name": "ipython",
    "version": 3
   },
   "file_extension": ".py",
   "mimetype": "text/x-python",
   "name": "python",
   "nbconvert_exporter": "python",
   "pygments_lexer": "ipython3",
   "version": "3.11.4"
  }
 },
 "nbformat": 4,
 "nbformat_minor": 5
}
