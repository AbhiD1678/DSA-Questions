{
 "cells": [
  {
   "cell_type": "code",
   "execution_count": null,
   "id": "6647d6bf",
   "metadata": {},
   "outputs": [],
   "source": [
    "#This is used when we have to separate the elements of the list into two different lists,based on a particular condition\n",
    "def getList(l):\n",
    "    even=[]\n",
    "    odd=[]\n",
    "    for num in l:\n",
    "        if num%2==0:\n",
    "            even.append(l)\n",
    "        else:\n",
    "            odd.append(l)\n",
    "    return even,odd"
   ]
  }
 ],
 "metadata": {
  "kernelspec": {
   "display_name": "Python 3 (ipykernel)",
   "language": "python",
   "name": "python3"
  },
  "language_info": {
   "codemirror_mode": {
    "name": "ipython",
    "version": 3
   },
   "file_extension": ".py",
   "mimetype": "text/x-python",
   "name": "python",
   "nbconvert_exporter": "python",
   "pygments_lexer": "ipython3",
   "version": "3.11.4"
  }
 },
 "nbformat": 4,
 "nbformat_minor": 5
}
