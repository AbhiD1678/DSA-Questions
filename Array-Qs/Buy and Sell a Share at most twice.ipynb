{
 "cells": [
  {
   "cell_type": "code",
   "execution_count": 1,
   "id": "6aa8e8ff",
   "metadata": {},
   "outputs": [
    {
     "data": {
      "text/plain": [
       "'\\nIn daily share trading, a buyer buys shares in the morning and sells them on the same day. If the trader is allowed to make at most 2 transactions in a day, the second transaction can only start after the first one is complete (buy->sell->buy->sell). The stock prices throughout the day are represented in the form of an array of prices. \\n\\nGiven an array price of size n, find out the maximum profit that a share trader could have made.\\n\\nExample 1:\\n\\nInput:\\nn = 6\\nprices[] = {10,22,5,75,65,80}\\nOutput:\\n87\\nExplanation:\\nTrader earns 87 as sum of 12, 75 Buy at 10, sell at 22, Buy at 5 and sell at 80.\\nExample 2:\\n\\nInput:\\nn = 7\\nprices[] = {2,30,15,10,8,25,80}\\nOutput:\\n100\\nExplanation:\\nTrader earns 100 as sum of 28 and 72 Buy at price 2, sell at 30, Buy at 8 and sell at 80,\\nYour Task:\\n\\nComplete the function maxProfit() which takes an integer array price as the only argument and returns an integer, representing the maximum profit, if only two transactions are allowed.\\n\\nExpected Time Complexity: O(n)\\nExpected Space Complexity: O(n)\\n\\nConstraints:\\n\\n1 <= n <= 105\\n1 <= price[i] <= 105\\n'"
      ]
     },
     "execution_count": 1,
     "metadata": {},
     "output_type": "execute_result"
    }
   ],
   "source": [
    "'''\n",
    "In daily share trading, a buyer buys shares in the morning and sells them on the same day. If the trader is allowed to make at most 2 transactions in a day, the second transaction can only start after the first one is complete (buy->sell->buy->sell). The stock prices throughout the day are represented in the form of an array of prices. \n",
    "\n",
    "Given an array price of size n, find out the maximum profit that a share trader could have made.\n",
    "\n",
    "Example 1:\n",
    "\n",
    "Input:\n",
    "n = 6\n",
    "prices[] = {10,22,5,75,65,80}\n",
    "Output:\n",
    "87\n",
    "Explanation:\n",
    "Trader earns 87 as sum of 12, 75 Buy at 10, sell at 22, Buy at 5 and sell at 80.\n",
    "Example 2:\n",
    "\n",
    "Input:\n",
    "n = 7\n",
    "prices[] = {2,30,15,10,8,25,80}\n",
    "Output:\n",
    "100\n",
    "Explanation:\n",
    "Trader earns 100 as sum of 28 and 72 Buy at price 2, sell at 30, Buy at 8 and sell at 80,\n",
    "Your Task:\n",
    "\n",
    "Complete the function maxProfit() which takes an integer array price as the only argument and returns an integer, representing the maximum profit, if only two transactions are allowed.\n",
    "\n",
    "Expected Time Complexity: O(n)\n",
    "Expected Space Complexity: O(n)\n",
    "\n",
    "Constraints:\n",
    "\n",
    "1 <= n <= 105\n",
    "1 <= price[i] <= 105\n",
    "'''"
   ]
  },
  {
   "cell_type": "code",
   "execution_count": null,
   "id": "98363762",
   "metadata": {},
   "outputs": [],
   "source": [
    "from typing import List\n",
    "\n",
    "\n",
    "class Solution:\n",
    "    def maxProfit(self, n : int, price : List[int]) -> int:\n",
    "        # code here\n",
    "        arr=[0]*(n)\n",
    "        maxi = price[-1]\n",
    "        ans = 0 \n",
    "        for i in range(n-1, -1 , -1):\n",
    "            if price[i] >  maxi : \n",
    "                maxi = price[i]\n",
    "                \n",
    "            else : \n",
    "                ans= max(ans,maxi- price[i])\n",
    "                arr[i]= ans \n",
    "              \n",
    "        mini = price[0]\n",
    "        ansi = 0 \n",
    "        num=[0]*n\n",
    "        for i in range(n):\n",
    "            if price[i] < mini : \n",
    "                mini = price[i]\n",
    "            else : \n",
    "                ansi = max(price[i]- mini, ansi )\n",
    "                num[i]= ansi\n",
    "            \n",
    "        #print(arr, num)\n",
    "        fans = max(num[-1], arr[0])\n",
    "        for i in range(n-1):\n",
    "            fans = max(fans , num[i]+ arr[i+1])\n",
    "            \n",
    "        return  fans\n",
    "\n"
   ]
  }
 ],
 "metadata": {
  "kernelspec": {
   "display_name": "Python 3 (ipykernel)",
   "language": "python",
   "name": "python3"
  },
  "language_info": {
   "codemirror_mode": {
    "name": "ipython",
    "version": 3
   },
   "file_extension": ".py",
   "mimetype": "text/x-python",
   "name": "python",
   "nbconvert_exporter": "python",
   "pygments_lexer": "ipython3",
   "version": "3.11.4"
  }
 },
 "nbformat": 4,
 "nbformat_minor": 5
}
