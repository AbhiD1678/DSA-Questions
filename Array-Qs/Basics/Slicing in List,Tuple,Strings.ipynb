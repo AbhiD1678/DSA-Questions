{
 "cells": [
  {
   "cell_type": "code",
   "execution_count": 4,
   "id": "6fbef48c",
   "metadata": {},
   "outputs": [
    {
     "name": "stdout",
     "output_type": "stream",
     "text": [
      "[8, 7, 6, 5, 4, 3, 2, 1]\n",
      "[1, 2, 3, 4, 5, 6, 7, 8]\n",
      "False\n",
      "True\n",
      "True\n"
     ]
    }
   ],
   "source": [
    "#Slicing basics\n",
    "list1=[1,2,3,4,5,6,7,8]\n",
    "\n",
    "print(list1[::-1])#this means [-1:-((len(list1)+1)):-1]\n",
    "\n",
    "print(list1[:])\n",
    "\n",
    "l2=list1[:]\n",
    "tp1=(1,2)\n",
    "tp2=tp1[:]\n",
    "str1='this'\n",
    "str2=str1[:]\n",
    "print(list1 is l2)\n",
    "print(str1 is str2)# here for strings and tuples,python only creates their references and not another copies as string and tuples are immutable\n",
    "print(tp1 is tp2)"
   ]
  },
  {
   "cell_type": "code",
   "execution_count": null,
   "id": "b2afbd68",
   "metadata": {},
   "outputs": [],
   "source": []
  }
 ],
 "metadata": {
  "kernelspec": {
   "display_name": "Python 3 (ipykernel)",
   "language": "python",
   "name": "python3"
  },
  "language_info": {
   "codemirror_mode": {
    "name": "ipython",
    "version": 3
   },
   "file_extension": ".py",
   "mimetype": "text/x-python",
   "name": "python",
   "nbconvert_exporter": "python",
   "pygments_lexer": "ipython3",
   "version": "3.11.4"
  }
 },
 "nbformat": 4,
 "nbformat_minor": 5
}
