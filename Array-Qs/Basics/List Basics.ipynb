{
 "cells": [
  {
   "cell_type": "code",
   "execution_count": 1,
   "id": "d11c7d24",
   "metadata": {},
   "outputs": [
    {
     "name": "stdout",
     "output_type": "stream",
     "text": [
      "[10, 20, 30, 40, 50]\n",
      "40\n",
      "50\n",
      "40\n"
     ]
    }
   ],
   "source": [
    "# Basics of list\n",
    "l=[10,20,30,40,50]\n",
    "\n",
    "print(l)\n",
    "print(l[3])\n",
    "print(l[-1])\n",
    "print(l[-2])"
   ]
  },
  {
   "cell_type": "code",
   "execution_count": 2,
   "id": "d9f6fd61",
   "metadata": {},
   "outputs": [
    {
     "name": "stdout",
     "output_type": "stream",
     "text": [
      "[10, 20, 30, 40, 50, 30]\n",
      "[10, 15, 20, 30, 40, 50, 30]\n",
      "True\n",
      "2\n",
      "3\n"
     ]
    }
   ],
   "source": [
    "l.append(30) # used to add an item at the last index of the list\n",
    "print(l)\n",
    "l.insert(1,15) #insert is used to insert an element at a particular index\n",
    "print(l)\n",
    "print(15 in l)#in operator is used to check if an item is present in the datatype\n",
    "print(l.count(30))\n",
    "print(l.index(30))\n"
   ]
  },
  {
   "cell_type": "code",
   "execution_count": 3,
   "id": "302eb6cc",
   "metadata": {},
   "outputs": [
    {
     "name": "stdout",
     "output_type": "stream",
     "text": [
      "6\n"
     ]
    }
   ],
   "source": [
    "print(l.index(30,4,7)) #here we have given two indexs to check if 30 is present between 4 to 6,both included."
   ]
  },
  {
   "cell_type": "code",
   "execution_count": 4,
   "id": "b862cc7f",
   "metadata": {},
   "outputs": [
    {
     "name": "stdout",
     "output_type": "stream",
     "text": [
      "[10, 30, 40, 50, 60, 70, 80]\n",
      "80\n",
      "[10, 30, 40, 50, 60, 70]\n",
      "40\n",
      "[10, 30, 50, 60, 70]\n",
      "[10, 50, 60, 70]\n",
      "[60, 70]\n"
     ]
    }
   ],
   "source": [
    "l=[10,20,30,40,50,60,70,80]\n",
    "l.remove(20) #remove is used to remove an element\n",
    "print(l)\n",
    "print(l.pop()) #this is used to remove the element at the last index if no index is given\n",
    "print(l)\n",
    "print(l.pop(2))\n",
    "print(l)\n",
    "del l[1]\n",
    "print(l)\n",
    "del l[0:2] #here we provide indexs from where we have to delete the elements from the list\n",
    "print(l)"
   ]
  },
  {
   "cell_type": "code",
   "execution_count": 5,
   "id": "a60ea43f",
   "metadata": {},
   "outputs": [
    {
     "name": "stdout",
     "output_type": "stream",
     "text": [
      "50\n",
      "10\n",
      "120\n",
      "[50, 20, 40, 10]\n",
      "[10, 20, 40, 50]\n"
     ]
    }
   ],
   "source": [
    "l=[10,40,20,50]\n",
    "print(max(l)) #used to get the maximum of the list\n",
    "print(min(l)) # used to get the minimum of the list\n",
    "print(sum(l)) # used to get the sum of all the elements in the list\n",
    "l.reverse()\n",
    "print(l)\n",
    "l.sort()\n",
    "print(l)"
   ]
  },
  {
   "cell_type": "code",
   "execution_count": null,
   "id": "646f02d7",
   "metadata": {},
   "outputs": [],
   "source": []
  }
 ],
 "metadata": {
  "kernelspec": {
   "display_name": "Python 3 (ipykernel)",
   "language": "python",
   "name": "python3"
  },
  "language_info": {
   "codemirror_mode": {
    "name": "ipython",
    "version": 3
   },
   "file_extension": ".py",
   "mimetype": "text/x-python",
   "name": "python",
   "nbconvert_exporter": "python",
   "pygments_lexer": "ipython3",
   "version": "3.11.4"
  }
 },
 "nbformat": 4,
 "nbformat_minor": 5
}
