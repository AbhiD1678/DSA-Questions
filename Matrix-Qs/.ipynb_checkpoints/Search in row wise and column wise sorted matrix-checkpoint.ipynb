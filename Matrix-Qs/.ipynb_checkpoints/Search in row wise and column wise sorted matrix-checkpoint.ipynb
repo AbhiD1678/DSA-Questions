{
 "cells": [
  {
   "cell_type": "code",
   "execution_count": 4,
   "id": "f309234f-4fad-4f02-b78f-77b15d1b98d7",
   "metadata": {},
   "outputs": [],
   "source": [
    "## Brute force,Time complexity:O(n^2)\n",
    "\n",
    "def search(x,mat):\n",
    "    m=len(mat)\n",
    "    n=len(mat[0])\n",
    "\n",
    "    for i in range(m):\n",
    "        for j in range(n):\n",
    "            if mat[i][j]==x:\n",
    "                print(f'Found at ({i},{j})')\n",
    "                return\n",
    "    print(\"Not Found\")"
   ]
  },
  {
   "cell_type": "code",
   "execution_count": 5,
   "id": "5510de58-5a88-4efb-b39e-bd0b38603abd",
   "metadata": {},
   "outputs": [
    {
     "name": "stdout",
     "output_type": "stream",
     "text": [
      "Found at (2,1)\n"
     ]
    }
   ],
   "source": [
    "mat=[[10, 20, 30, 40],[15, 25, 35, 45],[27, 29, 37, 48],[32, 33, 39, 50]]\n",
    "x=29\n",
    "search(x,mat)"
   ]
  },
  {
   "cell_type": "code",
   "execution_count": 11,
   "id": "1f72629b-9426-4515-894a-8191322536fc",
   "metadata": {},
   "outputs": [],
   "source": [
    "# Time complexity:O(n+m)\n",
    "def searchOptimised(x,mat):\n",
    "    m=len(mat)\n",
    "    n=len(mat[0])\n",
    "    top=0\n",
    "    right=n-1\n",
    "\n",
    "    while top<m and right>=0:\n",
    "        if mat[top][right]==x:\n",
    "            print(f'Found at ({top},{right})')\n",
    "            return\n",
    "\n",
    "        elif mat[top][right]>x:\n",
    "            right-=1\n",
    "        else:\n",
    "            top+=1\n",
    "    print(\"Not found\")"
   ]
  },
  {
   "cell_type": "code",
   "execution_count": 10,
   "id": "1a99e0ba-171e-49f6-a09c-c23c262e1dd2",
   "metadata": {},
   "outputs": [
    {
     "name": "stdout",
     "output_type": "stream",
     "text": [
      "Found at (2,1)\n"
     ]
    }
   ],
   "source": [
    "searchOptimised(x,mat)"
   ]
  },
  {
   "cell_type": "code",
   "execution_count": null,
   "id": "9ea76711-57ef-4e62-8fbe-122e5790edb1",
   "metadata": {},
   "outputs": [],
   "source": []
  }
 ],
 "metadata": {
  "kernelspec": {
   "display_name": "Python 3 (ipykernel)",
   "language": "python",
   "name": "python3"
  },
  "language_info": {
   "codemirror_mode": {
    "name": "ipython",
    "version": 3
   },
   "file_extension": ".py",
   "mimetype": "text/x-python",
   "name": "python",
   "nbconvert_exporter": "python",
   "pygments_lexer": "ipython3",
   "version": "3.12.0"
  }
 },
 "nbformat": 4,
 "nbformat_minor": 5
}
