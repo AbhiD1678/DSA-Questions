{
 "cells": [
  {
   "cell_type": "code",
   "execution_count": 5,
   "id": "7c8d30f4-a678-4c73-be07-bb5387c4d8c7",
   "metadata": {},
   "outputs": [],
   "source": [
    "mat=[[1,2,3,4],[5,6,7,8],[9,10,11,12],[13,14,15,16]]\n",
    "\n",
    "def printSpiral(mat):\n",
    "    m=len(mat)\n",
    "    n=len(mat[0])\n",
    "    top=0\n",
    "    bottom=m-1\n",
    "    right=n-1\n",
    "    left=0\n",
    "\n",
    "    while top<=bottom and left<=right:\n",
    "        for i in range(left,right+1):#First top row traverse\n",
    "            print(mat[top][i],end=' ')\n",
    "        top+=1\n",
    "        for i in range(top,bottom+1):# Then right traversal from top to bottom\n",
    "            print(mat[i][right],end=' ')\n",
    "        right-=1\n",
    "\n",
    "        if top<=bottom:\n",
    "            for i in range(right,left-1,-1):\n",
    "                print(mat[bottom][i],end=' ')\n",
    "            bottom-=1\n",
    "\n",
    "        if left<=right:\n",
    "            for i in range(bottom,top-1,-1):\n",
    "                print(mat[i][left],end=' ')\n",
    "            left+=1"
   ]
  },
  {
   "cell_type": "code",
   "execution_count": 6,
   "id": "df474d33-11b6-4f13-b3f1-f8c405e67b1d",
   "metadata": {},
   "outputs": [
    {
     "name": "stdout",
     "output_type": "stream",
     "text": [
      "1 2 3 4 8 12 16 15 14 13 9 5 6 7 11 10 "
     ]
    }
   ],
   "source": [
    "printSpiral(mat)"
   ]
  },
  {
   "cell_type": "code",
   "execution_count": null,
   "id": "ce07d4f9-ebc5-49c9-9bf3-b66bdd1232b3",
   "metadata": {},
   "outputs": [],
   "source": []
  }
 ],
 "metadata": {
  "kernelspec": {
   "display_name": "Python 3 (ipykernel)",
   "language": "python",
   "name": "python3"
  },
  "language_info": {
   "codemirror_mode": {
    "name": "ipython",
    "version": 3
   },
   "file_extension": ".py",
   "mimetype": "text/x-python",
   "name": "python",
   "nbconvert_exporter": "python",
   "pygments_lexer": "ipython3",
   "version": "3.12.0"
  }
 },
 "nbformat": 4,
 "nbformat_minor": 5
}
