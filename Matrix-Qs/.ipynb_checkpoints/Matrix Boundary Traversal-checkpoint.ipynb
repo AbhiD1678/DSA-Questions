{
 "cells": [
  {
   "cell_type": "code",
   "execution_count": 9,
   "id": "605f7088-d633-4771-bbbb-13930d9f4ead",
   "metadata": {},
   "outputs": [
    {
     "name": "stdout",
     "output_type": "stream",
     "text": [
      "1 2 3 6 9 12 15 18 17 16 13 10 7 4 "
     ]
    }
   ],
   "source": [
    "mat=[[1,2,3],[4,5,6],[7,8,9],[10,11,12],[13,14,15],[16,17,18]]\n",
    "\n",
    "def BoundaryTraversal(mat):\n",
    "    rows=len(mat)\n",
    "    cols=len(mat[0])\n",
    "\n",
    "    if rows==0:\n",
    "        for i in range(0,col):\n",
    "            print(mat[0][i],end=' ')\n",
    "    elif cols==0:\n",
    "        for i in range(rows):\n",
    "            print(mat[i][0],end=' ')\n",
    "\n",
    "    for i in range(cols):\n",
    "        print(mat[0][i],end=' ')\n",
    "\n",
    "    for i in range(1,rows):\n",
    "        print(mat[i][cols-1],end=' ')\n",
    "\n",
    "    for i in range(cols-2,-1,-1):\n",
    "        print(mat[rows-1][i],end=' ')\n",
    "        \n",
    "    for i in range(rows-2,0,-1):\n",
    "        print(mat[i][0],end=' ')\n",
    "\n",
    "BoundaryTraversal(mat)"
   ]
  },
  {
   "cell_type": "code",
   "execution_count": null,
   "id": "eef43919-e347-4e87-b79e-011ea0aa4c0a",
   "metadata": {},
   "outputs": [],
   "source": []
  }
 ],
 "metadata": {
  "kernelspec": {
   "display_name": "Python 3 (ipykernel)",
   "language": "python",
   "name": "python3"
  },
  "language_info": {
   "codemirror_mode": {
    "name": "ipython",
    "version": 3
   },
   "file_extension": ".py",
   "mimetype": "text/x-python",
   "name": "python",
   "nbconvert_exporter": "python",
   "pygments_lexer": "ipython3",
   "version": "3.12.0"
  }
 },
 "nbformat": 4,
 "nbformat_minor": 5
}
