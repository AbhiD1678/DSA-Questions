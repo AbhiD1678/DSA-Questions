{
 "cells": [
  {
   "cell_type": "code",
   "execution_count": 6,
   "id": "cb778b38-fd46-405b-8044-3f29649fc3ac",
   "metadata": {},
   "outputs": [
    {
     "name": "stdout",
     "output_type": "stream",
     "text": [
      "1 2 3 \n",
      "4 5 6 7 \n",
      "Number of rows in this matrix: 2\n",
      "Number of columns in row 1: 3\n",
      "Number of columns in row 2: 4\n"
     ]
    }
   ],
   "source": [
    "l1=[[1,2,3],[4,5,6,7]]\n",
    "\n",
    "for x in l1:\n",
    "    for j in x:\n",
    "        print(j,end=' ')\n",
    "    print()\n",
    "print('Number of rows in this matrix:',len(l1))\n",
    "print(\"Number of columns in row 1:\",len(l1[0]))\n",
    "print(\"Number of columns in row 2:\",len(l1[1]))"
   ]
  },
  {
   "cell_type": "code",
   "execution_count": 10,
   "id": "2f1192a6-c3b7-4c2f-a91a-08b528dfa4c6",
   "metadata": {},
   "outputs": [
    {
     "name": "stdout",
     "output_type": "stream",
     "text": [
      "[[0, 0, 0], [0, 0, 0], [0, 0, 0], [0, 0, 0]]\n",
      "[[1, 0, 0], [0, 0, 0], [0, 0, 0], [0, 0, 0]]\n"
     ]
    }
   ],
   "source": [
    "# Correct way of creating a matrix in python\n",
    "cols=3\n",
    "rows=4\n",
    "l1=[[0 for i in range(cols)]for j in range(rows)]\n",
    "print(l1)\n",
    "l1[0][0]=1\n",
    "print(l1)"
   ]
  },
  {
   "cell_type": "code",
   "execution_count": 14,
   "id": "260f932a-4c4d-4d83-9d67-602421bbdba1",
   "metadata": {},
   "outputs": [
    {
     "name": "stdout",
     "output_type": "stream",
     "text": [
      "1 0 0 \n",
      "0 0 0 \n",
      "0 0 0 \n",
      "0 0 0 \n"
     ]
    }
   ],
   "source": [
    "m=len(l1)\n",
    "n=len(l1[0])\n",
    "for i in range(m):\n",
    "    for j in range(n):\n",
    "        print(l1[i][j],end=' ')\n",
    "    print()"
   ]
  },
  {
   "cell_type": "code",
   "execution_count": null,
   "id": "228e0e66-92ac-4f7b-98e2-3beca3f21705",
   "metadata": {},
   "outputs": [],
   "source": []
  }
 ],
 "metadata": {
  "kernelspec": {
   "display_name": "Python 3 (ipykernel)",
   "language": "python",
   "name": "python3"
  },
  "language_info": {
   "codemirror_mode": {
    "name": "ipython",
    "version": 3
   },
   "file_extension": ".py",
   "mimetype": "text/x-python",
   "name": "python",
   "nbconvert_exporter": "python",
   "pygments_lexer": "ipython3",
   "version": "3.12.0"
  }
 },
 "nbformat": 4,
 "nbformat_minor": 5
}
