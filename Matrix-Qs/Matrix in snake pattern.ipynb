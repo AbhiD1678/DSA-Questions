{
 "cells": [
  {
   "cell_type": "code",
   "execution_count": 1,
   "id": "020fe035-5250-4444-a6fe-0377ad4a6573",
   "metadata": {},
   "outputs": [
    {
     "name": "stdout",
     "output_type": "stream",
     "text": [
      "1 2 3 4 8 7 6 5 9 10 11 12 16 15 14 13 "
     ]
    }
   ],
   "source": [
    "arr=[[1,2,3,4],[5,6,7,8],[9,10,11,12],[13,14,15,16]]\n",
    "\n",
    "def SnakePattern(mat):\n",
    "    m=len(mat)\n",
    "    n=len(mat[0])\n",
    "\n",
    "    for i in range(m):\n",
    "        if i%2==0:\n",
    "            for j in range(n):\n",
    "                print(mat[i][j],end=' ')\n",
    "\n",
    "        else:\n",
    "            for j in range(n-1,-1,-1):\n",
    "                print(mat[i][j],end=' ')\n",
    "\n",
    "SnakePattern(arr)"
   ]
  },
  {
   "cell_type": "code",
   "execution_count": null,
   "id": "e8fe6dac-f30f-47f6-be57-daa9bee78c20",
   "metadata": {},
   "outputs": [],
   "source": []
  }
 ],
 "metadata": {
  "kernelspec": {
   "display_name": "Python 3 (ipykernel)",
   "language": "python",
   "name": "python3"
  },
  "language_info": {
   "codemirror_mode": {
    "name": "ipython",
    "version": 3
   },
   "file_extension": ".py",
   "mimetype": "text/x-python",
   "name": "python",
   "nbconvert_exporter": "python",
   "pygments_lexer": "ipython3",
   "version": "3.12.0"
  }
 },
 "nbformat": 4,
 "nbformat_minor": 5
}
