{
 "cells": [
  {
   "cell_type": "code",
   "execution_count": 12,
   "id": "7cdc4868-f632-4980-9cb8-26b6702a211a",
   "metadata": {},
   "outputs": [
    {
     "name": "stdout",
     "output_type": "stream",
     "text": [
      "[[1, 4, 7], [2, 5, 8], [3, 6, 9]]\n"
     ]
    }
   ],
   "source": [
    "arr=[[1,2,3],[4,5,6],[7,8,9]]\n",
    "\n",
    "def transpose(mat):\n",
    "    m=len(mat)\n",
    "\n",
    "    arr1=[[0]*m for i in range(m)]\n",
    "    for i in range(m):\n",
    "        for j in range(m):\n",
    "            arr1[j][i]=mat[i][j]\n",
    "    for i in range(m):\n",
    "        for j in range(m):\n",
    "            mat[i][j]=arr1[i][j]\n",
    "\n",
    "    print(mat)\n",
    "\n",
    "transpose(arr)\n",
    "# Time complexity:O(n^2)"
   ]
  },
  {
   "cell_type": "code",
   "execution_count": 13,
   "id": "d929696c-6c8e-40da-af15-18e180064ff9",
   "metadata": {},
   "outputs": [
    {
     "name": "stdout",
     "output_type": "stream",
     "text": [
      "[[1, 2, 3], [4, 5, 6], [7, 8, 9]]\n"
     ]
    }
   ],
   "source": [
    "def transposeEff(mat):\n",
    "    m=len(mat)\n",
    "\n",
    "    for i in range(m):\n",
    "        for j in range(i+1,m):\n",
    "            mat[i][j],mat[j][i]=mat[j][i],mat[i][j]\n",
    "\n",
    "    print(mat)\n",
    "\n",
    "transposeEff(arr)"
   ]
  },
  {
   "cell_type": "code",
   "execution_count": null,
   "id": "dceb741f-f01d-4ad9-8f05-3b755a607ed1",
   "metadata": {},
   "outputs": [],
   "source": []
  }
 ],
 "metadata": {
  "kernelspec": {
   "display_name": "Python 3 (ipykernel)",
   "language": "python",
   "name": "python3"
  },
  "language_info": {
   "codemirror_mode": {
    "name": "ipython",
    "version": 3
   },
   "file_extension": ".py",
   "mimetype": "text/x-python",
   "name": "python",
   "nbconvert_exporter": "python",
   "pygments_lexer": "ipython3",
   "version": "3.12.0"
  }
 },
 "nbformat": 4,
 "nbformat_minor": 5
}
