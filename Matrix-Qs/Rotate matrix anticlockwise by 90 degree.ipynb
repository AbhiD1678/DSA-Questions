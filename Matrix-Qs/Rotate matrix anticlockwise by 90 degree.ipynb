{
 "cells": [
  {
   "cell_type": "code",
   "execution_count": 2,
   "id": "9f5ab4b2-b5fb-4b7c-836c-56dea198cded",
   "metadata": {},
   "outputs": [
    {
     "data": {
      "text/plain": [
       "[[3, 6, 9], [2, 5, 8], [1, 4, 7]]"
      ]
     },
     "execution_count": 2,
     "metadata": {},
     "output_type": "execute_result"
    }
   ],
   "source": [
    "def Rotate90(mat):\n",
    "    m=len(mat)\n",
    "    temp=[[0]*m for i in range(m)]\n",
    "    for i in range(m):\n",
    "        for j in range(m):\n",
    "            temp[m-j-1][i]=mat[i][j]\n",
    "\n",
    "    for i in range(m):\n",
    "        for j in range(m):\n",
    "            mat[i][j]=temp[i][j]\n",
    "\n",
    "    return mat\n",
    "\n",
    "mat = [[1, 2, 3],[4, 5, 6],[7, 8, 9]]\n",
    "Rotate90(mat)"
   ]
  },
  {
   "cell_type": "code",
   "execution_count": 3,
   "id": "9e0f92ac-192f-4cc6-b8ee-609204e11c7b",
   "metadata": {},
   "outputs": [
    {
     "data": {
      "text/plain": [
       "[[4, 8, 12, 16], [3, 7, 11, 15], [2, 6, 10, 14], [1, 5, 9, 13]]"
      ]
     },
     "execution_count": 3,
     "metadata": {},
     "output_type": "execute_result"
    }
   ],
   "source": [
    "mat = [[1, 2, 3, 4],[5, 6, 7, 8], [9, 10, 11,12],[13, 14, 15, 16]]\n",
    "Rotate90(mat)"
   ]
  },
  {
   "cell_type": "code",
   "execution_count": 10,
   "id": "cfe9b17b-87c0-476e-9c03-de656b742eaf",
   "metadata": {},
   "outputs": [],
   "source": [
    "def Rotate902(mat): # Take transpose then reverse the rows\n",
    "    \n",
    "    m=len(mat)\n",
    "    for i in range(m):\n",
    "        for j in range(i+1,m):\n",
    "            mat[i][j],mat[j][i]=mat[j][i],mat[i][j]\n",
    "    print(mat)\n",
    "    for i in range(m):\n",
    "        low=0\n",
    "        high=m-1\n",
    "        while low<high:\n",
    "            mat[low][i],mat[high][i]=mat[high][i],mat[low][i]\n",
    "            high-=1\n",
    "            low+=1\n",
    "    return mat"
   ]
  },
  {
   "cell_type": "code",
   "execution_count": 11,
   "id": "24924314-7dd9-453c-95f8-b75f85d6e389",
   "metadata": {},
   "outputs": [
    {
     "name": "stdout",
     "output_type": "stream",
     "text": [
      "[[1, 5, 9, 13], [2, 6, 10, 14], [3, 7, 11, 15], [4, 8, 12, 16]]\n"
     ]
    },
    {
     "data": {
      "text/plain": [
       "[[4, 8, 12, 16], [3, 7, 11, 15], [2, 6, 10, 14], [1, 5, 9, 13]]"
      ]
     },
     "execution_count": 11,
     "metadata": {},
     "output_type": "execute_result"
    }
   ],
   "source": [
    "mat = [[1, 2, 3, 4],[5, 6, 7, 8], [9, 10, 11,12],[13, 14, 15, 16]]\n",
    "Rotate902(mat)"
   ]
  },
  {
   "cell_type": "code",
   "execution_count": null,
   "id": "da4404dc-3c01-474a-bf05-265851121c13",
   "metadata": {},
   "outputs": [],
   "source": []
  }
 ],
 "metadata": {
  "kernelspec": {
   "display_name": "Python 3 (ipykernel)",
   "language": "python",
   "name": "python3"
  },
  "language_info": {
   "codemirror_mode": {
    "name": "ipython",
    "version": 3
   },
   "file_extension": ".py",
   "mimetype": "text/x-python",
   "name": "python",
   "nbconvert_exporter": "python",
   "pygments_lexer": "ipython3",
   "version": "3.12.0"
  }
 },
 "nbformat": 4,
 "nbformat_minor": 5
}
