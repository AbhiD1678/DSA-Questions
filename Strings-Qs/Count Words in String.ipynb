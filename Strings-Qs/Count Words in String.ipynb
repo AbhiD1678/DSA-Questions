{
 "cells": [
  {
   "cell_type": "code",
   "execution_count": 1,
   "id": "2c1f16c3",
   "metadata": {},
   "outputs": [
    {
     "data": {
      "text/plain": [
       "'\\nYou are given a string s consisting of multiple words. You need to count the total words in the string. Words are separated by a single space.\\nNote: It is guaranteed that the last character of the given string is not a white space.\\n\\nExample 1:\\n\\nInput:\\ns = Geeks\\n\\nOutput: \\n1\\n\\nExample 2:\\n\\nInput:\\ns = World is hello\\n\\nOutput: \\n3\\n\\nYour Task:\\n\\nYou only need to complet the function countWords() that takes s as parameter and returns the count of words in the string. \\n\\nExpected Time Complexity: O(|S|).\\nExpected Auxiliary Space: O(1).\\n\\n\\n'"
      ]
     },
     "execution_count": 1,
     "metadata": {},
     "output_type": "execute_result"
    }
   ],
   "source": [
    "'''\n",
    "You are given a string s consisting of multiple words. You need to count the total words in the string. Words are separated by a single space.\n",
    "Note: It is guaranteed that the last character of the given string is not a white space.\n",
    "\n",
    "Example 1:\n",
    "\n",
    "Input:\n",
    "s = Geeks\n",
    "\n",
    "Output: \n",
    "1\n",
    "\n",
    "Example 2:\n",
    "\n",
    "Input:\n",
    "s = World is hello\n",
    "\n",
    "Output: \n",
    "3\n",
    "\n",
    "Your Task:\n",
    "\n",
    "You only need to complet the function countWords() that takes s as parameter and returns the count of words in the string. \n",
    "\n",
    "Expected Time Complexity: O(|S|).\n",
    "Expected Auxiliary Space: O(1).\n",
    "\n",
    "\n",
    "'''"
   ]
  },
  {
   "cell_type": "code",
   "execution_count": 2,
   "id": "51f63a70",
   "metadata": {},
   "outputs": [],
   "source": [
    "class Solution:\n",
    "    def countWords(self,s):\n",
    "        #code here\n",
    "        count=1\n",
    "        for x in s:\n",
    "            if x==\" \":\n",
    "                count+=1\n",
    "        \n",
    "        return count"
   ]
  },
  {
   "cell_type": "code",
   "execution_count": null,
   "id": "c807aecf",
   "metadata": {},
   "outputs": [],
   "source": [
    "#User function Template for python3\n",
    "\n",
    "class Solution:\n",
    "    def countWords(self,s):\n",
    "        #code here\n",
    "        s=list(s.split())\n",
    "        return len(s)\n"
   ]
  }
 ],
 "metadata": {
  "kernelspec": {
   "display_name": "Python 3 (ipykernel)",
   "language": "python",
   "name": "python3"
  },
  "language_info": {
   "codemirror_mode": {
    "name": "ipython",
    "version": 3
   },
   "file_extension": ".py",
   "mimetype": "text/x-python",
   "name": "python",
   "nbconvert_exporter": "python",
   "pygments_lexer": "ipython3",
   "version": "3.11.4"
  }
 },
 "nbformat": 4,
 "nbformat_minor": 5
}
