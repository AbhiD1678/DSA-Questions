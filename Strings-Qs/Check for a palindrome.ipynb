{
 "cells": [
  {
   "cell_type": "code",
   "execution_count": 2,
   "id": "ec5185d3",
   "metadata": {},
   "outputs": [
    {
     "name": "stdout",
     "output_type": "stream",
     "text": [
      "Enter the input:Aba\n",
      "No,it's not a palindrome\n"
     ]
    }
   ],
   "source": [
    "s=input(\"Enter the input:\")\n",
    "low=0\n",
    "high=len(s)-1\n",
    "\n",
    "while low<high:\n",
    "    if s[low]!=s[high]:\n",
    "        print(\"No,it's not a palindrome\")\n",
    "        break\n",
    "    low+=1\n",
    "    high-=1\n",
    "\n",
    "else:\n",
    "    print(\"It's a palindrome\")"
   ]
  },
  {
   "cell_type": "code",
   "execution_count": null,
   "id": "218014b4",
   "metadata": {},
   "outputs": [],
   "source": []
  }
 ],
 "metadata": {
  "kernelspec": {
   "display_name": "Python 3 (ipykernel)",
   "language": "python",
   "name": "python3"
  },
  "language_info": {
   "codemirror_mode": {
    "name": "ipython",
    "version": 3
   },
   "file_extension": ".py",
   "mimetype": "text/x-python",
   "name": "python",
   "nbconvert_exporter": "python",
   "pygments_lexer": "ipython3",
   "version": "3.11.4"
  }
 },
 "nbformat": 4,
 "nbformat_minor": 5
}
