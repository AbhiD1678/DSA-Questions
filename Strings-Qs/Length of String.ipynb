{
 "cells": [
  {
   "cell_type": "code",
   "execution_count": 1,
   "id": "4519bb39",
   "metadata": {},
   "outputs": [
    {
     "data": {
      "text/plain": [
       "'\\nYou are given a string s. You need to find the length of the string.\\n\\nExample 1:\\n\\nInput:\\ns = Geeks\\nOutput: \\n5\\nExample 2:\\n\\nInput:\\ns = Hello1234\\nOutput: \\n9\\nYour Task:\\nYou only need to complete the function lengthString() that takes s as parameter and returns the length of the string. \\n\\nExpected Time Complexity: O(1).\\nExpected Auxiliary Space: O(1).\\n\\nConstraints:\\n1 <= | s |  <= 100000\\n'"
      ]
     },
     "execution_count": 1,
     "metadata": {},
     "output_type": "execute_result"
    }
   ],
   "source": [
    "'''\n",
    "You are given a string s. You need to find the length of the string.\n",
    "\n",
    "Example 1:\n",
    "\n",
    "Input:\n",
    "s = Geeks\n",
    "Output: \n",
    "5\n",
    "Example 2:\n",
    "\n",
    "Input:\n",
    "s = Hello1234\n",
    "Output: \n",
    "9\n",
    "Your Task:\n",
    "You only need to complete the function lengthString() that takes s as parameter and returns the length of the string. \n",
    "\n",
    "Expected Time Complexity: O(1).\n",
    "Expected Auxiliary Space: O(1).\n",
    "\n",
    "Constraints:\n",
    "1 <= | s |  <= 100000\n",
    "'''"
   ]
  },
  {
   "cell_type": "code",
   "execution_count": 2,
   "id": "1edc8411",
   "metadata": {},
   "outputs": [],
   "source": [
    "class Solution:\n",
    "    def lengthString(self, str):\n",
    "        #code here\n",
    "        return len(s)\n"
   ]
  },
  {
   "cell_type": "code",
   "execution_count": null,
   "id": "a8881199",
   "metadata": {},
   "outputs": [],
   "source": []
  }
 ],
 "metadata": {
  "kernelspec": {
   "display_name": "Python 3 (ipykernel)",
   "language": "python",
   "name": "python3"
  },
  "language_info": {
   "codemirror_mode": {
    "name": "ipython",
    "version": 3
   },
   "file_extension": ".py",
   "mimetype": "text/x-python",
   "name": "python",
   "nbconvert_exporter": "python",
   "pygments_lexer": "ipython3",
   "version": "3.11.4"
  }
 },
 "nbformat": 4,
 "nbformat_minor": 5
}
