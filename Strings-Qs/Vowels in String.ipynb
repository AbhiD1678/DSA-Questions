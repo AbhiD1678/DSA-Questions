{
 "cells": [
  {
   "cell_type": "code",
   "execution_count": 1,
   "id": "8c2f91e0",
   "metadata": {},
   "outputs": [
    {
     "data": {
      "text/plain": [
       "'\\nYou are given a string s. You need to count the total vowels in the string. The string s contains lowercase letters only.\\n\\nExample 1:\\n\\nInput:\\ns = geeks\\nOutput: \\n2\\n\\nExample 2:\\n\\nInput:\\ns = world\\nOutput: \\n1\\n\\nYour Task:\\n\\nYou only need to complet the function countVowels() that takes s as parameter and returns the count of vowels in the string. \\n\\nExpected Time Complexity: O(|S|).\\nExpected Auxiliary Space: O(1).\\n'"
      ]
     },
     "execution_count": 1,
     "metadata": {},
     "output_type": "execute_result"
    }
   ],
   "source": [
    "'''\n",
    "You are given a string s. You need to count the total vowels in the string. The string s contains lowercase letters only.\n",
    "\n",
    "Example 1:\n",
    "\n",
    "Input:\n",
    "s = geeks\n",
    "Output: \n",
    "2\n",
    "\n",
    "Example 2:\n",
    "\n",
    "Input:\n",
    "s = world\n",
    "Output: \n",
    "1\n",
    "\n",
    "Your Task:\n",
    "\n",
    "You only need to complet the function countVowels() that takes s as parameter and returns the count of vowels in the string. \n",
    "\n",
    "Expected Time Complexity: O(|S|).\n",
    "Expected Auxiliary Space: O(1).\n",
    "'''\n"
   ]
  },
  {
   "cell_type": "code",
   "execution_count": 2,
   "id": "6c3779aa",
   "metadata": {},
   "outputs": [],
   "source": [
    "class Solution:\n",
    "    def countVowels(self,s):\n",
    "        #code here\n",
    "        vowels=['a','e','i','o','u']\n",
    "        s=list(s)\n",
    "        count=0\n",
    "         \n",
    "        for vowel in vowels:\n",
    "            for i in s:\n",
    "                if i==vowel:\n",
    "                    count+=1\n",
    "        \n",
    "        return count\n"
   ]
  },
  {
   "cell_type": "code",
   "execution_count": 3,
   "id": "45299228",
   "metadata": {},
   "outputs": [],
   "source": [
    "#User function Template for python3\n",
    "\n",
    "class Solution:\n",
    "    def countVowels(self,s):\n",
    "        count=0\n",
    "        vowels='aeiou'\n",
    "        for char in s:\n",
    "            if char in vowels:\n",
    "                count+=1\n",
    "                \n",
    "    \n",
    "        return count\n",
    "\n"
   ]
  },
  {
   "cell_type": "code",
   "execution_count": null,
   "id": "f05bebf2",
   "metadata": {},
   "outputs": [],
   "source": []
  }
 ],
 "metadata": {
  "kernelspec": {
   "display_name": "Python 3 (ipykernel)",
   "language": "python",
   "name": "python3"
  },
  "language_info": {
   "codemirror_mode": {
    "name": "ipython",
    "version": 3
   },
   "file_extension": ".py",
   "mimetype": "text/x-python",
   "name": "python",
   "nbconvert_exporter": "python",
   "pygments_lexer": "ipython3",
   "version": "3.11.4"
  }
 },
 "nbformat": 4,
 "nbformat_minor": 5
}
