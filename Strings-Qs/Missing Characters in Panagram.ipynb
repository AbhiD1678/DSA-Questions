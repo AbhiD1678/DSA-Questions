{
 "cells": [
  {
   "cell_type": "code",
   "execution_count": 1,
   "id": "f6664855",
   "metadata": {},
   "outputs": [
    {
     "data": {
      "text/plain": [
       "'\\nYou are given a string s. You need to find the missing characters in the string to make a panagram ( a sentence using every letter of english alphabet at least once ).\\nNote: The output characters will be lowercase and lexicographically sorted.\\n\\n \\n\\nExample 1:\\n\\nInput:\\ns = Abcdefghijklmnopqrstuvwxy\\nOutput: z\\n\\n \\n\\nExample 2:\\n\\nInput:\\ns = Abc\\nOutput: defghijklmnopqrstuvwxyz\\n\\n \\n\\nYour Task:\\n\\nYou only need to complete the function misssingPanagram() that takes s as parameter and returns -1 if the string is a panagram, else it returns a string that consists missing characters.\\n\\n'"
      ]
     },
     "execution_count": 1,
     "metadata": {},
     "output_type": "execute_result"
    }
   ],
   "source": [
    "'''\n",
    "You are given a string s. You need to find the missing characters in the string to make a panagram ( a sentence using every letter of english alphabet at least once ).\n",
    "Note: The output characters will be lowercase and lexicographically sorted.\n",
    "\n",
    " \n",
    "\n",
    "Example 1:\n",
    "\n",
    "Input:\n",
    "s = Abcdefghijklmnopqrstuvwxy\n",
    "Output: z\n",
    "\n",
    " \n",
    "\n",
    "Example 2:\n",
    "\n",
    "Input:\n",
    "s = Abc\n",
    "Output: defghijklmnopqrstuvwxyz\n",
    "\n",
    " \n",
    "\n",
    "Your Task:\n",
    "\n",
    "You only need to complete the function misssingPanagram() that takes s as parameter and returns -1 if the string is a panagram, else it returns a string that consists missing characters.\n",
    "\n",
    "'''"
   ]
  },
  {
   "cell_type": "code",
   "execution_count": 2,
   "id": "6986ef2d",
   "metadata": {},
   "outputs": [],
   "source": [
    "class Solution:\n",
    "    def missingPanagram(self, s):\n",
    "        alpha = 'abcdefghijklmnopqrstuvwxyz'\n",
    "        \n",
    "        panagram = dict.fromkeys(s.lower(),0)\n",
    "        \n",
    "        missing = ''\n",
    "        for c in alpha:\n",
    "            if c not in panagram: missing += c\n",
    "        \n",
    "        return missing if len(missing) else -1\n"
   ]
  },
  {
   "cell_type": "code",
   "execution_count": 3,
   "id": "74b79cb9",
   "metadata": {},
   "outputs": [],
   "source": [
    "def missingPanagram(self, s):\n",
    "        dictionary={}\n",
    "        string=\"\"\n",
    "        for i in s.lower():\n",
    "            dictionary[i]=1\n",
    "        for j in range(97,123):\n",
    "            if chr(j) not in dictionary.keys():\n",
    "                string+=chr(j)\n",
    "        if string==\"\":\n",
    "            return -1\n",
    "        else:\n",
    "            return string"
   ]
  },
  {
   "cell_type": "code",
   "execution_count": 4,
   "id": "00886e5c",
   "metadata": {},
   "outputs": [],
   "source": [
    "import string\n",
    "\n",
    "class Solution:\n",
    "    def missingPanagram(self, s):\n",
    "        \n",
    "        L = set(s.lower())\n",
    "        alphabets = list(string.ascii_lowercase)\n",
    "        missing = ''\n",
    "            \n",
    "        for x in alphabets:\n",
    "            if x in L:\n",
    "                continue\n",
    "            else:\n",
    "                missing = missing+x\n",
    "                \n",
    "        if len(missing) == 0:\n",
    "            return -1\n",
    "        else:\n",
    "            return missing"
   ]
  },
  {
   "cell_type": "code",
   "execution_count": 5,
   "id": "1915dbb4",
   "metadata": {},
   "outputs": [],
   "source": [
    "class Solution:\n",
    "    def missingPanagram(self, s):\n",
    "        s=s.lower()\n",
    "        missing=\"\"\n",
    "        \n",
    "        for i in range(ord('a'),ord('z')+1):\n",
    "            if chr(i) not in s:\n",
    "                missing+=chr(i)\n",
    "                \n",
    "        if missing:\n",
    "            return missing\n",
    "        else:\n",
    "            return -1"
   ]
  },
  {
   "cell_type": "code",
   "execution_count": null,
   "id": "edc07ace",
   "metadata": {},
   "outputs": [],
   "source": []
  }
 ],
 "metadata": {
  "kernelspec": {
   "display_name": "Python 3 (ipykernel)",
   "language": "python",
   "name": "python3"
  },
  "language_info": {
   "codemirror_mode": {
    "name": "ipython",
    "version": 3
   },
   "file_extension": ".py",
   "mimetype": "text/x-python",
   "name": "python",
   "nbconvert_exporter": "python",
   "pygments_lexer": "ipython3",
   "version": "3.11.4"
  }
 },
 "nbformat": 4,
 "nbformat_minor": 5
}
