{
 "cells": [
  {
   "cell_type": "markdown",
   "id": "c34e32d3",
   "metadata": {},
   "source": [
    "#### Naive Solution , Time complexity O(nlog n)"
   ]
  },
  {
   "cell_type": "code",
   "execution_count": 4,
   "id": "89445537",
   "metadata": {},
   "outputs": [
    {
     "data": {
      "text/plain": [
       "False"
      ]
     },
     "execution_count": 4,
     "metadata": {},
     "output_type": "execute_result"
    }
   ],
   "source": [
    "def areAnagram(s1,s2):\n",
    "    if len(s1)!=len(s2):\n",
    "        return False\n",
    "    s1=sorted(s1)\n",
    "    s2=sorted(s2)\n",
    "    return s1==s2\n",
    "\n",
    "s1='aaa'\n",
    "s2='aab'\n",
    "areAnagram(s1,s2)"
   ]
  },
  {
   "cell_type": "markdown",
   "id": "8d6cff34",
   "metadata": {},
   "source": [
    "#### Optimised Approach,Time complexity O(n)"
   ]
  },
  {
   "cell_type": "code",
   "execution_count": 3,
   "id": "8dd9adc3",
   "metadata": {},
   "outputs": [
    {
     "data": {
      "text/plain": [
       "True"
      ]
     },
     "execution_count": 3,
     "metadata": {},
     "output_type": "execute_result"
    }
   ],
   "source": [
    "def areAnagram(s1,s2):\n",
    "    if len(s1)!=len(s2):\n",
    "        return False\n",
    "    \n",
    "    count=[0]*256\n",
    "    \n",
    "    for i in range(len(s1)):\n",
    "        count[ord(s1[i])]+=1\n",
    "        count[ord(s2[i])]-=1\n",
    "        \n",
    "    for x in count:\n",
    "        if x!=0:\n",
    "            return False\n",
    "    return True\n",
    "\n",
    "s1='aab'\n",
    "s2='baa'\n",
    "areAnagram(s1,s2)"
   ]
  },
  {
   "cell_type": "code",
   "execution_count": null,
   "id": "89370a35",
   "metadata": {},
   "outputs": [],
   "source": []
  }
 ],
 "metadata": {
  "kernelspec": {
   "display_name": "Python 3 (ipykernel)",
   "language": "python",
   "name": "python3"
  },
  "language_info": {
   "codemirror_mode": {
    "name": "ipython",
    "version": 3
   },
   "file_extension": ".py",
   "mimetype": "text/x-python",
   "name": "python",
   "nbconvert_exporter": "python",
   "pygments_lexer": "ipython3",
   "version": "3.11.4"
  }
 },
 "nbformat": 4,
 "nbformat_minor": 5
}
