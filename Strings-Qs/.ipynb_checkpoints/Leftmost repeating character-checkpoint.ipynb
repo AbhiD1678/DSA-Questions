{
 "cells": [
  {
   "cell_type": "code",
   "execution_count": 1,
   "id": "125c8f49",
   "metadata": {},
   "outputs": [
    {
     "data": {
      "text/plain": [
       "0"
      ]
     },
     "execution_count": 1,
     "metadata": {},
     "output_type": "execute_result"
    }
   ],
   "source": [
    "def leftmost(s1):\n",
    "    for i in range(len(s1)):\n",
    "        for j in range(i+1,len(s1)):\n",
    "            if s1[i]==s1[j]:\n",
    "                return i\n",
    "    return -1\n",
    "\n",
    "# Time complexity:O(n^2)\n",
    "            \n",
    "s1='abba'\n",
    "leftmost(s1)\n"
   ]
  },
  {
   "cell_type": "code",
   "execution_count": 3,
   "id": "59328685",
   "metadata": {},
   "outputs": [
    {
     "data": {
      "text/plain": [
       "5"
      ]
     },
     "execution_count": 3,
     "metadata": {},
     "output_type": "execute_result"
    }
   ],
   "source": [
    "s2='abcdegijkg'\n",
    "leftmost(s2)"
   ]
  },
  {
   "cell_type": "code",
   "execution_count": 5,
   "id": "3697c8c4",
   "metadata": {},
   "outputs": [
    {
     "data": {
      "text/plain": [
       "4"
      ]
     },
     "execution_count": 5,
     "metadata": {},
     "output_type": "execute_result"
    }
   ],
   "source": [
    "CHAR=256\n",
    "\n",
    "def leftmost(str1):\n",
    "    count=[0]*CHAR\n",
    "    \n",
    "    for i in range(len(str1)):\n",
    "        count[ord(str1[i])]+=1\n",
    "    \n",
    "    for i in range(len(str1)):\n",
    "        if count[ord(str1[i])]>1:\n",
    "            return i\n",
    "        \n",
    "    return -1\n",
    "\n",
    "#Time complexity : O(n)\n",
    "\n",
    "s3='abcdee'\n",
    "leftmost(s3)"
   ]
  },
  {
   "cell_type": "code",
   "execution_count": 13,
   "id": "dc8034ea",
   "metadata": {},
   "outputs": [
    {
     "name": "stdout",
     "output_type": "stream",
     "text": [
      "a\n",
      "Loop 1\n",
      "n\n",
      "Loop 1\n",
      "Loop 2\n",
      "Loop 2\n"
     ]
    },
    {
     "data": {
      "text/plain": [
       "0"
      ]
     },
     "execution_count": 13,
     "metadata": {},
     "output_type": "execute_result"
    }
   ],
   "source": [
    "#Efficient Approach\n",
    "\n",
    "CHAR=256\n",
    "import sys\n",
    "\n",
    "def leftmost(str1):\n",
    "    \n",
    "    fIndex=[-1]*CHAR\n",
    "    \n",
    "    res=sys.maxsize\n",
    "    \n",
    "    for i in range(len(str1)):\n",
    "        \n",
    "        if fIndex[ord(str1[i])] == -1:\n",
    "            print(str1[i])\n",
    "            print(\"Loop 1\")\n",
    "            fIndex[ord(str1[i])]=i\n",
    "            \n",
    "        else:\n",
    "            print(\"Loop 2\")\n",
    "            res=min(res,fIndex[ord(str1[i])])\n",
    "            \n",
    "    if res==sys.maxsize:\n",
    "        return -1\n",
    "    else:\n",
    "        return res\n",
    "    \n",
    "s1='anna'\n",
    "leftmost(s1)"
   ]
  },
  {
   "cell_type": "code",
   "execution_count": 15,
   "id": "f4181d43",
   "metadata": {},
   "outputs": [
    {
     "data": {
      "text/plain": [
       "2"
      ]
     },
     "execution_count": 15,
     "metadata": {},
     "output_type": "execute_result"
    }
   ],
   "source": [
    "# Efficient approach 2\n",
    "\n",
    "CHAR=256\n",
    "\n",
    "def leftmost(s):\n",
    "    \n",
    "    visited=[False]*CHAR\n",
    "    res=-1\n",
    "    \n",
    "    for i in range(len(s)-1,-1,-1):\n",
    "        \n",
    "        \n",
    "        if visited[ord(s[i])]==True:\n",
    "            res=i\n",
    "            \n",
    "        else:\n",
    "            visited[ord(s[i])]=True\n",
    "            \n",
    "    return res\n",
    "\n",
    "s='abccdee'\n",
    "leftmost(s)"
   ]
  },
  {
   "cell_type": "code",
   "execution_count": null,
   "id": "c83ac52f",
   "metadata": {},
   "outputs": [],
   "source": []
  }
 ],
 "metadata": {
  "kernelspec": {
   "display_name": "Python 3 (ipykernel)",
   "language": "python",
   "name": "python3"
  },
  "language_info": {
   "codemirror_mode": {
    "name": "ipython",
    "version": 3
   },
   "file_extension": ".py",
   "mimetype": "text/x-python",
   "name": "python",
   "nbconvert_exporter": "python",
   "pygments_lexer": "ipython3",
   "version": "3.11.4"
  }
 },
 "nbformat": 4,
 "nbformat_minor": 5
}
