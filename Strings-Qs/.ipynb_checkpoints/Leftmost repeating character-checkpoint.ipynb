{
 "cells": [
  {
   "cell_type": "code",
   "execution_count": 1,
   "id": "9c6bb161",
   "metadata": {},
   "outputs": [
    {
     "data": {
      "text/plain": [
       "0"
      ]
     },
     "execution_count": 1,
     "metadata": {},
     "output_type": "execute_result"
    }
   ],
   "source": [
    "def leftmost(s1):\n",
    "    for i in range(len(s1)):\n",
    "        for j in range(i+1,len(s1)):\n",
    "            if s1[i]==s1[j]:\n",
    "                return i\n",
    "            \n",
    "s1='abba'\n",
    "leftmost(s1)\n"
   ]
  },
  {
   "cell_type": "code",
   "execution_count": 3,
   "id": "0c11e464",
   "metadata": {},
   "outputs": [
    {
     "data": {
      "text/plain": [
       "5"
      ]
     },
     "execution_count": 3,
     "metadata": {},
     "output_type": "execute_result"
    }
   ],
   "source": [
    "s2='abcdegijkg'\n",
    "leftmost(s2)"
   ]
  },
  {
   "cell_type": "code",
   "execution_count": null,
   "id": "71488ee1",
   "metadata": {},
   "outputs": [],
   "source": []
  }
 ],
 "metadata": {
  "kernelspec": {
   "display_name": "Python 3 (ipykernel)",
   "language": "python",
   "name": "python3"
  },
  "language_info": {
   "codemirror_mode": {
    "name": "ipython",
    "version": 3
   },
   "file_extension": ".py",
   "mimetype": "text/x-python",
   "name": "python",
   "nbconvert_exporter": "python",
   "pygments_lexer": "ipython3",
   "version": "3.11.4"
  }
 },
 "nbformat": 4,
 "nbformat_minor": 5
}
