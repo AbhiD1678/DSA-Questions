{
 "cells": [
  {
   "cell_type": "code",
   "execution_count": 9,
   "id": "12a7f102",
   "metadata": {
    "scrolled": false
   },
   "outputs": [
    {
     "data": {
      "text/plain": [
       "'dsa to welcome'"
      ]
     },
     "execution_count": 9,
     "metadata": {},
     "output_type": "execute_result"
    }
   ],
   "source": [
    "def reverse(s,b,e):\n",
    "    while b<e:\n",
    "        s[b],s[e]=s[e],s[b]\n",
    "        b+=1\n",
    "        e-=1\n",
    "    \n",
    "    \n",
    "def reverseWords(s):\n",
    "    s = list(s)\n",
    "    n=len(s)\n",
    "    b=0\n",
    "    for i in range(n):\n",
    "        if s[i]==' ':\n",
    "            reverse(s,b,i-1)\n",
    "            b=i+1\n",
    "    reverse(s,b,n-1)\n",
    "    reverse(s,0,n-1)\n",
    "    s = ''.join(s)\n",
    "    return s\n",
    "s='welcome to dsa'\n",
    "reverseWords(s)\n",
    "        "
   ]
  },
  {
   "cell_type": "code",
   "execution_count": 10,
   "id": "61ed3f4e",
   "metadata": {},
   "outputs": [
    {
     "name": "stdout",
     "output_type": "stream",
     "text": [
      "dsa to Welcome\n"
     ]
    }
   ],
   "source": [
    "# Reverse words in a string\n",
    "\n",
    "\n",
    "def reverse_word(s, start, end):\n",
    "\twhile start < end:\n",
    "\t\ts[start], s[end] = s[end], s[start]\n",
    "\t\tstart = start + 1\n",
    "\t\tend -= 1\n",
    "\n",
    "\n",
    "s = \"Welcome to dsa\"\n",
    "\n",
    "\n",
    "s = list(s)\n",
    "start = 0\n",
    "while True:\n",
    "\t\n",
    "\ttry:\n",
    "\t\tend = s.index(' ', start)\n",
    "\n",
    "\t\treverse_word(s, start, end - 1)\n",
    "\n",
    "\t\tstart = end + 1\n",
    "\n",
    "\texcept ValueError:\n",
    "\n",
    "\t\treverse_word(s, start, len(s) - 1)\n",
    "\t\tbreak\n",
    "\n",
    "s.reverse()\n",
    "\n",
    "s = \"\".join(s)\n",
    "\n",
    "print(s)\n",
    "\n"
   ]
  },
  {
   "cell_type": "code",
   "execution_count": null,
   "id": "29a8a408",
   "metadata": {},
   "outputs": [],
   "source": []
  }
 ],
 "metadata": {
  "kernelspec": {
   "display_name": "Python 3 (ipykernel)",
   "language": "python",
   "name": "python3"
  },
  "language_info": {
   "codemirror_mode": {
    "name": "ipython",
    "version": 3
   },
   "file_extension": ".py",
   "mimetype": "text/x-python",
   "name": "python",
   "nbconvert_exporter": "python",
   "pygments_lexer": "ipython3",
   "version": "3.11.4"
  }
 },
 "nbformat": 4,
 "nbformat_minor": 5
}
