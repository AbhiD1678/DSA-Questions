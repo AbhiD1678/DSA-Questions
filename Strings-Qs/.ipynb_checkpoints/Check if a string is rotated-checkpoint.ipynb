{
 "cells": [
  {
   "cell_type": "code",
   "execution_count": 1,
   "id": "376e3c5b",
   "metadata": {},
   "outputs": [
    {
     "data": {
      "text/plain": [
       "'\\nThere are two strings given check if the strings are rotated versions of each other\\n'"
      ]
     },
     "execution_count": 1,
     "metadata": {},
     "output_type": "execute_result"
    }
   ],
   "source": [
    "'''\n",
    "There are two strings given check if the strings are rotated versions of each other\n",
    "'''"
   ]
  },
  {
   "cell_type": "code",
   "execution_count": 2,
   "id": "26efc450",
   "metadata": {},
   "outputs": [],
   "source": [
    "def areRotations(s1,s2):\n",
    "    if len(s1)!=len(s2):\n",
    "        return -1\n",
    "    temp=''\n",
    "    temp=s1+s1\n",
    "    \n",
    "    return temp.find(s2)!=-1"
   ]
  },
  {
   "cell_type": "code",
   "execution_count": null,
   "id": "3625d697",
   "metadata": {},
   "outputs": [],
   "source": []
  }
 ],
 "metadata": {
  "kernelspec": {
   "display_name": "Python 3 (ipykernel)",
   "language": "python",
   "name": "python3"
  },
  "language_info": {
   "codemirror_mode": {
    "name": "ipython",
    "version": 3
   },
   "file_extension": ".py",
   "mimetype": "text/x-python",
   "name": "python",
   "nbconvert_exporter": "python",
   "pygments_lexer": "ipython3",
   "version": "3.11.4"
  }
 },
 "nbformat": 4,
 "nbformat_minor": 5
}
