{
 "cells": [
  {
   "cell_type": "code",
   "execution_count": 1,
   "id": "aaae0622",
   "metadata": {},
   "outputs": [
    {
     "data": {
      "text/plain": [
       "'\\nYou are given a string s. You need to count the total distinct vowels in the string. The string s contains lowercase letters only.\\n\\nExample 1:\\n\\nInput:\\ngeeks\\n\\nOutput: \\n1\\n\\nExample 2:\\n\\nInput:\\nworld\\n\\nOutput:\\n1\\n\\nYour Task:\\n\\nYou only need to complete the function countVowels() that takes s as parameter and returns the count of distinct vowels in the string. \\n\\nExpected Time Complexity: O(|S|).\\nExpected Auxiliary Space: O(1).\\n'"
      ]
     },
     "execution_count": 1,
     "metadata": {},
     "output_type": "execute_result"
    }
   ],
   "source": [
    "'''\n",
    "You are given a string s. You need to count the total distinct vowels in the string. The string s contains lowercase letters only.\n",
    "\n",
    "Example 1:\n",
    "\n",
    "Input:\n",
    "geeks\n",
    "\n",
    "Output: \n",
    "1\n",
    "\n",
    "Example 2:\n",
    "\n",
    "Input:\n",
    "world\n",
    "\n",
    "Output:\n",
    "1\n",
    "\n",
    "Your Task:\n",
    "\n",
    "You only need to complete the function countVowels() that takes s as parameter and returns the count of distinct vowels in the string. \n",
    "\n",
    "Expected Time Complexity: O(|S|).\n",
    "Expected Auxiliary Space: O(1).\n",
    "'''"
   ]
  },
  {
   "cell_type": "code",
   "execution_count": 2,
   "id": "ff3f9eb7",
   "metadata": {},
   "outputs": [],
   "source": [
    "class Solution:\n",
    "    def countVowels(self,s):\n",
    "        #code here\n",
    "        count=0\n",
    "        if 'a' or 'e' or 'i' or 'o' or 'u' in set(s):\n",
    "            count+=1\n",
    "        return count"
   ]
  },
  {
   "cell_type": "code",
   "execution_count": null,
   "id": "621e4145",
   "metadata": {},
   "outputs": [],
   "source": []
  }
 ],
 "metadata": {
  "kernelspec": {
   "display_name": "Python 3 (ipykernel)",
   "language": "python",
   "name": "python3"
  },
  "language_info": {
   "codemirror_mode": {
    "name": "ipython",
    "version": 3
   },
   "file_extension": ".py",
   "mimetype": "text/x-python",
   "name": "python",
   "nbconvert_exporter": "python",
   "pygments_lexer": "ipython3",
   "version": "3.11.4"
  }
 },
 "nbformat": 4,
 "nbformat_minor": 5
}
