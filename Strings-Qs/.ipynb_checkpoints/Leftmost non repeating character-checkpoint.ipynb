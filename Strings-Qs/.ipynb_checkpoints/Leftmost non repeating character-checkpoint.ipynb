{
 "cells": [
  {
   "cell_type": "code",
   "execution_count": 2,
   "id": "93bb8323",
   "metadata": {},
   "outputs": [
    {
     "data": {
      "text/plain": [
       "5"
      ]
     },
     "execution_count": 2,
     "metadata": {},
     "output_type": "execute_result"
    }
   ],
   "source": [
    "def leftMost(st1):\n",
    "    for i in range(len(str1)):\n",
    "        flag=False\n",
    "        for j in range(i+1,len(str1)):\n",
    "            if str1[i]==str1[j]:\n",
    "                flag=True\n",
    "                break\n",
    "        if flag==False: return i\n",
    "    return -1\n",
    "\n",
    "\n",
    "str1='geeksforgeeks'\n",
    "leftMost(str1)\n",
    "\n",
    "#Time complexity:O(n^2)"
   ]
  },
  {
   "cell_type": "code",
   "execution_count": 9,
   "id": "f0cbcee5",
   "metadata": {},
   "outputs": [
    {
     "data": {
      "text/plain": [
       "3"
      ]
     },
     "execution_count": 9,
     "metadata": {},
     "output_type": "execute_result"
    }
   ],
   "source": [
    "CHAR=256\n",
    "\n",
    "def leftMost(str1):\n",
    "    count=[0]*CHAR\n",
    "    \n",
    "    for a in str1:\n",
    "        count[ord(a)]+=1\n",
    "        \n",
    "    for i in range(len(str1)):\n",
    "        if count[ord(str1[i])]==1:\n",
    "            return i\n",
    "        \n",
    "    return -1\n",
    "\n",
    "str1='abcdabc'\n",
    "leftMost(str1)\n",
    "\n",
    "#Time complexity=O(N)"
   ]
  },
  {
   "cell_type": "code",
   "execution_count": 19,
   "id": "a9f636e5",
   "metadata": {},
   "outputs": [
    {
     "data": {
      "text/plain": [
       "0"
      ]
     },
     "execution_count": 19,
     "metadata": {},
     "output_type": "execute_result"
    }
   ],
   "source": [
    "import sys\n",
    "\n",
    "CHAR=256\n",
    "\n",
    "def leftmost(str1):\n",
    "    fI=[-1]*CHAR\n",
    "    \n",
    "    \n",
    "    for i in range(len(str1)):\n",
    "        if fI[ord(str1[i])]==-1:\n",
    "            fI[ord(str1[i])]=i\n",
    "        \n",
    "        else:\n",
    "            fI[ord(str1[i])]=-2\n",
    "        \n",
    "            \n",
    "    res=sys.maxsize\n",
    "        \n",
    "    for i in range(CHAR):\n",
    "        if fI[i]>=0:\n",
    "            res=min(res,fI[i])\n",
    "                \n",
    "    if res==sys.maxsize:\n",
    "        return -1\n",
    "    else:\n",
    "        return res\n",
    "        \n",
    "str1='abbcddeffg'\n",
    "leftmost(str1)"
   ]
  },
  {
   "cell_type": "code",
   "execution_count": null,
   "id": "b208d9b6",
   "metadata": {},
   "outputs": [],
   "source": []
  }
 ],
 "metadata": {
  "kernelspec": {
   "display_name": "Python 3 (ipykernel)",
   "language": "python",
   "name": "python3"
  },
  "language_info": {
   "codemirror_mode": {
    "name": "ipython",
    "version": 3
   },
   "file_extension": ".py",
   "mimetype": "text/x-python",
   "name": "python",
   "nbconvert_exporter": "python",
   "pygments_lexer": "ipython3",
   "version": "3.11.4"
  }
 },
 "nbformat": 4,
 "nbformat_minor": 5
}
