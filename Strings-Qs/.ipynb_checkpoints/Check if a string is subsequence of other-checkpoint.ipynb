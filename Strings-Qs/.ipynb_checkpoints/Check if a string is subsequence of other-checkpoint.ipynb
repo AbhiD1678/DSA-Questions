{
 "cells": [
  {
   "cell_type": "code",
   "execution_count": null,
   "id": "0694b3ea",
   "metadata": {},
   "outputs": [],
   "source": [
    "def isSeq(s1,s2):\n",
    "    i,j=0,0\n",
    "    \n",
    "    while i<len(s1) and j<len(s2):\n",
    "        if s1[i]==s2[j]:\n",
    "            j=j+1\n",
    "        i=i+1\n",
    "        \n",
    "    if j==len(s2):\n",
    "        return True\n",
    "    else:\n",
    "        return False"
   ]
  }
 ],
 "metadata": {
  "kernelspec": {
   "display_name": "Python 3 (ipykernel)",
   "language": "python",
   "name": "python3"
  },
  "language_info": {
   "codemirror_mode": {
    "name": "ipython",
    "version": 3
   },
   "file_extension": ".py",
   "mimetype": "text/x-python",
   "name": "python",
   "nbconvert_exporter": "python",
   "pygments_lexer": "ipython3",
   "version": "3.11.4"
  }
 },
 "nbformat": 4,
 "nbformat_minor": 5
}
