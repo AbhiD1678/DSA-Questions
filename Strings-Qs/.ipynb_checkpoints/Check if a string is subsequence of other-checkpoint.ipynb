{
 "cells": [
  {
   "cell_type": "code",
   "execution_count": null,
   "id": "09b40850",
   "metadata": {},
   "outputs": [],
   "source": [
    "def isSeq(s1,s2):\n",
    "    i,j=0,0\n",
    "    \n",
    "    while i<len(s1) and j<len(s2):\n",
    "        if s1[i]==s2[j]:\n",
    "            j=j+1\n",
    "        i=i+1\n",
    "        \n",
    "    if j==len(s2):\n",
    "        return True\n",
    "    else:\n",
    "        return False"
   ]
  },
  {
   "cell_type": "code",
   "execution_count": 1,
   "id": "e4e3d016",
   "metadata": {},
   "outputs": [],
   "source": [
    "#using recursion to solve the above but it will take auxiliary space as well\n",
    "\n",
    "def isSeq(s1,s2,m,n):\n",
    "    if n==0:\n",
    "        return True\n",
    "    if m==0:\n",
    "        return False\n",
    "    \n",
    "    if s[n-1]==s[m-1]:\n",
    "        return isSeq(s1,s2,m-1,n-1)\n",
    "    else:\n",
    "        return isSeq(s1,s2,m-1,n)"
   ]
  },
  {
   "cell_type": "code",
   "execution_count": null,
   "id": "2094d9ed",
   "metadata": {},
   "outputs": [],
   "source": []
  }
 ],
 "metadata": {
  "kernelspec": {
   "display_name": "Python 3 (ipykernel)",
   "language": "python",
   "name": "python3"
  },
  "language_info": {
   "codemirror_mode": {
    "name": "ipython",
    "version": 3
   },
   "file_extension": ".py",
   "mimetype": "text/x-python",
   "name": "python",
   "nbconvert_exporter": "python",
   "pygments_lexer": "ipython3",
   "version": "3.11.4"
  }
 },
 "nbformat": 4,
 "nbformat_minor": 5
}
