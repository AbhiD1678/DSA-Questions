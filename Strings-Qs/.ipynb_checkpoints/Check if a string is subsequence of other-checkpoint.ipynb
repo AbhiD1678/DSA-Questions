{
 "cells": [
  {
   "cell_type": "code",
   "execution_count": 3,
   "id": "025c1aa9",
   "metadata": {},
   "outputs": [
    {
     "name": "stdout",
     "output_type": "stream",
     "text": [
      "True\n"
     ]
    }
   ],
   "source": [
    "def isSeq(s1,s2):\n",
    "    i,j=0,0\n",
    "    \n",
    "    while i<len(s1) and j<len(s2):\n",
    "        if s1[i]==s2[j]:\n",
    "            j=j+1\n",
    "        i=i+1\n",
    "        \n",
    "    if j==len(s2):\n",
    "        return True\n",
    "    else:\n",
    "        return False\n",
    "    \n",
    "        \n",
    "s1 = \"ABCDEF\"\n",
    "s2 = \"ADE\"\n",
    "\n",
    "print(isSeq(s1,s2))\n",
    "\n",
    " "
   ]
  },
  {
   "cell_type": "code",
   "execution_count": 5,
   "id": "e6030cb1",
   "metadata": {},
   "outputs": [
    {
     "data": {
      "text/plain": [
       "False"
      ]
     },
     "execution_count": 5,
     "metadata": {},
     "output_type": "execute_result"
    }
   ],
   "source": [
    "#using recursion to solve the above but it will take auxiliary space as well\n",
    "\n",
    "def isSeq(s1,s2,m,n):\n",
    "    if n==0:\n",
    "        return True\n",
    "    if m==0:\n",
    "        return False\n",
    "    \n",
    "    if s2[n-1]==s1[m-1]:\n",
    "        return isSeq(s1,s2,m-1,n-1)\n",
    "    else:\n",
    "        return isSeq(s1,s2,m-1,n)\n",
    "    \n",
    "str1 = \"gksrek\"\n",
    "str2 = \"geeksforgeeks\"\n",
    "m = len(str1)\n",
    "n = len(str2)\n",
    "\n",
    "isSeq(str1,str2,m,n)"
   ]
  },
  {
   "cell_type": "code",
   "execution_count": null,
   "id": "7d53b381",
   "metadata": {},
   "outputs": [],
   "source": []
  }
 ],
 "metadata": {
  "kernelspec": {
   "display_name": "Python 3 (ipykernel)",
   "language": "python",
   "name": "python3"
  },
  "language_info": {
   "codemirror_mode": {
    "name": "ipython",
    "version": 3
   },
   "file_extension": ".py",
   "mimetype": "text/x-python",
   "name": "python",
   "nbconvert_exporter": "python",
   "pygments_lexer": "ipython3",
   "version": "3.11.4"
  }
 },
 "nbformat": 4,
 "nbformat_minor": 5
}
