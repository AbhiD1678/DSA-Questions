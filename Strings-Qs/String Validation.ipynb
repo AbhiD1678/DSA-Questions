{
 "cells": [
  {
   "cell_type": "code",
   "execution_count": 1,
   "id": "bfdc26ee",
   "metadata": {},
   "outputs": [
    {
     "data": {
      "text/plain": [
       "\"\\nGiven a string s representing a password, you need to check if the string is valid or not. A valid string has the following properties:\\n\\n    String must have the length greater than or equal to 10.\\n    String must contain at least 1 numeric character.\\n    String must contain at least 1 uppercase character.\\n    String must contain at least 1 lowercase character.\\n    String must contain at least 1 special character from @#$-*.\\n\\n \\n\\nExample 1:\\n\\nInput: eHello123@\\nOutput: 1\\nExplanation: String is valid.\\n\\n \\n\\nExample 2:\\n\\nInput: hella\\nOutput: 0\\nExplanation: String is not valid.\\n\\n \\n\\nYour Task:\\nYou don't need to read input or print anything. Complete the function validate() which takes string s as input parameter and returns true if the string is valid, else it returns false.\\n \\n\\nExpected Time Complexity: O(|S|).\\nExpected Auxiliary Space: O(1).\\n\""
      ]
     },
     "execution_count": 1,
     "metadata": {},
     "output_type": "execute_result"
    }
   ],
   "source": [
    "'''\n",
    "Given a string s representing a password, you need to check if the string is valid or not. A valid string has the following properties:\n",
    "\n",
    "    String must have the length greater than or equal to 10.\n",
    "    String must contain at least 1 numeric character.\n",
    "    String must contain at least 1 uppercase character.\n",
    "    String must contain at least 1 lowercase character.\n",
    "    String must contain at least 1 special character from @#$-*.\n",
    "\n",
    " \n",
    "\n",
    "Example 1:\n",
    "\n",
    "Input: eHello123@\n",
    "Output: 1\n",
    "Explanation: String is valid.\n",
    "\n",
    " \n",
    "\n",
    "Example 2:\n",
    "\n",
    "Input: hella\n",
    "Output: 0\n",
    "Explanation: String is not valid.\n",
    "\n",
    " \n",
    "\n",
    "Your Task:\n",
    "You don't need to read input or print anything. Complete the function validate() which takes string s as input parameter and returns true if the string is valid, else it returns false.\n",
    " \n",
    "\n",
    "Expected Time Complexity: O(|S|).\n",
    "Expected Auxiliary Space: O(1).\n",
    "'''"
   ]
  },
  {
   "cell_type": "code",
   "execution_count": 2,
   "id": "cff9155a",
   "metadata": {},
   "outputs": [],
   "source": [
    "def validate(s):\n",
    "    #your code here\n",
    "    if len(s) < 10:\n",
    "        return 0\n",
    "    f1, f2, f3, f4 = 0, 0, 0, 0\n",
    "\n",
    "    for element in s:\n",
    "        if element.isdigit():\n",
    "            f1 = 1\n",
    "        elif element.isupper():\n",
    "            f2 = 1\n",
    "        elif element.islower():\n",
    "            f3 = 1\n",
    "        elif element in '@#$-*':\n",
    "            f4 = 1\n",
    "\n",
    "    if f1 == 0 or f2 == 0 or f3 == 0 or f4 == 0:\n",
    "        return 0\n",
    "    else:\n",
    "        return 1"
   ]
  },
  {
   "cell_type": "code",
   "execution_count": 3,
   "id": "4fe56c12",
   "metadata": {},
   "outputs": [],
   "source": [
    "#User function Template for python3\n",
    "def validate(s):\n",
    "    #your code here\n",
    "    if(len(s)<10):\n",
    "        return 0\n",
    "    if not any(char.isdigit() for char in s):\n",
    "        return 0\n",
    "\n",
    "    if not any(char.isupper() for char in s):\n",
    "        return 0\n",
    "\n",
    "    if not any(char.islower() for char in s):\n",
    "        return 0\n",
    "        \n",
    "    sp= ['@','#','$','-','*']\n",
    "    if not any(char in sp for char in s):\n",
    "        return 0\n",
    "             \n",
    "    return 1\n",
    "\n"
   ]
  },
  {
   "cell_type": "code",
   "execution_count": null,
   "id": "b41e91e8",
   "metadata": {},
   "outputs": [],
   "source": []
  }
 ],
 "metadata": {
  "kernelspec": {
   "display_name": "Python 3 (ipykernel)",
   "language": "python",
   "name": "python3"
  },
  "language_info": {
   "codemirror_mode": {
    "name": "ipython",
    "version": 3
   },
   "file_extension": ".py",
   "mimetype": "text/x-python",
   "name": "python",
   "nbconvert_exporter": "python",
   "pygments_lexer": "ipython3",
   "version": "3.11.4"
  }
 },
 "nbformat": 4,
 "nbformat_minor": 5
}
