{
 "cells": [
  {
   "cell_type": "code",
   "execution_count": 1,
   "id": "004127bb",
   "metadata": {},
   "outputs": [
    {
     "data": {
      "text/plain": [
       "'\\nPangram Checking\\nBasicAccuracy: 51.9%Submissions: 10K+Points: 1\\n\\nInternship Alert!\\nBecome an SDE Intern by topping this monthly leaderboard! \\nbanner\\n\\nYou are given a string s. You need to find if the string is a panagram or not.\\nA panagram contains all the letters of english alphabet at least once.\\n\\nExample 1:\\n\\nInput:\\ns = Thequickbrownfoxjumpsoverthelazydog\\nOutput: 1\\n\\nExample 2:\\n\\nInput:\\ns = HeavyDuty\\nOutput: 0\\n'"
      ]
     },
     "execution_count": 1,
     "metadata": {},
     "output_type": "execute_result"
    }
   ],
   "source": [
    "'''\n",
    "Pangram Checking\n",
    "BasicAccuracy: 51.9%Submissions: 10K+Points: 1\n",
    "\n",
    "Internship Alert!\n",
    "Become an SDE Intern by topping this monthly leaderboard! \n",
    "banner\n",
    "\n",
    "You are given a string s. You need to find if the string is a panagram or not.\n",
    "A panagram contains all the letters of english alphabet at least once.\n",
    "\n",
    "Example 1:\n",
    "\n",
    "Input:\n",
    "s = Thequickbrownfoxjumpsoverthelazydog\n",
    "Output: 1\n",
    "\n",
    "Example 2:\n",
    "\n",
    "Input:\n",
    "s = HeavyDuty\n",
    "Output: 0\n",
    "'''"
   ]
  },
  {
   "cell_type": "code",
   "execution_count": null,
   "id": "bbf7dec2",
   "metadata": {},
   "outputs": [],
   "source": [
    "class Solution:\n",
    "    def isPanagram(self,s):\n",
    "        #your code here\n",
    "        if len(set(s.lower()))==26:\n",
    "            return True\n",
    "        else:\n",
    "            return False"
   ]
  }
 ],
 "metadata": {
  "kernelspec": {
   "display_name": "Python 3 (ipykernel)",
   "language": "python",
   "name": "python3"
  },
  "language_info": {
   "codemirror_mode": {
    "name": "ipython",
    "version": 3
   },
   "file_extension": ".py",
   "mimetype": "text/x-python",
   "name": "python",
   "nbconvert_exporter": "python",
   "pygments_lexer": "ipython3",
   "version": "3.11.4"
  }
 },
 "nbformat": 4,
 "nbformat_minor": 5
}
