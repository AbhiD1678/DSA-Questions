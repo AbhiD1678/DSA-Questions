{
 "cells": [
  {
   "cell_type": "code",
   "execution_count": 1,
   "id": "7c3fc412",
   "metadata": {},
   "outputs": [],
   "source": [
    "'''\n",
    "You are given a number n. You need to find the count of digits in n.\n",
    "\n",
    "Example 1:\n",
    "\n",
    "Input:\n",
    "n = 1\n",
    "Output: 1\n",
    "Explanation: Number of digit in 1 is 1.\n",
    "Example 2:\n",
    "\n",
    "Input:\n",
    "n  = 99999\n",
    "Output: 5\n",
    "Explanation:Number of digit in 99999 is 5\n",
    "Your Task:\n",
    "You don't need to read input or print anything. Your task is to complete the function countDigits() that takes n as parameter and returns the count of digits in n.\n",
    "\n",
    "Expected Time Complexity: O(Logn).\n",
    "Expected Auxiliary Space: O(Logn).\n",
    "\n",
    "Constraints:\n",
    "1 <= n <= 107\n",
    "\n",
    "\n",
    "'''\n",
    "\n",
    "class Solution:\n",
    "    def countDigits(self, n):\n",
    "        '''\n",
    "        :param n: given number\n",
    "        :return: count of digits of n.\n",
    "        '''\n",
    "        count=0\n",
    "        while n!=0:\n",
    "            count+=1\n",
    "            n=n//10\n",
    "        return count\n",
    "        # code here"
   ]
  },
  {
   "cell_type": "code",
   "execution_count": 2,
   "id": "2da6a549",
   "metadata": {},
   "outputs": [],
   "source": [
    "#M2\n",
    "\n",
    "\n",
    "class Solution:\n",
    "    def countDigits(self, n):\n",
    "        '''\n",
    "        :param n: given number\n",
    "        :return: count of digits of n.\n",
    "        '''\n",
    "        return len(str(n))"
   ]
  },
  {
   "cell_type": "code",
   "execution_count": null,
   "id": "e503908b",
   "metadata": {},
   "outputs": [],
   "source": [
    "#M3\n",
    "\n"
   ]
  }
 ],
 "metadata": {
  "kernelspec": {
   "display_name": "Python 3 (ipykernel)",
   "language": "python",
   "name": "python3"
  },
  "language_info": {
   "codemirror_mode": {
    "name": "ipython",
    "version": 3
   },
   "file_extension": ".py",
   "mimetype": "text/x-python",
   "name": "python",
   "nbconvert_exporter": "python",
   "pygments_lexer": "ipython3",
   "version": "3.11.4"
  }
 },
 "nbformat": 4,
 "nbformat_minor": 5
}
