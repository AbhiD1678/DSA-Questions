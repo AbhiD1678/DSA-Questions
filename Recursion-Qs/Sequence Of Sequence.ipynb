{
 "cells": [
  {
   "cell_type": "code",
   "execution_count": null,
   "id": "b3287e51",
   "metadata": {},
   "outputs": [],
   "source": [
    "'''\n",
    "Given two integers m and n, try making a special sequence of numbers seq of length n such that\n",
    "\n",
    "seqi+1 >= 2*seqi \n",
    "seqi > 0\n",
    "seqi <= m\n",
    "Your task is to determine total number of such special sequences possible.\n",
    "\n",
    "Example 1:\n",
    "\n",
    "Input: \n",
    "m = 10\n",
    "n = 4\n",
    "Output: \n",
    "4\n",
    "Explaination: \n",
    "There should be n elements and \n",
    "value of last element should be at-most m. \n",
    "The sequences are {1, 2, 4, 8}, {1, 2, 4, 9}, \n",
    "{1, 2, 4, 10}, {1, 2, 5, 10}.\n",
    "Example 2:\n",
    "\n",
    "Input: \n",
    "m = 5\n",
    "n = 2\n",
    "Output: \n",
    "6\n",
    "Explaination: \n",
    "The sequences are {1, 2}, \n",
    "{1, 3}, {1, 4}, {1, 5}, {2, 4}, {2, 5}.\n",
    "Your Task:\n",
    "You do not need to read input or print anything. Your task is to complete the function numberSequence() which takes the number m and n as input parameters and returns the number of possible special sequences.\n",
    "\n",
    "Expected Time Complexity: O(m*n)\n",
    "Expected Auxiliary Space: O(1)\n",
    "\n",
    "Constraints:\n",
    "1 ≤ m, n ≤ 100\n",
    "'''\n",
    "\n",
    "\n",
    "class Solution:\n",
    "    def numberSequence(self, m, n):\n",
    "        # code here\n",
    "        print(m,n)\n",
    "        if n ==0:\n",
    "            print('output here')\n",
    "            return 1\n",
    "        if n>m:\n",
    "            print('no output here')\n",
    "            return 0\n",
    "        return self.numberSequence(m/2,n-1) + self.numberSequence(m-1,n)"
   ]
  }
 ],
 "metadata": {
  "kernelspec": {
   "display_name": "Python 3 (ipykernel)",
   "language": "python",
   "name": "python3"
  },
  "language_info": {
   "codemirror_mode": {
    "name": "ipython",
    "version": 3
   },
   "file_extension": ".py",
   "mimetype": "text/x-python",
   "name": "python",
   "nbconvert_exporter": "python",
   "pygments_lexer": "ipython3",
   "version": "3.12.0"
  }
 },
 "nbformat": 4,
 "nbformat_minor": 5
}
