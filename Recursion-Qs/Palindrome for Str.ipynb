{
 "cells": [
  {
   "cell_type": "code",
   "execution_count": 11,
   "id": "8cba5ba7",
   "metadata": {},
   "outputs": [
    {
     "data": {
      "text/plain": [
       "True"
      ]
     },
     "execution_count": 11,
     "metadata": {},
     "output_type": "execute_result"
    }
   ],
   "source": [
    "str1='abba'\n",
    "str2='abcd'\n",
    "start=0\n",
    "end=len(str1)-1\n",
    "def PalindromeStr(str,start,end):\n",
    "    \n",
    "    if start>=end:\n",
    "        return True\n",
    "    return str[start]==str[end] and PalindromeStr(str,start+1,end-1)\n",
    "\n",
    "PalindromeStr(str1,start,end)\n"
   ]
  },
  {
   "cell_type": "code",
   "execution_count": 12,
   "id": "1c6123d3",
   "metadata": {},
   "outputs": [
    {
     "data": {
      "text/plain": [
       "False"
      ]
     },
     "execution_count": 12,
     "metadata": {},
     "output_type": "execute_result"
    }
   ],
   "source": [
    "PalindromeStr(str2,start,end)"
   ]
  },
  {
   "cell_type": "code",
   "execution_count": null,
   "id": "03216112",
   "metadata": {},
   "outputs": [],
   "source": []
  }
 ],
 "metadata": {
  "kernelspec": {
   "display_name": "Python 3 (ipykernel)",
   "language": "python",
   "name": "python3"
  },
  "language_info": {
   "codemirror_mode": {
    "name": "ipython",
    "version": 3
   },
   "file_extension": ".py",
   "mimetype": "text/x-python",
   "name": "python",
   "nbconvert_exporter": "python",
   "pygments_lexer": "ipython3",
   "version": "3.11.4"
  }
 },
 "nbformat": 4,
 "nbformat_minor": 5
}
