{
 "cells": [
  {
   "cell_type": "code",
   "execution_count": 2,
   "id": "a25b6f74",
   "metadata": {},
   "outputs": [
    {
     "name": "stdout",
     "output_type": "stream",
     "text": [
      "4 3 2 1 "
     ]
    }
   ],
   "source": [
    "def PrintNTo1(n):\n",
    "    if n<=0:\n",
    "        return\n",
    "    print(n,end=' ')\n",
    "    return PrintNTo1(n-1)\n",
    "PrintNTo1(4)"
   ]
  },
  {
   "cell_type": "code",
   "execution_count": null,
   "id": "5c8f5e06",
   "metadata": {},
   "outputs": [],
   "source": []
  }
 ],
 "metadata": {
  "kernelspec": {
   "display_name": "Python 3 (ipykernel)",
   "language": "python",
   "name": "python3"
  },
  "language_info": {
   "codemirror_mode": {
    "name": "ipython",
    "version": 3
   },
   "file_extension": ".py",
   "mimetype": "text/x-python",
   "name": "python",
   "nbconvert_exporter": "python",
   "pygments_lexer": "ipython3",
   "version": "3.11.4"
  }
 },
 "nbformat": 4,
 "nbformat_minor": 5
}
