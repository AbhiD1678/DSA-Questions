{
 "cells": [
  {
   "cell_type": "code",
   "execution_count": 11,
   "id": "2a49455a-40ba-4a9b-a696-466fe8ef0ba0",
   "metadata": {},
   "outputs": [],
   "source": [
    "def Permutation(s,i=0):\n",
    "    n=len(s)\n",
    "    s=list(s)\n",
    "    if i==n-1:\n",
    "        print(''.join(s))\n",
    "        return\n",
    "    for j in range(i,n):\n",
    "        s[i],s[j]=s[j],s[i]\n",
    "        Permutation(s,i+1)\n",
    "        s[i],s[j]=s[j],s[i]\n",
    "    "
   ]
  },
  {
   "cell_type": "code",
   "execution_count": 12,
   "id": "c56ecae3-6e5d-4a76-96d1-df4c2166b13e",
   "metadata": {},
   "outputs": [
    {
     "name": "stdout",
     "output_type": "stream",
     "text": [
      "ABC\n",
      "ACB\n",
      "BAC\n",
      "BCA\n",
      "CBA\n",
      "CAB\n"
     ]
    }
   ],
   "source": [
    "Permutation(\"ABC\")"
   ]
  },
  {
   "cell_type": "code",
   "execution_count": null,
   "id": "9de0a16f-905a-4385-8b19-cdf45b6d79a4",
   "metadata": {},
   "outputs": [],
   "source": []
  }
 ],
 "metadata": {
  "kernelspec": {
   "display_name": "Python 3 (ipykernel)",
   "language": "python",
   "name": "python3"
  },
  "language_info": {
   "codemirror_mode": {
    "name": "ipython",
    "version": 3
   },
   "file_extension": ".py",
   "mimetype": "text/x-python",
   "name": "python",
   "nbconvert_exporter": "python",
   "pygments_lexer": "ipython3",
   "version": "3.12.0"
  }
 },
 "nbformat": 4,
 "nbformat_minor": 5
}
