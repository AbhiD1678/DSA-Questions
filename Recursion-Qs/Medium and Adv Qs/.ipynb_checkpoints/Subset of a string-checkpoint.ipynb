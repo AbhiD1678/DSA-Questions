{
 "cells": [
  {
   "cell_type": "code",
   "execution_count": 3,
   "id": "f2e5befd-91bb-438c-9556-c42272f9ebf2",
   "metadata": {},
   "outputs": [],
   "source": [
    "def SubString(st,curr='',ind=0):\n",
    "    if ind==len(st):\n",
    "        print(curr,end=' ')\n",
    "        return\n",
    "    SubString(st,curr,ind+1)\n",
    "    SubString(st,curr+st[ind],ind+1)\n",
    "\n",
    "#Time complexity:O(2^n)\n",
    "#Space complexity:O(n)"
   ]
  },
  {
   "cell_type": "code",
   "execution_count": 6,
   "id": "3750037e-136b-4369-b060-1405e05072b9",
   "metadata": {
    "scrolled": true
   },
   "outputs": [
    {
     "name": "stdout",
     "output_type": "stream",
     "text": [
      " C B BC A AC AB ABC "
     ]
    }
   ],
   "source": [
    "SubString(\"ABC\")"
   ]
  },
  {
   "cell_type": "code",
   "execution_count": null,
   "id": "e9237a71-8bb6-4638-b863-c8553d8226c3",
   "metadata": {},
   "outputs": [],
   "source": []
  }
 ],
 "metadata": {
  "kernelspec": {
   "display_name": "Python 3 (ipykernel)",
   "language": "python",
   "name": "python3"
  },
  "language_info": {
   "codemirror_mode": {
    "name": "ipython",
    "version": 3
   },
   "file_extension": ".py",
   "mimetype": "text/x-python",
   "name": "python",
   "nbconvert_exporter": "python",
   "pygments_lexer": "ipython3",
   "version": "3.12.0"
  }
 },
 "nbformat": 4,
 "nbformat_minor": 5
}
