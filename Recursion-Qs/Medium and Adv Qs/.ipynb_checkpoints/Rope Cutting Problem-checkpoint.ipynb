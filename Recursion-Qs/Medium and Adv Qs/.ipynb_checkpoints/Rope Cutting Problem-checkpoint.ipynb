{
 "cells": [
  {
   "cell_type": "code",
   "execution_count": 4,
   "id": "fc911c72-c36d-4e65-88a9-19408819563a",
   "metadata": {},
   "outputs": [],
   "source": [
    "def maxPieces(n,a,b,c):\n",
    "    if n==0:\n",
    "        return 0\n",
    "    if n<=-1:\n",
    "        return -1\n",
    "    res=max(maxPieces(n-a,a,b,c),maxPieces(n-b,a,b,c),maxPieces(n-c,a,b,c))\n",
    "\n",
    "    if res==-1:\n",
    "        return -1\n",
    "    return res+1\n",
    "#Time complexity:O(3^n)\n",
    "#There is a better solution for this using dynamic programming"
   ]
  },
  {
   "cell_type": "code",
   "execution_count": 5,
   "id": "3cbd5226-c193-424a-a127-550770efc545",
   "metadata": {},
   "outputs": [
    {
     "data": {
      "text/plain": [
       "2"
      ]
     },
     "execution_count": 5,
     "metadata": {},
     "output_type": "execute_result"
    }
   ],
   "source": [
    "maxPieces(23,11,12,9)"
   ]
  },
  {
   "cell_type": "code",
   "execution_count": 6,
   "id": "00bd38b1-3a0f-4441-9ba5-2daa6b721565",
   "metadata": {},
   "outputs": [
    {
     "data": {
      "text/plain": [
       "-1"
      ]
     },
     "execution_count": 6,
     "metadata": {},
     "output_type": "execute_result"
    }
   ],
   "source": [
    "maxPieces(23,11,13,9)"
   ]
  },
  {
   "cell_type": "code",
   "execution_count": null,
   "id": "099af420-6112-48a3-995f-6892be17f155",
   "metadata": {},
   "outputs": [],
   "source": []
  }
 ],
 "metadata": {
  "kernelspec": {
   "display_name": "Python 3 (ipykernel)",
   "language": "python",
   "name": "python3"
  },
  "language_info": {
   "codemirror_mode": {
    "name": "ipython",
    "version": 3
   },
   "file_extension": ".py",
   "mimetype": "text/x-python",
   "name": "python",
   "nbconvert_exporter": "python",
   "pygments_lexer": "ipython3",
   "version": "3.12.0"
  }
 },
 "nbformat": 4,
 "nbformat_minor": 5
}
