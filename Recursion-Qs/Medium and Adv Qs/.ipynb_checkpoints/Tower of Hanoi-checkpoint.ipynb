{
 "cells": [
  {
   "cell_type": "code",
   "execution_count": 4,
   "id": "1f32d199-4254-4ad6-8dbd-1f59ce98ce03",
   "metadata": {},
   "outputs": [],
   "source": [
    "def TOH(n,a,b,c):\n",
    "    if n==1:\n",
    "        print(\"Move 1 from\",a,\"to\",c)\n",
    "\n",
    "    else:\n",
    "        TOH(n-1,a,c,b)#Moving from a to b,keeping c as an auxiliary tower\n",
    "        print(\"Move\",n,\"from\",a,\"to\",c)#Then moving the nth disk from a to c\n",
    "        TOH(n-1,b,a,c)#Then moving the remaining disk from b to c,keeping a as an auxiliary disk"
   ]
  },
  {
   "cell_type": "code",
   "execution_count": 5,
   "id": "54e75c58-768c-4998-9eac-08dd2aa237db",
   "metadata": {},
   "outputs": [
    {
     "name": "stdout",
     "output_type": "stream",
     "text": [
      "Move 1 from a to c\n",
      "Move 2 from a to b\n",
      "Move 1 from c to b\n",
      "Move 3 from a to c\n",
      "Move 1 from b to a\n",
      "Move 2 from b to c\n",
      "Move 1 from a to c\n"
     ]
    }
   ],
   "source": [
    "TOH(3,'a','b','c')"
   ]
  },
  {
   "cell_type": "code",
   "execution_count": null,
   "id": "addc580e-4770-4714-9baa-edc6803a7f8f",
   "metadata": {},
   "outputs": [],
   "source": []
  }
 ],
 "metadata": {
  "kernelspec": {
   "display_name": "Python 3 (ipykernel)",
   "language": "python",
   "name": "python3"
  },
  "language_info": {
   "codemirror_mode": {
    "name": "ipython",
    "version": 3
   },
   "file_extension": ".py",
   "mimetype": "text/x-python",
   "name": "python",
   "nbconvert_exporter": "python",
   "pygments_lexer": "ipython3",
   "version": "3.12.0"
  }
 },
 "nbformat": 4,
 "nbformat_minor": 5
}
