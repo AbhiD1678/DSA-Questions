{
 "cells": [
  {
   "cell_type": "code",
   "execution_count": 3,
   "id": "be754295-74eb-45cf-a598-efbe8be4410e",
   "metadata": {},
   "outputs": [],
   "source": [
    "def Joseph(n,k):\n",
    "    if n==1:\n",
    "        return 0\n",
    "    return (Joseph(n-1,k)+k)%n\n",
    "\n",
    "# Time complexity :O(n)"
   ]
  },
  {
   "cell_type": "code",
   "execution_count": 4,
   "id": "37ca86c1-686a-4548-8953-675b526ce79b",
   "metadata": {},
   "outputs": [
    {
     "data": {
      "text/plain": [
       "3"
      ]
     },
     "execution_count": 4,
     "metadata": {},
     "output_type": "execute_result"
    }
   ],
   "source": [
    "Joseph(5,3)"
   ]
  },
  {
   "cell_type": "code",
   "execution_count": null,
   "id": "d83784d2-914e-4a22-b287-8e09ea810a7a",
   "metadata": {},
   "outputs": [],
   "source": []
  }
 ],
 "metadata": {
  "kernelspec": {
   "display_name": "Python 3 (ipykernel)",
   "language": "python",
   "name": "python3"
  },
  "language_info": {
   "codemirror_mode": {
    "name": "ipython",
    "version": 3
   },
   "file_extension": ".py",
   "mimetype": "text/x-python",
   "name": "python",
   "nbconvert_exporter": "python",
   "pygments_lexer": "ipython3",
   "version": "3.12.0"
  }
 },
 "nbformat": 4,
 "nbformat_minor": 5
}
