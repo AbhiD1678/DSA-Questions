{
 "cells": [
  {
   "cell_type": "code",
   "execution_count": 4,
   "id": "e83fbd5f-8c36-4353-bd17-7fcba9cb7d75",
   "metadata": {},
   "outputs": [],
   "source": [
    "def SubsetSum(arr,n,sum):\n",
    "    if n==0:\n",
    "        return 1 if sum==0 else  0\n",
    "    return SubsetSum(arr,n-1,sum)+SubsetSum(arr,n-1,sum-arr[n-1])\n",
    "\n",
    "#Time complexity:O(n)"
   ]
  },
  {
   "cell_type": "code",
   "execution_count": 3,
   "id": "c4856612-6a80-4474-9bac-15ef83814c80",
   "metadata": {},
   "outputs": [
    {
     "data": {
      "text/plain": [
       "1"
      ]
     },
     "execution_count": 3,
     "metadata": {},
     "output_type": "execute_result"
    }
   ],
   "source": [
    "SubsetSum([10,15,5],3,25)"
   ]
  },
  {
   "cell_type": "code",
   "execution_count": null,
   "id": "d85b09cf-bd3a-40de-a9ad-73992b02e0b5",
   "metadata": {},
   "outputs": [],
   "source": []
  }
 ],
 "metadata": {
  "kernelspec": {
   "display_name": "Python 3 (ipykernel)",
   "language": "python",
   "name": "python3"
  },
  "language_info": {
   "codemirror_mode": {
    "name": "ipython",
    "version": 3
   },
   "file_extension": ".py",
   "mimetype": "text/x-python",
   "name": "python",
   "nbconvert_exporter": "python",
   "pygments_lexer": "ipython3",
   "version": "3.12.0"
  }
 },
 "nbformat": 4,
 "nbformat_minor": 5
}
