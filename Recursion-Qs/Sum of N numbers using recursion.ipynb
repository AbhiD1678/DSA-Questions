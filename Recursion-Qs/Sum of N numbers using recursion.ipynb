{
 "cells": [
  {
   "cell_type": "code",
   "execution_count": null,
   "id": "bf0503ec",
   "metadata": {},
   "outputs": [],
   "source": [
    "'''\n",
    "You are given a number n. You need to recursively sum the numbers from 1 to n and return the sum.\n",
    "\n",
    "Example 1:\n",
    "\n",
    "Input:\n",
    "n = 5\n",
    "Output: 15\n",
    "Example 2:\n",
    "\n",
    "Input:\n",
    "n = 4\n",
    "Output: 10\n",
    "Your Task:\n",
    "\n",
    "Complete the function recursiveSum that takes n as paramenter and return the sum.\n",
    "\n",
    "Expected Time Complexity: O(N).\n",
    "Expected Auxiliary Space: O(N) (Recursive).\n",
    "'''\n",
    "\n",
    "class Solution:\n",
    "    def recursiveSum(self,n):\n",
    "        #code here\n",
    "        if n<=0:\n",
    "            return 0\n",
    "        return n+self.recursiveSum(n-1)\n",
    "        \n"
   ]
  },
  {
   "cell_type": "code",
   "execution_count": null,
   "id": "259b712e",
   "metadata": {},
   "outputs": [],
   "source": []
  }
 ],
 "metadata": {
  "kernelspec": {
   "display_name": "Python 3 (ipykernel)",
   "language": "python",
   "name": "python3"
  },
  "language_info": {
   "codemirror_mode": {
    "name": "ipython",
    "version": 3
   },
   "file_extension": ".py",
   "mimetype": "text/x-python",
   "name": "python",
   "nbconvert_exporter": "python",
   "pygments_lexer": "ipython3",
   "version": "3.11.4"
  }
 },
 "nbformat": 4,
 "nbformat_minor": 5
}
