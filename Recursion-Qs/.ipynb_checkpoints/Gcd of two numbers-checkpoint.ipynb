{
 "cells": [
  {
   "cell_type": "code",
   "execution_count": null,
   "id": "3de4609c",
   "metadata": {},
   "outputs": [],
   "source": [
    "'''\n",
    "You are given a two numbers a and b. Find their GCD using recursion.\n",
    "\n",
    "Example 1:\n",
    "\n",
    "Input:\n",
    "a = 7, b = 8\n",
    "Output: 1\n",
    "Example 2:\n",
    "\n",
    "Input:\n",
    "a = 2, b = 4\n",
    "Output: 2\n",
    "Your Task:\n",
    "\n",
    "Complete the function GCD that takes a and b as parameters and returns the GCD.\n",
    "\n",
    "Expected Time Complexity: O(Log(N)).\n",
    "Expected Auxiliary Space: O(Log(N)) (Recursive).\n",
    "'''\n",
    "\n",
    "class Solution:\n",
    "    def GCD(self,a,b):\n",
    "        #code here\n",
    "        gcd=1\n",
    "        for i in range(1,min(a,b)+1):\n",
    "            \n",
    "            if a%i==0 and b%i==0:\n",
    "                gcd=i\n",
    "        return gcd"
   ]
  },
  {
   "cell_type": "code",
   "execution_count": null,
   "id": "c25d7624",
   "metadata": {},
   "outputs": [],
   "source": [
    "#M2\n",
    "class Solution:\n",
    "    def GCD(self,a,b):\n",
    "        #code here\n",
    "        if b==0:\n",
    "            return a\n",
    "        return self.GCD(b,a%b)\n"
   ]
  }
 ],
 "metadata": {
  "kernelspec": {
   "display_name": "Python 3 (ipykernel)",
   "language": "python",
   "name": "python3"
  },
  "language_info": {
   "codemirror_mode": {
    "name": "ipython",
    "version": 3
   },
   "file_extension": ".py",
   "mimetype": "text/x-python",
   "name": "python",
   "nbconvert_exporter": "python",
   "pygments_lexer": "ipython3",
   "version": "3.11.4"
  }
 },
 "nbformat": 4,
 "nbformat_minor": 5
}
