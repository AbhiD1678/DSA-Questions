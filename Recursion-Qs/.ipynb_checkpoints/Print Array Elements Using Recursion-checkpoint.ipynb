{
 "cells": [
  {
   "cell_type": "code",
   "execution_count": null,
   "id": "f2aca7be",
   "metadata": {},
   "outputs": [],
   "source": [
    "'''\n",
    "You are given an array arr of size n. You need to print the array elements from start to end using given recursive function.\n",
    "\n",
    "\n",
    "Example 1:\n",
    "\n",
    "Input:\n",
    "n = 5\n",
    "arr[] = {1,2,3,4,5}\n",
    "Output: 1 2 3 4 5\n",
    "\n",
    "Example 2:\n",
    "\n",
    "Input:\n",
    "n = 4\n",
    "arr[] = {5,4,2,1}\n",
    "Output: 5 4 2 1\n",
    " \n",
    "\n",
    "Your Task:\n",
    "Complete the function printArrayRecursively() that takes array and size n as parameters and prints the array elements recursively. The newline is provided by driver code.\n",
    "\n",
    "\n",
    "Expected Time Complexity: O(N).\n",
    "Expected Auxiliary Space: O(N) (Recursive).\n",
    "\n",
    "\n",
    "Constraints:\n",
    "1 <= n <= 100\n",
    "\n",
    "\n",
    "'''\n",
    "\n",
    "class Solution:\n",
    "    def printArrayRecursively(self,arr,n):\n",
    "        #code here\n",
    "        if n==0:\n",
    "            return\n",
    "        self.printArrayRecursively(arr,n-1)\n",
    "        print(arr[n-1],end=' ')"
   ]
  }
 ],
 "metadata": {
  "kernelspec": {
   "display_name": "Python 3 (ipykernel)",
   "language": "python",
   "name": "python3"
  },
  "language_info": {
   "codemirror_mode": {
    "name": "ipython",
    "version": 3
   },
   "file_extension": ".py",
   "mimetype": "text/x-python",
   "name": "python",
   "nbconvert_exporter": "python",
   "pygments_lexer": "ipython3",
   "version": "3.11.4"
  }
 },
 "nbformat": 4,
 "nbformat_minor": 5
}
