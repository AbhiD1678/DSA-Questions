{
 "cells": [
  {
   "cell_type": "code",
   "execution_count": 8,
   "id": "45254751",
   "metadata": {},
   "outputs": [
    {
     "data": {
      "text/plain": [
       "10"
      ]
     },
     "execution_count": 8,
     "metadata": {},
     "output_type": "execute_result"
    }
   ],
   "source": [
    "def SumOfDigits(n):\n",
    "    if n<10:\n",
    "        return n\n",
    "    return SumOfDigits(n//10)+n%10\n",
    "SumOfDigits(235)\n"
   ]
  },
  {
   "cell_type": "code",
   "execution_count": 9,
   "id": "d2fcd797",
   "metadata": {},
   "outputs": [
    {
     "data": {
      "text/plain": [
       "21"
      ]
     },
     "execution_count": 9,
     "metadata": {},
     "output_type": "execute_result"
    }
   ],
   "source": [
    "SumOfDigits(984)"
   ]
  },
  {
   "cell_type": "code",
   "execution_count": 10,
   "id": "77c27cdd",
   "metadata": {},
   "outputs": [
    {
     "data": {
      "text/plain": [
       "13"
      ]
     },
     "execution_count": 10,
     "metadata": {},
     "output_type": "execute_result"
    }
   ],
   "source": [
    "#M2\n",
    "def DSum(n):\n",
    "    if n<=0:\n",
    "        return 0\n",
    "    return DSum(n//10)+n%10\n",
    "DSum(238)"
   ]
  },
  {
   "cell_type": "code",
   "execution_count": null,
   "id": "17a8521b",
   "metadata": {},
   "outputs": [],
   "source": []
  }
 ],
 "metadata": {
  "kernelspec": {
   "display_name": "Python 3 (ipykernel)",
   "language": "python",
   "name": "python3"
  },
  "language_info": {
   "codemirror_mode": {
    "name": "ipython",
    "version": 3
   },
   "file_extension": ".py",
   "mimetype": "text/x-python",
   "name": "python",
   "nbconvert_exporter": "python",
   "pygments_lexer": "ipython3",
   "version": "3.11.4"
  }
 },
 "nbformat": 4,
 "nbformat_minor": 5
}
