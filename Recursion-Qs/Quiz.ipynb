{
 "cells": [
  {
   "cell_type": "code",
   "execution_count": 1,
   "id": "e95ea13a",
   "metadata": {},
   "outputs": [
    {
     "data": {
      "text/plain": [
       "13"
      ]
     },
     "execution_count": 1,
     "metadata": {},
     "output_type": "execute_result"
    }
   ],
   "source": [
    "def function(x,y):\n",
    "    \n",
    "    if x==0:\n",
    "        return y\n",
    "    else:\n",
    "        return function(x-1,x+y)\n",
    "function(4,3)"
   ]
  },
  {
   "cell_type": "code",
   "execution_count": 2,
   "id": "77ed6cc7",
   "metadata": {},
   "outputs": [
    {
     "name": "stdout",
     "output_type": "stream",
     "text": [
      "1000\n",
      "2000\n",
      "4000\n",
      "4000\n",
      "2000\n",
      "1000\n"
     ]
    }
   ],
   "source": [
    "def function(n):\n",
    "    if n>4000:\n",
    "        return\n",
    "    print(n)\n",
    "    function(n*2)\n",
    "    print(n)\n",
    "function(1000)"
   ]
  },
  {
   "cell_type": "code",
   "execution_count": 3,
   "id": "80e277fc",
   "metadata": {},
   "outputs": [
    {
     "data": {
      "text/plain": [
       "5"
      ]
     },
     "execution_count": 3,
     "metadata": {},
     "output_type": "execute_result"
    }
   ],
   "source": [
    "def f(n):\n",
    "    if n<=1:\n",
    "        return 1\n",
    "    if n%2==0:\n",
    "        return f(n//2)\n",
    "    return f(n//2)+f(n//2+1)\n",
    "f(11)"
   ]
  },
  {
   "cell_type": "code",
   "execution_count": 4,
   "id": "923c6a5e",
   "metadata": {},
   "outputs": [
    {
     "data": {
      "text/plain": [
       "16"
      ]
     },
     "execution_count": 4,
     "metadata": {},
     "output_type": "execute_result"
    }
   ],
   "source": [
    "def function(n):\n",
    "    if n==4:\n",
    "        return n\n",
    "    else:\n",
    "        return 2*function(n+1)\n",
    "function(2)"
   ]
  },
  {
   "cell_type": "code",
   "execution_count": 7,
   "id": "adf24a78",
   "metadata": {},
   "outputs": [],
   "source": [
    "def function(x,y):\n",
    "    if y==0:\n",
    "        return 0\n",
    "    return(x+function(x,y-1))\n",
    "\n"
   ]
  },
  {
   "cell_type": "code",
   "execution_count": 8,
   "id": "ee4dfd33",
   "metadata": {},
   "outputs": [
    {
     "data": {
      "text/plain": [
       "6"
      ]
     },
     "execution_count": 8,
     "metadata": {},
     "output_type": "execute_result"
    }
   ],
   "source": [
    "function(3,2)"
   ]
  },
  {
   "cell_type": "code",
   "execution_count": 9,
   "id": "14a6c015",
   "metadata": {},
   "outputs": [
    {
     "data": {
      "text/plain": [
       "15"
      ]
     },
     "execution_count": 9,
     "metadata": {},
     "output_type": "execute_result"
    }
   ],
   "source": [
    "function(5,3)"
   ]
  },
  {
   "cell_type": "code",
   "execution_count": 12,
   "id": "52817add",
   "metadata": {},
   "outputs": [
    {
     "name": "stdout",
     "output_type": "stream",
     "text": [
      "a\n",
      "a\n",
      "a\n",
      "a\n",
      "a\n",
      "a\n",
      "a\n",
      "a\n",
      "a\n",
      "a\n"
     ]
    }
   ],
   "source": [
    "def function(x):\n",
    "    if x==0:\n",
    "        return\n",
    "    else:\n",
    "        print('a')\n",
    "        return function(x-1)\n",
    "function(10)"
   ]
  },
  {
   "cell_type": "code",
   "execution_count": 13,
   "id": "69a85f10",
   "metadata": {},
   "outputs": [
    {
     "name": "stdout",
     "output_type": "stream",
     "text": [
      "1\n",
      "0\n",
      "0\n",
      "1\n",
      "1\n"
     ]
    }
   ],
   "source": [
    "def function(n):\n",
    "    if n==0:\n",
    "        return\n",
    "    print(n%2)\n",
    "    function(n//2)\n",
    "function(25)"
   ]
  },
  {
   "cell_type": "code",
   "execution_count": 14,
   "id": "3a9811ae",
   "metadata": {},
   "outputs": [
    {
     "name": "stdout",
     "output_type": "stream",
     "text": [
      "30\n"
     ]
    }
   ],
   "source": [
    "def function(n):\n",
    "    if n>0:\n",
    "        return (n+function(n-2))\n",
    "    \n",
    "    else:\n",
    "        return 0\n",
    "print(function(10))"
   ]
  },
  {
   "cell_type": "code",
   "execution_count": null,
   "id": "d4713027",
   "metadata": {},
   "outputs": [],
   "source": []
  }
 ],
 "metadata": {
  "kernelspec": {
   "display_name": "Python 3 (ipykernel)",
   "language": "python",
   "name": "python3"
  },
  "language_info": {
   "codemirror_mode": {
    "name": "ipython",
    "version": 3
   },
   "file_extension": ".py",
   "mimetype": "text/x-python",
   "name": "python",
   "nbconvert_exporter": "python",
   "pygments_lexer": "ipython3",
   "version": "3.11.4"
  }
 },
 "nbformat": 4,
 "nbformat_minor": 5
}
